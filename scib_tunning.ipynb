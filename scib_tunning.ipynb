{
 "cells": [
  {
   "cell_type": "code",
   "execution_count": 73,
   "id": "ea55e848-ccae-44a9-acd2-c60d08b756c0",
   "metadata": {},
   "outputs": [],
   "source": [
    "import pandas as pd\n",
    "\n",
    "df = pd.read_csv('raw_training_df.csv')\n",
    "df.set_index('genes', inplace=True)\n",
    "df = df.T\n",
    "\n",
    "metadata = pd.read_csv('metadata.csv')\n",
    "metadata = metadata.set_index('sample_id')"
   ]
  },
  {
   "cell_type": "code",
   "execution_count": 74,
   "id": "17791fdc-6b6b-4c13-931c-d07880b73b5a",
   "metadata": {},
   "outputs": [],
   "source": [
    "bio_tag = 'cell_type'\n",
    "batch_tag = 'prep_method_broad'"
   ]
  },
  {
   "cell_type": "code",
   "execution_count": 75,
   "id": "3e32c159-6523-40a5-8a04-c3d39dedeaf8",
   "metadata": {},
   "outputs": [],
   "source": [
    "import scanpy as sc\n",
    "\n",
    "adata = sc.AnnData(df)\n",
    "adata.obs = adata.obs.merge(metadata, left_index=True, right_index=True, how='left')"
   ]
  },
  {
   "cell_type": "code",
   "execution_count": 76,
   "metadata": {},
   "outputs": [
    {
     "data": {
      "text/html": [
       "<div>\n",
       "<style scoped>\n",
       "    .dataframe tbody tr th:only-of-type {\n",
       "        vertical-align: middle;\n",
       "    }\n",
       "\n",
       "    .dataframe tbody tr th {\n",
       "        vertical-align: top;\n",
       "    }\n",
       "\n",
       "    .dataframe thead th {\n",
       "        text-align: right;\n",
       "    }\n",
       "</style>\n",
       "<table border=\"1\" class=\"dataframe\">\n",
       "  <thead>\n",
       "    <tr style=\"text-align: right;\">\n",
       "      <th></th>\n",
       "      <th>dataset_id</th>\n",
       "      <th>cell_type</th>\n",
       "      <th>parental_cell_type</th>\n",
       "      <th>final_cell_type</th>\n",
       "      <th>disease_state</th>\n",
       "      <th>organism</th>\n",
       "      <th>sample_type</th>\n",
       "      <th>tissue_of_origin</th>\n",
       "      <th>sample_name_long</th>\n",
       "      <th>media</th>\n",
       "      <th>...</th>\n",
       "      <th>prep_method_broad</th>\n",
       "      <th>preparation_method</th>\n",
       "      <th>capture</th>\n",
       "      <th>fragmentation</th>\n",
       "      <th>stranded</th>\n",
       "      <th>sequencing_layout</th>\n",
       "      <th>average_read_length</th>\n",
       "      <th>sequencer</th>\n",
       "      <th>training_atlas</th>\n",
       "      <th>sample_id_without_datasetid</th>\n",
       "    </tr>\n",
       "  </thead>\n",
       "  <tbody>\n",
       "    <tr>\n",
       "      <th>1611_GSM2027310</th>\n",
       "      <td>1611</td>\n",
       "      <td>conventional dendritic cell</td>\n",
       "      <td>NaN</td>\n",
       "      <td>NaN</td>\n",
       "      <td>normal</td>\n",
       "      <td>homo sapiens</td>\n",
       "      <td>cDC2</td>\n",
       "      <td>blood</td>\n",
       "      <td>blood conventional dendritic cell type two (CD...</td>\n",
       "      <td>NaN</td>\n",
       "      <td>...</td>\n",
       "      <td>illumina_truseq</td>\n",
       "      <td>Illumina Truseq RNA Sample Prep v2</td>\n",
       "      <td>oligo-dT beads</td>\n",
       "      <td>RNA heat and buffer</td>\n",
       "      <td>non stranded</td>\n",
       "      <td>paired</td>\n",
       "      <td>51</td>\n",
       "      <td>Illumina HiSeq 2000</td>\n",
       "      <td>include</td>\n",
       "      <td>GSM2027310</td>\n",
       "    </tr>\n",
       "    <tr>\n",
       "      <th>1611_GSM2027311</th>\n",
       "      <td>1611</td>\n",
       "      <td>conventional dendritic cell</td>\n",
       "      <td>NaN</td>\n",
       "      <td>NaN</td>\n",
       "      <td>normal</td>\n",
       "      <td>homo sapiens</td>\n",
       "      <td>cDC1</td>\n",
       "      <td>blood</td>\n",
       "      <td>blood conventional dendritic cell type one (CD...</td>\n",
       "      <td>NaN</td>\n",
       "      <td>...</td>\n",
       "      <td>illumina_truseq</td>\n",
       "      <td>Illumina Truseq RNA Sample Prep v2</td>\n",
       "      <td>oligo-dT beads</td>\n",
       "      <td>RNA heat and buffer</td>\n",
       "      <td>non stranded</td>\n",
       "      <td>paired</td>\n",
       "      <td>51</td>\n",
       "      <td>Illumina HiSeq 2000</td>\n",
       "      <td>include</td>\n",
       "      <td>GSM2027311</td>\n",
       "    </tr>\n",
       "    <tr>\n",
       "      <th>1611_GSM2027312</th>\n",
       "      <td>1611</td>\n",
       "      <td>plasmacytoid dendritic cell</td>\n",
       "      <td>NaN</td>\n",
       "      <td>NaN</td>\n",
       "      <td>normal</td>\n",
       "      <td>homo sapiens</td>\n",
       "      <td>pDC</td>\n",
       "      <td>blood</td>\n",
       "      <td>blood plasmacytoid dendritic cell (CD2-negative)</td>\n",
       "      <td>NaN</td>\n",
       "      <td>...</td>\n",
       "      <td>illumina_truseq</td>\n",
       "      <td>Illumina Truseq RNA Sample Prep v2</td>\n",
       "      <td>oligo-dT beads</td>\n",
       "      <td>RNA heat and buffer</td>\n",
       "      <td>non stranded</td>\n",
       "      <td>paired</td>\n",
       "      <td>51</td>\n",
       "      <td>Illumina HiSeq 2000</td>\n",
       "      <td>include</td>\n",
       "      <td>GSM2027312</td>\n",
       "    </tr>\n",
       "    <tr>\n",
       "      <th>1611_GSM2027313</th>\n",
       "      <td>1611</td>\n",
       "      <td>plasmacytoid dendritic cell</td>\n",
       "      <td>NaN</td>\n",
       "      <td>NaN</td>\n",
       "      <td>normal</td>\n",
       "      <td>homo sapiens</td>\n",
       "      <td>pDC</td>\n",
       "      <td>blood</td>\n",
       "      <td>blood plasmacytoid dendritic cell (CD2-positive)</td>\n",
       "      <td>NaN</td>\n",
       "      <td>...</td>\n",
       "      <td>illumina_truseq</td>\n",
       "      <td>Illumina Truseq RNA Sample Prep v2</td>\n",
       "      <td>oligo-dT beads</td>\n",
       "      <td>RNA heat and buffer</td>\n",
       "      <td>non stranded</td>\n",
       "      <td>paired</td>\n",
       "      <td>50</td>\n",
       "      <td>Illumina HiSeq 2000</td>\n",
       "      <td>include</td>\n",
       "      <td>GSM2027313</td>\n",
       "    </tr>\n",
       "    <tr>\n",
       "      <th>1611_GSM2027314</th>\n",
       "      <td>1611</td>\n",
       "      <td>conventional dendritic cell</td>\n",
       "      <td>NaN</td>\n",
       "      <td>NaN</td>\n",
       "      <td>normal</td>\n",
       "      <td>homo sapiens</td>\n",
       "      <td>cDC2</td>\n",
       "      <td>blood</td>\n",
       "      <td>blood conventional dendritic cell type two (CD...</td>\n",
       "      <td>NaN</td>\n",
       "      <td>...</td>\n",
       "      <td>illumina_truseq</td>\n",
       "      <td>Illumina Truseq RNA Sample Prep v2</td>\n",
       "      <td>oligo-dT beads</td>\n",
       "      <td>RNA heat and buffer</td>\n",
       "      <td>non stranded</td>\n",
       "      <td>paired</td>\n",
       "      <td>51</td>\n",
       "      <td>Illumina HiSeq 2000</td>\n",
       "      <td>include</td>\n",
       "      <td>GSM2027314</td>\n",
       "    </tr>\n",
       "    <tr>\n",
       "      <th>...</th>\n",
       "      <td>...</td>\n",
       "      <td>...</td>\n",
       "      <td>...</td>\n",
       "      <td>...</td>\n",
       "      <td>...</td>\n",
       "      <td>...</td>\n",
       "      <td>...</td>\n",
       "      <td>...</td>\n",
       "      <td>...</td>\n",
       "      <td>...</td>\n",
       "      <td>...</td>\n",
       "      <td>...</td>\n",
       "      <td>...</td>\n",
       "      <td>...</td>\n",
       "      <td>...</td>\n",
       "      <td>...</td>\n",
       "      <td>...</td>\n",
       "      <td>...</td>\n",
       "      <td>...</td>\n",
       "      <td>...</td>\n",
       "      <td>...</td>\n",
       "    </tr>\n",
       "    <tr>\n",
       "      <th>9798_Kolf2_iMacs_UT_16h_2_01</th>\n",
       "      <td>9798</td>\n",
       "      <td>macrophage</td>\n",
       "      <td>induced pluripotent stem cell</td>\n",
       "      <td>macrophage</td>\n",
       "      <td>normal</td>\n",
       "      <td>homo sapiens</td>\n",
       "      <td>UT_16h</td>\n",
       "      <td>NaN</td>\n",
       "      <td>induced pluripotent stem cell derived macropha...</td>\n",
       "      <td>TBC</td>\n",
       "      <td>...</td>\n",
       "      <td>hudson</td>\n",
       "      <td>Hudson</td>\n",
       "      <td>unknown</td>\n",
       "      <td>unknown</td>\n",
       "      <td>unknown</td>\n",
       "      <td>unknown</td>\n",
       "      <td>unknown</td>\n",
       "      <td>unknown</td>\n",
       "      <td>include</td>\n",
       "      <td>Kolf2</td>\n",
       "    </tr>\n",
       "    <tr>\n",
       "      <th>9798_Kolf2_iMacs_UT_16h_3_01</th>\n",
       "      <td>9798</td>\n",
       "      <td>macrophage</td>\n",
       "      <td>induced pluripotent stem cell</td>\n",
       "      <td>macrophage</td>\n",
       "      <td>normal</td>\n",
       "      <td>homo sapiens</td>\n",
       "      <td>UT_16h</td>\n",
       "      <td>NaN</td>\n",
       "      <td>induced pluripotent stem cell derived macropha...</td>\n",
       "      <td>TBC</td>\n",
       "      <td>...</td>\n",
       "      <td>hudson</td>\n",
       "      <td>Hudson</td>\n",
       "      <td>unknown</td>\n",
       "      <td>unknown</td>\n",
       "      <td>unknown</td>\n",
       "      <td>unknown</td>\n",
       "      <td>unknown</td>\n",
       "      <td>unknown</td>\n",
       "      <td>include</td>\n",
       "      <td>Kolf2</td>\n",
       "    </tr>\n",
       "    <tr>\n",
       "      <th>9798_Kolf2_iMacs_UT_6h_1_01</th>\n",
       "      <td>9798</td>\n",
       "      <td>macrophage</td>\n",
       "      <td>induced pluripotent stem cell</td>\n",
       "      <td>macrophage</td>\n",
       "      <td>normal</td>\n",
       "      <td>homo sapiens</td>\n",
       "      <td>UT_6h</td>\n",
       "      <td>NaN</td>\n",
       "      <td>induced pluripotent stem cell derived macropha...</td>\n",
       "      <td>TBC</td>\n",
       "      <td>...</td>\n",
       "      <td>hudson</td>\n",
       "      <td>Hudson</td>\n",
       "      <td>unknown</td>\n",
       "      <td>unknown</td>\n",
       "      <td>unknown</td>\n",
       "      <td>unknown</td>\n",
       "      <td>unknown</td>\n",
       "      <td>unknown</td>\n",
       "      <td>include</td>\n",
       "      <td>Kolf2</td>\n",
       "    </tr>\n",
       "    <tr>\n",
       "      <th>9798_Kolf2_iMacs_UT_6h_2_01</th>\n",
       "      <td>9798</td>\n",
       "      <td>macrophage</td>\n",
       "      <td>induced pluripotent stem cell</td>\n",
       "      <td>macrophage</td>\n",
       "      <td>normal</td>\n",
       "      <td>homo sapiens</td>\n",
       "      <td>UT_6h</td>\n",
       "      <td>NaN</td>\n",
       "      <td>induced pluripotent stem cell derived macropha...</td>\n",
       "      <td>TBC</td>\n",
       "      <td>...</td>\n",
       "      <td>hudson</td>\n",
       "      <td>Hudson</td>\n",
       "      <td>unknown</td>\n",
       "      <td>unknown</td>\n",
       "      <td>unknown</td>\n",
       "      <td>unknown</td>\n",
       "      <td>unknown</td>\n",
       "      <td>unknown</td>\n",
       "      <td>include</td>\n",
       "      <td>Kolf2</td>\n",
       "    </tr>\n",
       "    <tr>\n",
       "      <th>9798_Kolf2_iMacs_UT_6h_3_01</th>\n",
       "      <td>9798</td>\n",
       "      <td>macrophage</td>\n",
       "      <td>induced pluripotent stem cell</td>\n",
       "      <td>macrophage</td>\n",
       "      <td>normal</td>\n",
       "      <td>homo sapiens</td>\n",
       "      <td>UT_6h</td>\n",
       "      <td>NaN</td>\n",
       "      <td>induced pluripotent stem cell derived macropha...</td>\n",
       "      <td>TBC</td>\n",
       "      <td>...</td>\n",
       "      <td>hudson</td>\n",
       "      <td>Hudson</td>\n",
       "      <td>unknown</td>\n",
       "      <td>unknown</td>\n",
       "      <td>unknown</td>\n",
       "      <td>unknown</td>\n",
       "      <td>unknown</td>\n",
       "      <td>unknown</td>\n",
       "      <td>include</td>\n",
       "      <td>Kolf2</td>\n",
       "    </tr>\n",
       "  </tbody>\n",
       "</table>\n",
       "<p>554 rows × 35 columns</p>\n",
       "</div>"
      ],
      "text/plain": [
       "                              dataset_id                    cell_type  \\\n",
       "1611_GSM2027310                     1611  conventional dendritic cell   \n",
       "1611_GSM2027311                     1611  conventional dendritic cell   \n",
       "1611_GSM2027312                     1611  plasmacytoid dendritic cell   \n",
       "1611_GSM2027313                     1611  plasmacytoid dendritic cell   \n",
       "1611_GSM2027314                     1611  conventional dendritic cell   \n",
       "...                                  ...                          ...   \n",
       "9798_Kolf2_iMacs_UT_16h_2_01        9798                   macrophage   \n",
       "9798_Kolf2_iMacs_UT_16h_3_01        9798                   macrophage   \n",
       "9798_Kolf2_iMacs_UT_6h_1_01         9798                   macrophage   \n",
       "9798_Kolf2_iMacs_UT_6h_2_01         9798                   macrophage   \n",
       "9798_Kolf2_iMacs_UT_6h_3_01         9798                   macrophage   \n",
       "\n",
       "                                         parental_cell_type final_cell_type  \\\n",
       "1611_GSM2027310                                         NaN             NaN   \n",
       "1611_GSM2027311                                         NaN             NaN   \n",
       "1611_GSM2027312                                         NaN             NaN   \n",
       "1611_GSM2027313                                         NaN             NaN   \n",
       "1611_GSM2027314                                         NaN             NaN   \n",
       "...                                                     ...             ...   \n",
       "9798_Kolf2_iMacs_UT_16h_2_01  induced pluripotent stem cell      macrophage   \n",
       "9798_Kolf2_iMacs_UT_16h_3_01  induced pluripotent stem cell      macrophage   \n",
       "9798_Kolf2_iMacs_UT_6h_1_01   induced pluripotent stem cell      macrophage   \n",
       "9798_Kolf2_iMacs_UT_6h_2_01   induced pluripotent stem cell      macrophage   \n",
       "9798_Kolf2_iMacs_UT_6h_3_01   induced pluripotent stem cell      macrophage   \n",
       "\n",
       "                             disease_state      organism sample_type  \\\n",
       "1611_GSM2027310                     normal  homo sapiens        cDC2   \n",
       "1611_GSM2027311                     normal  homo sapiens        cDC1   \n",
       "1611_GSM2027312                     normal  homo sapiens         pDC   \n",
       "1611_GSM2027313                     normal  homo sapiens         pDC   \n",
       "1611_GSM2027314                     normal  homo sapiens        cDC2   \n",
       "...                                    ...           ...         ...   \n",
       "9798_Kolf2_iMacs_UT_16h_2_01        normal  homo sapiens      UT_16h   \n",
       "9798_Kolf2_iMacs_UT_16h_3_01        normal  homo sapiens      UT_16h   \n",
       "9798_Kolf2_iMacs_UT_6h_1_01         normal  homo sapiens       UT_6h   \n",
       "9798_Kolf2_iMacs_UT_6h_2_01         normal  homo sapiens       UT_6h   \n",
       "9798_Kolf2_iMacs_UT_6h_3_01         normal  homo sapiens       UT_6h   \n",
       "\n",
       "                             tissue_of_origin  \\\n",
       "1611_GSM2027310                         blood   \n",
       "1611_GSM2027311                         blood   \n",
       "1611_GSM2027312                         blood   \n",
       "1611_GSM2027313                         blood   \n",
       "1611_GSM2027314                         blood   \n",
       "...                                       ...   \n",
       "9798_Kolf2_iMacs_UT_16h_2_01              NaN   \n",
       "9798_Kolf2_iMacs_UT_16h_3_01              NaN   \n",
       "9798_Kolf2_iMacs_UT_6h_1_01               NaN   \n",
       "9798_Kolf2_iMacs_UT_6h_2_01               NaN   \n",
       "9798_Kolf2_iMacs_UT_6h_3_01               NaN   \n",
       "\n",
       "                                                               sample_name_long  \\\n",
       "1611_GSM2027310               blood conventional dendritic cell type two (CD...   \n",
       "1611_GSM2027311               blood conventional dendritic cell type one (CD...   \n",
       "1611_GSM2027312                blood plasmacytoid dendritic cell (CD2-negative)   \n",
       "1611_GSM2027313                blood plasmacytoid dendritic cell (CD2-positive)   \n",
       "1611_GSM2027314               blood conventional dendritic cell type two (CD...   \n",
       "...                                                                         ...   \n",
       "9798_Kolf2_iMacs_UT_16h_2_01  induced pluripotent stem cell derived macropha...   \n",
       "9798_Kolf2_iMacs_UT_16h_3_01  induced pluripotent stem cell derived macropha...   \n",
       "9798_Kolf2_iMacs_UT_6h_1_01   induced pluripotent stem cell derived macropha...   \n",
       "9798_Kolf2_iMacs_UT_6h_2_01   induced pluripotent stem cell derived macropha...   \n",
       "9798_Kolf2_iMacs_UT_6h_3_01   induced pluripotent stem cell derived macropha...   \n",
       "\n",
       "                             media  ... prep_method_broad  \\\n",
       "1611_GSM2027310                NaN  ...   illumina_truseq   \n",
       "1611_GSM2027311                NaN  ...   illumina_truseq   \n",
       "1611_GSM2027312                NaN  ...   illumina_truseq   \n",
       "1611_GSM2027313                NaN  ...   illumina_truseq   \n",
       "1611_GSM2027314                NaN  ...   illumina_truseq   \n",
       "...                            ...  ...               ...   \n",
       "9798_Kolf2_iMacs_UT_16h_2_01   TBC  ...            hudson   \n",
       "9798_Kolf2_iMacs_UT_16h_3_01   TBC  ...            hudson   \n",
       "9798_Kolf2_iMacs_UT_6h_1_01    TBC  ...            hudson   \n",
       "9798_Kolf2_iMacs_UT_6h_2_01    TBC  ...            hudson   \n",
       "9798_Kolf2_iMacs_UT_6h_3_01    TBC  ...            hudson   \n",
       "\n",
       "                                              preparation_method  \\\n",
       "1611_GSM2027310               Illumina Truseq RNA Sample Prep v2   \n",
       "1611_GSM2027311               Illumina Truseq RNA Sample Prep v2   \n",
       "1611_GSM2027312               Illumina Truseq RNA Sample Prep v2   \n",
       "1611_GSM2027313               Illumina Truseq RNA Sample Prep v2   \n",
       "1611_GSM2027314               Illumina Truseq RNA Sample Prep v2   \n",
       "...                                                          ...   \n",
       "9798_Kolf2_iMacs_UT_16h_2_01                              Hudson   \n",
       "9798_Kolf2_iMacs_UT_16h_3_01                              Hudson   \n",
       "9798_Kolf2_iMacs_UT_6h_1_01                               Hudson   \n",
       "9798_Kolf2_iMacs_UT_6h_2_01                               Hudson   \n",
       "9798_Kolf2_iMacs_UT_6h_3_01                               Hudson   \n",
       "\n",
       "                                     capture        fragmentation  \\\n",
       "1611_GSM2027310               oligo-dT beads  RNA heat and buffer   \n",
       "1611_GSM2027311               oligo-dT beads  RNA heat and buffer   \n",
       "1611_GSM2027312               oligo-dT beads  RNA heat and buffer   \n",
       "1611_GSM2027313               oligo-dT beads  RNA heat and buffer   \n",
       "1611_GSM2027314               oligo-dT beads  RNA heat and buffer   \n",
       "...                                      ...                  ...   \n",
       "9798_Kolf2_iMacs_UT_16h_2_01         unknown              unknown   \n",
       "9798_Kolf2_iMacs_UT_16h_3_01         unknown              unknown   \n",
       "9798_Kolf2_iMacs_UT_6h_1_01          unknown              unknown   \n",
       "9798_Kolf2_iMacs_UT_6h_2_01          unknown              unknown   \n",
       "9798_Kolf2_iMacs_UT_6h_3_01          unknown              unknown   \n",
       "\n",
       "                                  stranded sequencing_layout  \\\n",
       "1611_GSM2027310               non stranded            paired   \n",
       "1611_GSM2027311               non stranded            paired   \n",
       "1611_GSM2027312               non stranded            paired   \n",
       "1611_GSM2027313               non stranded            paired   \n",
       "1611_GSM2027314               non stranded            paired   \n",
       "...                                    ...               ...   \n",
       "9798_Kolf2_iMacs_UT_16h_2_01       unknown           unknown   \n",
       "9798_Kolf2_iMacs_UT_16h_3_01       unknown           unknown   \n",
       "9798_Kolf2_iMacs_UT_6h_1_01        unknown           unknown   \n",
       "9798_Kolf2_iMacs_UT_6h_2_01        unknown           unknown   \n",
       "9798_Kolf2_iMacs_UT_6h_3_01        unknown           unknown   \n",
       "\n",
       "                             average_read_length            sequencer  \\\n",
       "1611_GSM2027310                               51  Illumina HiSeq 2000   \n",
       "1611_GSM2027311                               51  Illumina HiSeq 2000   \n",
       "1611_GSM2027312                               51  Illumina HiSeq 2000   \n",
       "1611_GSM2027313                               50  Illumina HiSeq 2000   \n",
       "1611_GSM2027314                               51  Illumina HiSeq 2000   \n",
       "...                                          ...                  ...   \n",
       "9798_Kolf2_iMacs_UT_16h_2_01             unknown              unknown   \n",
       "9798_Kolf2_iMacs_UT_16h_3_01             unknown              unknown   \n",
       "9798_Kolf2_iMacs_UT_6h_1_01              unknown              unknown   \n",
       "9798_Kolf2_iMacs_UT_6h_2_01              unknown              unknown   \n",
       "9798_Kolf2_iMacs_UT_6h_3_01              unknown              unknown   \n",
       "\n",
       "                             training_atlas sample_id_without_datasetid  \n",
       "1611_GSM2027310                     include                  GSM2027310  \n",
       "1611_GSM2027311                     include                  GSM2027311  \n",
       "1611_GSM2027312                     include                  GSM2027312  \n",
       "1611_GSM2027313                     include                  GSM2027313  \n",
       "1611_GSM2027314                     include                  GSM2027314  \n",
       "...                                     ...                         ...  \n",
       "9798_Kolf2_iMacs_UT_16h_2_01        include                       Kolf2  \n",
       "9798_Kolf2_iMacs_UT_16h_3_01        include                       Kolf2  \n",
       "9798_Kolf2_iMacs_UT_6h_1_01         include                       Kolf2  \n",
       "9798_Kolf2_iMacs_UT_6h_2_01         include                       Kolf2  \n",
       "9798_Kolf2_iMacs_UT_6h_3_01         include                       Kolf2  \n",
       "\n",
       "[554 rows x 35 columns]"
      ]
     },
     "execution_count": 76,
     "metadata": {},
     "output_type": "execute_result"
    }
   ],
   "source": [
    "adata.obs"
   ]
  },
  {
   "cell_type": "code",
   "execution_count": 77,
   "id": "b7406ec8-264a-4e33-914c-577fc5410e93",
   "metadata": {},
   "outputs": [],
   "source": [
    "from scib_metrics.benchmark import Benchmarker"
   ]
  },
  {
   "cell_type": "code",
   "execution_count": 78,
   "id": "b8cf0363-4276-4363-88f8-3bf24b4f4cdc",
   "metadata": {},
   "outputs": [
    {
     "data": {
      "text/plain": [
       "'gpu'"
      ]
     },
     "execution_count": 78,
     "metadata": {},
     "output_type": "execute_result"
    }
   ],
   "source": [
    "import torch\n",
    "device = 'gpu' if torch.cuda.is_available() else 'cpu'\n",
    "device"
   ]
  },
  {
   "cell_type": "code",
   "execution_count": 79,
   "id": "3af539be-f7ba-4c5a-b223-1dc773075863",
   "metadata": {},
   "outputs": [
    {
     "name": "stdout",
     "output_type": "stream",
     "text": [
      "\n",
      "Training model run 1/20\n",
      "\n"
     ]
    },
    {
     "name": "stderr",
     "output_type": "stream",
     "text": [
      "/home/chzhan1/.local/lib/python3.9/site-packages/lightning/fabric/plugins/environments/slurm.py:191: PossibleUserWarning:\n",
      "\n",
      "The `srun` command is available on your system but is not used. HINT: If your intention is to run Lightning on SLURM, prepend your python command with `srun` like so: srun python /home/chzhan1/.local/lib/python3.9/site-packages/ipy ...\n",
      "\n",
      "GPU available: True (cuda), used: True\n",
      "TPU available: False, using: 0 TPU cores\n",
      "IPU available: False, using: 0 IPUs\n",
      "HPU available: False, using: 0 HPUs\n",
      "/home/chzhan1/.local/lib/python3.9/site-packages/lightning/fabric/plugins/environments/slurm.py:191: PossibleUserWarning:\n",
      "\n",
      "The `srun` command is available on your system but is not used. HINT: If your intention is to run Lightning on SLURM, prepend your python command with `srun` like so: srun python /home/chzhan1/.local/lib/python3.9/site-packages/ipy ...\n",
      "\n",
      "LOCAL_RANK: 0 - CUDA_VISIBLE_DEVICES: [0]\n",
      "/home/chzhan1/.local/lib/python3.9/site-packages/lightning/pytorch/trainer/connectors/data_connector.py:441: PossibleUserWarning:\n",
      "\n",
      "The 'train_dataloader' does not have many workers which may be a bottleneck. Consider increasing the value of the `num_workers` argument` to `num_workers=15` in the `DataLoader` to improve performance.\n",
      "\n",
      "/home/chzhan1/.local/lib/python3.9/site-packages/lightning/pytorch/loops/fit_loop.py:293: PossibleUserWarning:\n",
      "\n",
      "The number of training batches (4) is smaller than the logging interval Trainer(log_every_n_steps=10). Set a lower value for log_every_n_steps if you want to see logs for the training epoch.\n",
      "\n",
      "/home/chzhan1/.local/lib/python3.9/site-packages/lightning/pytorch/trainer/connectors/data_connector.py:441: PossibleUserWarning:\n",
      "\n",
      "The 'val_dataloader' does not have many workers which may be a bottleneck. Consider increasing the value of the `num_workers` argument` to `num_workers=15` in the `DataLoader` to improve performance.\n",
      "\n"
     ]
    },
    {
     "name": "stdout",
     "output_type": "stream",
     "text": [
      "Epoch 139/300:  46%|████▋     | 139/300 [00:06<00:08, 20.07it/s, v_num=1, train_loss_step=1.16e+5, train_loss_epoch=1.15e+5]\n",
      "Monitored metric elbo_validation did not improve in the last 45 records. Best score: 118655.883. Signaling Trainer to stop.\n"
     ]
    },
    {
     "name": "stderr",
     "output_type": "stream",
     "text": [
      "/home/chzhan1/.local/lib/python3.9/site-packages/scanpy/preprocessing/_pca.py:374: FutureWarning:\n",
      "\n",
      "Argument `use_highly_variable` is deprecated, consider using the mask argument. Use_highly_variable=True can be called through mask_var=\"highly_variable\". Use_highly_variable=False can be called through mask_var=None\n",
      "\n",
      "Computing neighbors: 100%|██████████| 1/1 [00:00<00:00,  4.39it/s]\n",
      "Embeddings:   0%|\u001b[32m          \u001b[0m| 0/1 [00:00<?, ?it/s]"
     ]
    },
    {
     "name": "stdout",
     "output_type": "stream",
     "text": [
      "\u001b[34mINFO    \u001b[0m fibroblast consists of a single batch or is too small. Skip.                                              \n"
     ]
    },
    {
     "name": "stderr",
     "output_type": "stream",
     "text": [
      "/home/chzhan1/.local/lib/python3.9/site-packages/scib_metrics/_kbet.py:181: FutureWarning:\n",
      "\n",
      "pandas.value_counts is deprecated and will be removed in a future version. Use pd.Series(obj).value_counts() instead.\n",
      "\n",
      "/home/chzhan1/.local/lib/python3.9/site-packages/scib_metrics/_kbet.py:181: FutureWarning:\n",
      "\n",
      "pandas.value_counts is deprecated and will be removed in a future version. Use pd.Series(obj).value_counts() instead.\n",
      "\n",
      "/home/chzhan1/.local/lib/python3.9/site-packages/scib_metrics/_graph_connectivity.py:30: FutureWarning:\n",
      "\n",
      "pandas.value_counts is deprecated and will be removed in a future version. Use pd.Series(obj).value_counts() instead.\n",
      "\n",
      "Embeddings: 100%|\u001b[32m██████████\u001b[0m| 1/1 [00:01<00:00,  1.11s/it]\n"
     ]
    },
    {
     "name": "stdout",
     "output_type": "stream",
     "text": [
      "\n",
      "This model's overall score: 0.6117555354237803\n",
      "\n",
      "New best model found!\n",
      "\n",
      "Training model run 2/20\n",
      "\n"
     ]
    },
    {
     "name": "stderr",
     "output_type": "stream",
     "text": [
      "/home/chzhan1/.local/lib/python3.9/site-packages/lightning/fabric/plugins/environments/slurm.py:191: PossibleUserWarning:\n",
      "\n",
      "The `srun` command is available on your system but is not used. HINT: If your intention is to run Lightning on SLURM, prepend your python command with `srun` like so: srun python /home/chzhan1/.local/lib/python3.9/site-packages/ipy ...\n",
      "\n",
      "GPU available: True (cuda), used: True\n",
      "TPU available: False, using: 0 TPU cores\n",
      "IPU available: False, using: 0 IPUs\n",
      "HPU available: False, using: 0 HPUs\n",
      "/home/chzhan1/.local/lib/python3.9/site-packages/lightning/fabric/plugins/environments/slurm.py:191: PossibleUserWarning:\n",
      "\n",
      "The `srun` command is available on your system but is not used. HINT: If your intention is to run Lightning on SLURM, prepend your python command with `srun` like so: srun python /home/chzhan1/.local/lib/python3.9/site-packages/ipy ...\n",
      "\n",
      "LOCAL_RANK: 0 - CUDA_VISIBLE_DEVICES: [0]\n",
      "/home/chzhan1/.local/lib/python3.9/site-packages/lightning/pytorch/trainer/connectors/data_connector.py:441: PossibleUserWarning:\n",
      "\n",
      "The 'train_dataloader' does not have many workers which may be a bottleneck. Consider increasing the value of the `num_workers` argument` to `num_workers=15` in the `DataLoader` to improve performance.\n",
      "\n",
      "/home/chzhan1/.local/lib/python3.9/site-packages/lightning/pytorch/loops/fit_loop.py:293: PossibleUserWarning:\n",
      "\n",
      "The number of training batches (4) is smaller than the logging interval Trainer(log_every_n_steps=10). Set a lower value for log_every_n_steps if you want to see logs for the training epoch.\n",
      "\n",
      "/home/chzhan1/.local/lib/python3.9/site-packages/lightning/pytorch/trainer/connectors/data_connector.py:441: PossibleUserWarning:\n",
      "\n",
      "The 'val_dataloader' does not have many workers which may be a bottleneck. Consider increasing the value of the `num_workers` argument` to `num_workers=15` in the `DataLoader` to improve performance.\n",
      "\n"
     ]
    },
    {
     "name": "stdout",
     "output_type": "stream",
     "text": [
      "Epoch 190/300:  63%|██████▎   | 190/300 [00:09<00:05, 20.82it/s, v_num=1, train_loss_step=1.14e+5, train_loss_epoch=1.14e+5]\n",
      "Monitored metric elbo_validation did not improve in the last 45 records. Best score: 121694.648. Signaling Trainer to stop.\n"
     ]
    },
    {
     "name": "stderr",
     "output_type": "stream",
     "text": [
      "/home/chzhan1/.local/lib/python3.9/site-packages/scanpy/preprocessing/_pca.py:374: FutureWarning:\n",
      "\n",
      "Argument `use_highly_variable` is deprecated, consider using the mask argument. Use_highly_variable=True can be called through mask_var=\"highly_variable\". Use_highly_variable=False can be called through mask_var=None\n",
      "\n",
      "Computing neighbors: 100%|██████████| 1/1 [00:00<00:00,  3.45it/s]\n",
      "Embeddings:   0%|\u001b[32m          \u001b[0m| 0/1 [00:00<?, ?it/s]"
     ]
    },
    {
     "name": "stdout",
     "output_type": "stream",
     "text": [
      "\u001b[34mINFO    \u001b[0m fibroblast consists of a single batch or is too small. Skip.                                              \n"
     ]
    },
    {
     "name": "stderr",
     "output_type": "stream",
     "text": [
      "/home/chzhan1/.local/lib/python3.9/site-packages/scib_metrics/_kbet.py:181: FutureWarning:\n",
      "\n",
      "pandas.value_counts is deprecated and will be removed in a future version. Use pd.Series(obj).value_counts() instead.\n",
      "\n",
      "/home/chzhan1/.local/lib/python3.9/site-packages/scib_metrics/_kbet.py:181: FutureWarning:\n",
      "\n",
      "pandas.value_counts is deprecated and will be removed in a future version. Use pd.Series(obj).value_counts() instead.\n",
      "\n",
      "/home/chzhan1/.local/lib/python3.9/site-packages/scib_metrics/_kbet.py:181: FutureWarning:\n",
      "\n",
      "pandas.value_counts is deprecated and will be removed in a future version. Use pd.Series(obj).value_counts() instead.\n",
      "\n",
      "/home/chzhan1/.local/lib/python3.9/site-packages/scib_metrics/_kbet.py:181: FutureWarning:\n",
      "\n",
      "pandas.value_counts is deprecated and will be removed in a future version. Use pd.Series(obj).value_counts() instead.\n",
      "\n",
      "/home/chzhan1/.local/lib/python3.9/site-packages/scib_metrics/_graph_connectivity.py:30: FutureWarning:\n",
      "\n",
      "pandas.value_counts is deprecated and will be removed in a future version. Use pd.Series(obj).value_counts() instead.\n",
      "\n",
      "Embeddings: 100%|\u001b[32m██████████\u001b[0m| 1/1 [00:01<00:00,  1.08s/it]\n"
     ]
    },
    {
     "name": "stdout",
     "output_type": "stream",
     "text": [
      "\n",
      "This model's overall score: 0.5826732480223311\n",
      "\n",
      "Training model run 3/20\n",
      "\n"
     ]
    },
    {
     "name": "stderr",
     "output_type": "stream",
     "text": [
      "/home/chzhan1/.local/lib/python3.9/site-packages/lightning/fabric/plugins/environments/slurm.py:191: PossibleUserWarning:\n",
      "\n",
      "The `srun` command is available on your system but is not used. HINT: If your intention is to run Lightning on SLURM, prepend your python command with `srun` like so: srun python /home/chzhan1/.local/lib/python3.9/site-packages/ipy ...\n",
      "\n",
      "GPU available: True (cuda), used: True\n",
      "TPU available: False, using: 0 TPU cores\n",
      "IPU available: False, using: 0 IPUs\n",
      "HPU available: False, using: 0 HPUs\n",
      "/home/chzhan1/.local/lib/python3.9/site-packages/lightning/fabric/plugins/environments/slurm.py:191: PossibleUserWarning:\n",
      "\n",
      "The `srun` command is available on your system but is not used. HINT: If your intention is to run Lightning on SLURM, prepend your python command with `srun` like so: srun python /home/chzhan1/.local/lib/python3.9/site-packages/ipy ...\n",
      "\n",
      "LOCAL_RANK: 0 - CUDA_VISIBLE_DEVICES: [0]\n",
      "/home/chzhan1/.local/lib/python3.9/site-packages/lightning/pytorch/trainer/connectors/data_connector.py:441: PossibleUserWarning:\n",
      "\n",
      "The 'train_dataloader' does not have many workers which may be a bottleneck. Consider increasing the value of the `num_workers` argument` to `num_workers=15` in the `DataLoader` to improve performance.\n",
      "\n",
      "/home/chzhan1/.local/lib/python3.9/site-packages/lightning/pytorch/loops/fit_loop.py:293: PossibleUserWarning:\n",
      "\n",
      "The number of training batches (4) is smaller than the logging interval Trainer(log_every_n_steps=10). Set a lower value for log_every_n_steps if you want to see logs for the training epoch.\n",
      "\n",
      "/home/chzhan1/.local/lib/python3.9/site-packages/lightning/pytorch/trainer/connectors/data_connector.py:441: PossibleUserWarning:\n",
      "\n",
      "The 'val_dataloader' does not have many workers which may be a bottleneck. Consider increasing the value of the `num_workers` argument` to `num_workers=15` in the `DataLoader` to improve performance.\n",
      "\n"
     ]
    },
    {
     "name": "stdout",
     "output_type": "stream",
     "text": [
      "Epoch 211/300:  70%|███████   | 211/300 [00:10<00:04, 19.20it/s, v_num=1, train_loss_step=1.09e+5, train_loss_epoch=1.13e+5]\n",
      "Monitored metric elbo_validation did not improve in the last 45 records. Best score: 123367.828. Signaling Trainer to stop.\n"
     ]
    },
    {
     "name": "stderr",
     "output_type": "stream",
     "text": [
      "/home/chzhan1/.local/lib/python3.9/site-packages/scanpy/preprocessing/_pca.py:374: FutureWarning:\n",
      "\n",
      "Argument `use_highly_variable` is deprecated, consider using the mask argument. Use_highly_variable=True can be called through mask_var=\"highly_variable\". Use_highly_variable=False can be called through mask_var=None\n",
      "\n",
      "Computing neighbors: 100%|██████████| 1/1 [00:00<00:00,  4.34it/s]\n",
      "Embeddings:   0%|\u001b[32m          \u001b[0m| 0/1 [00:00<?, ?it/s]"
     ]
    },
    {
     "name": "stdout",
     "output_type": "stream",
     "text": [
      "\u001b[34mINFO    \u001b[0m fibroblast consists of a single batch or is too small. Skip.                                              \n"
     ]
    },
    {
     "name": "stderr",
     "output_type": "stream",
     "text": [
      "/home/chzhan1/.local/lib/python3.9/site-packages/scib_metrics/_kbet.py:181: FutureWarning:\n",
      "\n",
      "pandas.value_counts is deprecated and will be removed in a future version. Use pd.Series(obj).value_counts() instead.\n",
      "\n",
      "/home/chzhan1/.local/lib/python3.9/site-packages/scib_metrics/_kbet.py:181: FutureWarning:\n",
      "\n",
      "pandas.value_counts is deprecated and will be removed in a future version. Use pd.Series(obj).value_counts() instead.\n",
      "\n",
      "/home/chzhan1/.local/lib/python3.9/site-packages/scib_metrics/_kbet.py:181: FutureWarning:\n",
      "\n",
      "pandas.value_counts is deprecated and will be removed in a future version. Use pd.Series(obj).value_counts() instead.\n",
      "\n",
      "/home/chzhan1/.local/lib/python3.9/site-packages/scib_metrics/_kbet.py:181: FutureWarning:\n",
      "\n",
      "pandas.value_counts is deprecated and will be removed in a future version. Use pd.Series(obj).value_counts() instead.\n",
      "\n",
      "/home/chzhan1/.local/lib/python3.9/site-packages/scib_metrics/_graph_connectivity.py:30: FutureWarning:\n",
      "\n",
      "pandas.value_counts is deprecated and will be removed in a future version. Use pd.Series(obj).value_counts() instead.\n",
      "\n",
      "Embeddings: 100%|\u001b[32m██████████\u001b[0m| 1/1 [00:01<00:00,  1.11s/it]\n"
     ]
    },
    {
     "name": "stdout",
     "output_type": "stream",
     "text": [
      "\n",
      "This model's overall score: 0.6266877031317377\n",
      "\n",
      "New best model found!\n",
      "\n",
      "Training model run 4/20\n",
      "\n"
     ]
    },
    {
     "name": "stderr",
     "output_type": "stream",
     "text": [
      "/home/chzhan1/.local/lib/python3.9/site-packages/lightning/fabric/plugins/environments/slurm.py:191: PossibleUserWarning:\n",
      "\n",
      "The `srun` command is available on your system but is not used. HINT: If your intention is to run Lightning on SLURM, prepend your python command with `srun` like so: srun python /home/chzhan1/.local/lib/python3.9/site-packages/ipy ...\n",
      "\n",
      "GPU available: True (cuda), used: True\n",
      "TPU available: False, using: 0 TPU cores\n",
      "IPU available: False, using: 0 IPUs\n",
      "HPU available: False, using: 0 HPUs\n",
      "/home/chzhan1/.local/lib/python3.9/site-packages/lightning/fabric/plugins/environments/slurm.py:191: PossibleUserWarning:\n",
      "\n",
      "The `srun` command is available on your system but is not used. HINT: If your intention is to run Lightning on SLURM, prepend your python command with `srun` like so: srun python /home/chzhan1/.local/lib/python3.9/site-packages/ipy ...\n",
      "\n",
      "LOCAL_RANK: 0 - CUDA_VISIBLE_DEVICES: [0]\n",
      "/home/chzhan1/.local/lib/python3.9/site-packages/lightning/pytorch/trainer/connectors/data_connector.py:441: PossibleUserWarning:\n",
      "\n",
      "The 'train_dataloader' does not have many workers which may be a bottleneck. Consider increasing the value of the `num_workers` argument` to `num_workers=15` in the `DataLoader` to improve performance.\n",
      "\n",
      "/home/chzhan1/.local/lib/python3.9/site-packages/lightning/pytorch/loops/fit_loop.py:293: PossibleUserWarning:\n",
      "\n",
      "The number of training batches (4) is smaller than the logging interval Trainer(log_every_n_steps=10). Set a lower value for log_every_n_steps if you want to see logs for the training epoch.\n",
      "\n",
      "/home/chzhan1/.local/lib/python3.9/site-packages/lightning/pytorch/trainer/connectors/data_connector.py:441: PossibleUserWarning:\n",
      "\n",
      "The 'val_dataloader' does not have many workers which may be a bottleneck. Consider increasing the value of the `num_workers` argument` to `num_workers=15` in the `DataLoader` to improve performance.\n",
      "\n"
     ]
    },
    {
     "name": "stdout",
     "output_type": "stream",
     "text": [
      "Epoch 232/300:  77%|███████▋  | 232/300 [00:11<00:03, 19.47it/s, v_num=1, train_loss_step=1.09e+5, train_loss_epoch=1.11e+5]\n",
      "Monitored metric elbo_validation did not improve in the last 45 records. Best score: 119412.633. Signaling Trainer to stop.\n"
     ]
    },
    {
     "name": "stderr",
     "output_type": "stream",
     "text": [
      "/home/chzhan1/.local/lib/python3.9/site-packages/scanpy/preprocessing/_pca.py:374: FutureWarning:\n",
      "\n",
      "Argument `use_highly_variable` is deprecated, consider using the mask argument. Use_highly_variable=True can be called through mask_var=\"highly_variable\". Use_highly_variable=False can be called through mask_var=None\n",
      "\n",
      "Computing neighbors: 100%|██████████| 1/1 [00:00<00:00,  4.04it/s]\n",
      "Embeddings:   0%|\u001b[32m          \u001b[0m| 0/1 [00:00<?, ?it/s]"
     ]
    },
    {
     "name": "stdout",
     "output_type": "stream",
     "text": [
      "\u001b[34mINFO    \u001b[0m fibroblast consists of a single batch or is too small. Skip.                                              \n"
     ]
    },
    {
     "name": "stderr",
     "output_type": "stream",
     "text": [
      "/home/chzhan1/.local/lib/python3.9/site-packages/scib_metrics/_kbet.py:181: FutureWarning:\n",
      "\n",
      "pandas.value_counts is deprecated and will be removed in a future version. Use pd.Series(obj).value_counts() instead.\n",
      "\n",
      "/home/chzhan1/.local/lib/python3.9/site-packages/scib_metrics/_kbet.py:181: FutureWarning:\n",
      "\n",
      "pandas.value_counts is deprecated and will be removed in a future version. Use pd.Series(obj).value_counts() instead.\n",
      "\n",
      "/home/chzhan1/.local/lib/python3.9/site-packages/scib_metrics/_kbet.py:181: FutureWarning:\n",
      "\n",
      "pandas.value_counts is deprecated and will be removed in a future version. Use pd.Series(obj).value_counts() instead.\n",
      "\n",
      "/home/chzhan1/.local/lib/python3.9/site-packages/scib_metrics/_kbet.py:181: FutureWarning:\n",
      "\n",
      "pandas.value_counts is deprecated and will be removed in a future version. Use pd.Series(obj).value_counts() instead.\n",
      "\n",
      "/home/chzhan1/.local/lib/python3.9/site-packages/scib_metrics/_graph_connectivity.py:30: FutureWarning:\n",
      "\n",
      "pandas.value_counts is deprecated and will be removed in a future version. Use pd.Series(obj).value_counts() instead.\n",
      "\n",
      "Embeddings: 100%|\u001b[32m██████████\u001b[0m| 1/1 [00:01<00:00,  1.09s/it]\n"
     ]
    },
    {
     "name": "stdout",
     "output_type": "stream",
     "text": [
      "\n",
      "This model's overall score: 0.5920100463677648\n",
      "\n",
      "Training model run 5/20\n",
      "\n"
     ]
    },
    {
     "name": "stderr",
     "output_type": "stream",
     "text": [
      "/home/chzhan1/.local/lib/python3.9/site-packages/lightning/fabric/plugins/environments/slurm.py:191: PossibleUserWarning:\n",
      "\n",
      "The `srun` command is available on your system but is not used. HINT: If your intention is to run Lightning on SLURM, prepend your python command with `srun` like so: srun python /home/chzhan1/.local/lib/python3.9/site-packages/ipy ...\n",
      "\n",
      "GPU available: True (cuda), used: True\n",
      "TPU available: False, using: 0 TPU cores\n",
      "IPU available: False, using: 0 IPUs\n",
      "HPU available: False, using: 0 HPUs\n",
      "/home/chzhan1/.local/lib/python3.9/site-packages/lightning/fabric/plugins/environments/slurm.py:191: PossibleUserWarning:\n",
      "\n",
      "The `srun` command is available on your system but is not used. HINT: If your intention is to run Lightning on SLURM, prepend your python command with `srun` like so: srun python /home/chzhan1/.local/lib/python3.9/site-packages/ipy ...\n",
      "\n",
      "LOCAL_RANK: 0 - CUDA_VISIBLE_DEVICES: [0]\n",
      "/home/chzhan1/.local/lib/python3.9/site-packages/lightning/pytorch/trainer/connectors/data_connector.py:441: PossibleUserWarning:\n",
      "\n",
      "The 'train_dataloader' does not have many workers which may be a bottleneck. Consider increasing the value of the `num_workers` argument` to `num_workers=15` in the `DataLoader` to improve performance.\n",
      "\n",
      "/home/chzhan1/.local/lib/python3.9/site-packages/lightning/pytorch/loops/fit_loop.py:293: PossibleUserWarning:\n",
      "\n",
      "The number of training batches (4) is smaller than the logging interval Trainer(log_every_n_steps=10). Set a lower value for log_every_n_steps if you want to see logs for the training epoch.\n",
      "\n",
      "/home/chzhan1/.local/lib/python3.9/site-packages/lightning/pytorch/trainer/connectors/data_connector.py:441: PossibleUserWarning:\n",
      "\n",
      "The 'val_dataloader' does not have many workers which may be a bottleneck. Consider increasing the value of the `num_workers` argument` to `num_workers=15` in the `DataLoader` to improve performance.\n",
      "\n"
     ]
    },
    {
     "name": "stdout",
     "output_type": "stream",
     "text": [
      "Epoch 193/300:  64%|██████▍   | 193/300 [00:09<00:05, 20.08it/s, v_num=1, train_loss_step=1.14e+5, train_loss_epoch=1.13e+5]\n",
      "Monitored metric elbo_validation did not improve in the last 45 records. Best score: 119292.023. Signaling Trainer to stop.\n"
     ]
    },
    {
     "name": "stderr",
     "output_type": "stream",
     "text": [
      "/home/chzhan1/.local/lib/python3.9/site-packages/scanpy/preprocessing/_pca.py:374: FutureWarning:\n",
      "\n",
      "Argument `use_highly_variable` is deprecated, consider using the mask argument. Use_highly_variable=True can be called through mask_var=\"highly_variable\". Use_highly_variable=False can be called through mask_var=None\n",
      "\n",
      "Computing neighbors: 100%|██████████| 1/1 [00:00<00:00,  3.74it/s]\n",
      "Embeddings:   0%|\u001b[32m          \u001b[0m| 0/1 [00:00<?, ?it/s]"
     ]
    },
    {
     "name": "stdout",
     "output_type": "stream",
     "text": [
      "\u001b[34mINFO    \u001b[0m fibroblast consists of a single batch or is too small. Skip.                                              \n"
     ]
    },
    {
     "name": "stderr",
     "output_type": "stream",
     "text": [
      "/home/chzhan1/.local/lib/python3.9/site-packages/scib_metrics/_kbet.py:181: FutureWarning:\n",
      "\n",
      "pandas.value_counts is deprecated and will be removed in a future version. Use pd.Series(obj).value_counts() instead.\n",
      "\n",
      "/home/chzhan1/.local/lib/python3.9/site-packages/scib_metrics/_kbet.py:181: FutureWarning:\n",
      "\n",
      "pandas.value_counts is deprecated and will be removed in a future version. Use pd.Series(obj).value_counts() instead.\n",
      "\n",
      "/home/chzhan1/.local/lib/python3.9/site-packages/scib_metrics/_kbet.py:181: FutureWarning:\n",
      "\n",
      "pandas.value_counts is deprecated and will be removed in a future version. Use pd.Series(obj).value_counts() instead.\n",
      "\n",
      "/home/chzhan1/.local/lib/python3.9/site-packages/scib_metrics/_graph_connectivity.py:30: FutureWarning:\n",
      "\n",
      "pandas.value_counts is deprecated and will be removed in a future version. Use pd.Series(obj).value_counts() instead.\n",
      "\n",
      "Embeddings: 100%|\u001b[32m██████████\u001b[0m| 1/1 [00:01<00:00,  1.11s/it]\n"
     ]
    },
    {
     "name": "stdout",
     "output_type": "stream",
     "text": [
      "\n",
      "This model's overall score: 0.5920449176572735\n",
      "\n",
      "Training model run 6/20\n",
      "\n"
     ]
    },
    {
     "name": "stderr",
     "output_type": "stream",
     "text": [
      "/home/chzhan1/.local/lib/python3.9/site-packages/lightning/fabric/plugins/environments/slurm.py:191: PossibleUserWarning:\n",
      "\n",
      "The `srun` command is available on your system but is not used. HINT: If your intention is to run Lightning on SLURM, prepend your python command with `srun` like so: srun python /home/chzhan1/.local/lib/python3.9/site-packages/ipy ...\n",
      "\n",
      "GPU available: True (cuda), used: True\n",
      "TPU available: False, using: 0 TPU cores\n",
      "IPU available: False, using: 0 IPUs\n",
      "HPU available: False, using: 0 HPUs\n",
      "/home/chzhan1/.local/lib/python3.9/site-packages/lightning/fabric/plugins/environments/slurm.py:191: PossibleUserWarning:\n",
      "\n",
      "The `srun` command is available on your system but is not used. HINT: If your intention is to run Lightning on SLURM, prepend your python command with `srun` like so: srun python /home/chzhan1/.local/lib/python3.9/site-packages/ipy ...\n",
      "\n",
      "LOCAL_RANK: 0 - CUDA_VISIBLE_DEVICES: [0]\n",
      "/home/chzhan1/.local/lib/python3.9/site-packages/lightning/pytorch/trainer/connectors/data_connector.py:441: PossibleUserWarning:\n",
      "\n",
      "The 'train_dataloader' does not have many workers which may be a bottleneck. Consider increasing the value of the `num_workers` argument` to `num_workers=15` in the `DataLoader` to improve performance.\n",
      "\n",
      "/home/chzhan1/.local/lib/python3.9/site-packages/lightning/pytorch/loops/fit_loop.py:293: PossibleUserWarning:\n",
      "\n",
      "The number of training batches (4) is smaller than the logging interval Trainer(log_every_n_steps=10). Set a lower value for log_every_n_steps if you want to see logs for the training epoch.\n",
      "\n",
      "/home/chzhan1/.local/lib/python3.9/site-packages/lightning/pytorch/trainer/connectors/data_connector.py:441: PossibleUserWarning:\n",
      "\n",
      "The 'val_dataloader' does not have many workers which may be a bottleneck. Consider increasing the value of the `num_workers` argument` to `num_workers=15` in the `DataLoader` to improve performance.\n",
      "\n"
     ]
    },
    {
     "name": "stdout",
     "output_type": "stream",
     "text": [
      "Epoch 235/300:  78%|███████▊  | 235/300 [00:12<00:03, 19.05it/s, v_num=1, train_loss_step=1.15e+5, train_loss_epoch=1.11e+5]\n",
      "Monitored metric elbo_validation did not improve in the last 45 records. Best score: 119166.609. Signaling Trainer to stop.\n"
     ]
    },
    {
     "name": "stderr",
     "output_type": "stream",
     "text": [
      "/home/chzhan1/.local/lib/python3.9/site-packages/scanpy/preprocessing/_pca.py:374: FutureWarning:\n",
      "\n",
      "Argument `use_highly_variable` is deprecated, consider using the mask argument. Use_highly_variable=True can be called through mask_var=\"highly_variable\". Use_highly_variable=False can be called through mask_var=None\n",
      "\n",
      "Computing neighbors: 100%|██████████| 1/1 [00:00<00:00,  3.54it/s]\n",
      "Embeddings:   0%|\u001b[32m          \u001b[0m| 0/1 [00:00<?, ?it/s]"
     ]
    },
    {
     "name": "stdout",
     "output_type": "stream",
     "text": [
      "\u001b[34mINFO    \u001b[0m fibroblast consists of a single batch or is too small. Skip.                                              \n"
     ]
    },
    {
     "name": "stderr",
     "output_type": "stream",
     "text": [
      "/home/chzhan1/.local/lib/python3.9/site-packages/scib_metrics/_kbet.py:181: FutureWarning:\n",
      "\n",
      "pandas.value_counts is deprecated and will be removed in a future version. Use pd.Series(obj).value_counts() instead.\n",
      "\n",
      "/home/chzhan1/.local/lib/python3.9/site-packages/scib_metrics/_kbet.py:181: FutureWarning:\n",
      "\n",
      "pandas.value_counts is deprecated and will be removed in a future version. Use pd.Series(obj).value_counts() instead.\n",
      "\n",
      "/home/chzhan1/.local/lib/python3.9/site-packages/scib_metrics/_kbet.py:181: FutureWarning:\n",
      "\n",
      "pandas.value_counts is deprecated and will be removed in a future version. Use pd.Series(obj).value_counts() instead.\n",
      "\n",
      "/home/chzhan1/.local/lib/python3.9/site-packages/scib_metrics/_graph_connectivity.py:30: FutureWarning:\n",
      "\n",
      "pandas.value_counts is deprecated and will be removed in a future version. Use pd.Series(obj).value_counts() instead.\n",
      "\n",
      "Embeddings: 100%|\u001b[32m██████████\u001b[0m| 1/1 [00:01<00:00,  1.09s/it]\n"
     ]
    },
    {
     "name": "stdout",
     "output_type": "stream",
     "text": [
      "\n",
      "This model's overall score: 0.5887442812649574\n",
      "\n",
      "Training model run 7/20\n",
      "\n"
     ]
    },
    {
     "name": "stderr",
     "output_type": "stream",
     "text": [
      "/home/chzhan1/.local/lib/python3.9/site-packages/lightning/fabric/plugins/environments/slurm.py:191: PossibleUserWarning:\n",
      "\n",
      "The `srun` command is available on your system but is not used. HINT: If your intention is to run Lightning on SLURM, prepend your python command with `srun` like so: srun python /home/chzhan1/.local/lib/python3.9/site-packages/ipy ...\n",
      "\n",
      "GPU available: True (cuda), used: True\n",
      "TPU available: False, using: 0 TPU cores\n",
      "IPU available: False, using: 0 IPUs\n",
      "HPU available: False, using: 0 HPUs\n",
      "/home/chzhan1/.local/lib/python3.9/site-packages/lightning/fabric/plugins/environments/slurm.py:191: PossibleUserWarning:\n",
      "\n",
      "The `srun` command is available on your system but is not used. HINT: If your intention is to run Lightning on SLURM, prepend your python command with `srun` like so: srun python /home/chzhan1/.local/lib/python3.9/site-packages/ipy ...\n",
      "\n",
      "LOCAL_RANK: 0 - CUDA_VISIBLE_DEVICES: [0]\n",
      "/home/chzhan1/.local/lib/python3.9/site-packages/lightning/pytorch/trainer/connectors/data_connector.py:441: PossibleUserWarning:\n",
      "\n",
      "The 'train_dataloader' does not have many workers which may be a bottleneck. Consider increasing the value of the `num_workers` argument` to `num_workers=15` in the `DataLoader` to improve performance.\n",
      "\n",
      "/home/chzhan1/.local/lib/python3.9/site-packages/lightning/pytorch/loops/fit_loop.py:293: PossibleUserWarning:\n",
      "\n",
      "The number of training batches (4) is smaller than the logging interval Trainer(log_every_n_steps=10). Set a lower value for log_every_n_steps if you want to see logs for the training epoch.\n",
      "\n",
      "/home/chzhan1/.local/lib/python3.9/site-packages/lightning/pytorch/trainer/connectors/data_connector.py:441: PossibleUserWarning:\n",
      "\n",
      "The 'val_dataloader' does not have many workers which may be a bottleneck. Consider increasing the value of the `num_workers` argument` to `num_workers=15` in the `DataLoader` to improve performance.\n",
      "\n"
     ]
    },
    {
     "name": "stdout",
     "output_type": "stream",
     "text": [
      "Epoch 300/300: 100%|██████████| 300/300 [00:15<00:00, 19.64it/s, v_num=1, train_loss_step=1.09e+5, train_loss_epoch=1.1e+5] "
     ]
    },
    {
     "name": "stderr",
     "output_type": "stream",
     "text": [
      "`Trainer.fit` stopped: `max_epochs=300` reached.\n"
     ]
    },
    {
     "name": "stdout",
     "output_type": "stream",
     "text": [
      "Epoch 300/300: 100%|██████████| 300/300 [00:15<00:00, 19.71it/s, v_num=1, train_loss_step=1.09e+5, train_loss_epoch=1.1e+5]\n"
     ]
    },
    {
     "name": "stderr",
     "output_type": "stream",
     "text": [
      "/home/chzhan1/.local/lib/python3.9/site-packages/scanpy/preprocessing/_pca.py:374: FutureWarning:\n",
      "\n",
      "Argument `use_highly_variable` is deprecated, consider using the mask argument. Use_highly_variable=True can be called through mask_var=\"highly_variable\". Use_highly_variable=False can be called through mask_var=None\n",
      "\n",
      "Computing neighbors: 100%|██████████| 1/1 [00:00<00:00,  3.71it/s]\n",
      "Embeddings:   0%|\u001b[32m          \u001b[0m| 0/1 [00:00<?, ?it/s]"
     ]
    },
    {
     "name": "stdout",
     "output_type": "stream",
     "text": [
      "\u001b[34mINFO    \u001b[0m fibroblast consists of a single batch or is too small. Skip.                                              \n"
     ]
    },
    {
     "name": "stderr",
     "output_type": "stream",
     "text": [
      "/home/chzhan1/.local/lib/python3.9/site-packages/scib_metrics/_kbet.py:181: FutureWarning:\n",
      "\n",
      "pandas.value_counts is deprecated and will be removed in a future version. Use pd.Series(obj).value_counts() instead.\n",
      "\n",
      "/home/chzhan1/.local/lib/python3.9/site-packages/scib_metrics/_kbet.py:181: FutureWarning:\n",
      "\n",
      "pandas.value_counts is deprecated and will be removed in a future version. Use pd.Series(obj).value_counts() instead.\n",
      "\n",
      "/home/chzhan1/.local/lib/python3.9/site-packages/scib_metrics/_kbet.py:181: FutureWarning:\n",
      "\n",
      "pandas.value_counts is deprecated and will be removed in a future version. Use pd.Series(obj).value_counts() instead.\n",
      "\n",
      "/home/chzhan1/.local/lib/python3.9/site-packages/scib_metrics/_graph_connectivity.py:30: FutureWarning:\n",
      "\n",
      "pandas.value_counts is deprecated and will be removed in a future version. Use pd.Series(obj).value_counts() instead.\n",
      "\n",
      "Embeddings: 100%|\u001b[32m██████████\u001b[0m| 1/1 [00:01<00:00,  1.08s/it]\n"
     ]
    },
    {
     "name": "stdout",
     "output_type": "stream",
     "text": [
      "\n",
      "This model's overall score: 0.6034578268235269\n",
      "\n",
      "Training model run 8/20\n",
      "\n"
     ]
    },
    {
     "name": "stderr",
     "output_type": "stream",
     "text": [
      "/home/chzhan1/.local/lib/python3.9/site-packages/lightning/fabric/plugins/environments/slurm.py:191: PossibleUserWarning:\n",
      "\n",
      "The `srun` command is available on your system but is not used. HINT: If your intention is to run Lightning on SLURM, prepend your python command with `srun` like so: srun python /home/chzhan1/.local/lib/python3.9/site-packages/ipy ...\n",
      "\n",
      "GPU available: True (cuda), used: True\n",
      "TPU available: False, using: 0 TPU cores\n",
      "IPU available: False, using: 0 IPUs\n",
      "HPU available: False, using: 0 HPUs\n",
      "/home/chzhan1/.local/lib/python3.9/site-packages/lightning/fabric/plugins/environments/slurm.py:191: PossibleUserWarning:\n",
      "\n",
      "The `srun` command is available on your system but is not used. HINT: If your intention is to run Lightning on SLURM, prepend your python command with `srun` like so: srun python /home/chzhan1/.local/lib/python3.9/site-packages/ipy ...\n",
      "\n",
      "LOCAL_RANK: 0 - CUDA_VISIBLE_DEVICES: [0]\n",
      "/home/chzhan1/.local/lib/python3.9/site-packages/lightning/pytorch/trainer/connectors/data_connector.py:441: PossibleUserWarning:\n",
      "\n",
      "The 'train_dataloader' does not have many workers which may be a bottleneck. Consider increasing the value of the `num_workers` argument` to `num_workers=15` in the `DataLoader` to improve performance.\n",
      "\n",
      "/home/chzhan1/.local/lib/python3.9/site-packages/lightning/pytorch/loops/fit_loop.py:293: PossibleUserWarning:\n",
      "\n",
      "The number of training batches (4) is smaller than the logging interval Trainer(log_every_n_steps=10). Set a lower value for log_every_n_steps if you want to see logs for the training epoch.\n",
      "\n",
      "/home/chzhan1/.local/lib/python3.9/site-packages/lightning/pytorch/trainer/connectors/data_connector.py:441: PossibleUserWarning:\n",
      "\n",
      "The 'val_dataloader' does not have many workers which may be a bottleneck. Consider increasing the value of the `num_workers` argument` to `num_workers=15` in the `DataLoader` to improve performance.\n",
      "\n"
     ]
    },
    {
     "name": "stdout",
     "output_type": "stream",
     "text": [
      "Epoch 126/300:  42%|████▏     | 126/300 [00:06<00:08, 19.56it/s, v_num=1, train_loss_step=1.18e+5, train_loss_epoch=1.16e+5]\n",
      "Monitored metric elbo_validation did not improve in the last 45 records. Best score: 123545.102. Signaling Trainer to stop.\n"
     ]
    },
    {
     "name": "stderr",
     "output_type": "stream",
     "text": [
      "/home/chzhan1/.local/lib/python3.9/site-packages/scanpy/preprocessing/_pca.py:374: FutureWarning:\n",
      "\n",
      "Argument `use_highly_variable` is deprecated, consider using the mask argument. Use_highly_variable=True can be called through mask_var=\"highly_variable\". Use_highly_variable=False can be called through mask_var=None\n",
      "\n",
      "Computing neighbors: 100%|██████████| 1/1 [00:00<00:00,  4.45it/s]\n",
      "Embeddings:   0%|\u001b[32m          \u001b[0m| 0/1 [00:00<?, ?it/s]"
     ]
    },
    {
     "name": "stdout",
     "output_type": "stream",
     "text": [
      "\u001b[34mINFO    \u001b[0m fibroblast consists of a single batch or is too small. Skip.                                              \n"
     ]
    },
    {
     "name": "stderr",
     "output_type": "stream",
     "text": [
      "/home/chzhan1/.local/lib/python3.9/site-packages/scib_metrics/_kbet.py:181: FutureWarning:\n",
      "\n",
      "pandas.value_counts is deprecated and will be removed in a future version. Use pd.Series(obj).value_counts() instead.\n",
      "\n",
      "/home/chzhan1/.local/lib/python3.9/site-packages/scib_metrics/_kbet.py:181: FutureWarning:\n",
      "\n",
      "pandas.value_counts is deprecated and will be removed in a future version. Use pd.Series(obj).value_counts() instead.\n",
      "\n",
      "/home/chzhan1/.local/lib/python3.9/site-packages/scib_metrics/_graph_connectivity.py:30: FutureWarning:\n",
      "\n",
      "pandas.value_counts is deprecated and will be removed in a future version. Use pd.Series(obj).value_counts() instead.\n",
      "\n",
      "Embeddings: 100%|\u001b[32m██████████\u001b[0m| 1/1 [00:01<00:00,  1.10s/it]\n"
     ]
    },
    {
     "name": "stdout",
     "output_type": "stream",
     "text": [
      "\n",
      "This model's overall score: 0.6017752637924223\n",
      "\n",
      "Training model run 9/20\n",
      "\n"
     ]
    },
    {
     "name": "stderr",
     "output_type": "stream",
     "text": [
      "/home/chzhan1/.local/lib/python3.9/site-packages/lightning/fabric/plugins/environments/slurm.py:191: PossibleUserWarning:\n",
      "\n",
      "The `srun` command is available on your system but is not used. HINT: If your intention is to run Lightning on SLURM, prepend your python command with `srun` like so: srun python /home/chzhan1/.local/lib/python3.9/site-packages/ipy ...\n",
      "\n",
      "GPU available: True (cuda), used: True\n",
      "TPU available: False, using: 0 TPU cores\n",
      "IPU available: False, using: 0 IPUs\n",
      "HPU available: False, using: 0 HPUs\n",
      "/home/chzhan1/.local/lib/python3.9/site-packages/lightning/fabric/plugins/environments/slurm.py:191: PossibleUserWarning:\n",
      "\n",
      "The `srun` command is available on your system but is not used. HINT: If your intention is to run Lightning on SLURM, prepend your python command with `srun` like so: srun python /home/chzhan1/.local/lib/python3.9/site-packages/ipy ...\n",
      "\n",
      "LOCAL_RANK: 0 - CUDA_VISIBLE_DEVICES: [0]\n",
      "/home/chzhan1/.local/lib/python3.9/site-packages/lightning/pytorch/trainer/connectors/data_connector.py:441: PossibleUserWarning:\n",
      "\n",
      "The 'train_dataloader' does not have many workers which may be a bottleneck. Consider increasing the value of the `num_workers` argument` to `num_workers=15` in the `DataLoader` to improve performance.\n",
      "\n",
      "/home/chzhan1/.local/lib/python3.9/site-packages/lightning/pytorch/loops/fit_loop.py:293: PossibleUserWarning:\n",
      "\n",
      "The number of training batches (4) is smaller than the logging interval Trainer(log_every_n_steps=10). Set a lower value for log_every_n_steps if you want to see logs for the training epoch.\n",
      "\n",
      "/home/chzhan1/.local/lib/python3.9/site-packages/lightning/pytorch/trainer/connectors/data_connector.py:441: PossibleUserWarning:\n",
      "\n",
      "The 'val_dataloader' does not have many workers which may be a bottleneck. Consider increasing the value of the `num_workers` argument` to `num_workers=15` in the `DataLoader` to improve performance.\n",
      "\n"
     ]
    },
    {
     "name": "stdout",
     "output_type": "stream",
     "text": [
      "Epoch 225/300:  75%|███████▌  | 225/300 [00:11<00:03, 19.78it/s, v_num=1, train_loss_step=1.11e+5, train_loss_epoch=1.12e+5]\n",
      "Monitored metric elbo_validation did not improve in the last 45 records. Best score: 122467.164. Signaling Trainer to stop.\n"
     ]
    },
    {
     "name": "stderr",
     "output_type": "stream",
     "text": [
      "/home/chzhan1/.local/lib/python3.9/site-packages/scanpy/preprocessing/_pca.py:374: FutureWarning:\n",
      "\n",
      "Argument `use_highly_variable` is deprecated, consider using the mask argument. Use_highly_variable=True can be called through mask_var=\"highly_variable\". Use_highly_variable=False can be called through mask_var=None\n",
      "\n",
      "Computing neighbors: 100%|██████████| 1/1 [00:00<00:00,  4.42it/s]\n",
      "Embeddings:   0%|\u001b[32m          \u001b[0m| 0/1 [00:00<?, ?it/s]"
     ]
    },
    {
     "name": "stdout",
     "output_type": "stream",
     "text": [
      "\u001b[34mINFO    \u001b[0m fibroblast consists of a single batch or is too small. Skip.                                              \n"
     ]
    },
    {
     "name": "stderr",
     "output_type": "stream",
     "text": [
      "/home/chzhan1/.local/lib/python3.9/site-packages/scib_metrics/_kbet.py:181: FutureWarning:\n",
      "\n",
      "pandas.value_counts is deprecated and will be removed in a future version. Use pd.Series(obj).value_counts() instead.\n",
      "\n",
      "/home/chzhan1/.local/lib/python3.9/site-packages/scib_metrics/_kbet.py:181: FutureWarning:\n",
      "\n",
      "pandas.value_counts is deprecated and will be removed in a future version. Use pd.Series(obj).value_counts() instead.\n",
      "\n",
      "/home/chzhan1/.local/lib/python3.9/site-packages/scib_metrics/_graph_connectivity.py:30: FutureWarning:\n",
      "\n",
      "pandas.value_counts is deprecated and will be removed in a future version. Use pd.Series(obj).value_counts() instead.\n",
      "\n",
      "Embeddings: 100%|\u001b[32m██████████\u001b[0m| 1/1 [00:01<00:00,  1.08s/it]\n"
     ]
    },
    {
     "name": "stdout",
     "output_type": "stream",
     "text": [
      "\n",
      "This model's overall score: 0.5919542290207722\n",
      "\n",
      "Training model run 10/20\n",
      "\n"
     ]
    },
    {
     "name": "stderr",
     "output_type": "stream",
     "text": [
      "/home/chzhan1/.local/lib/python3.9/site-packages/lightning/fabric/plugins/environments/slurm.py:191: PossibleUserWarning:\n",
      "\n",
      "The `srun` command is available on your system but is not used. HINT: If your intention is to run Lightning on SLURM, prepend your python command with `srun` like so: srun python /home/chzhan1/.local/lib/python3.9/site-packages/ipy ...\n",
      "\n",
      "GPU available: True (cuda), used: True\n",
      "TPU available: False, using: 0 TPU cores\n",
      "IPU available: False, using: 0 IPUs\n",
      "HPU available: False, using: 0 HPUs\n",
      "/home/chzhan1/.local/lib/python3.9/site-packages/lightning/fabric/plugins/environments/slurm.py:191: PossibleUserWarning:\n",
      "\n",
      "The `srun` command is available on your system but is not used. HINT: If your intention is to run Lightning on SLURM, prepend your python command with `srun` like so: srun python /home/chzhan1/.local/lib/python3.9/site-packages/ipy ...\n",
      "\n",
      "LOCAL_RANK: 0 - CUDA_VISIBLE_DEVICES: [0]\n",
      "/home/chzhan1/.local/lib/python3.9/site-packages/lightning/pytorch/trainer/connectors/data_connector.py:441: PossibleUserWarning:\n",
      "\n",
      "The 'train_dataloader' does not have many workers which may be a bottleneck. Consider increasing the value of the `num_workers` argument` to `num_workers=15` in the `DataLoader` to improve performance.\n",
      "\n",
      "/home/chzhan1/.local/lib/python3.9/site-packages/lightning/pytorch/loops/fit_loop.py:293: PossibleUserWarning:\n",
      "\n",
      "The number of training batches (4) is smaller than the logging interval Trainer(log_every_n_steps=10). Set a lower value for log_every_n_steps if you want to see logs for the training epoch.\n",
      "\n",
      "/home/chzhan1/.local/lib/python3.9/site-packages/lightning/pytorch/trainer/connectors/data_connector.py:441: PossibleUserWarning:\n",
      "\n",
      "The 'val_dataloader' does not have many workers which may be a bottleneck. Consider increasing the value of the `num_workers` argument` to `num_workers=15` in the `DataLoader` to improve performance.\n",
      "\n"
     ]
    },
    {
     "name": "stdout",
     "output_type": "stream",
     "text": [
      "Epoch 100/300:  33%|███▎      | 100/300 [00:04<00:09, 20.27it/s, v_num=1, train_loss_step=1.15e+5, train_loss_epoch=1.15e+5]\n",
      "Monitored metric elbo_validation did not improve in the last 45 records. Best score: 138114.812. Signaling Trainer to stop.\n"
     ]
    },
    {
     "name": "stderr",
     "output_type": "stream",
     "text": [
      "/home/chzhan1/.local/lib/python3.9/site-packages/scanpy/preprocessing/_pca.py:374: FutureWarning:\n",
      "\n",
      "Argument `use_highly_variable` is deprecated, consider using the mask argument. Use_highly_variable=True can be called through mask_var=\"highly_variable\". Use_highly_variable=False can be called through mask_var=None\n",
      "\n",
      "Computing neighbors: 100%|██████████| 1/1 [00:00<00:00,  3.65it/s]\n",
      "Embeddings:   0%|\u001b[32m          \u001b[0m| 0/1 [00:00<?, ?it/s]"
     ]
    },
    {
     "name": "stdout",
     "output_type": "stream",
     "text": [
      "\u001b[34mINFO    \u001b[0m fibroblast consists of a single batch or is too small. Skip.                                              \n"
     ]
    },
    {
     "name": "stderr",
     "output_type": "stream",
     "text": [
      "/home/chzhan1/.local/lib/python3.9/site-packages/scib_metrics/_kbet.py:181: FutureWarning:\n",
      "\n",
      "pandas.value_counts is deprecated and will be removed in a future version. Use pd.Series(obj).value_counts() instead.\n",
      "\n",
      "/home/chzhan1/.local/lib/python3.9/site-packages/scib_metrics/_kbet.py:181: FutureWarning:\n",
      "\n",
      "pandas.value_counts is deprecated and will be removed in a future version. Use pd.Series(obj).value_counts() instead.\n",
      "\n",
      "/home/chzhan1/.local/lib/python3.9/site-packages/scib_metrics/_kbet.py:181: FutureWarning:\n",
      "\n",
      "pandas.value_counts is deprecated and will be removed in a future version. Use pd.Series(obj).value_counts() instead.\n",
      "\n",
      "/home/chzhan1/.local/lib/python3.9/site-packages/scib_metrics/_graph_connectivity.py:30: FutureWarning:\n",
      "\n",
      "pandas.value_counts is deprecated and will be removed in a future version. Use pd.Series(obj).value_counts() instead.\n",
      "\n",
      "Embeddings: 100%|\u001b[32m██████████\u001b[0m| 1/1 [00:01<00:00,  1.08s/it]\n"
     ]
    },
    {
     "name": "stdout",
     "output_type": "stream",
     "text": [
      "\n",
      "This model's overall score: 0.5835608640336034\n",
      "\n",
      "Training model run 11/20\n",
      "\n"
     ]
    },
    {
     "name": "stderr",
     "output_type": "stream",
     "text": [
      "/home/chzhan1/.local/lib/python3.9/site-packages/lightning/fabric/plugins/environments/slurm.py:191: PossibleUserWarning:\n",
      "\n",
      "The `srun` command is available on your system but is not used. HINT: If your intention is to run Lightning on SLURM, prepend your python command with `srun` like so: srun python /home/chzhan1/.local/lib/python3.9/site-packages/ipy ...\n",
      "\n",
      "GPU available: True (cuda), used: True\n",
      "TPU available: False, using: 0 TPU cores\n",
      "IPU available: False, using: 0 IPUs\n",
      "HPU available: False, using: 0 HPUs\n",
      "/home/chzhan1/.local/lib/python3.9/site-packages/lightning/fabric/plugins/environments/slurm.py:191: PossibleUserWarning:\n",
      "\n",
      "The `srun` command is available on your system but is not used. HINT: If your intention is to run Lightning on SLURM, prepend your python command with `srun` like so: srun python /home/chzhan1/.local/lib/python3.9/site-packages/ipy ...\n",
      "\n",
      "LOCAL_RANK: 0 - CUDA_VISIBLE_DEVICES: [0]\n",
      "/home/chzhan1/.local/lib/python3.9/site-packages/lightning/pytorch/trainer/connectors/data_connector.py:441: PossibleUserWarning:\n",
      "\n",
      "The 'train_dataloader' does not have many workers which may be a bottleneck. Consider increasing the value of the `num_workers` argument` to `num_workers=15` in the `DataLoader` to improve performance.\n",
      "\n",
      "/home/chzhan1/.local/lib/python3.9/site-packages/lightning/pytorch/loops/fit_loop.py:293: PossibleUserWarning:\n",
      "\n",
      "The number of training batches (4) is smaller than the logging interval Trainer(log_every_n_steps=10). Set a lower value for log_every_n_steps if you want to see logs for the training epoch.\n",
      "\n",
      "/home/chzhan1/.local/lib/python3.9/site-packages/lightning/pytorch/trainer/connectors/data_connector.py:441: PossibleUserWarning:\n",
      "\n",
      "The 'val_dataloader' does not have many workers which may be a bottleneck. Consider increasing the value of the `num_workers` argument` to `num_workers=15` in the `DataLoader` to improve performance.\n",
      "\n"
     ]
    },
    {
     "name": "stdout",
     "output_type": "stream",
     "text": [
      "Epoch 184/300:  61%|██████▏   | 184/300 [00:08<00:05, 20.91it/s, v_num=1, train_loss_step=1.14e+5, train_loss_epoch=1.13e+5]\n",
      "Monitored metric elbo_validation did not improve in the last 45 records. Best score: 124711.242. Signaling Trainer to stop.\n"
     ]
    },
    {
     "name": "stderr",
     "output_type": "stream",
     "text": [
      "/home/chzhan1/.local/lib/python3.9/site-packages/scanpy/preprocessing/_pca.py:374: FutureWarning:\n",
      "\n",
      "Argument `use_highly_variable` is deprecated, consider using the mask argument. Use_highly_variable=True can be called through mask_var=\"highly_variable\". Use_highly_variable=False can be called through mask_var=None\n",
      "\n",
      "Computing neighbors: 100%|██████████| 1/1 [00:00<00:00,  3.63it/s]\n",
      "Embeddings:   0%|\u001b[32m          \u001b[0m| 0/1 [00:00<?, ?it/s]"
     ]
    },
    {
     "name": "stdout",
     "output_type": "stream",
     "text": [
      "\u001b[34mINFO    \u001b[0m fibroblast consists of a single batch or is too small. Skip.                                              \n"
     ]
    },
    {
     "name": "stderr",
     "output_type": "stream",
     "text": [
      "/home/chzhan1/.local/lib/python3.9/site-packages/scib_metrics/_kbet.py:181: FutureWarning:\n",
      "\n",
      "pandas.value_counts is deprecated and will be removed in a future version. Use pd.Series(obj).value_counts() instead.\n",
      "\n",
      "/home/chzhan1/.local/lib/python3.9/site-packages/scib_metrics/_kbet.py:181: FutureWarning:\n",
      "\n",
      "pandas.value_counts is deprecated and will be removed in a future version. Use pd.Series(obj).value_counts() instead.\n",
      "\n",
      "/home/chzhan1/.local/lib/python3.9/site-packages/scib_metrics/_kbet.py:181: FutureWarning:\n",
      "\n",
      "pandas.value_counts is deprecated and will be removed in a future version. Use pd.Series(obj).value_counts() instead.\n",
      "\n",
      "/home/chzhan1/.local/lib/python3.9/site-packages/scib_metrics/_graph_connectivity.py:30: FutureWarning:\n",
      "\n",
      "pandas.value_counts is deprecated and will be removed in a future version. Use pd.Series(obj).value_counts() instead.\n",
      "\n",
      "Embeddings: 100%|\u001b[32m██████████\u001b[0m| 1/1 [00:01<00:00,  1.07s/it]\n"
     ]
    },
    {
     "name": "stdout",
     "output_type": "stream",
     "text": [
      "\n",
      "This model's overall score: 0.558850070529765\n",
      "\n",
      "Training model run 12/20\n",
      "\n"
     ]
    },
    {
     "name": "stderr",
     "output_type": "stream",
     "text": [
      "/home/chzhan1/.local/lib/python3.9/site-packages/lightning/fabric/plugins/environments/slurm.py:191: PossibleUserWarning:\n",
      "\n",
      "The `srun` command is available on your system but is not used. HINT: If your intention is to run Lightning on SLURM, prepend your python command with `srun` like so: srun python /home/chzhan1/.local/lib/python3.9/site-packages/ipy ...\n",
      "\n",
      "GPU available: True (cuda), used: True\n",
      "TPU available: False, using: 0 TPU cores\n",
      "IPU available: False, using: 0 IPUs\n",
      "HPU available: False, using: 0 HPUs\n",
      "/home/chzhan1/.local/lib/python3.9/site-packages/lightning/fabric/plugins/environments/slurm.py:191: PossibleUserWarning:\n",
      "\n",
      "The `srun` command is available on your system but is not used. HINT: If your intention is to run Lightning on SLURM, prepend your python command with `srun` like so: srun python /home/chzhan1/.local/lib/python3.9/site-packages/ipy ...\n",
      "\n",
      "LOCAL_RANK: 0 - CUDA_VISIBLE_DEVICES: [0]\n",
      "/home/chzhan1/.local/lib/python3.9/site-packages/lightning/pytorch/trainer/connectors/data_connector.py:441: PossibleUserWarning:\n",
      "\n",
      "The 'train_dataloader' does not have many workers which may be a bottleneck. Consider increasing the value of the `num_workers` argument` to `num_workers=15` in the `DataLoader` to improve performance.\n",
      "\n",
      "/home/chzhan1/.local/lib/python3.9/site-packages/lightning/pytorch/loops/fit_loop.py:293: PossibleUserWarning:\n",
      "\n",
      "The number of training batches (4) is smaller than the logging interval Trainer(log_every_n_steps=10). Set a lower value for log_every_n_steps if you want to see logs for the training epoch.\n",
      "\n",
      "/home/chzhan1/.local/lib/python3.9/site-packages/lightning/pytorch/trainer/connectors/data_connector.py:441: PossibleUserWarning:\n",
      "\n",
      "The 'val_dataloader' does not have many workers which may be a bottleneck. Consider increasing the value of the `num_workers` argument` to `num_workers=15` in the `DataLoader` to improve performance.\n",
      "\n"
     ]
    },
    {
     "name": "stdout",
     "output_type": "stream",
     "text": [
      "Epoch 186/300:  62%|██████▏   | 186/300 [00:09<00:05, 20.41it/s, v_num=1, train_loss_step=1.17e+5, train_loss_epoch=1.13e+5]\n",
      "Monitored metric elbo_validation did not improve in the last 45 records. Best score: 117273.195. Signaling Trainer to stop.\n"
     ]
    },
    {
     "name": "stderr",
     "output_type": "stream",
     "text": [
      "/home/chzhan1/.local/lib/python3.9/site-packages/scanpy/preprocessing/_pca.py:374: FutureWarning:\n",
      "\n",
      "Argument `use_highly_variable` is deprecated, consider using the mask argument. Use_highly_variable=True can be called through mask_var=\"highly_variable\". Use_highly_variable=False can be called through mask_var=None\n",
      "\n",
      "Computing neighbors: 100%|██████████| 1/1 [00:00<00:00,  4.19it/s]\n",
      "Embeddings:   0%|\u001b[32m          \u001b[0m| 0/1 [00:00<?, ?it/s]"
     ]
    },
    {
     "name": "stdout",
     "output_type": "stream",
     "text": [
      "\u001b[34mINFO    \u001b[0m fibroblast consists of a single batch or is too small. Skip.                                              \n"
     ]
    },
    {
     "name": "stderr",
     "output_type": "stream",
     "text": [
      "/home/chzhan1/.local/lib/python3.9/site-packages/scib_metrics/_kbet.py:181: FutureWarning:\n",
      "\n",
      "pandas.value_counts is deprecated and will be removed in a future version. Use pd.Series(obj).value_counts() instead.\n",
      "\n",
      "/home/chzhan1/.local/lib/python3.9/site-packages/scib_metrics/_kbet.py:181: FutureWarning:\n",
      "\n",
      "pandas.value_counts is deprecated and will be removed in a future version. Use pd.Series(obj).value_counts() instead.\n",
      "\n",
      "/home/chzhan1/.local/lib/python3.9/site-packages/scib_metrics/_kbet.py:181: FutureWarning:\n",
      "\n",
      "pandas.value_counts is deprecated and will be removed in a future version. Use pd.Series(obj).value_counts() instead.\n",
      "\n",
      "/home/chzhan1/.local/lib/python3.9/site-packages/scib_metrics/_graph_connectivity.py:30: FutureWarning:\n",
      "\n",
      "pandas.value_counts is deprecated and will be removed in a future version. Use pd.Series(obj).value_counts() instead.\n",
      "\n",
      "Embeddings: 100%|\u001b[32m██████████\u001b[0m| 1/1 [00:01<00:00,  1.12s/it]\n"
     ]
    },
    {
     "name": "stdout",
     "output_type": "stream",
     "text": [
      "\n",
      "This model's overall score: 0.6168705244246876\n",
      "\n",
      "Training model run 13/20\n",
      "\n"
     ]
    },
    {
     "name": "stderr",
     "output_type": "stream",
     "text": [
      "/home/chzhan1/.local/lib/python3.9/site-packages/lightning/fabric/plugins/environments/slurm.py:191: PossibleUserWarning:\n",
      "\n",
      "The `srun` command is available on your system but is not used. HINT: If your intention is to run Lightning on SLURM, prepend your python command with `srun` like so: srun python /home/chzhan1/.local/lib/python3.9/site-packages/ipy ...\n",
      "\n",
      "GPU available: True (cuda), used: True\n",
      "TPU available: False, using: 0 TPU cores\n",
      "IPU available: False, using: 0 IPUs\n",
      "HPU available: False, using: 0 HPUs\n",
      "/home/chzhan1/.local/lib/python3.9/site-packages/lightning/fabric/plugins/environments/slurm.py:191: PossibleUserWarning:\n",
      "\n",
      "The `srun` command is available on your system but is not used. HINT: If your intention is to run Lightning on SLURM, prepend your python command with `srun` like so: srun python /home/chzhan1/.local/lib/python3.9/site-packages/ipy ...\n",
      "\n",
      "LOCAL_RANK: 0 - CUDA_VISIBLE_DEVICES: [0]\n",
      "/home/chzhan1/.local/lib/python3.9/site-packages/lightning/pytorch/trainer/connectors/data_connector.py:441: PossibleUserWarning:\n",
      "\n",
      "The 'train_dataloader' does not have many workers which may be a bottleneck. Consider increasing the value of the `num_workers` argument` to `num_workers=15` in the `DataLoader` to improve performance.\n",
      "\n",
      "/home/chzhan1/.local/lib/python3.9/site-packages/lightning/pytorch/loops/fit_loop.py:293: PossibleUserWarning:\n",
      "\n",
      "The number of training batches (4) is smaller than the logging interval Trainer(log_every_n_steps=10). Set a lower value for log_every_n_steps if you want to see logs for the training epoch.\n",
      "\n",
      "/home/chzhan1/.local/lib/python3.9/site-packages/lightning/pytorch/trainer/connectors/data_connector.py:441: PossibleUserWarning:\n",
      "\n",
      "The 'val_dataloader' does not have many workers which may be a bottleneck. Consider increasing the value of the `num_workers` argument` to `num_workers=15` in the `DataLoader` to improve performance.\n",
      "\n"
     ]
    },
    {
     "name": "stdout",
     "output_type": "stream",
     "text": [
      "Epoch 174/300:  58%|█████▊    | 174/300 [00:09<00:06, 19.08it/s, v_num=1, train_loss_step=1.12e+5, train_loss_epoch=1.13e+5]\n",
      "Monitored metric elbo_validation did not improve in the last 45 records. Best score: 117421.203. Signaling Trainer to stop.\n"
     ]
    },
    {
     "name": "stderr",
     "output_type": "stream",
     "text": [
      "/home/chzhan1/.local/lib/python3.9/site-packages/scanpy/preprocessing/_pca.py:374: FutureWarning:\n",
      "\n",
      "Argument `use_highly_variable` is deprecated, consider using the mask argument. Use_highly_variable=True can be called through mask_var=\"highly_variable\". Use_highly_variable=False can be called through mask_var=None\n",
      "\n",
      "Computing neighbors: 100%|██████████| 1/1 [00:00<00:00,  4.10it/s]\n",
      "Embeddings:   0%|\u001b[32m          \u001b[0m| 0/1 [00:00<?, ?it/s]"
     ]
    },
    {
     "name": "stdout",
     "output_type": "stream",
     "text": [
      "\u001b[34mINFO    \u001b[0m fibroblast consists of a single batch or is too small. Skip.                                              \n"
     ]
    },
    {
     "name": "stderr",
     "output_type": "stream",
     "text": [
      "/home/chzhan1/.local/lib/python3.9/site-packages/scib_metrics/_kbet.py:181: FutureWarning:\n",
      "\n",
      "pandas.value_counts is deprecated and will be removed in a future version. Use pd.Series(obj).value_counts() instead.\n",
      "\n",
      "/home/chzhan1/.local/lib/python3.9/site-packages/scib_metrics/_kbet.py:181: FutureWarning:\n",
      "\n",
      "pandas.value_counts is deprecated and will be removed in a future version. Use pd.Series(obj).value_counts() instead.\n",
      "\n",
      "/home/chzhan1/.local/lib/python3.9/site-packages/scib_metrics/_kbet.py:181: FutureWarning:\n",
      "\n",
      "pandas.value_counts is deprecated and will be removed in a future version. Use pd.Series(obj).value_counts() instead.\n",
      "\n",
      "/home/chzhan1/.local/lib/python3.9/site-packages/scib_metrics/_kbet.py:181: FutureWarning:\n",
      "\n",
      "pandas.value_counts is deprecated and will be removed in a future version. Use pd.Series(obj).value_counts() instead.\n",
      "\n",
      "/home/chzhan1/.local/lib/python3.9/site-packages/scib_metrics/_graph_connectivity.py:30: FutureWarning:\n",
      "\n",
      "pandas.value_counts is deprecated and will be removed in a future version. Use pd.Series(obj).value_counts() instead.\n",
      "\n",
      "Embeddings: 100%|\u001b[32m██████████\u001b[0m| 1/1 [00:01<00:00,  1.06s/it]\n"
     ]
    },
    {
     "name": "stdout",
     "output_type": "stream",
     "text": [
      "\n",
      "This model's overall score: 0.6075560526516197\n",
      "\n",
      "Training model run 14/20\n",
      "\n"
     ]
    },
    {
     "name": "stderr",
     "output_type": "stream",
     "text": [
      "/home/chzhan1/.local/lib/python3.9/site-packages/lightning/fabric/plugins/environments/slurm.py:191: PossibleUserWarning:\n",
      "\n",
      "The `srun` command is available on your system but is not used. HINT: If your intention is to run Lightning on SLURM, prepend your python command with `srun` like so: srun python /home/chzhan1/.local/lib/python3.9/site-packages/ipy ...\n",
      "\n",
      "GPU available: True (cuda), used: True\n",
      "TPU available: False, using: 0 TPU cores\n",
      "IPU available: False, using: 0 IPUs\n",
      "HPU available: False, using: 0 HPUs\n",
      "/home/chzhan1/.local/lib/python3.9/site-packages/lightning/fabric/plugins/environments/slurm.py:191: PossibleUserWarning:\n",
      "\n",
      "The `srun` command is available on your system but is not used. HINT: If your intention is to run Lightning on SLURM, prepend your python command with `srun` like so: srun python /home/chzhan1/.local/lib/python3.9/site-packages/ipy ...\n",
      "\n",
      "LOCAL_RANK: 0 - CUDA_VISIBLE_DEVICES: [0]\n",
      "/home/chzhan1/.local/lib/python3.9/site-packages/lightning/pytorch/trainer/connectors/data_connector.py:441: PossibleUserWarning:\n",
      "\n",
      "The 'train_dataloader' does not have many workers which may be a bottleneck. Consider increasing the value of the `num_workers` argument` to `num_workers=15` in the `DataLoader` to improve performance.\n",
      "\n",
      "/home/chzhan1/.local/lib/python3.9/site-packages/lightning/pytorch/loops/fit_loop.py:293: PossibleUserWarning:\n",
      "\n",
      "The number of training batches (4) is smaller than the logging interval Trainer(log_every_n_steps=10). Set a lower value for log_every_n_steps if you want to see logs for the training epoch.\n",
      "\n",
      "/home/chzhan1/.local/lib/python3.9/site-packages/lightning/pytorch/trainer/connectors/data_connector.py:441: PossibleUserWarning:\n",
      "\n",
      "The 'val_dataloader' does not have many workers which may be a bottleneck. Consider increasing the value of the `num_workers` argument` to `num_workers=15` in the `DataLoader` to improve performance.\n",
      "\n"
     ]
    },
    {
     "name": "stdout",
     "output_type": "stream",
     "text": [
      "Epoch 196/300:  65%|██████▌   | 196/300 [00:09<00:05, 20.17it/s, v_num=1, train_loss_step=1.13e+5, train_loss_epoch=1.13e+5]\n",
      "Monitored metric elbo_validation did not improve in the last 45 records. Best score: 122305.023. Signaling Trainer to stop.\n"
     ]
    },
    {
     "name": "stderr",
     "output_type": "stream",
     "text": [
      "/home/chzhan1/.local/lib/python3.9/site-packages/scanpy/preprocessing/_pca.py:374: FutureWarning:\n",
      "\n",
      "Argument `use_highly_variable` is deprecated, consider using the mask argument. Use_highly_variable=True can be called through mask_var=\"highly_variable\". Use_highly_variable=False can be called through mask_var=None\n",
      "\n",
      "Computing neighbors: 100%|██████████| 1/1 [00:00<00:00,  4.56it/s]\n",
      "Embeddings:   0%|\u001b[32m          \u001b[0m| 0/1 [00:00<?, ?it/s]"
     ]
    },
    {
     "name": "stdout",
     "output_type": "stream",
     "text": [
      "\u001b[34mINFO    \u001b[0m fibroblast consists of a single batch or is too small. Skip.                                              \n"
     ]
    },
    {
     "name": "stderr",
     "output_type": "stream",
     "text": [
      "/home/chzhan1/.local/lib/python3.9/site-packages/scib_metrics/_kbet.py:181: FutureWarning:\n",
      "\n",
      "pandas.value_counts is deprecated and will be removed in a future version. Use pd.Series(obj).value_counts() instead.\n",
      "\n",
      "/home/chzhan1/.local/lib/python3.9/site-packages/scib_metrics/_kbet.py:181: FutureWarning:\n",
      "\n",
      "pandas.value_counts is deprecated and will be removed in a future version. Use pd.Series(obj).value_counts() instead.\n",
      "\n",
      "/home/chzhan1/.local/lib/python3.9/site-packages/scib_metrics/_graph_connectivity.py:30: FutureWarning:\n",
      "\n",
      "pandas.value_counts is deprecated and will be removed in a future version. Use pd.Series(obj).value_counts() instead.\n",
      "\n",
      "Embeddings: 100%|\u001b[32m██████████\u001b[0m| 1/1 [00:01<00:00,  1.09s/it]\n"
     ]
    },
    {
     "name": "stdout",
     "output_type": "stream",
     "text": [
      "\n",
      "This model's overall score: 0.6005351049093458\n",
      "\n",
      "Training model run 15/20\n",
      "\n"
     ]
    },
    {
     "name": "stderr",
     "output_type": "stream",
     "text": [
      "/home/chzhan1/.local/lib/python3.9/site-packages/lightning/fabric/plugins/environments/slurm.py:191: PossibleUserWarning:\n",
      "\n",
      "The `srun` command is available on your system but is not used. HINT: If your intention is to run Lightning on SLURM, prepend your python command with `srun` like so: srun python /home/chzhan1/.local/lib/python3.9/site-packages/ipy ...\n",
      "\n",
      "GPU available: True (cuda), used: True\n",
      "TPU available: False, using: 0 TPU cores\n",
      "IPU available: False, using: 0 IPUs\n",
      "HPU available: False, using: 0 HPUs\n",
      "/home/chzhan1/.local/lib/python3.9/site-packages/lightning/fabric/plugins/environments/slurm.py:191: PossibleUserWarning:\n",
      "\n",
      "The `srun` command is available on your system but is not used. HINT: If your intention is to run Lightning on SLURM, prepend your python command with `srun` like so: srun python /home/chzhan1/.local/lib/python3.9/site-packages/ipy ...\n",
      "\n",
      "LOCAL_RANK: 0 - CUDA_VISIBLE_DEVICES: [0]\n",
      "/home/chzhan1/.local/lib/python3.9/site-packages/lightning/pytorch/trainer/connectors/data_connector.py:441: PossibleUserWarning:\n",
      "\n",
      "The 'train_dataloader' does not have many workers which may be a bottleneck. Consider increasing the value of the `num_workers` argument` to `num_workers=15` in the `DataLoader` to improve performance.\n",
      "\n",
      "/home/chzhan1/.local/lib/python3.9/site-packages/lightning/pytorch/loops/fit_loop.py:293: PossibleUserWarning:\n",
      "\n",
      "The number of training batches (4) is smaller than the logging interval Trainer(log_every_n_steps=10). Set a lower value for log_every_n_steps if you want to see logs for the training epoch.\n",
      "\n",
      "/home/chzhan1/.local/lib/python3.9/site-packages/lightning/pytorch/trainer/connectors/data_connector.py:441: PossibleUserWarning:\n",
      "\n",
      "The 'val_dataloader' does not have many workers which may be a bottleneck. Consider increasing the value of the `num_workers` argument` to `num_workers=15` in the `DataLoader` to improve performance.\n",
      "\n"
     ]
    },
    {
     "name": "stdout",
     "output_type": "stream",
     "text": [
      "Epoch 293/300:  98%|█████████▊| 293/300 [00:14<00:00, 20.53it/s, v_num=1, train_loss_step=1.1e+5, train_loss_epoch=1.11e+5] \n",
      "Monitored metric elbo_validation did not improve in the last 45 records. Best score: 115878.945. Signaling Trainer to stop.\n"
     ]
    },
    {
     "name": "stderr",
     "output_type": "stream",
     "text": [
      "/home/chzhan1/.local/lib/python3.9/site-packages/scanpy/preprocessing/_pca.py:374: FutureWarning:\n",
      "\n",
      "Argument `use_highly_variable` is deprecated, consider using the mask argument. Use_highly_variable=True can be called through mask_var=\"highly_variable\". Use_highly_variable=False can be called through mask_var=None\n",
      "\n",
      "Computing neighbors: 100%|██████████| 1/1 [00:00<00:00,  4.02it/s]\n",
      "Embeddings:   0%|\u001b[32m          \u001b[0m| 0/1 [00:00<?, ?it/s]"
     ]
    },
    {
     "name": "stdout",
     "output_type": "stream",
     "text": [
      "\u001b[34mINFO    \u001b[0m fibroblast consists of a single batch or is too small. Skip.                                              \n"
     ]
    },
    {
     "name": "stderr",
     "output_type": "stream",
     "text": [
      "/home/chzhan1/.local/lib/python3.9/site-packages/scib_metrics/_kbet.py:181: FutureWarning:\n",
      "\n",
      "pandas.value_counts is deprecated and will be removed in a future version. Use pd.Series(obj).value_counts() instead.\n",
      "\n",
      "/home/chzhan1/.local/lib/python3.9/site-packages/scib_metrics/_kbet.py:181: FutureWarning:\n",
      "\n",
      "pandas.value_counts is deprecated and will be removed in a future version. Use pd.Series(obj).value_counts() instead.\n",
      "\n",
      "/home/chzhan1/.local/lib/python3.9/site-packages/scib_metrics/_graph_connectivity.py:30: FutureWarning:\n",
      "\n",
      "pandas.value_counts is deprecated and will be removed in a future version. Use pd.Series(obj).value_counts() instead.\n",
      "\n",
      "Embeddings: 100%|\u001b[32m██████████\u001b[0m| 1/1 [00:01<00:00,  1.08s/it]\n"
     ]
    },
    {
     "name": "stdout",
     "output_type": "stream",
     "text": [
      "\n",
      "This model's overall score: 0.6157104627229061\n",
      "\n",
      "Training model run 16/20\n",
      "\n"
     ]
    },
    {
     "name": "stderr",
     "output_type": "stream",
     "text": [
      "/home/chzhan1/.local/lib/python3.9/site-packages/lightning/fabric/plugins/environments/slurm.py:191: PossibleUserWarning:\n",
      "\n",
      "The `srun` command is available on your system but is not used. HINT: If your intention is to run Lightning on SLURM, prepend your python command with `srun` like so: srun python /home/chzhan1/.local/lib/python3.9/site-packages/ipy ...\n",
      "\n",
      "GPU available: True (cuda), used: True\n",
      "TPU available: False, using: 0 TPU cores\n",
      "IPU available: False, using: 0 IPUs\n",
      "HPU available: False, using: 0 HPUs\n",
      "/home/chzhan1/.local/lib/python3.9/site-packages/lightning/fabric/plugins/environments/slurm.py:191: PossibleUserWarning:\n",
      "\n",
      "The `srun` command is available on your system but is not used. HINT: If your intention is to run Lightning on SLURM, prepend your python command with `srun` like so: srun python /home/chzhan1/.local/lib/python3.9/site-packages/ipy ...\n",
      "\n",
      "LOCAL_RANK: 0 - CUDA_VISIBLE_DEVICES: [0]\n",
      "/home/chzhan1/.local/lib/python3.9/site-packages/lightning/pytorch/trainer/connectors/data_connector.py:441: PossibleUserWarning:\n",
      "\n",
      "The 'train_dataloader' does not have many workers which may be a bottleneck. Consider increasing the value of the `num_workers` argument` to `num_workers=15` in the `DataLoader` to improve performance.\n",
      "\n",
      "/home/chzhan1/.local/lib/python3.9/site-packages/lightning/pytorch/loops/fit_loop.py:293: PossibleUserWarning:\n",
      "\n",
      "The number of training batches (4) is smaller than the logging interval Trainer(log_every_n_steps=10). Set a lower value for log_every_n_steps if you want to see logs for the training epoch.\n",
      "\n",
      "/home/chzhan1/.local/lib/python3.9/site-packages/lightning/pytorch/trainer/connectors/data_connector.py:441: PossibleUserWarning:\n",
      "\n",
      "The 'val_dataloader' does not have many workers which may be a bottleneck. Consider increasing the value of the `num_workers` argument` to `num_workers=15` in the `DataLoader` to improve performance.\n",
      "\n"
     ]
    },
    {
     "name": "stdout",
     "output_type": "stream",
     "text": [
      "Epoch 191/300:  64%|██████▎   | 191/300 [00:09<00:05, 20.33it/s, v_num=1, train_loss_step=1.15e+5, train_loss_epoch=1.12e+5]\n",
      "Monitored metric elbo_validation did not improve in the last 45 records. Best score: 127426.977. Signaling Trainer to stop.\n"
     ]
    },
    {
     "name": "stderr",
     "output_type": "stream",
     "text": [
      "/home/chzhan1/.local/lib/python3.9/site-packages/scanpy/preprocessing/_pca.py:374: FutureWarning:\n",
      "\n",
      "Argument `use_highly_variable` is deprecated, consider using the mask argument. Use_highly_variable=True can be called through mask_var=\"highly_variable\". Use_highly_variable=False can be called through mask_var=None\n",
      "\n",
      "Computing neighbors: 100%|██████████| 1/1 [00:00<00:00,  4.42it/s]\n",
      "Embeddings:   0%|\u001b[32m          \u001b[0m| 0/1 [00:00<?, ?it/s]"
     ]
    },
    {
     "name": "stdout",
     "output_type": "stream",
     "text": [
      "\u001b[34mINFO    \u001b[0m fibroblast consists of a single batch or is too small. Skip.                                              \n"
     ]
    },
    {
     "name": "stderr",
     "output_type": "stream",
     "text": [
      "/home/chzhan1/.local/lib/python3.9/site-packages/scib_metrics/_kbet.py:181: FutureWarning:\n",
      "\n",
      "pandas.value_counts is deprecated and will be removed in a future version. Use pd.Series(obj).value_counts() instead.\n",
      "\n",
      "/home/chzhan1/.local/lib/python3.9/site-packages/scib_metrics/_kbet.py:181: FutureWarning:\n",
      "\n",
      "pandas.value_counts is deprecated and will be removed in a future version. Use pd.Series(obj).value_counts() instead.\n",
      "\n",
      "/home/chzhan1/.local/lib/python3.9/site-packages/scib_metrics/_graph_connectivity.py:30: FutureWarning:\n",
      "\n",
      "pandas.value_counts is deprecated and will be removed in a future version. Use pd.Series(obj).value_counts() instead.\n",
      "\n",
      "Embeddings: 100%|\u001b[32m██████████\u001b[0m| 1/1 [00:01<00:00,  1.10s/it]\n"
     ]
    },
    {
     "name": "stdout",
     "output_type": "stream",
     "text": [
      "\n",
      "This model's overall score: 0.5869345516668781\n",
      "\n",
      "Training model run 17/20\n",
      "\n"
     ]
    },
    {
     "name": "stderr",
     "output_type": "stream",
     "text": [
      "/home/chzhan1/.local/lib/python3.9/site-packages/lightning/fabric/plugins/environments/slurm.py:191: PossibleUserWarning:\n",
      "\n",
      "The `srun` command is available on your system but is not used. HINT: If your intention is to run Lightning on SLURM, prepend your python command with `srun` like so: srun python /home/chzhan1/.local/lib/python3.9/site-packages/ipy ...\n",
      "\n",
      "GPU available: True (cuda), used: True\n",
      "TPU available: False, using: 0 TPU cores\n",
      "IPU available: False, using: 0 IPUs\n",
      "HPU available: False, using: 0 HPUs\n",
      "/home/chzhan1/.local/lib/python3.9/site-packages/lightning/fabric/plugins/environments/slurm.py:191: PossibleUserWarning:\n",
      "\n",
      "The `srun` command is available on your system but is not used. HINT: If your intention is to run Lightning on SLURM, prepend your python command with `srun` like so: srun python /home/chzhan1/.local/lib/python3.9/site-packages/ipy ...\n",
      "\n",
      "LOCAL_RANK: 0 - CUDA_VISIBLE_DEVICES: [0]\n",
      "/home/chzhan1/.local/lib/python3.9/site-packages/lightning/pytorch/trainer/connectors/data_connector.py:441: PossibleUserWarning:\n",
      "\n",
      "The 'train_dataloader' does not have many workers which may be a bottleneck. Consider increasing the value of the `num_workers` argument` to `num_workers=15` in the `DataLoader` to improve performance.\n",
      "\n",
      "/home/chzhan1/.local/lib/python3.9/site-packages/lightning/pytorch/loops/fit_loop.py:293: PossibleUserWarning:\n",
      "\n",
      "The number of training batches (4) is smaller than the logging interval Trainer(log_every_n_steps=10). Set a lower value for log_every_n_steps if you want to see logs for the training epoch.\n",
      "\n",
      "/home/chzhan1/.local/lib/python3.9/site-packages/lightning/pytorch/trainer/connectors/data_connector.py:441: PossibleUserWarning:\n",
      "\n",
      "The 'val_dataloader' does not have many workers which may be a bottleneck. Consider increasing the value of the `num_workers` argument` to `num_workers=15` in the `DataLoader` to improve performance.\n",
      "\n"
     ]
    },
    {
     "name": "stdout",
     "output_type": "stream",
     "text": [
      "Epoch 191/300:  64%|██████▎   | 191/300 [00:09<00:05, 19.81it/s, v_num=1, train_loss_step=1.13e+5, train_loss_epoch=1.13e+5]\n",
      "Monitored metric elbo_validation did not improve in the last 45 records. Best score: 122106.234. Signaling Trainer to stop.\n"
     ]
    },
    {
     "name": "stderr",
     "output_type": "stream",
     "text": [
      "/home/chzhan1/.local/lib/python3.9/site-packages/scanpy/preprocessing/_pca.py:374: FutureWarning:\n",
      "\n",
      "Argument `use_highly_variable` is deprecated, consider using the mask argument. Use_highly_variable=True can be called through mask_var=\"highly_variable\". Use_highly_variable=False can be called through mask_var=None\n",
      "\n",
      "Computing neighbors: 100%|██████████| 1/1 [00:00<00:00,  4.57it/s]\n",
      "Embeddings:   0%|\u001b[32m          \u001b[0m| 0/1 [00:00<?, ?it/s]"
     ]
    },
    {
     "name": "stdout",
     "output_type": "stream",
     "text": [
      "\u001b[34mINFO    \u001b[0m fibroblast consists of a single batch or is too small. Skip.                                              \n"
     ]
    },
    {
     "name": "stderr",
     "output_type": "stream",
     "text": [
      "/home/chzhan1/.local/lib/python3.9/site-packages/scib_metrics/_kbet.py:181: FutureWarning:\n",
      "\n",
      "pandas.value_counts is deprecated and will be removed in a future version. Use pd.Series(obj).value_counts() instead.\n",
      "\n",
      "/home/chzhan1/.local/lib/python3.9/site-packages/scib_metrics/_kbet.py:181: FutureWarning:\n",
      "\n",
      "pandas.value_counts is deprecated and will be removed in a future version. Use pd.Series(obj).value_counts() instead.\n",
      "\n",
      "/home/chzhan1/.local/lib/python3.9/site-packages/scib_metrics/_kbet.py:181: FutureWarning:\n",
      "\n",
      "pandas.value_counts is deprecated and will be removed in a future version. Use pd.Series(obj).value_counts() instead.\n",
      "\n",
      "/home/chzhan1/.local/lib/python3.9/site-packages/scib_metrics/_graph_connectivity.py:30: FutureWarning:\n",
      "\n",
      "pandas.value_counts is deprecated and will be removed in a future version. Use pd.Series(obj).value_counts() instead.\n",
      "\n",
      "Embeddings: 100%|\u001b[32m██████████\u001b[0m| 1/1 [00:01<00:00,  1.09s/it]\n"
     ]
    },
    {
     "name": "stdout",
     "output_type": "stream",
     "text": [
      "\n",
      "This model's overall score: 0.6058992740729123\n",
      "\n",
      "Training model run 18/20\n",
      "\n"
     ]
    },
    {
     "name": "stderr",
     "output_type": "stream",
     "text": [
      "/home/chzhan1/.local/lib/python3.9/site-packages/lightning/fabric/plugins/environments/slurm.py:191: PossibleUserWarning:\n",
      "\n",
      "The `srun` command is available on your system but is not used. HINT: If your intention is to run Lightning on SLURM, prepend your python command with `srun` like so: srun python /home/chzhan1/.local/lib/python3.9/site-packages/ipy ...\n",
      "\n",
      "GPU available: True (cuda), used: True\n",
      "TPU available: False, using: 0 TPU cores\n",
      "IPU available: False, using: 0 IPUs\n",
      "HPU available: False, using: 0 HPUs\n",
      "/home/chzhan1/.local/lib/python3.9/site-packages/lightning/fabric/plugins/environments/slurm.py:191: PossibleUserWarning:\n",
      "\n",
      "The `srun` command is available on your system but is not used. HINT: If your intention is to run Lightning on SLURM, prepend your python command with `srun` like so: srun python /home/chzhan1/.local/lib/python3.9/site-packages/ipy ...\n",
      "\n",
      "LOCAL_RANK: 0 - CUDA_VISIBLE_DEVICES: [0]\n",
      "/home/chzhan1/.local/lib/python3.9/site-packages/lightning/pytorch/trainer/connectors/data_connector.py:441: PossibleUserWarning:\n",
      "\n",
      "The 'train_dataloader' does not have many workers which may be a bottleneck. Consider increasing the value of the `num_workers` argument` to `num_workers=15` in the `DataLoader` to improve performance.\n",
      "\n",
      "/home/chzhan1/.local/lib/python3.9/site-packages/lightning/pytorch/loops/fit_loop.py:293: PossibleUserWarning:\n",
      "\n",
      "The number of training batches (4) is smaller than the logging interval Trainer(log_every_n_steps=10). Set a lower value for log_every_n_steps if you want to see logs for the training epoch.\n",
      "\n",
      "/home/chzhan1/.local/lib/python3.9/site-packages/lightning/pytorch/trainer/connectors/data_connector.py:441: PossibleUserWarning:\n",
      "\n",
      "The 'val_dataloader' does not have many workers which may be a bottleneck. Consider increasing the value of the `num_workers` argument` to `num_workers=15` in the `DataLoader` to improve performance.\n",
      "\n"
     ]
    },
    {
     "name": "stdout",
     "output_type": "stream",
     "text": [
      "Epoch 300/300: 100%|██████████| 300/300 [00:15<00:00, 19.59it/s, v_num=1, train_loss_step=1.09e+5, train_loss_epoch=1.1e+5] "
     ]
    },
    {
     "name": "stderr",
     "output_type": "stream",
     "text": [
      "`Trainer.fit` stopped: `max_epochs=300` reached.\n"
     ]
    },
    {
     "name": "stdout",
     "output_type": "stream",
     "text": [
      "Epoch 300/300: 100%|██████████| 300/300 [00:15<00:00, 19.47it/s, v_num=1, train_loss_step=1.09e+5, train_loss_epoch=1.1e+5]\n"
     ]
    },
    {
     "name": "stderr",
     "output_type": "stream",
     "text": [
      "/home/chzhan1/.local/lib/python3.9/site-packages/scanpy/preprocessing/_pca.py:374: FutureWarning:\n",
      "\n",
      "Argument `use_highly_variable` is deprecated, consider using the mask argument. Use_highly_variable=True can be called through mask_var=\"highly_variable\". Use_highly_variable=False can be called through mask_var=None\n",
      "\n",
      "Computing neighbors: 100%|██████████| 1/1 [00:00<00:00,  3.68it/s]\n",
      "Embeddings:   0%|\u001b[32m          \u001b[0m| 0/1 [00:00<?, ?it/s]"
     ]
    },
    {
     "name": "stdout",
     "output_type": "stream",
     "text": [
      "\u001b[34mINFO    \u001b[0m fibroblast consists of a single batch or is too small. Skip.                                              \n"
     ]
    },
    {
     "name": "stderr",
     "output_type": "stream",
     "text": [
      "/home/chzhan1/.local/lib/python3.9/site-packages/scib_metrics/_kbet.py:181: FutureWarning:\n",
      "\n",
      "pandas.value_counts is deprecated and will be removed in a future version. Use pd.Series(obj).value_counts() instead.\n",
      "\n",
      "/home/chzhan1/.local/lib/python3.9/site-packages/scib_metrics/_kbet.py:181: FutureWarning:\n",
      "\n",
      "pandas.value_counts is deprecated and will be removed in a future version. Use pd.Series(obj).value_counts() instead.\n",
      "\n",
      "/home/chzhan1/.local/lib/python3.9/site-packages/scib_metrics/_graph_connectivity.py:30: FutureWarning:\n",
      "\n",
      "pandas.value_counts is deprecated and will be removed in a future version. Use pd.Series(obj).value_counts() instead.\n",
      "\n",
      "Embeddings: 100%|\u001b[32m██████████\u001b[0m| 1/1 [00:01<00:00,  1.09s/it]\n"
     ]
    },
    {
     "name": "stdout",
     "output_type": "stream",
     "text": [
      "\n",
      "This model's overall score: 0.587646320101643\n",
      "\n",
      "Training model run 19/20\n",
      "\n"
     ]
    },
    {
     "name": "stderr",
     "output_type": "stream",
     "text": [
      "/home/chzhan1/.local/lib/python3.9/site-packages/lightning/fabric/plugins/environments/slurm.py:191: PossibleUserWarning:\n",
      "\n",
      "The `srun` command is available on your system but is not used. HINT: If your intention is to run Lightning on SLURM, prepend your python command with `srun` like so: srun python /home/chzhan1/.local/lib/python3.9/site-packages/ipy ...\n",
      "\n",
      "GPU available: True (cuda), used: True\n",
      "TPU available: False, using: 0 TPU cores\n",
      "IPU available: False, using: 0 IPUs\n",
      "HPU available: False, using: 0 HPUs\n",
      "/home/chzhan1/.local/lib/python3.9/site-packages/lightning/fabric/plugins/environments/slurm.py:191: PossibleUserWarning:\n",
      "\n",
      "The `srun` command is available on your system but is not used. HINT: If your intention is to run Lightning on SLURM, prepend your python command with `srun` like so: srun python /home/chzhan1/.local/lib/python3.9/site-packages/ipy ...\n",
      "\n",
      "LOCAL_RANK: 0 - CUDA_VISIBLE_DEVICES: [0]\n",
      "/home/chzhan1/.local/lib/python3.9/site-packages/lightning/pytorch/trainer/connectors/data_connector.py:441: PossibleUserWarning:\n",
      "\n",
      "The 'train_dataloader' does not have many workers which may be a bottleneck. Consider increasing the value of the `num_workers` argument` to `num_workers=15` in the `DataLoader` to improve performance.\n",
      "\n",
      "/home/chzhan1/.local/lib/python3.9/site-packages/lightning/pytorch/loops/fit_loop.py:293: PossibleUserWarning:\n",
      "\n",
      "The number of training batches (4) is smaller than the logging interval Trainer(log_every_n_steps=10). Set a lower value for log_every_n_steps if you want to see logs for the training epoch.\n",
      "\n",
      "/home/chzhan1/.local/lib/python3.9/site-packages/lightning/pytorch/trainer/connectors/data_connector.py:441: PossibleUserWarning:\n",
      "\n",
      "The 'val_dataloader' does not have many workers which may be a bottleneck. Consider increasing the value of the `num_workers` argument` to `num_workers=15` in the `DataLoader` to improve performance.\n",
      "\n"
     ]
    },
    {
     "name": "stdout",
     "output_type": "stream",
     "text": [
      "Epoch 258/300:  86%|████████▌ | 258/300 [00:13<00:02, 19.51it/s, v_num=1, train_loss_step=1.12e+5, train_loss_epoch=1.11e+5]\n",
      "Monitored metric elbo_validation did not improve in the last 45 records. Best score: 121098.648. Signaling Trainer to stop.\n"
     ]
    },
    {
     "name": "stderr",
     "output_type": "stream",
     "text": [
      "/home/chzhan1/.local/lib/python3.9/site-packages/scanpy/preprocessing/_pca.py:374: FutureWarning:\n",
      "\n",
      "Argument `use_highly_variable` is deprecated, consider using the mask argument. Use_highly_variable=True can be called through mask_var=\"highly_variable\". Use_highly_variable=False can be called through mask_var=None\n",
      "\n",
      "Computing neighbors: 100%|██████████| 1/1 [00:00<00:00,  4.38it/s]\n",
      "Embeddings:   0%|\u001b[32m          \u001b[0m| 0/1 [00:00<?, ?it/s]"
     ]
    },
    {
     "name": "stdout",
     "output_type": "stream",
     "text": [
      "\u001b[34mINFO    \u001b[0m fibroblast consists of a single batch or is too small. Skip.                                              \n"
     ]
    },
    {
     "name": "stderr",
     "output_type": "stream",
     "text": [
      "/home/chzhan1/.local/lib/python3.9/site-packages/scib_metrics/_kbet.py:181: FutureWarning:\n",
      "\n",
      "pandas.value_counts is deprecated and will be removed in a future version. Use pd.Series(obj).value_counts() instead.\n",
      "\n",
      "/home/chzhan1/.local/lib/python3.9/site-packages/scib_metrics/_kbet.py:181: FutureWarning:\n",
      "\n",
      "pandas.value_counts is deprecated and will be removed in a future version. Use pd.Series(obj).value_counts() instead.\n",
      "\n",
      "/home/chzhan1/.local/lib/python3.9/site-packages/scib_metrics/_graph_connectivity.py:30: FutureWarning:\n",
      "\n",
      "pandas.value_counts is deprecated and will be removed in a future version. Use pd.Series(obj).value_counts() instead.\n",
      "\n",
      "Embeddings: 100%|\u001b[32m██████████\u001b[0m| 1/1 [00:01<00:00,  1.11s/it]\n"
     ]
    },
    {
     "name": "stdout",
     "output_type": "stream",
     "text": [
      "\n",
      "This model's overall score: 0.608876094152661\n",
      "\n",
      "Training model run 20/20\n",
      "\n"
     ]
    },
    {
     "name": "stderr",
     "output_type": "stream",
     "text": [
      "/home/chzhan1/.local/lib/python3.9/site-packages/lightning/fabric/plugins/environments/slurm.py:191: PossibleUserWarning:\n",
      "\n",
      "The `srun` command is available on your system but is not used. HINT: If your intention is to run Lightning on SLURM, prepend your python command with `srun` like so: srun python /home/chzhan1/.local/lib/python3.9/site-packages/ipy ...\n",
      "\n",
      "GPU available: True (cuda), used: True\n",
      "TPU available: False, using: 0 TPU cores\n",
      "IPU available: False, using: 0 IPUs\n",
      "HPU available: False, using: 0 HPUs\n",
      "/home/chzhan1/.local/lib/python3.9/site-packages/lightning/fabric/plugins/environments/slurm.py:191: PossibleUserWarning:\n",
      "\n",
      "The `srun` command is available on your system but is not used. HINT: If your intention is to run Lightning on SLURM, prepend your python command with `srun` like so: srun python /home/chzhan1/.local/lib/python3.9/site-packages/ipy ...\n",
      "\n",
      "LOCAL_RANK: 0 - CUDA_VISIBLE_DEVICES: [0]\n",
      "/home/chzhan1/.local/lib/python3.9/site-packages/lightning/pytorch/trainer/connectors/data_connector.py:441: PossibleUserWarning:\n",
      "\n",
      "The 'train_dataloader' does not have many workers which may be a bottleneck. Consider increasing the value of the `num_workers` argument` to `num_workers=15` in the `DataLoader` to improve performance.\n",
      "\n",
      "/home/chzhan1/.local/lib/python3.9/site-packages/lightning/pytorch/loops/fit_loop.py:293: PossibleUserWarning:\n",
      "\n",
      "The number of training batches (4) is smaller than the logging interval Trainer(log_every_n_steps=10). Set a lower value for log_every_n_steps if you want to see logs for the training epoch.\n",
      "\n",
      "/home/chzhan1/.local/lib/python3.9/site-packages/lightning/pytorch/trainer/connectors/data_connector.py:441: PossibleUserWarning:\n",
      "\n",
      "The 'val_dataloader' does not have many workers which may be a bottleneck. Consider increasing the value of the `num_workers` argument` to `num_workers=15` in the `DataLoader` to improve performance.\n",
      "\n"
     ]
    },
    {
     "name": "stdout",
     "output_type": "stream",
     "text": [
      "Epoch 206/300:  69%|██████▊   | 206/300 [00:09<00:04, 20.76it/s, v_num=1, train_loss_step=1.13e+5, train_loss_epoch=1.12e+5]\n",
      "Monitored metric elbo_validation did not improve in the last 45 records. Best score: 121144.664. Signaling Trainer to stop.\n"
     ]
    },
    {
     "name": "stderr",
     "output_type": "stream",
     "text": [
      "/home/chzhan1/.local/lib/python3.9/site-packages/scanpy/preprocessing/_pca.py:374: FutureWarning:\n",
      "\n",
      "Argument `use_highly_variable` is deprecated, consider using the mask argument. Use_highly_variable=True can be called through mask_var=\"highly_variable\". Use_highly_variable=False can be called through mask_var=None\n",
      "\n",
      "Computing neighbors: 100%|██████████| 1/1 [00:00<00:00,  4.24it/s]\n",
      "Embeddings:   0%|\u001b[32m          \u001b[0m| 0/1 [00:00<?, ?it/s]"
     ]
    },
    {
     "name": "stdout",
     "output_type": "stream",
     "text": [
      "\u001b[34mINFO    \u001b[0m fibroblast consists of a single batch or is too small. Skip.                                              \n"
     ]
    },
    {
     "name": "stderr",
     "output_type": "stream",
     "text": [
      "/home/chzhan1/.local/lib/python3.9/site-packages/scib_metrics/_kbet.py:181: FutureWarning:\n",
      "\n",
      "pandas.value_counts is deprecated and will be removed in a future version. Use pd.Series(obj).value_counts() instead.\n",
      "\n",
      "/home/chzhan1/.local/lib/python3.9/site-packages/scib_metrics/_kbet.py:181: FutureWarning:\n",
      "\n",
      "pandas.value_counts is deprecated and will be removed in a future version. Use pd.Series(obj).value_counts() instead.\n",
      "\n",
      "/home/chzhan1/.local/lib/python3.9/site-packages/scib_metrics/_kbet.py:181: FutureWarning:\n",
      "\n",
      "pandas.value_counts is deprecated and will be removed in a future version. Use pd.Series(obj).value_counts() instead.\n",
      "\n",
      "/home/chzhan1/.local/lib/python3.9/site-packages/scib_metrics/_kbet.py:181: FutureWarning:\n",
      "\n",
      "pandas.value_counts is deprecated and will be removed in a future version. Use pd.Series(obj).value_counts() instead.\n",
      "\n",
      "/home/chzhan1/.local/lib/python3.9/site-packages/scib_metrics/_graph_connectivity.py:30: FutureWarning:\n",
      "\n",
      "pandas.value_counts is deprecated and will be removed in a future version. Use pd.Series(obj).value_counts() instead.\n",
      "\n",
      "Embeddings: 100%|\u001b[32m██████████\u001b[0m| 1/1 [00:01<00:00,  1.08s/it]\n"
     ]
    },
    {
     "name": "stdout",
     "output_type": "stream",
     "text": [
      "\n",
      "This model's overall score: 0.5814889586800367\n"
     ]
    }
   ],
   "source": [
    "import scvi\n",
    "\n",
    "# Set up the AnnData object\n",
    "scvi.model.SCVI.setup_anndata(adata, batch_key=batch_tag, labels_key = 'cell_type')\n",
    "\n",
    "# Parameters\n",
    "n_runs = 20  # Number of models to train\n",
    "overall_score = 0\n",
    "\n",
    "for i in range(n_runs):\n",
    "    print(f\"\\nTraining model run {i+1}/{n_runs}\\n\")\n",
    "\n",
    "    # Initialize the SCVI model\n",
    "    # model = scvi.model.SCVI(adata, n_hidden=64, n_layers=4, n_latent=3, gene_likelihood=\"zinb\")\n",
    "    model = scvi.model.SCVI(\n",
    "        adata,\n",
    "        n_hidden=256, n_layers=4, n_latent=3, gene_likelihood=\"nb\",\n",
    "        dropout_rate = 0.1, latent_distribution = 'norm', dispersion = 'gene-cell'\n",
    "    )\n",
    "    # Train the model with reproducibility\n",
    "    model.train(\n",
    "        plan_kwargs={'lr': 0.002670226895111946},\n",
    "        accelerator=device,\n",
    "        max_epochs=300,\n",
    "        early_stopping=True\n",
    "    )\n",
    "\n",
    "    # Get latent representation\n",
    "    adata.obsm[f'X_scVI_run_{i+1}'] = model.get_latent_representation()\n",
    "\n",
    "    bm = Benchmarker(\n",
    "        adata,\n",
    "        batch_key=batch_tag,\n",
    "        label_key=bio_tag,\n",
    "        embedding_obsm_keys=[f'X_scVI_run_{i+1}']\n",
    "    )\n",
    "    bm.benchmark()\n",
    "\n",
    "    current_overall_score = bm.get_results(min_max_scale=False)['Total'][f'X_scVI_run_{i+1}']\n",
    "    print(f\"\\nThis model's overall score: {current_overall_score}\")\n",
    "\n",
    "    if current_overall_score>overall_score:\n",
    "      print(\"\\nNew best model found!\")\n",
    "      best_model = model\n",
    "      overall_score = current_overall_score\n"
   ]
  },
  {
   "cell_type": "code",
   "execution_count": 80,
   "id": "32091b8c-2664-4e99-8add-ccff88632feb",
   "metadata": {},
   "outputs": [
    {
     "data": {
      "text/plain": [
       "AxisArrays with keys: X_scVI_run_1, X_pca, X_scVI_run_2, X_scVI_run_3, X_scVI_run_4, X_scVI_run_5, X_scVI_run_6, X_scVI_run_7, X_scVI_run_8, X_scVI_run_9, X_scVI_run_10, X_scVI_run_11, X_scVI_run_12, X_scVI_run_13, X_scVI_run_14, X_scVI_run_15, X_scVI_run_16, X_scVI_run_17, X_scVI_run_18, X_scVI_run_19, X_scVI_run_20"
      ]
     },
     "execution_count": 80,
     "metadata": {},
     "output_type": "execute_result"
    }
   ],
   "source": [
    "adata.obsm"
   ]
  },
  {
   "cell_type": "code",
   "execution_count": 81,
   "id": "cd553298-1bd3-439a-ac3d-42779a05ffd6",
   "metadata": {},
   "outputs": [],
   "source": [
    "scvi_matrix = best_model.get_latent_representation()\n",
    "\n",
    "\n",
    "#scvi_matrix_full = model.get_normalized_expression()\n",
    "\n",
    "scvi_matrix = pd.DataFrame(scvi_matrix)\n",
    "scvi_matrix['sample_id'] = df.index\n",
    "scvi_matrix = scvi_matrix.set_index('sample_id', drop = True)\n",
    "\n",
    "scvi_matrix.columns = scvi_matrix.columns = ['V' + str(col) for col in scvi_matrix.columns]"
   ]
  },
  {
   "cell_type": "code",
   "execution_count": 82,
   "id": "b5398dd9-e971-4552-8f1d-31b232dce5fc",
   "metadata": {},
   "outputs": [],
   "source": [
    "# Merge DataFrames by 'sample_id'\n",
    "scvi_representation_coordinates_merged = pd.merge(scvi_matrix, metadata, on='sample_id')\n",
    "\n",
    "# Replace NaN with 'NA'\n",
    "scvi_representation_coordinates_merged.fillna('NA', inplace=True)"
   ]
  },
  {
   "cell_type": "code",
   "execution_count": 83,
   "id": "9bc6afa9-77ca-4069-bec1-1c8996948ea8",
   "metadata": {},
   "outputs": [
    {
     "data": {
      "application/vnd.plotly.v1+json": {
       "config": {
        "plotlyServerURL": "https://plot.ly"
       },
       "data": [
        {
         "hovertemplate": "cell_type=conventional dendritic cell<br>prep_method_broad=illumina_truseq<br>V0=%{x}<br>V1=%{y}<br>V2=%{z}<extra></extra>",
         "legendgroup": "conventional dendritic cell, illumina_truseq",
         "marker": {
          "color": "#636efa",
          "size": 4,
          "symbol": "circle"
         },
         "mode": "markers",
         "name": "conventional dendritic cell, illumina_truseq",
         "scene": "scene",
         "showlegend": true,
         "type": "scatter3d",
         "x": [
          -2.587167,
          -2.63028,
          -2.4304578,
          -2.599715,
          -2.4579334,
          -2.5911849,
          -1.4135742,
          -1.5437117,
          -1.25685,
          -1.5523994,
          -1.6894386,
          -1.243752,
          -1.9136634,
          -1.9579713,
          -2.2248409,
          3.3658664,
          -1.1954548,
          -1.6294158
         ],
         "y": [
          7.44012,
          5.3685155,
          7.2027545,
          4.4994507,
          7.0733867,
          5.2743707,
          7.2160563,
          7.6810346,
          7.0572753,
          6.9678006,
          7.3755317,
          7.01028,
          2.654193,
          2.8971958,
          3.9047894,
          8.684847,
          5.8671923,
          6.423638
         ],
         "z": [
          0.8215543,
          1.9828619,
          0.6018088,
          2.2928872,
          0.47665647,
          1.6816406,
          3.4195125,
          2.868147,
          2.5119233,
          3.6128752,
          3.2774112,
          2.642419,
          3.4278452,
          3.6875927,
          3.2248943,
          4.914197,
          0.6977739,
          1.1134099
         ]
        },
        {
         "hovertemplate": "cell_type=conventional dendritic cell<br>prep_method_broad=smartseq_unknown<br>V0=%{x}<br>V1=%{y}<br>V2=%{z}<extra></extra>",
         "legendgroup": "conventional dendritic cell, smartseq_unknown",
         "marker": {
          "color": "#636efa",
          "size": 4,
          "symbol": "diamond"
         },
         "mode": "markers",
         "name": "conventional dendritic cell, smartseq_unknown",
         "scene": "scene",
         "showlegend": true,
         "type": "scatter3d",
         "x": [
          -1.6532726,
          -2.3818667,
          -1.6604846,
          -1.5407209,
          -2.4479601,
          0.7550937
         ],
         "y": [
          6.259336,
          5.679711,
          5.838257,
          5.168455,
          6.4717407,
          7.3226047
         ],
         "z": [
          5.2346234,
          4.6185513,
          3.9027317,
          3.9744925,
          4.8215075,
          7.860492
         ]
        },
        {
         "hovertemplate": "cell_type=conventional dendritic cell<br>prep_method_broad=nugen<br>V0=%{x}<br>V1=%{y}<br>V2=%{z}<extra></extra>",
         "legendgroup": "conventional dendritic cell, nugen",
         "marker": {
          "color": "#636efa",
          "size": 4,
          "symbol": "square"
         },
         "mode": "markers",
         "name": "conventional dendritic cell, nugen",
         "scene": "scene",
         "showlegend": true,
         "type": "scatter3d",
         "x": [
          -1.8161368,
          -1.9756224,
          -2.3511648,
          -1.9532256,
          -2.2345736,
          -2.1074843,
          -2.868753,
          1.2712953,
          1.627321,
          1.2360926,
          0.8402523,
          0.60700166,
          0.99366117
         ],
         "y": [
          6.3897834,
          7.818666,
          7.559139,
          6.5040927,
          6.7043395,
          6.313198,
          5.876056,
          1.6376582,
          1.6453754,
          1.9673008,
          2.5762196,
          2.6416025,
          2.5280719
         ],
         "z": [
          4.6122403,
          5.2433014,
          4.1985407,
          4.2180157,
          1.1654397,
          0.76712054,
          0.6537257,
          0.3028421,
          0.4104855,
          0.37572154,
          -0.7478954,
          -0.6715995,
          -0.37932715
         ]
        },
        {
         "hovertemplate": "cell_type=plasmacytoid dendritic cell<br>prep_method_broad=illumina_truseq<br>V0=%{x}<br>V1=%{y}<br>V2=%{z}<extra></extra>",
         "legendgroup": "plasmacytoid dendritic cell, illumina_truseq",
         "marker": {
          "color": "#EF553B",
          "size": 4,
          "symbol": "circle"
         },
         "mode": "markers",
         "name": "plasmacytoid dendritic cell, illumina_truseq",
         "scene": "scene",
         "showlegend": true,
         "type": "scatter3d",
         "x": [
          -5.667503,
          -4.0722113,
          -5.9546494,
          -5.833393,
          -6.009771,
          -6.0072813,
          1.4847233,
          -3.755572,
          -4.232092
         ],
         "y": [
          5.551435,
          5.9466224,
          5.711536,
          5.853436,
          5.5724015,
          4.7616434,
          6.8881497,
          4.448624,
          4.355167
         ],
         "z": [
          0.6421509,
          1.1536192,
          0.3621135,
          0.2706536,
          0.18104452,
          0.62223375,
          3.723292,
          2.4262528,
          3.1584103
         ]
        },
        {
         "hovertemplate": "cell_type=plasmacytoid dendritic cell<br>prep_method_broad=nugen<br>V0=%{x}<br>V1=%{y}<br>V2=%{z}<extra></extra>",
         "legendgroup": "plasmacytoid dendritic cell, nugen",
         "marker": {
          "color": "#EF553B",
          "size": 4,
          "symbol": "square"
         },
         "mode": "markers",
         "name": "plasmacytoid dendritic cell, nugen",
         "scene": "scene",
         "showlegend": true,
         "type": "scatter3d",
         "x": [
          -0.30889517,
          0.496676,
          -0.8119646,
          -1.0780823,
          -0.67284936
         ],
         "y": [
          1.7283045,
          1.9804558,
          2.4235058,
          2.60288,
          2.3627071
         ],
         "z": [
          0.5548056,
          0.15756251,
          -0.15200832,
          -0.14647782,
          -0.24826118
         ]
        },
        {
         "hovertemplate": "cell_type=plasmacytoid dendritic cell<br>prep_method_broad=illumina_nextera<br>V0=%{x}<br>V1=%{y}<br>V2=%{z}<extra></extra>",
         "legendgroup": "plasmacytoid dendritic cell, illumina_nextera",
         "marker": {
          "color": "#EF553B",
          "size": 4,
          "symbol": "diamond"
         },
         "mode": "markers",
         "name": "plasmacytoid dendritic cell, illumina_nextera",
         "scene": "scene",
         "showlegend": true,
         "type": "scatter3d",
         "x": [
          -2.706199,
          -2.1620128,
          -2.9285035,
          -2.8409245
         ],
         "y": [
          3.219513,
          3.001802,
          3.3983822,
          3.4847417
         ],
         "z": [
          0.21255568,
          0.3133525,
          -0.23667535,
          -0.24971095
         ]
        },
        {
         "hovertemplate": "cell_type=dendritic cell<br>prep_method_broad=illumina_truseq<br>V0=%{x}<br>V1=%{y}<br>V2=%{z}<extra></extra>",
         "legendgroup": "dendritic cell, illumina_truseq",
         "marker": {
          "color": "#00cc96",
          "size": 4,
          "symbol": "circle"
         },
         "mode": "markers",
         "name": "dendritic cell, illumina_truseq",
         "scene": "scene",
         "showlegend": true,
         "type": "scatter3d",
         "x": [
          0.32319313,
          0.060955346,
          0.24288207,
          0.14624828,
          0.21387058,
          -0.030084193,
          3.2458026,
          3.693971,
          3.1182828,
          3.3075845,
          3.3873432
         ],
         "y": [
          3.939942,
          4.210037,
          4.2679405,
          4.5486083,
          4.3576655,
          4.253923,
          6.0977216,
          5.708485,
          4.7222013,
          5.075187,
          5.5517488
         ],
         "z": [
          1.037297,
          0.8983316,
          0.79364884,
          0.7604236,
          0.643653,
          0.9729681,
          0.4937624,
          0.8808563,
          0.59528863,
          0.7549392,
          1.0471
         ]
        },
        {
         "hovertemplate": "cell_type=dendritic cell<br>prep_method_broad=illumina_nextera<br>V0=%{x}<br>V1=%{y}<br>V2=%{z}<extra></extra>",
         "legendgroup": "dendritic cell, illumina_nextera",
         "marker": {
          "color": "#00cc96",
          "size": 4,
          "symbol": "diamond"
         },
         "mode": "markers",
         "name": "dendritic cell, illumina_nextera",
         "scene": "scene",
         "showlegend": true,
         "type": "scatter3d",
         "x": [
          -0.16078454,
          -0.62822276,
          -0.71170264,
          -0.603206
         ],
         "y": [
          5.0855055,
          5.2257004,
          4.7258067,
          4.8787446
         ],
         "z": [
          0.091083966,
          0.5537179,
          -0.6047543,
          -0.87004685
         ]
        },
        {
         "hovertemplate": "cell_type=monocyte<br>prep_method_broad=illumina_truseq<br>V0=%{x}<br>V1=%{y}<br>V2=%{z}<extra></extra>",
         "legendgroup": "monocyte, illumina_truseq",
         "marker": {
          "color": "#ab63fa",
          "size": 4,
          "symbol": "circle"
         },
         "mode": "markers",
         "name": "monocyte, illumina_truseq",
         "scene": "scene",
         "showlegend": true,
         "type": "scatter3d",
         "x": [
          2.1371865,
          3.9605062,
          2.2391615,
          2.2136903,
          2.0247617,
          2.69324,
          1.9862189,
          1.8472793,
          1.7747731,
          1.7810276,
          3.3692288,
          2.9438608,
          -1.4004955,
          -1.1877515,
          -1.7765462,
          -1.3658011,
          -1.4419382,
          -1.4778721,
          -1.3724701,
          -1.3755686,
          -1.3413033,
          1.9084783,
          1.7668993,
          1.9567904,
          2.1820345
         ],
         "y": [
          6.348131,
          7.9920497,
          7.193296,
          6.9906507,
          7.0239415,
          7.9208474,
          6.7620125,
          7.1315856,
          7.1773763,
          6.845387,
          8.0843525,
          7.7887244,
          9.399749,
          9.437151,
          8.414421,
          9.948082,
          9.85956,
          8.940049,
          8.649715,
          8.751763,
          8.70781,
          5.3543153,
          5.2053323,
          5.5088177,
          5.259791
         ],
         "z": [
          -2.8815641,
          -1.4855891,
          -1.9453062,
          -2.1607714,
          -2.0107524,
          -1.9003414,
          -2.1733778,
          -2.0711036,
          -1.9787253,
          -2.1719277,
          -1.7657903,
          -2.0879145,
          -2.5646303,
          -2.8054552,
          -2.7271965,
          -2.724417,
          -2.1836863,
          -2.8992836,
          -3.0304425,
          -2.8001516,
          -2.9080868,
          1.8658199,
          1.8244169,
          1.7454242,
          1.6249199
         ]
        },
        {
         "hovertemplate": "cell_type=monocyte<br>prep_method_broad=nugen<br>V0=%{x}<br>V1=%{y}<br>V2=%{z}<extra></extra>",
         "legendgroup": "monocyte, nugen",
         "marker": {
          "color": "#ab63fa",
          "size": 4,
          "symbol": "square"
         },
         "mode": "markers",
         "name": "monocyte, nugen",
         "scene": "scene",
         "showlegend": true,
         "type": "scatter3d",
         "x": [
          1.4657161,
          2.5188248,
          2.1092978,
          3.820027,
          -1.0194304,
          -0.9094576,
          -0.9615945,
          -0.643918
         ],
         "y": [
          8.743086,
          8.911621,
          8.4511595,
          9.578883,
          9.569181,
          9.8187275,
          9.003245,
          9.766706
         ],
         "z": [
          -0.6138235,
          0.4885346,
          0.21467814,
          2.4871285,
          -1.5498735,
          -1.2439535,
          -1.2526437,
          -1.3969121
         ]
        },
        {
         "hovertemplate": "cell_type=monocyte<br>prep_method_broad=illumina_nextera<br>V0=%{x}<br>V1=%{y}<br>V2=%{z}<extra></extra>",
         "legendgroup": "monocyte, illumina_nextera",
         "marker": {
          "color": "#ab63fa",
          "size": 4,
          "symbol": "diamond"
         },
         "mode": "markers",
         "name": "monocyte, illumina_nextera",
         "scene": "scene",
         "showlegend": true,
         "type": "scatter3d",
         "x": [
          1.6151228,
          1.524819,
          1.4674978,
          1.0428228,
          0.5848106,
          0.81778145,
          0.2608326,
          0.44851547,
          0.520975,
          0.36598372,
          0.29005218,
          0.48835608
         ],
         "y": [
          7.571359,
          7.3072877,
          7.12437,
          7.1987605,
          7.5906796,
          7.1355014,
          7.2770896,
          6.511686,
          6.5723453,
          7.136043,
          6.5813527,
          6.58955
         ],
         "z": [
          -0.13510382,
          -0.65140605,
          -0.41791797,
          -1.135526,
          -1.1015091,
          -1.2829472,
          -1.7389295,
          -1.500933,
          -1.5291209,
          -1.8057779,
          -2.0136685,
          -1.8627583
         ]
        },
        {
         "hovertemplate": "cell_type=neural progenitor cell<br>prep_method_broad=illumina_truseq<br>V0=%{x}<br>V1=%{y}<br>V2=%{z}<extra></extra>",
         "legendgroup": "neural progenitor cell, illumina_truseq",
         "marker": {
          "color": "#FFA15A",
          "size": 4,
          "symbol": "circle"
         },
         "mode": "markers",
         "name": "neural progenitor cell, illumina_truseq",
         "scene": "scene",
         "showlegend": true,
         "type": "scatter3d",
         "x": [
          -3.7304509,
          -3.8147995,
          -3.7311432,
          -3.283192,
          -3.2257216,
          -3.2544596,
          -3.6744058,
          -3.1760552,
          -3.36929
         ],
         "y": [
          -2.8434584,
          -2.8516579,
          -2.794084,
          -2.9871826,
          -2.9726925,
          -2.9557183,
          0.21400023,
          0.2339431,
          0.27124965
         ],
         "z": [
          0.19867378,
          0.15365362,
          0.1047276,
          0.5098826,
          0.5511924,
          0.43748537,
          0.07571183,
          0.6006941,
          0.17703131
         ]
        },
        {
         "hovertemplate": "cell_type=neural progenitor cell<br>prep_method_broad=smartseq_unknown<br>V0=%{x}<br>V1=%{y}<br>V2=%{z}<extra></extra>",
         "legendgroup": "neural progenitor cell, smartseq_unknown",
         "marker": {
          "color": "#FFA15A",
          "size": 4,
          "symbol": "diamond"
         },
         "mode": "markers",
         "name": "neural progenitor cell, smartseq_unknown",
         "scene": "scene",
         "showlegend": true,
         "type": "scatter3d",
         "x": [
          -3.013062,
          0.27657527,
          0.14976406,
          -1.3641274,
          -0.77230316,
          -2.9724572,
          -4.2507553,
          -4.1622963,
          -1.7975123,
          -0.37514085,
          -1.5183475,
          -1.0295107,
          -1.0539536,
          -1.4721866,
          -2.093925,
          -3.2053683,
          -4.470316,
          -0.47032112,
          -1.0580075,
          -1.5728805,
          -2.04798,
          -2.024913,
          -3.094476,
          -2.4974124,
          -3.4271643,
          -1.7290645,
          -2.0063133,
          2.804861,
          2.8639126,
          2.49433,
          3.1420028
         ],
         "y": [
          -0.41532946,
          -2.2920413,
          -2.6037788,
          -2.3357508,
          -2.9755654,
          -2.5484705,
          -2.5744495,
          -2.4011283,
          -2.1960115,
          -2.3823144,
          -1.292509,
          -2.3913631,
          -1.2461653,
          -2.6135764,
          -1.0153006,
          -2.6157289,
          -2.8705068,
          -2.929615,
          -0.5831293,
          -0.54348826,
          -0.7859454,
          -2.8545775,
          -2.6121428,
          -3.0834208,
          -2.722962,
          -1.7273448,
          -0.63718593,
          -1.3625395,
          -1.4605818,
          -1.8495349,
          -1.5123019
         ],
         "z": [
          0.2023451,
          2.655025,
          2.6811862,
          1.7673612,
          2.003879,
          2.2879755,
          2.2070858,
          0.29185563,
          -0.20748326,
          2.4163826,
          1.1196826,
          0.8243223,
          -0.0026349947,
          0.95291865,
          -0.7724759,
          1.6068982,
          0.4121669,
          0.7294277,
          -0.14898288,
          -0.5185707,
          -0.4761671,
          1.6112372,
          0.26724276,
          1.6603004,
          0.11621506,
          1.2419878,
          -1.0532607,
          -2.1713684,
          -2.1035347,
          -2.2800777,
          -1.9728316
         ]
        },
        {
         "hovertemplate": "cell_type=embryonic stem cell<br>prep_method_broad=illumina_truseq<br>V0=%{x}<br>V1=%{y}<br>V2=%{z}<extra></extra>",
         "legendgroup": "embryonic stem cell, illumina_truseq",
         "marker": {
          "color": "#19d3f3",
          "size": 4,
          "symbol": "circle"
         },
         "mode": "markers",
         "name": "embryonic stem cell, illumina_truseq",
         "scene": "scene",
         "showlegend": true,
         "type": "scatter3d",
         "x": [
          2.2042067,
          2.1712735,
          1.7767675,
          1.7123694,
          3.7580044,
          3.7282217,
          3.7633154,
          3.6213157,
          3.5221941,
          3.8320203,
          3.6039326,
          2.3926368,
          2.287927,
          2.2596676,
          2.7953904,
          2.5107007,
          3.0238333,
          5.261046,
          3.6792707,
          2.1841621,
          2.5879574,
          2.4570968,
          5.3326445,
          2.175818,
          4.6208224,
          1.9018198,
          4.1844783,
          4.1190586,
          4.1110373,
          4.0957146
         ],
         "y": [
          -1.6995621,
          -1.8321056,
          -1.8288927,
          -1.805773,
          -4.483661,
          -4.469301,
          -4.527071,
          -4.431036,
          -4.389995,
          -4.259156,
          -4.334546,
          -3.2664547,
          -3.2157226,
          -3.2445483,
          -3.705007,
          -3.4740195,
          -0.8112463,
          -1.3367174,
          -1.0944868,
          -0.5298039,
          -0.75807357,
          -0.67356145,
          -1.3717834,
          -1.754513,
          -1.6627188,
          -1.1532986,
          -1.103474,
          -1.0925328,
          -1.040291,
          -1.1340631
         ],
         "z": [
          -1.3586792,
          -1.4007038,
          -0.60791147,
          -0.5661855,
          -0.8593836,
          -0.8159867,
          -0.84511787,
          -0.78891814,
          -0.2594417,
          -0.6227575,
          -0.23680589,
          0.82682335,
          0.83100855,
          0.9037129,
          -0.044245265,
          0.21254957,
          1.5964206,
          -0.1119537,
          1.64944,
          0.9368745,
          1.3722683,
          1.5103,
          -0.2793773,
          1.0122087,
          -1.5851706,
          1.037945,
          0.7324579,
          0.7795006,
          0.7389496,
          1.0422928
         ]
        },
        {
         "hovertemplate": "cell_type=embryonic stem cell<br>prep_method_broad=nextflex96<br>V0=%{x}<br>V1=%{y}<br>V2=%{z}<extra></extra>",
         "legendgroup": "embryonic stem cell, nextflex96",
         "marker": {
          "color": "#19d3f3",
          "size": 4,
          "symbol": "x"
         },
         "mode": "markers",
         "name": "embryonic stem cell, nextflex96",
         "scene": "scene",
         "showlegend": true,
         "type": "scatter3d",
         "x": [
          0.720363,
          -0.01950401,
          1.0449085,
          0.6616664,
          1.4162306,
          0.90703493,
          0.8218576
         ],
         "y": [
          -1.408764,
          -0.3172229,
          -1.2587328,
          -0.8312327,
          -1.0530832,
          -0.6809062,
          -0.6415361
         ],
         "z": [
          1.6684957,
          2.3297591,
          2.029062,
          2.3749194,
          3.4171896,
          3.5084999,
          3.5610301
         ]
        },
        {
         "hovertemplate": "cell_type=embryonic stem cell<br>prep_method_broad=nebnext<br>V0=%{x}<br>V1=%{y}<br>V2=%{z}<extra></extra>",
         "legendgroup": "embryonic stem cell, nebnext",
         "marker": {
          "color": "#19d3f3",
          "size": 4,
          "symbol": "cross"
         },
         "mode": "markers",
         "name": "embryonic stem cell, nebnext",
         "scene": "scene",
         "showlegend": true,
         "type": "scatter3d",
         "x": [
          -1.2110975,
          -0.40047985,
          -1.0042236,
          1.9007633,
          2.61186,
          2.8161132,
          3.921663,
          2.547148,
          3.2750795,
          3.4040565,
          1.8331611,
          1.3165377,
          3.6157892,
          4.256857,
          4.5892506,
          4.1762605,
          2.6160455,
          4.50034,
          6.143432,
          6.0707717,
          6.098292,
          -1.0953598,
          -1.3734229,
          -0.27914423
         ],
         "y": [
          -2.776666,
          -2.1765604,
          -2.4694328,
          -1.889538,
          -2.0818515,
          -2.403695,
          -2.4733012,
          -3.083714,
          -2.7663555,
          -2.3065584,
          -2.4359798,
          -2.4228473,
          -2.7255378,
          -3.152749,
          -2.186633,
          -2.4862084,
          -2.1142097,
          -2.591642,
          -2.86083,
          -2.8136,
          -2.6495204,
          -6.332001,
          -6.1314564,
          -6.5427103
         ],
         "z": [
          -0.1606625,
          -0.5466738,
          -0.04996123,
          -1.4687425,
          -1.3450168,
          -2.612582,
          -1.2425294,
          0.51136005,
          -0.62770116,
          -1.3325878,
          -0.31233665,
          0.05961377,
          2.0436099,
          1.8894806,
          1.475451,
          1.2895243,
          2.5207913,
          1.9378767,
          0.17020029,
          0.1649892,
          0.015800707,
          0.29076153,
          0.63553953,
          -1.3798442
         ]
        },
        {
         "hovertemplate": "cell_type=induced pluripotent stem cell<br>prep_method_broad=illumina_truseq<br>V0=%{x}<br>V1=%{y}<br>V2=%{z}<extra></extra>",
         "legendgroup": "induced pluripotent stem cell, illumina_truseq",
         "marker": {
          "color": "#FF6692",
          "size": 4,
          "symbol": "circle"
         },
         "mode": "markers",
         "name": "induced pluripotent stem cell, illumina_truseq",
         "scene": "scene",
         "showlegend": true,
         "type": "scatter3d",
         "x": [
          -1.6291573,
          -1.7089067,
          -1.5676966,
          0.19537121,
          0.19113517,
          0.40817332,
          0.3457108,
          0.08180624,
          -0.010553002,
          1.3970305,
          1.835614,
          1.7160997,
          2.4998152,
          1.8806615,
          1.4445511,
          2.9444244,
          1.4524444,
          2.249163,
          1.8562725,
          2.0902925,
          1.1271894,
          1.9408798,
          1.2786958,
          0.7099753,
          0.71611,
          0.497398,
          1.3474836,
          0.9233993,
          0.8981255,
          1.1775653,
          0.80822873,
          -0.4613214,
          0.537093,
          2.0944693,
          1.9900982,
          -0.4171918,
          0.47281623,
          -0.44926256,
          1.3042166,
          -0.58568245,
          0.18429512,
          2.7371716,
          2.5981693,
          2.1420004,
          4.1532845,
          4.12652,
          4.1359124,
          1.0988048,
          1.2036356,
          0.82078826,
          1.3222008,
          1.3767273,
          0.7402314,
          1.7013149,
          1.5859094,
          2.1162164,
          2.23476,
          2.3681152,
          0.35713327,
          -0.35880214,
          -0.08366567,
          1.7203555,
          2.9396114,
          3.2416425,
          1.0029789,
          1.1187278,
          0.8984942,
          0.41492087,
          0.09712088,
          0.34362513,
          0.3678984,
          0.4803615,
          0.29019827,
          0.32299715,
          -0.5785076,
          0.56341076,
          -0.84723383,
          4.624323,
          4.0136614,
          2.2446404,
          1.9655082,
          1.7825189,
          1.7161304,
          -0.37112647,
          -0.4013583,
          -0.7411309,
          -0.45189804,
          -0.08244914,
          -1.2733278,
          -1.0518541,
          -1.2670102,
          1.3084645,
          1.2873536,
          1.2418144,
          1.3664627,
          1.3947507,
          1.2540735,
          0.98406774,
          1.8096895,
          1.2739769,
          0.332453,
          0.40224278,
          0.2888353,
          2.1966999,
          2.0482063,
          1.6774738,
          3.0906444,
          3.0051131,
          1.7266603,
          1.1320345,
          4.193431,
          -0.49114174,
          -0.4253016,
          0.090093434,
          0.5129525,
          4.4093823,
          0.26140845,
          0.7252547,
          1.1954044,
          0.43548685,
          2.3770337,
          3.078248,
          2.840343,
          1.2675629,
          1.0468282,
          3.344979,
          -0.3816635,
          -0.8776271,
          -0.7985826,
          -1.4065182,
          -0.749144,
          -1.2151148,
          0.3221959,
          0.33766848,
          0.1779365,
          1.1901355,
          1.1335503,
          1.1236649,
          -0.4563977,
          0.010511696,
          0.110078156,
          -0.22148079,
          -0.1788277,
          -0.35968703,
          4.048943,
          4.201812,
          4.1175776,
          0.18458527,
          -0.51181036,
          0.11537576,
          -1.3194361,
          -1.5069711,
          -2.1059325,
          -0.6070166,
          -0.28928465,
          -0.5619518,
          1.7466795,
          2.1514194,
          2.7364147,
          2.3839335,
          2.6451402,
          3.3480442,
          2.7294362,
          2.2447968,
          2.0936148,
          2.3668633,
          2.355463,
          1.668837,
          4.9286203,
          4.598823,
          4.6824737,
          4.636018,
          2.6293736,
          2.7102177,
          4.238402,
          4.093331,
          4.843263
         ],
         "y": [
          -2.9566302,
          -2.8976989,
          -2.889443,
          -1.9479378,
          -1.519023,
          -2.1262712,
          -1.7295815,
          -1.4357243,
          -1.7968737,
          -7.7387877,
          -7.6550636,
          -7.890585,
          -7.3242126,
          -7.5399337,
          -6.1481986,
          -5.4730563,
          -6.420141,
          -7.3403606,
          -7.387854,
          -7.3186836,
          -7.5517554,
          -7.814441,
          -8.002895,
          -6.8567395,
          -7.739884,
          -7.775882,
          -5.0585594,
          -7.259705,
          -7.2651234,
          -7.3165855,
          -7.1992106,
          -7.3485394,
          -7.046923,
          -5.082815,
          -5.094501,
          -5.053657,
          -3.8299036,
          -4.821722,
          -5.253057,
          -5.194774,
          -5.6157255,
          -6.4932837,
          -6.7796984,
          -7.1842947,
          -7.4614305,
          -7.5504375,
          -7.6045055,
          -8.57614,
          -8.614187,
          -8.692532,
          -5.114846,
          -4.4203253,
          -5.2274747,
          -5.0875998,
          -5.379835,
          -6.9010577,
          -6.7691207,
          -6.5140095,
          -4.8221936,
          -5.42364,
          -5.9081187,
          -5.9468355,
          -6.9800224,
          -7.0037527,
          -7.4634347,
          -7.5687094,
          -7.0154266,
          -3.237535,
          -2.697813,
          -3.164194,
          -3.0338962,
          -3.124146,
          -2.820664,
          -2.9727788,
          -6.263922,
          -7.352992,
          -5.832149,
          -7.7533054,
          -7.068004,
          -5.995808,
          -7.637049,
          -7.826068,
          -7.7071357,
          -6.7421427,
          -6.519233,
          -6.060728,
          -6.4405694,
          -6.5267525,
          -4.8127766,
          -4.920583,
          -4.568016,
          -7.3472915,
          -7.2216277,
          -7.08503,
          -6.3287563,
          -6.1270394,
          -6.2453456,
          -6.10646,
          -5.908028,
          -6.0257645,
          -4.7396135,
          -4.043485,
          -4.3586903,
          -6.228251,
          -6.2965345,
          -5.818287,
          -6.72244,
          -6.6502028,
          -6.967172,
          -7.24156,
          -6.429427,
          -5.0669556,
          -4.8806295,
          -5.0491996,
          -4.4980483,
          -4.354761,
          -5.007943,
          -5.3302755,
          -5.5174975,
          -3.8531322,
          -6.642728,
          -6.334288,
          -6.42882,
          -6.3185997,
          -6.339868,
          -7.9278517,
          -5.0931983,
          -5.083647,
          -4.8452196,
          -6.220685,
          -5.506955,
          -5.925717,
          -3.4544373,
          -3.3748784,
          -3.2237272,
          -6.81179,
          -7.539259,
          -7.5624466,
          -5.4015055,
          -3.805513,
          -4.636635,
          -5.643079,
          -5.7449784,
          -5.5307417,
          -7.6472697,
          -7.8043485,
          -7.8354397,
          -5.7195005,
          -5.1194153,
          -5.784529,
          -3.5270119,
          -3.495758,
          -3.3241124,
          -3.5246654,
          -5.437599,
          -5.545614,
          -7.798484,
          -7.7579536,
          -6.827605,
          -7.7117863,
          -7.6802387,
          -6.75114,
          -6.3245745,
          -6.786516,
          -6.3548055,
          -7.0959334,
          -7.3182735,
          -6.990912,
          -3.368929,
          -3.18434,
          -3.4447808,
          -3.4323654,
          -4.0107102,
          -1.9368358,
          -2.5194564,
          -2.0907845,
          -2.5627654
         ],
         "z": [
          3.5485332,
          3.6558867,
          3.515901,
          1.7482044,
          1.4290155,
          1.6361369,
          1.7129295,
          1.5002748,
          1.4813892,
          0.9471265,
          1.0981201,
          1.0165385,
          -0.14287463,
          -0.09462706,
          1.9799556,
          -1.5706843,
          1.7190263,
          1.3766634,
          1.9826572,
          2.0785565,
          -0.5672326,
          -0.5458163,
          -0.78861207,
          1.5664006,
          2.2348773,
          2.0775278,
          1.4003606,
          0.45320308,
          0.28129855,
          0.47064173,
          1.0296445,
          0.15330994,
          0.72113216,
          0.89968365,
          0.98870665,
          0.46074066,
          0.1951051,
          0.75100917,
          1.2052007,
          1.3358716,
          1.760279,
          1.2788419,
          1.0984286,
          0.9072191,
          0.56275064,
          0.47393462,
          0.5814407,
          -0.61259586,
          -0.47887668,
          -0.3248447,
          -0.7093721,
          -0.38786754,
          -0.08991257,
          -0.6594573,
          -1.1400822,
          0.1920763,
          0.37588283,
          0.42376888,
          0.14079678,
          0.7081176,
          1.0188515,
          -0.2608004,
          -1.500569,
          -1.6259079,
          0.50365376,
          0.49062535,
          0.6146377,
          -0.260759,
          -0.945348,
          -0.28972518,
          -0.46646366,
          -0.34338728,
          -0.6842482,
          -0.5255705,
          1.5838828,
          -0.0075014755,
          1.6088271,
          -2.1928868,
          -1.2616847,
          -0.6354803,
          1.7607771,
          1.5933816,
          1.5503732,
          0.5930771,
          0.7847059,
          -0.065068506,
          0.82783866,
          0.6804392,
          -0.3123215,
          -0.36199215,
          -0.42706224,
          0.6309793,
          0.51528466,
          0.48403248,
          0.6216775,
          1.0151691,
          0.4954979,
          2.1020544,
          1.5218939,
          2.178684,
          1.0760823,
          0.8514341,
          0.9161241,
          1.0038753,
          1.6199255,
          1.9415785,
          0.39934245,
          0.19896817,
          0.38931578,
          0.6442592,
          -4.157356,
          -1.1194783,
          -1.0735823,
          -1.1639909,
          0.53923863,
          -3.4314728,
          0.81716067,
          0.46174058,
          0.48746076,
          0.48956394,
          0.29204687,
          0.33743,
          0.103114,
          0.4418783,
          0.6443875,
          -1.7675093,
          -1.3360895,
          -0.7670882,
          -0.6936556,
          1.3837469,
          2.0022488,
          1.6538963,
          0.40150306,
          0.55612135,
          0.25669762,
          0.1508053,
          0.61113304,
          0.648129,
          0.5977142,
          0.23443604,
          0.47029826,
          1.8353914,
          1.6976438,
          1.8005589,
          0.6604601,
          0.57330155,
          0.49226433,
          0.40846318,
          0.7928142,
          0.40458396,
          -1.6015619,
          -1.5760964,
          -1.6601442,
          -2.192623,
          0.5232202,
          0.89673316,
          0.74205804,
          0.80680645,
          0.41837543,
          -0.40769133,
          -0.15003288,
          0.1513364,
          1.0181895,
          0.96821016,
          1.3545839,
          0.082376294,
          -0.6924336,
          0.96220654,
          2.0821671,
          2.428886,
          2.2642856,
          2.5809736,
          0.905154,
          3.6389563,
          3.0864491,
          2.8654518,
          2.341221
         ]
        },
        {
         "hovertemplate": "cell_type=induced pluripotent stem cell<br>prep_method_broad=nugen<br>V0=%{x}<br>V1=%{y}<br>V2=%{z}<extra></extra>",
         "legendgroup": "induced pluripotent stem cell, nugen",
         "marker": {
          "color": "#FF6692",
          "size": 4,
          "symbol": "square"
         },
         "mode": "markers",
         "name": "induced pluripotent stem cell, nugen",
         "scene": "scene",
         "showlegend": true,
         "type": "scatter3d",
         "x": [
          1.5447484,
          0.8078113,
          0.67817557,
          0.9863615,
          0.9049065
         ],
         "y": [
          -3.6744108,
          -3.4227161,
          -3.2575412,
          -3.7788258,
          -3.5808725
         ],
         "z": [
          2.2583354,
          2.5726252,
          2.8112671,
          2.5649517,
          2.4701579
         ]
        },
        {
         "hovertemplate": "cell_type=induced pluripotent stem cell<br>prep_method_broad=illumina_unknown<br>V0=%{x}<br>V1=%{y}<br>V2=%{z}<extra></extra>",
         "legendgroup": "induced pluripotent stem cell, illumina_unknown",
         "marker": {
          "color": "#FF6692",
          "size": 4,
          "symbol": "circle"
         },
         "mode": "markers",
         "name": "induced pluripotent stem cell, illumina_unknown",
         "scene": "scene",
         "showlegend": true,
         "type": "scatter3d",
         "x": [
          -1.7659736,
          -1.7057929,
          -1.5779445
         ],
         "y": [
          -3.6017213,
          -3.5224323,
          -3.6066933
         ],
         "z": [
          3.6093245,
          3.5527754,
          3.5270174
         ]
        },
        {
         "hovertemplate": "cell_type=fibroblast<br>prep_method_broad=illumina_truseq<br>V0=%{x}<br>V1=%{y}<br>V2=%{z}<extra></extra>",
         "legendgroup": "fibroblast, illumina_truseq",
         "marker": {
          "color": "#B6E880",
          "size": 4,
          "symbol": "circle"
         },
         "mode": "markers",
         "name": "fibroblast, illumina_truseq",
         "scene": "scene",
         "showlegend": true,
         "type": "scatter3d",
         "x": [
          0.35026628,
          0.19823408,
          0.0296067,
          -0.3924728,
          0.8206123,
          1.6907085
         ],
         "y": [
          -0.47803438,
          -0.44363457,
          -0.41869485,
          -0.46883142,
          -0.35200888,
          -0.75993085
         ],
         "z": [
          -1.7261468,
          -1.6919032,
          -1.5837551,
          -2.290816,
          -2.1091056,
          -2.98899
         ]
        },
        {
         "hovertemplate": "cell_type=microglial cell<br>prep_method_broad=illumina_truseq<br>V0=%{x}<br>V1=%{y}<br>V2=%{z}<extra></extra>",
         "legendgroup": "microglial cell, illumina_truseq",
         "marker": {
          "color": "#FF97FF",
          "size": 4,
          "symbol": "circle"
         },
         "mode": "markers",
         "name": "microglial cell, illumina_truseq",
         "scene": "scene",
         "showlegend": true,
         "type": "scatter3d",
         "x": [
          -2.3379123,
          -2.3814363,
          -2.2196765,
          -2.3861094,
          -2.2265985,
          -2.4184043,
          1.7614357,
          2.3692515,
          2.4902685,
          2.4126842,
          2.67904,
          3.5687556,
          0.43926805,
          0.5901992,
          0.6018708,
          1.2736208,
          -0.12183076,
          -0.13579947
         ],
         "y": [
          4.859592,
          4.172459,
          4.639142,
          4.821154,
          4.5743933,
          4.785422,
          4.5242596,
          4.571058,
          4.037416,
          4.393897,
          4.559762,
          3.074284,
          2.6020536,
          2.562376,
          2.4681516,
          1.6835631,
          3.2441444,
          3.2881384
         ],
         "z": [
          -3.200952,
          -3.065569,
          -3.2799497,
          -3.2726758,
          -3.3483717,
          -3.408724,
          -4.5576053,
          -4.6023626,
          -4.6877317,
          -4.403941,
          -4.61247,
          -4.403494,
          -1.3882926,
          -1.4040213,
          -1.4045669,
          -1.4341775,
          -1.4405761,
          -1.3872911
         ]
        },
        {
         "hovertemplate": "cell_type=microglial cell<br>prep_method_broad=smartseq_unknown<br>V0=%{x}<br>V1=%{y}<br>V2=%{z}<extra></extra>",
         "legendgroup": "microglial cell, smartseq_unknown",
         "marker": {
          "color": "#FF97FF",
          "size": 4,
          "symbol": "diamond"
         },
         "mode": "markers",
         "name": "microglial cell, smartseq_unknown",
         "scene": "scene",
         "showlegend": true,
         "type": "scatter3d",
         "x": [
          3.9312842,
          3.811021,
          1.8593621,
          1.5268457,
          1.3525826,
          1.2556579,
          3.6113904,
          2.8349202
         ],
         "y": [
          2.7025175,
          2.80088,
          1.5737411,
          2.1041055,
          1.2162153,
          0.99797213,
          2.9890594,
          2.358788
         ],
         "z": [
          -4.038123,
          -4.240034,
          -3.4663546,
          -3.4645295,
          -3.4890642,
          -3.3925135,
          -4.032825,
          -3.526713
         ]
        },
        {
         "hovertemplate": "cell_type=microglial cell<br>prep_method_broad=illumina_unknown<br>V0=%{x}<br>V1=%{y}<br>V2=%{z}<extra></extra>",
         "legendgroup": "microglial cell, illumina_unknown",
         "marker": {
          "color": "#FF97FF",
          "size": 4,
          "symbol": "circle"
         },
         "mode": "markers",
         "name": "microglial cell, illumina_unknown",
         "scene": "scene",
         "showlegend": true,
         "type": "scatter3d",
         "x": [
          -1.0472777,
          -1.0567575,
          0.36926663,
          0.42242855,
          2.6859963,
          3.1902695,
          4.001518,
          3.72437,
          2.2516134,
          2.1854286,
          1.8138115,
          2.1534753,
          -0.12275082,
          -0.37759525
         ],
         "y": [
          3.2474384,
          3.3298697,
          -0.3136387,
          -0.3239004,
          4.7124715,
          5.486962,
          4.0825024,
          4.2254877,
          5.066261,
          6.4583783,
          4.9519486,
          5.0702643,
          3.8703084,
          4.122109
         ],
         "z": [
          -2.72422,
          -2.6539266,
          -1.7573447,
          -1.7102172,
          -4.0295367,
          -2.3966112,
          -3.2526143,
          -3.279142,
          -3.7653422,
          -1.638655,
          -3.6114,
          -3.6125205,
          -2.1558378,
          -2.1417215
         ]
        },
        {
         "hovertemplate": "cell_type=macrophage<br>prep_method_broad=illumina_truseq<br>V0=%{x}<br>V1=%{y}<br>V2=%{z}<extra></extra>",
         "legendgroup": "macrophage, illumina_truseq",
         "marker": {
          "color": "#FECB52",
          "size": 4,
          "symbol": "circle"
         },
         "mode": "markers",
         "name": "macrophage, illumina_truseq",
         "scene": "scene",
         "showlegend": true,
         "type": "scatter3d",
         "x": [
          2.636665,
          2.0972471,
          -0.3778203,
          0.015600383,
          -0.08125633,
          -0.5172723,
          3.1658528,
          -1.145097,
          0.38312745,
          -0.5995169,
          -0.4792152,
          -0.21213955,
          -0.24648732,
          -0.96175236,
          6.265756,
          5.2521806,
          6.2295303,
          5.9044557,
          6.267548,
          3.1794658,
          2.7641056,
          2.0095353,
          3.5955834,
          3.0457356,
          0.37488872,
          0.18945855
         ],
         "y": [
          2.7208195,
          2.8874164,
          2.1079383,
          1.4109799,
          0.8748578,
          1.6754502,
          2.9715004,
          2.9938293,
          2.6463227,
          2.5028172,
          2.5216126,
          2.557836,
          2.6915498,
          2.2058382,
          3.4720545,
          2.7918954,
          2.8153887,
          3.5604525,
          3.9254236,
          8.435512,
          7.9965005,
          7.2765193,
          8.9659195,
          8.4250965,
          1.8612748,
          1.9124018
         ],
         "z": [
          -3.7457054,
          -3.7361248,
          -3.235174,
          -3.4682562,
          -3.013742,
          -3.1461718,
          -4.0514684,
          -3.0497746,
          -3.3472707,
          -0.8834269,
          -0.8731526,
          -0.974844,
          -0.9945278,
          -0.18245694,
          0.34135002,
          -0.14317623,
          0.47635394,
          0.22989893,
          0.27998617,
          2.0671394,
          1.7963411,
          2.778645,
          2.36422,
          2.052453,
          1.7169418,
          1.7994406
         ]
        },
        {
         "hovertemplate": "cell_type=macrophage<br>prep_method_broad=illumina_unknown<br>V0=%{x}<br>V1=%{y}<br>V2=%{z}<extra></extra>",
         "legendgroup": "macrophage, illumina_unknown",
         "marker": {
          "color": "#FECB52",
          "size": 4,
          "symbol": "circle"
         },
         "mode": "markers",
         "name": "macrophage, illumina_unknown",
         "scene": "scene",
         "showlegend": true,
         "type": "scatter3d",
         "x": [
          0.2673691,
          -0.2267316,
          0.18135118,
          0.295806,
          0.58234435,
          1.2976501,
          1.9922726,
          0.7601571,
          0.6320024,
          3.030351,
          1.2237605,
          2.8534706
         ],
         "y": [
          3.0851665,
          3.1123772,
          3.304822,
          3.2526212,
          1.8324577,
          1.9936634,
          3.0721455,
          1.6136335,
          1.7648331,
          3.5610833,
          1.7403699,
          3.486843
         ],
         "z": [
          -3.201498,
          -3.0958173,
          -3.0077598,
          -2.9647481,
          1.3972837,
          0.728843,
          2.4200032,
          1.1512352,
          1.2833524,
          2.0923011,
          0.7655177,
          2.1599665
         ]
        },
        {
         "hovertemplate": "cell_type=macrophage<br>prep_method_broad=hudson<br>V0=%{x}<br>V1=%{y}<br>V2=%{z}<extra></extra>",
         "legendgroup": "macrophage, hudson",
         "marker": {
          "color": "#FECB52",
          "size": 4,
          "symbol": "square"
         },
         "mode": "markers",
         "name": "macrophage, hudson",
         "scene": "scene",
         "showlegend": true,
         "type": "scatter3d",
         "x": [
          4.8361125,
          4.5796256,
          4.126294,
          4.106415,
          4.8178887,
          3.7314868,
          3.5614288,
          4.0712924,
          1.1225079,
          1.0544537,
          1.4431705,
          3.4406273,
          3.8618507,
          5.4810214,
          5.2456155,
          3.7303114,
          3.8248029,
          5.2244916,
          4.959952,
          3.5805836,
          4.385501,
          5.667297,
          6.2853494,
          5.3687305,
          5.3946204,
          5.088235,
          5.3613367,
          5.5397053
         ],
         "y": [
          6.249042,
          4.389179,
          4.746659,
          3.9666715,
          5.7494683,
          4.1114235,
          4.0657525,
          3.803331,
          3.4772387,
          3.5005589,
          3.346808,
          4.5670476,
          5.078859,
          5.1050134,
          4.6554995,
          5.230742,
          5.7697535,
          5.931152,
          5.1245074,
          4.705541,
          5.2726603,
          5.6170177,
          5.5998106,
          3.6335897,
          3.8070798,
          3.2628794,
          3.5823193,
          3.648611
         ],
         "z": [
          2.463165,
          1.626818,
          2.478008,
          1.394945,
          1.7062773,
          1.7839153,
          1.5471222,
          1.3690251,
          2.1580315,
          2.1583376,
          1.84088,
          5.3850293,
          5.8069305,
          4.666597,
          3.8894634,
          4.2391624,
          4.82112,
          3.1999428,
          2.1326172,
          2.3862846,
          2.502175,
          2.4770539,
          -0.076911695,
          -0.7772709,
          -0.9496803,
          -0.75281155,
          -0.66362137,
          -0.87548316
         ]
        },
        {
         "hovertemplate": "cell_type=macrophage<br>prep_method_broad=roche_kapa<br>V0=%{x}<br>V1=%{y}<br>V2=%{z}<extra></extra>",
         "legendgroup": "macrophage, roche_kapa",
         "marker": {
          "color": "#FECB52",
          "size": 4,
          "symbol": "x"
         },
         "mode": "markers",
         "name": "macrophage, roche_kapa",
         "scene": "scene",
         "showlegend": true,
         "type": "scatter3d",
         "x": [
          -0.04595542,
          1.0654752,
          2.5191293,
          2.4250648,
          2.0797298,
          -0.4577536,
          1.6371682,
          2.867229,
          4.517812,
          4.219011,
          -0.20318133,
          0.6259252,
          1.5929453,
          1.6904302,
          1.9991353,
          -0.4134739,
          1.122824,
          1.8559418,
          2.029711,
          2.4461105,
          -0.13051516,
          2.4119425,
          3.1726816,
          3.3349283
         ],
         "y": [
          3.689568,
          3.8086123,
          3.255568,
          4.6992393,
          3.4759912,
          4.7180047,
          2.8162265,
          5.4389753,
          6.28297,
          5.7972136,
          3.9581113,
          4.3083715,
          3.9948106,
          5.1731086,
          4.631277,
          4.792597,
          3.7444024,
          4.2960014,
          4.4885893,
          4.7850466,
          4.5364013,
          2.9067516,
          4.1960597,
          4.653576
         ],
         "z": [
          -2.73593,
          -1.7076179,
          -0.89115834,
          -1.4516405,
          0.7920695,
          -2.3340158,
          -2.2581987,
          -0.44062015,
          1.5450715,
          -0.3767741,
          -2.4587486,
          -1.4542266,
          -0.79610133,
          -0.9827182,
          -1.074659,
          -2.2957063,
          -1.8248066,
          -1.4436677,
          -1.0306194,
          -0.85721093,
          -2.4398699,
          -2.217901,
          -0.6824501,
          -0.9682255
         ]
        },
        {
         "hovertemplate": "cell_type=hematopoietic precursor cell<br>prep_method_broad=illumina_truseq<br>V0=%{x}<br>V1=%{y}<br>V2=%{z}<extra></extra>",
         "legendgroup": "hematopoietic precursor cell, illumina_truseq",
         "marker": {
          "color": "#636efa",
          "size": 4,
          "symbol": "circle"
         },
         "mode": "markers",
         "name": "hematopoietic precursor cell, illumina_truseq",
         "scene": "scene",
         "showlegend": true,
         "type": "scatter3d",
         "x": [
          -0.29848462,
          -1.2879639,
          0.1383757
         ],
         "y": [
          0.3446617,
          1.0704297,
          0.17962074
         ],
         "z": [
          1.455785,
          0.8787162,
          1.4225385
         ]
        },
        {
         "hovertemplate": "cell_type=hematopoietic precursor cell<br>prep_method_broad=nugen<br>V0=%{x}<br>V1=%{y}<br>V2=%{z}<extra></extra>",
         "legendgroup": "hematopoietic precursor cell, nugen",
         "marker": {
          "color": "#636efa",
          "size": 4,
          "symbol": "square"
         },
         "mode": "markers",
         "name": "hematopoietic precursor cell, nugen",
         "scene": "scene",
         "showlegend": true,
         "type": "scatter3d",
         "x": [
          -4.8038363,
          -4.660803
         ],
         "y": [
          2.0954204,
          1.380833
         ],
         "z": [
          3.6235585,
          2.1248631
         ]
        },
        {
         "hovertemplate": "cell_type=hematopoietic precursor cell<br>prep_method_broad=illumina_unknown<br>V0=%{x}<br>V1=%{y}<br>V2=%{z}<extra></extra>",
         "legendgroup": "hematopoietic precursor cell, illumina_unknown",
         "marker": {
          "color": "#636efa",
          "size": 4,
          "symbol": "circle"
         },
         "mode": "markers",
         "name": "hematopoietic precursor cell, illumina_unknown",
         "scene": "scene",
         "showlegend": true,
         "type": "scatter3d",
         "x": [
          -2.7387686,
          -2.8679926,
          -3.0339599,
          -3.6358588,
          -4.820559,
          -4.2792964
         ],
         "y": [
          2.8169298,
          3.24396,
          2.8733273,
          1.926411,
          2.1931334,
          1.9551429
         ],
         "z": [
          1.043624,
          1.8833307,
          1.0679083,
          1.0525688,
          1.3822272,
          1.1183478
         ]
        },
        {
         "hovertemplate": "cell_type=hematopoietic precursor cell<br>prep_method_broad=illumina_nextera<br>V0=%{x}<br>V1=%{y}<br>V2=%{z}<extra></extra>",
         "legendgroup": "hematopoietic precursor cell, illumina_nextera",
         "marker": {
          "color": "#636efa",
          "size": 4,
          "symbol": "diamond"
         },
         "mode": "markers",
         "name": "hematopoietic precursor cell, illumina_nextera",
         "scene": "scene",
         "showlegend": true,
         "type": "scatter3d",
         "x": [
          -3.2361224,
          -2.710477,
          -3.9437015,
          -4.7480936,
          -4.5132723,
          -4.0875087
         ],
         "y": [
          1.6308182,
          0.8137573,
          1.3787299,
          1.5682029,
          1.4504708,
          2.0534348
         ],
         "z": [
          4.299375,
          2.4923792,
          0.41692427,
          0.38789383,
          0.34333742,
          0.017174967
         ]
        }
       ],
       "layout": {
        "legend": {
         "title": {
          "text": "cell_type, prep_method_broad"
         },
         "tracegroupgap": 0
        },
        "margin": {
         "t": 60
        },
        "scene": {
         "domain": {
          "x": [
           0,
           1
          ],
          "y": [
           0,
           1
          ]
         },
         "xaxis": {
          "title": {
           "text": "V0"
          }
         },
         "yaxis": {
          "title": {
           "text": "V1"
          }
         },
         "zaxis": {
          "title": {
           "text": "V2"
          }
         }
        },
        "template": {
         "data": {
          "bar": [
           {
            "error_x": {
             "color": "#2a3f5f"
            },
            "error_y": {
             "color": "#2a3f5f"
            },
            "marker": {
             "line": {
              "color": "#E5ECF6",
              "width": 0.5
             },
             "pattern": {
              "fillmode": "overlay",
              "size": 10,
              "solidity": 0.2
             }
            },
            "type": "bar"
           }
          ],
          "barpolar": [
           {
            "marker": {
             "line": {
              "color": "#E5ECF6",
              "width": 0.5
             },
             "pattern": {
              "fillmode": "overlay",
              "size": 10,
              "solidity": 0.2
             }
            },
            "type": "barpolar"
           }
          ],
          "carpet": [
           {
            "aaxis": {
             "endlinecolor": "#2a3f5f",
             "gridcolor": "white",
             "linecolor": "white",
             "minorgridcolor": "white",
             "startlinecolor": "#2a3f5f"
            },
            "baxis": {
             "endlinecolor": "#2a3f5f",
             "gridcolor": "white",
             "linecolor": "white",
             "minorgridcolor": "white",
             "startlinecolor": "#2a3f5f"
            },
            "type": "carpet"
           }
          ],
          "choropleth": [
           {
            "colorbar": {
             "outlinewidth": 0,
             "ticks": ""
            },
            "type": "choropleth"
           }
          ],
          "contour": [
           {
            "colorbar": {
             "outlinewidth": 0,
             "ticks": ""
            },
            "colorscale": [
             [
              0,
              "#0d0887"
             ],
             [
              0.1111111111111111,
              "#46039f"
             ],
             [
              0.2222222222222222,
              "#7201a8"
             ],
             [
              0.3333333333333333,
              "#9c179e"
             ],
             [
              0.4444444444444444,
              "#bd3786"
             ],
             [
              0.5555555555555556,
              "#d8576b"
             ],
             [
              0.6666666666666666,
              "#ed7953"
             ],
             [
              0.7777777777777778,
              "#fb9f3a"
             ],
             [
              0.8888888888888888,
              "#fdca26"
             ],
             [
              1,
              "#f0f921"
             ]
            ],
            "type": "contour"
           }
          ],
          "contourcarpet": [
           {
            "colorbar": {
             "outlinewidth": 0,
             "ticks": ""
            },
            "type": "contourcarpet"
           }
          ],
          "heatmap": [
           {
            "colorbar": {
             "outlinewidth": 0,
             "ticks": ""
            },
            "colorscale": [
             [
              0,
              "#0d0887"
             ],
             [
              0.1111111111111111,
              "#46039f"
             ],
             [
              0.2222222222222222,
              "#7201a8"
             ],
             [
              0.3333333333333333,
              "#9c179e"
             ],
             [
              0.4444444444444444,
              "#bd3786"
             ],
             [
              0.5555555555555556,
              "#d8576b"
             ],
             [
              0.6666666666666666,
              "#ed7953"
             ],
             [
              0.7777777777777778,
              "#fb9f3a"
             ],
             [
              0.8888888888888888,
              "#fdca26"
             ],
             [
              1,
              "#f0f921"
             ]
            ],
            "type": "heatmap"
           }
          ],
          "heatmapgl": [
           {
            "colorbar": {
             "outlinewidth": 0,
             "ticks": ""
            },
            "colorscale": [
             [
              0,
              "#0d0887"
             ],
             [
              0.1111111111111111,
              "#46039f"
             ],
             [
              0.2222222222222222,
              "#7201a8"
             ],
             [
              0.3333333333333333,
              "#9c179e"
             ],
             [
              0.4444444444444444,
              "#bd3786"
             ],
             [
              0.5555555555555556,
              "#d8576b"
             ],
             [
              0.6666666666666666,
              "#ed7953"
             ],
             [
              0.7777777777777778,
              "#fb9f3a"
             ],
             [
              0.8888888888888888,
              "#fdca26"
             ],
             [
              1,
              "#f0f921"
             ]
            ],
            "type": "heatmapgl"
           }
          ],
          "histogram": [
           {
            "marker": {
             "pattern": {
              "fillmode": "overlay",
              "size": 10,
              "solidity": 0.2
             }
            },
            "type": "histogram"
           }
          ],
          "histogram2d": [
           {
            "colorbar": {
             "outlinewidth": 0,
             "ticks": ""
            },
            "colorscale": [
             [
              0,
              "#0d0887"
             ],
             [
              0.1111111111111111,
              "#46039f"
             ],
             [
              0.2222222222222222,
              "#7201a8"
             ],
             [
              0.3333333333333333,
              "#9c179e"
             ],
             [
              0.4444444444444444,
              "#bd3786"
             ],
             [
              0.5555555555555556,
              "#d8576b"
             ],
             [
              0.6666666666666666,
              "#ed7953"
             ],
             [
              0.7777777777777778,
              "#fb9f3a"
             ],
             [
              0.8888888888888888,
              "#fdca26"
             ],
             [
              1,
              "#f0f921"
             ]
            ],
            "type": "histogram2d"
           }
          ],
          "histogram2dcontour": [
           {
            "colorbar": {
             "outlinewidth": 0,
             "ticks": ""
            },
            "colorscale": [
             [
              0,
              "#0d0887"
             ],
             [
              0.1111111111111111,
              "#46039f"
             ],
             [
              0.2222222222222222,
              "#7201a8"
             ],
             [
              0.3333333333333333,
              "#9c179e"
             ],
             [
              0.4444444444444444,
              "#bd3786"
             ],
             [
              0.5555555555555556,
              "#d8576b"
             ],
             [
              0.6666666666666666,
              "#ed7953"
             ],
             [
              0.7777777777777778,
              "#fb9f3a"
             ],
             [
              0.8888888888888888,
              "#fdca26"
             ],
             [
              1,
              "#f0f921"
             ]
            ],
            "type": "histogram2dcontour"
           }
          ],
          "mesh3d": [
           {
            "colorbar": {
             "outlinewidth": 0,
             "ticks": ""
            },
            "type": "mesh3d"
           }
          ],
          "parcoords": [
           {
            "line": {
             "colorbar": {
              "outlinewidth": 0,
              "ticks": ""
             }
            },
            "type": "parcoords"
           }
          ],
          "pie": [
           {
            "automargin": true,
            "type": "pie"
           }
          ],
          "scatter": [
           {
            "fillpattern": {
             "fillmode": "overlay",
             "size": 10,
             "solidity": 0.2
            },
            "type": "scatter"
           }
          ],
          "scatter3d": [
           {
            "line": {
             "colorbar": {
              "outlinewidth": 0,
              "ticks": ""
             }
            },
            "marker": {
             "colorbar": {
              "outlinewidth": 0,
              "ticks": ""
             }
            },
            "type": "scatter3d"
           }
          ],
          "scattercarpet": [
           {
            "marker": {
             "colorbar": {
              "outlinewidth": 0,
              "ticks": ""
             }
            },
            "type": "scattercarpet"
           }
          ],
          "scattergeo": [
           {
            "marker": {
             "colorbar": {
              "outlinewidth": 0,
              "ticks": ""
             }
            },
            "type": "scattergeo"
           }
          ],
          "scattergl": [
           {
            "marker": {
             "colorbar": {
              "outlinewidth": 0,
              "ticks": ""
             }
            },
            "type": "scattergl"
           }
          ],
          "scattermapbox": [
           {
            "marker": {
             "colorbar": {
              "outlinewidth": 0,
              "ticks": ""
             }
            },
            "type": "scattermapbox"
           }
          ],
          "scatterpolar": [
           {
            "marker": {
             "colorbar": {
              "outlinewidth": 0,
              "ticks": ""
             }
            },
            "type": "scatterpolar"
           }
          ],
          "scatterpolargl": [
           {
            "marker": {
             "colorbar": {
              "outlinewidth": 0,
              "ticks": ""
             }
            },
            "type": "scatterpolargl"
           }
          ],
          "scatterternary": [
           {
            "marker": {
             "colorbar": {
              "outlinewidth": 0,
              "ticks": ""
             }
            },
            "type": "scatterternary"
           }
          ],
          "surface": [
           {
            "colorbar": {
             "outlinewidth": 0,
             "ticks": ""
            },
            "colorscale": [
             [
              0,
              "#0d0887"
             ],
             [
              0.1111111111111111,
              "#46039f"
             ],
             [
              0.2222222222222222,
              "#7201a8"
             ],
             [
              0.3333333333333333,
              "#9c179e"
             ],
             [
              0.4444444444444444,
              "#bd3786"
             ],
             [
              0.5555555555555556,
              "#d8576b"
             ],
             [
              0.6666666666666666,
              "#ed7953"
             ],
             [
              0.7777777777777778,
              "#fb9f3a"
             ],
             [
              0.8888888888888888,
              "#fdca26"
             ],
             [
              1,
              "#f0f921"
             ]
            ],
            "type": "surface"
           }
          ],
          "table": [
           {
            "cells": {
             "fill": {
              "color": "#EBF0F8"
             },
             "line": {
              "color": "white"
             }
            },
            "header": {
             "fill": {
              "color": "#C8D4E3"
             },
             "line": {
              "color": "white"
             }
            },
            "type": "table"
           }
          ]
         },
         "layout": {
          "annotationdefaults": {
           "arrowcolor": "#2a3f5f",
           "arrowhead": 0,
           "arrowwidth": 1
          },
          "autotypenumbers": "strict",
          "coloraxis": {
           "colorbar": {
            "outlinewidth": 0,
            "ticks": ""
           }
          },
          "colorscale": {
           "diverging": [
            [
             0,
             "#8e0152"
            ],
            [
             0.1,
             "#c51b7d"
            ],
            [
             0.2,
             "#de77ae"
            ],
            [
             0.3,
             "#f1b6da"
            ],
            [
             0.4,
             "#fde0ef"
            ],
            [
             0.5,
             "#f7f7f7"
            ],
            [
             0.6,
             "#e6f5d0"
            ],
            [
             0.7,
             "#b8e186"
            ],
            [
             0.8,
             "#7fbc41"
            ],
            [
             0.9,
             "#4d9221"
            ],
            [
             1,
             "#276419"
            ]
           ],
           "sequential": [
            [
             0,
             "#0d0887"
            ],
            [
             0.1111111111111111,
             "#46039f"
            ],
            [
             0.2222222222222222,
             "#7201a8"
            ],
            [
             0.3333333333333333,
             "#9c179e"
            ],
            [
             0.4444444444444444,
             "#bd3786"
            ],
            [
             0.5555555555555556,
             "#d8576b"
            ],
            [
             0.6666666666666666,
             "#ed7953"
            ],
            [
             0.7777777777777778,
             "#fb9f3a"
            ],
            [
             0.8888888888888888,
             "#fdca26"
            ],
            [
             1,
             "#f0f921"
            ]
           ],
           "sequentialminus": [
            [
             0,
             "#0d0887"
            ],
            [
             0.1111111111111111,
             "#46039f"
            ],
            [
             0.2222222222222222,
             "#7201a8"
            ],
            [
             0.3333333333333333,
             "#9c179e"
            ],
            [
             0.4444444444444444,
             "#bd3786"
            ],
            [
             0.5555555555555556,
             "#d8576b"
            ],
            [
             0.6666666666666666,
             "#ed7953"
            ],
            [
             0.7777777777777778,
             "#fb9f3a"
            ],
            [
             0.8888888888888888,
             "#fdca26"
            ],
            [
             1,
             "#f0f921"
            ]
           ]
          },
          "colorway": [
           "#636efa",
           "#EF553B",
           "#00cc96",
           "#ab63fa",
           "#FFA15A",
           "#19d3f3",
           "#FF6692",
           "#B6E880",
           "#FF97FF",
           "#FECB52"
          ],
          "font": {
           "color": "#2a3f5f"
          },
          "geo": {
           "bgcolor": "white",
           "lakecolor": "white",
           "landcolor": "#E5ECF6",
           "showlakes": true,
           "showland": true,
           "subunitcolor": "white"
          },
          "hoverlabel": {
           "align": "left"
          },
          "hovermode": "closest",
          "mapbox": {
           "style": "light"
          },
          "paper_bgcolor": "white",
          "plot_bgcolor": "#E5ECF6",
          "polar": {
           "angularaxis": {
            "gridcolor": "white",
            "linecolor": "white",
            "ticks": ""
           },
           "bgcolor": "#E5ECF6",
           "radialaxis": {
            "gridcolor": "white",
            "linecolor": "white",
            "ticks": ""
           }
          },
          "scene": {
           "xaxis": {
            "backgroundcolor": "#E5ECF6",
            "gridcolor": "white",
            "gridwidth": 2,
            "linecolor": "white",
            "showbackground": true,
            "ticks": "",
            "zerolinecolor": "white"
           },
           "yaxis": {
            "backgroundcolor": "#E5ECF6",
            "gridcolor": "white",
            "gridwidth": 2,
            "linecolor": "white",
            "showbackground": true,
            "ticks": "",
            "zerolinecolor": "white"
           },
           "zaxis": {
            "backgroundcolor": "#E5ECF6",
            "gridcolor": "white",
            "gridwidth": 2,
            "linecolor": "white",
            "showbackground": true,
            "ticks": "",
            "zerolinecolor": "white"
           }
          },
          "shapedefaults": {
           "line": {
            "color": "#2a3f5f"
           }
          },
          "ternary": {
           "aaxis": {
            "gridcolor": "white",
            "linecolor": "white",
            "ticks": ""
           },
           "baxis": {
            "gridcolor": "white",
            "linecolor": "white",
            "ticks": ""
           },
           "bgcolor": "#E5ECF6",
           "caxis": {
            "gridcolor": "white",
            "linecolor": "white",
            "ticks": ""
           }
          },
          "title": {
           "x": 0.05
          },
          "xaxis": {
           "automargin": true,
           "gridcolor": "white",
           "linecolor": "white",
           "ticks": "",
           "title": {
            "standoff": 15
           },
           "zerolinecolor": "white",
           "zerolinewidth": 2
          },
          "yaxis": {
           "automargin": true,
           "gridcolor": "white",
           "linecolor": "white",
           "ticks": "",
           "title": {
            "standoff": 15
           },
           "zerolinecolor": "white",
           "zerolinewidth": 2
          }
         }
        }
       }
      },
      "text/html": [
       "<div>                            <div id=\"1f035603-f60c-45a7-8196-44961f84c209\" class=\"plotly-graph-div\" style=\"height:525px; width:100%;\"></div>            <script type=\"text/javascript\">                require([\"plotly\"], function(Plotly) {                    window.PLOTLYENV=window.PLOTLYENV || {};                                    if (document.getElementById(\"1f035603-f60c-45a7-8196-44961f84c209\")) {                    Plotly.newPlot(                        \"1f035603-f60c-45a7-8196-44961f84c209\",                        [{\"hovertemplate\":\"cell_type=conventional dendritic cell\\u003cbr\\u003eprep_method_broad=illumina_truseq\\u003cbr\\u003eV0=%{x}\\u003cbr\\u003eV1=%{y}\\u003cbr\\u003eV2=%{z}\\u003cextra\\u003e\\u003c\\u002fextra\\u003e\",\"legendgroup\":\"conventional dendritic cell, illumina_truseq\",\"marker\":{\"color\":\"#636efa\",\"symbol\":\"circle\",\"size\":4},\"mode\":\"markers\",\"name\":\"conventional dendritic cell, illumina_truseq\",\"scene\":\"scene\",\"showlegend\":true,\"x\":[-2.587167,-2.63028,-2.4304578,-2.599715,-2.4579334,-2.5911849,-1.4135742,-1.5437117,-1.25685,-1.5523994,-1.6894386,-1.243752,-1.9136634,-1.9579713,-2.2248409,3.3658664,-1.1954548,-1.6294158],\"y\":[7.44012,5.3685155,7.2027545,4.4994507,7.0733867,5.2743707,7.2160563,7.6810346,7.0572753,6.9678006,7.3755317,7.01028,2.654193,2.8971958,3.9047894,8.684847,5.8671923,6.423638],\"z\":[0.8215543,1.9828619,0.6018088,2.2928872,0.47665647,1.6816406,3.4195125,2.868147,2.5119233,3.6128752,3.2774112,2.642419,3.4278452,3.6875927,3.2248943,4.914197,0.6977739,1.1134099],\"type\":\"scatter3d\"},{\"hovertemplate\":\"cell_type=conventional dendritic cell\\u003cbr\\u003eprep_method_broad=smartseq_unknown\\u003cbr\\u003eV0=%{x}\\u003cbr\\u003eV1=%{y}\\u003cbr\\u003eV2=%{z}\\u003cextra\\u003e\\u003c\\u002fextra\\u003e\",\"legendgroup\":\"conventional dendritic cell, smartseq_unknown\",\"marker\":{\"color\":\"#636efa\",\"symbol\":\"diamond\",\"size\":4},\"mode\":\"markers\",\"name\":\"conventional dendritic cell, smartseq_unknown\",\"scene\":\"scene\",\"showlegend\":true,\"x\":[-1.6532726,-2.3818667,-1.6604846,-1.5407209,-2.4479601,0.7550937],\"y\":[6.259336,5.679711,5.838257,5.168455,6.4717407,7.3226047],\"z\":[5.2346234,4.6185513,3.9027317,3.9744925,4.8215075,7.860492],\"type\":\"scatter3d\"},{\"hovertemplate\":\"cell_type=conventional dendritic cell\\u003cbr\\u003eprep_method_broad=nugen\\u003cbr\\u003eV0=%{x}\\u003cbr\\u003eV1=%{y}\\u003cbr\\u003eV2=%{z}\\u003cextra\\u003e\\u003c\\u002fextra\\u003e\",\"legendgroup\":\"conventional dendritic cell, nugen\",\"marker\":{\"color\":\"#636efa\",\"symbol\":\"square\",\"size\":4},\"mode\":\"markers\",\"name\":\"conventional dendritic cell, nugen\",\"scene\":\"scene\",\"showlegend\":true,\"x\":[-1.8161368,-1.9756224,-2.3511648,-1.9532256,-2.2345736,-2.1074843,-2.868753,1.2712953,1.627321,1.2360926,0.8402523,0.60700166,0.99366117],\"y\":[6.3897834,7.818666,7.559139,6.5040927,6.7043395,6.313198,5.876056,1.6376582,1.6453754,1.9673008,2.5762196,2.6416025,2.5280719],\"z\":[4.6122403,5.2433014,4.1985407,4.2180157,1.1654397,0.76712054,0.6537257,0.3028421,0.4104855,0.37572154,-0.7478954,-0.6715995,-0.37932715],\"type\":\"scatter3d\"},{\"hovertemplate\":\"cell_type=plasmacytoid dendritic cell\\u003cbr\\u003eprep_method_broad=illumina_truseq\\u003cbr\\u003eV0=%{x}\\u003cbr\\u003eV1=%{y}\\u003cbr\\u003eV2=%{z}\\u003cextra\\u003e\\u003c\\u002fextra\\u003e\",\"legendgroup\":\"plasmacytoid dendritic cell, illumina_truseq\",\"marker\":{\"color\":\"#EF553B\",\"symbol\":\"circle\",\"size\":4},\"mode\":\"markers\",\"name\":\"plasmacytoid dendritic cell, illumina_truseq\",\"scene\":\"scene\",\"showlegend\":true,\"x\":[-5.667503,-4.0722113,-5.9546494,-5.833393,-6.009771,-6.0072813,1.4847233,-3.755572,-4.232092],\"y\":[5.551435,5.9466224,5.711536,5.853436,5.5724015,4.7616434,6.8881497,4.448624,4.355167],\"z\":[0.6421509,1.1536192,0.3621135,0.2706536,0.18104452,0.62223375,3.723292,2.4262528,3.1584103],\"type\":\"scatter3d\"},{\"hovertemplate\":\"cell_type=plasmacytoid dendritic cell\\u003cbr\\u003eprep_method_broad=nugen\\u003cbr\\u003eV0=%{x}\\u003cbr\\u003eV1=%{y}\\u003cbr\\u003eV2=%{z}\\u003cextra\\u003e\\u003c\\u002fextra\\u003e\",\"legendgroup\":\"plasmacytoid dendritic cell, nugen\",\"marker\":{\"color\":\"#EF553B\",\"symbol\":\"square\",\"size\":4},\"mode\":\"markers\",\"name\":\"plasmacytoid dendritic cell, nugen\",\"scene\":\"scene\",\"showlegend\":true,\"x\":[-0.30889517,0.496676,-0.8119646,-1.0780823,-0.67284936],\"y\":[1.7283045,1.9804558,2.4235058,2.60288,2.3627071],\"z\":[0.5548056,0.15756251,-0.15200832,-0.14647782,-0.24826118],\"type\":\"scatter3d\"},{\"hovertemplate\":\"cell_type=plasmacytoid dendritic cell\\u003cbr\\u003eprep_method_broad=illumina_nextera\\u003cbr\\u003eV0=%{x}\\u003cbr\\u003eV1=%{y}\\u003cbr\\u003eV2=%{z}\\u003cextra\\u003e\\u003c\\u002fextra\\u003e\",\"legendgroup\":\"plasmacytoid dendritic cell, illumina_nextera\",\"marker\":{\"color\":\"#EF553B\",\"symbol\":\"diamond\",\"size\":4},\"mode\":\"markers\",\"name\":\"plasmacytoid dendritic cell, illumina_nextera\",\"scene\":\"scene\",\"showlegend\":true,\"x\":[-2.706199,-2.1620128,-2.9285035,-2.8409245],\"y\":[3.219513,3.001802,3.3983822,3.4847417],\"z\":[0.21255568,0.3133525,-0.23667535,-0.24971095],\"type\":\"scatter3d\"},{\"hovertemplate\":\"cell_type=dendritic cell\\u003cbr\\u003eprep_method_broad=illumina_truseq\\u003cbr\\u003eV0=%{x}\\u003cbr\\u003eV1=%{y}\\u003cbr\\u003eV2=%{z}\\u003cextra\\u003e\\u003c\\u002fextra\\u003e\",\"legendgroup\":\"dendritic cell, illumina_truseq\",\"marker\":{\"color\":\"#00cc96\",\"symbol\":\"circle\",\"size\":4},\"mode\":\"markers\",\"name\":\"dendritic cell, illumina_truseq\",\"scene\":\"scene\",\"showlegend\":true,\"x\":[0.32319313,0.060955346,0.24288207,0.14624828,0.21387058,-0.030084193,3.2458026,3.693971,3.1182828,3.3075845,3.3873432],\"y\":[3.939942,4.210037,4.2679405,4.5486083,4.3576655,4.253923,6.0977216,5.708485,4.7222013,5.075187,5.5517488],\"z\":[1.037297,0.8983316,0.79364884,0.7604236,0.643653,0.9729681,0.4937624,0.8808563,0.59528863,0.7549392,1.0471],\"type\":\"scatter3d\"},{\"hovertemplate\":\"cell_type=dendritic cell\\u003cbr\\u003eprep_method_broad=illumina_nextera\\u003cbr\\u003eV0=%{x}\\u003cbr\\u003eV1=%{y}\\u003cbr\\u003eV2=%{z}\\u003cextra\\u003e\\u003c\\u002fextra\\u003e\",\"legendgroup\":\"dendritic cell, illumina_nextera\",\"marker\":{\"color\":\"#00cc96\",\"symbol\":\"diamond\",\"size\":4},\"mode\":\"markers\",\"name\":\"dendritic cell, illumina_nextera\",\"scene\":\"scene\",\"showlegend\":true,\"x\":[-0.16078454,-0.62822276,-0.71170264,-0.603206],\"y\":[5.0855055,5.2257004,4.7258067,4.8787446],\"z\":[0.091083966,0.5537179,-0.6047543,-0.87004685],\"type\":\"scatter3d\"},{\"hovertemplate\":\"cell_type=monocyte\\u003cbr\\u003eprep_method_broad=illumina_truseq\\u003cbr\\u003eV0=%{x}\\u003cbr\\u003eV1=%{y}\\u003cbr\\u003eV2=%{z}\\u003cextra\\u003e\\u003c\\u002fextra\\u003e\",\"legendgroup\":\"monocyte, illumina_truseq\",\"marker\":{\"color\":\"#ab63fa\",\"symbol\":\"circle\",\"size\":4},\"mode\":\"markers\",\"name\":\"monocyte, illumina_truseq\",\"scene\":\"scene\",\"showlegend\":true,\"x\":[2.1371865,3.9605062,2.2391615,2.2136903,2.0247617,2.69324,1.9862189,1.8472793,1.7747731,1.7810276,3.3692288,2.9438608,-1.4004955,-1.1877515,-1.7765462,-1.3658011,-1.4419382,-1.4778721,-1.3724701,-1.3755686,-1.3413033,1.9084783,1.7668993,1.9567904,2.1820345],\"y\":[6.348131,7.9920497,7.193296,6.9906507,7.0239415,7.9208474,6.7620125,7.1315856,7.1773763,6.845387,8.0843525,7.7887244,9.399749,9.437151,8.414421,9.948082,9.85956,8.940049,8.649715,8.751763,8.70781,5.3543153,5.2053323,5.5088177,5.259791],\"z\":[-2.8815641,-1.4855891,-1.9453062,-2.1607714,-2.0107524,-1.9003414,-2.1733778,-2.0711036,-1.9787253,-2.1719277,-1.7657903,-2.0879145,-2.5646303,-2.8054552,-2.7271965,-2.724417,-2.1836863,-2.8992836,-3.0304425,-2.8001516,-2.9080868,1.8658199,1.8244169,1.7454242,1.6249199],\"type\":\"scatter3d\"},{\"hovertemplate\":\"cell_type=monocyte\\u003cbr\\u003eprep_method_broad=nugen\\u003cbr\\u003eV0=%{x}\\u003cbr\\u003eV1=%{y}\\u003cbr\\u003eV2=%{z}\\u003cextra\\u003e\\u003c\\u002fextra\\u003e\",\"legendgroup\":\"monocyte, nugen\",\"marker\":{\"color\":\"#ab63fa\",\"symbol\":\"square\",\"size\":4},\"mode\":\"markers\",\"name\":\"monocyte, nugen\",\"scene\":\"scene\",\"showlegend\":true,\"x\":[1.4657161,2.5188248,2.1092978,3.820027,-1.0194304,-0.9094576,-0.9615945,-0.643918],\"y\":[8.743086,8.911621,8.4511595,9.578883,9.569181,9.8187275,9.003245,9.766706],\"z\":[-0.6138235,0.4885346,0.21467814,2.4871285,-1.5498735,-1.2439535,-1.2526437,-1.3969121],\"type\":\"scatter3d\"},{\"hovertemplate\":\"cell_type=monocyte\\u003cbr\\u003eprep_method_broad=illumina_nextera\\u003cbr\\u003eV0=%{x}\\u003cbr\\u003eV1=%{y}\\u003cbr\\u003eV2=%{z}\\u003cextra\\u003e\\u003c\\u002fextra\\u003e\",\"legendgroup\":\"monocyte, illumina_nextera\",\"marker\":{\"color\":\"#ab63fa\",\"symbol\":\"diamond\",\"size\":4},\"mode\":\"markers\",\"name\":\"monocyte, illumina_nextera\",\"scene\":\"scene\",\"showlegend\":true,\"x\":[1.6151228,1.524819,1.4674978,1.0428228,0.5848106,0.81778145,0.2608326,0.44851547,0.520975,0.36598372,0.29005218,0.48835608],\"y\":[7.571359,7.3072877,7.12437,7.1987605,7.5906796,7.1355014,7.2770896,6.511686,6.5723453,7.136043,6.5813527,6.58955],\"z\":[-0.13510382,-0.65140605,-0.41791797,-1.135526,-1.1015091,-1.2829472,-1.7389295,-1.500933,-1.5291209,-1.8057779,-2.0136685,-1.8627583],\"type\":\"scatter3d\"},{\"hovertemplate\":\"cell_type=neural progenitor cell\\u003cbr\\u003eprep_method_broad=illumina_truseq\\u003cbr\\u003eV0=%{x}\\u003cbr\\u003eV1=%{y}\\u003cbr\\u003eV2=%{z}\\u003cextra\\u003e\\u003c\\u002fextra\\u003e\",\"legendgroup\":\"neural progenitor cell, illumina_truseq\",\"marker\":{\"color\":\"#FFA15A\",\"symbol\":\"circle\",\"size\":4},\"mode\":\"markers\",\"name\":\"neural progenitor cell, illumina_truseq\",\"scene\":\"scene\",\"showlegend\":true,\"x\":[-3.7304509,-3.8147995,-3.7311432,-3.283192,-3.2257216,-3.2544596,-3.6744058,-3.1760552,-3.36929],\"y\":[-2.8434584,-2.8516579,-2.794084,-2.9871826,-2.9726925,-2.9557183,0.21400023,0.2339431,0.27124965],\"z\":[0.19867378,0.15365362,0.1047276,0.5098826,0.5511924,0.43748537,0.07571183,0.6006941,0.17703131],\"type\":\"scatter3d\"},{\"hovertemplate\":\"cell_type=neural progenitor cell\\u003cbr\\u003eprep_method_broad=smartseq_unknown\\u003cbr\\u003eV0=%{x}\\u003cbr\\u003eV1=%{y}\\u003cbr\\u003eV2=%{z}\\u003cextra\\u003e\\u003c\\u002fextra\\u003e\",\"legendgroup\":\"neural progenitor cell, smartseq_unknown\",\"marker\":{\"color\":\"#FFA15A\",\"symbol\":\"diamond\",\"size\":4},\"mode\":\"markers\",\"name\":\"neural progenitor cell, smartseq_unknown\",\"scene\":\"scene\",\"showlegend\":true,\"x\":[-3.013062,0.27657527,0.14976406,-1.3641274,-0.77230316,-2.9724572,-4.2507553,-4.1622963,-1.7975123,-0.37514085,-1.5183475,-1.0295107,-1.0539536,-1.4721866,-2.093925,-3.2053683,-4.470316,-0.47032112,-1.0580075,-1.5728805,-2.04798,-2.024913,-3.094476,-2.4974124,-3.4271643,-1.7290645,-2.0063133,2.804861,2.8639126,2.49433,3.1420028],\"y\":[-0.41532946,-2.2920413,-2.6037788,-2.3357508,-2.9755654,-2.5484705,-2.5744495,-2.4011283,-2.1960115,-2.3823144,-1.292509,-2.3913631,-1.2461653,-2.6135764,-1.0153006,-2.6157289,-2.8705068,-2.929615,-0.5831293,-0.54348826,-0.7859454,-2.8545775,-2.6121428,-3.0834208,-2.722962,-1.7273448,-0.63718593,-1.3625395,-1.4605818,-1.8495349,-1.5123019],\"z\":[0.2023451,2.655025,2.6811862,1.7673612,2.003879,2.2879755,2.2070858,0.29185563,-0.20748326,2.4163826,1.1196826,0.8243223,-0.0026349947,0.95291865,-0.7724759,1.6068982,0.4121669,0.7294277,-0.14898288,-0.5185707,-0.4761671,1.6112372,0.26724276,1.6603004,0.11621506,1.2419878,-1.0532607,-2.1713684,-2.1035347,-2.2800777,-1.9728316],\"type\":\"scatter3d\"},{\"hovertemplate\":\"cell_type=embryonic stem cell\\u003cbr\\u003eprep_method_broad=illumina_truseq\\u003cbr\\u003eV0=%{x}\\u003cbr\\u003eV1=%{y}\\u003cbr\\u003eV2=%{z}\\u003cextra\\u003e\\u003c\\u002fextra\\u003e\",\"legendgroup\":\"embryonic stem cell, illumina_truseq\",\"marker\":{\"color\":\"#19d3f3\",\"symbol\":\"circle\",\"size\":4},\"mode\":\"markers\",\"name\":\"embryonic stem cell, illumina_truseq\",\"scene\":\"scene\",\"showlegend\":true,\"x\":[2.2042067,2.1712735,1.7767675,1.7123694,3.7580044,3.7282217,3.7633154,3.6213157,3.5221941,3.8320203,3.6039326,2.3926368,2.287927,2.2596676,2.7953904,2.5107007,3.0238333,5.261046,3.6792707,2.1841621,2.5879574,2.4570968,5.3326445,2.175818,4.6208224,1.9018198,4.1844783,4.1190586,4.1110373,4.0957146],\"y\":[-1.6995621,-1.8321056,-1.8288927,-1.805773,-4.483661,-4.469301,-4.527071,-4.431036,-4.389995,-4.259156,-4.334546,-3.2664547,-3.2157226,-3.2445483,-3.705007,-3.4740195,-0.8112463,-1.3367174,-1.0944868,-0.5298039,-0.75807357,-0.67356145,-1.3717834,-1.754513,-1.6627188,-1.1532986,-1.103474,-1.0925328,-1.040291,-1.1340631],\"z\":[-1.3586792,-1.4007038,-0.60791147,-0.5661855,-0.8593836,-0.8159867,-0.84511787,-0.78891814,-0.2594417,-0.6227575,-0.23680589,0.82682335,0.83100855,0.9037129,-0.044245265,0.21254957,1.5964206,-0.1119537,1.64944,0.9368745,1.3722683,1.5103,-0.2793773,1.0122087,-1.5851706,1.037945,0.7324579,0.7795006,0.7389496,1.0422928],\"type\":\"scatter3d\"},{\"hovertemplate\":\"cell_type=embryonic stem cell\\u003cbr\\u003eprep_method_broad=nextflex96\\u003cbr\\u003eV0=%{x}\\u003cbr\\u003eV1=%{y}\\u003cbr\\u003eV2=%{z}\\u003cextra\\u003e\\u003c\\u002fextra\\u003e\",\"legendgroup\":\"embryonic stem cell, nextflex96\",\"marker\":{\"color\":\"#19d3f3\",\"symbol\":\"x\",\"size\":4},\"mode\":\"markers\",\"name\":\"embryonic stem cell, nextflex96\",\"scene\":\"scene\",\"showlegend\":true,\"x\":[0.720363,-0.01950401,1.0449085,0.6616664,1.4162306,0.90703493,0.8218576],\"y\":[-1.408764,-0.3172229,-1.2587328,-0.8312327,-1.0530832,-0.6809062,-0.6415361],\"z\":[1.6684957,2.3297591,2.029062,2.3749194,3.4171896,3.5084999,3.5610301],\"type\":\"scatter3d\"},{\"hovertemplate\":\"cell_type=embryonic stem cell\\u003cbr\\u003eprep_method_broad=nebnext\\u003cbr\\u003eV0=%{x}\\u003cbr\\u003eV1=%{y}\\u003cbr\\u003eV2=%{z}\\u003cextra\\u003e\\u003c\\u002fextra\\u003e\",\"legendgroup\":\"embryonic stem cell, nebnext\",\"marker\":{\"color\":\"#19d3f3\",\"symbol\":\"cross\",\"size\":4},\"mode\":\"markers\",\"name\":\"embryonic stem cell, nebnext\",\"scene\":\"scene\",\"showlegend\":true,\"x\":[-1.2110975,-0.40047985,-1.0042236,1.9007633,2.61186,2.8161132,3.921663,2.547148,3.2750795,3.4040565,1.8331611,1.3165377,3.6157892,4.256857,4.5892506,4.1762605,2.6160455,4.50034,6.143432,6.0707717,6.098292,-1.0953598,-1.3734229,-0.27914423],\"y\":[-2.776666,-2.1765604,-2.4694328,-1.889538,-2.0818515,-2.403695,-2.4733012,-3.083714,-2.7663555,-2.3065584,-2.4359798,-2.4228473,-2.7255378,-3.152749,-2.186633,-2.4862084,-2.1142097,-2.591642,-2.86083,-2.8136,-2.6495204,-6.332001,-6.1314564,-6.5427103],\"z\":[-0.1606625,-0.5466738,-0.04996123,-1.4687425,-1.3450168,-2.612582,-1.2425294,0.51136005,-0.62770116,-1.3325878,-0.31233665,0.05961377,2.0436099,1.8894806,1.475451,1.2895243,2.5207913,1.9378767,0.17020029,0.1649892,0.015800707,0.29076153,0.63553953,-1.3798442],\"type\":\"scatter3d\"},{\"hovertemplate\":\"cell_type=induced pluripotent stem cell\\u003cbr\\u003eprep_method_broad=illumina_truseq\\u003cbr\\u003eV0=%{x}\\u003cbr\\u003eV1=%{y}\\u003cbr\\u003eV2=%{z}\\u003cextra\\u003e\\u003c\\u002fextra\\u003e\",\"legendgroup\":\"induced pluripotent stem cell, illumina_truseq\",\"marker\":{\"color\":\"#FF6692\",\"symbol\":\"circle\",\"size\":4},\"mode\":\"markers\",\"name\":\"induced pluripotent stem cell, illumina_truseq\",\"scene\":\"scene\",\"showlegend\":true,\"x\":[-1.6291573,-1.7089067,-1.5676966,0.19537121,0.19113517,0.40817332,0.3457108,0.08180624,-0.010553002,1.3970305,1.835614,1.7160997,2.4998152,1.8806615,1.4445511,2.9444244,1.4524444,2.249163,1.8562725,2.0902925,1.1271894,1.9408798,1.2786958,0.7099753,0.71611,0.497398,1.3474836,0.9233993,0.8981255,1.1775653,0.80822873,-0.4613214,0.537093,2.0944693,1.9900982,-0.4171918,0.47281623,-0.44926256,1.3042166,-0.58568245,0.18429512,2.7371716,2.5981693,2.1420004,4.1532845,4.12652,4.1359124,1.0988048,1.2036356,0.82078826,1.3222008,1.3767273,0.7402314,1.7013149,1.5859094,2.1162164,2.23476,2.3681152,0.35713327,-0.35880214,-0.08366567,1.7203555,2.9396114,3.2416425,1.0029789,1.1187278,0.8984942,0.41492087,0.09712088,0.34362513,0.3678984,0.4803615,0.29019827,0.32299715,-0.5785076,0.56341076,-0.84723383,4.624323,4.0136614,2.2446404,1.9655082,1.7825189,1.7161304,-0.37112647,-0.4013583,-0.7411309,-0.45189804,-0.08244914,-1.2733278,-1.0518541,-1.2670102,1.3084645,1.2873536,1.2418144,1.3664627,1.3947507,1.2540735,0.98406774,1.8096895,1.2739769,0.332453,0.40224278,0.2888353,2.1966999,2.0482063,1.6774738,3.0906444,3.0051131,1.7266603,1.1320345,4.193431,-0.49114174,-0.4253016,0.090093434,0.5129525,4.4093823,0.26140845,0.7252547,1.1954044,0.43548685,2.3770337,3.078248,2.840343,1.2675629,1.0468282,3.344979,-0.3816635,-0.8776271,-0.7985826,-1.4065182,-0.749144,-1.2151148,0.3221959,0.33766848,0.1779365,1.1901355,1.1335503,1.1236649,-0.4563977,0.010511696,0.110078156,-0.22148079,-0.1788277,-0.35968703,4.048943,4.201812,4.1175776,0.18458527,-0.51181036,0.11537576,-1.3194361,-1.5069711,-2.1059325,-0.6070166,-0.28928465,-0.5619518,1.7466795,2.1514194,2.7364147,2.3839335,2.6451402,3.3480442,2.7294362,2.2447968,2.0936148,2.3668633,2.355463,1.668837,4.9286203,4.598823,4.6824737,4.636018,2.6293736,2.7102177,4.238402,4.093331,4.843263],\"y\":[-2.9566302,-2.8976989,-2.889443,-1.9479378,-1.519023,-2.1262712,-1.7295815,-1.4357243,-1.7968737,-7.7387877,-7.6550636,-7.890585,-7.3242126,-7.5399337,-6.1481986,-5.4730563,-6.420141,-7.3403606,-7.387854,-7.3186836,-7.5517554,-7.814441,-8.002895,-6.8567395,-7.739884,-7.775882,-5.0585594,-7.259705,-7.2651234,-7.3165855,-7.1992106,-7.3485394,-7.046923,-5.082815,-5.094501,-5.053657,-3.8299036,-4.821722,-5.253057,-5.194774,-5.6157255,-6.4932837,-6.7796984,-7.1842947,-7.4614305,-7.5504375,-7.6045055,-8.57614,-8.614187,-8.692532,-5.114846,-4.4203253,-5.2274747,-5.0875998,-5.379835,-6.9010577,-6.7691207,-6.5140095,-4.8221936,-5.42364,-5.9081187,-5.9468355,-6.9800224,-7.0037527,-7.4634347,-7.5687094,-7.0154266,-3.237535,-2.697813,-3.164194,-3.0338962,-3.124146,-2.820664,-2.9727788,-6.263922,-7.352992,-5.832149,-7.7533054,-7.068004,-5.995808,-7.637049,-7.826068,-7.7071357,-6.7421427,-6.519233,-6.060728,-6.4405694,-6.5267525,-4.8127766,-4.920583,-4.568016,-7.3472915,-7.2216277,-7.08503,-6.3287563,-6.1270394,-6.2453456,-6.10646,-5.908028,-6.0257645,-4.7396135,-4.043485,-4.3586903,-6.228251,-6.2965345,-5.818287,-6.72244,-6.6502028,-6.967172,-7.24156,-6.429427,-5.0669556,-4.8806295,-5.0491996,-4.4980483,-4.354761,-5.007943,-5.3302755,-5.5174975,-3.8531322,-6.642728,-6.334288,-6.42882,-6.3185997,-6.339868,-7.9278517,-5.0931983,-5.083647,-4.8452196,-6.220685,-5.506955,-5.925717,-3.4544373,-3.3748784,-3.2237272,-6.81179,-7.539259,-7.5624466,-5.4015055,-3.805513,-4.636635,-5.643079,-5.7449784,-5.5307417,-7.6472697,-7.8043485,-7.8354397,-5.7195005,-5.1194153,-5.784529,-3.5270119,-3.495758,-3.3241124,-3.5246654,-5.437599,-5.545614,-7.798484,-7.7579536,-6.827605,-7.7117863,-7.6802387,-6.75114,-6.3245745,-6.786516,-6.3548055,-7.0959334,-7.3182735,-6.990912,-3.368929,-3.18434,-3.4447808,-3.4323654,-4.0107102,-1.9368358,-2.5194564,-2.0907845,-2.5627654],\"z\":[3.5485332,3.6558867,3.515901,1.7482044,1.4290155,1.6361369,1.7129295,1.5002748,1.4813892,0.9471265,1.0981201,1.0165385,-0.14287463,-0.09462706,1.9799556,-1.5706843,1.7190263,1.3766634,1.9826572,2.0785565,-0.5672326,-0.5458163,-0.78861207,1.5664006,2.2348773,2.0775278,1.4003606,0.45320308,0.28129855,0.47064173,1.0296445,0.15330994,0.72113216,0.89968365,0.98870665,0.46074066,0.1951051,0.75100917,1.2052007,1.3358716,1.760279,1.2788419,1.0984286,0.9072191,0.56275064,0.47393462,0.5814407,-0.61259586,-0.47887668,-0.3248447,-0.7093721,-0.38786754,-0.08991257,-0.6594573,-1.1400822,0.1920763,0.37588283,0.42376888,0.14079678,0.7081176,1.0188515,-0.2608004,-1.500569,-1.6259079,0.50365376,0.49062535,0.6146377,-0.260759,-0.945348,-0.28972518,-0.46646366,-0.34338728,-0.6842482,-0.5255705,1.5838828,-0.0075014755,1.6088271,-2.1928868,-1.2616847,-0.6354803,1.7607771,1.5933816,1.5503732,0.5930771,0.7847059,-0.065068506,0.82783866,0.6804392,-0.3123215,-0.36199215,-0.42706224,0.6309793,0.51528466,0.48403248,0.6216775,1.0151691,0.4954979,2.1020544,1.5218939,2.178684,1.0760823,0.8514341,0.9161241,1.0038753,1.6199255,1.9415785,0.39934245,0.19896817,0.38931578,0.6442592,-4.157356,-1.1194783,-1.0735823,-1.1639909,0.53923863,-3.4314728,0.81716067,0.46174058,0.48746076,0.48956394,0.29204687,0.33743,0.103114,0.4418783,0.6443875,-1.7675093,-1.3360895,-0.7670882,-0.6936556,1.3837469,2.0022488,1.6538963,0.40150306,0.55612135,0.25669762,0.1508053,0.61113304,0.648129,0.5977142,0.23443604,0.47029826,1.8353914,1.6976438,1.8005589,0.6604601,0.57330155,0.49226433,0.40846318,0.7928142,0.40458396,-1.6015619,-1.5760964,-1.6601442,-2.192623,0.5232202,0.89673316,0.74205804,0.80680645,0.41837543,-0.40769133,-0.15003288,0.1513364,1.0181895,0.96821016,1.3545839,0.082376294,-0.6924336,0.96220654,2.0821671,2.428886,2.2642856,2.5809736,0.905154,3.6389563,3.0864491,2.8654518,2.341221],\"type\":\"scatter3d\"},{\"hovertemplate\":\"cell_type=induced pluripotent stem cell\\u003cbr\\u003eprep_method_broad=nugen\\u003cbr\\u003eV0=%{x}\\u003cbr\\u003eV1=%{y}\\u003cbr\\u003eV2=%{z}\\u003cextra\\u003e\\u003c\\u002fextra\\u003e\",\"legendgroup\":\"induced pluripotent stem cell, nugen\",\"marker\":{\"color\":\"#FF6692\",\"symbol\":\"square\",\"size\":4},\"mode\":\"markers\",\"name\":\"induced pluripotent stem cell, nugen\",\"scene\":\"scene\",\"showlegend\":true,\"x\":[1.5447484,0.8078113,0.67817557,0.9863615,0.9049065],\"y\":[-3.6744108,-3.4227161,-3.2575412,-3.7788258,-3.5808725],\"z\":[2.2583354,2.5726252,2.8112671,2.5649517,2.4701579],\"type\":\"scatter3d\"},{\"hovertemplate\":\"cell_type=induced pluripotent stem cell\\u003cbr\\u003eprep_method_broad=illumina_unknown\\u003cbr\\u003eV0=%{x}\\u003cbr\\u003eV1=%{y}\\u003cbr\\u003eV2=%{z}\\u003cextra\\u003e\\u003c\\u002fextra\\u003e\",\"legendgroup\":\"induced pluripotent stem cell, illumina_unknown\",\"marker\":{\"color\":\"#FF6692\",\"symbol\":\"circle\",\"size\":4},\"mode\":\"markers\",\"name\":\"induced pluripotent stem cell, illumina_unknown\",\"scene\":\"scene\",\"showlegend\":true,\"x\":[-1.7659736,-1.7057929,-1.5779445],\"y\":[-3.6017213,-3.5224323,-3.6066933],\"z\":[3.6093245,3.5527754,3.5270174],\"type\":\"scatter3d\"},{\"hovertemplate\":\"cell_type=fibroblast\\u003cbr\\u003eprep_method_broad=illumina_truseq\\u003cbr\\u003eV0=%{x}\\u003cbr\\u003eV1=%{y}\\u003cbr\\u003eV2=%{z}\\u003cextra\\u003e\\u003c\\u002fextra\\u003e\",\"legendgroup\":\"fibroblast, illumina_truseq\",\"marker\":{\"color\":\"#B6E880\",\"symbol\":\"circle\",\"size\":4},\"mode\":\"markers\",\"name\":\"fibroblast, illumina_truseq\",\"scene\":\"scene\",\"showlegend\":true,\"x\":[0.35026628,0.19823408,0.0296067,-0.3924728,0.8206123,1.6907085],\"y\":[-0.47803438,-0.44363457,-0.41869485,-0.46883142,-0.35200888,-0.75993085],\"z\":[-1.7261468,-1.6919032,-1.5837551,-2.290816,-2.1091056,-2.98899],\"type\":\"scatter3d\"},{\"hovertemplate\":\"cell_type=microglial cell\\u003cbr\\u003eprep_method_broad=illumina_truseq\\u003cbr\\u003eV0=%{x}\\u003cbr\\u003eV1=%{y}\\u003cbr\\u003eV2=%{z}\\u003cextra\\u003e\\u003c\\u002fextra\\u003e\",\"legendgroup\":\"microglial cell, illumina_truseq\",\"marker\":{\"color\":\"#FF97FF\",\"symbol\":\"circle\",\"size\":4},\"mode\":\"markers\",\"name\":\"microglial cell, illumina_truseq\",\"scene\":\"scene\",\"showlegend\":true,\"x\":[-2.3379123,-2.3814363,-2.2196765,-2.3861094,-2.2265985,-2.4184043,1.7614357,2.3692515,2.4902685,2.4126842,2.67904,3.5687556,0.43926805,0.5901992,0.6018708,1.2736208,-0.12183076,-0.13579947],\"y\":[4.859592,4.172459,4.639142,4.821154,4.5743933,4.785422,4.5242596,4.571058,4.037416,4.393897,4.559762,3.074284,2.6020536,2.562376,2.4681516,1.6835631,3.2441444,3.2881384],\"z\":[-3.200952,-3.065569,-3.2799497,-3.2726758,-3.3483717,-3.408724,-4.5576053,-4.6023626,-4.6877317,-4.403941,-4.61247,-4.403494,-1.3882926,-1.4040213,-1.4045669,-1.4341775,-1.4405761,-1.3872911],\"type\":\"scatter3d\"},{\"hovertemplate\":\"cell_type=microglial cell\\u003cbr\\u003eprep_method_broad=smartseq_unknown\\u003cbr\\u003eV0=%{x}\\u003cbr\\u003eV1=%{y}\\u003cbr\\u003eV2=%{z}\\u003cextra\\u003e\\u003c\\u002fextra\\u003e\",\"legendgroup\":\"microglial cell, smartseq_unknown\",\"marker\":{\"color\":\"#FF97FF\",\"symbol\":\"diamond\",\"size\":4},\"mode\":\"markers\",\"name\":\"microglial cell, smartseq_unknown\",\"scene\":\"scene\",\"showlegend\":true,\"x\":[3.9312842,3.811021,1.8593621,1.5268457,1.3525826,1.2556579,3.6113904,2.8349202],\"y\":[2.7025175,2.80088,1.5737411,2.1041055,1.2162153,0.99797213,2.9890594,2.358788],\"z\":[-4.038123,-4.240034,-3.4663546,-3.4645295,-3.4890642,-3.3925135,-4.032825,-3.526713],\"type\":\"scatter3d\"},{\"hovertemplate\":\"cell_type=microglial cell\\u003cbr\\u003eprep_method_broad=illumina_unknown\\u003cbr\\u003eV0=%{x}\\u003cbr\\u003eV1=%{y}\\u003cbr\\u003eV2=%{z}\\u003cextra\\u003e\\u003c\\u002fextra\\u003e\",\"legendgroup\":\"microglial cell, illumina_unknown\",\"marker\":{\"color\":\"#FF97FF\",\"symbol\":\"circle\",\"size\":4},\"mode\":\"markers\",\"name\":\"microglial cell, illumina_unknown\",\"scene\":\"scene\",\"showlegend\":true,\"x\":[-1.0472777,-1.0567575,0.36926663,0.42242855,2.6859963,3.1902695,4.001518,3.72437,2.2516134,2.1854286,1.8138115,2.1534753,-0.12275082,-0.37759525],\"y\":[3.2474384,3.3298697,-0.3136387,-0.3239004,4.7124715,5.486962,4.0825024,4.2254877,5.066261,6.4583783,4.9519486,5.0702643,3.8703084,4.122109],\"z\":[-2.72422,-2.6539266,-1.7573447,-1.7102172,-4.0295367,-2.3966112,-3.2526143,-3.279142,-3.7653422,-1.638655,-3.6114,-3.6125205,-2.1558378,-2.1417215],\"type\":\"scatter3d\"},{\"hovertemplate\":\"cell_type=macrophage\\u003cbr\\u003eprep_method_broad=illumina_truseq\\u003cbr\\u003eV0=%{x}\\u003cbr\\u003eV1=%{y}\\u003cbr\\u003eV2=%{z}\\u003cextra\\u003e\\u003c\\u002fextra\\u003e\",\"legendgroup\":\"macrophage, illumina_truseq\",\"marker\":{\"color\":\"#FECB52\",\"symbol\":\"circle\",\"size\":4},\"mode\":\"markers\",\"name\":\"macrophage, illumina_truseq\",\"scene\":\"scene\",\"showlegend\":true,\"x\":[2.636665,2.0972471,-0.3778203,0.015600383,-0.08125633,-0.5172723,3.1658528,-1.145097,0.38312745,-0.5995169,-0.4792152,-0.21213955,-0.24648732,-0.96175236,6.265756,5.2521806,6.2295303,5.9044557,6.267548,3.1794658,2.7641056,2.0095353,3.5955834,3.0457356,0.37488872,0.18945855],\"y\":[2.7208195,2.8874164,2.1079383,1.4109799,0.8748578,1.6754502,2.9715004,2.9938293,2.6463227,2.5028172,2.5216126,2.557836,2.6915498,2.2058382,3.4720545,2.7918954,2.8153887,3.5604525,3.9254236,8.435512,7.9965005,7.2765193,8.9659195,8.4250965,1.8612748,1.9124018],\"z\":[-3.7457054,-3.7361248,-3.235174,-3.4682562,-3.013742,-3.1461718,-4.0514684,-3.0497746,-3.3472707,-0.8834269,-0.8731526,-0.974844,-0.9945278,-0.18245694,0.34135002,-0.14317623,0.47635394,0.22989893,0.27998617,2.0671394,1.7963411,2.778645,2.36422,2.052453,1.7169418,1.7994406],\"type\":\"scatter3d\"},{\"hovertemplate\":\"cell_type=macrophage\\u003cbr\\u003eprep_method_broad=illumina_unknown\\u003cbr\\u003eV0=%{x}\\u003cbr\\u003eV1=%{y}\\u003cbr\\u003eV2=%{z}\\u003cextra\\u003e\\u003c\\u002fextra\\u003e\",\"legendgroup\":\"macrophage, illumina_unknown\",\"marker\":{\"color\":\"#FECB52\",\"symbol\":\"circle\",\"size\":4},\"mode\":\"markers\",\"name\":\"macrophage, illumina_unknown\",\"scene\":\"scene\",\"showlegend\":true,\"x\":[0.2673691,-0.2267316,0.18135118,0.295806,0.58234435,1.2976501,1.9922726,0.7601571,0.6320024,3.030351,1.2237605,2.8534706],\"y\":[3.0851665,3.1123772,3.304822,3.2526212,1.8324577,1.9936634,3.0721455,1.6136335,1.7648331,3.5610833,1.7403699,3.486843],\"z\":[-3.201498,-3.0958173,-3.0077598,-2.9647481,1.3972837,0.728843,2.4200032,1.1512352,1.2833524,2.0923011,0.7655177,2.1599665],\"type\":\"scatter3d\"},{\"hovertemplate\":\"cell_type=macrophage\\u003cbr\\u003eprep_method_broad=hudson\\u003cbr\\u003eV0=%{x}\\u003cbr\\u003eV1=%{y}\\u003cbr\\u003eV2=%{z}\\u003cextra\\u003e\\u003c\\u002fextra\\u003e\",\"legendgroup\":\"macrophage, hudson\",\"marker\":{\"color\":\"#FECB52\",\"symbol\":\"square\",\"size\":4},\"mode\":\"markers\",\"name\":\"macrophage, hudson\",\"scene\":\"scene\",\"showlegend\":true,\"x\":[4.8361125,4.5796256,4.126294,4.106415,4.8178887,3.7314868,3.5614288,4.0712924,1.1225079,1.0544537,1.4431705,3.4406273,3.8618507,5.4810214,5.2456155,3.7303114,3.8248029,5.2244916,4.959952,3.5805836,4.385501,5.667297,6.2853494,5.3687305,5.3946204,5.088235,5.3613367,5.5397053],\"y\":[6.249042,4.389179,4.746659,3.9666715,5.7494683,4.1114235,4.0657525,3.803331,3.4772387,3.5005589,3.346808,4.5670476,5.078859,5.1050134,4.6554995,5.230742,5.7697535,5.931152,5.1245074,4.705541,5.2726603,5.6170177,5.5998106,3.6335897,3.8070798,3.2628794,3.5823193,3.648611],\"z\":[2.463165,1.626818,2.478008,1.394945,1.7062773,1.7839153,1.5471222,1.3690251,2.1580315,2.1583376,1.84088,5.3850293,5.8069305,4.666597,3.8894634,4.2391624,4.82112,3.1999428,2.1326172,2.3862846,2.502175,2.4770539,-0.076911695,-0.7772709,-0.9496803,-0.75281155,-0.66362137,-0.87548316],\"type\":\"scatter3d\"},{\"hovertemplate\":\"cell_type=macrophage\\u003cbr\\u003eprep_method_broad=roche_kapa\\u003cbr\\u003eV0=%{x}\\u003cbr\\u003eV1=%{y}\\u003cbr\\u003eV2=%{z}\\u003cextra\\u003e\\u003c\\u002fextra\\u003e\",\"legendgroup\":\"macrophage, roche_kapa\",\"marker\":{\"color\":\"#FECB52\",\"symbol\":\"x\",\"size\":4},\"mode\":\"markers\",\"name\":\"macrophage, roche_kapa\",\"scene\":\"scene\",\"showlegend\":true,\"x\":[-0.04595542,1.0654752,2.5191293,2.4250648,2.0797298,-0.4577536,1.6371682,2.867229,4.517812,4.219011,-0.20318133,0.6259252,1.5929453,1.6904302,1.9991353,-0.4134739,1.122824,1.8559418,2.029711,2.4461105,-0.13051516,2.4119425,3.1726816,3.3349283],\"y\":[3.689568,3.8086123,3.255568,4.6992393,3.4759912,4.7180047,2.8162265,5.4389753,6.28297,5.7972136,3.9581113,4.3083715,3.9948106,5.1731086,4.631277,4.792597,3.7444024,4.2960014,4.4885893,4.7850466,4.5364013,2.9067516,4.1960597,4.653576],\"z\":[-2.73593,-1.7076179,-0.89115834,-1.4516405,0.7920695,-2.3340158,-2.2581987,-0.44062015,1.5450715,-0.3767741,-2.4587486,-1.4542266,-0.79610133,-0.9827182,-1.074659,-2.2957063,-1.8248066,-1.4436677,-1.0306194,-0.85721093,-2.4398699,-2.217901,-0.6824501,-0.9682255],\"type\":\"scatter3d\"},{\"hovertemplate\":\"cell_type=hematopoietic precursor cell\\u003cbr\\u003eprep_method_broad=illumina_truseq\\u003cbr\\u003eV0=%{x}\\u003cbr\\u003eV1=%{y}\\u003cbr\\u003eV2=%{z}\\u003cextra\\u003e\\u003c\\u002fextra\\u003e\",\"legendgroup\":\"hematopoietic precursor cell, illumina_truseq\",\"marker\":{\"color\":\"#636efa\",\"symbol\":\"circle\",\"size\":4},\"mode\":\"markers\",\"name\":\"hematopoietic precursor cell, illumina_truseq\",\"scene\":\"scene\",\"showlegend\":true,\"x\":[-0.29848462,-1.2879639,0.1383757],\"y\":[0.3446617,1.0704297,0.17962074],\"z\":[1.455785,0.8787162,1.4225385],\"type\":\"scatter3d\"},{\"hovertemplate\":\"cell_type=hematopoietic precursor cell\\u003cbr\\u003eprep_method_broad=nugen\\u003cbr\\u003eV0=%{x}\\u003cbr\\u003eV1=%{y}\\u003cbr\\u003eV2=%{z}\\u003cextra\\u003e\\u003c\\u002fextra\\u003e\",\"legendgroup\":\"hematopoietic precursor cell, nugen\",\"marker\":{\"color\":\"#636efa\",\"symbol\":\"square\",\"size\":4},\"mode\":\"markers\",\"name\":\"hematopoietic precursor cell, nugen\",\"scene\":\"scene\",\"showlegend\":true,\"x\":[-4.8038363,-4.660803],\"y\":[2.0954204,1.380833],\"z\":[3.6235585,2.1248631],\"type\":\"scatter3d\"},{\"hovertemplate\":\"cell_type=hematopoietic precursor cell\\u003cbr\\u003eprep_method_broad=illumina_unknown\\u003cbr\\u003eV0=%{x}\\u003cbr\\u003eV1=%{y}\\u003cbr\\u003eV2=%{z}\\u003cextra\\u003e\\u003c\\u002fextra\\u003e\",\"legendgroup\":\"hematopoietic precursor cell, illumina_unknown\",\"marker\":{\"color\":\"#636efa\",\"symbol\":\"circle\",\"size\":4},\"mode\":\"markers\",\"name\":\"hematopoietic precursor cell, illumina_unknown\",\"scene\":\"scene\",\"showlegend\":true,\"x\":[-2.7387686,-2.8679926,-3.0339599,-3.6358588,-4.820559,-4.2792964],\"y\":[2.8169298,3.24396,2.8733273,1.926411,2.1931334,1.9551429],\"z\":[1.043624,1.8833307,1.0679083,1.0525688,1.3822272,1.1183478],\"type\":\"scatter3d\"},{\"hovertemplate\":\"cell_type=hematopoietic precursor cell\\u003cbr\\u003eprep_method_broad=illumina_nextera\\u003cbr\\u003eV0=%{x}\\u003cbr\\u003eV1=%{y}\\u003cbr\\u003eV2=%{z}\\u003cextra\\u003e\\u003c\\u002fextra\\u003e\",\"legendgroup\":\"hematopoietic precursor cell, illumina_nextera\",\"marker\":{\"color\":\"#636efa\",\"symbol\":\"diamond\",\"size\":4},\"mode\":\"markers\",\"name\":\"hematopoietic precursor cell, illumina_nextera\",\"scene\":\"scene\",\"showlegend\":true,\"x\":[-3.2361224,-2.710477,-3.9437015,-4.7480936,-4.5132723,-4.0875087],\"y\":[1.6308182,0.8137573,1.3787299,1.5682029,1.4504708,2.0534348],\"z\":[4.299375,2.4923792,0.41692427,0.38789383,0.34333742,0.017174967],\"type\":\"scatter3d\"}],                        {\"template\":{\"data\":{\"histogram2dcontour\":[{\"type\":\"histogram2dcontour\",\"colorbar\":{\"outlinewidth\":0,\"ticks\":\"\"},\"colorscale\":[[0.0,\"#0d0887\"],[0.1111111111111111,\"#46039f\"],[0.2222222222222222,\"#7201a8\"],[0.3333333333333333,\"#9c179e\"],[0.4444444444444444,\"#bd3786\"],[0.5555555555555556,\"#d8576b\"],[0.6666666666666666,\"#ed7953\"],[0.7777777777777778,\"#fb9f3a\"],[0.8888888888888888,\"#fdca26\"],[1.0,\"#f0f921\"]]}],\"choropleth\":[{\"type\":\"choropleth\",\"colorbar\":{\"outlinewidth\":0,\"ticks\":\"\"}}],\"histogram2d\":[{\"type\":\"histogram2d\",\"colorbar\":{\"outlinewidth\":0,\"ticks\":\"\"},\"colorscale\":[[0.0,\"#0d0887\"],[0.1111111111111111,\"#46039f\"],[0.2222222222222222,\"#7201a8\"],[0.3333333333333333,\"#9c179e\"],[0.4444444444444444,\"#bd3786\"],[0.5555555555555556,\"#d8576b\"],[0.6666666666666666,\"#ed7953\"],[0.7777777777777778,\"#fb9f3a\"],[0.8888888888888888,\"#fdca26\"],[1.0,\"#f0f921\"]]}],\"heatmap\":[{\"type\":\"heatmap\",\"colorbar\":{\"outlinewidth\":0,\"ticks\":\"\"},\"colorscale\":[[0.0,\"#0d0887\"],[0.1111111111111111,\"#46039f\"],[0.2222222222222222,\"#7201a8\"],[0.3333333333333333,\"#9c179e\"],[0.4444444444444444,\"#bd3786\"],[0.5555555555555556,\"#d8576b\"],[0.6666666666666666,\"#ed7953\"],[0.7777777777777778,\"#fb9f3a\"],[0.8888888888888888,\"#fdca26\"],[1.0,\"#f0f921\"]]}],\"heatmapgl\":[{\"type\":\"heatmapgl\",\"colorbar\":{\"outlinewidth\":0,\"ticks\":\"\"},\"colorscale\":[[0.0,\"#0d0887\"],[0.1111111111111111,\"#46039f\"],[0.2222222222222222,\"#7201a8\"],[0.3333333333333333,\"#9c179e\"],[0.4444444444444444,\"#bd3786\"],[0.5555555555555556,\"#d8576b\"],[0.6666666666666666,\"#ed7953\"],[0.7777777777777778,\"#fb9f3a\"],[0.8888888888888888,\"#fdca26\"],[1.0,\"#f0f921\"]]}],\"contourcarpet\":[{\"type\":\"contourcarpet\",\"colorbar\":{\"outlinewidth\":0,\"ticks\":\"\"}}],\"contour\":[{\"type\":\"contour\",\"colorbar\":{\"outlinewidth\":0,\"ticks\":\"\"},\"colorscale\":[[0.0,\"#0d0887\"],[0.1111111111111111,\"#46039f\"],[0.2222222222222222,\"#7201a8\"],[0.3333333333333333,\"#9c179e\"],[0.4444444444444444,\"#bd3786\"],[0.5555555555555556,\"#d8576b\"],[0.6666666666666666,\"#ed7953\"],[0.7777777777777778,\"#fb9f3a\"],[0.8888888888888888,\"#fdca26\"],[1.0,\"#f0f921\"]]}],\"surface\":[{\"type\":\"surface\",\"colorbar\":{\"outlinewidth\":0,\"ticks\":\"\"},\"colorscale\":[[0.0,\"#0d0887\"],[0.1111111111111111,\"#46039f\"],[0.2222222222222222,\"#7201a8\"],[0.3333333333333333,\"#9c179e\"],[0.4444444444444444,\"#bd3786\"],[0.5555555555555556,\"#d8576b\"],[0.6666666666666666,\"#ed7953\"],[0.7777777777777778,\"#fb9f3a\"],[0.8888888888888888,\"#fdca26\"],[1.0,\"#f0f921\"]]}],\"mesh3d\":[{\"type\":\"mesh3d\",\"colorbar\":{\"outlinewidth\":0,\"ticks\":\"\"}}],\"scatter\":[{\"fillpattern\":{\"fillmode\":\"overlay\",\"size\":10,\"solidity\":0.2},\"type\":\"scatter\"}],\"parcoords\":[{\"type\":\"parcoords\",\"line\":{\"colorbar\":{\"outlinewidth\":0,\"ticks\":\"\"}}}],\"scatterpolargl\":[{\"type\":\"scatterpolargl\",\"marker\":{\"colorbar\":{\"outlinewidth\":0,\"ticks\":\"\"}}}],\"bar\":[{\"error_x\":{\"color\":\"#2a3f5f\"},\"error_y\":{\"color\":\"#2a3f5f\"},\"marker\":{\"line\":{\"color\":\"#E5ECF6\",\"width\":0.5},\"pattern\":{\"fillmode\":\"overlay\",\"size\":10,\"solidity\":0.2}},\"type\":\"bar\"}],\"scattergeo\":[{\"type\":\"scattergeo\",\"marker\":{\"colorbar\":{\"outlinewidth\":0,\"ticks\":\"\"}}}],\"scatterpolar\":[{\"type\":\"scatterpolar\",\"marker\":{\"colorbar\":{\"outlinewidth\":0,\"ticks\":\"\"}}}],\"histogram\":[{\"marker\":{\"pattern\":{\"fillmode\":\"overlay\",\"size\":10,\"solidity\":0.2}},\"type\":\"histogram\"}],\"scattergl\":[{\"type\":\"scattergl\",\"marker\":{\"colorbar\":{\"outlinewidth\":0,\"ticks\":\"\"}}}],\"scatter3d\":[{\"type\":\"scatter3d\",\"line\":{\"colorbar\":{\"outlinewidth\":0,\"ticks\":\"\"}},\"marker\":{\"colorbar\":{\"outlinewidth\":0,\"ticks\":\"\"}}}],\"scattermapbox\":[{\"type\":\"scattermapbox\",\"marker\":{\"colorbar\":{\"outlinewidth\":0,\"ticks\":\"\"}}}],\"scatterternary\":[{\"type\":\"scatterternary\",\"marker\":{\"colorbar\":{\"outlinewidth\":0,\"ticks\":\"\"}}}],\"scattercarpet\":[{\"type\":\"scattercarpet\",\"marker\":{\"colorbar\":{\"outlinewidth\":0,\"ticks\":\"\"}}}],\"carpet\":[{\"aaxis\":{\"endlinecolor\":\"#2a3f5f\",\"gridcolor\":\"white\",\"linecolor\":\"white\",\"minorgridcolor\":\"white\",\"startlinecolor\":\"#2a3f5f\"},\"baxis\":{\"endlinecolor\":\"#2a3f5f\",\"gridcolor\":\"white\",\"linecolor\":\"white\",\"minorgridcolor\":\"white\",\"startlinecolor\":\"#2a3f5f\"},\"type\":\"carpet\"}],\"table\":[{\"cells\":{\"fill\":{\"color\":\"#EBF0F8\"},\"line\":{\"color\":\"white\"}},\"header\":{\"fill\":{\"color\":\"#C8D4E3\"},\"line\":{\"color\":\"white\"}},\"type\":\"table\"}],\"barpolar\":[{\"marker\":{\"line\":{\"color\":\"#E5ECF6\",\"width\":0.5},\"pattern\":{\"fillmode\":\"overlay\",\"size\":10,\"solidity\":0.2}},\"type\":\"barpolar\"}],\"pie\":[{\"automargin\":true,\"type\":\"pie\"}]},\"layout\":{\"autotypenumbers\":\"strict\",\"colorway\":[\"#636efa\",\"#EF553B\",\"#00cc96\",\"#ab63fa\",\"#FFA15A\",\"#19d3f3\",\"#FF6692\",\"#B6E880\",\"#FF97FF\",\"#FECB52\"],\"font\":{\"color\":\"#2a3f5f\"},\"hovermode\":\"closest\",\"hoverlabel\":{\"align\":\"left\"},\"paper_bgcolor\":\"white\",\"plot_bgcolor\":\"#E5ECF6\",\"polar\":{\"bgcolor\":\"#E5ECF6\",\"angularaxis\":{\"gridcolor\":\"white\",\"linecolor\":\"white\",\"ticks\":\"\"},\"radialaxis\":{\"gridcolor\":\"white\",\"linecolor\":\"white\",\"ticks\":\"\"}},\"ternary\":{\"bgcolor\":\"#E5ECF6\",\"aaxis\":{\"gridcolor\":\"white\",\"linecolor\":\"white\",\"ticks\":\"\"},\"baxis\":{\"gridcolor\":\"white\",\"linecolor\":\"white\",\"ticks\":\"\"},\"caxis\":{\"gridcolor\":\"white\",\"linecolor\":\"white\",\"ticks\":\"\"}},\"coloraxis\":{\"colorbar\":{\"outlinewidth\":0,\"ticks\":\"\"}},\"colorscale\":{\"sequential\":[[0.0,\"#0d0887\"],[0.1111111111111111,\"#46039f\"],[0.2222222222222222,\"#7201a8\"],[0.3333333333333333,\"#9c179e\"],[0.4444444444444444,\"#bd3786\"],[0.5555555555555556,\"#d8576b\"],[0.6666666666666666,\"#ed7953\"],[0.7777777777777778,\"#fb9f3a\"],[0.8888888888888888,\"#fdca26\"],[1.0,\"#f0f921\"]],\"sequentialminus\":[[0.0,\"#0d0887\"],[0.1111111111111111,\"#46039f\"],[0.2222222222222222,\"#7201a8\"],[0.3333333333333333,\"#9c179e\"],[0.4444444444444444,\"#bd3786\"],[0.5555555555555556,\"#d8576b\"],[0.6666666666666666,\"#ed7953\"],[0.7777777777777778,\"#fb9f3a\"],[0.8888888888888888,\"#fdca26\"],[1.0,\"#f0f921\"]],\"diverging\":[[0,\"#8e0152\"],[0.1,\"#c51b7d\"],[0.2,\"#de77ae\"],[0.3,\"#f1b6da\"],[0.4,\"#fde0ef\"],[0.5,\"#f7f7f7\"],[0.6,\"#e6f5d0\"],[0.7,\"#b8e186\"],[0.8,\"#7fbc41\"],[0.9,\"#4d9221\"],[1,\"#276419\"]]},\"xaxis\":{\"gridcolor\":\"white\",\"linecolor\":\"white\",\"ticks\":\"\",\"title\":{\"standoff\":15},\"zerolinecolor\":\"white\",\"automargin\":true,\"zerolinewidth\":2},\"yaxis\":{\"gridcolor\":\"white\",\"linecolor\":\"white\",\"ticks\":\"\",\"title\":{\"standoff\":15},\"zerolinecolor\":\"white\",\"automargin\":true,\"zerolinewidth\":2},\"scene\":{\"xaxis\":{\"backgroundcolor\":\"#E5ECF6\",\"gridcolor\":\"white\",\"linecolor\":\"white\",\"showbackground\":true,\"ticks\":\"\",\"zerolinecolor\":\"white\",\"gridwidth\":2},\"yaxis\":{\"backgroundcolor\":\"#E5ECF6\",\"gridcolor\":\"white\",\"linecolor\":\"white\",\"showbackground\":true,\"ticks\":\"\",\"zerolinecolor\":\"white\",\"gridwidth\":2},\"zaxis\":{\"backgroundcolor\":\"#E5ECF6\",\"gridcolor\":\"white\",\"linecolor\":\"white\",\"showbackground\":true,\"ticks\":\"\",\"zerolinecolor\":\"white\",\"gridwidth\":2}},\"shapedefaults\":{\"line\":{\"color\":\"#2a3f5f\"}},\"annotationdefaults\":{\"arrowcolor\":\"#2a3f5f\",\"arrowhead\":0,\"arrowwidth\":1},\"geo\":{\"bgcolor\":\"white\",\"landcolor\":\"#E5ECF6\",\"subunitcolor\":\"white\",\"showland\":true,\"showlakes\":true,\"lakecolor\":\"white\"},\"title\":{\"x\":0.05},\"mapbox\":{\"style\":\"light\"}}},\"scene\":{\"domain\":{\"x\":[0.0,1.0],\"y\":[0.0,1.0]},\"xaxis\":{\"title\":{\"text\":\"V0\"}},\"yaxis\":{\"title\":{\"text\":\"V1\"}},\"zaxis\":{\"title\":{\"text\":\"V2\"}}},\"legend\":{\"title\":{\"text\":\"cell_type, prep_method_broad\"},\"tracegroupgap\":0},\"margin\":{\"t\":60}},                        {\"responsive\": true}                    ).then(function(){\n",
       "                            \n",
       "var gd = document.getElementById('1f035603-f60c-45a7-8196-44961f84c209');\n",
       "var x = new MutationObserver(function (mutations, observer) {{\n",
       "        var display = window.getComputedStyle(gd).display;\n",
       "        if (!display || display === 'none') {{\n",
       "            console.log([gd, 'removed!']);\n",
       "            Plotly.purge(gd);\n",
       "            observer.disconnect();\n",
       "        }}\n",
       "}});\n",
       "\n",
       "// Listen for the removal of the full notebook cells\n",
       "var notebookContainer = gd.closest('#notebook-container');\n",
       "if (notebookContainer) {{\n",
       "    x.observe(notebookContainer, {childList: true});\n",
       "}}\n",
       "\n",
       "// Listen for the clearing of the current output cell\n",
       "var outputEl = gd.closest('.output');\n",
       "if (outputEl) {{\n",
       "    x.observe(outputEl, {childList: true});\n",
       "}}\n",
       "\n",
       "                        })                };                });            </script>        </div>"
      ]
     },
     "metadata": {},
     "output_type": "display_data"
    }
   ],
   "source": [
    "import plotly.express as px\n",
    "\n",
    "# Plotting\n",
    "fig = px.scatter_3d(\n",
    "    scvi_representation_coordinates_merged,\n",
    "    x='V0',\n",
    "    y='V1',\n",
    "    z='V2',\n",
    "    color= bio_tag,\n",
    "    symbol = batch_tag\n",
    ")\n",
    "\n",
    "# Adjusting marker size\n",
    "fig.update_traces(marker=dict(size=4))\n",
    "\n",
    "# Show the plot\n",
    "fig.show()"
   ]
  },
  {
   "cell_type": "code",
   "execution_count": 84,
   "id": "3fcc742e-cdef-4d7b-bcce-d9d4b9cc1946",
   "metadata": {},
   "outputs": [
    {
     "name": "stderr",
     "output_type": "stream",
     "text": [
      "/home/chzhan1/.local/lib/python3.9/site-packages/scanpy/preprocessing/_pca.py:374: FutureWarning:\n",
      "\n",
      "Argument `use_highly_variable` is deprecated, consider using the mask argument. Use_highly_variable=True can be called through mask_var=\"highly_variable\". Use_highly_variable=False can be called through mask_var=None\n",
      "\n",
      "Computing neighbors: 100%|██████████| 20/20 [00:04<00:00,  4.54it/s]\n",
      "Embeddings:   0%|\u001b[32m          \u001b[0m| 0/20 [00:00<?, ?it/s]"
     ]
    },
    {
     "name": "stdout",
     "output_type": "stream",
     "text": [
      "\u001b[34mINFO    \u001b[0m fibroblast consists of a single batch or is too small. Skip.                                              \n"
     ]
    },
    {
     "name": "stderr",
     "output_type": "stream",
     "text": [
      "/home/chzhan1/.local/lib/python3.9/site-packages/scib_metrics/_kbet.py:181: FutureWarning:\n",
      "\n",
      "pandas.value_counts is deprecated and will be removed in a future version. Use pd.Series(obj).value_counts() instead.\n",
      "\n",
      "/home/chzhan1/.local/lib/python3.9/site-packages/scib_metrics/_kbet.py:181: FutureWarning:\n",
      "\n",
      "pandas.value_counts is deprecated and will be removed in a future version. Use pd.Series(obj).value_counts() instead.\n",
      "\n",
      "/home/chzhan1/.local/lib/python3.9/site-packages/scib_metrics/_graph_connectivity.py:30: FutureWarning:\n",
      "\n",
      "pandas.value_counts is deprecated and will be removed in a future version. Use pd.Series(obj).value_counts() instead.\n",
      "\n",
      "Embeddings:   5%|\u001b[32m▌         \u001b[0m| 1/20 [00:00<00:17,  1.07it/s]"
     ]
    },
    {
     "name": "stdout",
     "output_type": "stream",
     "text": [
      "\u001b[34mINFO    \u001b[0m fibroblast consists of a single batch or is too small. Skip.                                              \n"
     ]
    },
    {
     "name": "stderr",
     "output_type": "stream",
     "text": [
      "/home/chzhan1/.local/lib/python3.9/site-packages/scib_metrics/_kbet.py:181: FutureWarning:\n",
      "\n",
      "pandas.value_counts is deprecated and will be removed in a future version. Use pd.Series(obj).value_counts() instead.\n",
      "\n",
      "/home/chzhan1/.local/lib/python3.9/site-packages/scib_metrics/_kbet.py:181: FutureWarning:\n",
      "\n",
      "pandas.value_counts is deprecated and will be removed in a future version. Use pd.Series(obj).value_counts() instead.\n",
      "\n",
      "/home/chzhan1/.local/lib/python3.9/site-packages/scib_metrics/_kbet.py:181: FutureWarning:\n",
      "\n",
      "pandas.value_counts is deprecated and will be removed in a future version. Use pd.Series(obj).value_counts() instead.\n",
      "\n",
      "/home/chzhan1/.local/lib/python3.9/site-packages/scib_metrics/_kbet.py:181: FutureWarning:\n",
      "\n",
      "pandas.value_counts is deprecated and will be removed in a future version. Use pd.Series(obj).value_counts() instead.\n",
      "\n",
      "/home/chzhan1/.local/lib/python3.9/site-packages/scib_metrics/_graph_connectivity.py:30: FutureWarning:\n",
      "\n",
      "pandas.value_counts is deprecated and will be removed in a future version. Use pd.Series(obj).value_counts() instead.\n",
      "\n",
      "Embeddings:  10%|\u001b[32m█         \u001b[0m| 2/20 [00:01<00:16,  1.09it/s]"
     ]
    },
    {
     "name": "stdout",
     "output_type": "stream",
     "text": [
      "\u001b[34mINFO    \u001b[0m fibroblast consists of a single batch or is too small. Skip.                                              \n"
     ]
    },
    {
     "name": "stderr",
     "output_type": "stream",
     "text": [
      "/home/chzhan1/.local/lib/python3.9/site-packages/scib_metrics/_kbet.py:181: FutureWarning:\n",
      "\n",
      "pandas.value_counts is deprecated and will be removed in a future version. Use pd.Series(obj).value_counts() instead.\n",
      "\n",
      "/home/chzhan1/.local/lib/python3.9/site-packages/scib_metrics/_kbet.py:181: FutureWarning:\n",
      "\n",
      "pandas.value_counts is deprecated and will be removed in a future version. Use pd.Series(obj).value_counts() instead.\n",
      "\n",
      "/home/chzhan1/.local/lib/python3.9/site-packages/scib_metrics/_kbet.py:181: FutureWarning:\n",
      "\n",
      "pandas.value_counts is deprecated and will be removed in a future version. Use pd.Series(obj).value_counts() instead.\n",
      "\n",
      "/home/chzhan1/.local/lib/python3.9/site-packages/scib_metrics/_kbet.py:181: FutureWarning:\n",
      "\n",
      "pandas.value_counts is deprecated and will be removed in a future version. Use pd.Series(obj).value_counts() instead.\n",
      "\n",
      "/home/chzhan1/.local/lib/python3.9/site-packages/scib_metrics/_graph_connectivity.py:30: FutureWarning:\n",
      "\n",
      "pandas.value_counts is deprecated and will be removed in a future version. Use pd.Series(obj).value_counts() instead.\n",
      "\n",
      "Embeddings:  15%|\u001b[32m█▌        \u001b[0m| 3/20 [00:02<00:15,  1.09it/s]"
     ]
    },
    {
     "name": "stdout",
     "output_type": "stream",
     "text": [
      "\u001b[34mINFO    \u001b[0m fibroblast consists of a single batch or is too small. Skip.                                              \n"
     ]
    },
    {
     "name": "stderr",
     "output_type": "stream",
     "text": [
      "/home/chzhan1/.local/lib/python3.9/site-packages/scib_metrics/_kbet.py:181: FutureWarning:\n",
      "\n",
      "pandas.value_counts is deprecated and will be removed in a future version. Use pd.Series(obj).value_counts() instead.\n",
      "\n",
      "/home/chzhan1/.local/lib/python3.9/site-packages/scib_metrics/_kbet.py:181: FutureWarning:\n",
      "\n",
      "pandas.value_counts is deprecated and will be removed in a future version. Use pd.Series(obj).value_counts() instead.\n",
      "\n",
      "/home/chzhan1/.local/lib/python3.9/site-packages/scib_metrics/_kbet.py:181: FutureWarning:\n",
      "\n",
      "pandas.value_counts is deprecated and will be removed in a future version. Use pd.Series(obj).value_counts() instead.\n",
      "\n",
      "/home/chzhan1/.local/lib/python3.9/site-packages/scib_metrics/_kbet.py:181: FutureWarning:\n",
      "\n",
      "pandas.value_counts is deprecated and will be removed in a future version. Use pd.Series(obj).value_counts() instead.\n",
      "\n",
      "/home/chzhan1/.local/lib/python3.9/site-packages/scib_metrics/_graph_connectivity.py:30: FutureWarning:\n",
      "\n",
      "pandas.value_counts is deprecated and will be removed in a future version. Use pd.Series(obj).value_counts() instead.\n",
      "\n",
      "Embeddings:  20%|\u001b[32m██        \u001b[0m| 4/20 [00:03<00:14,  1.10it/s]"
     ]
    },
    {
     "name": "stdout",
     "output_type": "stream",
     "text": [
      "\u001b[34mINFO    \u001b[0m fibroblast consists of a single batch or is too small. Skip.                                              \n"
     ]
    },
    {
     "name": "stderr",
     "output_type": "stream",
     "text": [
      "/home/chzhan1/.local/lib/python3.9/site-packages/scib_metrics/_kbet.py:181: FutureWarning:\n",
      "\n",
      "pandas.value_counts is deprecated and will be removed in a future version. Use pd.Series(obj).value_counts() instead.\n",
      "\n",
      "/home/chzhan1/.local/lib/python3.9/site-packages/scib_metrics/_kbet.py:181: FutureWarning:\n",
      "\n",
      "pandas.value_counts is deprecated and will be removed in a future version. Use pd.Series(obj).value_counts() instead.\n",
      "\n",
      "/home/chzhan1/.local/lib/python3.9/site-packages/scib_metrics/_kbet.py:181: FutureWarning:\n",
      "\n",
      "pandas.value_counts is deprecated and will be removed in a future version. Use pd.Series(obj).value_counts() instead.\n",
      "\n",
      "/home/chzhan1/.local/lib/python3.9/site-packages/scib_metrics/_graph_connectivity.py:30: FutureWarning:\n",
      "\n",
      "pandas.value_counts is deprecated and will be removed in a future version. Use pd.Series(obj).value_counts() instead.\n",
      "\n",
      "Embeddings:  25%|\u001b[32m██▌       \u001b[0m| 5/20 [00:04<00:13,  1.09it/s]"
     ]
    },
    {
     "name": "stdout",
     "output_type": "stream",
     "text": [
      "\u001b[34mINFO    \u001b[0m fibroblast consists of a single batch or is too small. Skip.                                              \n"
     ]
    },
    {
     "name": "stderr",
     "output_type": "stream",
     "text": [
      "/home/chzhan1/.local/lib/python3.9/site-packages/scib_metrics/_kbet.py:181: FutureWarning:\n",
      "\n",
      "pandas.value_counts is deprecated and will be removed in a future version. Use pd.Series(obj).value_counts() instead.\n",
      "\n",
      "/home/chzhan1/.local/lib/python3.9/site-packages/scib_metrics/_kbet.py:181: FutureWarning:\n",
      "\n",
      "pandas.value_counts is deprecated and will be removed in a future version. Use pd.Series(obj).value_counts() instead.\n",
      "\n",
      "/home/chzhan1/.local/lib/python3.9/site-packages/scib_metrics/_kbet.py:181: FutureWarning:\n",
      "\n",
      "pandas.value_counts is deprecated and will be removed in a future version. Use pd.Series(obj).value_counts() instead.\n",
      "\n",
      "/home/chzhan1/.local/lib/python3.9/site-packages/scib_metrics/_graph_connectivity.py:30: FutureWarning:\n",
      "\n",
      "pandas.value_counts is deprecated and will be removed in a future version. Use pd.Series(obj).value_counts() instead.\n",
      "\n",
      "Embeddings:  30%|\u001b[32m███       \u001b[0m| 6/20 [00:05<00:12,  1.09it/s]"
     ]
    },
    {
     "name": "stdout",
     "output_type": "stream",
     "text": [
      "\u001b[34mINFO    \u001b[0m fibroblast consists of a single batch or is too small. Skip.                                              \n"
     ]
    },
    {
     "name": "stderr",
     "output_type": "stream",
     "text": [
      "/home/chzhan1/.local/lib/python3.9/site-packages/scib_metrics/_kbet.py:181: FutureWarning:\n",
      "\n",
      "pandas.value_counts is deprecated and will be removed in a future version. Use pd.Series(obj).value_counts() instead.\n",
      "\n",
      "/home/chzhan1/.local/lib/python3.9/site-packages/scib_metrics/_kbet.py:181: FutureWarning:\n",
      "\n",
      "pandas.value_counts is deprecated and will be removed in a future version. Use pd.Series(obj).value_counts() instead.\n",
      "\n",
      "/home/chzhan1/.local/lib/python3.9/site-packages/scib_metrics/_kbet.py:181: FutureWarning:\n",
      "\n",
      "pandas.value_counts is deprecated and will be removed in a future version. Use pd.Series(obj).value_counts() instead.\n",
      "\n",
      "/home/chzhan1/.local/lib/python3.9/site-packages/scib_metrics/_graph_connectivity.py:30: FutureWarning:\n",
      "\n",
      "pandas.value_counts is deprecated and will be removed in a future version. Use pd.Series(obj).value_counts() instead.\n",
      "\n",
      "Embeddings:  35%|\u001b[32m███▌      \u001b[0m| 7/20 [00:06<00:11,  1.09it/s]"
     ]
    },
    {
     "name": "stdout",
     "output_type": "stream",
     "text": [
      "\u001b[34mINFO    \u001b[0m fibroblast consists of a single batch or is too small. Skip.                                              \n"
     ]
    },
    {
     "name": "stderr",
     "output_type": "stream",
     "text": [
      "/home/chzhan1/.local/lib/python3.9/site-packages/scib_metrics/_kbet.py:181: FutureWarning:\n",
      "\n",
      "pandas.value_counts is deprecated and will be removed in a future version. Use pd.Series(obj).value_counts() instead.\n",
      "\n",
      "/home/chzhan1/.local/lib/python3.9/site-packages/scib_metrics/_kbet.py:181: FutureWarning:\n",
      "\n",
      "pandas.value_counts is deprecated and will be removed in a future version. Use pd.Series(obj).value_counts() instead.\n",
      "\n",
      "/home/chzhan1/.local/lib/python3.9/site-packages/scib_metrics/_graph_connectivity.py:30: FutureWarning:\n",
      "\n",
      "pandas.value_counts is deprecated and will be removed in a future version. Use pd.Series(obj).value_counts() instead.\n",
      "\n",
      "Embeddings:  40%|\u001b[32m████      \u001b[0m| 8/20 [00:07<00:10,  1.09it/s]"
     ]
    },
    {
     "name": "stdout",
     "output_type": "stream",
     "text": [
      "\u001b[34mINFO    \u001b[0m fibroblast consists of a single batch or is too small. Skip.                                              \n"
     ]
    },
    {
     "name": "stderr",
     "output_type": "stream",
     "text": [
      "/home/chzhan1/.local/lib/python3.9/site-packages/scib_metrics/_kbet.py:181: FutureWarning:\n",
      "\n",
      "pandas.value_counts is deprecated and will be removed in a future version. Use pd.Series(obj).value_counts() instead.\n",
      "\n",
      "/home/chzhan1/.local/lib/python3.9/site-packages/scib_metrics/_kbet.py:181: FutureWarning:\n",
      "\n",
      "pandas.value_counts is deprecated and will be removed in a future version. Use pd.Series(obj).value_counts() instead.\n",
      "\n",
      "/home/chzhan1/.local/lib/python3.9/site-packages/scib_metrics/_graph_connectivity.py:30: FutureWarning:\n",
      "\n",
      "pandas.value_counts is deprecated and will be removed in a future version. Use pd.Series(obj).value_counts() instead.\n",
      "\n",
      "Embeddings:  45%|\u001b[32m████▌     \u001b[0m| 9/20 [00:08<00:10,  1.10it/s]"
     ]
    },
    {
     "name": "stdout",
     "output_type": "stream",
     "text": [
      "\u001b[34mINFO    \u001b[0m fibroblast consists of a single batch or is too small. Skip.                                              \n"
     ]
    },
    {
     "name": "stderr",
     "output_type": "stream",
     "text": [
      "/home/chzhan1/.local/lib/python3.9/site-packages/scib_metrics/_kbet.py:181: FutureWarning:\n",
      "\n",
      "pandas.value_counts is deprecated and will be removed in a future version. Use pd.Series(obj).value_counts() instead.\n",
      "\n",
      "/home/chzhan1/.local/lib/python3.9/site-packages/scib_metrics/_kbet.py:181: FutureWarning:\n",
      "\n",
      "pandas.value_counts is deprecated and will be removed in a future version. Use pd.Series(obj).value_counts() instead.\n",
      "\n",
      "/home/chzhan1/.local/lib/python3.9/site-packages/scib_metrics/_kbet.py:181: FutureWarning:\n",
      "\n",
      "pandas.value_counts is deprecated and will be removed in a future version. Use pd.Series(obj).value_counts() instead.\n",
      "\n",
      "/home/chzhan1/.local/lib/python3.9/site-packages/scib_metrics/_graph_connectivity.py:30: FutureWarning:\n",
      "\n",
      "pandas.value_counts is deprecated and will be removed in a future version. Use pd.Series(obj).value_counts() instead.\n",
      "\n",
      "Embeddings:  50%|\u001b[32m█████     \u001b[0m| 10/20 [00:09<00:09,  1.10it/s]"
     ]
    },
    {
     "name": "stdout",
     "output_type": "stream",
     "text": [
      "\u001b[34mINFO    \u001b[0m fibroblast consists of a single batch or is too small. Skip.                                              \n"
     ]
    },
    {
     "name": "stderr",
     "output_type": "stream",
     "text": [
      "/home/chzhan1/.local/lib/python3.9/site-packages/scib_metrics/_kbet.py:181: FutureWarning:\n",
      "\n",
      "pandas.value_counts is deprecated and will be removed in a future version. Use pd.Series(obj).value_counts() instead.\n",
      "\n",
      "/home/chzhan1/.local/lib/python3.9/site-packages/scib_metrics/_kbet.py:181: FutureWarning:\n",
      "\n",
      "pandas.value_counts is deprecated and will be removed in a future version. Use pd.Series(obj).value_counts() instead.\n",
      "\n",
      "/home/chzhan1/.local/lib/python3.9/site-packages/scib_metrics/_kbet.py:181: FutureWarning:\n",
      "\n",
      "pandas.value_counts is deprecated and will be removed in a future version. Use pd.Series(obj).value_counts() instead.\n",
      "\n",
      "/home/chzhan1/.local/lib/python3.9/site-packages/scib_metrics/_graph_connectivity.py:30: FutureWarning:\n",
      "\n",
      "pandas.value_counts is deprecated and will be removed in a future version. Use pd.Series(obj).value_counts() instead.\n",
      "\n",
      "Embeddings:  55%|\u001b[32m█████▌    \u001b[0m| 11/20 [00:10<00:08,  1.10it/s]"
     ]
    },
    {
     "name": "stdout",
     "output_type": "stream",
     "text": [
      "\u001b[34mINFO    \u001b[0m fibroblast consists of a single batch or is too small. Skip.                                              \n"
     ]
    },
    {
     "name": "stderr",
     "output_type": "stream",
     "text": [
      "/home/chzhan1/.local/lib/python3.9/site-packages/scib_metrics/_kbet.py:181: FutureWarning:\n",
      "\n",
      "pandas.value_counts is deprecated and will be removed in a future version. Use pd.Series(obj).value_counts() instead.\n",
      "\n",
      "/home/chzhan1/.local/lib/python3.9/site-packages/scib_metrics/_kbet.py:181: FutureWarning:\n",
      "\n",
      "pandas.value_counts is deprecated and will be removed in a future version. Use pd.Series(obj).value_counts() instead.\n",
      "\n",
      "/home/chzhan1/.local/lib/python3.9/site-packages/scib_metrics/_kbet.py:181: FutureWarning:\n",
      "\n",
      "pandas.value_counts is deprecated and will be removed in a future version. Use pd.Series(obj).value_counts() instead.\n",
      "\n",
      "/home/chzhan1/.local/lib/python3.9/site-packages/scib_metrics/_graph_connectivity.py:30: FutureWarning:\n",
      "\n",
      "pandas.value_counts is deprecated and will be removed in a future version. Use pd.Series(obj).value_counts() instead.\n",
      "\n",
      "Embeddings:  60%|\u001b[32m██████    \u001b[0m| 12/20 [00:10<00:07,  1.10it/s]"
     ]
    },
    {
     "name": "stdout",
     "output_type": "stream",
     "text": [
      "\u001b[34mINFO    \u001b[0m fibroblast consists of a single batch or is too small. Skip.                                              \n"
     ]
    },
    {
     "name": "stderr",
     "output_type": "stream",
     "text": [
      "/home/chzhan1/.local/lib/python3.9/site-packages/scib_metrics/_kbet.py:181: FutureWarning:\n",
      "\n",
      "pandas.value_counts is deprecated and will be removed in a future version. Use pd.Series(obj).value_counts() instead.\n",
      "\n",
      "/home/chzhan1/.local/lib/python3.9/site-packages/scib_metrics/_kbet.py:181: FutureWarning:\n",
      "\n",
      "pandas.value_counts is deprecated and will be removed in a future version. Use pd.Series(obj).value_counts() instead.\n",
      "\n",
      "/home/chzhan1/.local/lib/python3.9/site-packages/scib_metrics/_kbet.py:181: FutureWarning:\n",
      "\n",
      "pandas.value_counts is deprecated and will be removed in a future version. Use pd.Series(obj).value_counts() instead.\n",
      "\n",
      "/home/chzhan1/.local/lib/python3.9/site-packages/scib_metrics/_kbet.py:181: FutureWarning:\n",
      "\n",
      "pandas.value_counts is deprecated and will be removed in a future version. Use pd.Series(obj).value_counts() instead.\n",
      "\n",
      "/home/chzhan1/.local/lib/python3.9/site-packages/scib_metrics/_graph_connectivity.py:30: FutureWarning:\n",
      "\n",
      "pandas.value_counts is deprecated and will be removed in a future version. Use pd.Series(obj).value_counts() instead.\n",
      "\n",
      "Embeddings:  65%|\u001b[32m██████▌   \u001b[0m| 13/20 [00:11<00:06,  1.10it/s]"
     ]
    },
    {
     "name": "stdout",
     "output_type": "stream",
     "text": [
      "\u001b[34mINFO    \u001b[0m fibroblast consists of a single batch or is too small. Skip.                                              \n"
     ]
    },
    {
     "name": "stderr",
     "output_type": "stream",
     "text": [
      "/home/chzhan1/.local/lib/python3.9/site-packages/scib_metrics/_kbet.py:181: FutureWarning:\n",
      "\n",
      "pandas.value_counts is deprecated and will be removed in a future version. Use pd.Series(obj).value_counts() instead.\n",
      "\n",
      "/home/chzhan1/.local/lib/python3.9/site-packages/scib_metrics/_kbet.py:181: FutureWarning:\n",
      "\n",
      "pandas.value_counts is deprecated and will be removed in a future version. Use pd.Series(obj).value_counts() instead.\n",
      "\n",
      "/home/chzhan1/.local/lib/python3.9/site-packages/scib_metrics/_graph_connectivity.py:30: FutureWarning:\n",
      "\n",
      "pandas.value_counts is deprecated and will be removed in a future version. Use pd.Series(obj).value_counts() instead.\n",
      "\n",
      "Embeddings:  70%|\u001b[32m███████   \u001b[0m| 14/20 [00:12<00:05,  1.10it/s]"
     ]
    },
    {
     "name": "stdout",
     "output_type": "stream",
     "text": [
      "\u001b[34mINFO    \u001b[0m fibroblast consists of a single batch or is too small. Skip.                                              \n"
     ]
    },
    {
     "name": "stderr",
     "output_type": "stream",
     "text": [
      "/home/chzhan1/.local/lib/python3.9/site-packages/scib_metrics/_kbet.py:181: FutureWarning:\n",
      "\n",
      "pandas.value_counts is deprecated and will be removed in a future version. Use pd.Series(obj).value_counts() instead.\n",
      "\n",
      "/home/chzhan1/.local/lib/python3.9/site-packages/scib_metrics/_kbet.py:181: FutureWarning:\n",
      "\n",
      "pandas.value_counts is deprecated and will be removed in a future version. Use pd.Series(obj).value_counts() instead.\n",
      "\n",
      "/home/chzhan1/.local/lib/python3.9/site-packages/scib_metrics/_graph_connectivity.py:30: FutureWarning:\n",
      "\n",
      "pandas.value_counts is deprecated and will be removed in a future version. Use pd.Series(obj).value_counts() instead.\n",
      "\n",
      "Embeddings:  75%|\u001b[32m███████▌  \u001b[0m| 15/20 [00:13<00:04,  1.10it/s]"
     ]
    },
    {
     "name": "stdout",
     "output_type": "stream",
     "text": [
      "\u001b[34mINFO    \u001b[0m fibroblast consists of a single batch or is too small. Skip.                                              \n"
     ]
    },
    {
     "name": "stderr",
     "output_type": "stream",
     "text": [
      "/home/chzhan1/.local/lib/python3.9/site-packages/scib_metrics/_kbet.py:181: FutureWarning:\n",
      "\n",
      "pandas.value_counts is deprecated and will be removed in a future version. Use pd.Series(obj).value_counts() instead.\n",
      "\n",
      "/home/chzhan1/.local/lib/python3.9/site-packages/scib_metrics/_kbet.py:181: FutureWarning:\n",
      "\n",
      "pandas.value_counts is deprecated and will be removed in a future version. Use pd.Series(obj).value_counts() instead.\n",
      "\n",
      "/home/chzhan1/.local/lib/python3.9/site-packages/scib_metrics/_graph_connectivity.py:30: FutureWarning:\n",
      "\n",
      "pandas.value_counts is deprecated and will be removed in a future version. Use pd.Series(obj).value_counts() instead.\n",
      "\n",
      "Embeddings:  80%|\u001b[32m████████  \u001b[0m| 16/20 [00:14<00:03,  1.10it/s]"
     ]
    },
    {
     "name": "stdout",
     "output_type": "stream",
     "text": [
      "\u001b[34mINFO    \u001b[0m fibroblast consists of a single batch or is too small. Skip.                                              \n"
     ]
    },
    {
     "name": "stderr",
     "output_type": "stream",
     "text": [
      "/home/chzhan1/.local/lib/python3.9/site-packages/scib_metrics/_kbet.py:181: FutureWarning:\n",
      "\n",
      "pandas.value_counts is deprecated and will be removed in a future version. Use pd.Series(obj).value_counts() instead.\n",
      "\n",
      "/home/chzhan1/.local/lib/python3.9/site-packages/scib_metrics/_kbet.py:181: FutureWarning:\n",
      "\n",
      "pandas.value_counts is deprecated and will be removed in a future version. Use pd.Series(obj).value_counts() instead.\n",
      "\n",
      "/home/chzhan1/.local/lib/python3.9/site-packages/scib_metrics/_kbet.py:181: FutureWarning:\n",
      "\n",
      "pandas.value_counts is deprecated and will be removed in a future version. Use pd.Series(obj).value_counts() instead.\n",
      "\n",
      "/home/chzhan1/.local/lib/python3.9/site-packages/scib_metrics/_graph_connectivity.py:30: FutureWarning:\n",
      "\n",
      "pandas.value_counts is deprecated and will be removed in a future version. Use pd.Series(obj).value_counts() instead.\n",
      "\n",
      "Embeddings:  85%|\u001b[32m████████▌ \u001b[0m| 17/20 [00:15<00:02,  1.09it/s]"
     ]
    },
    {
     "name": "stdout",
     "output_type": "stream",
     "text": [
      "\u001b[34mINFO    \u001b[0m fibroblast consists of a single batch or is too small. Skip.                                              \n"
     ]
    },
    {
     "name": "stderr",
     "output_type": "stream",
     "text": [
      "/home/chzhan1/.local/lib/python3.9/site-packages/scib_metrics/_kbet.py:181: FutureWarning:\n",
      "\n",
      "pandas.value_counts is deprecated and will be removed in a future version. Use pd.Series(obj).value_counts() instead.\n",
      "\n",
      "/home/chzhan1/.local/lib/python3.9/site-packages/scib_metrics/_kbet.py:181: FutureWarning:\n",
      "\n",
      "pandas.value_counts is deprecated and will be removed in a future version. Use pd.Series(obj).value_counts() instead.\n",
      "\n",
      "/home/chzhan1/.local/lib/python3.9/site-packages/scib_metrics/_graph_connectivity.py:30: FutureWarning:\n",
      "\n",
      "pandas.value_counts is deprecated and will be removed in a future version. Use pd.Series(obj).value_counts() instead.\n",
      "\n",
      "Embeddings:  90%|\u001b[32m█████████ \u001b[0m| 18/20 [00:16<00:01,  1.10it/s]"
     ]
    },
    {
     "name": "stdout",
     "output_type": "stream",
     "text": [
      "\u001b[34mINFO    \u001b[0m fibroblast consists of a single batch or is too small. Skip.                                              \n"
     ]
    },
    {
     "name": "stderr",
     "output_type": "stream",
     "text": [
      "/home/chzhan1/.local/lib/python3.9/site-packages/scib_metrics/_kbet.py:181: FutureWarning:\n",
      "\n",
      "pandas.value_counts is deprecated and will be removed in a future version. Use pd.Series(obj).value_counts() instead.\n",
      "\n",
      "/home/chzhan1/.local/lib/python3.9/site-packages/scib_metrics/_kbet.py:181: FutureWarning:\n",
      "\n",
      "pandas.value_counts is deprecated and will be removed in a future version. Use pd.Series(obj).value_counts() instead.\n",
      "\n",
      "/home/chzhan1/.local/lib/python3.9/site-packages/scib_metrics/_graph_connectivity.py:30: FutureWarning:\n",
      "\n",
      "pandas.value_counts is deprecated and will be removed in a future version. Use pd.Series(obj).value_counts() instead.\n",
      "\n",
      "Embeddings:  95%|\u001b[32m█████████▌\u001b[0m| 19/20 [00:17<00:00,  1.09it/s]"
     ]
    },
    {
     "name": "stdout",
     "output_type": "stream",
     "text": [
      "\u001b[34mINFO    \u001b[0m fibroblast consists of a single batch or is too small. Skip.                                              \n"
     ]
    },
    {
     "name": "stderr",
     "output_type": "stream",
     "text": [
      "/home/chzhan1/.local/lib/python3.9/site-packages/scib_metrics/_kbet.py:181: FutureWarning:\n",
      "\n",
      "pandas.value_counts is deprecated and will be removed in a future version. Use pd.Series(obj).value_counts() instead.\n",
      "\n",
      "/home/chzhan1/.local/lib/python3.9/site-packages/scib_metrics/_kbet.py:181: FutureWarning:\n",
      "\n",
      "pandas.value_counts is deprecated and will be removed in a future version. Use pd.Series(obj).value_counts() instead.\n",
      "\n",
      "/home/chzhan1/.local/lib/python3.9/site-packages/scib_metrics/_kbet.py:181: FutureWarning:\n",
      "\n",
      "pandas.value_counts is deprecated and will be removed in a future version. Use pd.Series(obj).value_counts() instead.\n",
      "\n",
      "/home/chzhan1/.local/lib/python3.9/site-packages/scib_metrics/_kbet.py:181: FutureWarning:\n",
      "\n",
      "pandas.value_counts is deprecated and will be removed in a future version. Use pd.Series(obj).value_counts() instead.\n",
      "\n",
      "/home/chzhan1/.local/lib/python3.9/site-packages/scib_metrics/_graph_connectivity.py:30: FutureWarning:\n",
      "\n",
      "pandas.value_counts is deprecated and will be removed in a future version. Use pd.Series(obj).value_counts() instead.\n",
      "\n",
      "Embeddings: 100%|\u001b[32m██████████\u001b[0m| 20/20 [00:18<00:00,  1.10it/s]\n"
     ]
    }
   ],
   "source": [
    "bm = Benchmarker(\n",
    "        adata,\n",
    "        batch_key=batch_tag,\n",
    "        label_key=bio_tag,\n",
    "        embedding_obsm_keys=[f'X_scVI_run_{i+1}' for i in range(n_runs)]\n",
    "    )\n",
    "\n",
    "bm.benchmark()"
   ]
  },
  {
   "cell_type": "code",
   "execution_count": 85,
   "id": "ae666d3d-ad8f-4358-b714-c02e982c65e2",
   "metadata": {},
   "outputs": [
    {
     "data": {
      "image/png": "[encoded data removed]",
      "text/plain": [
       "<Figure size 1625x900 with 61 Axes>"
      ]
     },
     "metadata": {},
     "output_type": "display_data"
    },
    {
     "data": {
      "text/plain": [
       "<plottable.table.Table at 0x147e0dac4c40>"
      ]
     },
     "execution_count": 85,
     "metadata": {},
     "output_type": "execute_result"
    }
   ],
   "source": [
    "bm.plot_results_table(min_max_scale=False)"
   ]
  },
  {
   "cell_type": "code",
   "execution_count": 86,
   "id": "f23dc2ce-8987-4dc8-a747-6fcfb270d585",
   "metadata": {},
   "outputs": [],
   "source": [
    "# best_model.save(dir_path = \"./saved_best_model_v2\", overwrite=True, save_anndata=True)"
   ]
  }
 ],
 "metadata": {
  "kernelspec": {
   "display_name": "Python 3 (ipykernel)",
   "language": "python",
   "name": "python3"
  },
  "language_info": {
   "codemirror_mode": {
    "name": "ipython",
    "version": 3
   },
   "file_extension": ".py",
   "mimetype": "text/x-python",
   "name": "python",
   "nbconvert_exporter": "python",
   "pygments_lexer": "ipython3",
   "version": "3.9.18"
  }
 },
 "nbformat": 4,
 "nbformat_minor": 5
}
