{
 "cells": [
  {
   "cell_type": "code",
   "execution_count": 23,
   "metadata": {},
   "outputs": [
    {
     "data": {
      "text/plain": [
       "'gpu'"
      ]
     },
     "execution_count": 23,
     "metadata": {},
     "output_type": "execute_result"
    }
   ],
   "source": [
    "import torch\n",
    "device = 'gpu' if torch.cuda.is_available() else 'cpu'\n",
    "device"
   ]
  },
  {
   "cell_type": "code",
   "execution_count": 24,
   "metadata": {},
   "outputs": [
    {
     "data": {
      "text/plain": [
       "1"
      ]
     },
     "execution_count": 24,
     "metadata": {},
     "output_type": "execute_result"
    }
   ],
   "source": [
    "torch.cuda.device_count()"
   ]
  },
  {
   "cell_type": "code",
   "execution_count": 25,
   "metadata": {},
   "outputs": [
    {
     "name": "stdout",
     "output_type": "stream",
     "text": [
      "\u001b[34mINFO    \u001b[0m File \u001b[35m/home/chzhan1/Python/saved_best_model/\u001b[0m\u001b[95mmodel.pt\u001b[0m already downloaded                                    \n"
     ]
    },
    {
     "name": "stderr",
     "output_type": "stream",
     "text": [
      "/home/chzhan1/.local/lib/python3.9/site-packages/lightning/fabric/plugins/environments/slurm.py:191: PossibleUserWarning:\n",
      "\n",
      "The `srun` command is available on your system but is not used. HINT: If your intention is to run Lightning on SLURM, prepend your python command with `srun` like so: srun python /home/chzhan1/.local/lib/python3.9/site-packages/ipy ...\n",
      "\n",
      "/home/chzhan1/.local/lib/python3.9/site-packages/scvi/model/base/_utils.py:66: FutureWarning:\n",
      "\n",
      "You are using `torch.load` with `weights_only=False` (the current default value), which uses the default pickle module implicitly. It is possible to construct malicious pickle data which will execute arbitrary code during unpickling (See https://github.com/pytorch/pytorch/blob/main/SECURITY.md#untrusted-models for more details). In a future release, the default value for `weights_only` will be flipped to `True`. This limits the functions that could be executed during unpickling. Arbitrary objects will no longer be allowed to be loaded via this mode unless they are explicitly allowlisted by the user via `torch.serialization.add_safe_globals`. We recommend you start setting `weights_only=True` for any use case where you don't have full control of the loaded file. Please open an issue on GitHub for any issues related to this experimental feature.\n",
      "\n"
     ]
    }
   ],
   "source": [
    "import scvi\n",
    "\n",
    "# Load the pre-trained model from the saved path\n",
    "pt_model = scvi.model.SCVI.load(\"/home/chzhan1/Python/saved_best_model\")"
   ]
  },
  {
   "cell_type": "code",
   "execution_count": 26,
   "metadata": {},
   "outputs": [
    {
     "data": {
      "text/html": [
       "<pre style=\"white-space:pre;overflow-x:auto;line-height:normal;font-family:Menlo,'DejaVu Sans Mono',consolas,'Courier New',monospace\">SCVI model with the following parameters: \n",
       "n_hidden: <span style=\"color: #008080; text-decoration-color: #008080; font-weight: bold\">256</span>, n_latent: <span style=\"color: #008080; text-decoration-color: #008080; font-weight: bold\">3</span>, n_layers: <span style=\"color: #008080; text-decoration-color: #008080; font-weight: bold\">3</span>, dropout_rate: <span style=\"color: #008080; text-decoration-color: #008080; font-weight: bold\">0.1</span>, dispersion: gene-label, gene_likelihood: nb, \n",
       "latent_distribution: norm.\n",
       "Training status: Trained\n",
       "Model's adata is minified?: <span style=\"color: #ff0000; text-decoration-color: #ff0000; font-style: italic\">False</span>\n",
       "</pre>\n"
      ],
      "text/plain": [
       "SCVI model with the following parameters: \n",
       "n_hidden: \u001b[1;36m256\u001b[0m, n_latent: \u001b[1;36m3\u001b[0m, n_layers: \u001b[1;36m3\u001b[0m, dropout_rate: \u001b[1;36m0.1\u001b[0m, dispersion: gene-label, gene_likelihood: nb, \n",
       "latent_distribution: norm.\n",
       "Training status: Trained\n",
       "Model's adata is minified?: \u001b[3;91mFalse\u001b[0m\n"
      ]
     },
     "metadata": {},
     "output_type": "display_data"
    },
    {
     "data": {
      "text/plain": []
     },
     "execution_count": 26,
     "metadata": {},
     "output_type": "execute_result"
    }
   ],
   "source": [
    "pt_model"
   ]
  },
  {
   "cell_type": "code",
   "execution_count": 27,
   "metadata": {},
   "outputs": [],
   "source": [
    "import pandas as pd\n",
    "atlas_adata = pd.DataFrame(pt_model.adata.X)"
   ]
  },
  {
   "cell_type": "code",
   "execution_count": 28,
   "metadata": {},
   "outputs": [],
   "source": [
    "atlas_adata_ranked = atlas_adata.rank(axis=1, method='min').div(atlas_adata.shape[1])"
   ]
  },
  {
   "cell_type": "code",
   "execution_count": 29,
   "metadata": {},
   "outputs": [],
   "source": [
    "atlas_adata_ranked.columns = pt_model.adata.var_names"
   ]
  },
  {
   "cell_type": "code",
   "execution_count": 30,
   "metadata": {},
   "outputs": [],
   "source": [
    "atlas_adata_ranked['sample_id'] = pt_model.adata.obs.index"
   ]
  },
  {
   "cell_type": "code",
   "execution_count": 31,
   "metadata": {},
   "outputs": [],
   "source": [
    "atlas_adata_ranked.set_index('sample_id', inplace=True)"
   ]
  },
  {
   "cell_type": "code",
   "execution_count": 32,
   "metadata": {},
   "outputs": [
    {
     "data": {
      "text/html": [
       "<div>\n",
       "<style scoped>\n",
       "    .dataframe tbody tr th:only-of-type {\n",
       "        vertical-align: middle;\n",
       "    }\n",
       "\n",
       "    .dataframe tbody tr th {\n",
       "        vertical-align: top;\n",
       "    }\n",
       "\n",
       "    .dataframe thead th {\n",
       "        text-align: right;\n",
       "    }\n",
       "</style>\n",
       "<table border=\"1\" class=\"dataframe\">\n",
       "  <thead>\n",
       "    <tr style=\"text-align: right;\">\n",
       "      <th>genes</th>\n",
       "      <th>ENSG00000000003</th>\n",
       "      <th>ENSG00000000419</th>\n",
       "      <th>ENSG00000000457</th>\n",
       "      <th>ENSG00000000460</th>\n",
       "      <th>ENSG00000000938</th>\n",
       "      <th>ENSG00000000971</th>\n",
       "      <th>ENSG00000001036</th>\n",
       "      <th>ENSG00000001084</th>\n",
       "      <th>ENSG00000001167</th>\n",
       "      <th>ENSG00000001460</th>\n",
       "      <th>...</th>\n",
       "      <th>ENSG00000267784</th>\n",
       "      <th>ENSG00000267786</th>\n",
       "      <th>ENSG00000267787</th>\n",
       "      <th>ENSG00000267791</th>\n",
       "      <th>ENSG00000267795</th>\n",
       "      <th>ENSG00000267796</th>\n",
       "      <th>ENSG00000267797</th>\n",
       "      <th>ENSG00000267799</th>\n",
       "      <th>ENSG00000267800</th>\n",
       "      <th>ENSG00000267801</th>\n",
       "    </tr>\n",
       "    <tr>\n",
       "      <th>sample_id</th>\n",
       "      <th></th>\n",
       "      <th></th>\n",
       "      <th></th>\n",
       "      <th></th>\n",
       "      <th></th>\n",
       "      <th></th>\n",
       "      <th></th>\n",
       "      <th></th>\n",
       "      <th></th>\n",
       "      <th></th>\n",
       "      <th></th>\n",
       "      <th></th>\n",
       "      <th></th>\n",
       "      <th></th>\n",
       "      <th></th>\n",
       "      <th></th>\n",
       "      <th></th>\n",
       "      <th></th>\n",
       "      <th></th>\n",
       "      <th></th>\n",
       "      <th></th>\n",
       "    </tr>\n",
       "  </thead>\n",
       "  <tbody>\n",
       "    <tr>\n",
       "      <th>1611_GSM2027310</th>\n",
       "      <td>0.000037</td>\n",
       "      <td>0.740941</td>\n",
       "      <td>0.625579</td>\n",
       "      <td>0.599522</td>\n",
       "      <td>0.994561</td>\n",
       "      <td>0.448842</td>\n",
       "      <td>0.856597</td>\n",
       "      <td>0.875230</td>\n",
       "      <td>0.859574</td>\n",
       "      <td>0.508453</td>\n",
       "      <td>...</td>\n",
       "      <td>0.000037</td>\n",
       "      <td>0.000037</td>\n",
       "      <td>0.642742</td>\n",
       "      <td>0.501764</td>\n",
       "      <td>0.327784</td>\n",
       "      <td>0.614700</td>\n",
       "      <td>0.000037</td>\n",
       "      <td>0.217126</td>\n",
       "      <td>0.353914</td>\n",
       "      <td>0.287909</td>\n",
       "    </tr>\n",
       "    <tr>\n",
       "      <th>1611_GSM2027311</th>\n",
       "      <td>0.381514</td>\n",
       "      <td>0.771518</td>\n",
       "      <td>0.626424</td>\n",
       "      <td>0.605807</td>\n",
       "      <td>0.979824</td>\n",
       "      <td>0.336384</td>\n",
       "      <td>0.819882</td>\n",
       "      <td>0.884564</td>\n",
       "      <td>0.840316</td>\n",
       "      <td>0.508526</td>\n",
       "      <td>...</td>\n",
       "      <td>0.000037</td>\n",
       "      <td>0.000037</td>\n",
       "      <td>0.622234</td>\n",
       "      <td>0.479383</td>\n",
       "      <td>0.336384</td>\n",
       "      <td>0.625248</td>\n",
       "      <td>0.000037</td>\n",
       "      <td>0.000037</td>\n",
       "      <td>0.298787</td>\n",
       "      <td>0.361154</td>\n",
       "    </tr>\n",
       "    <tr>\n",
       "      <th>1611_GSM2027312</th>\n",
       "      <td>0.000037</td>\n",
       "      <td>0.771885</td>\n",
       "      <td>0.856964</td>\n",
       "      <td>0.724035</td>\n",
       "      <td>0.595186</td>\n",
       "      <td>0.241419</td>\n",
       "      <td>0.745571</td>\n",
       "      <td>0.839324</td>\n",
       "      <td>0.909702</td>\n",
       "      <td>0.623374</td>\n",
       "      <td>...</td>\n",
       "      <td>0.000037</td>\n",
       "      <td>0.000037</td>\n",
       "      <td>0.653436</td>\n",
       "      <td>0.443330</td>\n",
       "      <td>0.409004</td>\n",
       "      <td>0.618853</td>\n",
       "      <td>0.000037</td>\n",
       "      <td>0.000037</td>\n",
       "      <td>0.409004</td>\n",
       "      <td>0.409004</td>\n",
       "    </tr>\n",
       "    <tr>\n",
       "      <th>1611_GSM2027313</th>\n",
       "      <td>0.315766</td>\n",
       "      <td>0.745314</td>\n",
       "      <td>0.699779</td>\n",
       "      <td>0.641860</td>\n",
       "      <td>0.942595</td>\n",
       "      <td>0.342999</td>\n",
       "      <td>0.789048</td>\n",
       "      <td>0.932341</td>\n",
       "      <td>0.903381</td>\n",
       "      <td>0.567622</td>\n",
       "      <td>...</td>\n",
       "      <td>0.000037</td>\n",
       "      <td>0.208232</td>\n",
       "      <td>0.676994</td>\n",
       "      <td>0.486990</td>\n",
       "      <td>0.315766</td>\n",
       "      <td>0.591143</td>\n",
       "      <td>0.000037</td>\n",
       "      <td>0.000037</td>\n",
       "      <td>0.403859</td>\n",
       "      <td>0.274237</td>\n",
       "    </tr>\n",
       "    <tr>\n",
       "      <th>1611_GSM2027314</th>\n",
       "      <td>0.000037</td>\n",
       "      <td>0.749761</td>\n",
       "      <td>0.649541</td>\n",
       "      <td>0.612606</td>\n",
       "      <td>0.995480</td>\n",
       "      <td>0.278354</td>\n",
       "      <td>0.840169</td>\n",
       "      <td>0.915693</td>\n",
       "      <td>0.855384</td>\n",
       "      <td>0.531827</td>\n",
       "      <td>...</td>\n",
       "      <td>0.000037</td>\n",
       "      <td>0.000037</td>\n",
       "      <td>0.650790</td>\n",
       "      <td>0.494855</td>\n",
       "      <td>0.399118</td>\n",
       "      <td>0.615950</td>\n",
       "      <td>0.000037</td>\n",
       "      <td>0.000037</td>\n",
       "      <td>0.433554</td>\n",
       "      <td>0.278354</td>\n",
       "    </tr>\n",
       "    <tr>\n",
       "      <th>...</th>\n",
       "      <td>...</td>\n",
       "      <td>...</td>\n",
       "      <td>...</td>\n",
       "      <td>...</td>\n",
       "      <td>...</td>\n",
       "      <td>...</td>\n",
       "      <td>...</td>\n",
       "      <td>...</td>\n",
       "      <td>...</td>\n",
       "      <td>...</td>\n",
       "      <td>...</td>\n",
       "      <td>...</td>\n",
       "      <td>...</td>\n",
       "      <td>...</td>\n",
       "      <td>...</td>\n",
       "      <td>...</td>\n",
       "      <td>...</td>\n",
       "      <td>...</td>\n",
       "      <td>...</td>\n",
       "      <td>...</td>\n",
       "      <td>...</td>\n",
       "    </tr>\n",
       "    <tr>\n",
       "      <th>9798_Kolf2_iMacs_UT_16h_2_01</th>\n",
       "      <td>0.690886</td>\n",
       "      <td>0.902609</td>\n",
       "      <td>0.674605</td>\n",
       "      <td>0.656891</td>\n",
       "      <td>0.900000</td>\n",
       "      <td>0.562587</td>\n",
       "      <td>0.954943</td>\n",
       "      <td>0.886843</td>\n",
       "      <td>0.731018</td>\n",
       "      <td>0.532268</td>\n",
       "      <td>...</td>\n",
       "      <td>0.000037</td>\n",
       "      <td>0.000037</td>\n",
       "      <td>0.519882</td>\n",
       "      <td>0.000037</td>\n",
       "      <td>0.000037</td>\n",
       "      <td>0.338515</td>\n",
       "      <td>0.338515</td>\n",
       "      <td>0.000037</td>\n",
       "      <td>0.000037</td>\n",
       "      <td>0.421426</td>\n",
       "    </tr>\n",
       "    <tr>\n",
       "      <th>9798_Kolf2_iMacs_UT_16h_3_01</th>\n",
       "      <td>0.725505</td>\n",
       "      <td>0.905439</td>\n",
       "      <td>0.631349</td>\n",
       "      <td>0.612459</td>\n",
       "      <td>0.920213</td>\n",
       "      <td>0.500478</td>\n",
       "      <td>0.959133</td>\n",
       "      <td>0.889489</td>\n",
       "      <td>0.715362</td>\n",
       "      <td>0.540059</td>\n",
       "      <td>...</td>\n",
       "      <td>0.000037</td>\n",
       "      <td>0.000037</td>\n",
       "      <td>0.591180</td>\n",
       "      <td>0.000037</td>\n",
       "      <td>0.000037</td>\n",
       "      <td>0.457332</td>\n",
       "      <td>0.330724</td>\n",
       "      <td>0.000037</td>\n",
       "      <td>0.000037</td>\n",
       "      <td>0.330724</td>\n",
       "    </tr>\n",
       "    <tr>\n",
       "      <th>9798_Kolf2_iMacs_UT_6h_1_01</th>\n",
       "      <td>0.683756</td>\n",
       "      <td>0.891915</td>\n",
       "      <td>0.670856</td>\n",
       "      <td>0.686218</td>\n",
       "      <td>0.856229</td>\n",
       "      <td>0.503161</td>\n",
       "      <td>0.962698</td>\n",
       "      <td>0.842889</td>\n",
       "      <td>0.720691</td>\n",
       "      <td>0.503161</td>\n",
       "      <td>...</td>\n",
       "      <td>0.000037</td>\n",
       "      <td>0.000037</td>\n",
       "      <td>0.574458</td>\n",
       "      <td>0.329989</td>\n",
       "      <td>0.000037</td>\n",
       "      <td>0.459500</td>\n",
       "      <td>0.329989</td>\n",
       "      <td>0.000037</td>\n",
       "      <td>0.000037</td>\n",
       "      <td>0.329989</td>\n",
       "    </tr>\n",
       "    <tr>\n",
       "      <th>9798_Kolf2_iMacs_UT_6h_2_01</th>\n",
       "      <td>0.719037</td>\n",
       "      <td>0.911907</td>\n",
       "      <td>0.619405</td>\n",
       "      <td>0.690702</td>\n",
       "      <td>0.904888</td>\n",
       "      <td>0.552150</td>\n",
       "      <td>0.951966</td>\n",
       "      <td>0.861154</td>\n",
       "      <td>0.670746</td>\n",
       "      <td>0.526314</td>\n",
       "      <td>...</td>\n",
       "      <td>0.000037</td>\n",
       "      <td>0.000037</td>\n",
       "      <td>0.511724</td>\n",
       "      <td>0.000037</td>\n",
       "      <td>0.000037</td>\n",
       "      <td>0.425836</td>\n",
       "      <td>0.000037</td>\n",
       "      <td>0.000037</td>\n",
       "      <td>0.000037</td>\n",
       "      <td>0.000037</td>\n",
       "    </tr>\n",
       "    <tr>\n",
       "      <th>9798_Kolf2_iMacs_UT_6h_3_01</th>\n",
       "      <td>0.734289</td>\n",
       "      <td>0.902242</td>\n",
       "      <td>0.611540</td>\n",
       "      <td>0.655494</td>\n",
       "      <td>0.933885</td>\n",
       "      <td>0.509372</td>\n",
       "      <td>0.963359</td>\n",
       "      <td>0.916244</td>\n",
       "      <td>0.720029</td>\n",
       "      <td>0.572657</td>\n",
       "      <td>...</td>\n",
       "      <td>0.000037</td>\n",
       "      <td>0.000037</td>\n",
       "      <td>0.521169</td>\n",
       "      <td>0.000037</td>\n",
       "      <td>0.000037</td>\n",
       "      <td>0.473282</td>\n",
       "      <td>0.000037</td>\n",
       "      <td>0.000037</td>\n",
       "      <td>0.000037</td>\n",
       "      <td>0.315877</td>\n",
       "    </tr>\n",
       "  </tbody>\n",
       "</table>\n",
       "<p>554 rows × 27210 columns</p>\n",
       "</div>"
      ],
      "text/plain": [
       "genes                         ENSG00000000003  ENSG00000000419  \\\n",
       "sample_id                                                        \n",
       "1611_GSM2027310                      0.000037         0.740941   \n",
       "1611_GSM2027311                      0.381514         0.771518   \n",
       "1611_GSM2027312                      0.000037         0.771885   \n",
       "1611_GSM2027313                      0.315766         0.745314   \n",
       "1611_GSM2027314                      0.000037         0.749761   \n",
       "...                                       ...              ...   \n",
       "9798_Kolf2_iMacs_UT_16h_2_01         0.690886         0.902609   \n",
       "9798_Kolf2_iMacs_UT_16h_3_01         0.725505         0.905439   \n",
       "9798_Kolf2_iMacs_UT_6h_1_01          0.683756         0.891915   \n",
       "9798_Kolf2_iMacs_UT_6h_2_01          0.719037         0.911907   \n",
       "9798_Kolf2_iMacs_UT_6h_3_01          0.734289         0.902242   \n",
       "\n",
       "genes                         ENSG00000000457  ENSG00000000460  \\\n",
       "sample_id                                                        \n",
       "1611_GSM2027310                      0.625579         0.599522   \n",
       "1611_GSM2027311                      0.626424         0.605807   \n",
       "1611_GSM2027312                      0.856964         0.724035   \n",
       "1611_GSM2027313                      0.699779         0.641860   \n",
       "1611_GSM2027314                      0.649541         0.612606   \n",
       "...                                       ...              ...   \n",
       "9798_Kolf2_iMacs_UT_16h_2_01         0.674605         0.656891   \n",
       "9798_Kolf2_iMacs_UT_16h_3_01         0.631349         0.612459   \n",
       "9798_Kolf2_iMacs_UT_6h_1_01          0.670856         0.686218   \n",
       "9798_Kolf2_iMacs_UT_6h_2_01          0.619405         0.690702   \n",
       "9798_Kolf2_iMacs_UT_6h_3_01          0.611540         0.655494   \n",
       "\n",
       "genes                         ENSG00000000938  ENSG00000000971  \\\n",
       "sample_id                                                        \n",
       "1611_GSM2027310                      0.994561         0.448842   \n",
       "1611_GSM2027311                      0.979824         0.336384   \n",
       "1611_GSM2027312                      0.595186         0.241419   \n",
       "1611_GSM2027313                      0.942595         0.342999   \n",
       "1611_GSM2027314                      0.995480         0.278354   \n",
       "...                                       ...              ...   \n",
       "9798_Kolf2_iMacs_UT_16h_2_01         0.900000         0.562587   \n",
       "9798_Kolf2_iMacs_UT_16h_3_01         0.920213         0.500478   \n",
       "9798_Kolf2_iMacs_UT_6h_1_01          0.856229         0.503161   \n",
       "9798_Kolf2_iMacs_UT_6h_2_01          0.904888         0.552150   \n",
       "9798_Kolf2_iMacs_UT_6h_3_01          0.933885         0.509372   \n",
       "\n",
       "genes                         ENSG00000001036  ENSG00000001084  \\\n",
       "sample_id                                                        \n",
       "1611_GSM2027310                      0.856597         0.875230   \n",
       "1611_GSM2027311                      0.819882         0.884564   \n",
       "1611_GSM2027312                      0.745571         0.839324   \n",
       "1611_GSM2027313                      0.789048         0.932341   \n",
       "1611_GSM2027314                      0.840169         0.915693   \n",
       "...                                       ...              ...   \n",
       "9798_Kolf2_iMacs_UT_16h_2_01         0.954943         0.886843   \n",
       "9798_Kolf2_iMacs_UT_16h_3_01         0.959133         0.889489   \n",
       "9798_Kolf2_iMacs_UT_6h_1_01          0.962698         0.842889   \n",
       "9798_Kolf2_iMacs_UT_6h_2_01          0.951966         0.861154   \n",
       "9798_Kolf2_iMacs_UT_6h_3_01          0.963359         0.916244   \n",
       "\n",
       "genes                         ENSG00000001167  ENSG00000001460  ...  \\\n",
       "sample_id                                                       ...   \n",
       "1611_GSM2027310                      0.859574         0.508453  ...   \n",
       "1611_GSM2027311                      0.840316         0.508526  ...   \n",
       "1611_GSM2027312                      0.909702         0.623374  ...   \n",
       "1611_GSM2027313                      0.903381         0.567622  ...   \n",
       "1611_GSM2027314                      0.855384         0.531827  ...   \n",
       "...                                       ...              ...  ...   \n",
       "9798_Kolf2_iMacs_UT_16h_2_01         0.731018         0.532268  ...   \n",
       "9798_Kolf2_iMacs_UT_16h_3_01         0.715362         0.540059  ...   \n",
       "9798_Kolf2_iMacs_UT_6h_1_01          0.720691         0.503161  ...   \n",
       "9798_Kolf2_iMacs_UT_6h_2_01          0.670746         0.526314  ...   \n",
       "9798_Kolf2_iMacs_UT_6h_3_01          0.720029         0.572657  ...   \n",
       "\n",
       "genes                         ENSG00000267784  ENSG00000267786  \\\n",
       "sample_id                                                        \n",
       "1611_GSM2027310                      0.000037         0.000037   \n",
       "1611_GSM2027311                      0.000037         0.000037   \n",
       "1611_GSM2027312                      0.000037         0.000037   \n",
       "1611_GSM2027313                      0.000037         0.208232   \n",
       "1611_GSM2027314                      0.000037         0.000037   \n",
       "...                                       ...              ...   \n",
       "9798_Kolf2_iMacs_UT_16h_2_01         0.000037         0.000037   \n",
       "9798_Kolf2_iMacs_UT_16h_3_01         0.000037         0.000037   \n",
       "9798_Kolf2_iMacs_UT_6h_1_01          0.000037         0.000037   \n",
       "9798_Kolf2_iMacs_UT_6h_2_01          0.000037         0.000037   \n",
       "9798_Kolf2_iMacs_UT_6h_3_01          0.000037         0.000037   \n",
       "\n",
       "genes                         ENSG00000267787  ENSG00000267791  \\\n",
       "sample_id                                                        \n",
       "1611_GSM2027310                      0.642742         0.501764   \n",
       "1611_GSM2027311                      0.622234         0.479383   \n",
       "1611_GSM2027312                      0.653436         0.443330   \n",
       "1611_GSM2027313                      0.676994         0.486990   \n",
       "1611_GSM2027314                      0.650790         0.494855   \n",
       "...                                       ...              ...   \n",
       "9798_Kolf2_iMacs_UT_16h_2_01         0.519882         0.000037   \n",
       "9798_Kolf2_iMacs_UT_16h_3_01         0.591180         0.000037   \n",
       "9798_Kolf2_iMacs_UT_6h_1_01          0.574458         0.329989   \n",
       "9798_Kolf2_iMacs_UT_6h_2_01          0.511724         0.000037   \n",
       "9798_Kolf2_iMacs_UT_6h_3_01          0.521169         0.000037   \n",
       "\n",
       "genes                         ENSG00000267795  ENSG00000267796  \\\n",
       "sample_id                                                        \n",
       "1611_GSM2027310                      0.327784         0.614700   \n",
       "1611_GSM2027311                      0.336384         0.625248   \n",
       "1611_GSM2027312                      0.409004         0.618853   \n",
       "1611_GSM2027313                      0.315766         0.591143   \n",
       "1611_GSM2027314                      0.399118         0.615950   \n",
       "...                                       ...              ...   \n",
       "9798_Kolf2_iMacs_UT_16h_2_01         0.000037         0.338515   \n",
       "9798_Kolf2_iMacs_UT_16h_3_01         0.000037         0.457332   \n",
       "9798_Kolf2_iMacs_UT_6h_1_01          0.000037         0.459500   \n",
       "9798_Kolf2_iMacs_UT_6h_2_01          0.000037         0.425836   \n",
       "9798_Kolf2_iMacs_UT_6h_3_01          0.000037         0.473282   \n",
       "\n",
       "genes                         ENSG00000267797  ENSG00000267799  \\\n",
       "sample_id                                                        \n",
       "1611_GSM2027310                      0.000037         0.217126   \n",
       "1611_GSM2027311                      0.000037         0.000037   \n",
       "1611_GSM2027312                      0.000037         0.000037   \n",
       "1611_GSM2027313                      0.000037         0.000037   \n",
       "1611_GSM2027314                      0.000037         0.000037   \n",
       "...                                       ...              ...   \n",
       "9798_Kolf2_iMacs_UT_16h_2_01         0.338515         0.000037   \n",
       "9798_Kolf2_iMacs_UT_16h_3_01         0.330724         0.000037   \n",
       "9798_Kolf2_iMacs_UT_6h_1_01          0.329989         0.000037   \n",
       "9798_Kolf2_iMacs_UT_6h_2_01          0.000037         0.000037   \n",
       "9798_Kolf2_iMacs_UT_6h_3_01          0.000037         0.000037   \n",
       "\n",
       "genes                         ENSG00000267800  ENSG00000267801  \n",
       "sample_id                                                       \n",
       "1611_GSM2027310                      0.353914         0.287909  \n",
       "1611_GSM2027311                      0.298787         0.361154  \n",
       "1611_GSM2027312                      0.409004         0.409004  \n",
       "1611_GSM2027313                      0.403859         0.274237  \n",
       "1611_GSM2027314                      0.433554         0.278354  \n",
       "...                                       ...              ...  \n",
       "9798_Kolf2_iMacs_UT_16h_2_01         0.000037         0.421426  \n",
       "9798_Kolf2_iMacs_UT_16h_3_01         0.000037         0.330724  \n",
       "9798_Kolf2_iMacs_UT_6h_1_01          0.000037         0.329989  \n",
       "9798_Kolf2_iMacs_UT_6h_2_01          0.000037         0.000037  \n",
       "9798_Kolf2_iMacs_UT_6h_3_01          0.000037         0.315877  \n",
       "\n",
       "[554 rows x 27210 columns]"
      ]
     },
     "execution_count": 32,
     "metadata": {},
     "output_type": "execute_result"
    }
   ],
   "source": [
    "atlas_adata_ranked"
   ]
  },
  {
   "cell_type": "code",
   "execution_count": 33,
   "metadata": {},
   "outputs": [],
   "source": [
    "gene_vector = atlas_adata_ranked['ENSG00000136244']"
   ]
  },
  {
   "cell_type": "code",
   "execution_count": 34,
   "metadata": {},
   "outputs": [
    {
     "data": {
      "text/plain": [
       "sample_id\n",
       "1611_GSM2027310                 0.287909\n",
       "1611_GSM2027311                 0.227784\n",
       "1611_GSM2027312                 0.000037\n",
       "1611_GSM2027313                 0.208232\n",
       "1611_GSM2027314                 0.209151\n",
       "                                  ...   \n",
       "9798_Kolf2_iMacs_UT_16h_2_01    0.462146\n",
       "9798_Kolf2_iMacs_UT_16h_3_01    0.000037\n",
       "9798_Kolf2_iMacs_UT_6h_1_01     0.000037\n",
       "9798_Kolf2_iMacs_UT_6h_2_01     0.338258\n",
       "9798_Kolf2_iMacs_UT_6h_3_01     0.000037\n",
       "Name: ENSG00000136244, Length: 554, dtype: float64"
      ]
     },
     "execution_count": 34,
     "metadata": {},
     "output_type": "execute_result"
    }
   ],
   "source": [
    "gene_vector"
   ]
  },
  {
   "cell_type": "code",
   "execution_count": 35,
   "metadata": {},
   "outputs": [],
   "source": [
    "gene_vector.name = 'rank_norm'"
   ]
  },
  {
   "cell_type": "code",
   "execution_count": 36,
   "metadata": {},
   "outputs": [
    {
     "data": {
      "text/html": [
       "<div>\n",
       "<style scoped>\n",
       "    .dataframe tbody tr th:only-of-type {\n",
       "        vertical-align: middle;\n",
       "    }\n",
       "\n",
       "    .dataframe tbody tr th {\n",
       "        vertical-align: top;\n",
       "    }\n",
       "\n",
       "    .dataframe thead th {\n",
       "        text-align: right;\n",
       "    }\n",
       "</style>\n",
       "<table border=\"1\" class=\"dataframe\">\n",
       "  <thead>\n",
       "    <tr style=\"text-align: right;\">\n",
       "      <th></th>\n",
       "      <th>V0</th>\n",
       "      <th>V1</th>\n",
       "      <th>V2</th>\n",
       "    </tr>\n",
       "    <tr>\n",
       "      <th>sample_id</th>\n",
       "      <th></th>\n",
       "      <th></th>\n",
       "      <th></th>\n",
       "    </tr>\n",
       "  </thead>\n",
       "  <tbody>\n",
       "    <tr>\n",
       "      <th>1611_GSM2027310</th>\n",
       "      <td>4.033545</td>\n",
       "      <td>-1.157732</td>\n",
       "      <td>4.244139</td>\n",
       "    </tr>\n",
       "    <tr>\n",
       "      <th>1611_GSM2027311</th>\n",
       "      <td>4.415716</td>\n",
       "      <td>-0.556770</td>\n",
       "      <td>5.411424</td>\n",
       "    </tr>\n",
       "    <tr>\n",
       "      <th>1611_GSM2027312</th>\n",
       "      <td>1.538134</td>\n",
       "      <td>0.870058</td>\n",
       "      <td>3.068065</td>\n",
       "    </tr>\n",
       "    <tr>\n",
       "      <th>1611_GSM2027313</th>\n",
       "      <td>2.529716</td>\n",
       "      <td>0.425173</td>\n",
       "      <td>3.480353</td>\n",
       "    </tr>\n",
       "    <tr>\n",
       "      <th>1611_GSM2027314</th>\n",
       "      <td>3.978914</td>\n",
       "      <td>-1.058332</td>\n",
       "      <td>4.175323</td>\n",
       "    </tr>\n",
       "    <tr>\n",
       "      <th>...</th>\n",
       "      <td>...</td>\n",
       "      <td>...</td>\n",
       "      <td>...</td>\n",
       "    </tr>\n",
       "    <tr>\n",
       "      <th>9798_Kolf2_iMacs_UT_16h_2_01</th>\n",
       "      <td>0.210513</td>\n",
       "      <td>0.147489</td>\n",
       "      <td>3.473737</td>\n",
       "    </tr>\n",
       "    <tr>\n",
       "      <th>9798_Kolf2_iMacs_UT_16h_3_01</th>\n",
       "      <td>0.195405</td>\n",
       "      <td>0.184106</td>\n",
       "      <td>3.382013</td>\n",
       "    </tr>\n",
       "    <tr>\n",
       "      <th>9798_Kolf2_iMacs_UT_6h_1_01</th>\n",
       "      <td>0.258679</td>\n",
       "      <td>0.299569</td>\n",
       "      <td>3.524895</td>\n",
       "    </tr>\n",
       "    <tr>\n",
       "      <th>9798_Kolf2_iMacs_UT_6h_2_01</th>\n",
       "      <td>0.110319</td>\n",
       "      <td>0.145117</td>\n",
       "      <td>3.484755</td>\n",
       "    </tr>\n",
       "    <tr>\n",
       "      <th>9798_Kolf2_iMacs_UT_6h_3_01</th>\n",
       "      <td>-0.095020</td>\n",
       "      <td>0.225195</td>\n",
       "      <td>3.427865</td>\n",
       "    </tr>\n",
       "  </tbody>\n",
       "</table>\n",
       "<p>554 rows × 3 columns</p>\n",
       "</div>"
      ],
      "text/plain": [
       "                                    V0        V1        V2\n",
       "sample_id                                                 \n",
       "1611_GSM2027310               4.033545 -1.157732  4.244139\n",
       "1611_GSM2027311               4.415716 -0.556770  5.411424\n",
       "1611_GSM2027312               1.538134  0.870058  3.068065\n",
       "1611_GSM2027313               2.529716  0.425173  3.480353\n",
       "1611_GSM2027314               3.978914 -1.058332  4.175323\n",
       "...                                ...       ...       ...\n",
       "9798_Kolf2_iMacs_UT_16h_2_01  0.210513  0.147489  3.473737\n",
       "9798_Kolf2_iMacs_UT_16h_3_01  0.195405  0.184106  3.382013\n",
       "9798_Kolf2_iMacs_UT_6h_1_01   0.258679  0.299569  3.524895\n",
       "9798_Kolf2_iMacs_UT_6h_2_01   0.110319  0.145117  3.484755\n",
       "9798_Kolf2_iMacs_UT_6h_3_01  -0.095020  0.225195  3.427865\n",
       "\n",
       "[554 rows x 3 columns]"
      ]
     },
     "execution_count": 36,
     "metadata": {},
     "output_type": "execute_result"
    }
   ],
   "source": [
    "import pandas as pd\n",
    "\n",
    "scvi_matrix = pt_model.get_latent_representation()\n",
    "scvi_matrix = pd.DataFrame(scvi_matrix)\n",
    "scvi_matrix['sample_id'] = pt_model.adata.obs.index\n",
    "scvi_matrix.set_index('sample_id', inplace=True)\n",
    "scvi_matrix.columns = scvi_matrix.columns = ['V' + str(col) for col in scvi_matrix.columns]\n",
    "scvi_matrix"
   ]
  },
  {
   "cell_type": "code",
   "execution_count": 37,
   "metadata": {},
   "outputs": [],
   "source": [
    "scvi_matrix = pd.merge(scvi_matrix, gene_vector, left_index=True, right_index=True)"
   ]
  },
  {
   "cell_type": "code",
   "execution_count": 42,
   "metadata": {},
   "outputs": [
    {
     "data": {
      "text/html": [
       "<div>\n",
       "<style scoped>\n",
       "    .dataframe tbody tr th:only-of-type {\n",
       "        vertical-align: middle;\n",
       "    }\n",
       "\n",
       "    .dataframe tbody tr th {\n",
       "        vertical-align: top;\n",
       "    }\n",
       "\n",
       "    .dataframe thead th {\n",
       "        text-align: right;\n",
       "    }\n",
       "</style>\n",
       "<table border=\"1\" class=\"dataframe\">\n",
       "  <thead>\n",
       "    <tr style=\"text-align: right;\">\n",
       "      <th></th>\n",
       "      <th>V0</th>\n",
       "      <th>V1</th>\n",
       "      <th>V2</th>\n",
       "      <th>rank_norm</th>\n",
       "      <th>dataset_id</th>\n",
       "      <th>cell_type</th>\n",
       "      <th>parental_cell_type</th>\n",
       "      <th>final_cell_type</th>\n",
       "      <th>disease_state</th>\n",
       "      <th>organism</th>\n",
       "      <th>...</th>\n",
       "      <th>capture</th>\n",
       "      <th>fragmentation</th>\n",
       "      <th>stranded</th>\n",
       "      <th>sequencing_layout</th>\n",
       "      <th>average_read_length</th>\n",
       "      <th>sequencer</th>\n",
       "      <th>training_atlas</th>\n",
       "      <th>sample_id_without_datasetid</th>\n",
       "      <th>_scvi_batch</th>\n",
       "      <th>_scvi_labels</th>\n",
       "    </tr>\n",
       "  </thead>\n",
       "  <tbody>\n",
       "    <tr>\n",
       "      <th>1611_GSM2027310</th>\n",
       "      <td>4.033545</td>\n",
       "      <td>-1.157732</td>\n",
       "      <td>4.244139</td>\n",
       "      <td>0.287909</td>\n",
       "      <td>1611</td>\n",
       "      <td>conventional dendritic cell</td>\n",
       "      <td>NaN</td>\n",
       "      <td>NaN</td>\n",
       "      <td>normal</td>\n",
       "      <td>homo sapiens</td>\n",
       "      <td>...</td>\n",
       "      <td>oligo-dT beads</td>\n",
       "      <td>RNA heat and buffer</td>\n",
       "      <td>non stranded</td>\n",
       "      <td>paired</td>\n",
       "      <td>51</td>\n",
       "      <td>Illumina HiSeq 2000</td>\n",
       "      <td>include</td>\n",
       "      <td>GSM2027310</td>\n",
       "      <td>2</td>\n",
       "      <td>0</td>\n",
       "    </tr>\n",
       "    <tr>\n",
       "      <th>1611_GSM2027311</th>\n",
       "      <td>4.415716</td>\n",
       "      <td>-0.556770</td>\n",
       "      <td>5.411424</td>\n",
       "      <td>0.227784</td>\n",
       "      <td>1611</td>\n",
       "      <td>conventional dendritic cell</td>\n",
       "      <td>NaN</td>\n",
       "      <td>NaN</td>\n",
       "      <td>normal</td>\n",
       "      <td>homo sapiens</td>\n",
       "      <td>...</td>\n",
       "      <td>oligo-dT beads</td>\n",
       "      <td>RNA heat and buffer</td>\n",
       "      <td>non stranded</td>\n",
       "      <td>paired</td>\n",
       "      <td>51</td>\n",
       "      <td>Illumina HiSeq 2000</td>\n",
       "      <td>include</td>\n",
       "      <td>GSM2027311</td>\n",
       "      <td>2</td>\n",
       "      <td>0</td>\n",
       "    </tr>\n",
       "    <tr>\n",
       "      <th>1611_GSM2027312</th>\n",
       "      <td>1.538134</td>\n",
       "      <td>0.870058</td>\n",
       "      <td>3.068065</td>\n",
       "      <td>0.000037</td>\n",
       "      <td>1611</td>\n",
       "      <td>plasmacytoid dendritic cell</td>\n",
       "      <td>NaN</td>\n",
       "      <td>NaN</td>\n",
       "      <td>normal</td>\n",
       "      <td>homo sapiens</td>\n",
       "      <td>...</td>\n",
       "      <td>oligo-dT beads</td>\n",
       "      <td>RNA heat and buffer</td>\n",
       "      <td>non stranded</td>\n",
       "      <td>paired</td>\n",
       "      <td>51</td>\n",
       "      <td>Illumina HiSeq 2000</td>\n",
       "      <td>include</td>\n",
       "      <td>GSM2027312</td>\n",
       "      <td>2</td>\n",
       "      <td>10</td>\n",
       "    </tr>\n",
       "    <tr>\n",
       "      <th>1611_GSM2027313</th>\n",
       "      <td>2.529716</td>\n",
       "      <td>0.425173</td>\n",
       "      <td>3.480353</td>\n",
       "      <td>0.208232</td>\n",
       "      <td>1611</td>\n",
       "      <td>plasmacytoid dendritic cell</td>\n",
       "      <td>NaN</td>\n",
       "      <td>NaN</td>\n",
       "      <td>normal</td>\n",
       "      <td>homo sapiens</td>\n",
       "      <td>...</td>\n",
       "      <td>oligo-dT beads</td>\n",
       "      <td>RNA heat and buffer</td>\n",
       "      <td>non stranded</td>\n",
       "      <td>paired</td>\n",
       "      <td>50</td>\n",
       "      <td>Illumina HiSeq 2000</td>\n",
       "      <td>include</td>\n",
       "      <td>GSM2027313</td>\n",
       "      <td>2</td>\n",
       "      <td>10</td>\n",
       "    </tr>\n",
       "    <tr>\n",
       "      <th>1611_GSM2027314</th>\n",
       "      <td>3.978914</td>\n",
       "      <td>-1.058332</td>\n",
       "      <td>4.175323</td>\n",
       "      <td>0.209151</td>\n",
       "      <td>1611</td>\n",
       "      <td>conventional dendritic cell</td>\n",
       "      <td>NaN</td>\n",
       "      <td>NaN</td>\n",
       "      <td>normal</td>\n",
       "      <td>homo sapiens</td>\n",
       "      <td>...</td>\n",
       "      <td>oligo-dT beads</td>\n",
       "      <td>RNA heat and buffer</td>\n",
       "      <td>non stranded</td>\n",
       "      <td>paired</td>\n",
       "      <td>51</td>\n",
       "      <td>Illumina HiSeq 2000</td>\n",
       "      <td>include</td>\n",
       "      <td>GSM2027314</td>\n",
       "      <td>2</td>\n",
       "      <td>0</td>\n",
       "    </tr>\n",
       "    <tr>\n",
       "      <th>...</th>\n",
       "      <td>...</td>\n",
       "      <td>...</td>\n",
       "      <td>...</td>\n",
       "      <td>...</td>\n",
       "      <td>...</td>\n",
       "      <td>...</td>\n",
       "      <td>...</td>\n",
       "      <td>...</td>\n",
       "      <td>...</td>\n",
       "      <td>...</td>\n",
       "      <td>...</td>\n",
       "      <td>...</td>\n",
       "      <td>...</td>\n",
       "      <td>...</td>\n",
       "      <td>...</td>\n",
       "      <td>...</td>\n",
       "      <td>...</td>\n",
       "      <td>...</td>\n",
       "      <td>...</td>\n",
       "      <td>...</td>\n",
       "      <td>...</td>\n",
       "    </tr>\n",
       "    <tr>\n",
       "      <th>9798_Kolf2_iMacs_UT_16h_2_01</th>\n",
       "      <td>0.210513</td>\n",
       "      <td>0.147489</td>\n",
       "      <td>3.473737</td>\n",
       "      <td>0.462146</td>\n",
       "      <td>9798</td>\n",
       "      <td>macrophage</td>\n",
       "      <td>induced pluripotent stem cell</td>\n",
       "      <td>macrophage</td>\n",
       "      <td>normal</td>\n",
       "      <td>homo sapiens</td>\n",
       "      <td>...</td>\n",
       "      <td>unknown</td>\n",
       "      <td>unknown</td>\n",
       "      <td>unknown</td>\n",
       "      <td>unknown</td>\n",
       "      <td>unknown</td>\n",
       "      <td>unknown</td>\n",
       "      <td>include</td>\n",
       "      <td>Kolf2</td>\n",
       "      <td>0</td>\n",
       "      <td>6</td>\n",
       "    </tr>\n",
       "    <tr>\n",
       "      <th>9798_Kolf2_iMacs_UT_16h_3_01</th>\n",
       "      <td>0.195405</td>\n",
       "      <td>0.184106</td>\n",
       "      <td>3.382013</td>\n",
       "      <td>0.000037</td>\n",
       "      <td>9798</td>\n",
       "      <td>macrophage</td>\n",
       "      <td>induced pluripotent stem cell</td>\n",
       "      <td>macrophage</td>\n",
       "      <td>normal</td>\n",
       "      <td>homo sapiens</td>\n",
       "      <td>...</td>\n",
       "      <td>unknown</td>\n",
       "      <td>unknown</td>\n",
       "      <td>unknown</td>\n",
       "      <td>unknown</td>\n",
       "      <td>unknown</td>\n",
       "      <td>unknown</td>\n",
       "      <td>include</td>\n",
       "      <td>Kolf2</td>\n",
       "      <td>0</td>\n",
       "      <td>6</td>\n",
       "    </tr>\n",
       "    <tr>\n",
       "      <th>9798_Kolf2_iMacs_UT_6h_1_01</th>\n",
       "      <td>0.258679</td>\n",
       "      <td>0.299569</td>\n",
       "      <td>3.524895</td>\n",
       "      <td>0.000037</td>\n",
       "      <td>9798</td>\n",
       "      <td>macrophage</td>\n",
       "      <td>induced pluripotent stem cell</td>\n",
       "      <td>macrophage</td>\n",
       "      <td>normal</td>\n",
       "      <td>homo sapiens</td>\n",
       "      <td>...</td>\n",
       "      <td>unknown</td>\n",
       "      <td>unknown</td>\n",
       "      <td>unknown</td>\n",
       "      <td>unknown</td>\n",
       "      <td>unknown</td>\n",
       "      <td>unknown</td>\n",
       "      <td>include</td>\n",
       "      <td>Kolf2</td>\n",
       "      <td>0</td>\n",
       "      <td>6</td>\n",
       "    </tr>\n",
       "    <tr>\n",
       "      <th>9798_Kolf2_iMacs_UT_6h_2_01</th>\n",
       "      <td>0.110319</td>\n",
       "      <td>0.145117</td>\n",
       "      <td>3.484755</td>\n",
       "      <td>0.338258</td>\n",
       "      <td>9798</td>\n",
       "      <td>macrophage</td>\n",
       "      <td>induced pluripotent stem cell</td>\n",
       "      <td>macrophage</td>\n",
       "      <td>normal</td>\n",
       "      <td>homo sapiens</td>\n",
       "      <td>...</td>\n",
       "      <td>unknown</td>\n",
       "      <td>unknown</td>\n",
       "      <td>unknown</td>\n",
       "      <td>unknown</td>\n",
       "      <td>unknown</td>\n",
       "      <td>unknown</td>\n",
       "      <td>include</td>\n",
       "      <td>Kolf2</td>\n",
       "      <td>0</td>\n",
       "      <td>6</td>\n",
       "    </tr>\n",
       "    <tr>\n",
       "      <th>9798_Kolf2_iMacs_UT_6h_3_01</th>\n",
       "      <td>-0.095020</td>\n",
       "      <td>0.225195</td>\n",
       "      <td>3.427865</td>\n",
       "      <td>0.000037</td>\n",
       "      <td>9798</td>\n",
       "      <td>macrophage</td>\n",
       "      <td>induced pluripotent stem cell</td>\n",
       "      <td>macrophage</td>\n",
       "      <td>normal</td>\n",
       "      <td>homo sapiens</td>\n",
       "      <td>...</td>\n",
       "      <td>unknown</td>\n",
       "      <td>unknown</td>\n",
       "      <td>unknown</td>\n",
       "      <td>unknown</td>\n",
       "      <td>unknown</td>\n",
       "      <td>unknown</td>\n",
       "      <td>include</td>\n",
       "      <td>Kolf2</td>\n",
       "      <td>0</td>\n",
       "      <td>6</td>\n",
       "    </tr>\n",
       "  </tbody>\n",
       "</table>\n",
       "<p>554 rows × 41 columns</p>\n",
       "</div>"
      ],
      "text/plain": [
       "                                    V0        V1        V2  rank_norm  \\\n",
       "1611_GSM2027310               4.033545 -1.157732  4.244139   0.287909   \n",
       "1611_GSM2027311               4.415716 -0.556770  5.411424   0.227784   \n",
       "1611_GSM2027312               1.538134  0.870058  3.068065   0.000037   \n",
       "1611_GSM2027313               2.529716  0.425173  3.480353   0.208232   \n",
       "1611_GSM2027314               3.978914 -1.058332  4.175323   0.209151   \n",
       "...                                ...       ...       ...        ...   \n",
       "9798_Kolf2_iMacs_UT_16h_2_01  0.210513  0.147489  3.473737   0.462146   \n",
       "9798_Kolf2_iMacs_UT_16h_3_01  0.195405  0.184106  3.382013   0.000037   \n",
       "9798_Kolf2_iMacs_UT_6h_1_01   0.258679  0.299569  3.524895   0.000037   \n",
       "9798_Kolf2_iMacs_UT_6h_2_01   0.110319  0.145117  3.484755   0.338258   \n",
       "9798_Kolf2_iMacs_UT_6h_3_01  -0.095020  0.225195  3.427865   0.000037   \n",
       "\n",
       "                              dataset_id                    cell_type  \\\n",
       "1611_GSM2027310                     1611  conventional dendritic cell   \n",
       "1611_GSM2027311                     1611  conventional dendritic cell   \n",
       "1611_GSM2027312                     1611  plasmacytoid dendritic cell   \n",
       "1611_GSM2027313                     1611  plasmacytoid dendritic cell   \n",
       "1611_GSM2027314                     1611  conventional dendritic cell   \n",
       "...                                  ...                          ...   \n",
       "9798_Kolf2_iMacs_UT_16h_2_01        9798                   macrophage   \n",
       "9798_Kolf2_iMacs_UT_16h_3_01        9798                   macrophage   \n",
       "9798_Kolf2_iMacs_UT_6h_1_01         9798                   macrophage   \n",
       "9798_Kolf2_iMacs_UT_6h_2_01         9798                   macrophage   \n",
       "9798_Kolf2_iMacs_UT_6h_3_01         9798                   macrophage   \n",
       "\n",
       "                                         parental_cell_type final_cell_type  \\\n",
       "1611_GSM2027310                                         NaN             NaN   \n",
       "1611_GSM2027311                                         NaN             NaN   \n",
       "1611_GSM2027312                                         NaN             NaN   \n",
       "1611_GSM2027313                                         NaN             NaN   \n",
       "1611_GSM2027314                                         NaN             NaN   \n",
       "...                                                     ...             ...   \n",
       "9798_Kolf2_iMacs_UT_16h_2_01  induced pluripotent stem cell      macrophage   \n",
       "9798_Kolf2_iMacs_UT_16h_3_01  induced pluripotent stem cell      macrophage   \n",
       "9798_Kolf2_iMacs_UT_6h_1_01   induced pluripotent stem cell      macrophage   \n",
       "9798_Kolf2_iMacs_UT_6h_2_01   induced pluripotent stem cell      macrophage   \n",
       "9798_Kolf2_iMacs_UT_6h_3_01   induced pluripotent stem cell      macrophage   \n",
       "\n",
       "                             disease_state      organism  ...         capture  \\\n",
       "1611_GSM2027310                     normal  homo sapiens  ...  oligo-dT beads   \n",
       "1611_GSM2027311                     normal  homo sapiens  ...  oligo-dT beads   \n",
       "1611_GSM2027312                     normal  homo sapiens  ...  oligo-dT beads   \n",
       "1611_GSM2027313                     normal  homo sapiens  ...  oligo-dT beads   \n",
       "1611_GSM2027314                     normal  homo sapiens  ...  oligo-dT beads   \n",
       "...                                    ...           ...  ...             ...   \n",
       "9798_Kolf2_iMacs_UT_16h_2_01        normal  homo sapiens  ...         unknown   \n",
       "9798_Kolf2_iMacs_UT_16h_3_01        normal  homo sapiens  ...         unknown   \n",
       "9798_Kolf2_iMacs_UT_6h_1_01         normal  homo sapiens  ...         unknown   \n",
       "9798_Kolf2_iMacs_UT_6h_2_01         normal  homo sapiens  ...         unknown   \n",
       "9798_Kolf2_iMacs_UT_6h_3_01         normal  homo sapiens  ...         unknown   \n",
       "\n",
       "                                    fragmentation      stranded  \\\n",
       "1611_GSM2027310               RNA heat and buffer  non stranded   \n",
       "1611_GSM2027311               RNA heat and buffer  non stranded   \n",
       "1611_GSM2027312               RNA heat and buffer  non stranded   \n",
       "1611_GSM2027313               RNA heat and buffer  non stranded   \n",
       "1611_GSM2027314               RNA heat and buffer  non stranded   \n",
       "...                                           ...           ...   \n",
       "9798_Kolf2_iMacs_UT_16h_2_01              unknown       unknown   \n",
       "9798_Kolf2_iMacs_UT_16h_3_01              unknown       unknown   \n",
       "9798_Kolf2_iMacs_UT_6h_1_01               unknown       unknown   \n",
       "9798_Kolf2_iMacs_UT_6h_2_01               unknown       unknown   \n",
       "9798_Kolf2_iMacs_UT_6h_3_01               unknown       unknown   \n",
       "\n",
       "                             sequencing_layout average_read_length  \\\n",
       "1611_GSM2027310                         paired                  51   \n",
       "1611_GSM2027311                         paired                  51   \n",
       "1611_GSM2027312                         paired                  51   \n",
       "1611_GSM2027313                         paired                  50   \n",
       "1611_GSM2027314                         paired                  51   \n",
       "...                                        ...                 ...   \n",
       "9798_Kolf2_iMacs_UT_16h_2_01           unknown             unknown   \n",
       "9798_Kolf2_iMacs_UT_16h_3_01           unknown             unknown   \n",
       "9798_Kolf2_iMacs_UT_6h_1_01            unknown             unknown   \n",
       "9798_Kolf2_iMacs_UT_6h_2_01            unknown             unknown   \n",
       "9798_Kolf2_iMacs_UT_6h_3_01            unknown             unknown   \n",
       "\n",
       "                                        sequencer training_atlas  \\\n",
       "1611_GSM2027310               Illumina HiSeq 2000        include   \n",
       "1611_GSM2027311               Illumina HiSeq 2000        include   \n",
       "1611_GSM2027312               Illumina HiSeq 2000        include   \n",
       "1611_GSM2027313               Illumina HiSeq 2000        include   \n",
       "1611_GSM2027314               Illumina HiSeq 2000        include   \n",
       "...                                           ...            ...   \n",
       "9798_Kolf2_iMacs_UT_16h_2_01              unknown        include   \n",
       "9798_Kolf2_iMacs_UT_16h_3_01              unknown        include   \n",
       "9798_Kolf2_iMacs_UT_6h_1_01               unknown        include   \n",
       "9798_Kolf2_iMacs_UT_6h_2_01               unknown        include   \n",
       "9798_Kolf2_iMacs_UT_6h_3_01               unknown        include   \n",
       "\n",
       "                             sample_id_without_datasetid _scvi_batch  \\\n",
       "1611_GSM2027310                               GSM2027310           2   \n",
       "1611_GSM2027311                               GSM2027311           2   \n",
       "1611_GSM2027312                               GSM2027312           2   \n",
       "1611_GSM2027313                               GSM2027313           2   \n",
       "1611_GSM2027314                               GSM2027314           2   \n",
       "...                                                  ...         ...   \n",
       "9798_Kolf2_iMacs_UT_16h_2_01                       Kolf2           0   \n",
       "9798_Kolf2_iMacs_UT_16h_3_01                       Kolf2           0   \n",
       "9798_Kolf2_iMacs_UT_6h_1_01                        Kolf2           0   \n",
       "9798_Kolf2_iMacs_UT_6h_2_01                        Kolf2           0   \n",
       "9798_Kolf2_iMacs_UT_6h_3_01                        Kolf2           0   \n",
       "\n",
       "                             _scvi_labels  \n",
       "1611_GSM2027310                         0  \n",
       "1611_GSM2027311                         0  \n",
       "1611_GSM2027312                        10  \n",
       "1611_GSM2027313                        10  \n",
       "1611_GSM2027314                         0  \n",
       "...                                   ...  \n",
       "9798_Kolf2_iMacs_UT_16h_2_01            6  \n",
       "9798_Kolf2_iMacs_UT_16h_3_01            6  \n",
       "9798_Kolf2_iMacs_UT_6h_1_01             6  \n",
       "9798_Kolf2_iMacs_UT_6h_2_01             6  \n",
       "9798_Kolf2_iMacs_UT_6h_3_01             6  \n",
       "\n",
       "[554 rows x 41 columns]"
      ]
     },
     "execution_count": 42,
     "metadata": {},
     "output_type": "execute_result"
    }
   ],
   "source": [
    "scvi_matrix"
   ]
  },
  {
   "cell_type": "code",
   "execution_count": 39,
   "metadata": {},
   "outputs": [],
   "source": [
    "scvi_matrix = pd.merge(scvi_matrix, pt_model.adata.obs, left_index=True, right_index=True)"
   ]
  },
  {
   "cell_type": "code",
   "execution_count": 43,
   "metadata": {},
   "outputs": [
    {
     "data": {
      "application/vnd.plotly.v1+json": {
       "config": {
        "plotlyServerURL": "https://plot.ly"
       },
       "data": [
        {
         "customdata": [
          [
           "conventional dendritic cell",
           null
          ],
          [
           "conventional dendritic cell",
           null
          ],
          [
           "plasmacytoid dendritic cell",
           null
          ],
          [
           "plasmacytoid dendritic cell",
           null
          ],
          [
           "conventional dendritic cell",
           null
          ],
          [
           "conventional dendritic cell",
           null
          ],
          [
           "plasmacytoid dendritic cell",
           null
          ],
          [
           "plasmacytoid dendritic cell",
           null
          ],
          [
           "conventional dendritic cell",
           null
          ],
          [
           "conventional dendritic cell",
           null
          ],
          [
           "plasmacytoid dendritic cell",
           null
          ],
          [
           "plasmacytoid dendritic cell",
           null
          ],
          [
           "dendritic cell",
           "CD14-positive monocyte"
          ],
          [
           "dendritic cell",
           "CD14-positive monocyte"
          ],
          [
           "dendritic cell",
           "CD14-positive monocyte"
          ],
          [
           "dendritic cell",
           "CD14-positive monocyte"
          ],
          [
           "dendritic cell",
           "CD14-positive monocyte"
          ],
          [
           "dendritic cell",
           "CD14-positive monocyte"
          ],
          [
           "conventional dendritic cell",
           null
          ],
          [
           "conventional dendritic cell",
           null
          ],
          [
           "conventional dendritic cell",
           null
          ],
          [
           "conventional dendritic cell",
           null
          ],
          [
           "conventional dendritic cell",
           null
          ],
          [
           "conventional dendritic cell",
           null
          ],
          [
           "conventional dendritic cell",
           null
          ],
          [
           "conventional dendritic cell",
           null
          ],
          [
           "conventional dendritic cell",
           null
          ],
          [
           "conventional dendritic cell",
           null
          ],
          [
           "conventional dendritic cell",
           null
          ],
          [
           "conventional dendritic cell",
           null
          ],
          [
           "conventional dendritic cell",
           null
          ],
          [
           "conventional dendritic cell",
           null
          ],
          [
           "conventional dendritic cell",
           null
          ],
          [
           "conventional dendritic cell",
           null
          ],
          [
           "conventional dendritic cell",
           null
          ],
          [
           "conventional dendritic cell",
           null
          ],
          [
           "conventional dendritic cell",
           null
          ],
          [
           "monocyte",
           null
          ],
          [
           "monocyte",
           null
          ],
          [
           "neural progenitor cell",
           "embryonic stem cell"
          ],
          [
           "neural progenitor cell",
           "embryonic stem cell"
          ],
          [
           "neural progenitor cell",
           "embryonic stem cell"
          ],
          [
           "neural progenitor cell",
           "embryonic stem cell"
          ],
          [
           "neural progenitor cell",
           "embryonic stem cell"
          ],
          [
           "neural progenitor cell",
           "embryonic stem cell"
          ],
          [
           "monocyte",
           null
          ],
          [
           "monocyte",
           null
          ],
          [
           "monocyte",
           null
          ],
          [
           "monocyte",
           null
          ],
          [
           "monocyte",
           null
          ],
          [
           "monocyte",
           null
          ],
          [
           "monocyte",
           null
          ],
          [
           "monocyte",
           null
          ],
          [
           "monocyte",
           null
          ],
          [
           "monocyte",
           null
          ],
          [
           "embryonic stem cell",
           null
          ],
          [
           "embryonic stem cell",
           null
          ],
          [
           "embryonic stem cell",
           null
          ],
          [
           "embryonic stem cell",
           null
          ],
          [
           "neural progenitor cell",
           "induced pluripotent stem cell"
          ],
          [
           "neural progenitor cell",
           "induced pluripotent stem cell"
          ],
          [
           "neural progenitor cell",
           "induced pluripotent stem cell"
          ],
          [
           "neural progenitor cell",
           "induced pluripotent stem cell"
          ],
          [
           "neural progenitor cell",
           "induced pluripotent stem cell"
          ],
          [
           "neural progenitor cell",
           "induced pluripotent stem cell"
          ],
          [
           "neural progenitor cell",
           "induced pluripotent stem cell"
          ],
          [
           "neural progenitor cell",
           "induced pluripotent stem cell"
          ],
          [
           "neural progenitor cell",
           "induced pluripotent stem cell"
          ],
          [
           "neural progenitor cell",
           "induced pluripotent stem cell"
          ],
          [
           "neural progenitor cell",
           "induced pluripotent stem cell"
          ],
          [
           "neural progenitor cell",
           "induced pluripotent stem cell"
          ],
          [
           "neural progenitor cell",
           "induced pluripotent stem cell"
          ],
          [
           "neural progenitor cell",
           "induced pluripotent stem cell"
          ],
          [
           "neural progenitor cell",
           "induced pluripotent stem cell"
          ],
          [
           "neural progenitor cell",
           "induced pluripotent stem cell"
          ],
          [
           "neural progenitor cell",
           "induced pluripotent stem cell"
          ],
          [
           "neural progenitor cell",
           "induced pluripotent stem cell"
          ],
          [
           "neural progenitor cell",
           "induced pluripotent stem cell"
          ],
          [
           "neural progenitor cell",
           "induced pluripotent stem cell"
          ],
          [
           "neural progenitor cell",
           "induced pluripotent stem cell"
          ],
          [
           "neural progenitor cell",
           "induced pluripotent stem cell"
          ],
          [
           "neural progenitor cell",
           "induced pluripotent stem cell"
          ],
          [
           "neural progenitor cell",
           "induced pluripotent stem cell"
          ],
          [
           "neural progenitor cell",
           "induced pluripotent stem cell"
          ],
          [
           "neural progenitor cell",
           "induced pluripotent stem cell"
          ],
          [
           "neural progenitor cell",
           "induced pluripotent stem cell"
          ],
          [
           "induced pluripotent stem cell",
           null
          ],
          [
           "induced pluripotent stem cell",
           null
          ],
          [
           "induced pluripotent stem cell",
           null
          ],
          [
           "neural progenitor cell",
           "induced pluripotent stem cell"
          ],
          [
           "neural progenitor cell",
           "induced pluripotent stem cell"
          ],
          [
           "neural progenitor cell",
           "induced pluripotent stem cell"
          ],
          [
           "embryonic stem cell",
           null
          ],
          [
           "embryonic stem cell",
           null
          ],
          [
           "embryonic stem cell",
           null
          ],
          [
           "embryonic stem cell",
           null
          ],
          [
           "embryonic stem cell",
           null
          ],
          [
           "embryonic stem cell",
           null
          ],
          [
           "embryonic stem cell",
           null
          ],
          [
           "embryonic stem cell",
           null
          ],
          [
           "embryonic stem cell",
           null
          ],
          [
           "embryonic stem cell",
           null
          ],
          [
           "embryonic stem cell",
           null
          ],
          [
           "embryonic stem cell",
           null
          ],
          [
           "embryonic stem cell",
           null
          ],
          [
           "embryonic stem cell",
           null
          ],
          [
           "fibroblast",
           null
          ],
          [
           "fibroblast",
           null
          ],
          [
           "fibroblast",
           null
          ],
          [
           "embryonic stem cell",
           null
          ],
          [
           "embryonic stem cell",
           null
          ],
          [
           "embryonic stem cell",
           null
          ],
          [
           "embryonic stem cell",
           null
          ],
          [
           "embryonic stem cell",
           null
          ],
          [
           "microglial cell",
           null
          ],
          [
           "microglial cell",
           null
          ],
          [
           "microglial cell",
           "induced pluripotent stem cell"
          ],
          [
           "microglial cell",
           "induced pluripotent stem cell"
          ],
          [
           "microglial cell",
           "induced pluripotent stem cell"
          ],
          [
           "microglial cell",
           "induced pluripotent stem cell"
          ],
          [
           "microglial cell",
           "induced pluripotent stem cell"
          ],
          [
           "microglial cell",
           "embryonic stem cell"
          ],
          [
           "neural progenitor cell",
           "induced pluripotent stem cell"
          ],
          [
           "neural progenitor cell",
           "induced pluripotent stem cell"
          ],
          [
           "neural progenitor cell",
           "induced pluripotent stem cell"
          ],
          [
           "neural progenitor cell",
           "induced pluripotent stem cell"
          ],
          [
           "embryonic stem cell",
           null
          ],
          [
           "embryonic stem cell",
           null
          ],
          [
           "embryonic stem cell",
           null
          ],
          [
           "embryonic stem cell",
           null
          ],
          [
           "embryonic stem cell",
           null
          ],
          [
           "embryonic stem cell",
           null
          ],
          [
           "embryonic stem cell",
           null
          ],
          [
           "embryonic stem cell",
           null
          ],
          [
           "embryonic stem cell",
           null
          ],
          [
           "embryonic stem cell",
           null
          ],
          [
           "embryonic stem cell",
           null
          ],
          [
           "embryonic stem cell",
           null
          ],
          [
           "embryonic stem cell",
           null
          ],
          [
           "embryonic stem cell",
           null
          ],
          [
           "embryonic stem cell",
           null
          ],
          [
           "embryonic stem cell",
           null
          ],
          [
           "embryonic stem cell",
           null
          ],
          [
           "embryonic stem cell",
           null
          ],
          [
           "embryonic stem cell",
           null
          ],
          [
           "embryonic stem cell",
           null
          ],
          [
           "embryonic stem cell",
           null
          ],
          [
           "embryonic stem cell",
           null
          ],
          [
           "embryonic stem cell",
           null
          ],
          [
           "embryonic stem cell",
           null
          ],
          [
           "induced pluripotent stem cell",
           "fibroblast"
          ],
          [
           "induced pluripotent stem cell",
           "fibroblast"
          ],
          [
           "induced pluripotent stem cell",
           "fibroblast"
          ],
          [
           "induced pluripotent stem cell",
           "fibroblast"
          ],
          [
           "induced pluripotent stem cell",
           "fibroblast"
          ],
          [
           "induced pluripotent stem cell",
           "fibroblast"
          ],
          [
           "induced pluripotent stem cell",
           "fibroblast"
          ],
          [
           "induced pluripotent stem cell",
           "fibroblast"
          ],
          [
           "macrophage",
           "monocyte"
          ],
          [
           "macrophage",
           "monocyte"
          ],
          [
           "microglial cell",
           null
          ],
          [
           "microglial cell",
           null
          ],
          [
           "microglial cell",
           "induced pluripotent stem cell"
          ],
          [
           "microglial cell",
           "induced pluripotent stem cell"
          ],
          [
           "microglial cell",
           "induced pluripotent stem cell"
          ],
          [
           "microglial cell",
           "induced pluripotent stem cell"
          ],
          [
           "microglial cell",
           "induced pluripotent stem cell"
          ],
          [
           "microglial cell",
           "induced pluripotent stem cell"
          ],
          [
           "microglial cell",
           "induced pluripotent stem cell"
          ],
          [
           "microglial cell",
           "induced pluripotent stem cell"
          ],
          [
           "microglial cell",
           "induced pluripotent stem cell"
          ],
          [
           "microglial cell",
           "induced pluripotent stem cell"
          ],
          [
           "microglial cell",
           null
          ],
          [
           "microglial cell",
           null
          ],
          [
           "macrophage",
           null
          ],
          [
           "macrophage",
           null
          ],
          [
           "embryonic stem cell",
           null
          ],
          [
           "embryonic stem cell",
           null
          ],
          [
           "embryonic stem cell",
           null
          ],
          [
           "embryonic stem cell",
           null
          ],
          [
           "embryonic stem cell",
           null
          ],
          [
           "embryonic stem cell",
           null
          ],
          [
           "embryonic stem cell",
           null
          ],
          [
           "embryonic stem cell",
           null
          ],
          [
           "embryonic stem cell",
           null
          ],
          [
           "embryonic stem cell",
           null
          ],
          [
           "embryonic stem cell",
           null
          ],
          [
           "embryonic stem cell",
           null
          ],
          [
           "embryonic stem cell",
           null
          ],
          [
           "embryonic stem cell",
           null
          ],
          [
           "macrophage",
           "peripheral blood mononuclear cell"
          ],
          [
           "macrophage",
           "peripheral blood mononuclear cell"
          ],
          [
           "induced pluripotent stem cell",
           "peripheral blood mononuclear cell"
          ],
          [
           "induced pluripotent stem cell",
           "peripheral blood mononuclear cell"
          ],
          [
           "induced pluripotent stem cell",
           "peripheral blood mononuclear cell"
          ],
          [
           "induced pluripotent stem cell",
           "peripheral blood mononuclear cell"
          ],
          [
           "macrophage",
           "induced pluripotent stem cell"
          ],
          [
           "macrophage",
           "induced pluripotent stem cell"
          ],
          [
           "macrophage",
           "induced pluripotent stem cell"
          ],
          [
           "macrophage",
           "induced pluripotent stem cell"
          ],
          [
           "macrophage",
           "peripheral blood mononuclear cell"
          ],
          [
           "induced pluripotent stem cell",
           "peripheral blood mononuclear cell"
          ],
          [
           "induced pluripotent stem cell",
           "peripheral blood mononuclear cell"
          ],
          [
           "macrophage",
           "induced pluripotent stem cell"
          ],
          [
           "macrophage",
           "induced pluripotent stem cell"
          ],
          [
           "microglial cell",
           "induced pluripotent stem cell"
          ],
          [
           "microglial cell",
           "induced pluripotent stem cell"
          ],
          [
           "microglial cell",
           "induced pluripotent stem cell"
          ],
          [
           "microglial cell",
           "induced pluripotent stem cell"
          ],
          [
           "microglial cell",
           "induced pluripotent stem cell"
          ],
          [
           "microglial cell",
           "induced pluripotent stem cell"
          ],
          [
           "hematopoietic precursor cell",
           "induced pluripotent stem cell"
          ],
          [
           "hematopoietic precursor cell",
           "induced pluripotent stem cell"
          ],
          [
           "hematopoietic precursor cell",
           "induced pluripotent stem cell"
          ],
          [
           "monocyte",
           null
          ],
          [
           "monocyte",
           null
          ],
          [
           "monocyte",
           null
          ],
          [
           "monocyte",
           null
          ],
          [
           "monocyte",
           null
          ],
          [
           "monocyte",
           null
          ],
          [
           "monocyte",
           null
          ],
          [
           "monocyte",
           null
          ],
          [
           "monocyte",
           null
          ],
          [
           "microglial cell",
           null
          ],
          [
           "microglial cell",
           null
          ],
          [
           "microglial cell",
           null
          ],
          [
           "microglial cell",
           null
          ],
          [
           "microglial cell",
           null
          ],
          [
           "microglial cell",
           null
          ],
          [
           "conventional dendritic cell",
           null
          ],
          [
           "conventional dendritic cell",
           null
          ],
          [
           "conventional dendritic cell",
           null
          ],
          [
           "induced pluripotent stem cell",
           "peripheral blood mononuclear cell"
          ],
          [
           "induced pluripotent stem cell",
           "peripheral blood mononuclear cell"
          ],
          [
           "induced pluripotent stem cell",
           "peripheral blood mononuclear cell"
          ],
          [
           "induced pluripotent stem cell",
           "peripheral blood mononuclear cell"
          ],
          [
           "induced pluripotent stem cell",
           "peripheral blood mononuclear cell"
          ],
          [
           "induced pluripotent stem cell",
           "peripheral blood mononuclear cell"
          ],
          [
           "induced pluripotent stem cell",
           "peripheral blood mononuclear cell"
          ],
          [
           "induced pluripotent stem cell",
           "peripheral blood mononuclear cell"
          ],
          [
           "induced pluripotent stem cell",
           "peripheral blood mononuclear cell"
          ],
          [
           "induced pluripotent stem cell",
           "peripheral blood mononuclear cell"
          ],
          [
           "induced pluripotent stem cell",
           "peripheral blood mononuclear cell"
          ],
          [
           "induced pluripotent stem cell",
           "peripheral blood mononuclear cell"
          ],
          [
           "induced pluripotent stem cell",
           "peripheral blood mononuclear cell"
          ],
          [
           "induced pluripotent stem cell",
           "peripheral blood mononuclear cell"
          ],
          [
           "induced pluripotent stem cell",
           "peripheral blood mononuclear cell"
          ],
          [
           "induced pluripotent stem cell",
           "peripheral blood mononuclear cell"
          ],
          [
           "induced pluripotent stem cell",
           "peripheral blood mononuclear cell"
          ],
          [
           "induced pluripotent stem cell",
           "peripheral blood mononuclear cell"
          ],
          [
           "induced pluripotent stem cell",
           "peripheral blood mononuclear cell"
          ],
          [
           "induced pluripotent stem cell",
           "peripheral blood mononuclear cell"
          ],
          [
           "induced pluripotent stem cell",
           "peripheral blood mononuclear cell"
          ],
          [
           "induced pluripotent stem cell",
           "peripheral blood mononuclear cell"
          ],
          [
           "induced pluripotent stem cell",
           "peripheral blood mononuclear cell"
          ],
          [
           "induced pluripotent stem cell",
           "peripheral blood mononuclear cell"
          ],
          [
           "induced pluripotent stem cell",
           "peripheral blood mononuclear cell"
          ],
          [
           "induced pluripotent stem cell",
           "peripheral blood mononuclear cell"
          ],
          [
           "induced pluripotent stem cell",
           "peripheral blood mononuclear cell"
          ],
          [
           "induced pluripotent stem cell",
           "peripheral blood mononuclear cell"
          ],
          [
           "induced pluripotent stem cell",
           "peripheral blood mononuclear cell"
          ],
          [
           "induced pluripotent stem cell",
           "peripheral blood mononuclear cell"
          ],
          [
           "induced pluripotent stem cell",
           "peripheral blood mononuclear cell"
          ],
          [
           "induced pluripotent stem cell",
           "peripheral blood mononuclear cell"
          ],
          [
           "induced pluripotent stem cell",
           "peripheral blood mononuclear cell"
          ],
          [
           "induced pluripotent stem cell",
           "peripheral blood mononuclear cell"
          ],
          [
           "induced pluripotent stem cell",
           "peripheral blood mononuclear cell"
          ],
          [
           "induced pluripotent stem cell",
           "peripheral blood mononuclear cell"
          ],
          [
           "induced pluripotent stem cell",
           "peripheral blood mononuclear cell"
          ],
          [
           "induced pluripotent stem cell",
           "peripheral blood mononuclear cell"
          ],
          [
           "induced pluripotent stem cell",
           "peripheral blood mononuclear cell"
          ],
          [
           "induced pluripotent stem cell",
           "peripheral blood mononuclear cell"
          ],
          [
           "induced pluripotent stem cell",
           "peripheral blood mononuclear cell"
          ],
          [
           "induced pluripotent stem cell",
           "peripheral blood mononuclear cell"
          ],
          [
           "induced pluripotent stem cell",
           "peripheral blood mononuclear cell"
          ],
          [
           "induced pluripotent stem cell",
           "peripheral blood mononuclear cell"
          ],
          [
           "induced pluripotent stem cell",
           "peripheral blood mononuclear cell"
          ],
          [
           "induced pluripotent stem cell",
           "peripheral blood mononuclear cell"
          ],
          [
           "induced pluripotent stem cell",
           "peripheral blood mononuclear cell"
          ],
          [
           "induced pluripotent stem cell",
           "peripheral blood mononuclear cell"
          ],
          [
           "induced pluripotent stem cell",
           "peripheral blood mononuclear cell"
          ],
          [
           "induced pluripotent stem cell",
           "peripheral blood mononuclear cell"
          ],
          [
           "induced pluripotent stem cell",
           "peripheral blood mononuclear cell"
          ],
          [
           "induced pluripotent stem cell",
           "peripheral blood mononuclear cell"
          ],
          [
           "induced pluripotent stem cell",
           "peripheral blood mononuclear cell"
          ],
          [
           "induced pluripotent stem cell",
           "peripheral blood mononuclear cell"
          ],
          [
           "induced pluripotent stem cell",
           "peripheral blood mononuclear cell"
          ],
          [
           "induced pluripotent stem cell",
           "peripheral blood mononuclear cell"
          ],
          [
           "induced pluripotent stem cell",
           "peripheral blood mononuclear cell"
          ],
          [
           "induced pluripotent stem cell",
           "peripheral blood mononuclear cell"
          ],
          [
           "induced pluripotent stem cell",
           "peripheral blood mononuclear cell"
          ],
          [
           "induced pluripotent stem cell",
           "peripheral blood mononuclear cell"
          ],
          [
           "induced pluripotent stem cell",
           "peripheral blood mononuclear cell"
          ],
          [
           "induced pluripotent stem cell",
           "peripheral blood mononuclear cell"
          ],
          [
           "induced pluripotent stem cell",
           "peripheral blood mononuclear cell"
          ],
          [
           "induced pluripotent stem cell",
           "peripheral blood mononuclear cell"
          ],
          [
           "induced pluripotent stem cell",
           "peripheral blood mononuclear cell"
          ],
          [
           "induced pluripotent stem cell",
           "peripheral blood mononuclear cell"
          ],
          [
           "induced pluripotent stem cell",
           "peripheral blood mononuclear cell"
          ],
          [
           "induced pluripotent stem cell",
           "peripheral blood mononuclear cell"
          ],
          [
           "induced pluripotent stem cell",
           "peripheral blood mononuclear cell"
          ],
          [
           "induced pluripotent stem cell",
           "peripheral blood mononuclear cell"
          ],
          [
           "induced pluripotent stem cell",
           "peripheral blood mononuclear cell"
          ],
          [
           "induced pluripotent stem cell",
           "peripheral blood mononuclear cell"
          ],
          [
           "induced pluripotent stem cell",
           "peripheral blood mononuclear cell"
          ],
          [
           "induced pluripotent stem cell",
           "peripheral blood mononuclear cell"
          ],
          [
           "induced pluripotent stem cell",
           "peripheral blood mononuclear cell"
          ],
          [
           "induced pluripotent stem cell",
           "peripheral blood mononuclear cell"
          ],
          [
           "induced pluripotent stem cell",
           "peripheral blood mononuclear cell"
          ],
          [
           "induced pluripotent stem cell",
           "peripheral blood mononuclear cell"
          ],
          [
           "induced pluripotent stem cell",
           "peripheral blood mononuclear cell"
          ],
          [
           "induced pluripotent stem cell",
           "peripheral blood mononuclear cell"
          ],
          [
           "induced pluripotent stem cell",
           "peripheral blood mononuclear cell"
          ],
          [
           "induced pluripotent stem cell",
           "peripheral blood mononuclear cell"
          ],
          [
           "induced pluripotent stem cell",
           "peripheral blood mononuclear cell"
          ],
          [
           "induced pluripotent stem cell",
           "peripheral blood mononuclear cell"
          ],
          [
           "induced pluripotent stem cell",
           "peripheral blood mononuclear cell"
          ],
          [
           "induced pluripotent stem cell",
           "peripheral blood mononuclear cell"
          ],
          [
           "induced pluripotent stem cell",
           "peripheral blood mononuclear cell"
          ],
          [
           "induced pluripotent stem cell",
           "peripheral blood mononuclear cell"
          ],
          [
           "induced pluripotent stem cell",
           "peripheral blood mononuclear cell"
          ],
          [
           "induced pluripotent stem cell",
           "peripheral blood mononuclear cell"
          ],
          [
           "induced pluripotent stem cell",
           "peripheral blood mononuclear cell"
          ],
          [
           "induced pluripotent stem cell",
           "peripheral blood mononuclear cell"
          ],
          [
           "induced pluripotent stem cell",
           "peripheral blood mononuclear cell"
          ],
          [
           "induced pluripotent stem cell",
           "peripheral blood mononuclear cell"
          ],
          [
           "induced pluripotent stem cell",
           "peripheral blood mononuclear cell"
          ],
          [
           "induced pluripotent stem cell",
           "peripheral blood mononuclear cell"
          ],
          [
           "induced pluripotent stem cell",
           "peripheral blood mononuclear cell"
          ],
          [
           "induced pluripotent stem cell",
           "peripheral blood mononuclear cell"
          ],
          [
           "induced pluripotent stem cell",
           "peripheral blood mononuclear cell"
          ],
          [
           "induced pluripotent stem cell",
           "peripheral blood mononuclear cell"
          ],
          [
           "induced pluripotent stem cell",
           "peripheral blood mononuclear cell"
          ],
          [
           "induced pluripotent stem cell",
           "peripheral blood mononuclear cell"
          ],
          [
           "induced pluripotent stem cell",
           "peripheral blood mononuclear cell"
          ],
          [
           "induced pluripotent stem cell",
           "peripheral blood mononuclear cell"
          ],
          [
           "induced pluripotent stem cell",
           "peripheral blood mononuclear cell"
          ],
          [
           "induced pluripotent stem cell",
           "peripheral blood mononuclear cell"
          ],
          [
           "induced pluripotent stem cell",
           "peripheral blood mononuclear cell"
          ],
          [
           "induced pluripotent stem cell",
           "peripheral blood mononuclear cell"
          ],
          [
           "induced pluripotent stem cell",
           "peripheral blood mononuclear cell"
          ],
          [
           "induced pluripotent stem cell",
           "peripheral blood mononuclear cell"
          ],
          [
           "induced pluripotent stem cell",
           "peripheral blood mononuclear cell"
          ],
          [
           "induced pluripotent stem cell",
           "peripheral blood mononuclear cell"
          ],
          [
           "induced pluripotent stem cell",
           "peripheral blood mononuclear cell"
          ],
          [
           "induced pluripotent stem cell",
           "peripheral blood mononuclear cell"
          ],
          [
           "induced pluripotent stem cell",
           "peripheral blood mononuclear cell"
          ],
          [
           "induced pluripotent stem cell",
           "peripheral blood mononuclear cell"
          ],
          [
           "induced pluripotent stem cell",
           "peripheral blood mononuclear cell"
          ],
          [
           "induced pluripotent stem cell",
           "peripheral blood mononuclear cell"
          ],
          [
           "induced pluripotent stem cell",
           "peripheral blood mononuclear cell"
          ],
          [
           "induced pluripotent stem cell",
           "peripheral blood mononuclear cell"
          ],
          [
           "induced pluripotent stem cell",
           "peripheral blood mononuclear cell"
          ],
          [
           "induced pluripotent stem cell",
           "peripheral blood mononuclear cell"
          ],
          [
           "induced pluripotent stem cell",
           "peripheral blood mononuclear cell"
          ],
          [
           "induced pluripotent stem cell",
           "peripheral blood mononuclear cell"
          ],
          [
           "induced pluripotent stem cell",
           "peripheral blood mononuclear cell"
          ],
          [
           "induced pluripotent stem cell",
           "peripheral blood mononuclear cell"
          ],
          [
           "induced pluripotent stem cell",
           "peripheral blood mononuclear cell"
          ],
          [
           "induced pluripotent stem cell",
           "peripheral blood mononuclear cell"
          ],
          [
           "induced pluripotent stem cell",
           "peripheral blood mononuclear cell"
          ],
          [
           "induced pluripotent stem cell",
           "peripheral blood mononuclear cell"
          ],
          [
           "induced pluripotent stem cell",
           "peripheral blood mononuclear cell"
          ],
          [
           "induced pluripotent stem cell",
           "peripheral blood mononuclear cell"
          ],
          [
           "induced pluripotent stem cell",
           "peripheral blood mononuclear cell"
          ],
          [
           "induced pluripotent stem cell",
           "peripheral blood mononuclear cell"
          ],
          [
           "induced pluripotent stem cell",
           "peripheral blood mononuclear cell"
          ],
          [
           "induced pluripotent stem cell",
           "peripheral blood mononuclear cell"
          ],
          [
           "induced pluripotent stem cell",
           "peripheral blood mononuclear cell"
          ],
          [
           "induced pluripotent stem cell",
           "peripheral blood mononuclear cell"
          ],
          [
           "induced pluripotent stem cell",
           "peripheral blood mononuclear cell"
          ],
          [
           "induced pluripotent stem cell",
           "peripheral blood mononuclear cell"
          ],
          [
           "induced pluripotent stem cell",
           "peripheral blood mononuclear cell"
          ],
          [
           "induced pluripotent stem cell",
           "peripheral blood mononuclear cell"
          ],
          [
           "induced pluripotent stem cell",
           "peripheral blood mononuclear cell"
          ],
          [
           "induced pluripotent stem cell",
           "peripheral blood mononuclear cell"
          ],
          [
           "induced pluripotent stem cell",
           "peripheral blood mononuclear cell"
          ],
          [
           "induced pluripotent stem cell",
           "peripheral blood mononuclear cell"
          ],
          [
           "induced pluripotent stem cell",
           "peripheral blood mononuclear cell"
          ],
          [
           "induced pluripotent stem cell",
           "peripheral blood mononuclear cell"
          ],
          [
           "induced pluripotent stem cell",
           "peripheral blood mononuclear cell"
          ],
          [
           "induced pluripotent stem cell",
           "peripheral blood mononuclear cell"
          ],
          [
           "induced pluripotent stem cell",
           "peripheral blood mononuclear cell"
          ],
          [
           "induced pluripotent stem cell",
           "peripheral blood mononuclear cell"
          ],
          [
           "induced pluripotent stem cell",
           "peripheral blood mononuclear cell"
          ],
          [
           "induced pluripotent stem cell",
           "peripheral blood mononuclear cell"
          ],
          [
           "induced pluripotent stem cell",
           "peripheral blood mononuclear cell"
          ],
          [
           "induced pluripotent stem cell",
           "peripheral blood mononuclear cell"
          ],
          [
           "induced pluripotent stem cell",
           "peripheral blood mononuclear cell"
          ],
          [
           "induced pluripotent stem cell",
           "peripheral blood mononuclear cell"
          ],
          [
           "induced pluripotent stem cell",
           "peripheral blood mononuclear cell"
          ],
          [
           "hematopoietic precursor cell",
           null
          ],
          [
           "hematopoietic precursor cell",
           null
          ],
          [
           "hematopoietic precursor cell",
           null
          ],
          [
           "hematopoietic precursor cell",
           null
          ],
          [
           "hematopoietic precursor cell",
           null
          ],
          [
           "hematopoietic precursor cell",
           null
          ],
          [
           "hematopoietic precursor cell",
           null
          ],
          [
           "hematopoietic precursor cell",
           null
          ],
          [
           "hematopoietic precursor cell",
           null
          ],
          [
           "hematopoietic precursor cell",
           null
          ],
          [
           "microglial cell",
           "induced pluripotent stem cell"
          ],
          [
           "microglial cell",
           "induced pluripotent stem cell"
          ],
          [
           "microglial cell",
           "induced pluripotent stem cell"
          ],
          [
           "macrophage",
           "induced pluripotent stem cell"
          ],
          [
           "macrophage",
           "induced pluripotent stem cell"
          ],
          [
           "microglial cell",
           "induced pluripotent stem cell"
          ],
          [
           "microglial cell",
           "induced pluripotent stem cell"
          ],
          [
           "microglial cell",
           "induced pluripotent stem cell"
          ],
          [
           "macrophage",
           "induced pluripotent stem cell"
          ],
          [
           "macrophage",
           "induced pluripotent stem cell"
          ],
          [
           "macrophage",
           "induced pluripotent stem cell"
          ],
          [
           "fibroblast",
           null
          ],
          [
           "induced pluripotent stem cell",
           "fibroblast"
          ],
          [
           "induced pluripotent stem cell",
           "fibroblast"
          ],
          [
           "induced pluripotent stem cell",
           "fibroblast"
          ],
          [
           "induced pluripotent stem cell",
           "fibroblast"
          ],
          [
           "induced pluripotent stem cell",
           "fibroblast"
          ],
          [
           "induced pluripotent stem cell",
           "fibroblast"
          ],
          [
           "induced pluripotent stem cell",
           "fibroblast"
          ],
          [
           "fibroblast",
           null
          ],
          [
           "fibroblast",
           null
          ],
          [
           "induced pluripotent stem cell",
           "fibroblast"
          ],
          [
           "induced pluripotent stem cell",
           "fibroblast"
          ],
          [
           "hematopoietic precursor cell",
           null
          ],
          [
           "monocyte",
           null
          ],
          [
           "monocyte",
           null
          ],
          [
           "monocyte",
           null
          ],
          [
           "plasmacytoid dendritic cell",
           null
          ],
          [
           "dendritic cell",
           null
          ],
          [
           "hematopoietic precursor cell",
           null
          ],
          [
           "monocyte",
           null
          ],
          [
           "monocyte",
           null
          ],
          [
           "monocyte",
           null
          ],
          [
           "plasmacytoid dendritic cell",
           null
          ],
          [
           "dendritic cell",
           null
          ],
          [
           "hematopoietic precursor cell",
           null
          ],
          [
           "monocyte",
           null
          ],
          [
           "monocyte",
           null
          ],
          [
           "monocyte",
           null
          ],
          [
           "plasmacytoid dendritic cell",
           null
          ],
          [
           "dendritic cell",
           null
          ],
          [
           "hematopoietic precursor cell",
           null
          ],
          [
           "monocyte",
           null
          ],
          [
           "monocyte",
           null
          ],
          [
           "monocyte",
           null
          ],
          [
           "plasmacytoid dendritic cell",
           null
          ],
          [
           "dendritic cell",
           null
          ],
          [
           "macrophage",
           "monocyte"
          ],
          [
           "macrophage",
           "induced pluripotent stem cell"
          ],
          [
           "macrophage",
           "induced pluripotent stem cell"
          ],
          [
           "macrophage",
           "monocyte"
          ],
          [
           "macrophage",
           "monocyte"
          ],
          [
           "conventional dendritic cell",
           "CD34-positive hematopoietic precursor cell"
          ],
          [
           "conventional dendritic cell",
           "CD34-positive hematopoietic precursor cell"
          ],
          [
           "conventional dendritic cell",
           "CD34-positive hematopoietic precursor cell"
          ],
          [
           "plasmacytoid dendritic cell",
           "CD34-positive hematopoietic precursor cell"
          ],
          [
           "plasmacytoid dendritic cell",
           "CD34-positive hematopoietic precursor cell"
          ],
          [
           "conventional dendritic cell",
           "CD34-positive hematopoietic precursor cell"
          ],
          [
           "conventional dendritic cell",
           "CD34-positive hematopoietic precursor cell"
          ],
          [
           "conventional dendritic cell",
           "CD34-positive hematopoietic precursor cell"
          ],
          [
           "plasmacytoid dendritic cell",
           "CD34-positive hematopoietic precursor cell"
          ],
          [
           "plasmacytoid dendritic cell",
           "CD34-positive hematopoietic precursor cell"
          ],
          [
           "plasmacytoid dendritic cell",
           "CD34-positive hematopoietic precursor cell"
          ],
          [
           "macrophage",
           "monocyte"
          ],
          [
           "macrophage",
           "monocyte"
          ],
          [
           "macrophage",
           "monocyte"
          ],
          [
           "macrophage",
           "monocyte"
          ],
          [
           "macrophage",
           "monocyte"
          ],
          [
           "macrophage",
           "monocyte"
          ],
          [
           "macrophage",
           "monocyte"
          ],
          [
           "macrophage",
           "monocyte"
          ],
          [
           "macrophage",
           "induced pluripotent stem cell"
          ],
          [
           "macrophage",
           "induced pluripotent stem cell"
          ],
          [
           "macrophage",
           "induced pluripotent stem cell"
          ],
          [
           "macrophage",
           "induced pluripotent stem cell"
          ],
          [
           "macrophage",
           "induced pluripotent stem cell"
          ],
          [
           "macrophage",
           "induced pluripotent stem cell"
          ],
          [
           "macrophage",
           "induced pluripotent stem cell"
          ],
          [
           "macrophage",
           "induced pluripotent stem cell"
          ],
          [
           "macrophage",
           "induced pluripotent stem cell"
          ],
          [
           "macrophage",
           "induced pluripotent stem cell"
          ],
          [
           "macrophage",
           "induced pluripotent stem cell"
          ],
          [
           "macrophage",
           "monocyte"
          ],
          [
           "dendritic cell",
           "monocyte"
          ],
          [
           "monocyte",
           null
          ],
          [
           "macrophage",
           "monocyte"
          ],
          [
           "dendritic cell",
           "monocyte"
          ],
          [
           "monocyte",
           null
          ],
          [
           "macrophage",
           "monocyte"
          ],
          [
           "dendritic cell",
           "monocyte"
          ],
          [
           "monocyte",
           null
          ],
          [
           "macrophage",
           "monocyte"
          ],
          [
           "dendritic cell",
           "monocyte"
          ],
          [
           "monocyte",
           null
          ],
          [
           "macrophage",
           "monocyte"
          ],
          [
           "dendritic cell",
           "monocyte"
          ],
          [
           "macrophage",
           "induced pluripotent stem cell"
          ],
          [
           "macrophage",
           "induced pluripotent stem cell"
          ],
          [
           "macrophage",
           "induced pluripotent stem cell"
          ],
          [
           "macrophage",
           "induced pluripotent stem cell"
          ],
          [
           "macrophage",
           "induced pluripotent stem cell"
          ],
          [
           "macrophage",
           "induced pluripotent stem cell"
          ],
          [
           "macrophage",
           "induced pluripotent stem cell"
          ],
          [
           "macrophage",
           "induced pluripotent stem cell"
          ],
          [
           "macrophage",
           "induced pluripotent stem cell"
          ],
          [
           "macrophage",
           "induced pluripotent stem cell"
          ],
          [
           "macrophage",
           "induced pluripotent stem cell"
          ],
          [
           "conventional dendritic cell",
           null
          ],
          [
           "monocyte",
           null
          ],
          [
           "monocyte",
           null
          ],
          [
           "monocyte",
           null
          ],
          [
           "monocyte",
           null
          ],
          [
           "monocyte",
           null
          ],
          [
           "monocyte",
           null
          ],
          [
           "monocyte",
           null
          ],
          [
           "monocyte",
           null
          ],
          [
           "conventional dendritic cell",
           null
          ],
          [
           "conventional dendritic cell",
           null
          ],
          [
           "plasmacytoid dendritic cell",
           null
          ],
          [
           "plasmacytoid dendritic cell",
           null
          ],
          [
           "plasmacytoid dendritic cell",
           null
          ],
          [
           "macrophage",
           "monocyte"
          ],
          [
           "macrophage",
           "monocyte"
          ],
          [
           "macrophage",
           "monocyte"
          ],
          [
           "macrophage",
           "monocyte"
          ],
          [
           "macrophage",
           "monocyte"
          ],
          [
           "macrophage",
           "monocyte"
          ],
          [
           "macrophage",
           "monocyte"
          ],
          [
           "macrophage",
           "monocyte"
          ],
          [
           "macrophage",
           "monocyte"
          ],
          [
           "macrophage",
           "monocyte"
          ],
          [
           "macrophage",
           "monocyte"
          ],
          [
           "macrophage",
           "monocyte"
          ],
          [
           "macrophage",
           "monocyte"
          ],
          [
           "macrophage",
           "monocyte"
          ],
          [
           "macrophage",
           "monocyte"
          ],
          [
           "macrophage",
           "monocyte"
          ],
          [
           "macrophage",
           "monocyte"
          ],
          [
           "macrophage",
           "monocyte"
          ],
          [
           "macrophage",
           "monocyte"
          ],
          [
           "macrophage",
           "monocyte"
          ],
          [
           "macrophage",
           "monocyte"
          ],
          [
           "macrophage",
           "monocyte"
          ],
          [
           "macrophage",
           "monocyte"
          ],
          [
           "macrophage",
           "monocyte"
          ],
          [
           "macrophage",
           "monocyte"
          ],
          [
           "macrophage",
           "monocyte"
          ],
          [
           "macrophage",
           "induced pluripotent stem cell"
          ],
          [
           "macrophage",
           "induced pluripotent stem cell"
          ],
          [
           "macrophage",
           "induced pluripotent stem cell"
          ],
          [
           "macrophage",
           "induced pluripotent stem cell"
          ],
          [
           "macrophage",
           "induced pluripotent stem cell"
          ],
          [
           "macrophage",
           "induced pluripotent stem cell"
          ]
         ],
         "hovertemplate": "V0=%{x}<br>V1=%{y}<br>V2=%{z}<br>cell_type=%{customdata[0]}<br>parental_cell_type=%{customdata[1]}<br>rank_norm=%{marker.color}<extra></extra>",
         "legendgroup": "",
         "marker": {
          "color": [
           0.28790885703785374,
           0.22778390297684675,
           0.000036751194413818446,
           0.20823226754869534,
           0.20915104740904078,
           0.000036751194413818446,
           0.000036751194413818446,
           0.1842704887908857,
           0.29717015803013597,
           0.000036751194413818446,
           0.000036751194413818446,
           0.16332230797500918,
           0.40852627710400585,
           0.428335170893054,
           0.3396545387725101,
           0.34575523704520394,
           0.56843072399853,
           0.4260565968393973,
           0.000036751194413818446,
           0.43814773980154353,
           0.000036751194413818446,
           0.000036751194413818446,
           0.7305402425578831,
           0.000036751194413818446,
           0.5260933480338111,
           0.4912164645350974,
           0.6329658213891951,
           0.39040793825799336,
           0.5351341418596104,
           0.6134509371554575,
           0.000036751194413818446,
           0.000036751194413818446,
           0.4450569643513414,
           0.47100330760749726,
           0.3656008820286659,
           0.4213524439544285,
           0.5343623667769203,
           0.5465637633223079,
           0.9780962881293642,
           0.000036751194413818446,
           0.000036751194413818446,
           0.000036751194413818446,
           0.000036751194413818446,
           0.000036751194413818446,
           0.000036751194413818446,
           0.5485483278206542,
           0.4764792355751562,
           0.8255788313120176,
           0.5479970599044469,
           0.4990077177508269,
           0.35273796398382945,
           0.5921352443954429,
           0.4101433296582139,
           0.7869533259830944,
           0.5745681734656376,
           0.5049246600514516,
           0.49974274163910326,
           0.45806688717383315,
           0.4125321572951121,
           0.2816979051819184,
           0.000036751194413818446,
           0.000036751194413818446,
           0.0952223447262036,
           0.14898934215362,
           0.000036751194413818446,
           0.1059904446894524,
           0.3286659316427784,
           0.3352076442484381,
           0.1824329290701948,
           0.000036751194413818446,
           0.2644983461962514,
           0.2909592061742007,
           0.18618155090040425,
           0.2392870268283719,
           0.11381844909959574,
           0.27346563763322307,
           0.3432194046306505,
           0.2958471150312385,
           0.40782800441014333,
           0.12094818081587652,
           0.10746049246600514,
           0.23969128996692393,
           0.000036751194413818446,
           0.2392502756339581,
           0.11462697537669975,
           0.5015803013597941,
           0.26740169055494306,
           0.2766629915472253,
           0.18654906284454245,
           0.2169423006247703,
           0.324696802646086,
           0.40312385152517455,
           0.43311282616685043,
           0.5379272326350606,
           0.519220874678427,
           0.5642778390297685,
           0.581991914737229,
           0.6005880191106211,
           0.5463800073502388,
           0.2545020213156928,
           0.000036751194413818446,
           0.25865490628445426,
           0.000036751194413818446,
           0.15009187798603454,
           0.15270121278941565,
           0.1460124954061007,
           0.5289231900036752,
           0.535428151414921,
           0.564571848585079,
           0.28563028298419696,
           0.32760014700477763,
           0.3012495406100698,
           0.2103638368246968,
           0.35053289231900037,
           0.30529217199558983,
           0.000036751194413818446,
           0.6509371554575524,
           0.366997427416391,
           0.643329658213892,
           0.4817346563763322,
           0.43766997427416393,
           0.22458654906284453,
           0.4049614112458655,
           0.4135244395442852,
           0.3863285556780595,
           0.4243660418963616,
           0.3679162072767365,
           0.4739066519661889,
           0.3136346931275266,
           0.4961778757809629,
           0.5101800808526277,
           0.5571481073134877,
           0.6101800808526278,
           0.6393605292171995,
           0.5658213891951488,
           0.5813671444321941,
           0.5374862183020949,
           0.5668136714443219,
           0.5517456817346563,
           0.521866960676222,
           0.5281881661153988,
           0.5224917309812569,
           0.5258728408673282,
           0.5081955163542815,
           0.511944138184491,
           0.5190371187063579,
           0.5312017640573319,
           0.2738699007717751,
           0.25067989709665567,
           0.20176405733186328,
           0.23590591694230062,
           0.224696802646086,
           0.000036751194413818446,
           0.3608599779492834,
           0.23300257258360896,
           0.40485115766262403,
           0.38919514884233736,
           0.39459757442116866,
           0.3721058434399118,
           0.4062109518559353,
           0.5153252480705623,
           0.518816611539875,
           0.8502388827636899,
           0.8675486953325983,
           0.20904079382579935,
           0.44990812201396546,
           0.3709665564130834,
           0.3631753031973539,
           0.28393972804116135,
           0.7170525542080117,
           0.21003307607497243,
           0.1507901506798971,
           0.49051819184123485,
           0.5166482910694598,
           0.4124954061006983,
           0.3908122013965454,
           0.4969864020580669,
           0.5341051084160235,
           0.5428151414920985,
           0.587651598676957,
           0.6257993384785006,
           0.5116501286291805,
           0.5803748621830209,
           0.2533259830944506,
           0.2818816611539875,
           0.4639103270856303,
           0.5764792355751562,
           0.5815141492098493,
           0.5797868430723998,
           0.5578463800073502,
           0.7019110621095186,
           0.7485483278206542,
           0.36725468577728776,
           0.4116133774347666,
           0.3375229694965086,
           0.3425946343256156,
           0.5496141124586549,
           0.5436604189636163,
           0.5369349503858876,
           0.461337743476663,
           0.4545755237045204,
           0.40128629180448366,
           0.3869900771775083,
           0.35611907386990077,
           0.5914369717015803,
           0.33359059169423005,
           0.000036751194413818446,
           0.24987137081955163,
           0.239470782800441,
           0.24384417493568541,
           0.2276736493936053,
           0.37776552737963986,
           0.000036751194413818446,
           0.1635428151414921,
           0.43939728041161336,
           0.5202131569276002,
           0.30433664094083057,
           0.5649026093348034,
           0.5306504961411246,
           0.56313855200294,
           0.537045203969129,
           0.501029033443587,
           0.5263873575891217,
           0.23351708930540244,
           0.25005512679162073,
           0.3462330025725836,
           0.5126791620727673,
           0.42954796030871,
           0.45887541345093713,
           0.23314957736126424,
           0.32925395075339947,
           0.5117603822124219,
           0.17614847482543183,
           0.22006615214994488,
           0.2667401690554943,
           0.29852995222344725,
           0.3242557883131202,
           0.17725101065784638,
           0.3475927967658949,
           0.30393237780227855,
           0.2661521499448732,
           0.2893789048144065,
           0.3163175303197354,
           0.32907019478133037,
           0.3003675119441382,
           0.30904079382579935,
           0.2721058434399118,
           0.2855567805953694,
           0.1617787578096288,
           0.42219772142594636,
           0.2444321940463065,
           0.28460124954061006,
           0.18404998162440278,
           0.23590591694230062,
           0.2424108783535465,
           0.24615950018375596,
           0.44513046674016904,
           0.36302829841969864,
           0.38614479970599047,
           0.38713708195516355,
           0.32958471150312385,
           0.3556045571481073,
           0.37754502021315695,
           0.33899301727306136,
           0.27515619257625873,
           0.2273061374494671,
           0.2752664461595002,
           0.2304667401690555,
           0.2646453509739067,
           0.2412348401323043,
           0.20723998529952223,
           0.23921352443954427,
           0.23572216097023152,
           0.36865123116501286,
           0.4352443954428519,
           0.37475192943770674,
           0.44373392135244394,
           0.34615950018375596,
           0.2798235942668137,
           0.30117603822124217,
           0.32319000367511946,
           0.3127159132671812,
           0.30011025358324145,
           0.27170158030135977,
           0.27556045571481075,
           0.19573686144799707,
           0.3216464535097391,
           0.22278574053656744,
           0.2160970231532525,
           0.2411980889378905,
           0.3910327085630283,
           0.4145167217934583,
           0.39570011025358326,
           0.37640573318632853,
           0.41969864020580666,
           0.46280779125321575,
           0.4069459757442117,
           0.38239617787578095,
           0.31385520029400954,
           0.4015067989709666,
           0.36240352811466375,
           0.2700845277471518,
           0.24898934215361998,
           0.2027563395810364,
           0.25189268651231167,
           0.19154722528482176,
           0.34652701212789416,
           0.31962513781697904,
           0.3712973171628078,
           0.34733553840499815,
           0.3519661889011393,
           0.389268651231165,
           0.3886438809261301,
           0.3962513781697905,
           0.2822491730981257,
           0.29595736861447997,
           0.30257258360896727,
           0.29261300992282246,
           0.2689819919147372,
           0.000036751194413818446,
           0.24516721793458288,
           0.000036751194413818446,
           0.25685409775817714,
           0.3420801176038221,
           0.333811098860713,
           0.3404998162440279,
           0.31183388460124956,
           0.2599044468945241,
           0.2951855935317898,
           0.21848585079015068,
           0.19191473722895994,
           0.2816979051819184,
           0.16809996324880558,
           0.2828739434031606,
           0.37772877618522605,
           0.3922454979786843,
           0.3874310915104741,
           0.3793090775450202,
           0.29838294744579197,
           0.45652333700845277,
           0.37085630282984194,
           0.3141492098493201,
           0.4653068724733554,
           0.3167585446527012,
           0.29015067989709664,
           0.24751929437706727,
           0.23678794560823227,
           0.30628445424476297,
           0.3163175303197354,
           0.34950385887541346,
           0.3966188901139287,
           0.38059536934950383,
           0.36361631753031975,
           0.3233370084527747,
           0.36166850422638736,
           0.45303197353914004,
           0.5031606027195884,
           0.4929805218669607,
           0.2774715178243293,
           0.3255420801176038,
           0.26159500183755974,
           0.3589489158397648,
           0.2740536567438442,
           0.2529952223447262,
           0.3776552737963984,
           0.38570378537302463,
           0.3946343256155825,
           0.18717383314957736,
           0.2619992649761117,
           0.000036751194413818446,
           0.2625137816979052,
           0.2695332598309445,
           0.29250275633958106,
           0.37842704887908857,
           0.3940095553105476,
           0.3391032708563028,
           0.41271591326718116,
           0.3371922087467843,
           0.34715178243292905,
           0.2739434031606027,
           0.34406468210216834,
           0.34457919882396176,
           0.2793090775450202,
           0.22047041528849687,
           0.2551635428151415,
           0.33531789783167953,
           0.30150679897096655,
           0.35626607864755605,
           0.3061374494671077,
           0.2822491730981257,
           0.22940095553105475,
           0.000036751194413818446,
           0.2996692392502756,
           0.000036751194413818446,
           0.2599411980889379,
           0.21800808526277105,
           0.000036751194413818446,
           0.000036751194413818446,
           0.000036751194413818446,
           0.1902241822859243,
           0.000036751194413818446,
           0.34424843807423744,
           0.4762587284086733,
           0.46960676221977216,
           0.6199558985667034,
           0.6479603087100331,
           0.4679162072767365,
           0.47324513046674016,
           0.514369717015803,
           0.6274163910327085,
           0.5612274898934215,
           0.518412348401323,
           0.6769570011025359,
           0.607092980521867,
           0.5392870268283719,
           0.6485115766262404,
           0.5968393972804116,
           0.24715178243292907,
           0.7032708563028298,
           0.6199926497611172,
           0.5598676957001103,
           0.5075339948548327,
           0.5625137816979052,
           0.6388827636898199,
           0.000036751194413818446,
           0.6257258360896729,
           0.8131936787945608,
           0.831165012862918,
           0.000036751194413818446,
           0.5930172730613745,
           0.4531054759279677,
           0.6751561925762587,
           0.8289966923925027,
           0.7526277104005881,
           0.000036751194413818446,
           0.5489158397647923,
           0.000036751194413818446,
           0.5228959941198089,
           0.5611907386990077,
           0.4663359059169423,
           0.000036751194413818446,
           0.000036751194413818446,
           0.000036751194413818446,
           0.48537302462330023,
           0.5069092245497979,
           0.4563763322307975,
           0.000036751194413818446,
           0.39867695700110256,
           0.000036751194413818446,
           0.4692760014700478,
           0.000036751194413818446,
           0.4729511209114296,
           0.000036751194413818446,
           0.000036751194413818446,
           0.388460124954061,
           0.000036751194413818446,
           0.3209849320102903,
           0.5978316795295847,
           0.32458654906284456,
           0.3649026093348034,
           0.5122013965453878,
           0.000036751194413818446,
           0.5392502756339581,
           0.34391767732451306,
           0.28915839764792356,
           0.000036751194413818446,
           0.9032341051084161,
           0.000036751194413818446,
           0.000036751194413818446,
           0.7942300624770305,
           0.2916574788680632,
           0.9153619992649761,
           0.6904446894524072,
           0.6914369717015802,
           0.6430356486585814,
           0.612752664461595,
           0.6647923557515619,
           0.49533259830944504,
           0.6575523704520397,
           0.6895259095920617,
           0.42954796030871,
           0.4458287394340316,
           0.34072032341051084,
           0.998382947445792,
           0.7270856302829842,
           0.7656743844174936,
           0.9953693495038589,
           0.9894156560088203,
           0.8523704520396913,
           0.9986034546122748,
           0.9551267916207277,
           0.9267548695332598,
           0.9958838662256523,
           0.9487320837927232,
           0.8381844909959574,
           0.9978684307239986,
           0.9828371922087468,
           0.5464167585446527,
           0.6000735023888276,
           0.7452407203234105,
           0.6635795663359059,
           0.6811098860712973,
           0.5963248805586182,
           0.8156560088202867,
           0.7178978316795296,
           0.6265711135611908,
           0.6110621095185593,
           0.838257993384785,
           0.9949650863653069,
           0.5286291804483646,
           0.773686144799706,
           0.6644983461962514,
           0.9996324880558618,
           0.6253950753399485,
           0.7403895626607865,
           0.68864388092613,
           0.7187431091510474,
           0.41429621462697536,
           0.48974641675854463,
           0.7704152884968761,
           0.49099595736861446,
           0.4776552737963984,
           0.2205071664829107,
           0.3253583241455347,
           0.5251745681734656,
           0.4691657478868063,
           0.5814773980154355,
           0.44075707460492464,
           0.4972436604189636,
           0.5760014700477766,
           0.9524072032341051,
           0.615803013597942,
           0.41264241087835357,
           0.38691657478868063,
           0.5190738699007718,
           0.5177875780962882,
           0.5733553840499817,
           0.35729511209114295,
           0.39151047409040796,
           0.5099228224917309,
           0.5015803013597941,
           0.5269753766997427,
           0.3973171628077913,
           0.3642043366409408,
           0.66111723631018,
           0.5142227122381477,
           0.000036751194413818446,
           0.2501653803748622,
           0.34435869165747884,
           0.462146269753767,
           0.000036751194413818446,
           0.000036751194413818446,
           0.338257993384785,
           0.000036751194413818446
          ],
          "coloraxis": "coloraxis",
          "size": 4,
          "symbol": "circle"
         },
         "mode": "markers",
         "name": "",
         "scene": "scene",
         "showlegend": false,
         "type": "scatter3d",
         "x": [
          4.033545,
          4.415716,
          1.5381336,
          2.529716,
          3.9789138,
          4.33386,
          1.5897036,
          1.8277903,
          3.9708915,
          4.189381,
          1.6225762,
          1.9853268,
          -0.37505,
          -0.25591683,
          -0.23001534,
          -0.05185616,
          0.1565218,
          -0.5168752,
          3.1332855,
          2.8940043,
          2.8678536,
          2.8362155,
          2.5355976,
          1.1174886,
          2.5949416,
          2.6041706,
          2.5944161,
          2.376409,
          2.4044042,
          2.4504063,
          3.0828958,
          3.0808153,
          3.2545228,
          2.9980469,
          2.8611426,
          2.7174098,
          2.636125,
          5.4616256,
          5.9506702,
          -1.3777275,
          -1.3958565,
          -1.4322096,
          -1.4329447,
          -1.4526738,
          -1.4424701,
          3.1626744,
          3.2171192,
          3.0824413,
          3.2227197,
          3.128621,
          3.2201805,
          3.040895,
          3.1694074,
          3.4747148,
          3.3505273,
          -0.6060197,
          -0.6110444,
          -0.89268625,
          -0.9296746,
          -0.5954631,
          -2.1908364,
          -2.206319,
          -1.48652,
          -1.6413466,
          -1.9968082,
          -2.0015585,
          -1.1526463,
          -0.2710774,
          -2.1294534,
          -1.0620687,
          -0.74744844,
          0.5979928,
          -1.4123517,
          -0.20237851,
          -1.7676367,
          -1.4656963,
          -0.7742769,
          1.0450532,
          0.5666758,
          -0.15163636,
          -1.5863266,
          -0.8919508,
          -1.7150586,
          -0.9497033,
          -1.1922187,
          0.6795356,
          -2.3019552,
          -2.248511,
          -2.0010474,
          1.4456062,
          1.5431921,
          1.85885,
          0.7224715,
          1.2551446,
          0.28670263,
          0.15135586,
          -0.08660376,
          -0.0036560297,
          0.033107877,
          -1.823864,
          -1.8065138,
          -1.8117306,
          -1.8246447,
          -1.8538494,
          -1.792067,
          -1.879954,
          1.4084597,
          1.3927987,
          1.3561575,
          -2.1339817,
          -2.1422882,
          -2.1926503,
          -1.8602915,
          -1.8804984,
          2.38914,
          2.3467891,
          2.1482043,
          2.0676625,
          2.616777,
          2.0241036,
          2.564529,
          2.348455,
          -0.44911718,
          -0.7655784,
          -0.68045837,
          -0.68340874,
          -1.2050287,
          -0.6793092,
          -0.99111307,
          -0.6083258,
          -0.5259397,
          -0.8840342,
          -1.1143814,
          -1.107052,
          -1.0192397,
          -0.73800945,
          -0.87551844,
          -0.8101619,
          -0.5673791,
          -0.75030386,
          -0.26699692,
          -0.5696625,
          -0.28920048,
          -0.35747272,
          -0.78719956,
          -0.81107366,
          -0.8258514,
          -3.310701,
          -3.27211,
          -3.520909,
          -2.0450654,
          -1.7761024,
          -1.5778661,
          -2.0390894,
          -1.9382813,
          -2.5682259,
          -2.5556176,
          -2.6130133,
          0.89660144,
          0.8174453,
          3.0202422,
          3.0218472,
          1.3766129,
          1.3815174,
          2.6367843,
          3.8153367,
          3.246169,
          3.585699,
          2.7900896,
          3.0413046,
          2.5051908,
          2.7705815,
          2.629479,
          2.7541475,
          1.0935414,
          1.0776539,
          0.838418,
          0.2761916,
          0.21934605,
          1.1212702,
          0.6097156,
          1.0608394,
          0.10266054,
          -1.204524,
          -1.0207568,
          -0.38066077,
          0.28110695,
          0.28552127,
          0.31721377,
          0.20435381,
          5.3051486,
          5.664717,
          -1.8658893,
          -1.4157144,
          -1.91819,
          -1.5800864,
          3.708353,
          3.6236115,
          3.50951,
          3.5798368,
          4.9821424,
          -1.3658082,
          -1.5667892,
          3.1752205,
          4.1267138,
          4.095015,
          4.233318,
          4.226143,
          4.289364,
          4.268739,
          4.3039885,
          3.4917736,
          2.9327002,
          2.7676134,
          6.985934,
          7.065292,
          6.7886643,
          6.9977174,
          6.7739162,
          7.068194,
          7.1101327,
          7.070501,
          7.085405,
          3.2599936,
          3.1109638,
          3.3354144,
          3.399331,
          3.535965,
          3.8759556,
          6.463371,
          6.4015574,
          6.308713,
          -3.3397162,
          -3.1850357,
          -3.3093865,
          -3.7038064,
          -3.8802388,
          -2.8670819,
          -3.5623949,
          -2.9369366,
          -2.9444544,
          -2.8885999,
          -2.8461308,
          -3.4332824,
          -3.8447843,
          -3.516578,
          -2.8515735,
          -3.073824,
          -3.1800761,
          -2.620427,
          -3.6344001,
          -3.5736384,
          -3.6079183,
          -3.2990885,
          -2.9247966,
          -3.0317774,
          -2.5586438,
          -2.7341323,
          -2.782436,
          -2.2816796,
          -2.7673645,
          -2.7069325,
          -2.7127602,
          -2.8205736,
          -2.7348454,
          -2.7982006,
          -2.954201,
          -3.1478004,
          -3.2309282,
          -3.2284164,
          -3.8634815,
          -3.9197075,
          -3.9209213,
          -2.5437412,
          -2.269239,
          -2.6855102,
          -2.4954033,
          -2.7639728,
          -3.1096427,
          -2.9892833,
          -2.8519616,
          -2.632187,
          -2.844442,
          -3.0541983,
          -3.5627403,
          -3.8733904,
          -3.8551118,
          -3.6119301,
          -3.5562425,
          -3.4013503,
          -1.9520798,
          -1.6724157,
          -1.9241035,
          -1.83165,
          -1.885855,
          -1.6107194,
          -1.787461,
          -3.0985055,
          -3.3457823,
          -2.960682,
          -3.9256375,
          -3.6127956,
          -3.3266935,
          -3.012927,
          -3.0579894,
          -3.0165684,
          -3.2985566,
          -3.2670524,
          -3.060575,
          -3.1934671,
          -3.1694067,
          -2.4216485,
          -2.4770274,
          -2.3747973,
          -3.6607814,
          -3.6946516,
          -3.7071126,
          -3.2623308,
          -3.0494905,
          -3.3481562,
          -2.8995476,
          -2.8083692,
          -2.8713381,
          -2.6998098,
          -2.4740474,
          -2.6605344,
          -2.8034782,
          -2.767952,
          -2.7286062,
          -2.9840045,
          -3.0120156,
          -3.6051428,
          -3.2817147,
          -4.7484665,
          -2.3348913,
          -2.309406,
          -2.3589053,
          -2.6025984,
          -3.7755706,
          -2.6678886,
          -2.8538632,
          -2.9266596,
          -2.194729,
          -3.1135135,
          -2.8083878,
          -2.9751344,
          -3.4822052,
          -3.2941442,
          -4.167572,
          -2.2835376,
          -2.3447664,
          -2.303602,
          -3.1656852,
          -2.8525257,
          -3.055089,
          -2.298356,
          -2.3481467,
          -2.1303663,
          -3.513156,
          -3.6769242,
          -3.7164063,
          -2.8553696,
          -2.1491208,
          -2.6639442,
          -2.746735,
          -2.7534285,
          -2.7555037,
          -3.221177,
          -3.2949576,
          -3.2916,
          -2.9159284,
          -2.7325656,
          -2.9307384,
          -1.3731322,
          -1.2825474,
          -1.1506579,
          -1.7832274,
          -2.9290328,
          -2.9892702,
          -3.191189,
          -3.1413305,
          -2.8999753,
          -3.5078676,
          -3.439011,
          -2.9356165,
          -2.7780092,
          -2.9217072,
          -2.7809567,
          -3.315331,
          -3.7583158,
          -3.1908717,
          3.868113,
          3.925959,
          3.1953921,
          2.6493876,
          2.335191,
          2.1375957,
          2.012976,
          2.03739,
          2.1197898,
          1.9780853,
          0.9617014,
          0.98826313,
          0.97866154,
          0.9561815,
          0.94407606,
          0.87444115,
          1.2379506,
          1.2340915,
          0.8488841,
          0.91585493,
          1.0514362,
          1.3314028,
          -1.4645056,
          -1.273421,
          -1.4192114,
          -1.3358155,
          -2.5909858,
          -1.4941895,
          -1.1462325,
          1.7478976,
          1.6214607,
          -0.56411964,
          -0.8657561,
          1.0633202,
          2.507815,
          2.0191321,
          2.1673582,
          0.4133408,
          2.751915,
          1.5445414,
          3.654284,
          4.256493,
          3.470099,
          0.7203145,
          4.201883,
          1.4545932,
          4.3166995,
          3.5006022,
          3.1927629,
          0.70931745,
          3.3657074,
          1.9220247,
          4.1167927,
          3.7302628,
          3.3880053,
          0.73705935,
          3.2557201,
          -1.4909204,
          -2.0923774,
          -2.4642057,
          -1.4377759,
          -1.3267283,
          -1.0811075,
          -1.1568682,
          -1.2063539,
          -0.8952856,
          -0.56727076,
          -0.38260365,
          -0.07612038,
          -0.143278,
          -0.23924118,
          -0.014223814,
          -0.08084047,
          -1.8519013,
          -1.6107521,
          -0.9518529,
          -1.8697429,
          -1.8384664,
          -0.871035,
          -1.7183931,
          -0.9105191,
          1.5660353,
          1.5489752,
          1.6511588,
          1.8049672,
          1.5333543,
          1.8778095,
          1.9846458,
          1.7590177,
          3.3733678,
          3.38523,
          3.0843701,
          0.8208666,
          0.6240854,
          0.2432425,
          0.71326184,
          0.457793,
          0.26970112,
          0.5102649,
          0.254233,
          0.33693886,
          0.88709307,
          0.31807017,
          0.23388696,
          0.9657273,
          0.4154755,
          1.025691,
          0.7460501,
          0.25217497,
          0.43314373,
          0.77393436,
          0.51832306,
          0.053503036,
          0.38346934,
          1.0346284,
          0.34142983,
          -0.014346838,
          0.9295957,
          3.8894958,
          3.2703257,
          3.2064,
          2.1781359,
          5.700862,
          5.606061,
          5.2518353,
          5.3844013,
          2.7049022,
          2.379632,
          0.6173842,
          0.43508387,
          0.3864435,
          2.4104292,
          1.1249716,
          0.96073794,
          1.8207552,
          0.3363309,
          2.3706112,
          0.98039365,
          1.4100366,
          0.57810354,
          1.5972238,
          2.3839977,
          1.4077387,
          1.4498885,
          1.9506123,
          2.0413103,
          2.4556694,
          1.4291036,
          1.5916522,
          1.6560841,
          1.7428548,
          2.2975664,
          0.8317852,
          0.9337399,
          1.4133711,
          -1.9655693,
          -1.8718247,
          0.088285685,
          0.21051335,
          0.19540524,
          0.2586789,
          0.11031866,
          -0.09501982
         ],
         "y": [
          -1.157732,
          -0.5567701,
          0.8700577,
          0.42517346,
          -1.0583321,
          -0.4531283,
          0.99919736,
          1.0080566,
          -1.101233,
          -0.48171028,
          1.100528,
          1.3438522,
          -4.684259,
          -3.4403765,
          -3.202575,
          -2.8629599,
          -3.016507,
          -3.331241,
          1.1397196,
          0.07932979,
          -1.6057429,
          -1.7376906,
          1.239929,
          -2.533971,
          -2.214989,
          -1.8403753,
          -1.9550105,
          -2.0411308,
          -1.747918,
          -1.9512018,
          -0.9702563,
          -1.9521946,
          -1.570542,
          -1.318943,
          -0.4195731,
          -0.14257535,
          0.39986753,
          -5.821054,
          -7.662424,
          1.5964737,
          1.6081582,
          1.4379284,
          1.5666809,
          1.6232522,
          1.51916,
          -4.30989,
          -4.3867946,
          -4.2291245,
          -4.8177,
          -4.151354,
          -4.2142315,
          -3.8444932,
          -4.1082263,
          -5.417412,
          -4.933897,
          1.7299579,
          1.697786,
          2.0664942,
          2.0712268,
          3.72629,
          2.9049852,
          3.0559266,
          3.8842175,
          3.786284,
          3.3345625,
          3.542637,
          3.895134,
          4.4409695,
          3.0165024,
          3.6970124,
          4.678604,
          4.869532,
          3.7738354,
          3.7810314,
          3.6101387,
          3.9331763,
          4.640672,
          4.9837704,
          4.392084,
          3.663679,
          3.7893257,
          3.958488,
          3.7754557,
          3.908583,
          3.6653423,
          4.4908247,
          5.5907936,
          5.5888805,
          5.0646086,
          5.9596148,
          6.224846,
          6.180044,
          3.1505167,
          4.879168,
          3.7831573,
          3.8633378,
          4.357561,
          4.3478756,
          4.491857,
          1.5052522,
          1.489115,
          1.5091063,
          1.5256642,
          1.7551832,
          1.6263319,
          1.7703536,
          1.7846665,
          1.807082,
          1.8488992,
          3.0003498,
          2.950042,
          3.0289166,
          1.6928748,
          1.902693,
          -2.605115,
          -2.8847287,
          -0.62235117,
          -0.79446566,
          -0.13641992,
          -0.0337933,
          -2.619335,
          -1.949231,
          0.5769639,
          0.6264498,
          1.0270588,
          0.25749514,
          2.165182,
          2.3620927,
          2.304471,
          2.1024292,
          2.0183234,
          1.2291291,
          1.8670598,
          1.7605942,
          1.5436871,
          2.0099075,
          1.7992973,
          2.0596626,
          3.1677992,
          3.1564357,
          3.2217937,
          2.7474205,
          3.4133062,
          2.7881882,
          3.1020772,
          3.070449,
          2.8742971,
          1.5638014,
          1.7345004,
          1.2102424,
          2.249794,
          2.5244193,
          2.5850348,
          2.4534976,
          2.3926623,
          3.4887357,
          3.5757856,
          3.405989,
          -1.3402812,
          -1.1629809,
          -1.3383074,
          -1.2890736,
          1.6039677,
          1.6827873,
          -3.526327,
          -4.4164248,
          -4.8516083,
          -4.497988,
          -3.3459814,
          -3.4903796,
          -3.227352,
          -2.8656888,
          -1.4099845,
          -1.3111504,
          -1.309305,
          -1.3155512,
          4.87517,
          4.280527,
          3.818425,
          4.923008,
          4.813714,
          5.2349787,
          4.2533126,
          3.5327003,
          3.4080985,
          3.890996,
          3.301919,
          3.2842305,
          3.1959596,
          3.2039037,
          -4.6912503,
          -4.627069,
          3.3442216,
          3.11126,
          3.3083506,
          3.1626623,
          -0.4520115,
          -0.049877465,
          0.77051413,
          0.045727998,
          -5.025575,
          3.1692438,
          3.1265407,
          -0.7034817,
          -2.2582357,
          -1.0920812,
          -1.0757804,
          -1.1302657,
          -1.0602369,
          -1.1540266,
          -1.1320071,
          2.415765,
          2.0462768,
          1.9138399,
          -3.2417612,
          -3.4481902,
          -2.279364,
          -3.4828043,
          -3.3307753,
          -3.2469623,
          -3.2859375,
          -3.4495552,
          -3.4376438,
          -2.6050293,
          -2.8056529,
          -2.723365,
          -2.8632443,
          -2.8753579,
          -3.2617967,
          2.3512328,
          2.4955258,
          2.382974,
          0.9237727,
          0.8139419,
          0.72762096,
          1.0814779,
          1.1340425,
          0.9715575,
          0.9245149,
          0.9967828,
          0.8365253,
          0.8241597,
          0.7474481,
          0.988829,
          0.7023859,
          0.9422846,
          0.9201536,
          0.9548682,
          1.085279,
          1.2107112,
          1.3792557,
          1.4429727,
          1.2966633,
          0.93667674,
          0.6917366,
          0.749115,
          1.158371,
          1.3683712,
          1.6415484,
          1.358645,
          1.6011515,
          1.3815702,
          1.7046576,
          1.6772821,
          0.7279831,
          0.773111,
          0.75717586,
          0.211005,
          0.19023432,
          0.19879329,
          0.8210069,
          0.7949466,
          0.83001184,
          1.6475261,
          1.2621177,
          1.5579036,
          1.5657306,
          1.7246075,
          1.5666785,
          1.4360915,
          1.142886,
          1.4230764,
          1.6439925,
          1.5097886,
          1.2682048,
          0.82883334,
          0.7951732,
          1.1891791,
          1.2394902,
          1.8194594,
          1.2471342,
          0.9998697,
          1.2132483,
          1.0761261,
          1.2968861,
          1.0420115,
          1.0438019,
          1.6408036,
          1.415408,
          1.9994371,
          0.41784227,
          0.685027,
          1.1205374,
          0.78001916,
          0.7745106,
          0.7393409,
          2.023858,
          2.0965984,
          2.1018085,
          2.0656722,
          1.9281758,
          2.5073063,
          2.3403552,
          2.4979112,
          1.2638386,
          1.2428752,
          1.3781399,
          1.3016158,
          1.1779883,
          1.2617502,
          1.028957,
          0.8937124,
          0.97846246,
          1.8233035,
          1.6286203,
          1.8676043,
          0.8656069,
          0.8835398,
          0.88514495,
          0.6537378,
          0.57547134,
          1.1140848,
          0.8910998,
          1.141098,
          2.1748319,
          2.0862224,
          2.0678008,
          2.0084655,
          1.8079338,
          1.6827351,
          1.5944821,
          1.4465255,
          1.6185058,
          1.2022074,
          0.8971163,
          1.1085719,
          1.2659155,
          1.2687652,
          0.73868454,
          2.2477448,
          2.2240353,
          2.5933084,
          2.0847523,
          1.8879042,
          1.9737467,
          1.322613,
          1.4258523,
          1.2733363,
          1.876691,
          1.2609826,
          1.2201494,
          1.8178592,
          1.7962192,
          1.6180217,
          1.5824244,
          1.6272342,
          1.7258903,
          0.3263399,
          0.2733626,
          0.26460338,
          1.5759828,
          1.9465456,
          1.5683095,
          1.9125125,
          1.9580837,
          1.932344,
          1.8942931,
          1.9495689,
          1.846792,
          0.697525,
          0.69212276,
          0.5729549,
          0.7928536,
          0.6948073,
          0.5047324,
          0.8405974,
          0.86503506,
          0.874401,
          0.7637253,
          0.8041965,
          1.0882406,
          4.6624393,
          3.7731364,
          3.945999,
          3.518806,
          1.1400079,
          1.2176268,
          1.1589338,
          1.8519803,
          2.3088756,
          2.0536788,
          -0.53390193,
          -0.52381337,
          -0.50973094,
          -0.13111019,
          -0.11246076,
          -0.22174498,
          -0.7496325,
          -0.7113937,
          -0.39177474,
          -0.48160365,
          0.37986937,
          1.531636,
          3.2778232,
          3.406958,
          3.3509326,
          3.493121,
          2.5638182,
          5.7807217,
          4.530729,
          2.363394,
          2.0422122,
          3.980497,
          4.0326586,
          0.50546443,
          -4.704924,
          -4.0196996,
          -3.8354018,
          0.4716609,
          -2.4235485,
          0.66841096,
          -4.0378966,
          -3.8354056,
          -3.434621,
          0.42081904,
          -2.001874,
          0.8745265,
          -3.6279924,
          -3.2560575,
          -3.1543193,
          0.5668479,
          -1.5383295,
          0.46468702,
          -3.6086843,
          -3.1207929,
          -3.1379793,
          0.61126757,
          -1.6871485,
          -3.9909365,
          -2.5758755,
          -2.631797,
          -3.9212887,
          -4.291029,
          -1.1097898,
          -1.2090782,
          -1.2603847,
          -0.34962866,
          -0.70598567,
          -1.0983971,
          -0.8991988,
          -0.9771229,
          -0.30947205,
          -0.23092929,
          -0.36896226,
          -1.6590465,
          -1.93513,
          -2.482159,
          -1.5227197,
          -1.544357,
          -3.1009543,
          -1.7224933,
          -3.088876,
          -2.7896214,
          -1.2893571,
          -1.098114,
          -1.1197398,
          -2.462463,
          -0.964,
          -1.0195965,
          -1.0529323,
          0.43089503,
          0.3915493,
          0.122247815,
          -4.5108685,
          -5.1070395,
          -3.7023036,
          -4.084936,
          -6.0356054,
          -3.090483,
          -2.8302708,
          -5.357304,
          -3.2307055,
          -4.9294195,
          -6.0437007,
          -3.8213646,
          -4.8062806,
          -6.0268683,
          2.4456875,
          2.1211948,
          0.99898815,
          0.9559097,
          1.4075236,
          1.3138211,
          -0.7532263,
          -0.64980197,
          0.1675928,
          -0.22772989,
          -0.8828889,
          -5.0091963,
          -4.4807305,
          -5.0287137,
          -4.2560053,
          -6.775157,
          -2.9174855,
          -3.0540261,
          -2.8536818,
          -2.9922674,
          -1.2677319,
          -1.1807746,
          -2.1283824,
          0.067409605,
          0.082610995,
          -2.0535333,
          -1.9507326,
          -2.8984568,
          -3.375131,
          -3.687216,
          -1.568914,
          -2.0540621,
          -3.3981326,
          -4.9832134,
          -4.442041,
          -1.8563255,
          -1.959396,
          -2.8303096,
          -3.2222455,
          -3.4653094,
          -1.6061431,
          -2.2658904,
          -2.8830636,
          -3.2497585,
          -3.6710446,
          -1.7452112,
          -2.4910698,
          -3.3760896,
          -3.6327214,
          -1.7782775,
          -1.7215694,
          -2.0367866,
          0.14748906,
          0.18410589,
          0.29956892,
          0.14511725,
          0.225195
         ],
         "z": [
          4.244139,
          5.4114237,
          3.0680654,
          3.4803526,
          4.1753225,
          5.7686386,
          2.9958742,
          3.0573547,
          4.1843634,
          5.174161,
          2.9491427,
          3.0425024,
          -2.5359454,
          -1.6742362,
          -1.1024419,
          -0.88947827,
          -0.9481192,
          -1.7232686,
          2.132478,
          3.3677106,
          3.2834508,
          3.8266828,
          1.9421822,
          8.931906,
          4.354556,
          4.6985474,
          4.9275184,
          4.292038,
          4.8267117,
          4.9432583,
          5.244733,
          5.174481,
          4.344676,
          4.7162557,
          2.4411192,
          2.051006,
          1.7506343,
          1.4772744,
          2.2403293,
          -5.612531,
          -5.638094,
          -5.530098,
          -5.4494753,
          -5.3664007,
          -5.435124,
          2.4082375,
          2.2353334,
          2.2239537,
          2.531507,
          2.208025,
          2.3888042,
          2.1266825,
          2.269329,
          2.6762366,
          2.57869,
          -0.9299869,
          -0.89486563,
          -0.9623568,
          -0.9889117,
          -3.2422676,
          -1.1765113,
          -1.3150256,
          -2.3892357,
          -2.0621872,
          -2.5278196,
          -2.8407924,
          -3.1728747,
          -2.7429712,
          -1.6625233,
          -2.6102984,
          -2.6091158,
          -2.9521768,
          -2.6728458,
          -3.5184622,
          -2.9382594,
          -3.260665,
          -2.290347,
          -2.734215,
          -3.2801027,
          -3.4595037,
          -2.6994965,
          -3.2020729,
          -2.791417,
          -3.1708164,
          -2.7953107,
          -3.4484735,
          -3.9359255,
          -3.938223,
          -3.5307622,
          -5.0139647,
          -4.8911886,
          -5.0266523,
          -2.042758,
          -3.1553552,
          -1.8981278,
          -1.546924,
          -0.6865106,
          -0.82503575,
          -0.67883474,
          0.6614199,
          0.6708091,
          0.6738105,
          0.60752255,
          0.23492269,
          0.34310025,
          0.11655258,
          -2.8750784,
          -2.880035,
          -2.9412658,
          -0.98994106,
          -0.98388004,
          -1.0568664,
          0.20995522,
          -0.07372796,
          -2.2357256,
          -2.3396513,
          -2.5911202,
          -2.0933523,
          -4.0422397,
          -3.2308908,
          -2.3220809,
          -1.9694384,
          -2.1057472,
          -1.9277593,
          -1.8819703,
          -1.7246757,
          -3.1841283,
          -2.9918973,
          -3.2731252,
          -1.5236087,
          -1.1198621,
          -1.2490389,
          -0.46461934,
          -0.033959236,
          -0.13054971,
          -0.78388757,
          -0.9309277,
          -1.0701107,
          -0.60340357,
          -0.40739122,
          0.022063725,
          0.0086067235,
          -0.9464605,
          0.37882686,
          0.86609817,
          0.8733542,
          0.9494231,
          -2.4999952,
          -2.5291572,
          -2.3142936,
          -1.6862081,
          -1.6486028,
          -1.5221466,
          -1.7928334,
          -1.7078243,
          -2.2490447,
          -2.3420062,
          -2.2361186,
          -1.697601,
          -1.4748527,
          -2.1336524,
          -2.146713,
          -3.7491863,
          -3.7837405,
          -1.1658252,
          0.2633155,
          -1.6602738,
          -1.2776991,
          -0.8308911,
          0.81321234,
          -0.8469737,
          -0.8344996,
          -0.6129157,
          -0.6728014,
          -0.8877241,
          -0.8889643,
          -0.5494521,
          0.2713145,
          0.17395242,
          -1.579652,
          -1.3012671,
          -0.9728674,
          0.1632653,
          -1.045666,
          -0.84625846,
          -1.5839987,
          0.14615878,
          0.13303037,
          0.2880273,
          0.39502442,
          -1.9586282,
          -1.8091891,
          -2.250317,
          -2.021703,
          -2.2237637,
          -2.042204,
          -3.1445558,
          -3.8331811,
          -3.83013,
          -3.214235,
          -2.3002434,
          -2.067254,
          -2.0832562,
          -1.8414266,
          -1.5111513,
          0.44862884,
          0.17333873,
          0.31708696,
          0.31539452,
          0.24851857,
          0.18000486,
          -0.9865696,
          -0.49467194,
          -0.5227812,
          3.29528,
          3.3663726,
          2.6923816,
          3.5264957,
          3.6993308,
          2.6033041,
          2.562882,
          2.628143,
          2.7018902,
          -1.6236023,
          -1.6822551,
          -1.7068315,
          -2.1601977,
          -2.3103607,
          -3.8672185,
          2.438895,
          2.594733,
          2.8134255,
          -1.3676933,
          -1.1409405,
          -1.4594951,
          -0.99628955,
          -1.4319384,
          -0.8271441,
          -0.096233584,
          -0.81190884,
          -0.5945158,
          -0.6715746,
          -0.57501256,
          -2.1024134,
          -1.6621858,
          -1.9315418,
          -1.5147752,
          -1.0108554,
          -1.1778063,
          -0.8653559,
          -1.5902531,
          -1.686929,
          -1.4209865,
          -1.907426,
          -2.4528918,
          -2.1660316,
          -0.6816262,
          -0.81361663,
          -1.6579068,
          -1.2686586,
          -1.5759724,
          -1.1964468,
          -1.9194076,
          -1.3980558,
          -0.3081202,
          -0.33216068,
          -0.79226935,
          -0.6367992,
          -0.6502795,
          -0.57172984,
          -1.6084702,
          -1.575714,
          -1.6406465,
          -1.6334403,
          -1.3450094,
          -1.6458384,
          -1.3816969,
          -1.8225486,
          -0.6540603,
          -0.6106746,
          -0.83962274,
          -1.6324518,
          -1.73356,
          -1.4677496,
          -0.66297215,
          -0.1436234,
          -0.1708576,
          -1.3038409,
          -1.3644556,
          -1.2217673,
          -1.6754428,
          -2.107678,
          -1.6878148,
          -1.7008094,
          -1.6308877,
          -1.8850759,
          -1.8078052,
          -1.644824,
          -1.9796071,
          -1.6697764,
          0.5263103,
          0.35802212,
          -0.6863548,
          -0.9594955,
          -0.9137279,
          -0.88049376,
          -2.2480462,
          -2.2206945,
          -2.5067666,
          -2.1545525,
          -2.0378678,
          -2.7086022,
          -2.5660937,
          -2.6916614,
          -1.4896516,
          -1.3848181,
          -1.3630911,
          -0.99396914,
          -0.93678635,
          -0.9827105,
          -0.9891603,
          -0.68517506,
          -0.87929803,
          -1.2696302,
          -1.1247438,
          -1.27912,
          -0.5128108,
          -0.5949262,
          -0.6616513,
          -0.3731999,
          -0.26903847,
          -1.1977086,
          -1.7758867,
          1.2367587,
          -2.466351,
          -2.3873398,
          -2.3024669,
          -1.4899592,
          1.123531,
          -1.6176919,
          -1.5471464,
          -1.289278,
          -1.5952487,
          -0.61751807,
          -0.10949411,
          -0.36551636,
          -1.2343861,
          -1.3975868,
          -0.6112589,
          -2.4943805,
          -2.4895132,
          -2.5977547,
          -1.9164889,
          -1.5654624,
          -1.7883025,
          -1.2988648,
          -1.3589588,
          -1.5592649,
          -1.3080755,
          -1.4906032,
          -1.4315805,
          -1.8208371,
          -1.6610608,
          -1.4197725,
          -1.3862154,
          -1.5109775,
          -1.4376844,
          -0.78252053,
          -0.64310247,
          -0.6212963,
          -1.7357816,
          -1.7346879,
          -1.7595791,
          -3.1278958,
          -3.109751,
          -3.2794874,
          -2.6493905,
          -1.7895442,
          -1.6954882,
          -1.3100289,
          -0.9340299,
          -0.46345404,
          -1.0177851,
          -0.76198524,
          -0.105660886,
          -0.5458153,
          -0.6864712,
          -0.7290727,
          -0.95782095,
          -0.76636595,
          -0.864945,
          0.08297048,
          -0.8800978,
          0.040823914,
          -0.24949653,
          2.255284,
          2.294879,
          1.8799441,
          1.4470197,
          0.7862998,
          0.8537251,
          -0.61759776,
          -0.5425604,
          -0.5983199,
          0.675714,
          0.8424391,
          -1.0774878,
          0.11305138,
          0.065044545,
          0.6756192,
          0.63112503,
          0.90279716,
          -3.374584,
          2.4086707,
          2.0155194,
          2.177928,
          1.8541907,
          -0.5989773,
          0.13715948,
          1.3733269,
          -2.8971548,
          -2.5184147,
          1.2878939,
          1.4131739,
          0.56564456,
          4.3630037,
          3.028755,
          2.6745296,
          2.9650621,
          4.2362185,
          0.5671431,
          3.465212,
          2.461663,
          2.3995512,
          3.1623156,
          4.458617,
          0.4536073,
          2.9236572,
          2.1119096,
          1.8224555,
          2.8623474,
          3.4561908,
          0.7289278,
          2.8903582,
          2.0727675,
          1.8294765,
          2.8960447,
          3.3144014,
          5.99933,
          4.810967,
          5.257303,
          5.8829494,
          6.153305,
          2.1428673,
          2.5672972,
          2.2623801,
          2.3092554,
          1.8939917,
          1.140843,
          0.98135763,
          1.2486717,
          1.7047851,
          1.4855344,
          1.2204449,
          1.2615627,
          1.3112999,
          2.565957,
          1.48348,
          1.3364689,
          2.9646118,
          1.5520471,
          2.90548,
          2.4986377,
          1.6758897,
          1.338743,
          1.7620261,
          2.2052612,
          1.6290114,
          1.637519,
          1.7554072,
          1.5836196,
          1.601193,
          1.5320283,
          3.0619767,
          1.1553353,
          0.46928,
          2.61967,
          1.5363755,
          0.47385395,
          2.2747858,
          1.146349,
          0.79086185,
          3.3346102,
          1.1825142,
          0.7408841,
          2.9173186,
          1.4516851,
          -0.60002863,
          -0.68590665,
          -0.9389982,
          -0.8853483,
          0.26408708,
          -0.13724396,
          0.33720678,
          0.5489925,
          1.0999429,
          0.6680053,
          0.6616384,
          4.184801,
          1.811053,
          2.5047512,
          2.155291,
          3.9129179,
          2.2538378,
          2.5829446,
          2.1039176,
          2.3718805,
          3.7303042,
          3.4928243,
          2.2512774,
          3.2642717,
          3.0693455,
          0.4381693,
          1.5237454,
          0.8429882,
          1.0014542,
          -0.3662597,
          0.97873896,
          1.2899435,
          1.7882022,
          3.3348713,
          1.9761595,
          0.5471303,
          1.7311031,
          1.0782954,
          0.9062295,
          0.92253244,
          0.6257821,
          0.90061206,
          0.9833344,
          0.8455175,
          0.5746131,
          0.91762286,
          0.60324425,
          1.335737,
          1.3137602,
          1.2914023,
          1.1712558,
          4.124339,
          3.4737375,
          3.3820126,
          3.5248954,
          3.4847548,
          3.4278653
         ]
        }
       ],
       "layout": {
        "coloraxis": {
         "colorbar": {
          "title": {
           "text": "rank_norm"
          }
         },
         "colorscale": [
          [
           0,
           "rgb(247,247,247)"
          ],
          [
           0.2,
           "rgb(253,219,199)"
          ],
          [
           0.4,
           "rgb(244,165,130)"
          ],
          [
           0.6,
           "rgb(214,96,77)"
          ],
          [
           0.8,
           "rgb(178,24,43)"
          ],
          [
           1,
           "rgb(103,0,31)"
          ]
         ]
        },
        "height": 500,
        "hovermode": "closest",
        "legend": {
         "tracegroupgap": 0
        },
        "margin": {
         "b": 0,
         "l": 0,
         "r": 0,
         "t": 20
        },
        "scene": {
         "camera": {
          "center": {
           "x": 0,
           "y": 0,
           "z": 0
          },
          "eye": {
           "x": 1.25,
           "y": 1.25,
           "z": 1.25
          },
          "up": {
           "x": 0,
           "y": 0,
           "z": 1
          }
         },
         "domain": {
          "x": [
           0,
           1
          ],
          "y": [
           0,
           1
          ]
         },
         "xaxis": {
          "title": {
           "text": "V0"
          }
         },
         "yaxis": {
          "title": {
           "text": "V1"
          }
         },
         "zaxis": {
          "title": {
           "text": "V2"
          }
         }
        },
        "template": {
         "data": {
          "bar": [
           {
            "error_x": {
             "color": "#2a3f5f"
            },
            "error_y": {
             "color": "#2a3f5f"
            },
            "marker": {
             "line": {
              "color": "#E5ECF6",
              "width": 0.5
             },
             "pattern": {
              "fillmode": "overlay",
              "size": 10,
              "solidity": 0.2
             }
            },
            "type": "bar"
           }
          ],
          "barpolar": [
           {
            "marker": {
             "line": {
              "color": "#E5ECF6",
              "width": 0.5
             },
             "pattern": {
              "fillmode": "overlay",
              "size": 10,
              "solidity": 0.2
             }
            },
            "type": "barpolar"
           }
          ],
          "carpet": [
           {
            "aaxis": {
             "endlinecolor": "#2a3f5f",
             "gridcolor": "white",
             "linecolor": "white",
             "minorgridcolor": "white",
             "startlinecolor": "#2a3f5f"
            },
            "baxis": {
             "endlinecolor": "#2a3f5f",
             "gridcolor": "white",
             "linecolor": "white",
             "minorgridcolor": "white",
             "startlinecolor": "#2a3f5f"
            },
            "type": "carpet"
           }
          ],
          "choropleth": [
           {
            "colorbar": {
             "outlinewidth": 0,
             "ticks": ""
            },
            "type": "choropleth"
           }
          ],
          "contour": [
           {
            "colorbar": {
             "outlinewidth": 0,
             "ticks": ""
            },
            "colorscale": [
             [
              0,
              "#0d0887"
             ],
             [
              0.1111111111111111,
              "#46039f"
             ],
             [
              0.2222222222222222,
              "#7201a8"
             ],
             [
              0.3333333333333333,
              "#9c179e"
             ],
             [
              0.4444444444444444,
              "#bd3786"
             ],
             [
              0.5555555555555556,
              "#d8576b"
             ],
             [
              0.6666666666666666,
              "#ed7953"
             ],
             [
              0.7777777777777778,
              "#fb9f3a"
             ],
             [
              0.8888888888888888,
              "#fdca26"
             ],
             [
              1,
              "#f0f921"
             ]
            ],
            "type": "contour"
           }
          ],
          "contourcarpet": [
           {
            "colorbar": {
             "outlinewidth": 0,
             "ticks": ""
            },
            "type": "contourcarpet"
           }
          ],
          "heatmap": [
           {
            "colorbar": {
             "outlinewidth": 0,
             "ticks": ""
            },
            "colorscale": [
             [
              0,
              "#0d0887"
             ],
             [
              0.1111111111111111,
              "#46039f"
             ],
             [
              0.2222222222222222,
              "#7201a8"
             ],
             [
              0.3333333333333333,
              "#9c179e"
             ],
             [
              0.4444444444444444,
              "#bd3786"
             ],
             [
              0.5555555555555556,
              "#d8576b"
             ],
             [
              0.6666666666666666,
              "#ed7953"
             ],
             [
              0.7777777777777778,
              "#fb9f3a"
             ],
             [
              0.8888888888888888,
              "#fdca26"
             ],
             [
              1,
              "#f0f921"
             ]
            ],
            "type": "heatmap"
           }
          ],
          "heatmapgl": [
           {
            "colorbar": {
             "outlinewidth": 0,
             "ticks": ""
            },
            "colorscale": [
             [
              0,
              "#0d0887"
             ],
             [
              0.1111111111111111,
              "#46039f"
             ],
             [
              0.2222222222222222,
              "#7201a8"
             ],
             [
              0.3333333333333333,
              "#9c179e"
             ],
             [
              0.4444444444444444,
              "#bd3786"
             ],
             [
              0.5555555555555556,
              "#d8576b"
             ],
             [
              0.6666666666666666,
              "#ed7953"
             ],
             [
              0.7777777777777778,
              "#fb9f3a"
             ],
             [
              0.8888888888888888,
              "#fdca26"
             ],
             [
              1,
              "#f0f921"
             ]
            ],
            "type": "heatmapgl"
           }
          ],
          "histogram": [
           {
            "marker": {
             "pattern": {
              "fillmode": "overlay",
              "size": 10,
              "solidity": 0.2
             }
            },
            "type": "histogram"
           }
          ],
          "histogram2d": [
           {
            "colorbar": {
             "outlinewidth": 0,
             "ticks": ""
            },
            "colorscale": [
             [
              0,
              "#0d0887"
             ],
             [
              0.1111111111111111,
              "#46039f"
             ],
             [
              0.2222222222222222,
              "#7201a8"
             ],
             [
              0.3333333333333333,
              "#9c179e"
             ],
             [
              0.4444444444444444,
              "#bd3786"
             ],
             [
              0.5555555555555556,
              "#d8576b"
             ],
             [
              0.6666666666666666,
              "#ed7953"
             ],
             [
              0.7777777777777778,
              "#fb9f3a"
             ],
             [
              0.8888888888888888,
              "#fdca26"
             ],
             [
              1,
              "#f0f921"
             ]
            ],
            "type": "histogram2d"
           }
          ],
          "histogram2dcontour": [
           {
            "colorbar": {
             "outlinewidth": 0,
             "ticks": ""
            },
            "colorscale": [
             [
              0,
              "#0d0887"
             ],
             [
              0.1111111111111111,
              "#46039f"
             ],
             [
              0.2222222222222222,
              "#7201a8"
             ],
             [
              0.3333333333333333,
              "#9c179e"
             ],
             [
              0.4444444444444444,
              "#bd3786"
             ],
             [
              0.5555555555555556,
              "#d8576b"
             ],
             [
              0.6666666666666666,
              "#ed7953"
             ],
             [
              0.7777777777777778,
              "#fb9f3a"
             ],
             [
              0.8888888888888888,
              "#fdca26"
             ],
             [
              1,
              "#f0f921"
             ]
            ],
            "type": "histogram2dcontour"
           }
          ],
          "mesh3d": [
           {
            "colorbar": {
             "outlinewidth": 0,
             "ticks": ""
            },
            "type": "mesh3d"
           }
          ],
          "parcoords": [
           {
            "line": {
             "colorbar": {
              "outlinewidth": 0,
              "ticks": ""
             }
            },
            "type": "parcoords"
           }
          ],
          "pie": [
           {
            "automargin": true,
            "type": "pie"
           }
          ],
          "scatter": [
           {
            "fillpattern": {
             "fillmode": "overlay",
             "size": 10,
             "solidity": 0.2
            },
            "type": "scatter"
           }
          ],
          "scatter3d": [
           {
            "line": {
             "colorbar": {
              "outlinewidth": 0,
              "ticks": ""
             }
            },
            "marker": {
             "colorbar": {
              "outlinewidth": 0,
              "ticks": ""
             }
            },
            "type": "scatter3d"
           }
          ],
          "scattercarpet": [
           {
            "marker": {
             "colorbar": {
              "outlinewidth": 0,
              "ticks": ""
             }
            },
            "type": "scattercarpet"
           }
          ],
          "scattergeo": [
           {
            "marker": {
             "colorbar": {
              "outlinewidth": 0,
              "ticks": ""
             }
            },
            "type": "scattergeo"
           }
          ],
          "scattergl": [
           {
            "marker": {
             "colorbar": {
              "outlinewidth": 0,
              "ticks": ""
             }
            },
            "type": "scattergl"
           }
          ],
          "scattermapbox": [
           {
            "marker": {
             "colorbar": {
              "outlinewidth": 0,
              "ticks": ""
             }
            },
            "type": "scattermapbox"
           }
          ],
          "scatterpolar": [
           {
            "marker": {
             "colorbar": {
              "outlinewidth": 0,
              "ticks": ""
             }
            },
            "type": "scatterpolar"
           }
          ],
          "scatterpolargl": [
           {
            "marker": {
             "colorbar": {
              "outlinewidth": 0,
              "ticks": ""
             }
            },
            "type": "scatterpolargl"
           }
          ],
          "scatterternary": [
           {
            "marker": {
             "colorbar": {
              "outlinewidth": 0,
              "ticks": ""
             }
            },
            "type": "scatterternary"
           }
          ],
          "surface": [
           {
            "colorbar": {
             "outlinewidth": 0,
             "ticks": ""
            },
            "colorscale": [
             [
              0,
              "#0d0887"
             ],
             [
              0.1111111111111111,
              "#46039f"
             ],
             [
              0.2222222222222222,
              "#7201a8"
             ],
             [
              0.3333333333333333,
              "#9c179e"
             ],
             [
              0.4444444444444444,
              "#bd3786"
             ],
             [
              0.5555555555555556,
              "#d8576b"
             ],
             [
              0.6666666666666666,
              "#ed7953"
             ],
             [
              0.7777777777777778,
              "#fb9f3a"
             ],
             [
              0.8888888888888888,
              "#fdca26"
             ],
             [
              1,
              "#f0f921"
             ]
            ],
            "type": "surface"
           }
          ],
          "table": [
           {
            "cells": {
             "fill": {
              "color": "#EBF0F8"
             },
             "line": {
              "color": "white"
             }
            },
            "header": {
             "fill": {
              "color": "#C8D4E3"
             },
             "line": {
              "color": "white"
             }
            },
            "type": "table"
           }
          ]
         },
         "layout": {
          "annotationdefaults": {
           "arrowcolor": "#2a3f5f",
           "arrowhead": 0,
           "arrowwidth": 1
          },
          "autotypenumbers": "strict",
          "coloraxis": {
           "colorbar": {
            "outlinewidth": 0,
            "ticks": ""
           }
          },
          "colorscale": {
           "diverging": [
            [
             0,
             "#8e0152"
            ],
            [
             0.1,
             "#c51b7d"
            ],
            [
             0.2,
             "#de77ae"
            ],
            [
             0.3,
             "#f1b6da"
            ],
            [
             0.4,
             "#fde0ef"
            ],
            [
             0.5,
             "#f7f7f7"
            ],
            [
             0.6,
             "#e6f5d0"
            ],
            [
             0.7,
             "#b8e186"
            ],
            [
             0.8,
             "#7fbc41"
            ],
            [
             0.9,
             "#4d9221"
            ],
            [
             1,
             "#276419"
            ]
           ],
           "sequential": [
            [
             0,
             "#0d0887"
            ],
            [
             0.1111111111111111,
             "#46039f"
            ],
            [
             0.2222222222222222,
             "#7201a8"
            ],
            [
             0.3333333333333333,
             "#9c179e"
            ],
            [
             0.4444444444444444,
             "#bd3786"
            ],
            [
             0.5555555555555556,
             "#d8576b"
            ],
            [
             0.6666666666666666,
             "#ed7953"
            ],
            [
             0.7777777777777778,
             "#fb9f3a"
            ],
            [
             0.8888888888888888,
             "#fdca26"
            ],
            [
             1,
             "#f0f921"
            ]
           ],
           "sequentialminus": [
            [
             0,
             "#0d0887"
            ],
            [
             0.1111111111111111,
             "#46039f"
            ],
            [
             0.2222222222222222,
             "#7201a8"
            ],
            [
             0.3333333333333333,
             "#9c179e"
            ],
            [
             0.4444444444444444,
             "#bd3786"
            ],
            [
             0.5555555555555556,
             "#d8576b"
            ],
            [
             0.6666666666666666,
             "#ed7953"
            ],
            [
             0.7777777777777778,
             "#fb9f3a"
            ],
            [
             0.8888888888888888,
             "#fdca26"
            ],
            [
             1,
             "#f0f921"
            ]
           ]
          },
          "colorway": [
           "#636efa",
           "#EF553B",
           "#00cc96",
           "#ab63fa",
           "#FFA15A",
           "#19d3f3",
           "#FF6692",
           "#B6E880",
           "#FF97FF",
           "#FECB52"
          ],
          "font": {
           "color": "#2a3f5f"
          },
          "geo": {
           "bgcolor": "white",
           "lakecolor": "white",
           "landcolor": "#E5ECF6",
           "showlakes": true,
           "showland": true,
           "subunitcolor": "white"
          },
          "hoverlabel": {
           "align": "left"
          },
          "hovermode": "closest",
          "mapbox": {
           "style": "light"
          },
          "paper_bgcolor": "white",
          "plot_bgcolor": "#E5ECF6",
          "polar": {
           "angularaxis": {
            "gridcolor": "white",
            "linecolor": "white",
            "ticks": ""
           },
           "bgcolor": "#E5ECF6",
           "radialaxis": {
            "gridcolor": "white",
            "linecolor": "white",
            "ticks": ""
           }
          },
          "scene": {
           "xaxis": {
            "backgroundcolor": "#E5ECF6",
            "gridcolor": "white",
            "gridwidth": 2,
            "linecolor": "white",
            "showbackground": true,
            "ticks": "",
            "zerolinecolor": "white"
           },
           "yaxis": {
            "backgroundcolor": "#E5ECF6",
            "gridcolor": "white",
            "gridwidth": 2,
            "linecolor": "white",
            "showbackground": true,
            "ticks": "",
            "zerolinecolor": "white"
           },
           "zaxis": {
            "backgroundcolor": "#E5ECF6",
            "gridcolor": "white",
            "gridwidth": 2,
            "linecolor": "white",
            "showbackground": true,
            "ticks": "",
            "zerolinecolor": "white"
           }
          },
          "shapedefaults": {
           "line": {
            "color": "#2a3f5f"
           }
          },
          "ternary": {
           "aaxis": {
            "gridcolor": "white",
            "linecolor": "white",
            "ticks": ""
           },
           "baxis": {
            "gridcolor": "white",
            "linecolor": "white",
            "ticks": ""
           },
           "bgcolor": "#E5ECF6",
           "caxis": {
            "gridcolor": "white",
            "linecolor": "white",
            "ticks": ""
           }
          },
          "title": {
           "x": 0.05
          },
          "xaxis": {
           "automargin": true,
           "gridcolor": "white",
           "linecolor": "white",
           "ticks": "",
           "title": {
            "standoff": 15
           },
           "zerolinecolor": "white",
           "zerolinewidth": 2
          },
          "yaxis": {
           "automargin": true,
           "gridcolor": "white",
           "linecolor": "white",
           "ticks": "",
           "title": {
            "standoff": 15
           },
           "zerolinecolor": "white",
           "zerolinewidth": 2
          }
         }
        },
        "uirevision": true,
        "width": 800
       }
      },
      "text/html": [
       "<div>                            <div id=\"048f89c9-e165-48b6-ac25-f4f0f1fd8733\" class=\"plotly-graph-div\" style=\"height:500px; width:800px;\"></div>            <script type=\"text/javascript\">                require([\"plotly\"], function(Plotly) {                    window.PLOTLYENV=window.PLOTLYENV || {};                                    if (document.getElementById(\"048f89c9-e165-48b6-ac25-f4f0f1fd8733\")) {                    Plotly.newPlot(                        \"048f89c9-e165-48b6-ac25-f4f0f1fd8733\",                        [{\"customdata\":[[\"conventional dendritic cell\",null],[\"conventional dendritic cell\",null],[\"plasmacytoid dendritic cell\",null],[\"plasmacytoid dendritic cell\",null],[\"conventional dendritic cell\",null],[\"conventional dendritic cell\",null],[\"plasmacytoid dendritic cell\",null],[\"plasmacytoid dendritic cell\",null],[\"conventional dendritic cell\",null],[\"conventional dendritic cell\",null],[\"plasmacytoid dendritic cell\",null],[\"plasmacytoid dendritic cell\",null],[\"dendritic cell\",\"CD14-positive monocyte\"],[\"dendritic cell\",\"CD14-positive monocyte\"],[\"dendritic cell\",\"CD14-positive monocyte\"],[\"dendritic cell\",\"CD14-positive monocyte\"],[\"dendritic cell\",\"CD14-positive monocyte\"],[\"dendritic cell\",\"CD14-positive monocyte\"],[\"conventional dendritic cell\",null],[\"conventional dendritic cell\",null],[\"conventional dendritic cell\",null],[\"conventional dendritic cell\",null],[\"conventional dendritic cell\",null],[\"conventional dendritic cell\",null],[\"conventional dendritic cell\",null],[\"conventional dendritic cell\",null],[\"conventional dendritic cell\",null],[\"conventional dendritic cell\",null],[\"conventional dendritic cell\",null],[\"conventional dendritic cell\",null],[\"conventional dendritic cell\",null],[\"conventional dendritic cell\",null],[\"conventional dendritic cell\",null],[\"conventional dendritic cell\",null],[\"conventional dendritic cell\",null],[\"conventional dendritic cell\",null],[\"conventional dendritic cell\",null],[\"monocyte\",null],[\"monocyte\",null],[\"neural progenitor cell\",\"embryonic stem cell\"],[\"neural progenitor cell\",\"embryonic stem cell\"],[\"neural progenitor cell\",\"embryonic stem cell\"],[\"neural progenitor cell\",\"embryonic stem cell\"],[\"neural progenitor cell\",\"embryonic stem cell\"],[\"neural progenitor cell\",\"embryonic stem cell\"],[\"monocyte\",null],[\"monocyte\",null],[\"monocyte\",null],[\"monocyte\",null],[\"monocyte\",null],[\"monocyte\",null],[\"monocyte\",null],[\"monocyte\",null],[\"monocyte\",null],[\"monocyte\",null],[\"embryonic stem cell\",null],[\"embryonic stem cell\",null],[\"embryonic stem cell\",null],[\"embryonic stem cell\",null],[\"neural progenitor cell\",\"induced pluripotent stem cell\"],[\"neural progenitor cell\",\"induced pluripotent stem cell\"],[\"neural progenitor cell\",\"induced pluripotent stem cell\"],[\"neural progenitor cell\",\"induced pluripotent stem cell\"],[\"neural progenitor cell\",\"induced pluripotent stem cell\"],[\"neural progenitor cell\",\"induced pluripotent stem cell\"],[\"neural progenitor cell\",\"induced pluripotent stem cell\"],[\"neural progenitor cell\",\"induced pluripotent stem cell\"],[\"neural progenitor cell\",\"induced pluripotent stem cell\"],[\"neural progenitor cell\",\"induced pluripotent stem cell\"],[\"neural progenitor cell\",\"induced pluripotent stem cell\"],[\"neural progenitor cell\",\"induced pluripotent stem cell\"],[\"neural progenitor cell\",\"induced pluripotent stem cell\"],[\"neural progenitor cell\",\"induced pluripotent stem cell\"],[\"neural progenitor cell\",\"induced pluripotent stem cell\"],[\"neural progenitor cell\",\"induced pluripotent stem cell\"],[\"neural progenitor cell\",\"induced pluripotent stem cell\"],[\"neural progenitor cell\",\"induced pluripotent stem cell\"],[\"neural progenitor cell\",\"induced pluripotent stem cell\"],[\"neural progenitor cell\",\"induced pluripotent stem cell\"],[\"neural progenitor cell\",\"induced pluripotent stem cell\"],[\"neural progenitor cell\",\"induced pluripotent stem cell\"],[\"neural progenitor cell\",\"induced pluripotent stem cell\"],[\"neural progenitor cell\",\"induced pluripotent stem cell\"],[\"neural progenitor cell\",\"induced pluripotent stem cell\"],[\"neural progenitor cell\",\"induced pluripotent stem cell\"],[\"neural progenitor cell\",\"induced pluripotent stem cell\"],[\"induced pluripotent stem cell\",null],[\"induced pluripotent stem cell\",null],[\"induced pluripotent stem cell\",null],[\"neural progenitor cell\",\"induced pluripotent stem cell\"],[\"neural progenitor cell\",\"induced pluripotent stem cell\"],[\"neural progenitor cell\",\"induced pluripotent stem cell\"],[\"embryonic stem cell\",null],[\"embryonic stem cell\",null],[\"embryonic stem cell\",null],[\"embryonic stem cell\",null],[\"embryonic stem cell\",null],[\"embryonic stem cell\",null],[\"embryonic stem cell\",null],[\"embryonic stem cell\",null],[\"embryonic stem cell\",null],[\"embryonic stem cell\",null],[\"embryonic stem cell\",null],[\"embryonic stem cell\",null],[\"embryonic stem cell\",null],[\"embryonic stem cell\",null],[\"fibroblast\",null],[\"fibroblast\",null],[\"fibroblast\",null],[\"embryonic stem cell\",null],[\"embryonic stem cell\",null],[\"embryonic stem cell\",null],[\"embryonic stem cell\",null],[\"embryonic stem cell\",null],[\"microglial cell\",null],[\"microglial cell\",null],[\"microglial cell\",\"induced pluripotent stem cell\"],[\"microglial cell\",\"induced pluripotent stem cell\"],[\"microglial cell\",\"induced pluripotent stem cell\"],[\"microglial cell\",\"induced pluripotent stem cell\"],[\"microglial cell\",\"induced pluripotent stem cell\"],[\"microglial cell\",\"embryonic stem cell\"],[\"neural progenitor cell\",\"induced pluripotent stem cell\"],[\"neural progenitor cell\",\"induced pluripotent stem cell\"],[\"neural progenitor cell\",\"induced pluripotent stem cell\"],[\"neural progenitor cell\",\"induced pluripotent stem cell\"],[\"embryonic stem cell\",null],[\"embryonic stem cell\",null],[\"embryonic stem cell\",null],[\"embryonic stem cell\",null],[\"embryonic stem cell\",null],[\"embryonic stem cell\",null],[\"embryonic stem cell\",null],[\"embryonic stem cell\",null],[\"embryonic stem cell\",null],[\"embryonic stem cell\",null],[\"embryonic stem cell\",null],[\"embryonic stem cell\",null],[\"embryonic stem cell\",null],[\"embryonic stem cell\",null],[\"embryonic stem cell\",null],[\"embryonic stem cell\",null],[\"embryonic stem cell\",null],[\"embryonic stem cell\",null],[\"embryonic stem cell\",null],[\"embryonic stem cell\",null],[\"embryonic stem cell\",null],[\"embryonic stem cell\",null],[\"embryonic stem cell\",null],[\"embryonic stem cell\",null],[\"induced pluripotent stem cell\",\"fibroblast\"],[\"induced pluripotent stem cell\",\"fibroblast\"],[\"induced pluripotent stem cell\",\"fibroblast\"],[\"induced pluripotent stem cell\",\"fibroblast\"],[\"induced pluripotent stem cell\",\"fibroblast\"],[\"induced pluripotent stem cell\",\"fibroblast\"],[\"induced pluripotent stem cell\",\"fibroblast\"],[\"induced pluripotent stem cell\",\"fibroblast\"],[\"macrophage\",\"monocyte\"],[\"macrophage\",\"monocyte\"],[\"microglial cell\",null],[\"microglial cell\",null],[\"microglial cell\",\"induced pluripotent stem cell\"],[\"microglial cell\",\"induced pluripotent stem cell\"],[\"microglial cell\",\"induced pluripotent stem cell\"],[\"microglial cell\",\"induced pluripotent stem cell\"],[\"microglial cell\",\"induced pluripotent stem cell\"],[\"microglial cell\",\"induced pluripotent stem cell\"],[\"microglial cell\",\"induced pluripotent stem cell\"],[\"microglial cell\",\"induced pluripotent stem cell\"],[\"microglial cell\",\"induced pluripotent stem cell\"],[\"microglial cell\",\"induced pluripotent stem cell\"],[\"microglial cell\",null],[\"microglial cell\",null],[\"macrophage\",null],[\"macrophage\",null],[\"embryonic stem cell\",null],[\"embryonic stem cell\",null],[\"embryonic stem cell\",null],[\"embryonic stem cell\",null],[\"embryonic stem cell\",null],[\"embryonic stem cell\",null],[\"embryonic stem cell\",null],[\"embryonic stem cell\",null],[\"embryonic stem cell\",null],[\"embryonic stem cell\",null],[\"embryonic stem cell\",null],[\"embryonic stem cell\",null],[\"embryonic stem cell\",null],[\"embryonic stem cell\",null],[\"macrophage\",\"peripheral blood mononuclear cell\"],[\"macrophage\",\"peripheral blood mononuclear cell\"],[\"induced pluripotent stem cell\",\"peripheral blood mononuclear cell\"],[\"induced pluripotent stem cell\",\"peripheral blood mononuclear cell\"],[\"induced pluripotent stem cell\",\"peripheral blood mononuclear cell\"],[\"induced pluripotent stem cell\",\"peripheral blood mononuclear cell\"],[\"macrophage\",\"induced pluripotent stem cell\"],[\"macrophage\",\"induced pluripotent stem cell\"],[\"macrophage\",\"induced pluripotent stem cell\"],[\"macrophage\",\"induced pluripotent stem cell\"],[\"macrophage\",\"peripheral blood mononuclear cell\"],[\"induced pluripotent stem cell\",\"peripheral blood mononuclear cell\"],[\"induced pluripotent stem cell\",\"peripheral blood mononuclear cell\"],[\"macrophage\",\"induced pluripotent stem cell\"],[\"macrophage\",\"induced pluripotent stem cell\"],[\"microglial cell\",\"induced pluripotent stem cell\"],[\"microglial cell\",\"induced pluripotent stem cell\"],[\"microglial cell\",\"induced pluripotent stem cell\"],[\"microglial cell\",\"induced pluripotent stem cell\"],[\"microglial cell\",\"induced pluripotent stem cell\"],[\"microglial cell\",\"induced pluripotent stem cell\"],[\"hematopoietic precursor cell\",\"induced pluripotent stem cell\"],[\"hematopoietic precursor cell\",\"induced pluripotent stem cell\"],[\"hematopoietic precursor cell\",\"induced pluripotent stem cell\"],[\"monocyte\",null],[\"monocyte\",null],[\"monocyte\",null],[\"monocyte\",null],[\"monocyte\",null],[\"monocyte\",null],[\"monocyte\",null],[\"monocyte\",null],[\"monocyte\",null],[\"microglial cell\",null],[\"microglial cell\",null],[\"microglial cell\",null],[\"microglial cell\",null],[\"microglial cell\",null],[\"microglial cell\",null],[\"conventional dendritic cell\",null],[\"conventional dendritic cell\",null],[\"conventional dendritic cell\",null],[\"induced pluripotent stem cell\",\"peripheral blood mononuclear cell\"],[\"induced pluripotent stem cell\",\"peripheral blood mononuclear cell\"],[\"induced pluripotent stem cell\",\"peripheral blood mononuclear cell\"],[\"induced pluripotent stem cell\",\"peripheral blood mononuclear cell\"],[\"induced pluripotent stem cell\",\"peripheral blood mononuclear cell\"],[\"induced pluripotent stem cell\",\"peripheral blood mononuclear cell\"],[\"induced pluripotent stem cell\",\"peripheral blood mononuclear cell\"],[\"induced pluripotent stem cell\",\"peripheral blood mononuclear cell\"],[\"induced pluripotent stem cell\",\"peripheral blood mononuclear cell\"],[\"induced pluripotent stem cell\",\"peripheral blood mononuclear cell\"],[\"induced pluripotent stem cell\",\"peripheral blood mononuclear cell\"],[\"induced pluripotent stem cell\",\"peripheral blood mononuclear cell\"],[\"induced pluripotent stem cell\",\"peripheral blood mononuclear cell\"],[\"induced pluripotent stem cell\",\"peripheral blood mononuclear cell\"],[\"induced pluripotent stem cell\",\"peripheral blood mononuclear cell\"],[\"induced pluripotent stem cell\",\"peripheral blood mononuclear cell\"],[\"induced pluripotent stem cell\",\"peripheral blood mononuclear cell\"],[\"induced pluripotent stem cell\",\"peripheral blood mononuclear cell\"],[\"induced pluripotent stem cell\",\"peripheral blood mononuclear cell\"],[\"induced pluripotent stem cell\",\"peripheral blood mononuclear cell\"],[\"induced pluripotent stem cell\",\"peripheral blood mononuclear cell\"],[\"induced pluripotent stem cell\",\"peripheral blood mononuclear cell\"],[\"induced pluripotent stem cell\",\"peripheral blood mononuclear cell\"],[\"induced pluripotent stem cell\",\"peripheral blood mononuclear cell\"],[\"induced pluripotent stem cell\",\"peripheral blood mononuclear cell\"],[\"induced pluripotent stem cell\",\"peripheral blood mononuclear cell\"],[\"induced pluripotent stem cell\",\"peripheral blood mononuclear cell\"],[\"induced pluripotent stem cell\",\"peripheral blood mononuclear cell\"],[\"induced pluripotent stem cell\",\"peripheral blood mononuclear cell\"],[\"induced pluripotent stem cell\",\"peripheral blood mononuclear cell\"],[\"induced pluripotent stem cell\",\"peripheral blood mononuclear cell\"],[\"induced pluripotent stem cell\",\"peripheral blood mononuclear cell\"],[\"induced pluripotent stem cell\",\"peripheral blood mononuclear cell\"],[\"induced pluripotent stem cell\",\"peripheral blood mononuclear cell\"],[\"induced pluripotent stem cell\",\"peripheral blood mononuclear cell\"],[\"induced pluripotent stem cell\",\"peripheral blood mononuclear cell\"],[\"induced pluripotent stem cell\",\"peripheral blood mononuclear cell\"],[\"induced pluripotent stem cell\",\"peripheral blood mononuclear cell\"],[\"induced pluripotent stem cell\",\"peripheral blood mononuclear cell\"],[\"induced pluripotent stem cell\",\"peripheral blood mononuclear cell\"],[\"induced pluripotent stem cell\",\"peripheral blood mononuclear cell\"],[\"induced pluripotent stem cell\",\"peripheral blood mononuclear cell\"],[\"induced pluripotent stem cell\",\"peripheral blood mononuclear cell\"],[\"induced pluripotent stem cell\",\"peripheral blood mononuclear cell\"],[\"induced pluripotent stem cell\",\"peripheral blood mononuclear cell\"],[\"induced pluripotent stem cell\",\"peripheral blood mononuclear cell\"],[\"induced pluripotent stem cell\",\"peripheral blood mononuclear cell\"],[\"induced pluripotent stem cell\",\"peripheral blood mononuclear cell\"],[\"induced pluripotent stem cell\",\"peripheral blood mononuclear cell\"],[\"induced pluripotent stem cell\",\"peripheral blood mononuclear cell\"],[\"induced pluripotent stem cell\",\"peripheral blood mononuclear cell\"],[\"induced pluripotent stem cell\",\"peripheral blood mononuclear cell\"],[\"induced pluripotent stem cell\",\"peripheral blood mononuclear cell\"],[\"induced pluripotent stem cell\",\"peripheral blood mononuclear cell\"],[\"induced pluripotent stem cell\",\"peripheral blood mononuclear cell\"],[\"induced pluripotent stem cell\",\"peripheral blood mononuclear cell\"],[\"induced pluripotent stem cell\",\"peripheral blood mononuclear cell\"],[\"induced pluripotent stem cell\",\"peripheral blood mononuclear cell\"],[\"induced pluripotent stem cell\",\"peripheral blood mononuclear cell\"],[\"induced pluripotent stem cell\",\"peripheral blood mononuclear cell\"],[\"induced pluripotent stem cell\",\"peripheral blood mononuclear cell\"],[\"induced pluripotent stem cell\",\"peripheral blood mononuclear cell\"],[\"induced pluripotent stem cell\",\"peripheral blood mononuclear cell\"],[\"induced pluripotent stem cell\",\"peripheral blood mononuclear cell\"],[\"induced pluripotent stem cell\",\"peripheral blood mononuclear cell\"],[\"induced pluripotent stem cell\",\"peripheral blood mononuclear cell\"],[\"induced pluripotent stem cell\",\"peripheral blood mononuclear cell\"],[\"induced pluripotent stem cell\",\"peripheral blood mononuclear cell\"],[\"induced pluripotent stem cell\",\"peripheral blood mononuclear cell\"],[\"induced pluripotent stem cell\",\"peripheral blood mononuclear cell\"],[\"induced pluripotent stem cell\",\"peripheral blood mononuclear cell\"],[\"induced pluripotent stem cell\",\"peripheral blood mononuclear cell\"],[\"induced pluripotent stem cell\",\"peripheral blood mononuclear cell\"],[\"induced pluripotent stem cell\",\"peripheral blood mononuclear cell\"],[\"induced pluripotent stem cell\",\"peripheral blood mononuclear cell\"],[\"induced pluripotent stem cell\",\"peripheral blood mononuclear cell\"],[\"induced pluripotent stem cell\",\"peripheral blood mononuclear cell\"],[\"induced pluripotent stem cell\",\"peripheral blood mononuclear cell\"],[\"induced pluripotent stem cell\",\"peripheral blood mononuclear cell\"],[\"induced pluripotent stem cell\",\"peripheral blood mononuclear cell\"],[\"induced pluripotent stem cell\",\"peripheral blood mononuclear cell\"],[\"induced pluripotent stem cell\",\"peripheral blood mononuclear cell\"],[\"induced pluripotent stem cell\",\"peripheral blood mononuclear cell\"],[\"induced pluripotent stem cell\",\"peripheral blood mononuclear cell\"],[\"induced pluripotent stem cell\",\"peripheral blood mononuclear cell\"],[\"induced pluripotent stem cell\",\"peripheral blood mononuclear cell\"],[\"induced pluripotent stem cell\",\"peripheral blood mononuclear cell\"],[\"induced pluripotent stem cell\",\"peripheral blood mononuclear cell\"],[\"induced pluripotent stem cell\",\"peripheral blood mononuclear cell\"],[\"induced pluripotent stem cell\",\"peripheral blood mononuclear cell\"],[\"induced pluripotent stem cell\",\"peripheral blood mononuclear cell\"],[\"induced pluripotent stem cell\",\"peripheral blood mononuclear cell\"],[\"induced pluripotent stem cell\",\"peripheral blood mononuclear cell\"],[\"induced pluripotent stem cell\",\"peripheral blood mononuclear cell\"],[\"induced pluripotent stem cell\",\"peripheral blood mononuclear cell\"],[\"induced pluripotent stem cell\",\"peripheral blood mononuclear cell\"],[\"induced pluripotent stem cell\",\"peripheral blood mononuclear cell\"],[\"induced pluripotent stem cell\",\"peripheral blood mononuclear cell\"],[\"induced pluripotent stem cell\",\"peripheral blood mononuclear cell\"],[\"induced pluripotent stem cell\",\"peripheral blood mononuclear cell\"],[\"induced pluripotent stem cell\",\"peripheral blood mononuclear cell\"],[\"induced pluripotent stem cell\",\"peripheral blood mononuclear cell\"],[\"induced pluripotent stem cell\",\"peripheral blood mononuclear cell\"],[\"induced pluripotent stem cell\",\"peripheral blood mononuclear cell\"],[\"induced pluripotent stem cell\",\"peripheral blood mononuclear cell\"],[\"induced pluripotent stem cell\",\"peripheral blood mononuclear cell\"],[\"induced pluripotent stem cell\",\"peripheral blood mononuclear cell\"],[\"induced pluripotent stem cell\",\"peripheral blood mononuclear cell\"],[\"induced pluripotent stem cell\",\"peripheral blood mononuclear cell\"],[\"induced pluripotent stem cell\",\"peripheral blood mononuclear cell\"],[\"induced pluripotent stem cell\",\"peripheral blood mononuclear cell\"],[\"induced pluripotent stem cell\",\"peripheral blood mononuclear cell\"],[\"induced pluripotent stem cell\",\"peripheral blood mononuclear cell\"],[\"induced pluripotent stem cell\",\"peripheral blood mononuclear cell\"],[\"induced pluripotent stem cell\",\"peripheral blood mononuclear cell\"],[\"induced pluripotent stem cell\",\"peripheral blood mononuclear cell\"],[\"induced pluripotent stem cell\",\"peripheral blood mononuclear cell\"],[\"induced pluripotent stem cell\",\"peripheral blood mononuclear cell\"],[\"induced pluripotent stem cell\",\"peripheral blood mononuclear cell\"],[\"induced pluripotent stem cell\",\"peripheral blood mononuclear cell\"],[\"induced pluripotent stem cell\",\"peripheral blood mononuclear cell\"],[\"induced pluripotent stem cell\",\"peripheral blood mononuclear cell\"],[\"induced pluripotent stem cell\",\"peripheral blood mononuclear cell\"],[\"induced pluripotent stem cell\",\"peripheral blood mononuclear cell\"],[\"induced pluripotent stem cell\",\"peripheral blood mononuclear cell\"],[\"induced pluripotent stem cell\",\"peripheral blood mononuclear cell\"],[\"induced pluripotent stem cell\",\"peripheral blood mononuclear cell\"],[\"induced pluripotent stem cell\",\"peripheral blood mononuclear cell\"],[\"induced pluripotent stem cell\",\"peripheral blood mononuclear cell\"],[\"induced pluripotent stem cell\",\"peripheral blood mononuclear cell\"],[\"induced pluripotent stem cell\",\"peripheral blood mononuclear cell\"],[\"induced pluripotent stem cell\",\"peripheral blood mononuclear cell\"],[\"induced pluripotent stem cell\",\"peripheral blood mononuclear cell\"],[\"induced pluripotent stem cell\",\"peripheral blood mononuclear cell\"],[\"induced pluripotent stem cell\",\"peripheral blood mononuclear cell\"],[\"induced pluripotent stem cell\",\"peripheral blood mononuclear cell\"],[\"induced pluripotent stem cell\",\"peripheral blood mononuclear cell\"],[\"induced pluripotent stem cell\",\"peripheral blood mononuclear cell\"],[\"induced pluripotent stem cell\",\"peripheral blood mononuclear cell\"],[\"induced pluripotent stem cell\",\"peripheral blood mononuclear cell\"],[\"induced pluripotent stem cell\",\"peripheral blood mononuclear cell\"],[\"induced pluripotent stem cell\",\"peripheral blood mononuclear cell\"],[\"induced pluripotent stem cell\",\"peripheral blood mononuclear cell\"],[\"induced pluripotent stem cell\",\"peripheral blood mononuclear cell\"],[\"induced pluripotent stem cell\",\"peripheral blood mononuclear cell\"],[\"induced pluripotent stem cell\",\"peripheral blood mononuclear cell\"],[\"induced pluripotent stem cell\",\"peripheral blood mononuclear cell\"],[\"induced pluripotent stem cell\",\"peripheral blood mononuclear cell\"],[\"induced pluripotent stem cell\",\"peripheral blood mononuclear cell\"],[\"induced pluripotent stem cell\",\"peripheral blood mononuclear cell\"],[\"induced pluripotent stem cell\",\"peripheral blood mononuclear cell\"],[\"induced pluripotent stem cell\",\"peripheral blood mononuclear cell\"],[\"induced pluripotent stem cell\",\"peripheral blood mononuclear cell\"],[\"induced pluripotent stem cell\",\"peripheral blood mononuclear cell\"],[\"induced pluripotent stem cell\",\"peripheral blood mononuclear cell\"],[\"induced pluripotent stem cell\",\"peripheral blood mononuclear cell\"],[\"induced pluripotent stem cell\",\"peripheral blood mononuclear cell\"],[\"induced pluripotent stem cell\",\"peripheral blood mononuclear cell\"],[\"induced pluripotent stem cell\",\"peripheral blood mononuclear cell\"],[\"hematopoietic precursor cell\",null],[\"hematopoietic precursor cell\",null],[\"hematopoietic precursor cell\",null],[\"hematopoietic precursor cell\",null],[\"hematopoietic precursor cell\",null],[\"hematopoietic precursor cell\",null],[\"hematopoietic precursor cell\",null],[\"hematopoietic precursor cell\",null],[\"hematopoietic precursor cell\",null],[\"hematopoietic precursor cell\",null],[\"microglial cell\",\"induced pluripotent stem cell\"],[\"microglial cell\",\"induced pluripotent stem cell\"],[\"microglial cell\",\"induced pluripotent stem cell\"],[\"macrophage\",\"induced pluripotent stem cell\"],[\"macrophage\",\"induced pluripotent stem cell\"],[\"microglial cell\",\"induced pluripotent stem cell\"],[\"microglial cell\",\"induced pluripotent stem cell\"],[\"microglial cell\",\"induced pluripotent stem cell\"],[\"macrophage\",\"induced pluripotent stem cell\"],[\"macrophage\",\"induced pluripotent stem cell\"],[\"macrophage\",\"induced pluripotent stem cell\"],[\"fibroblast\",null],[\"induced pluripotent stem cell\",\"fibroblast\"],[\"induced pluripotent stem cell\",\"fibroblast\"],[\"induced pluripotent stem cell\",\"fibroblast\"],[\"induced pluripotent stem cell\",\"fibroblast\"],[\"induced pluripotent stem cell\",\"fibroblast\"],[\"induced pluripotent stem cell\",\"fibroblast\"],[\"induced pluripotent stem cell\",\"fibroblast\"],[\"fibroblast\",null],[\"fibroblast\",null],[\"induced pluripotent stem cell\",\"fibroblast\"],[\"induced pluripotent stem cell\",\"fibroblast\"],[\"hematopoietic precursor cell\",null],[\"monocyte\",null],[\"monocyte\",null],[\"monocyte\",null],[\"plasmacytoid dendritic cell\",null],[\"dendritic cell\",null],[\"hematopoietic precursor cell\",null],[\"monocyte\",null],[\"monocyte\",null],[\"monocyte\",null],[\"plasmacytoid dendritic cell\",null],[\"dendritic cell\",null],[\"hematopoietic precursor cell\",null],[\"monocyte\",null],[\"monocyte\",null],[\"monocyte\",null],[\"plasmacytoid dendritic cell\",null],[\"dendritic cell\",null],[\"hematopoietic precursor cell\",null],[\"monocyte\",null],[\"monocyte\",null],[\"monocyte\",null],[\"plasmacytoid dendritic cell\",null],[\"dendritic cell\",null],[\"macrophage\",\"monocyte\"],[\"macrophage\",\"induced pluripotent stem cell\"],[\"macrophage\",\"induced pluripotent stem cell\"],[\"macrophage\",\"monocyte\"],[\"macrophage\",\"monocyte\"],[\"conventional dendritic cell\",\"CD34-positive hematopoietic precursor cell\"],[\"conventional dendritic cell\",\"CD34-positive hematopoietic precursor cell\"],[\"conventional dendritic cell\",\"CD34-positive hematopoietic precursor cell\"],[\"plasmacytoid dendritic cell\",\"CD34-positive hematopoietic precursor cell\"],[\"plasmacytoid dendritic cell\",\"CD34-positive hematopoietic precursor cell\"],[\"conventional dendritic cell\",\"CD34-positive hematopoietic precursor cell\"],[\"conventional dendritic cell\",\"CD34-positive hematopoietic precursor cell\"],[\"conventional dendritic cell\",\"CD34-positive hematopoietic precursor cell\"],[\"plasmacytoid dendritic cell\",\"CD34-positive hematopoietic precursor cell\"],[\"plasmacytoid dendritic cell\",\"CD34-positive hematopoietic precursor cell\"],[\"plasmacytoid dendritic cell\",\"CD34-positive hematopoietic precursor cell\"],[\"macrophage\",\"monocyte\"],[\"macrophage\",\"monocyte\"],[\"macrophage\",\"monocyte\"],[\"macrophage\",\"monocyte\"],[\"macrophage\",\"monocyte\"],[\"macrophage\",\"monocyte\"],[\"macrophage\",\"monocyte\"],[\"macrophage\",\"monocyte\"],[\"macrophage\",\"induced pluripotent stem cell\"],[\"macrophage\",\"induced pluripotent stem cell\"],[\"macrophage\",\"induced pluripotent stem cell\"],[\"macrophage\",\"induced pluripotent stem cell\"],[\"macrophage\",\"induced pluripotent stem cell\"],[\"macrophage\",\"induced pluripotent stem cell\"],[\"macrophage\",\"induced pluripotent stem cell\"],[\"macrophage\",\"induced pluripotent stem cell\"],[\"macrophage\",\"induced pluripotent stem cell\"],[\"macrophage\",\"induced pluripotent stem cell\"],[\"macrophage\",\"induced pluripotent stem cell\"],[\"macrophage\",\"monocyte\"],[\"dendritic cell\",\"monocyte\"],[\"monocyte\",null],[\"macrophage\",\"monocyte\"],[\"dendritic cell\",\"monocyte\"],[\"monocyte\",null],[\"macrophage\",\"monocyte\"],[\"dendritic cell\",\"monocyte\"],[\"monocyte\",null],[\"macrophage\",\"monocyte\"],[\"dendritic cell\",\"monocyte\"],[\"monocyte\",null],[\"macrophage\",\"monocyte\"],[\"dendritic cell\",\"monocyte\"],[\"macrophage\",\"induced pluripotent stem cell\"],[\"macrophage\",\"induced pluripotent stem cell\"],[\"macrophage\",\"induced pluripotent stem cell\"],[\"macrophage\",\"induced pluripotent stem cell\"],[\"macrophage\",\"induced pluripotent stem cell\"],[\"macrophage\",\"induced pluripotent stem cell\"],[\"macrophage\",\"induced pluripotent stem cell\"],[\"macrophage\",\"induced pluripotent stem cell\"],[\"macrophage\",\"induced pluripotent stem cell\"],[\"macrophage\",\"induced pluripotent stem cell\"],[\"macrophage\",\"induced pluripotent stem cell\"],[\"conventional dendritic cell\",null],[\"monocyte\",null],[\"monocyte\",null],[\"monocyte\",null],[\"monocyte\",null],[\"monocyte\",null],[\"monocyte\",null],[\"monocyte\",null],[\"monocyte\",null],[\"conventional dendritic cell\",null],[\"conventional dendritic cell\",null],[\"plasmacytoid dendritic cell\",null],[\"plasmacytoid dendritic cell\",null],[\"plasmacytoid dendritic cell\",null],[\"macrophage\",\"monocyte\"],[\"macrophage\",\"monocyte\"],[\"macrophage\",\"monocyte\"],[\"macrophage\",\"monocyte\"],[\"macrophage\",\"monocyte\"],[\"macrophage\",\"monocyte\"],[\"macrophage\",\"monocyte\"],[\"macrophage\",\"monocyte\"],[\"macrophage\",\"monocyte\"],[\"macrophage\",\"monocyte\"],[\"macrophage\",\"monocyte\"],[\"macrophage\",\"monocyte\"],[\"macrophage\",\"monocyte\"],[\"macrophage\",\"monocyte\"],[\"macrophage\",\"monocyte\"],[\"macrophage\",\"monocyte\"],[\"macrophage\",\"monocyte\"],[\"macrophage\",\"monocyte\"],[\"macrophage\",\"monocyte\"],[\"macrophage\",\"monocyte\"],[\"macrophage\",\"monocyte\"],[\"macrophage\",\"monocyte\"],[\"macrophage\",\"monocyte\"],[\"macrophage\",\"monocyte\"],[\"macrophage\",\"monocyte\"],[\"macrophage\",\"monocyte\"],[\"macrophage\",\"induced pluripotent stem cell\"],[\"macrophage\",\"induced pluripotent stem cell\"],[\"macrophage\",\"induced pluripotent stem cell\"],[\"macrophage\",\"induced pluripotent stem cell\"],[\"macrophage\",\"induced pluripotent stem cell\"],[\"macrophage\",\"induced pluripotent stem cell\"]],\"hovertemplate\":\"V0=%{x}\\u003cbr\\u003eV1=%{y}\\u003cbr\\u003eV2=%{z}\\u003cbr\\u003ecell_type=%{customdata[0]}\\u003cbr\\u003eparental_cell_type=%{customdata[1]}\\u003cbr\\u003erank_norm=%{marker.color}\\u003cextra\\u003e\\u003c\\u002fextra\\u003e\",\"legendgroup\":\"\",\"marker\":{\"color\":[0.28790885703785374,0.22778390297684675,0.000036751194413818446,0.20823226754869534,0.20915104740904078,0.000036751194413818446,0.000036751194413818446,0.1842704887908857,0.29717015803013597,0.000036751194413818446,0.000036751194413818446,0.16332230797500918,0.40852627710400585,0.428335170893054,0.3396545387725101,0.34575523704520394,0.56843072399853,0.4260565968393973,0.000036751194413818446,0.43814773980154353,0.000036751194413818446,0.000036751194413818446,0.7305402425578831,0.000036751194413818446,0.5260933480338111,0.4912164645350974,0.6329658213891951,0.39040793825799336,0.5351341418596104,0.6134509371554575,0.000036751194413818446,0.000036751194413818446,0.4450569643513414,0.47100330760749726,0.3656008820286659,0.4213524439544285,0.5343623667769203,0.5465637633223079,0.9780962881293642,0.000036751194413818446,0.000036751194413818446,0.000036751194413818446,0.000036751194413818446,0.000036751194413818446,0.000036751194413818446,0.5485483278206542,0.4764792355751562,0.8255788313120176,0.5479970599044469,0.4990077177508269,0.35273796398382945,0.5921352443954429,0.4101433296582139,0.7869533259830944,0.5745681734656376,0.5049246600514516,0.49974274163910326,0.45806688717383315,0.4125321572951121,0.2816979051819184,0.000036751194413818446,0.000036751194413818446,0.0952223447262036,0.14898934215362,0.000036751194413818446,0.1059904446894524,0.3286659316427784,0.3352076442484381,0.1824329290701948,0.000036751194413818446,0.2644983461962514,0.2909592061742007,0.18618155090040425,0.2392870268283719,0.11381844909959574,0.27346563763322307,0.3432194046306505,0.2958471150312385,0.40782800441014333,0.12094818081587652,0.10746049246600514,0.23969128996692393,0.000036751194413818446,0.2392502756339581,0.11462697537669975,0.5015803013597941,0.26740169055494306,0.2766629915472253,0.18654906284454245,0.2169423006247703,0.324696802646086,0.40312385152517455,0.43311282616685043,0.5379272326350606,0.519220874678427,0.5642778390297685,0.581991914737229,0.6005880191106211,0.5463800073502388,0.2545020213156928,0.000036751194413818446,0.25865490628445426,0.000036751194413818446,0.15009187798603454,0.15270121278941565,0.1460124954061007,0.5289231900036752,0.535428151414921,0.564571848585079,0.28563028298419696,0.32760014700477763,0.3012495406100698,0.2103638368246968,0.35053289231900037,0.30529217199558983,0.000036751194413818446,0.6509371554575524,0.366997427416391,0.643329658213892,0.4817346563763322,0.43766997427416393,0.22458654906284453,0.4049614112458655,0.4135244395442852,0.3863285556780595,0.4243660418963616,0.3679162072767365,0.4739066519661889,0.3136346931275266,0.4961778757809629,0.5101800808526277,0.5571481073134877,0.6101800808526278,0.6393605292171995,0.5658213891951488,0.5813671444321941,0.5374862183020949,0.5668136714443219,0.5517456817346563,0.521866960676222,0.5281881661153988,0.5224917309812569,0.5258728408673282,0.5081955163542815,0.511944138184491,0.5190371187063579,0.5312017640573319,0.2738699007717751,0.25067989709665567,0.20176405733186328,0.23590591694230062,0.224696802646086,0.000036751194413818446,0.3608599779492834,0.23300257258360896,0.40485115766262403,0.38919514884233736,0.39459757442116866,0.3721058434399118,0.4062109518559353,0.5153252480705623,0.518816611539875,0.8502388827636899,0.8675486953325983,0.20904079382579935,0.44990812201396546,0.3709665564130834,0.3631753031973539,0.28393972804116135,0.7170525542080117,0.21003307607497243,0.1507901506798971,0.49051819184123485,0.5166482910694598,0.4124954061006983,0.3908122013965454,0.4969864020580669,0.5341051084160235,0.5428151414920985,0.587651598676957,0.6257993384785006,0.5116501286291805,0.5803748621830209,0.2533259830944506,0.2818816611539875,0.4639103270856303,0.5764792355751562,0.5815141492098493,0.5797868430723998,0.5578463800073502,0.7019110621095186,0.7485483278206542,0.36725468577728776,0.4116133774347666,0.3375229694965086,0.3425946343256156,0.5496141124586549,0.5436604189636163,0.5369349503858876,0.461337743476663,0.4545755237045204,0.40128629180448366,0.3869900771775083,0.35611907386990077,0.5914369717015803,0.33359059169423005,0.000036751194413818446,0.24987137081955163,0.239470782800441,0.24384417493568541,0.2276736493936053,0.37776552737963986,0.000036751194413818446,0.1635428151414921,0.43939728041161336,0.5202131569276002,0.30433664094083057,0.5649026093348034,0.5306504961411246,0.56313855200294,0.537045203969129,0.501029033443587,0.5263873575891217,0.23351708930540244,0.25005512679162073,0.3462330025725836,0.5126791620727673,0.42954796030871,0.45887541345093713,0.23314957736126424,0.32925395075339947,0.5117603822124219,0.17614847482543183,0.22006615214994488,0.2667401690554943,0.29852995222344725,0.3242557883131202,0.17725101065784638,0.3475927967658949,0.30393237780227855,0.2661521499448732,0.2893789048144065,0.3163175303197354,0.32907019478133037,0.3003675119441382,0.30904079382579935,0.2721058434399118,0.2855567805953694,0.1617787578096288,0.42219772142594636,0.2444321940463065,0.28460124954061006,0.18404998162440278,0.23590591694230062,0.2424108783535465,0.24615950018375596,0.44513046674016904,0.36302829841969864,0.38614479970599047,0.38713708195516355,0.32958471150312385,0.3556045571481073,0.37754502021315695,0.33899301727306136,0.27515619257625873,0.2273061374494671,0.2752664461595002,0.2304667401690555,0.2646453509739067,0.2412348401323043,0.20723998529952223,0.23921352443954427,0.23572216097023152,0.36865123116501286,0.4352443954428519,0.37475192943770674,0.44373392135244394,0.34615950018375596,0.2798235942668137,0.30117603822124217,0.32319000367511946,0.3127159132671812,0.30011025358324145,0.27170158030135977,0.27556045571481075,0.19573686144799707,0.3216464535097391,0.22278574053656744,0.2160970231532525,0.2411980889378905,0.3910327085630283,0.4145167217934583,0.39570011025358326,0.37640573318632853,0.41969864020580666,0.46280779125321575,0.4069459757442117,0.38239617787578095,0.31385520029400954,0.4015067989709666,0.36240352811466375,0.2700845277471518,0.24898934215361998,0.2027563395810364,0.25189268651231167,0.19154722528482176,0.34652701212789416,0.31962513781697904,0.3712973171628078,0.34733553840499815,0.3519661889011393,0.389268651231165,0.3886438809261301,0.3962513781697905,0.2822491730981257,0.29595736861447997,0.30257258360896727,0.29261300992282246,0.2689819919147372,0.000036751194413818446,0.24516721793458288,0.000036751194413818446,0.25685409775817714,0.3420801176038221,0.333811098860713,0.3404998162440279,0.31183388460124956,0.2599044468945241,0.2951855935317898,0.21848585079015068,0.19191473722895994,0.2816979051819184,0.16809996324880558,0.2828739434031606,0.37772877618522605,0.3922454979786843,0.3874310915104741,0.3793090775450202,0.29838294744579197,0.45652333700845277,0.37085630282984194,0.3141492098493201,0.4653068724733554,0.3167585446527012,0.29015067989709664,0.24751929437706727,0.23678794560823227,0.30628445424476297,0.3163175303197354,0.34950385887541346,0.3966188901139287,0.38059536934950383,0.36361631753031975,0.3233370084527747,0.36166850422638736,0.45303197353914004,0.5031606027195884,0.4929805218669607,0.2774715178243293,0.3255420801176038,0.26159500183755974,0.3589489158397648,0.2740536567438442,0.2529952223447262,0.3776552737963984,0.38570378537302463,0.3946343256155825,0.18717383314957736,0.2619992649761117,0.000036751194413818446,0.2625137816979052,0.2695332598309445,0.29250275633958106,0.37842704887908857,0.3940095553105476,0.3391032708563028,0.41271591326718116,0.3371922087467843,0.34715178243292905,0.2739434031606027,0.34406468210216834,0.34457919882396176,0.2793090775450202,0.22047041528849687,0.2551635428151415,0.33531789783167953,0.30150679897096655,0.35626607864755605,0.3061374494671077,0.2822491730981257,0.22940095553105475,0.000036751194413818446,0.2996692392502756,0.000036751194413818446,0.2599411980889379,0.21800808526277105,0.000036751194413818446,0.000036751194413818446,0.000036751194413818446,0.1902241822859243,0.000036751194413818446,0.34424843807423744,0.4762587284086733,0.46960676221977216,0.6199558985667034,0.6479603087100331,0.4679162072767365,0.47324513046674016,0.514369717015803,0.6274163910327085,0.5612274898934215,0.518412348401323,0.6769570011025359,0.607092980521867,0.5392870268283719,0.6485115766262404,0.5968393972804116,0.24715178243292907,0.7032708563028298,0.6199926497611172,0.5598676957001103,0.5075339948548327,0.5625137816979052,0.6388827636898199,0.000036751194413818446,0.6257258360896729,0.8131936787945608,0.831165012862918,0.000036751194413818446,0.5930172730613745,0.4531054759279677,0.6751561925762587,0.8289966923925027,0.7526277104005881,0.000036751194413818446,0.5489158397647923,0.000036751194413818446,0.5228959941198089,0.5611907386990077,0.4663359059169423,0.000036751194413818446,0.000036751194413818446,0.000036751194413818446,0.48537302462330023,0.5069092245497979,0.4563763322307975,0.000036751194413818446,0.39867695700110256,0.000036751194413818446,0.4692760014700478,0.000036751194413818446,0.4729511209114296,0.000036751194413818446,0.000036751194413818446,0.388460124954061,0.000036751194413818446,0.3209849320102903,0.5978316795295847,0.32458654906284456,0.3649026093348034,0.5122013965453878,0.000036751194413818446,0.5392502756339581,0.34391767732451306,0.28915839764792356,0.000036751194413818446,0.9032341051084161,0.000036751194413818446,0.000036751194413818446,0.7942300624770305,0.2916574788680632,0.9153619992649761,0.6904446894524072,0.6914369717015802,0.6430356486585814,0.612752664461595,0.6647923557515619,0.49533259830944504,0.6575523704520397,0.6895259095920617,0.42954796030871,0.4458287394340316,0.34072032341051084,0.998382947445792,0.7270856302829842,0.7656743844174936,0.9953693495038589,0.9894156560088203,0.8523704520396913,0.9986034546122748,0.9551267916207277,0.9267548695332598,0.9958838662256523,0.9487320837927232,0.8381844909959574,0.9978684307239986,0.9828371922087468,0.5464167585446527,0.6000735023888276,0.7452407203234105,0.6635795663359059,0.6811098860712973,0.5963248805586182,0.8156560088202867,0.7178978316795296,0.6265711135611908,0.6110621095185593,0.838257993384785,0.9949650863653069,0.5286291804483646,0.773686144799706,0.6644983461962514,0.9996324880558618,0.6253950753399485,0.7403895626607865,0.68864388092613,0.7187431091510474,0.41429621462697536,0.48974641675854463,0.7704152884968761,0.49099595736861446,0.4776552737963984,0.2205071664829107,0.3253583241455347,0.5251745681734656,0.4691657478868063,0.5814773980154355,0.44075707460492464,0.4972436604189636,0.5760014700477766,0.9524072032341051,0.615803013597942,0.41264241087835357,0.38691657478868063,0.5190738699007718,0.5177875780962882,0.5733553840499817,0.35729511209114295,0.39151047409040796,0.5099228224917309,0.5015803013597941,0.5269753766997427,0.3973171628077913,0.3642043366409408,0.66111723631018,0.5142227122381477,0.000036751194413818446,0.2501653803748622,0.34435869165747884,0.462146269753767,0.000036751194413818446,0.000036751194413818446,0.338257993384785,0.000036751194413818446],\"coloraxis\":\"coloraxis\",\"symbol\":\"circle\",\"size\":4},\"mode\":\"markers\",\"name\":\"\",\"scene\":\"scene\",\"showlegend\":false,\"x\":[4.033545,4.415716,1.5381336,2.529716,3.9789138,4.33386,1.5897036,1.8277903,3.9708915,4.189381,1.6225762,1.9853268,-0.37505,-0.25591683,-0.23001534,-0.05185616,0.1565218,-0.5168752,3.1332855,2.8940043,2.8678536,2.8362155,2.5355976,1.1174886,2.5949416,2.6041706,2.5944161,2.376409,2.4044042,2.4504063,3.0828958,3.0808153,3.2545228,2.9980469,2.8611426,2.7174098,2.636125,5.4616256,5.9506702,-1.3777275,-1.3958565,-1.4322096,-1.4329447,-1.4526738,-1.4424701,3.1626744,3.2171192,3.0824413,3.2227197,3.128621,3.2201805,3.040895,3.1694074,3.4747148,3.3505273,-0.6060197,-0.6110444,-0.89268625,-0.9296746,-0.5954631,-2.1908364,-2.206319,-1.48652,-1.6413466,-1.9968082,-2.0015585,-1.1526463,-0.2710774,-2.1294534,-1.0620687,-0.74744844,0.5979928,-1.4123517,-0.20237851,-1.7676367,-1.4656963,-0.7742769,1.0450532,0.5666758,-0.15163636,-1.5863266,-0.8919508,-1.7150586,-0.9497033,-1.1922187,0.6795356,-2.3019552,-2.248511,-2.0010474,1.4456062,1.5431921,1.85885,0.7224715,1.2551446,0.28670263,0.15135586,-0.08660376,-0.0036560297,0.033107877,-1.823864,-1.8065138,-1.8117306,-1.8246447,-1.8538494,-1.792067,-1.879954,1.4084597,1.3927987,1.3561575,-2.1339817,-2.1422882,-2.1926503,-1.8602915,-1.8804984,2.38914,2.3467891,2.1482043,2.0676625,2.616777,2.0241036,2.564529,2.348455,-0.44911718,-0.7655784,-0.68045837,-0.68340874,-1.2050287,-0.6793092,-0.99111307,-0.6083258,-0.5259397,-0.8840342,-1.1143814,-1.107052,-1.0192397,-0.73800945,-0.87551844,-0.8101619,-0.5673791,-0.75030386,-0.26699692,-0.5696625,-0.28920048,-0.35747272,-0.78719956,-0.81107366,-0.8258514,-3.310701,-3.27211,-3.520909,-2.0450654,-1.7761024,-1.5778661,-2.0390894,-1.9382813,-2.5682259,-2.5556176,-2.6130133,0.89660144,0.8174453,3.0202422,3.0218472,1.3766129,1.3815174,2.6367843,3.8153367,3.246169,3.585699,2.7900896,3.0413046,2.5051908,2.7705815,2.629479,2.7541475,1.0935414,1.0776539,0.838418,0.2761916,0.21934605,1.1212702,0.6097156,1.0608394,0.10266054,-1.204524,-1.0207568,-0.38066077,0.28110695,0.28552127,0.31721377,0.20435381,5.3051486,5.664717,-1.8658893,-1.4157144,-1.91819,-1.5800864,3.708353,3.6236115,3.50951,3.5798368,4.9821424,-1.3658082,-1.5667892,3.1752205,4.1267138,4.095015,4.233318,4.226143,4.289364,4.268739,4.3039885,3.4917736,2.9327002,2.7676134,6.985934,7.065292,6.7886643,6.9977174,6.7739162,7.068194,7.1101327,7.070501,7.085405,3.2599936,3.1109638,3.3354144,3.399331,3.535965,3.8759556,6.463371,6.4015574,6.308713,-3.3397162,-3.1850357,-3.3093865,-3.7038064,-3.8802388,-2.8670819,-3.5623949,-2.9369366,-2.9444544,-2.8885999,-2.8461308,-3.4332824,-3.8447843,-3.516578,-2.8515735,-3.073824,-3.1800761,-2.620427,-3.6344001,-3.5736384,-3.6079183,-3.2990885,-2.9247966,-3.0317774,-2.5586438,-2.7341323,-2.782436,-2.2816796,-2.7673645,-2.7069325,-2.7127602,-2.8205736,-2.7348454,-2.7982006,-2.954201,-3.1478004,-3.2309282,-3.2284164,-3.8634815,-3.9197075,-3.9209213,-2.5437412,-2.269239,-2.6855102,-2.4954033,-2.7639728,-3.1096427,-2.9892833,-2.8519616,-2.632187,-2.844442,-3.0541983,-3.5627403,-3.8733904,-3.8551118,-3.6119301,-3.5562425,-3.4013503,-1.9520798,-1.6724157,-1.9241035,-1.83165,-1.885855,-1.6107194,-1.787461,-3.0985055,-3.3457823,-2.960682,-3.9256375,-3.6127956,-3.3266935,-3.012927,-3.0579894,-3.0165684,-3.2985566,-3.2670524,-3.060575,-3.1934671,-3.1694067,-2.4216485,-2.4770274,-2.3747973,-3.6607814,-3.6946516,-3.7071126,-3.2623308,-3.0494905,-3.3481562,-2.8995476,-2.8083692,-2.8713381,-2.6998098,-2.4740474,-2.6605344,-2.8034782,-2.767952,-2.7286062,-2.9840045,-3.0120156,-3.6051428,-3.2817147,-4.7484665,-2.3348913,-2.309406,-2.3589053,-2.6025984,-3.7755706,-2.6678886,-2.8538632,-2.9266596,-2.194729,-3.1135135,-2.8083878,-2.9751344,-3.4822052,-3.2941442,-4.167572,-2.2835376,-2.3447664,-2.303602,-3.1656852,-2.8525257,-3.055089,-2.298356,-2.3481467,-2.1303663,-3.513156,-3.6769242,-3.7164063,-2.8553696,-2.1491208,-2.6639442,-2.746735,-2.7534285,-2.7555037,-3.221177,-3.2949576,-3.2916,-2.9159284,-2.7325656,-2.9307384,-1.3731322,-1.2825474,-1.1506579,-1.7832274,-2.9290328,-2.9892702,-3.191189,-3.1413305,-2.8999753,-3.5078676,-3.439011,-2.9356165,-2.7780092,-2.9217072,-2.7809567,-3.315331,-3.7583158,-3.1908717,3.868113,3.925959,3.1953921,2.6493876,2.335191,2.1375957,2.012976,2.03739,2.1197898,1.9780853,0.9617014,0.98826313,0.97866154,0.9561815,0.94407606,0.87444115,1.2379506,1.2340915,0.8488841,0.91585493,1.0514362,1.3314028,-1.4645056,-1.273421,-1.4192114,-1.3358155,-2.5909858,-1.4941895,-1.1462325,1.7478976,1.6214607,-0.56411964,-0.8657561,1.0633202,2.507815,2.0191321,2.1673582,0.4133408,2.751915,1.5445414,3.654284,4.256493,3.470099,0.7203145,4.201883,1.4545932,4.3166995,3.5006022,3.1927629,0.70931745,3.3657074,1.9220247,4.1167927,3.7302628,3.3880053,0.73705935,3.2557201,-1.4909204,-2.0923774,-2.4642057,-1.4377759,-1.3267283,-1.0811075,-1.1568682,-1.2063539,-0.8952856,-0.56727076,-0.38260365,-0.07612038,-0.143278,-0.23924118,-0.014223814,-0.08084047,-1.8519013,-1.6107521,-0.9518529,-1.8697429,-1.8384664,-0.871035,-1.7183931,-0.9105191,1.5660353,1.5489752,1.6511588,1.8049672,1.5333543,1.8778095,1.9846458,1.7590177,3.3733678,3.38523,3.0843701,0.8208666,0.6240854,0.2432425,0.71326184,0.457793,0.26970112,0.5102649,0.254233,0.33693886,0.88709307,0.31807017,0.23388696,0.9657273,0.4154755,1.025691,0.7460501,0.25217497,0.43314373,0.77393436,0.51832306,0.053503036,0.38346934,1.0346284,0.34142983,-0.014346838,0.9295957,3.8894958,3.2703257,3.2064,2.1781359,5.700862,5.606061,5.2518353,5.3844013,2.7049022,2.379632,0.6173842,0.43508387,0.3864435,2.4104292,1.1249716,0.96073794,1.8207552,0.3363309,2.3706112,0.98039365,1.4100366,0.57810354,1.5972238,2.3839977,1.4077387,1.4498885,1.9506123,2.0413103,2.4556694,1.4291036,1.5916522,1.6560841,1.7428548,2.2975664,0.8317852,0.9337399,1.4133711,-1.9655693,-1.8718247,0.088285685,0.21051335,0.19540524,0.2586789,0.11031866,-0.09501982],\"y\":[-1.157732,-0.5567701,0.8700577,0.42517346,-1.0583321,-0.4531283,0.99919736,1.0080566,-1.101233,-0.48171028,1.100528,1.3438522,-4.684259,-3.4403765,-3.202575,-2.8629599,-3.016507,-3.331241,1.1397196,0.07932979,-1.6057429,-1.7376906,1.239929,-2.533971,-2.214989,-1.8403753,-1.9550105,-2.0411308,-1.747918,-1.9512018,-0.9702563,-1.9521946,-1.570542,-1.318943,-0.4195731,-0.14257535,0.39986753,-5.821054,-7.662424,1.5964737,1.6081582,1.4379284,1.5666809,1.6232522,1.51916,-4.30989,-4.3867946,-4.2291245,-4.8177,-4.151354,-4.2142315,-3.8444932,-4.1082263,-5.417412,-4.933897,1.7299579,1.697786,2.0664942,2.0712268,3.72629,2.9049852,3.0559266,3.8842175,3.786284,3.3345625,3.542637,3.895134,4.4409695,3.0165024,3.6970124,4.678604,4.869532,3.7738354,3.7810314,3.6101387,3.9331763,4.640672,4.9837704,4.392084,3.663679,3.7893257,3.958488,3.7754557,3.908583,3.6653423,4.4908247,5.5907936,5.5888805,5.0646086,5.9596148,6.224846,6.180044,3.1505167,4.879168,3.7831573,3.8633378,4.357561,4.3478756,4.491857,1.5052522,1.489115,1.5091063,1.5256642,1.7551832,1.6263319,1.7703536,1.7846665,1.807082,1.8488992,3.0003498,2.950042,3.0289166,1.6928748,1.902693,-2.605115,-2.8847287,-0.62235117,-0.79446566,-0.13641992,-0.0337933,-2.619335,-1.949231,0.5769639,0.6264498,1.0270588,0.25749514,2.165182,2.3620927,2.304471,2.1024292,2.0183234,1.2291291,1.8670598,1.7605942,1.5436871,2.0099075,1.7992973,2.0596626,3.1677992,3.1564357,3.2217937,2.7474205,3.4133062,2.7881882,3.1020772,3.070449,2.8742971,1.5638014,1.7345004,1.2102424,2.249794,2.5244193,2.5850348,2.4534976,2.3926623,3.4887357,3.5757856,3.405989,-1.3402812,-1.1629809,-1.3383074,-1.2890736,1.6039677,1.6827873,-3.526327,-4.4164248,-4.8516083,-4.497988,-3.3459814,-3.4903796,-3.227352,-2.8656888,-1.4099845,-1.3111504,-1.309305,-1.3155512,4.87517,4.280527,3.818425,4.923008,4.813714,5.2349787,4.2533126,3.5327003,3.4080985,3.890996,3.301919,3.2842305,3.1959596,3.2039037,-4.6912503,-4.627069,3.3442216,3.11126,3.3083506,3.1626623,-0.4520115,-0.049877465,0.77051413,0.045727998,-5.025575,3.1692438,3.1265407,-0.7034817,-2.2582357,-1.0920812,-1.0757804,-1.1302657,-1.0602369,-1.1540266,-1.1320071,2.415765,2.0462768,1.9138399,-3.2417612,-3.4481902,-2.279364,-3.4828043,-3.3307753,-3.2469623,-3.2859375,-3.4495552,-3.4376438,-2.6050293,-2.8056529,-2.723365,-2.8632443,-2.8753579,-3.2617967,2.3512328,2.4955258,2.382974,0.9237727,0.8139419,0.72762096,1.0814779,1.1340425,0.9715575,0.9245149,0.9967828,0.8365253,0.8241597,0.7474481,0.988829,0.7023859,0.9422846,0.9201536,0.9548682,1.085279,1.2107112,1.3792557,1.4429727,1.2966633,0.93667674,0.6917366,0.749115,1.158371,1.3683712,1.6415484,1.358645,1.6011515,1.3815702,1.7046576,1.6772821,0.7279831,0.773111,0.75717586,0.211005,0.19023432,0.19879329,0.8210069,0.7949466,0.83001184,1.6475261,1.2621177,1.5579036,1.5657306,1.7246075,1.5666785,1.4360915,1.142886,1.4230764,1.6439925,1.5097886,1.2682048,0.82883334,0.7951732,1.1891791,1.2394902,1.8194594,1.2471342,0.9998697,1.2132483,1.0761261,1.2968861,1.0420115,1.0438019,1.6408036,1.415408,1.9994371,0.41784227,0.685027,1.1205374,0.78001916,0.7745106,0.7393409,2.023858,2.0965984,2.1018085,2.0656722,1.9281758,2.5073063,2.3403552,2.4979112,1.2638386,1.2428752,1.3781399,1.3016158,1.1779883,1.2617502,1.028957,0.8937124,0.97846246,1.8233035,1.6286203,1.8676043,0.8656069,0.8835398,0.88514495,0.6537378,0.57547134,1.1140848,0.8910998,1.141098,2.1748319,2.0862224,2.0678008,2.0084655,1.8079338,1.6827351,1.5944821,1.4465255,1.6185058,1.2022074,0.8971163,1.1085719,1.2659155,1.2687652,0.73868454,2.2477448,2.2240353,2.5933084,2.0847523,1.8879042,1.9737467,1.322613,1.4258523,1.2733363,1.876691,1.2609826,1.2201494,1.8178592,1.7962192,1.6180217,1.5824244,1.6272342,1.7258903,0.3263399,0.2733626,0.26460338,1.5759828,1.9465456,1.5683095,1.9125125,1.9580837,1.932344,1.8942931,1.9495689,1.846792,0.697525,0.69212276,0.5729549,0.7928536,0.6948073,0.5047324,0.8405974,0.86503506,0.874401,0.7637253,0.8041965,1.0882406,4.6624393,3.7731364,3.945999,3.518806,1.1400079,1.2176268,1.1589338,1.8519803,2.3088756,2.0536788,-0.53390193,-0.52381337,-0.50973094,-0.13111019,-0.11246076,-0.22174498,-0.7496325,-0.7113937,-0.39177474,-0.48160365,0.37986937,1.531636,3.2778232,3.406958,3.3509326,3.493121,2.5638182,5.7807217,4.530729,2.363394,2.0422122,3.980497,4.0326586,0.50546443,-4.704924,-4.0196996,-3.8354018,0.4716609,-2.4235485,0.66841096,-4.0378966,-3.8354056,-3.434621,0.42081904,-2.001874,0.8745265,-3.6279924,-3.2560575,-3.1543193,0.5668479,-1.5383295,0.46468702,-3.6086843,-3.1207929,-3.1379793,0.61126757,-1.6871485,-3.9909365,-2.5758755,-2.631797,-3.9212887,-4.291029,-1.1097898,-1.2090782,-1.2603847,-0.34962866,-0.70598567,-1.0983971,-0.8991988,-0.9771229,-0.30947205,-0.23092929,-0.36896226,-1.6590465,-1.93513,-2.482159,-1.5227197,-1.544357,-3.1009543,-1.7224933,-3.088876,-2.7896214,-1.2893571,-1.098114,-1.1197398,-2.462463,-0.964,-1.0195965,-1.0529323,0.43089503,0.3915493,0.122247815,-4.5108685,-5.1070395,-3.7023036,-4.084936,-6.0356054,-3.090483,-2.8302708,-5.357304,-3.2307055,-4.9294195,-6.0437007,-3.8213646,-4.8062806,-6.0268683,2.4456875,2.1211948,0.99898815,0.9559097,1.4075236,1.3138211,-0.7532263,-0.64980197,0.1675928,-0.22772989,-0.8828889,-5.0091963,-4.4807305,-5.0287137,-4.2560053,-6.775157,-2.9174855,-3.0540261,-2.8536818,-2.9922674,-1.2677319,-1.1807746,-2.1283824,0.067409605,0.082610995,-2.0535333,-1.9507326,-2.8984568,-3.375131,-3.687216,-1.568914,-2.0540621,-3.3981326,-4.9832134,-4.442041,-1.8563255,-1.959396,-2.8303096,-3.2222455,-3.4653094,-1.6061431,-2.2658904,-2.8830636,-3.2497585,-3.6710446,-1.7452112,-2.4910698,-3.3760896,-3.6327214,-1.7782775,-1.7215694,-2.0367866,0.14748906,0.18410589,0.29956892,0.14511725,0.225195],\"z\":[4.244139,5.4114237,3.0680654,3.4803526,4.1753225,5.7686386,2.9958742,3.0573547,4.1843634,5.174161,2.9491427,3.0425024,-2.5359454,-1.6742362,-1.1024419,-0.88947827,-0.9481192,-1.7232686,2.132478,3.3677106,3.2834508,3.8266828,1.9421822,8.931906,4.354556,4.6985474,4.9275184,4.292038,4.8267117,4.9432583,5.244733,5.174481,4.344676,4.7162557,2.4411192,2.051006,1.7506343,1.4772744,2.2403293,-5.612531,-5.638094,-5.530098,-5.4494753,-5.3664007,-5.435124,2.4082375,2.2353334,2.2239537,2.531507,2.208025,2.3888042,2.1266825,2.269329,2.6762366,2.57869,-0.9299869,-0.89486563,-0.9623568,-0.9889117,-3.2422676,-1.1765113,-1.3150256,-2.3892357,-2.0621872,-2.5278196,-2.8407924,-3.1728747,-2.7429712,-1.6625233,-2.6102984,-2.6091158,-2.9521768,-2.6728458,-3.5184622,-2.9382594,-3.260665,-2.290347,-2.734215,-3.2801027,-3.4595037,-2.6994965,-3.2020729,-2.791417,-3.1708164,-2.7953107,-3.4484735,-3.9359255,-3.938223,-3.5307622,-5.0139647,-4.8911886,-5.0266523,-2.042758,-3.1553552,-1.8981278,-1.546924,-0.6865106,-0.82503575,-0.67883474,0.6614199,0.6708091,0.6738105,0.60752255,0.23492269,0.34310025,0.11655258,-2.8750784,-2.880035,-2.9412658,-0.98994106,-0.98388004,-1.0568664,0.20995522,-0.07372796,-2.2357256,-2.3396513,-2.5911202,-2.0933523,-4.0422397,-3.2308908,-2.3220809,-1.9694384,-2.1057472,-1.9277593,-1.8819703,-1.7246757,-3.1841283,-2.9918973,-3.2731252,-1.5236087,-1.1198621,-1.2490389,-0.46461934,-0.033959236,-0.13054971,-0.78388757,-0.9309277,-1.0701107,-0.60340357,-0.40739122,0.022063725,0.0086067235,-0.9464605,0.37882686,0.86609817,0.8733542,0.9494231,-2.4999952,-2.5291572,-2.3142936,-1.6862081,-1.6486028,-1.5221466,-1.7928334,-1.7078243,-2.2490447,-2.3420062,-2.2361186,-1.697601,-1.4748527,-2.1336524,-2.146713,-3.7491863,-3.7837405,-1.1658252,0.2633155,-1.6602738,-1.2776991,-0.8308911,0.81321234,-0.8469737,-0.8344996,-0.6129157,-0.6728014,-0.8877241,-0.8889643,-0.5494521,0.2713145,0.17395242,-1.579652,-1.3012671,-0.9728674,0.1632653,-1.045666,-0.84625846,-1.5839987,0.14615878,0.13303037,0.2880273,0.39502442,-1.9586282,-1.8091891,-2.250317,-2.021703,-2.2237637,-2.042204,-3.1445558,-3.8331811,-3.83013,-3.214235,-2.3002434,-2.067254,-2.0832562,-1.8414266,-1.5111513,0.44862884,0.17333873,0.31708696,0.31539452,0.24851857,0.18000486,-0.9865696,-0.49467194,-0.5227812,3.29528,3.3663726,2.6923816,3.5264957,3.6993308,2.6033041,2.562882,2.628143,2.7018902,-1.6236023,-1.6822551,-1.7068315,-2.1601977,-2.3103607,-3.8672185,2.438895,2.594733,2.8134255,-1.3676933,-1.1409405,-1.4594951,-0.99628955,-1.4319384,-0.8271441,-0.096233584,-0.81190884,-0.5945158,-0.6715746,-0.57501256,-2.1024134,-1.6621858,-1.9315418,-1.5147752,-1.0108554,-1.1778063,-0.8653559,-1.5902531,-1.686929,-1.4209865,-1.907426,-2.4528918,-2.1660316,-0.6816262,-0.81361663,-1.6579068,-1.2686586,-1.5759724,-1.1964468,-1.9194076,-1.3980558,-0.3081202,-0.33216068,-0.79226935,-0.6367992,-0.6502795,-0.57172984,-1.6084702,-1.575714,-1.6406465,-1.6334403,-1.3450094,-1.6458384,-1.3816969,-1.8225486,-0.6540603,-0.6106746,-0.83962274,-1.6324518,-1.73356,-1.4677496,-0.66297215,-0.1436234,-0.1708576,-1.3038409,-1.3644556,-1.2217673,-1.6754428,-2.107678,-1.6878148,-1.7008094,-1.6308877,-1.8850759,-1.8078052,-1.644824,-1.9796071,-1.6697764,0.5263103,0.35802212,-0.6863548,-0.9594955,-0.9137279,-0.88049376,-2.2480462,-2.2206945,-2.5067666,-2.1545525,-2.0378678,-2.7086022,-2.5660937,-2.6916614,-1.4896516,-1.3848181,-1.3630911,-0.99396914,-0.93678635,-0.9827105,-0.9891603,-0.68517506,-0.87929803,-1.2696302,-1.1247438,-1.27912,-0.5128108,-0.5949262,-0.6616513,-0.3731999,-0.26903847,-1.1977086,-1.7758867,1.2367587,-2.466351,-2.3873398,-2.3024669,-1.4899592,1.123531,-1.6176919,-1.5471464,-1.289278,-1.5952487,-0.61751807,-0.10949411,-0.36551636,-1.2343861,-1.3975868,-0.6112589,-2.4943805,-2.4895132,-2.5977547,-1.9164889,-1.5654624,-1.7883025,-1.2988648,-1.3589588,-1.5592649,-1.3080755,-1.4906032,-1.4315805,-1.8208371,-1.6610608,-1.4197725,-1.3862154,-1.5109775,-1.4376844,-0.78252053,-0.64310247,-0.6212963,-1.7357816,-1.7346879,-1.7595791,-3.1278958,-3.109751,-3.2794874,-2.6493905,-1.7895442,-1.6954882,-1.3100289,-0.9340299,-0.46345404,-1.0177851,-0.76198524,-0.105660886,-0.5458153,-0.6864712,-0.7290727,-0.95782095,-0.76636595,-0.864945,0.08297048,-0.8800978,0.040823914,-0.24949653,2.255284,2.294879,1.8799441,1.4470197,0.7862998,0.8537251,-0.61759776,-0.5425604,-0.5983199,0.675714,0.8424391,-1.0774878,0.11305138,0.065044545,0.6756192,0.63112503,0.90279716,-3.374584,2.4086707,2.0155194,2.177928,1.8541907,-0.5989773,0.13715948,1.3733269,-2.8971548,-2.5184147,1.2878939,1.4131739,0.56564456,4.3630037,3.028755,2.6745296,2.9650621,4.2362185,0.5671431,3.465212,2.461663,2.3995512,3.1623156,4.458617,0.4536073,2.9236572,2.1119096,1.8224555,2.8623474,3.4561908,0.7289278,2.8903582,2.0727675,1.8294765,2.8960447,3.3144014,5.99933,4.810967,5.257303,5.8829494,6.153305,2.1428673,2.5672972,2.2623801,2.3092554,1.8939917,1.140843,0.98135763,1.2486717,1.7047851,1.4855344,1.2204449,1.2615627,1.3112999,2.565957,1.48348,1.3364689,2.9646118,1.5520471,2.90548,2.4986377,1.6758897,1.338743,1.7620261,2.2052612,1.6290114,1.637519,1.7554072,1.5836196,1.601193,1.5320283,3.0619767,1.1553353,0.46928,2.61967,1.5363755,0.47385395,2.2747858,1.146349,0.79086185,3.3346102,1.1825142,0.7408841,2.9173186,1.4516851,-0.60002863,-0.68590665,-0.9389982,-0.8853483,0.26408708,-0.13724396,0.33720678,0.5489925,1.0999429,0.6680053,0.6616384,4.184801,1.811053,2.5047512,2.155291,3.9129179,2.2538378,2.5829446,2.1039176,2.3718805,3.7303042,3.4928243,2.2512774,3.2642717,3.0693455,0.4381693,1.5237454,0.8429882,1.0014542,-0.3662597,0.97873896,1.2899435,1.7882022,3.3348713,1.9761595,0.5471303,1.7311031,1.0782954,0.9062295,0.92253244,0.6257821,0.90061206,0.9833344,0.8455175,0.5746131,0.91762286,0.60324425,1.335737,1.3137602,1.2914023,1.1712558,4.124339,3.4737375,3.3820126,3.5248954,3.4847548,3.4278653],\"type\":\"scatter3d\"}],                        {\"template\":{\"data\":{\"histogram2dcontour\":[{\"type\":\"histogram2dcontour\",\"colorbar\":{\"outlinewidth\":0,\"ticks\":\"\"},\"colorscale\":[[0.0,\"#0d0887\"],[0.1111111111111111,\"#46039f\"],[0.2222222222222222,\"#7201a8\"],[0.3333333333333333,\"#9c179e\"],[0.4444444444444444,\"#bd3786\"],[0.5555555555555556,\"#d8576b\"],[0.6666666666666666,\"#ed7953\"],[0.7777777777777778,\"#fb9f3a\"],[0.8888888888888888,\"#fdca26\"],[1.0,\"#f0f921\"]]}],\"choropleth\":[{\"type\":\"choropleth\",\"colorbar\":{\"outlinewidth\":0,\"ticks\":\"\"}}],\"histogram2d\":[{\"type\":\"histogram2d\",\"colorbar\":{\"outlinewidth\":0,\"ticks\":\"\"},\"colorscale\":[[0.0,\"#0d0887\"],[0.1111111111111111,\"#46039f\"],[0.2222222222222222,\"#7201a8\"],[0.3333333333333333,\"#9c179e\"],[0.4444444444444444,\"#bd3786\"],[0.5555555555555556,\"#d8576b\"],[0.6666666666666666,\"#ed7953\"],[0.7777777777777778,\"#fb9f3a\"],[0.8888888888888888,\"#fdca26\"],[1.0,\"#f0f921\"]]}],\"heatmap\":[{\"type\":\"heatmap\",\"colorbar\":{\"outlinewidth\":0,\"ticks\":\"\"},\"colorscale\":[[0.0,\"#0d0887\"],[0.1111111111111111,\"#46039f\"],[0.2222222222222222,\"#7201a8\"],[0.3333333333333333,\"#9c179e\"],[0.4444444444444444,\"#bd3786\"],[0.5555555555555556,\"#d8576b\"],[0.6666666666666666,\"#ed7953\"],[0.7777777777777778,\"#fb9f3a\"],[0.8888888888888888,\"#fdca26\"],[1.0,\"#f0f921\"]]}],\"heatmapgl\":[{\"type\":\"heatmapgl\",\"colorbar\":{\"outlinewidth\":0,\"ticks\":\"\"},\"colorscale\":[[0.0,\"#0d0887\"],[0.1111111111111111,\"#46039f\"],[0.2222222222222222,\"#7201a8\"],[0.3333333333333333,\"#9c179e\"],[0.4444444444444444,\"#bd3786\"],[0.5555555555555556,\"#d8576b\"],[0.6666666666666666,\"#ed7953\"],[0.7777777777777778,\"#fb9f3a\"],[0.8888888888888888,\"#fdca26\"],[1.0,\"#f0f921\"]]}],\"contourcarpet\":[{\"type\":\"contourcarpet\",\"colorbar\":{\"outlinewidth\":0,\"ticks\":\"\"}}],\"contour\":[{\"type\":\"contour\",\"colorbar\":{\"outlinewidth\":0,\"ticks\":\"\"},\"colorscale\":[[0.0,\"#0d0887\"],[0.1111111111111111,\"#46039f\"],[0.2222222222222222,\"#7201a8\"],[0.3333333333333333,\"#9c179e\"],[0.4444444444444444,\"#bd3786\"],[0.5555555555555556,\"#d8576b\"],[0.6666666666666666,\"#ed7953\"],[0.7777777777777778,\"#fb9f3a\"],[0.8888888888888888,\"#fdca26\"],[1.0,\"#f0f921\"]]}],\"surface\":[{\"type\":\"surface\",\"colorbar\":{\"outlinewidth\":0,\"ticks\":\"\"},\"colorscale\":[[0.0,\"#0d0887\"],[0.1111111111111111,\"#46039f\"],[0.2222222222222222,\"#7201a8\"],[0.3333333333333333,\"#9c179e\"],[0.4444444444444444,\"#bd3786\"],[0.5555555555555556,\"#d8576b\"],[0.6666666666666666,\"#ed7953\"],[0.7777777777777778,\"#fb9f3a\"],[0.8888888888888888,\"#fdca26\"],[1.0,\"#f0f921\"]]}],\"mesh3d\":[{\"type\":\"mesh3d\",\"colorbar\":{\"outlinewidth\":0,\"ticks\":\"\"}}],\"scatter\":[{\"fillpattern\":{\"fillmode\":\"overlay\",\"size\":10,\"solidity\":0.2},\"type\":\"scatter\"}],\"parcoords\":[{\"type\":\"parcoords\",\"line\":{\"colorbar\":{\"outlinewidth\":0,\"ticks\":\"\"}}}],\"scatterpolargl\":[{\"type\":\"scatterpolargl\",\"marker\":{\"colorbar\":{\"outlinewidth\":0,\"ticks\":\"\"}}}],\"bar\":[{\"error_x\":{\"color\":\"#2a3f5f\"},\"error_y\":{\"color\":\"#2a3f5f\"},\"marker\":{\"line\":{\"color\":\"#E5ECF6\",\"width\":0.5},\"pattern\":{\"fillmode\":\"overlay\",\"size\":10,\"solidity\":0.2}},\"type\":\"bar\"}],\"scattergeo\":[{\"type\":\"scattergeo\",\"marker\":{\"colorbar\":{\"outlinewidth\":0,\"ticks\":\"\"}}}],\"scatterpolar\":[{\"type\":\"scatterpolar\",\"marker\":{\"colorbar\":{\"outlinewidth\":0,\"ticks\":\"\"}}}],\"histogram\":[{\"marker\":{\"pattern\":{\"fillmode\":\"overlay\",\"size\":10,\"solidity\":0.2}},\"type\":\"histogram\"}],\"scattergl\":[{\"type\":\"scattergl\",\"marker\":{\"colorbar\":{\"outlinewidth\":0,\"ticks\":\"\"}}}],\"scatter3d\":[{\"type\":\"scatter3d\",\"line\":{\"colorbar\":{\"outlinewidth\":0,\"ticks\":\"\"}},\"marker\":{\"colorbar\":{\"outlinewidth\":0,\"ticks\":\"\"}}}],\"scattermapbox\":[{\"type\":\"scattermapbox\",\"marker\":{\"colorbar\":{\"outlinewidth\":0,\"ticks\":\"\"}}}],\"scatterternary\":[{\"type\":\"scatterternary\",\"marker\":{\"colorbar\":{\"outlinewidth\":0,\"ticks\":\"\"}}}],\"scattercarpet\":[{\"type\":\"scattercarpet\",\"marker\":{\"colorbar\":{\"outlinewidth\":0,\"ticks\":\"\"}}}],\"carpet\":[{\"aaxis\":{\"endlinecolor\":\"#2a3f5f\",\"gridcolor\":\"white\",\"linecolor\":\"white\",\"minorgridcolor\":\"white\",\"startlinecolor\":\"#2a3f5f\"},\"baxis\":{\"endlinecolor\":\"#2a3f5f\",\"gridcolor\":\"white\",\"linecolor\":\"white\",\"minorgridcolor\":\"white\",\"startlinecolor\":\"#2a3f5f\"},\"type\":\"carpet\"}],\"table\":[{\"cells\":{\"fill\":{\"color\":\"#EBF0F8\"},\"line\":{\"color\":\"white\"}},\"header\":{\"fill\":{\"color\":\"#C8D4E3\"},\"line\":{\"color\":\"white\"}},\"type\":\"table\"}],\"barpolar\":[{\"marker\":{\"line\":{\"color\":\"#E5ECF6\",\"width\":0.5},\"pattern\":{\"fillmode\":\"overlay\",\"size\":10,\"solidity\":0.2}},\"type\":\"barpolar\"}],\"pie\":[{\"automargin\":true,\"type\":\"pie\"}]},\"layout\":{\"autotypenumbers\":\"strict\",\"colorway\":[\"#636efa\",\"#EF553B\",\"#00cc96\",\"#ab63fa\",\"#FFA15A\",\"#19d3f3\",\"#FF6692\",\"#B6E880\",\"#FF97FF\",\"#FECB52\"],\"font\":{\"color\":\"#2a3f5f\"},\"hovermode\":\"closest\",\"hoverlabel\":{\"align\":\"left\"},\"paper_bgcolor\":\"white\",\"plot_bgcolor\":\"#E5ECF6\",\"polar\":{\"bgcolor\":\"#E5ECF6\",\"angularaxis\":{\"gridcolor\":\"white\",\"linecolor\":\"white\",\"ticks\":\"\"},\"radialaxis\":{\"gridcolor\":\"white\",\"linecolor\":\"white\",\"ticks\":\"\"}},\"ternary\":{\"bgcolor\":\"#E5ECF6\",\"aaxis\":{\"gridcolor\":\"white\",\"linecolor\":\"white\",\"ticks\":\"\"},\"baxis\":{\"gridcolor\":\"white\",\"linecolor\":\"white\",\"ticks\":\"\"},\"caxis\":{\"gridcolor\":\"white\",\"linecolor\":\"white\",\"ticks\":\"\"}},\"coloraxis\":{\"colorbar\":{\"outlinewidth\":0,\"ticks\":\"\"}},\"colorscale\":{\"sequential\":[[0.0,\"#0d0887\"],[0.1111111111111111,\"#46039f\"],[0.2222222222222222,\"#7201a8\"],[0.3333333333333333,\"#9c179e\"],[0.4444444444444444,\"#bd3786\"],[0.5555555555555556,\"#d8576b\"],[0.6666666666666666,\"#ed7953\"],[0.7777777777777778,\"#fb9f3a\"],[0.8888888888888888,\"#fdca26\"],[1.0,\"#f0f921\"]],\"sequentialminus\":[[0.0,\"#0d0887\"],[0.1111111111111111,\"#46039f\"],[0.2222222222222222,\"#7201a8\"],[0.3333333333333333,\"#9c179e\"],[0.4444444444444444,\"#bd3786\"],[0.5555555555555556,\"#d8576b\"],[0.6666666666666666,\"#ed7953\"],[0.7777777777777778,\"#fb9f3a\"],[0.8888888888888888,\"#fdca26\"],[1.0,\"#f0f921\"]],\"diverging\":[[0,\"#8e0152\"],[0.1,\"#c51b7d\"],[0.2,\"#de77ae\"],[0.3,\"#f1b6da\"],[0.4,\"#fde0ef\"],[0.5,\"#f7f7f7\"],[0.6,\"#e6f5d0\"],[0.7,\"#b8e186\"],[0.8,\"#7fbc41\"],[0.9,\"#4d9221\"],[1,\"#276419\"]]},\"xaxis\":{\"gridcolor\":\"white\",\"linecolor\":\"white\",\"ticks\":\"\",\"title\":{\"standoff\":15},\"zerolinecolor\":\"white\",\"automargin\":true,\"zerolinewidth\":2},\"yaxis\":{\"gridcolor\":\"white\",\"linecolor\":\"white\",\"ticks\":\"\",\"title\":{\"standoff\":15},\"zerolinecolor\":\"white\",\"automargin\":true,\"zerolinewidth\":2},\"scene\":{\"xaxis\":{\"backgroundcolor\":\"#E5ECF6\",\"gridcolor\":\"white\",\"linecolor\":\"white\",\"showbackground\":true,\"ticks\":\"\",\"zerolinecolor\":\"white\",\"gridwidth\":2},\"yaxis\":{\"backgroundcolor\":\"#E5ECF6\",\"gridcolor\":\"white\",\"linecolor\":\"white\",\"showbackground\":true,\"ticks\":\"\",\"zerolinecolor\":\"white\",\"gridwidth\":2},\"zaxis\":{\"backgroundcolor\":\"#E5ECF6\",\"gridcolor\":\"white\",\"linecolor\":\"white\",\"showbackground\":true,\"ticks\":\"\",\"zerolinecolor\":\"white\",\"gridwidth\":2}},\"shapedefaults\":{\"line\":{\"color\":\"#2a3f5f\"}},\"annotationdefaults\":{\"arrowcolor\":\"#2a3f5f\",\"arrowhead\":0,\"arrowwidth\":1},\"geo\":{\"bgcolor\":\"white\",\"landcolor\":\"#E5ECF6\",\"subunitcolor\":\"white\",\"showland\":true,\"showlakes\":true,\"lakecolor\":\"white\"},\"title\":{\"x\":0.05},\"mapbox\":{\"style\":\"light\"}}},\"scene\":{\"domain\":{\"x\":[0.0,1.0],\"y\":[0.0,1.0]},\"xaxis\":{\"title\":{\"text\":\"V0\"}},\"yaxis\":{\"title\":{\"text\":\"V1\"}},\"zaxis\":{\"title\":{\"text\":\"V2\"}},\"camera\":{\"up\":{\"x\":0,\"y\":0,\"z\":1},\"center\":{\"x\":0,\"y\":0,\"z\":0},\"eye\":{\"x\":1.25,\"y\":1.25,\"z\":1.25}}},\"coloraxis\":{\"colorbar\":{\"title\":{\"text\":\"rank_norm\"}},\"colorscale\":[[0.0,\"rgb(247,247,247)\"],[0.2,\"rgb(253,219,199)\"],[0.4,\"rgb(244,165,130)\"],[0.6,\"rgb(214,96,77)\"],[0.8,\"rgb(178,24,43)\"],[1.0,\"rgb(103,0,31)\"]]},\"legend\":{\"tracegroupgap\":0},\"margin\":{\"t\":20,\"l\":0,\"r\":0,\"b\":0},\"height\":500,\"width\":800,\"uirevision\":true,\"hovermode\":\"closest\"},                        {\"responsive\": true}                    ).then(function(){\n",
       "                            \n",
       "var gd = document.getElementById('048f89c9-e165-48b6-ac25-f4f0f1fd8733');\n",
       "var x = new MutationObserver(function (mutations, observer) {{\n",
       "        var display = window.getComputedStyle(gd).display;\n",
       "        if (!display || display === 'none') {{\n",
       "            console.log([gd, 'removed!']);\n",
       "            Plotly.purge(gd);\n",
       "            observer.disconnect();\n",
       "        }}\n",
       "}});\n",
       "\n",
       "// Listen for the removal of the full notebook cells\n",
       "var notebookContainer = gd.closest('#notebook-container');\n",
       "if (notebookContainer) {{\n",
       "    x.observe(notebookContainer, {childList: true});\n",
       "}}\n",
       "\n",
       "// Listen for the clearing of the current output cell\n",
       "var outputEl = gd.closest('.output');\n",
       "if (outputEl) {{\n",
       "    x.observe(outputEl, {childList: true});\n",
       "}}\n",
       "\n",
       "                        })                };                });            </script>        </div>"
      ]
     },
     "metadata": {},
     "output_type": "display_data"
    }
   ],
   "source": [
    "import plotly.express as px\n",
    "\n",
    "fig = px.scatter_3d(\n",
    "    scvi_matrix,\n",
    "    x='V0',        # Column for x-axis\n",
    "    y='V1',        # Column for y-axis\n",
    "    z='V2',        # Column for z-axis\n",
    "    color='rank_norm',  # Column for coloring points\n",
    "    color_continuous_scale= px.colors.sequential.RdBu[len(px.colors.sequential.RdBu)//2::-1],\n",
    "    hover_data={'cell_type': True, 'parental_cell_type': True}  # Add any other columns you want to display\n",
    ")\n",
    "\n",
    "# Update the layout to distinguish the categories better\n",
    "fig.update_traces(marker=dict(size=4))  # Adjust the size as needed\n",
    "\n",
    "# Update layout to customize the plot\n",
    "fig.update_layout(\n",
    "    height=500,  # Height of the plot in pixels\n",
    "    width=800,   # Width of the plot in pixels\n",
    "    margin=dict(t=20, l=0, r=0, b=0),  # Custom margins\n",
    "    uirevision= True,\n",
    "    hovermode = 'closest',\n",
    "    scene_camera=dict(\n",
    "        up=dict(x=0, y=0, z=1),\n",
    "        center=dict(x=0, y=0, z=0),\n",
    "        eye=dict(x=1.25, y=1.25, z=1.25)\n",
    "    )\n",
    ")\n",
    "\n",
    "# Show the plot\n",
    "fig.show()"
   ]
  }
 ],
 "metadata": {
  "kernelspec": {
   "display_name": "Python 3",
   "language": "python",
   "name": "python3"
  },
  "language_info": {
   "codemirror_mode": {
    "name": "ipython",
    "version": 3
   },
   "file_extension": ".py",
   "mimetype": "text/x-python",
   "name": "python",
   "nbconvert_exporter": "python",
   "pygments_lexer": "ipython3",
   "version": "3.9.18"
  }
 },
 "nbformat": 4,
 "nbformat_minor": 2
}
