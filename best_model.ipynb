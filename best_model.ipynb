{
 "cells": [
  {
   "cell_type": "code",
   "execution_count": 1,
   "id": "4fe40240-8fdc-429a-b8b0-d5a11344d787",
   "metadata": {},
   "outputs": [],
   "source": [
    "import pandas as pd\n",
    "\n",
    "df = pd.read_csv('raw_training_df.csv')\n",
    "df = df.iloc[:,1:].T\n",
    "\n",
    "metadata = pd.read_csv('metadata.csv')\n",
    "metadata = metadata.set_index('sample_id')"
   ]
  },
  {
   "cell_type": "code",
   "execution_count": 2,
   "id": "f77083b3-3c55-4ecf-bf33-ba809557bd0c",
   "metadata": {},
   "outputs": [],
   "source": [
    "bio_tag = 'cell_type'\n",
    "batch_tag = 'prep_method_broad'"
   ]
  },
  {
   "cell_type": "code",
   "execution_count": 3,
   "id": "16e46316-cd9c-4741-8cff-c199e5437bc2",
   "metadata": {},
   "outputs": [
    {
     "name": "stderr",
     "output_type": "stream",
     "text": [
      "/home/chzhan1/.local/lib/python3.10/site-packages/anndata/_core/aligned_df.py:67: ImplicitModificationWarning: Transforming to str index.\n",
      "  warnings.warn(\"Transforming to str index.\", ImplicitModificationWarning)\n"
     ]
    }
   ],
   "source": [
    "import scanpy as sc\n",
    "\n",
    "adata = sc.AnnData(df)\n",
    "adata.obs = adata.obs.merge(metadata, left_index=True, right_index=True, how='left')"
   ]
  },
  {
   "cell_type": "code",
   "execution_count": 4,
   "id": "7f2e0587-ec7e-4171-b53f-445c7db9b365",
   "metadata": {},
   "outputs": [
    {
     "data": {
      "text/plain": [
       "'cpu'"
      ]
     },
     "execution_count": 4,
     "metadata": {},
     "output_type": "execute_result"
    }
   ],
   "source": [
    "import torch\n",
    "device = 'gpu' if torch.cuda.is_available() else 'cpu'\n",
    "device"
   ]
  },
  {
   "cell_type": "code",
   "execution_count": 5,
   "id": "f21a49e5-4c9c-4392-8a7a-b48bca5446de",
   "metadata": {},
   "outputs": [
    {
     "data": {
      "text/plain": [
       "0"
      ]
     },
     "execution_count": 5,
     "metadata": {},
     "output_type": "execute_result"
    }
   ],
   "source": [
    "torch.cuda.device_count()"
   ]
  },
  {
   "cell_type": "code",
   "execution_count": 12,
   "id": "8204455e-6357-4428-88c1-151e11c062fb",
   "metadata": {},
   "outputs": [
    {
     "ename": "MisconfigurationException",
     "evalue": "No supported gpu backend found!",
     "output_type": "error",
     "traceback": [
      "\u001b[0;31m---------------------------------------------------------------------------\u001b[0m",
      "\u001b[0;31mMisconfigurationException\u001b[0m                 Traceback (most recent call last)",
      "Cell \u001b[0;32mIn [12], line 6\u001b[0m\n\u001b[1;32m      3\u001b[0m scvi\u001b[38;5;241m.\u001b[39mmodel\u001b[38;5;241m.\u001b[39mSCVI\u001b[38;5;241m.\u001b[39msetup_anndata(adata, batch_key\u001b[38;5;241m=\u001b[39mbatch_tag)\n\u001b[1;32m      4\u001b[0m model \u001b[38;5;241m=\u001b[39m scvi\u001b[38;5;241m.\u001b[39mmodel\u001b[38;5;241m.\u001b[39mSCVI(adata, n_hidden \u001b[38;5;241m=\u001b[39m \u001b[38;5;241m64\u001b[39m, n_layers\u001b[38;5;241m=\u001b[39m\u001b[38;5;241m4\u001b[39m, n_latent\u001b[38;5;241m=\u001b[39m\u001b[38;5;241m3\u001b[39m, gene_likelihood\u001b[38;5;241m=\u001b[39m\u001b[38;5;124m\"\u001b[39m\u001b[38;5;124mzinb\u001b[39m\u001b[38;5;124m\"\u001b[39m)\n\u001b[0;32m----> 6\u001b[0m \u001b[43mmodel\u001b[49m\u001b[38;5;241;43m.\u001b[39;49m\u001b[43mtrain\u001b[49m\u001b[43m(\u001b[49m\u001b[43mplan_kwargs\u001b[49m\u001b[38;5;241;43m=\u001b[39;49m\u001b[43m \u001b[49m\u001b[43m{\u001b[49m\u001b[38;5;124;43m'\u001b[39;49m\u001b[38;5;124;43mlr\u001b[39;49m\u001b[38;5;124;43m'\u001b[39;49m\u001b[43m:\u001b[49m\u001b[43m \u001b[49m\u001b[38;5;241;43m0.0061715760052001925\u001b[39;49m\u001b[43m}\u001b[49m\u001b[43m,\u001b[49m\u001b[43m \u001b[49m\u001b[43maccelerator\u001b[49m\u001b[43m \u001b[49m\u001b[38;5;241;43m=\u001b[39;49m\u001b[38;5;124;43m'\u001b[39;49m\u001b[38;5;124;43mgpu\u001b[39;49m\u001b[38;5;124;43m'\u001b[39;49m\u001b[43m)\u001b[49m\n",
      "File \u001b[0;32m~/.local/lib/python3.10/site-packages/scvi/model/base/_training_mixin.py:134\u001b[0m, in \u001b[0;36mUnsupervisedTrainingMixin.train\u001b[0;34m(self, max_epochs, accelerator, devices, train_size, validation_size, shuffle_set_split, load_sparse_tensor, batch_size, early_stopping, datasplitter_kwargs, plan_kwargs, data_module, **trainer_kwargs)\u001b[0m\n\u001b[1;32m    130\u001b[0m es \u001b[38;5;241m=\u001b[39m \u001b[38;5;124m\"\u001b[39m\u001b[38;5;124mearly_stopping\u001b[39m\u001b[38;5;124m\"\u001b[39m\n\u001b[1;32m    131\u001b[0m trainer_kwargs[es] \u001b[38;5;241m=\u001b[39m (\n\u001b[1;32m    132\u001b[0m     early_stopping \u001b[38;5;28;01mif\u001b[39;00m es \u001b[38;5;129;01mnot\u001b[39;00m \u001b[38;5;129;01min\u001b[39;00m trainer_kwargs\u001b[38;5;241m.\u001b[39mkeys() \u001b[38;5;28;01melse\u001b[39;00m trainer_kwargs[es]\n\u001b[1;32m    133\u001b[0m )\n\u001b[0;32m--> 134\u001b[0m runner \u001b[38;5;241m=\u001b[39m \u001b[38;5;28;43mself\u001b[39;49m\u001b[38;5;241;43m.\u001b[39;49m\u001b[43m_train_runner_cls\u001b[49m\u001b[43m(\u001b[49m\n\u001b[1;32m    135\u001b[0m \u001b[43m    \u001b[49m\u001b[38;5;28;43mself\u001b[39;49m\u001b[43m,\u001b[49m\n\u001b[1;32m    136\u001b[0m \u001b[43m    \u001b[49m\u001b[43mtraining_plan\u001b[49m\u001b[38;5;241;43m=\u001b[39;49m\u001b[43mtraining_plan\u001b[49m\u001b[43m,\u001b[49m\n\u001b[1;32m    137\u001b[0m \u001b[43m    \u001b[49m\u001b[43mdata_splitter\u001b[49m\u001b[38;5;241;43m=\u001b[39;49m\u001b[43mdata_module\u001b[49m\u001b[43m,\u001b[49m\n\u001b[1;32m    138\u001b[0m \u001b[43m    \u001b[49m\u001b[43mmax_epochs\u001b[49m\u001b[38;5;241;43m=\u001b[39;49m\u001b[43mmax_epochs\u001b[49m\u001b[43m,\u001b[49m\n\u001b[1;32m    139\u001b[0m \u001b[43m    \u001b[49m\u001b[43maccelerator\u001b[49m\u001b[38;5;241;43m=\u001b[39;49m\u001b[43maccelerator\u001b[49m\u001b[43m,\u001b[49m\n\u001b[1;32m    140\u001b[0m \u001b[43m    \u001b[49m\u001b[43mdevices\u001b[49m\u001b[38;5;241;43m=\u001b[39;49m\u001b[43mdevices\u001b[49m\u001b[43m,\u001b[49m\n\u001b[1;32m    141\u001b[0m \u001b[43m    \u001b[49m\u001b[38;5;241;43m*\u001b[39;49m\u001b[38;5;241;43m*\u001b[39;49m\u001b[43mtrainer_kwargs\u001b[49m\u001b[43m,\u001b[49m\n\u001b[1;32m    142\u001b[0m \u001b[43m\u001b[49m\u001b[43m)\u001b[49m\n\u001b[1;32m    143\u001b[0m \u001b[38;5;28;01mreturn\u001b[39;00m runner()\n",
      "File \u001b[0;32m~/.local/lib/python3.10/site-packages/scvi/train/_trainrunner.py:70\u001b[0m, in \u001b[0;36mTrainRunner.__init__\u001b[0;34m(self, model, training_plan, data_splitter, max_epochs, accelerator, devices, **trainer_kwargs)\u001b[0m\n\u001b[1;32m     68\u001b[0m \u001b[38;5;28mself\u001b[39m\u001b[38;5;241m.\u001b[39mdata_splitter \u001b[38;5;241m=\u001b[39m data_splitter\n\u001b[1;32m     69\u001b[0m \u001b[38;5;28mself\u001b[39m\u001b[38;5;241m.\u001b[39mmodel \u001b[38;5;241m=\u001b[39m model\n\u001b[0;32m---> 70\u001b[0m accelerator, lightning_devices, device \u001b[38;5;241m=\u001b[39m \u001b[43mparse_device_args\u001b[49m\u001b[43m(\u001b[49m\n\u001b[1;32m     71\u001b[0m \u001b[43m    \u001b[49m\u001b[43maccelerator\u001b[49m\u001b[38;5;241;43m=\u001b[39;49m\u001b[43maccelerator\u001b[49m\u001b[43m,\u001b[49m\n\u001b[1;32m     72\u001b[0m \u001b[43m    \u001b[49m\u001b[43mdevices\u001b[49m\u001b[38;5;241;43m=\u001b[39;49m\u001b[43mdevices\u001b[49m\u001b[43m,\u001b[49m\n\u001b[1;32m     73\u001b[0m \u001b[43m    \u001b[49m\u001b[43mreturn_device\u001b[49m\u001b[38;5;241;43m=\u001b[39;49m\u001b[38;5;124;43m\"\u001b[39;49m\u001b[38;5;124;43mtorch\u001b[39;49m\u001b[38;5;124;43m\"\u001b[39;49m\u001b[43m,\u001b[49m\n\u001b[1;32m     74\u001b[0m \u001b[43m\u001b[49m\u001b[43m)\u001b[49m\n\u001b[1;32m     75\u001b[0m \u001b[38;5;28mself\u001b[39m\u001b[38;5;241m.\u001b[39maccelerator \u001b[38;5;241m=\u001b[39m accelerator\n\u001b[1;32m     76\u001b[0m \u001b[38;5;28mself\u001b[39m\u001b[38;5;241m.\u001b[39mlightning_devices \u001b[38;5;241m=\u001b[39m lightning_devices\n",
      "File \u001b[0;32m~/.local/lib/python3.10/site-packages/scvi/model/_utils.py:101\u001b[0m, in \u001b[0;36mparse_device_args\u001b[0;34m(accelerator, devices, return_device, validate_single_device)\u001b[0m\n\u001b[1;32m     98\u001b[0m \u001b[38;5;28;01mif\u001b[39;00m _validate_single_device \u001b[38;5;129;01mand\u001b[39;00m (cond1 \u001b[38;5;129;01mor\u001b[39;00m cond2 \u001b[38;5;129;01mor\u001b[39;00m cond3):\n\u001b[1;32m     99\u001b[0m     \u001b[38;5;28;01mraise\u001b[39;00m \u001b[38;5;167;01mValueError\u001b[39;00m(\u001b[38;5;124m\"\u001b[39m\u001b[38;5;124mOnly a single device can be specified for `device`.\u001b[39m\u001b[38;5;124m\"\u001b[39m)\n\u001b[0;32m--> 101\u001b[0m connector \u001b[38;5;241m=\u001b[39m \u001b[43m_AcceleratorConnector\u001b[49m\u001b[43m(\u001b[49m\u001b[43maccelerator\u001b[49m\u001b[38;5;241;43m=\u001b[39;49m\u001b[43maccelerator\u001b[49m\u001b[43m,\u001b[49m\u001b[43m \u001b[49m\u001b[43mdevices\u001b[49m\u001b[38;5;241;43m=\u001b[39;49m\u001b[43mdevices\u001b[49m\u001b[43m)\u001b[49m\n\u001b[1;32m    102\u001b[0m _accelerator \u001b[38;5;241m=\u001b[39m connector\u001b[38;5;241m.\u001b[39m_accelerator_flag\n\u001b[1;32m    103\u001b[0m _devices \u001b[38;5;241m=\u001b[39m connector\u001b[38;5;241m.\u001b[39m_devices_flag\n",
      "File \u001b[0;32m~/.local/lib/python3.10/site-packages/lightning/pytorch/trainer/connectors/accelerator_connector.py:146\u001b[0m, in \u001b[0;36m_AcceleratorConnector.__init__\u001b[0;34m(self, devices, num_nodes, accelerator, strategy, plugins, precision, sync_batchnorm, benchmark, use_distributed_sampler, deterministic)\u001b[0m\n\u001b[1;32m    144\u001b[0m     \u001b[38;5;28mself\u001b[39m\u001b[38;5;241m.\u001b[39m_accelerator_flag \u001b[38;5;241m=\u001b[39m \u001b[38;5;28mself\u001b[39m\u001b[38;5;241m.\u001b[39m_choose_auto_accelerator()\n\u001b[1;32m    145\u001b[0m \u001b[38;5;28;01melif\u001b[39;00m \u001b[38;5;28mself\u001b[39m\u001b[38;5;241m.\u001b[39m_accelerator_flag \u001b[38;5;241m==\u001b[39m \u001b[38;5;124m\"\u001b[39m\u001b[38;5;124mgpu\u001b[39m\u001b[38;5;124m\"\u001b[39m:\n\u001b[0;32m--> 146\u001b[0m     \u001b[38;5;28mself\u001b[39m\u001b[38;5;241m.\u001b[39m_accelerator_flag \u001b[38;5;241m=\u001b[39m \u001b[38;5;28;43mself\u001b[39;49m\u001b[38;5;241;43m.\u001b[39;49m\u001b[43m_choose_gpu_accelerator_backend\u001b[49m\u001b[43m(\u001b[49m\u001b[43m)\u001b[49m\n\u001b[1;32m    148\u001b[0m \u001b[38;5;28mself\u001b[39m\u001b[38;5;241m.\u001b[39m_check_device_config_and_set_final_flags(devices\u001b[38;5;241m=\u001b[39mdevices, num_nodes\u001b[38;5;241m=\u001b[39mnum_nodes)\n\u001b[1;32m    149\u001b[0m \u001b[38;5;28mself\u001b[39m\u001b[38;5;241m.\u001b[39m_set_parallel_devices_and_init_accelerator()\n",
      "File \u001b[0;32m~/.local/lib/python3.10/site-packages/lightning/pytorch/trainer/connectors/accelerator_connector.py:366\u001b[0m, in \u001b[0;36m_AcceleratorConnector._choose_gpu_accelerator_backend\u001b[0;34m()\u001b[0m\n\u001b[1;32m    364\u001b[0m \u001b[38;5;28;01mif\u001b[39;00m CUDAAccelerator\u001b[38;5;241m.\u001b[39mis_available():\n\u001b[1;32m    365\u001b[0m     \u001b[38;5;28;01mreturn\u001b[39;00m \u001b[38;5;124m\"\u001b[39m\u001b[38;5;124mcuda\u001b[39m\u001b[38;5;124m\"\u001b[39m\n\u001b[0;32m--> 366\u001b[0m \u001b[38;5;28;01mraise\u001b[39;00m MisconfigurationException(\u001b[38;5;124m\"\u001b[39m\u001b[38;5;124mNo supported gpu backend found!\u001b[39m\u001b[38;5;124m\"\u001b[39m)\n",
      "\u001b[0;31mMisconfigurationException\u001b[0m: No supported gpu backend found!"
     ]
    }
   ],
   "source": [
    "import scvi\n",
    "\n",
    "scvi.model.SCVI.setup_anndata(adata, batch_key=batch_tag)\n",
    "model = scvi.model.SCVI(\n",
    "    adata,\n",
    "    n_hidden = 64, n_layers=6, n_latent=3, gene_likelihood=\"zinb\"\n",
    "    dropout_rate = 0.1, latent_distribution = 'norm', dispersion = 'gene-cell'\n",
    ")\n",
    "\n",
    "model.train(plan_kwargs= {'lr': 0.0.0078038006594481875}, accelerator = device)"
   ]
  },
  {
   "cell_type": "code",
   "execution_count": 7,
   "id": "0fff30d1-edd6-4618-a391-fd2dbe1d8ec7",
   "metadata": {},
   "outputs": [],
   "source": [
    "scvi_matrix = model.get_latent_representation()\n",
    "\n",
    "\n",
    "#scvi_matrix_full = model.get_normalized_expression()\n",
    "\n",
    "scvi_matrix = pd.DataFrame(scvi_matrix)\n",
    "scvi_matrix['sample_id'] = df.index\n",
    "scvi_matrix = scvi_matrix.set_index('sample_id', drop = True)\n",
    "\n",
    "scvi_matrix.columns = scvi_matrix.columns = ['V' + str(col) for col in scvi_matrix.columns]\n",
    "\n",
    "adata.obsm[\"X_3_latent\"] = scvi_matrix.values"
   ]
  },
  {
   "cell_type": "code",
   "execution_count": 8,
   "id": "2dedfce7-9bee-42a0-94d1-2b1f064311b9",
   "metadata": {},
   "outputs": [],
   "source": [
    "# Merge DataFrames by 'sample_id'\n",
    "scvi_representation_coordinates_merged = pd.merge(scvi_matrix, metadata, on='sample_id')\n",
    "\n",
    "# Replace NaN with 'NA'\n",
    "scvi_representation_coordinates_merged.fillna('NA', inplace=True)"
   ]
  },
  {
   "cell_type": "code",
   "execution_count": 9,
   "id": "bacf3ee8-7c8d-4fdb-9962-b2a67d9f3a87",
   "metadata": {},
   "outputs": [
    {
     "data": {
      "text/html": [
       "<div>\n",
       "<style scoped>\n",
       "    .dataframe tbody tr th:only-of-type {\n",
       "        vertical-align: middle;\n",
       "    }\n",
       "\n",
       "    .dataframe tbody tr th {\n",
       "        vertical-align: top;\n",
       "    }\n",
       "\n",
       "    .dataframe thead th {\n",
       "        text-align: right;\n",
       "    }\n",
       "</style>\n",
       "<table border=\"1\" class=\"dataframe\">\n",
       "  <thead>\n",
       "    <tr style=\"text-align: right;\">\n",
       "      <th></th>\n",
       "      <th>V0</th>\n",
       "      <th>V1</th>\n",
       "      <th>V2</th>\n",
       "      <th>dataset_id</th>\n",
       "      <th>cell_type</th>\n",
       "      <th>parental_cell_type</th>\n",
       "      <th>final_cell_type</th>\n",
       "      <th>disease_state</th>\n",
       "      <th>organism</th>\n",
       "      <th>sample_type</th>\n",
       "      <th>...</th>\n",
       "      <th>prep_method_broad</th>\n",
       "      <th>preparation_method</th>\n",
       "      <th>capture</th>\n",
       "      <th>fragmentation</th>\n",
       "      <th>stranded</th>\n",
       "      <th>sequencing_layout</th>\n",
       "      <th>average_read_length</th>\n",
       "      <th>sequencer</th>\n",
       "      <th>training_atlas</th>\n",
       "      <th>sample_id_without_datasetid</th>\n",
       "    </tr>\n",
       "    <tr>\n",
       "      <th>sample_id</th>\n",
       "      <th></th>\n",
       "      <th></th>\n",
       "      <th></th>\n",
       "      <th></th>\n",
       "      <th></th>\n",
       "      <th></th>\n",
       "      <th></th>\n",
       "      <th></th>\n",
       "      <th></th>\n",
       "      <th></th>\n",
       "      <th></th>\n",
       "      <th></th>\n",
       "      <th></th>\n",
       "      <th></th>\n",
       "      <th></th>\n",
       "      <th></th>\n",
       "      <th></th>\n",
       "      <th></th>\n",
       "      <th></th>\n",
       "      <th></th>\n",
       "      <th></th>\n",
       "    </tr>\n",
       "  </thead>\n",
       "  <tbody>\n",
       "    <tr>\n",
       "      <th>1611_GSM2027310</th>\n",
       "      <td>-4.541587</td>\n",
       "      <td>3.507635</td>\n",
       "      <td>6.212718</td>\n",
       "      <td>1611</td>\n",
       "      <td>conventional dendritic cell</td>\n",
       "      <td>NA</td>\n",
       "      <td>NA</td>\n",
       "      <td>normal</td>\n",
       "      <td>homo sapiens</td>\n",
       "      <td>cDC2</td>\n",
       "      <td>...</td>\n",
       "      <td>illumina_truseq</td>\n",
       "      <td>Illumina Truseq RNA Sample Prep v2</td>\n",
       "      <td>oligo-dT beads</td>\n",
       "      <td>RNA heat and buffer</td>\n",
       "      <td>non stranded</td>\n",
       "      <td>paired</td>\n",
       "      <td>51</td>\n",
       "      <td>Illumina HiSeq 2000</td>\n",
       "      <td>include</td>\n",
       "      <td>GSM2027310</td>\n",
       "    </tr>\n",
       "    <tr>\n",
       "      <th>1611_GSM2027311</th>\n",
       "      <td>-4.529855</td>\n",
       "      <td>3.360756</td>\n",
       "      <td>6.702286</td>\n",
       "      <td>1611</td>\n",
       "      <td>conventional dendritic cell</td>\n",
       "      <td>NA</td>\n",
       "      <td>NA</td>\n",
       "      <td>normal</td>\n",
       "      <td>homo sapiens</td>\n",
       "      <td>cDC1</td>\n",
       "      <td>...</td>\n",
       "      <td>illumina_truseq</td>\n",
       "      <td>Illumina Truseq RNA Sample Prep v2</td>\n",
       "      <td>oligo-dT beads</td>\n",
       "      <td>RNA heat and buffer</td>\n",
       "      <td>non stranded</td>\n",
       "      <td>paired</td>\n",
       "      <td>51</td>\n",
       "      <td>Illumina HiSeq 2000</td>\n",
       "      <td>include</td>\n",
       "      <td>GSM2027311</td>\n",
       "    </tr>\n",
       "    <tr>\n",
       "      <th>1611_GSM2027312</th>\n",
       "      <td>-3.005116</td>\n",
       "      <td>0.504935</td>\n",
       "      <td>2.683710</td>\n",
       "      <td>1611</td>\n",
       "      <td>plasmacytoid dendritic cell</td>\n",
       "      <td>NA</td>\n",
       "      <td>NA</td>\n",
       "      <td>normal</td>\n",
       "      <td>homo sapiens</td>\n",
       "      <td>pDC</td>\n",
       "      <td>...</td>\n",
       "      <td>illumina_truseq</td>\n",
       "      <td>Illumina Truseq RNA Sample Prep v2</td>\n",
       "      <td>oligo-dT beads</td>\n",
       "      <td>RNA heat and buffer</td>\n",
       "      <td>non stranded</td>\n",
       "      <td>paired</td>\n",
       "      <td>51</td>\n",
       "      <td>Illumina HiSeq 2000</td>\n",
       "      <td>include</td>\n",
       "      <td>GSM2027312</td>\n",
       "    </tr>\n",
       "    <tr>\n",
       "      <th>1611_GSM2027313</th>\n",
       "      <td>-3.741321</td>\n",
       "      <td>2.174157</td>\n",
       "      <td>3.966259</td>\n",
       "      <td>1611</td>\n",
       "      <td>plasmacytoid dendritic cell</td>\n",
       "      <td>NA</td>\n",
       "      <td>NA</td>\n",
       "      <td>normal</td>\n",
       "      <td>homo sapiens</td>\n",
       "      <td>pDC</td>\n",
       "      <td>...</td>\n",
       "      <td>illumina_truseq</td>\n",
       "      <td>Illumina Truseq RNA Sample Prep v2</td>\n",
       "      <td>oligo-dT beads</td>\n",
       "      <td>RNA heat and buffer</td>\n",
       "      <td>non stranded</td>\n",
       "      <td>paired</td>\n",
       "      <td>50</td>\n",
       "      <td>Illumina HiSeq 2000</td>\n",
       "      <td>include</td>\n",
       "      <td>GSM2027313</td>\n",
       "    </tr>\n",
       "    <tr>\n",
       "      <th>1611_GSM2027314</th>\n",
       "      <td>-4.489219</td>\n",
       "      <td>3.505786</td>\n",
       "      <td>6.058342</td>\n",
       "      <td>1611</td>\n",
       "      <td>conventional dendritic cell</td>\n",
       "      <td>NA</td>\n",
       "      <td>NA</td>\n",
       "      <td>normal</td>\n",
       "      <td>homo sapiens</td>\n",
       "      <td>cDC2</td>\n",
       "      <td>...</td>\n",
       "      <td>illumina_truseq</td>\n",
       "      <td>Illumina Truseq RNA Sample Prep v2</td>\n",
       "      <td>oligo-dT beads</td>\n",
       "      <td>RNA heat and buffer</td>\n",
       "      <td>non stranded</td>\n",
       "      <td>paired</td>\n",
       "      <td>51</td>\n",
       "      <td>Illumina HiSeq 2000</td>\n",
       "      <td>include</td>\n",
       "      <td>GSM2027314</td>\n",
       "    </tr>\n",
       "    <tr>\n",
       "      <th>...</th>\n",
       "      <td>...</td>\n",
       "      <td>...</td>\n",
       "      <td>...</td>\n",
       "      <td>...</td>\n",
       "      <td>...</td>\n",
       "      <td>...</td>\n",
       "      <td>...</td>\n",
       "      <td>...</td>\n",
       "      <td>...</td>\n",
       "      <td>...</td>\n",
       "      <td>...</td>\n",
       "      <td>...</td>\n",
       "      <td>...</td>\n",
       "      <td>...</td>\n",
       "      <td>...</td>\n",
       "      <td>...</td>\n",
       "      <td>...</td>\n",
       "      <td>...</td>\n",
       "      <td>...</td>\n",
       "      <td>...</td>\n",
       "      <td>...</td>\n",
       "    </tr>\n",
       "    <tr>\n",
       "      <th>9798_Kolf2_iMacs_UT_16h_2_01</th>\n",
       "      <td>2.359684</td>\n",
       "      <td>3.678094</td>\n",
       "      <td>-0.782815</td>\n",
       "      <td>9798</td>\n",
       "      <td>macrophage</td>\n",
       "      <td>induced pluripotent stem cell</td>\n",
       "      <td>macrophage</td>\n",
       "      <td>normal</td>\n",
       "      <td>homo sapiens</td>\n",
       "      <td>UT_16h</td>\n",
       "      <td>...</td>\n",
       "      <td>hudson</td>\n",
       "      <td>Hudson</td>\n",
       "      <td>unknown</td>\n",
       "      <td>unknown</td>\n",
       "      <td>unknown</td>\n",
       "      <td>unknown</td>\n",
       "      <td>unknown</td>\n",
       "      <td>unknown</td>\n",
       "      <td>include</td>\n",
       "      <td>Kolf2</td>\n",
       "    </tr>\n",
       "    <tr>\n",
       "      <th>9798_Kolf2_iMacs_UT_16h_3_01</th>\n",
       "      <td>2.288674</td>\n",
       "      <td>3.790161</td>\n",
       "      <td>-0.845531</td>\n",
       "      <td>9798</td>\n",
       "      <td>macrophage</td>\n",
       "      <td>induced pluripotent stem cell</td>\n",
       "      <td>macrophage</td>\n",
       "      <td>normal</td>\n",
       "      <td>homo sapiens</td>\n",
       "      <td>UT_16h</td>\n",
       "      <td>...</td>\n",
       "      <td>hudson</td>\n",
       "      <td>Hudson</td>\n",
       "      <td>unknown</td>\n",
       "      <td>unknown</td>\n",
       "      <td>unknown</td>\n",
       "      <td>unknown</td>\n",
       "      <td>unknown</td>\n",
       "      <td>unknown</td>\n",
       "      <td>include</td>\n",
       "      <td>Kolf2</td>\n",
       "    </tr>\n",
       "    <tr>\n",
       "      <th>9798_Kolf2_iMacs_UT_6h_1_01</th>\n",
       "      <td>2.102047</td>\n",
       "      <td>3.035480</td>\n",
       "      <td>-0.995089</td>\n",
       "      <td>9798</td>\n",
       "      <td>macrophage</td>\n",
       "      <td>induced pluripotent stem cell</td>\n",
       "      <td>macrophage</td>\n",
       "      <td>normal</td>\n",
       "      <td>homo sapiens</td>\n",
       "      <td>UT_6h</td>\n",
       "      <td>...</td>\n",
       "      <td>hudson</td>\n",
       "      <td>Hudson</td>\n",
       "      <td>unknown</td>\n",
       "      <td>unknown</td>\n",
       "      <td>unknown</td>\n",
       "      <td>unknown</td>\n",
       "      <td>unknown</td>\n",
       "      <td>unknown</td>\n",
       "      <td>include</td>\n",
       "      <td>Kolf2</td>\n",
       "    </tr>\n",
       "    <tr>\n",
       "      <th>9798_Kolf2_iMacs_UT_6h_2_01</th>\n",
       "      <td>2.270611</td>\n",
       "      <td>3.429276</td>\n",
       "      <td>-0.422968</td>\n",
       "      <td>9798</td>\n",
       "      <td>macrophage</td>\n",
       "      <td>induced pluripotent stem cell</td>\n",
       "      <td>macrophage</td>\n",
       "      <td>normal</td>\n",
       "      <td>homo sapiens</td>\n",
       "      <td>UT_6h</td>\n",
       "      <td>...</td>\n",
       "      <td>hudson</td>\n",
       "      <td>Hudson</td>\n",
       "      <td>unknown</td>\n",
       "      <td>unknown</td>\n",
       "      <td>unknown</td>\n",
       "      <td>unknown</td>\n",
       "      <td>unknown</td>\n",
       "      <td>unknown</td>\n",
       "      <td>include</td>\n",
       "      <td>Kolf2</td>\n",
       "    </tr>\n",
       "    <tr>\n",
       "      <th>9798_Kolf2_iMacs_UT_6h_3_01</th>\n",
       "      <td>2.482264</td>\n",
       "      <td>3.670635</td>\n",
       "      <td>-0.964561</td>\n",
       "      <td>9798</td>\n",
       "      <td>macrophage</td>\n",
       "      <td>induced pluripotent stem cell</td>\n",
       "      <td>macrophage</td>\n",
       "      <td>normal</td>\n",
       "      <td>homo sapiens</td>\n",
       "      <td>UT_6h</td>\n",
       "      <td>...</td>\n",
       "      <td>hudson</td>\n",
       "      <td>Hudson</td>\n",
       "      <td>unknown</td>\n",
       "      <td>unknown</td>\n",
       "      <td>unknown</td>\n",
       "      <td>unknown</td>\n",
       "      <td>unknown</td>\n",
       "      <td>unknown</td>\n",
       "      <td>include</td>\n",
       "      <td>Kolf2</td>\n",
       "    </tr>\n",
       "  </tbody>\n",
       "</table>\n",
       "<p>554 rows × 38 columns</p>\n",
       "</div>"
      ],
      "text/plain": [
       "                                    V0        V1        V2  dataset_id  \\\n",
       "sample_id                                                                \n",
       "1611_GSM2027310              -4.541587  3.507635  6.212718        1611   \n",
       "1611_GSM2027311              -4.529855  3.360756  6.702286        1611   \n",
       "1611_GSM2027312              -3.005116  0.504935  2.683710        1611   \n",
       "1611_GSM2027313              -3.741321  2.174157  3.966259        1611   \n",
       "1611_GSM2027314              -4.489219  3.505786  6.058342        1611   \n",
       "...                                ...       ...       ...         ...   \n",
       "9798_Kolf2_iMacs_UT_16h_2_01  2.359684  3.678094 -0.782815        9798   \n",
       "9798_Kolf2_iMacs_UT_16h_3_01  2.288674  3.790161 -0.845531        9798   \n",
       "9798_Kolf2_iMacs_UT_6h_1_01   2.102047  3.035480 -0.995089        9798   \n",
       "9798_Kolf2_iMacs_UT_6h_2_01   2.270611  3.429276 -0.422968        9798   \n",
       "9798_Kolf2_iMacs_UT_6h_3_01   2.482264  3.670635 -0.964561        9798   \n",
       "\n",
       "                                                cell_type  \\\n",
       "sample_id                                                   \n",
       "1611_GSM2027310               conventional dendritic cell   \n",
       "1611_GSM2027311               conventional dendritic cell   \n",
       "1611_GSM2027312               plasmacytoid dendritic cell   \n",
       "1611_GSM2027313               plasmacytoid dendritic cell   \n",
       "1611_GSM2027314               conventional dendritic cell   \n",
       "...                                                   ...   \n",
       "9798_Kolf2_iMacs_UT_16h_2_01                   macrophage   \n",
       "9798_Kolf2_iMacs_UT_16h_3_01                   macrophage   \n",
       "9798_Kolf2_iMacs_UT_6h_1_01                    macrophage   \n",
       "9798_Kolf2_iMacs_UT_6h_2_01                    macrophage   \n",
       "9798_Kolf2_iMacs_UT_6h_3_01                    macrophage   \n",
       "\n",
       "                                         parental_cell_type final_cell_type  \\\n",
       "sample_id                                                                     \n",
       "1611_GSM2027310                                          NA              NA   \n",
       "1611_GSM2027311                                          NA              NA   \n",
       "1611_GSM2027312                                          NA              NA   \n",
       "1611_GSM2027313                                          NA              NA   \n",
       "1611_GSM2027314                                          NA              NA   \n",
       "...                                                     ...             ...   \n",
       "9798_Kolf2_iMacs_UT_16h_2_01  induced pluripotent stem cell      macrophage   \n",
       "9798_Kolf2_iMacs_UT_16h_3_01  induced pluripotent stem cell      macrophage   \n",
       "9798_Kolf2_iMacs_UT_6h_1_01   induced pluripotent stem cell      macrophage   \n",
       "9798_Kolf2_iMacs_UT_6h_2_01   induced pluripotent stem cell      macrophage   \n",
       "9798_Kolf2_iMacs_UT_6h_3_01   induced pluripotent stem cell      macrophage   \n",
       "\n",
       "                             disease_state      organism sample_type  ...  \\\n",
       "sample_id                                                             ...   \n",
       "1611_GSM2027310                     normal  homo sapiens        cDC2  ...   \n",
       "1611_GSM2027311                     normal  homo sapiens        cDC1  ...   \n",
       "1611_GSM2027312                     normal  homo sapiens         pDC  ...   \n",
       "1611_GSM2027313                     normal  homo sapiens         pDC  ...   \n",
       "1611_GSM2027314                     normal  homo sapiens        cDC2  ...   \n",
       "...                                    ...           ...         ...  ...   \n",
       "9798_Kolf2_iMacs_UT_16h_2_01        normal  homo sapiens      UT_16h  ...   \n",
       "9798_Kolf2_iMacs_UT_16h_3_01        normal  homo sapiens      UT_16h  ...   \n",
       "9798_Kolf2_iMacs_UT_6h_1_01         normal  homo sapiens       UT_6h  ...   \n",
       "9798_Kolf2_iMacs_UT_6h_2_01         normal  homo sapiens       UT_6h  ...   \n",
       "9798_Kolf2_iMacs_UT_6h_3_01         normal  homo sapiens       UT_6h  ...   \n",
       "\n",
       "                             prep_method_broad  \\\n",
       "sample_id                                        \n",
       "1611_GSM2027310                illumina_truseq   \n",
       "1611_GSM2027311                illumina_truseq   \n",
       "1611_GSM2027312                illumina_truseq   \n",
       "1611_GSM2027313                illumina_truseq   \n",
       "1611_GSM2027314                illumina_truseq   \n",
       "...                                        ...   \n",
       "9798_Kolf2_iMacs_UT_16h_2_01            hudson   \n",
       "9798_Kolf2_iMacs_UT_16h_3_01            hudson   \n",
       "9798_Kolf2_iMacs_UT_6h_1_01             hudson   \n",
       "9798_Kolf2_iMacs_UT_6h_2_01             hudson   \n",
       "9798_Kolf2_iMacs_UT_6h_3_01             hudson   \n",
       "\n",
       "                                              preparation_method  \\\n",
       "sample_id                                                          \n",
       "1611_GSM2027310               Illumina Truseq RNA Sample Prep v2   \n",
       "1611_GSM2027311               Illumina Truseq RNA Sample Prep v2   \n",
       "1611_GSM2027312               Illumina Truseq RNA Sample Prep v2   \n",
       "1611_GSM2027313               Illumina Truseq RNA Sample Prep v2   \n",
       "1611_GSM2027314               Illumina Truseq RNA Sample Prep v2   \n",
       "...                                                          ...   \n",
       "9798_Kolf2_iMacs_UT_16h_2_01                              Hudson   \n",
       "9798_Kolf2_iMacs_UT_16h_3_01                              Hudson   \n",
       "9798_Kolf2_iMacs_UT_6h_1_01                               Hudson   \n",
       "9798_Kolf2_iMacs_UT_6h_2_01                               Hudson   \n",
       "9798_Kolf2_iMacs_UT_6h_3_01                               Hudson   \n",
       "\n",
       "                                     capture        fragmentation  \\\n",
       "sample_id                                                           \n",
       "1611_GSM2027310               oligo-dT beads  RNA heat and buffer   \n",
       "1611_GSM2027311               oligo-dT beads  RNA heat and buffer   \n",
       "1611_GSM2027312               oligo-dT beads  RNA heat and buffer   \n",
       "1611_GSM2027313               oligo-dT beads  RNA heat and buffer   \n",
       "1611_GSM2027314               oligo-dT beads  RNA heat and buffer   \n",
       "...                                      ...                  ...   \n",
       "9798_Kolf2_iMacs_UT_16h_2_01         unknown              unknown   \n",
       "9798_Kolf2_iMacs_UT_16h_3_01         unknown              unknown   \n",
       "9798_Kolf2_iMacs_UT_6h_1_01          unknown              unknown   \n",
       "9798_Kolf2_iMacs_UT_6h_2_01          unknown              unknown   \n",
       "9798_Kolf2_iMacs_UT_6h_3_01          unknown              unknown   \n",
       "\n",
       "                                  stranded sequencing_layout  \\\n",
       "sample_id                                                      \n",
       "1611_GSM2027310               non stranded            paired   \n",
       "1611_GSM2027311               non stranded            paired   \n",
       "1611_GSM2027312               non stranded            paired   \n",
       "1611_GSM2027313               non stranded            paired   \n",
       "1611_GSM2027314               non stranded            paired   \n",
       "...                                    ...               ...   \n",
       "9798_Kolf2_iMacs_UT_16h_2_01       unknown           unknown   \n",
       "9798_Kolf2_iMacs_UT_16h_3_01       unknown           unknown   \n",
       "9798_Kolf2_iMacs_UT_6h_1_01        unknown           unknown   \n",
       "9798_Kolf2_iMacs_UT_6h_2_01        unknown           unknown   \n",
       "9798_Kolf2_iMacs_UT_6h_3_01        unknown           unknown   \n",
       "\n",
       "                             average_read_length            sequencer  \\\n",
       "sample_id                                                               \n",
       "1611_GSM2027310                               51  Illumina HiSeq 2000   \n",
       "1611_GSM2027311                               51  Illumina HiSeq 2000   \n",
       "1611_GSM2027312                               51  Illumina HiSeq 2000   \n",
       "1611_GSM2027313                               50  Illumina HiSeq 2000   \n",
       "1611_GSM2027314                               51  Illumina HiSeq 2000   \n",
       "...                                          ...                  ...   \n",
       "9798_Kolf2_iMacs_UT_16h_2_01             unknown              unknown   \n",
       "9798_Kolf2_iMacs_UT_16h_3_01             unknown              unknown   \n",
       "9798_Kolf2_iMacs_UT_6h_1_01              unknown              unknown   \n",
       "9798_Kolf2_iMacs_UT_6h_2_01              unknown              unknown   \n",
       "9798_Kolf2_iMacs_UT_6h_3_01              unknown              unknown   \n",
       "\n",
       "                             training_atlas sample_id_without_datasetid  \n",
       "sample_id                                                                \n",
       "1611_GSM2027310                     include                  GSM2027310  \n",
       "1611_GSM2027311                     include                  GSM2027311  \n",
       "1611_GSM2027312                     include                  GSM2027312  \n",
       "1611_GSM2027313                     include                  GSM2027313  \n",
       "1611_GSM2027314                     include                  GSM2027314  \n",
       "...                                     ...                         ...  \n",
       "9798_Kolf2_iMacs_UT_16h_2_01        include                       Kolf2  \n",
       "9798_Kolf2_iMacs_UT_16h_3_01        include                       Kolf2  \n",
       "9798_Kolf2_iMacs_UT_6h_1_01         include                       Kolf2  \n",
       "9798_Kolf2_iMacs_UT_6h_2_01         include                       Kolf2  \n",
       "9798_Kolf2_iMacs_UT_6h_3_01         include                       Kolf2  \n",
       "\n",
       "[554 rows x 38 columns]"
      ]
     },
     "execution_count": 9,
     "metadata": {},
     "output_type": "execute_result"
    }
   ],
   "source": [
    "scvi_representation_coordinates_merged"
   ]
  },
  {
   "cell_type": "code",
   "execution_count": 11,
   "id": "f985dab2-88e2-4751-8a1d-e4bba8237ecb",
   "metadata": {},
   "outputs": [
    {
     "data": {
      "application/vnd.plotly.v1+json": {
       "config": {
        "plotlyServerURL": "https://plot.ly"
       },
       "data": [
        {
         "hovertemplate": "cell_type=conventional dendritic cell<br>prep_method_broad=illumina_truseq<br>V0=%{x}<br>V1=%{y}<br>V2=%{z}<extra></extra>",
         "legendgroup": "conventional dendritic cell, illumina_truseq",
         "marker": {
          "color": "#636efa",
          "size": 4,
          "symbol": "circle"
         },
         "mode": "markers",
         "name": "conventional dendritic cell, illumina_truseq",
         "scene": "scene",
         "showlegend": true,
         "type": "scatter3d",
         "x": [
          -4.541587,
          -4.529855,
          -4.489219,
          -4.2549086,
          -4.358716,
          -4.416074,
          -5.073221,
          -5.6385283,
          -5.4563527,
          -5.0390043,
          -5.7313776,
          -5.511319,
          -1.7994804,
          -1.8651357,
          -1.7926382,
          -1.1710972,
          -4.1122503,
          -4.081278
         ],
         "y": [
          3.5076349,
          3.3607557,
          3.5057857,
          3.0152254,
          3.3265662,
          3.2409763,
          4.0753927,
          4.6492043,
          4.51471,
          3.968061,
          4.6685705,
          4.5392585,
          -0.77828753,
          -0.88210434,
          -0.8693345,
          11.576629,
          3.2103636,
          3.137331
         ],
         "z": [
          6.2127185,
          6.7022862,
          6.058342,
          6.799283,
          5.740089,
          6.399227,
          9.065607,
          9.709855,
          9.269984,
          9.002336,
          10.061225,
          9.493608,
          7.454585,
          8.189039,
          8.300507,
          15.846764,
          4.792075,
          5.0243287
         ]
        },
        {
         "hovertemplate": "cell_type=conventional dendritic cell<br>prep_method_broad=smartseq_unknown<br>V0=%{x}<br>V1=%{y}<br>V2=%{z}<extra></extra>",
         "legendgroup": "conventional dendritic cell, smartseq_unknown",
         "marker": {
          "color": "#636efa",
          "size": 4,
          "symbol": "diamond"
         },
         "mode": "markers",
         "name": "conventional dendritic cell, smartseq_unknown",
         "scene": "scene",
         "showlegend": true,
         "type": "scatter3d",
         "x": [
          -3.27829,
          -3.6643796,
          -3.2774887,
          -3.4683862,
          -4.314849,
          -1.9806191
         ],
         "y": [
          1.4756186,
          1.9319174,
          1.595741,
          1.7817564,
          3.0575354,
          -1.4173067
         ],
         "z": [
          7.160015,
          7.276862,
          6.4465327,
          6.8032312,
          7.284047,
          15.545118
         ]
        },
        {
         "hovertemplate": "cell_type=conventional dendritic cell<br>prep_method_broad=nugen<br>V0=%{x}<br>V1=%{y}<br>V2=%{z}<extra></extra>",
         "legendgroup": "conventional dendritic cell, nugen",
         "marker": {
          "color": "#636efa",
          "size": 4,
          "symbol": "square"
         },
         "mode": "markers",
         "name": "conventional dendritic cell, nugen",
         "scene": "scene",
         "showlegend": true,
         "type": "scatter3d",
         "x": [
          -5.4799986,
          -6.195396,
          -5.588421,
          -5.768171,
          -3.7877018,
          -3.4951773,
          -3.1294134,
          1.5911596,
          1.8184445,
          1.4297144,
          0.4961661,
          0.40916085,
          0.7116139
         ],
         "y": [
          4.136057,
          4.963479,
          4.382859,
          4.4380093,
          2.560611,
          2.1868556,
          1.166168,
          1.1939229,
          1.2379936,
          1.3512684,
          1.2410479,
          0.9455769,
          1.0468967
         ],
         "z": [
          9.973201,
          11.679644,
          9.869422,
          10.655991,
          4.2411737,
          3.320631,
          2.5377178,
          4.3610067,
          5.140529,
          4.8777304,
          3.4185271,
          3.1959481,
          3.6771278
         ]
        },
        {
         "hovertemplate": "cell_type=plasmacytoid dendritic cell<br>prep_method_broad=illumina_truseq<br>V0=%{x}<br>V1=%{y}<br>V2=%{z}<extra></extra>",
         "legendgroup": "plasmacytoid dendritic cell, illumina_truseq",
         "marker": {
          "color": "#EF553B",
          "size": 4,
          "symbol": "circle"
         },
         "mode": "markers",
         "name": "plasmacytoid dendritic cell, illumina_truseq",
         "scene": "scene",
         "showlegend": true,
         "type": "scatter3d",
         "x": [
          -3.005116,
          -3.741321,
          -2.9755044,
          -3.0669634,
          -2.908843,
          -2.8101828,
          -2.8600614,
          -3.4194305,
          -3.4333315
         ],
         "y": [
          0.50493485,
          2.1741571,
          0.31391078,
          0.48587647,
          0.16595751,
          -0.044141926,
          6.3074584,
          1.2661523,
          1.0965621
         ],
         "z": [
          2.6837096,
          3.9662595,
          2.3490863,
          2.3189976,
          2.128698,
          2.2573433,
          8.807292,
          3.3238697,
          3.4995012
         ]
        },
        {
         "hovertemplate": "cell_type=plasmacytoid dendritic cell<br>prep_method_broad=nugen<br>V0=%{x}<br>V1=%{y}<br>V2=%{z}<extra></extra>",
         "legendgroup": "plasmacytoid dendritic cell, nugen",
         "marker": {
          "color": "#EF553B",
          "size": 4,
          "symbol": "square"
         },
         "mode": "markers",
         "name": "plasmacytoid dendritic cell, nugen",
         "scene": "scene",
         "showlegend": true,
         "type": "scatter3d",
         "x": [
          0.30013335,
          0.38339627,
          -0.591405,
          -0.7479459,
          -0.33101654
         ],
         "y": [
          -0.12237082,
          0.59719545,
          -0.4475722,
          -0.68334633,
          -0.3748209
         ],
         "z": [
          5.5329776,
          4.2949724,
          5.467502,
          5.703264,
          4.6820498
         ]
        },
        {
         "hovertemplate": "cell_type=plasmacytoid dendritic cell<br>prep_method_broad=illumina_nextera<br>V0=%{x}<br>V1=%{y}<br>V2=%{z}<extra></extra>",
         "legendgroup": "plasmacytoid dendritic cell, illumina_nextera",
         "marker": {
          "color": "#EF553B",
          "size": 4,
          "symbol": "diamond"
         },
         "mode": "markers",
         "name": "plasmacytoid dendritic cell, illumina_nextera",
         "scene": "scene",
         "showlegend": true,
         "type": "scatter3d",
         "x": [
          -2.2120261,
          -2.3778582,
          -2.3339624,
          -2.3918557
         ],
         "y": [
          -0.54981023,
          0.13519335,
          -0.34235957,
          -0.2517112
         ],
         "z": [
          3.231657,
          3.3775406,
          2.6411707,
          2.437806
         ]
        },
        {
         "hovertemplate": "cell_type=dendritic cell<br>prep_method_broad=illumina_truseq<br>V0=%{x}<br>V1=%{y}<br>V2=%{z}<extra></extra>",
         "legendgroup": "dendritic cell, illumina_truseq",
         "marker": {
          "color": "#00cc96",
          "size": 4,
          "symbol": "circle"
         },
         "mode": "markers",
         "name": "dendritic cell, illumina_truseq",
         "scene": "scene",
         "showlegend": true,
         "type": "scatter3d",
         "x": [
          -1.28346,
          -1.3737895,
          -1.1785603,
          -1.2436464,
          -1.0667707,
          -1.4727793,
          0.8382287,
          1.6678343,
          1.3981574,
          1.4702759,
          1.4479756
         ],
         "y": [
          2.6800387,
          2.6141438,
          2.716339,
          2.6802351,
          2.9368627,
          2.505106,
          5.0057926,
          6.0166893,
          4.98128,
          5.2595363,
          5.8590465
         ],
         "z": [
          -0.2245121,
          -0.30985785,
          0.017171025,
          -0.010858536,
          0.085849404,
          -0.32008737,
          4.4107456,
          5.230795,
          3.743029,
          3.9645653,
          4.9585395
         ]
        },
        {
         "hovertemplate": "cell_type=dendritic cell<br>prep_method_broad=illumina_nextera<br>V0=%{x}<br>V1=%{y}<br>V2=%{z}<extra></extra>",
         "legendgroup": "dendritic cell, illumina_nextera",
         "marker": {
          "color": "#00cc96",
          "size": 4,
          "symbol": "diamond"
         },
         "mode": "markers",
         "name": "dendritic cell, illumina_nextera",
         "scene": "scene",
         "showlegend": true,
         "type": "scatter3d",
         "x": [
          -3.865788,
          -4.100816,
          -3.7587574,
          -3.5663915
         ],
         "y": [
          3.23229,
          3.2334356,
          2.898359,
          2.8797045
         ],
         "z": [
          5.329611,
          5.722838,
          4.4605107,
          3.860331
         ]
        },
        {
         "hovertemplate": "cell_type=monocyte<br>prep_method_broad=illumina_truseq<br>V0=%{x}<br>V1=%{y}<br>V2=%{z}<extra></extra>",
         "legendgroup": "monocyte, illumina_truseq",
         "marker": {
          "color": "#ab63fa",
          "size": 4,
          "symbol": "circle"
         },
         "mode": "markers",
         "name": "monocyte, illumina_truseq",
         "scene": "scene",
         "showlegend": true,
         "type": "scatter3d",
         "x": [
          -1.9523835,
          -0.38577795,
          -1.5612993,
          -1.5758039,
          -1.8027307,
          -1.4177175,
          -1.8942912,
          -1.8677974,
          -2.018692,
          -1.929882,
          -0.5536114,
          -1.0950941,
          -5.618256,
          -5.8122354,
          -5.201297,
          -5.874758,
          -5.6654315,
          -5.614935,
          -5.7311287,
          -5.6046386,
          -5.6962423,
          -0.5455126,
          -0.7770909,
          -0.47431946,
          -0.19356358
         ],
         "y": [
          10.476305,
          14.265942,
          9.165301,
          9.013774,
          8.598395,
          10.272018,
          8.496574,
          8.704406,
          8.229117,
          8.486583,
          11.009688,
          10.265004,
          6.668681,
          7.015917,
          5.925636,
          7.091248,
          6.809958,
          6.681422,
          6.9238343,
          6.8536634,
          6.9007735,
          4.176717,
          3.8160214,
          4.2503576,
          4.3163857
         ],
         "z": [
          3.4622512,
          5.658421,
          3.6214547,
          3.252325,
          3.2148852,
          4.073127,
          3.0899434,
          3.3812723,
          2.9502182,
          3.0756493,
          4.393511,
          3.9832683,
          2.2585084,
          2.2297328,
          1.7385709,
          2.2952924,
          2.5901265,
          1.8859844,
          1.8827245,
          2.022911,
          2.0192869,
          4.1767945,
          4.0442467,
          4.4142623,
          4.201701
         ]
        },
        {
         "hovertemplate": "cell_type=monocyte<br>prep_method_broad=nugen<br>V0=%{x}<br>V1=%{y}<br>V2=%{z}<extra></extra>",
         "legendgroup": "monocyte, nugen",
         "marker": {
          "color": "#ab63fa",
          "size": 4,
          "symbol": "square"
         },
         "mode": "markers",
         "name": "monocyte, nugen",
         "scene": "scene",
         "showlegend": true,
         "type": "scatter3d",
         "x": [
          -1.9461813,
          -1.4165729,
          -1.6932393,
          0.544575,
          -3.8348985,
          -3.9845605,
          -3.7645433,
          -3.8461192
         ],
         "y": [
          5.763424,
          7.461605,
          6.168039,
          10.56368,
          3.8767765,
          4.122943,
          3.7701464,
          4.032657
         ],
         "z": [
          1.5971494,
          3.0072846,
          2.0290492,
          11.268326,
          0.7950542,
          1.1522679,
          0.90436697,
          1.0122418
         ]
        },
        {
         "hovertemplate": "cell_type=monocyte<br>prep_method_broad=illumina_nextera<br>V0=%{x}<br>V1=%{y}<br>V2=%{z}<extra></extra>",
         "legendgroup": "monocyte, illumina_nextera",
         "marker": {
          "color": "#ab63fa",
          "size": 4,
          "symbol": "diamond"
         },
         "mode": "markers",
         "name": "monocyte, illumina_nextera",
         "scene": "scene",
         "showlegend": true,
         "type": "scatter3d",
         "x": [
          -2.0240278,
          -1.885798,
          -1.8628161,
          -2.3599815,
          -3.0045943,
          -3.2859335,
          -2.9395106,
          -2.496917,
          -2.419548,
          -2.69931,
          -3.1343632,
          -2.5799925
         ],
         "y": [
          6.78408,
          6.953371,
          6.5473003,
          5.5744724,
          6.2676854,
          5.1323814,
          5.0093617,
          4.963416,
          4.972054,
          5.099013,
          4.872286,
          5.337621
         ],
         "z": [
          6.2754235,
          4.894506,
          4.081722,
          3.0187526,
          2.9041576,
          2.4362652,
          2.0643942,
          1.9572325,
          1.6742203,
          2.003152,
          1.5311785,
          1.8148642
         ]
        },
        {
         "hovertemplate": "cell_type=neural progenitor cell<br>prep_method_broad=illumina_truseq<br>V0=%{x}<br>V1=%{y}<br>V2=%{z}<extra></extra>",
         "legendgroup": "neural progenitor cell, illumina_truseq",
         "marker": {
          "color": "#FFA15A",
          "size": 4,
          "symbol": "circle"
         },
         "mode": "markers",
         "name": "neural progenitor cell, illumina_truseq",
         "scene": "scene",
         "showlegend": true,
         "type": "scatter3d",
         "x": [
          5.258825,
          5.2688637,
          5.5645785,
          5.2976756,
          5.098226,
          5.2513556,
          5.8588734,
          5.628957,
          6.424556
         ],
         "y": [
          -12.487169,
          -12.53183,
          -12.723213,
          -12.202754,
          -12.084037,
          -12.059449,
          -5.7417784,
          -5.2596235,
          -5.400635
         ],
         "z": [
          1.4586511,
          1.4667203,
          1.3790433,
          1.4003925,
          1.4161828,
          1.3247368,
          5.626725,
          5.078233,
          5.5546923
         ]
        },
        {
         "hovertemplate": "cell_type=neural progenitor cell<br>prep_method_broad=smartseq_unknown<br>V0=%{x}<br>V1=%{y}<br>V2=%{z}<extra></extra>",
         "legendgroup": "neural progenitor cell, smartseq_unknown",
         "marker": {
          "color": "#FFA15A",
          "size": 4,
          "symbol": "diamond"
         },
         "mode": "markers",
         "name": "neural progenitor cell, smartseq_unknown",
         "scene": "scene",
         "showlegend": true,
         "type": "scatter3d",
         "x": [
          0.878144,
          -0.5578749,
          -0.7241902,
          -0.3054744,
          -0.67956054,
          -0.056566834,
          -0.17980039,
          -0.117648005,
          0.062061906,
          -0.42216247,
          1.0053308,
          -0.4348113,
          0.7012063,
          -0.12916505,
          1.5276337,
          0.0699594,
          -0.09272671,
          -0.69576216,
          0.5340024,
          0.9870863,
          1.68625,
          -0.29037875,
          0.19112682,
          -0.28859514,
          0.14175212,
          0.6128962,
          1.1873262,
          10.640959,
          11.576408,
          10.3829365,
          12.823252
         ],
         "y": [
          -6.7631207,
          -6.9642487,
          -6.650283,
          -5.512913,
          -4.786328,
          -7.9234123,
          -7.3764663,
          -5.82824,
          -4.0875897,
          -6.942275,
          -6.6730137,
          -3.98806,
          -3.2190464,
          -5.765311,
          -5.5583334,
          -7.264378,
          -6.20842,
          -3.4191947,
          -3.1442146,
          -3.9446626,
          -5.8448515,
          -6.267686,
          -5.451308,
          -6.6091,
          -5.3686814,
          -6.998699,
          -4.350606,
          -1.3182131,
          -1.825648,
          -3.8367758,
          -2.1145966
         ],
         "z": [
          -0.75157154,
          -5.6683435,
          -5.2941475,
          -3.0137265,
          -4.1524696,
          -2.6900349,
          -1.9536091,
          -0.74950695,
          -1.7118689,
          -4.857625,
          -1.797713,
          -2.3988304,
          -2.0159929,
          -2.6636758,
          -1.3113973,
          -1.3108224,
          -0.64875656,
          -3.26512,
          -1.9938936,
          -1.6782948,
          -1.4851557,
          -2.3872066,
          -1.2582166,
          -1.9389486,
          -1.4141694,
          -1.858268,
          -0.8098489,
          -1.3524833,
          -0.9128449,
          -1.9820796,
          -0.9042884
         ]
        },
        {
         "hovertemplate": "cell_type=embryonic stem cell<br>prep_method_broad=illumina_truseq<br>V0=%{x}<br>V1=%{y}<br>V2=%{z}<extra></extra>",
         "legendgroup": "embryonic stem cell, illumina_truseq",
         "marker": {
          "color": "#19d3f3",
          "size": 4,
          "symbol": "circle"
         },
         "mode": "markers",
         "name": "embryonic stem cell, illumina_truseq",
         "scene": "scene",
         "showlegend": true,
         "type": "scatter3d",
         "x": [
          8.399374,
          8.21265,
          6.3378215,
          6.3079123,
          -0.19700444,
          -0.1868962,
          -0.19896948,
          -0.14092493,
          0.07940233,
          0.3029852,
          0.22494316,
          0.15601003,
          0.24237168,
          0.13860977,
          0.10498476,
          0.2640468,
          3.7260036,
          5.460801,
          2.7891145,
          4.8407784,
          3.485251,
          4.3090644,
          5.1919913,
          1.5491889,
          2.691688,
          2.0060046,
          4.2499056,
          4.2943206,
          4.4552846,
          3.8176455
         ],
         "y": [
          -12.078804,
          -11.844397,
          -10.66424,
          -10.7542305,
          -7.8443666,
          -7.9026537,
          -7.8574934,
          -7.9108076,
          -8.200421,
          -8.658714,
          -8.353877,
          -5.670651,
          -5.725624,
          -5.5391226,
          -8.235256,
          -8.411241,
          -2.3303046,
          -2.3462756,
          -1.7979739,
          -3.3364053,
          -3.3500564,
          -2.6293104,
          -2.4546604,
          -6.433629,
          -6.588218,
          -5.100406,
          -1.9187078,
          -1.8376927,
          -2.1180062,
          -2.0676975
         ],
         "z": [
          -6.1221704,
          -6.1927023,
          -5.9577184,
          -5.848488,
          -7.2192736,
          -7.2202363,
          -7.265942,
          -7.110419,
          -7.554152,
          -7.9015393,
          -7.6151123,
          -5.997054,
          -5.9862666,
          -5.8402805,
          -6.6409926,
          -6.5981145,
          -4.6257277,
          -5.6284266,
          -4.712962,
          -3.7548962,
          -4.1887755,
          -4.1789513,
          -5.853078,
          -5.995935,
          -6.2709026,
          -4.413085,
          -5.2236323,
          -5.206438,
          -5.2292,
          -5.3865676
         ]
        },
        {
         "hovertemplate": "cell_type=embryonic stem cell<br>prep_method_broad=nextflex96<br>V0=%{x}<br>V1=%{y}<br>V2=%{z}<extra></extra>",
         "legendgroup": "embryonic stem cell, nextflex96",
         "marker": {
          "color": "#19d3f3",
          "size": 4,
          "symbol": "x"
         },
         "mode": "markers",
         "name": "embryonic stem cell, nextflex96",
         "scene": "scene",
         "showlegend": true,
         "type": "scatter3d",
         "x": [
          2.8946233,
          2.6495028,
          1.8379483,
          1.1194692,
          -0.29742414,
          -0.21090674,
          -0.31922686
         ],
         "y": [
          -4.887203,
          -4.9709606,
          -4.363653,
          -4.1981044,
          -2.2070615,
          -2.2100248,
          -1.9961066
         ],
         "z": [
          -0.39254862,
          0.05035305,
          -2.5360343,
          -2.6419394,
          -3.2893639,
          -3.2132494,
          -3.2146087
         ]
        },
        {
         "hovertemplate": "cell_type=embryonic stem cell<br>prep_method_broad=nebnext<br>V0=%{x}<br>V1=%{y}<br>V2=%{z}<extra></extra>",
         "legendgroup": "embryonic stem cell, nebnext",
         "marker": {
          "color": "#19d3f3",
          "size": 4,
          "symbol": "cross"
         },
         "mode": "markers",
         "name": "embryonic stem cell, nebnext",
         "scene": "scene",
         "showlegend": true,
         "type": "scatter3d",
         "x": [
          2.694056,
          2.2841709,
          1.7374344,
          1.4168165,
          1.0010548,
          2.0290475,
          1.5655286,
          0.36365795,
          1.0642691,
          1.2151666,
          0.42983913,
          -0.16343951,
          1.186502,
          1.2105541,
          2.0961974,
          1.3880224,
          0.5203414,
          1.4447393,
          3.3093076,
          3.2140164,
          3.462232,
          -0.56544644,
          -0.49536395,
          -0.6840107
         ],
         "y": [
          -7.3423924,
          -5.456161,
          -7.148064,
          -3.2390764,
          -2.4162657,
          -2.458379,
          -3.3363016,
          -1.911317,
          -2.6696765,
          -2.8721545,
          -2.3781593,
          -1.91785,
          -1.6721295,
          -1.2933683,
          -1.5222197,
          -1.4620664,
          -2.1398406,
          -0.8988162,
          -1.0759566,
          -1.0733485,
          -1.0301635,
          -6.7477374,
          -6.7117662,
          -5.889073
         ],
         "z": [
          -2.926015,
          -3.0571537,
          -2.4083824,
          -2.8023467,
          -2.9055526,
          -3.0874023,
          -3.5561483,
          -3.5278103,
          -3.5827096,
          -3.258362,
          -3.0906978,
          -3.041522,
          -4.0461397,
          -4.1919146,
          -4.349668,
          -4.251794,
          -3.7801833,
          -4.347023,
          -4.9950905,
          -4.887788,
          -4.9596,
          -3.439898,
          -3.5204322,
          -4.0739193
         ]
        },
        {
         "hovertemplate": "cell_type=induced pluripotent stem cell<br>prep_method_broad=illumina_truseq<br>V0=%{x}<br>V1=%{y}<br>V2=%{z}<extra></extra>",
         "legendgroup": "induced pluripotent stem cell, illumina_truseq",
         "marker": {
          "color": "#FF6692",
          "size": 4,
          "symbol": "circle"
         },
         "mode": "markers",
         "name": "induced pluripotent stem cell, illumina_truseq",
         "scene": "scene",
         "showlegend": true,
         "type": "scatter3d",
         "x": [
          -0.018313289,
          0.010316253,
          0.18001235,
          0.90794945,
          1.9964557,
          0.92905617,
          1.488595,
          2.172848,
          1.6730633,
          -1.4945922,
          -1.4313738,
          -1.5421228,
          -1.4269416,
          -1.3175323,
          -0.88065183,
          -1.0517812,
          -1.0672724,
          -1.2544056,
          -1.1852262,
          -1.1772964,
          -0.8992251,
          -1.3047228,
          -1.5482693,
          -0.8949956,
          -1.2823519,
          -1.2871987,
          -0.44972676,
          -1.3111842,
          -1.140653,
          -1.2917777,
          -1.0392232,
          -0.64145833,
          -0.9550876,
          -0.6719145,
          -0.97829723,
          -0.28390402,
          0.39654136,
          -0.22240508,
          -0.53534406,
          -0.24440163,
          -0.55692834,
          -0.9743004,
          -1.1395713,
          -1.2166301,
          -1.2635478,
          -1.291138,
          -1.4539963,
          -1.5867562,
          -1.6648139,
          -1.667697,
          -0.13617718,
          0.14998889,
          -0.31202984,
          -0.3516267,
          -0.536906,
          -0.968364,
          -0.94579947,
          -0.78978586,
          -0.009331703,
          -0.46742922,
          -0.8837961,
          -1.2656186,
          -1.4515378,
          -1.3298626,
          -1.4627426,
          -1.4553494,
          -1.0895953,
          0.61358714,
          1.6530559,
          0.53620636,
          0.7765815,
          0.734974,
          1.4432163,
          0.9409449,
          -0.9871986,
          -1.1127821,
          -0.6623678,
          -1.5142927,
          -1.3905616,
          -1.1292583,
          -1.3235784,
          -1.4932953,
          -1.3509843,
          -0.9238601,
          -0.94711685,
          -0.5869676,
          -0.82718265,
          -0.8431108,
          0.39382052,
          0.2083925,
          0.4981742,
          -1.1655529,
          -1.2823355,
          -1.2008998,
          -1.2951502,
          -0.9902982,
          -1.3211747,
          -0.8758753,
          -0.83998907,
          -0.86887324,
          -0.45686567,
          0.12721932,
          -0.24743384,
          -0.9667195,
          -0.9099077,
          -0.6567113,
          -1.1151617,
          -1.1982105,
          -1.2744285,
          -1.2465607,
          -1.776134,
          0.43693447,
          0.56954193,
          0.4362291,
          -0.09730101,
          -1.1080909,
          -0.20214832,
          -0.47501647,
          -0.7903574,
          0.6135757,
          -1.0281272,
          -1.0112358,
          -1.0303782,
          -1.3014842,
          -1.1353364,
          -1.5122738,
          0.49064922,
          0.30860782,
          0.8111565,
          -0.8442347,
          -0.5509765,
          -0.7904706,
          0.38869834,
          0.19481707,
          0.91396236,
          -0.80516136,
          -1.4359728,
          -1.3330308,
          -0.47751552,
          0.7625184,
          -0.21635616,
          -0.4744135,
          -0.43718553,
          -0.49225754,
          -1.4732139,
          -1.6079892,
          -1.5366893,
          -0.5861981,
          -0.4251517,
          -0.5872032,
          1.7783186,
          1.8316298,
          1.874011,
          1.0722423,
          -0.56475556,
          -0.6705119,
          -1.4657313,
          -1.553891,
          -1.2330893,
          -1.4495767,
          -1.5049777,
          -1.1588039,
          -0.96931636,
          -1.0841038,
          -0.9171915,
          -1.2968483,
          -1.4631422,
          -1.3263196,
          0.67874527,
          0.72348976,
          0.5397662,
          0.46125257,
          -1.0014429,
          0.23086846,
          0.82697034,
          1.1520169,
          0.96890736
         ],
         "y": [
          -8.3101225,
          -8.661312,
          -8.916568,
          -4.4316373,
          -5.2410817,
          -4.3820987,
          -5.141301,
          -5.414399,
          -5.403119,
          -4.687578,
          -5.0893383,
          -4.61371,
          -4.213334,
          -3.7570083,
          -7.040753,
          -4.728845,
          -6.7471004,
          -5.9737124,
          -6.4120526,
          -6.427777,
          -3.3422406,
          -3.7218587,
          -3.8095365,
          -5.1508217,
          -5.930939,
          -5.3597918,
          -6.885334,
          -3.8969307,
          -3.6732128,
          -4.1561728,
          -4.0769954,
          -4.5398846,
          -4.5376873,
          -6.6790757,
          -6.3235903,
          -5.9456515,
          -6.9669576,
          -6.3911433,
          -6.3386507,
          -5.5345707,
          -6.2641587,
          -6.5849404,
          -6.3157787,
          -5.709861,
          -5.634998,
          -5.5362754,
          -5.4706182,
          -4.118823,
          -4.107547,
          -4.011965,
          -5.1636558,
          -5.878976,
          -5.5244026,
          -5.1821175,
          -4.4074354,
          -4.6095395,
          -4.99219,
          -5.363846,
          -5.836095,
          -5.401195,
          -5.7904005,
          -4.969629,
          -4.2072477,
          -3.9740157,
          -4.2931957,
          -4.4542027,
          -4.3851185,
          -5.668398,
          -5.211618,
          -5.6501756,
          -5.7552466,
          -5.5948434,
          -5.594063,
          -5.690027,
          -4.986859,
          -3.6304765,
          -5.0901628,
          -3.950398,
          -4.3422685,
          -4.912177,
          -5.7618475,
          -5.6345067,
          -6.106865,
          -3.832096,
          -4.1623516,
          -4.032653,
          -4.5752463,
          -4.3855557,
          -4.7541094,
          -4.588321,
          -4.5351624,
          -4.009324,
          -4.2684317,
          -4.0184274,
          -5.1525073,
          -5.960229,
          -5.445772,
          -7.0053453,
          -7.246783,
          -7.2281685,
          -6.141208,
          -6.983244,
          -6.0793853,
          -6.505868,
          -7.036131,
          -7.5387034,
          -5.6767664,
          -5.8545923,
          -4.0892944,
          -4.3843293,
          -2.9651203,
          -4.6281004,
          -4.6999354,
          -4.896943,
          -5.4586725,
          -4.240611,
          -5.207388,
          -5.291115,
          -5.624335,
          -5.4090977,
          -4.9312987,
          -5.8701196,
          -5.2875676,
          -4.963254,
          -5.1354594,
          -3.6135397,
          -4.182535,
          -4.555747,
          -3.8508072,
          -4.678584,
          -5.641671,
          -5.237825,
          -6.66236,
          -6.2670355,
          -6.1280127,
          -3.9275086,
          -4.137091,
          -4.0829597,
          -5.1379576,
          -6.4524813,
          -6.5680213,
          -6.2884107,
          -5.978173,
          -6.0681767,
          -5.4251723,
          -5.5031667,
          -5.380179,
          -5.2739487,
          -5.874245,
          -5.115769,
          -5.2617908,
          -5.155216,
          -5.394338,
          -3.8360794,
          -5.3361025,
          -5.4079785,
          -4.9644375,
          -5.0320725,
          -5.887034,
          -4.6417274,
          -5.184856,
          -6.1494756,
          -6.077305,
          -5.806303,
          -6.221305,
          -4.7455583,
          -4.1941514,
          -5.1568246,
          -0.20479849,
          -0.08456033,
          -0.2658623,
          -0.31241655,
          -5.9929667,
          -0.34723708,
          -0.42198128,
          -0.7900349,
          -0.52449274
         ],
         "z": [
          -1.2244874,
          -0.71502167,
          0.16457403,
          -4.7518826,
          -5.135208,
          -4.601307,
          -4.9675407,
          -4.956172,
          -4.934985,
          -3.5309901,
          -3.8461409,
          -3.5956883,
          -4.265753,
          -3.9896238,
          -3.5809615,
          -5.4940653,
          -3.4515243,
          -4.6125603,
          -4.0478325,
          -4.2621555,
          -3.6675904,
          -3.978014,
          -3.523966,
          -3.1824012,
          -3.4670005,
          -3.434443,
          -3.7412803,
          -3.625727,
          -3.660149,
          -3.8365152,
          -3.426882,
          -2.6459832,
          -2.9308438,
          -4.1385164,
          -3.9417636,
          -2.9344916,
          -3.858678,
          -2.708057,
          -3.4920318,
          -2.182572,
          -2.733559,
          -4.9859467,
          -4.63317,
          -4.2345057,
          -4.730603,
          -4.7170634,
          -4.61617,
          -3.7961888,
          -3.7084327,
          -3.5699134,
          -3.9588997,
          -4.1928635,
          -3.4872992,
          -4.172147,
          -4.323185,
          -4.493964,
          -4.646326,
          -4.5786138,
          -3.3116393,
          -2.5180268,
          -2.8172722,
          -4.0959797,
          -4.738391,
          -4.8021126,
          -3.5659063,
          -3.624954,
          -3.8950691,
          -3.6255941,
          -3.0517259,
          -3.4995472,
          -3.574929,
          -3.7377489,
          -3.3776305,
          -3.6642008,
          -2.4206944,
          -3.4333923,
          -2.5165303,
          -5.7726336,
          -5.4506826,
          -4.531639,
          -3.9871538,
          -3.8802657,
          -3.512621,
          -3.1397538,
          -2.9933703,
          -2.7380428,
          -2.765306,
          -3.1306047,
          -2.8401847,
          -2.9583788,
          -2.7044961,
          -3.9168668,
          -4.0300217,
          -4.0180893,
          -3.8697982,
          -3.8764827,
          -3.5076747,
          -3.287553,
          -3.4627645,
          -3.44064,
          -3.3913147,
          -3.4999413,
          -3.5470867,
          -4.390066,
          -4.0966463,
          -3.8848126,
          -4.8486147,
          -4.7092485,
          -4.013571,
          -3.471531,
          -5.559146,
          -3.0468583,
          -3.0543642,
          -3.2045453,
          -3.7806773,
          -5.998122,
          -3.307158,
          -3.5289776,
          -3.6499937,
          -3.4259565,
          -4.6405783,
          -5.257211,
          -4.9184613,
          -3.6203856,
          -3.2252507,
          -4.762503,
          -3.1850238,
          -2.864158,
          -3.3962827,
          -2.4303546,
          -2.7066033,
          -2.3779998,
          -3.2917426,
          -3.2205148,
          -2.885498,
          -4.071433,
          -3.6614559,
          -3.7745395,
          -2.8861022,
          -3.6822946,
          -3.3836257,
          -2.820567,
          -2.6624293,
          -2.6557407,
          -4.4300117,
          -4.6325974,
          -4.6773443,
          -2.9903789,
          -2.4326148,
          -3.0086684,
          -2.549523,
          -2.5120287,
          -2.2626495,
          -2.2394426,
          -2.8610563,
          -2.6304817,
          -3.7243662,
          -4.032902,
          -4.764705,
          -4.3323402,
          -4.603584,
          -5.2725754,
          -4.800708,
          -4.351391,
          -4.2776957,
          -4.155503,
          -4.242016,
          -3.8387213,
          -4.845729,
          -4.5765934,
          -4.6287956,
          -4.639178,
          -5.2385025,
          -3.9689023,
          -4.7604856,
          -4.696412,
          -4.9741426
         ]
        },
        {
         "hovertemplate": "cell_type=induced pluripotent stem cell<br>prep_method_broad=nugen<br>V0=%{x}<br>V1=%{y}<br>V2=%{z}<extra></extra>",
         "legendgroup": "induced pluripotent stem cell, nugen",
         "marker": {
          "color": "#FF6692",
          "size": 4,
          "symbol": "square"
         },
         "mode": "markers",
         "name": "induced pluripotent stem cell, nugen",
         "scene": "scene",
         "showlegend": true,
         "type": "scatter3d",
         "x": [
          1.6257377,
          1.3444417,
          1.4996905,
          1.2411346,
          1.4943337
         ],
         "y": [
          -9.106841,
          -9.613768,
          -9.360624,
          -9.490815,
          -9.595735
         ],
         "z": [
          -2.7936802,
          -2.4782739,
          -2.2529244,
          -2.3184114,
          -2.2635736
         ]
        },
        {
         "hovertemplate": "cell_type=induced pluripotent stem cell<br>prep_method_broad=illumina_unknown<br>V0=%{x}<br>V1=%{y}<br>V2=%{z}<extra></extra>",
         "legendgroup": "induced pluripotent stem cell, illumina_unknown",
         "marker": {
          "color": "#FF6692",
          "size": 4,
          "symbol": "circle"
         },
         "mode": "markers",
         "name": "induced pluripotent stem cell, illumina_unknown",
         "scene": "scene",
         "showlegend": true,
         "type": "scatter3d",
         "x": [
          -0.88636655,
          -0.8910334,
          -0.9093316
         ],
         "y": [
          -5.3345466,
          -5.482458,
          -5.3604326
         ],
         "z": [
          -2.785887,
          -2.564663,
          -2.6611102
         ]
        },
        {
         "hovertemplate": "cell_type=fibroblast<br>prep_method_broad=illumina_truseq<br>V0=%{x}<br>V1=%{y}<br>V2=%{z}<extra></extra>",
         "legendgroup": "fibroblast, illumina_truseq",
         "marker": {
          "color": "#B6E880",
          "size": 4,
          "symbol": "circle"
         },
         "mode": "markers",
         "name": "fibroblast, illumina_truseq",
         "scene": "scene",
         "showlegend": true,
         "type": "scatter3d",
         "x": [
          12.120127,
          12.133074,
          11.556534,
          11.244823,
          11.464371,
          13.207895
         ],
         "y": [
          -0.62167084,
          -0.7028195,
          -0.9074071,
          0.38039118,
          -0.47208795,
          -0.14655247
         ],
         "z": [
          -0.63683957,
          -0.57281554,
          -0.611941,
          0.4834578,
          -0.45512515,
          -0.69712824
         ]
        },
        {
         "hovertemplate": "cell_type=microglial cell<br>prep_method_broad=illumina_truseq<br>V0=%{x}<br>V1=%{y}<br>V2=%{z}<extra></extra>",
         "legendgroup": "microglial cell, illumina_truseq",
         "marker": {
          "color": "#FF97FF",
          "size": 4,
          "symbol": "circle"
         },
         "mode": "markers",
         "name": "microglial cell, illumina_truseq",
         "scene": "scene",
         "showlegend": true,
         "type": "scatter3d",
         "x": [
          -0.722186,
          -0.6355345,
          -0.6427197,
          -0.6737519,
          -0.60703146,
          -0.638937,
          2.4202003,
          2.7733378,
          2.9174194,
          2.62939,
          2.8564444,
          3.7861266,
          1.1763258,
          1.2546802,
          1.2405744,
          2.7546728,
          0.8929484,
          0.7150732
         ],
         "y": [
          2.0963848,
          1.6962159,
          2.1483545,
          2.0761194,
          2.1663241,
          1.9876226,
          6.024574,
          6.507282,
          6.7282977,
          6.414941,
          6.583118,
          7.4383636,
          1.342239,
          1.437225,
          1.2604115,
          0.65487736,
          1.3630391,
          1.1953278
         ],
         "z": [
          -2.1635466,
          -2.242406,
          -2.1310866,
          -2.1098142,
          -2.2612782,
          -2.0968914,
          -1.4726825,
          -1.318877,
          -1.459304,
          -1.2822199,
          -1.3308969,
          -1.3238027,
          1.9089994,
          1.8137305,
          1.5891027,
          3.122878,
          3.2498488,
          3.7341642
         ]
        },
        {
         "hovertemplate": "cell_type=microglial cell<br>prep_method_broad=smartseq_unknown<br>V0=%{x}<br>V1=%{y}<br>V2=%{z}<extra></extra>",
         "legendgroup": "microglial cell, smartseq_unknown",
         "marker": {
          "color": "#FF97FF",
          "size": 4,
          "symbol": "diamond"
         },
         "mode": "markers",
         "name": "microglial cell, smartseq_unknown",
         "scene": "scene",
         "showlegend": true,
         "type": "scatter3d",
         "x": [
          3.30412,
          2.7743497,
          3.351593,
          2.528145,
          4.5818048,
          4.4875336,
          4.15771,
          4.4667554
         ],
         "y": [
          6.458908,
          5.8860025,
          2.6034448,
          2.1893213,
          3.2521439,
          2.9758449,
          5.669214,
          3.8855305
         ],
         "z": [
          -1.5497043,
          -1.683575,
          -2.4166994,
          -2.4295926,
          -2.4559152,
          -2.5937073,
          -1.7430775,
          -2.190243
         ]
        },
        {
         "hovertemplate": "cell_type=microglial cell<br>prep_method_broad=illumina_unknown<br>V0=%{x}<br>V1=%{y}<br>V2=%{z}<extra></extra>",
         "legendgroup": "microglial cell, illumina_unknown",
         "marker": {
          "color": "#FF97FF",
          "size": 4,
          "symbol": "circle"
         },
         "mode": "markers",
         "name": "microglial cell, illumina_unknown",
         "scene": "scene",
         "showlegend": true,
         "type": "scatter3d",
         "x": [
          1.067837,
          0.94160914,
          8.40177,
          8.418289,
          -2.589098,
          -2.5171988,
          -0.7825407,
          -1.1835225,
          -3.44004,
          -3.7769318,
          -3.6411417,
          -3.8022454,
          -0.11084044,
          -0.13186598
         ],
         "y": [
          1.8850807,
          1.8459843,
          -0.5460292,
          -0.6812606,
          5.818588,
          6.765039,
          7.66497,
          7.2386193,
          5.089882,
          5.584244,
          4.783944,
          4.6534505,
          3.6714826,
          3.3330073
         ],
         "z": [
          -2.3598664,
          -2.3071516,
          -1.2460792,
          -1.4595923,
          0.9652302,
          2.5964105,
          1.7751634,
          1.8147187,
          0.882684,
          2.3542986,
          0.795872,
          0.95522976,
          -0.9800823,
          -1.4391227
         ]
        },
        {
         "hovertemplate": "cell_type=macrophage<br>prep_method_broad=illumina_truseq<br>V0=%{x}<br>V1=%{y}<br>V2=%{z}<extra></extra>",
         "legendgroup": "macrophage, illumina_truseq",
         "marker": {
          "color": "#FECB52",
          "size": 4,
          "symbol": "circle"
         },
         "mode": "markers",
         "name": "macrophage, illumina_truseq",
         "scene": "scene",
         "showlegend": true,
         "type": "scatter3d",
         "x": [
          2.436073,
          2.020447,
          4.2149196,
          5.7430987,
          5.6818113,
          4.5251584,
          3.2411537,
          1.8276763,
          2.0632873,
          0.99311376,
          0.83944225,
          1.0182295,
          0.9271314,
          -0.05643046,
          8.492846,
          5.822435,
          8.949507,
          7.501392,
          7.6977725,
          -0.6027519,
          -0.81815296,
          -1.8071008,
          -0.19218898,
          -0.37330276,
          -0.87768817,
          -0.90370417
         ],
         "y": [
          6.657073,
          6.129991,
          3.1518536,
          3.9834824,
          3.7760177,
          3.1866045,
          7.3660183,
          2.1256003,
          3.1891558,
          1.0394037,
          1.1282654,
          1.4348385,
          1.658387,
          0.06865258,
          3.7602448,
          3.180982,
          3.0910933,
          3.8089108,
          4.053982,
          8.923179,
          7.981791,
          6.861413,
          10.128102,
          8.871246,
          0.36192194,
          0.29685038
         ],
         "z": [
          -1.3080764,
          -1.5254734,
          -2.2274823,
          -2.3011875,
          -2.312981,
          -2.260695,
          -1.368762,
          -2.1458898,
          -2.217842,
          3.402748,
          2.736503,
          3.052762,
          2.6777897,
          3.7468486,
          13.559228,
          9.190287,
          12.08347,
          12.290676,
          12.81252,
          11.240426,
          9.42784,
          9.062148,
          12.545663,
          10.359241,
          0.81026626,
          0.76240635
         ]
        },
        {
         "hovertemplate": "cell_type=macrophage<br>prep_method_broad=illumina_unknown<br>V0=%{x}<br>V1=%{y}<br>V2=%{z}<extra></extra>",
         "legendgroup": "macrophage, illumina_unknown",
         "marker": {
          "color": "#FECB52",
          "size": 4,
          "symbol": "circle"
         },
         "mode": "markers",
         "name": "macrophage, illumina_unknown",
         "scene": "scene",
         "showlegend": true,
         "type": "scatter3d",
         "x": [
          0.517787,
          0.12034595,
          0.28193545,
          0.37448072,
          -0.5115339,
          0.6093441,
          1.3575585,
          -0.38149077,
          -0.57403255,
          2.5513935,
          -0.021240115,
          2.175369
         ],
         "y": [
          3.029386,
          2.638131,
          3.2662485,
          3.3770142,
          0.5754832,
          1.1417049,
          2.257415,
          0.5354162,
          0.5966017,
          2.7664223,
          0.7781096,
          2.8813674
         ],
         "z": [
          -2.0232422,
          -2.1169078,
          -1.6967514,
          -1.6636853,
          2.0316038,
          3.2206998,
          6.6434526,
          2.2163265,
          1.8829105,
          7.851054,
          2.377101,
          7.438858
         ]
        },
        {
         "hovertemplate": "cell_type=macrophage<br>prep_method_broad=hudson<br>V0=%{x}<br>V1=%{y}<br>V2=%{z}<extra></extra>",
         "legendgroup": "macrophage, hudson",
         "marker": {
          "color": "#FECB52",
          "size": 4,
          "symbol": "square"
         },
         "mode": "markers",
         "name": "macrophage, hudson",
         "scene": "scene",
         "showlegend": true,
         "type": "scatter3d",
         "x": [
          1.8672028,
          1.4804478,
          1.4341073,
          0.98621035,
          1.4943671,
          0.8928356,
          0.4456743,
          0.8830304,
          -1.5490458,
          -1.5838823,
          -1.605192,
          1.8145628,
          2.2913663,
          3.4093843,
          3.091053,
          1.3518646,
          1.6279762,
          2.3668113,
          1.835985,
          0.8057046,
          1.6421373,
          2.6928675,
          2.63305,
          2.359684,
          2.2886736,
          2.102047,
          2.270611,
          2.4822643
         ],
         "y": [
          3.5411596,
          1.8771777,
          1.6378162,
          1.5394111,
          3.7725294,
          1.413202,
          1.401006,
          1.5229942,
          -0.95036465,
          -0.829926,
          -0.68489534,
          -0.10365195,
          0.39945024,
          1.4867997,
          1.1992851,
          1.079885,
          1.4179844,
          2.6722698,
          2.2493594,
          1.2080095,
          2.1147175,
          3.3464255,
          5.5460777,
          3.678094,
          3.7901611,
          3.0354798,
          3.4292755,
          3.6706345
         ],
         "z": [
          6.4208684,
          4.601305,
          4.849448,
          3.8653097,
          4.926578,
          4.179031,
          4.086477,
          3.6511698,
          2.862207,
          3.028994,
          2.8493867,
          4.2716403,
          4.886922,
          4.88459,
          3.8859062,
          4.3148904,
          5.157389,
          5.950782,
          4.014178,
          3.2789273,
          4.586365,
          5.275994,
          2.0666313,
          -0.7828152,
          -0.8455312,
          -0.99508876,
          -0.4229681,
          -0.96456087
         ]
        },
        {
         "hovertemplate": "cell_type=macrophage<br>prep_method_broad=roche_kapa<br>V0=%{x}<br>V1=%{y}<br>V2=%{z}<extra></extra>",
         "legendgroup": "macrophage, roche_kapa",
         "marker": {
          "color": "#FECB52",
          "size": 4,
          "symbol": "x"
         },
         "mode": "markers",
         "name": "macrophage, roche_kapa",
         "scene": "scene",
         "showlegend": true,
         "type": "scatter3d",
         "x": [
          -0.88261867,
          -1.5504396,
          -0.0786221,
          -0.051405072,
          -0.25428516,
          -1.3923316,
          -0.9400136,
          -0.52772075,
          1.3196781,
          0.40618575,
          -1.062465,
          -1.6785214,
          -0.9331501,
          -1.0556394,
          -0.56200886,
          -1.3418313,
          -1.3718969,
          -0.92419845,
          -0.6067302,
          -0.27343577,
          -1.3064001,
          -0.44740945,
          0.10091257,
          0.4252969
         ],
         "y": [
          2.0445487,
          3.5347602,
          5.0353584,
          4.8574595,
          4.461792,
          2.288424,
          3.4890325,
          5.7002172,
          8.164303,
          7.1451035,
          2.2711573,
          3.4918344,
          4.1265197,
          4.6492333,
          4.742209,
          2.3086948,
          3.6470091,
          4.418061,
          4.8284426,
          5.3704805,
          2.5174384,
          4.8459516,
          6.150926,
          5.8908234
         ],
         "z": [
          -0.9350039,
          1.158531,
          1.6230462,
          1.7048326,
          2.2218535,
          -0.51174194,
          0.7628982,
          3.6029167,
          8.723102,
          4.1306434,
          -0.91502726,
          1.3801174,
          1.2598836,
          1.1058235,
          1.2826312,
          -0.57919353,
          0.51909924,
          0.93493533,
          1.2436721,
          1.3874218,
          -0.47109556,
          1.2966213,
          3.5832038,
          3.0404558
         ]
        },
        {
         "hovertemplate": "cell_type=hematopoietic precursor cell<br>prep_method_broad=illumina_truseq<br>V0=%{x}<br>V1=%{y}<br>V2=%{z}<extra></extra>",
         "legendgroup": "hematopoietic precursor cell, illumina_truseq",
         "marker": {
          "color": "#636efa",
          "size": 4,
          "symbol": "circle"
         },
         "mode": "markers",
         "name": "hematopoietic precursor cell, illumina_truseq",
         "scene": "scene",
         "showlegend": true,
         "type": "scatter3d",
         "x": [
          1.4411201,
          1.0197332,
          1.3716617
         ],
         "y": [
          -0.15560919,
          0.10939293,
          -0.9696141
         ],
         "z": [
          -1.382466,
          -1.1225148,
          -1.6777025
         ]
        },
        {
         "hovertemplate": "cell_type=hematopoietic precursor cell<br>prep_method_broad=nugen<br>V0=%{x}<br>V1=%{y}<br>V2=%{z}<extra></extra>",
         "legendgroup": "hematopoietic precursor cell, nugen",
         "marker": {
          "color": "#636efa",
          "size": 4,
          "symbol": "square"
         },
         "mode": "markers",
         "name": "hematopoietic precursor cell, nugen",
         "scene": "scene",
         "showlegend": true,
         "type": "scatter3d",
         "x": [
          -0.06463432,
          -0.32832706
         ],
         "y": [
          -2.833393,
          -2.7729695
         ],
         "z": [
          2.7990117,
          0.6154175
         ]
        },
        {
         "hovertemplate": "cell_type=hematopoietic precursor cell<br>prep_method_broad=illumina_unknown<br>V0=%{x}<br>V1=%{y}<br>V2=%{z}<extra></extra>",
         "legendgroup": "hematopoietic precursor cell, illumina_unknown",
         "marker": {
          "color": "#636efa",
          "size": 4,
          "symbol": "circle"
         },
         "mode": "markers",
         "name": "hematopoietic precursor cell, illumina_unknown",
         "scene": "scene",
         "showlegend": true,
         "type": "scatter3d",
         "x": [
          -3.1797853,
          -2.8858614,
          -2.5880635,
          -2.2777858,
          -1.9833617,
          -2.043458
         ],
         "y": [
          1.3529055,
          1.00223,
          0.5191447,
          -0.11656275,
          -0.7031747,
          -0.56990135
         ],
         "z": [
          3.7779875,
          5.2546005,
          5.134488,
          3.0918217,
          2.9554272,
          3.1717935
         ]
        },
        {
         "hovertemplate": "cell_type=hematopoietic precursor cell<br>prep_method_broad=illumina_nextera<br>V0=%{x}<br>V1=%{y}<br>V2=%{z}<extra></extra>",
         "legendgroup": "hematopoietic precursor cell, illumina_nextera",
         "marker": {
          "color": "#636efa",
          "size": 4,
          "symbol": "diamond"
         },
         "mode": "markers",
         "name": "hematopoietic precursor cell, illumina_nextera",
         "scene": "scene",
         "showlegend": true,
         "type": "scatter3d",
         "x": [
          2.6007442,
          4.681458,
          -0.12962139,
          -0.5031746,
          -0.41021067,
          -0.4659676
         ],
         "y": [
          -3.5146892,
          -3.9421482,
          -1.3506836,
          -1.7503593,
          -1.6938244,
          -1.2400038
         ],
         "z": [
          2.6737309,
          3.8747683,
          -0.07738328,
          -0.2555645,
          -0.25513357,
          -0.57144684
         ]
        }
       ],
       "layout": {
        "autosize": true,
        "legend": {
         "title": {
          "text": "cell_type, prep_method_broad"
         },
         "tracegroupgap": 0
        },
        "margin": {
         "t": 60
        },
        "scene": {
         "aspectmode": "auto",
         "aspectratio": {
          "x": 0.8374835910196053,
          "y": 1.1649041622879717,
          "z": 1.0250227308504904
         },
         "domain": {
          "x": [
           0,
           1
          ],
          "y": [
           0,
           1
          ]
         },
         "xaxis": {
          "title": {
           "text": "V0"
          },
          "type": "linear"
         },
         "yaxis": {
          "title": {
           "text": "V1"
          },
          "type": "linear"
         },
         "zaxis": {
          "title": {
           "text": "V2"
          },
          "type": "linear"
         }
        },
        "template": {
         "data": {
          "bar": [
           {
            "error_x": {
             "color": "#2a3f5f"
            },
            "error_y": {
             "color": "#2a3f5f"
            },
            "marker": {
             "line": {
              "color": "#E5ECF6",
              "width": 0.5
             },
             "pattern": {
              "fillmode": "overlay",
              "size": 10,
              "solidity": 0.2
             }
            },
            "type": "bar"
           }
          ],
          "barpolar": [
           {
            "marker": {
             "line": {
              "color": "#E5ECF6",
              "width": 0.5
             },
             "pattern": {
              "fillmode": "overlay",
              "size": 10,
              "solidity": 0.2
             }
            },
            "type": "barpolar"
           }
          ],
          "carpet": [
           {
            "aaxis": {
             "endlinecolor": "#2a3f5f",
             "gridcolor": "white",
             "linecolor": "white",
             "minorgridcolor": "white",
             "startlinecolor": "#2a3f5f"
            },
            "baxis": {
             "endlinecolor": "#2a3f5f",
             "gridcolor": "white",
             "linecolor": "white",
             "minorgridcolor": "white",
             "startlinecolor": "#2a3f5f"
            },
            "type": "carpet"
           }
          ],
          "choropleth": [
           {
            "colorbar": {
             "outlinewidth": 0,
             "ticks": ""
            },
            "type": "choropleth"
           }
          ],
          "contour": [
           {
            "colorbar": {
             "outlinewidth": 0,
             "ticks": ""
            },
            "colorscale": [
             [
              0,
              "#0d0887"
             ],
             [
              0.1111111111111111,
              "#46039f"
             ],
             [
              0.2222222222222222,
              "#7201a8"
             ],
             [
              0.3333333333333333,
              "#9c179e"
             ],
             [
              0.4444444444444444,
              "#bd3786"
             ],
             [
              0.5555555555555556,
              "#d8576b"
             ],
             [
              0.6666666666666666,
              "#ed7953"
             ],
             [
              0.7777777777777778,
              "#fb9f3a"
             ],
             [
              0.8888888888888888,
              "#fdca26"
             ],
             [
              1,
              "#f0f921"
             ]
            ],
            "type": "contour"
           }
          ],
          "contourcarpet": [
           {
            "colorbar": {
             "outlinewidth": 0,
             "ticks": ""
            },
            "type": "contourcarpet"
           }
          ],
          "heatmap": [
           {
            "colorbar": {
             "outlinewidth": 0,
             "ticks": ""
            },
            "colorscale": [
             [
              0,
              "#0d0887"
             ],
             [
              0.1111111111111111,
              "#46039f"
             ],
             [
              0.2222222222222222,
              "#7201a8"
             ],
             [
              0.3333333333333333,
              "#9c179e"
             ],
             [
              0.4444444444444444,
              "#bd3786"
             ],
             [
              0.5555555555555556,
              "#d8576b"
             ],
             [
              0.6666666666666666,
              "#ed7953"
             ],
             [
              0.7777777777777778,
              "#fb9f3a"
             ],
             [
              0.8888888888888888,
              "#fdca26"
             ],
             [
              1,
              "#f0f921"
             ]
            ],
            "type": "heatmap"
           }
          ],
          "heatmapgl": [
           {
            "colorbar": {
             "outlinewidth": 0,
             "ticks": ""
            },
            "colorscale": [
             [
              0,
              "#0d0887"
             ],
             [
              0.1111111111111111,
              "#46039f"
             ],
             [
              0.2222222222222222,
              "#7201a8"
             ],
             [
              0.3333333333333333,
              "#9c179e"
             ],
             [
              0.4444444444444444,
              "#bd3786"
             ],
             [
              0.5555555555555556,
              "#d8576b"
             ],
             [
              0.6666666666666666,
              "#ed7953"
             ],
             [
              0.7777777777777778,
              "#fb9f3a"
             ],
             [
              0.8888888888888888,
              "#fdca26"
             ],
             [
              1,
              "#f0f921"
             ]
            ],
            "type": "heatmapgl"
           }
          ],
          "histogram": [
           {
            "marker": {
             "pattern": {
              "fillmode": "overlay",
              "size": 10,
              "solidity": 0.2
             }
            },
            "type": "histogram"
           }
          ],
          "histogram2d": [
           {
            "colorbar": {
             "outlinewidth": 0,
             "ticks": ""
            },
            "colorscale": [
             [
              0,
              "#0d0887"
             ],
             [
              0.1111111111111111,
              "#46039f"
             ],
             [
              0.2222222222222222,
              "#7201a8"
             ],
             [
              0.3333333333333333,
              "#9c179e"
             ],
             [
              0.4444444444444444,
              "#bd3786"
             ],
             [
              0.5555555555555556,
              "#d8576b"
             ],
             [
              0.6666666666666666,
              "#ed7953"
             ],
             [
              0.7777777777777778,
              "#fb9f3a"
             ],
             [
              0.8888888888888888,
              "#fdca26"
             ],
             [
              1,
              "#f0f921"
             ]
            ],
            "type": "histogram2d"
           }
          ],
          "histogram2dcontour": [
           {
            "colorbar": {
             "outlinewidth": 0,
             "ticks": ""
            },
            "colorscale": [
             [
              0,
              "#0d0887"
             ],
             [
              0.1111111111111111,
              "#46039f"
             ],
             [
              0.2222222222222222,
              "#7201a8"
             ],
             [
              0.3333333333333333,
              "#9c179e"
             ],
             [
              0.4444444444444444,
              "#bd3786"
             ],
             [
              0.5555555555555556,
              "#d8576b"
             ],
             [
              0.6666666666666666,
              "#ed7953"
             ],
             [
              0.7777777777777778,
              "#fb9f3a"
             ],
             [
              0.8888888888888888,
              "#fdca26"
             ],
             [
              1,
              "#f0f921"
             ]
            ],
            "type": "histogram2dcontour"
           }
          ],
          "mesh3d": [
           {
            "colorbar": {
             "outlinewidth": 0,
             "ticks": ""
            },
            "type": "mesh3d"
           }
          ],
          "parcoords": [
           {
            "line": {
             "colorbar": {
              "outlinewidth": 0,
              "ticks": ""
             }
            },
            "type": "parcoords"
           }
          ],
          "pie": [
           {
            "automargin": true,
            "type": "pie"
           }
          ],
          "scatter": [
           {
            "fillpattern": {
             "fillmode": "overlay",
             "size": 10,
             "solidity": 0.2
            },
            "type": "scatter"
           }
          ],
          "scatter3d": [
           {
            "line": {
             "colorbar": {
              "outlinewidth": 0,
              "ticks": ""
             }
            },
            "marker": {
             "colorbar": {
              "outlinewidth": 0,
              "ticks": ""
             }
            },
            "type": "scatter3d"
           }
          ],
          "scattercarpet": [
           {
            "marker": {
             "colorbar": {
              "outlinewidth": 0,
              "ticks": ""
             }
            },
            "type": "scattercarpet"
           }
          ],
          "scattergeo": [
           {
            "marker": {
             "colorbar": {
              "outlinewidth": 0,
              "ticks": ""
             }
            },
            "type": "scattergeo"
           }
          ],
          "scattergl": [
           {
            "marker": {
             "colorbar": {
              "outlinewidth": 0,
              "ticks": ""
             }
            },
            "type": "scattergl"
           }
          ],
          "scattermapbox": [
           {
            "marker": {
             "colorbar": {
              "outlinewidth": 0,
              "ticks": ""
             }
            },
            "type": "scattermapbox"
           }
          ],
          "scatterpolar": [
           {
            "marker": {
             "colorbar": {
              "outlinewidth": 0,
              "ticks": ""
             }
            },
            "type": "scatterpolar"
           }
          ],
          "scatterpolargl": [
           {
            "marker": {
             "colorbar": {
              "outlinewidth": 0,
              "ticks": ""
             }
            },
            "type": "scatterpolargl"
           }
          ],
          "scatterternary": [
           {
            "marker": {
             "colorbar": {
              "outlinewidth": 0,
              "ticks": ""
             }
            },
            "type": "scatterternary"
           }
          ],
          "surface": [
           {
            "colorbar": {
             "outlinewidth": 0,
             "ticks": ""
            },
            "colorscale": [
             [
              0,
              "#0d0887"
             ],
             [
              0.1111111111111111,
              "#46039f"
             ],
             [
              0.2222222222222222,
              "#7201a8"
             ],
             [
              0.3333333333333333,
              "#9c179e"
             ],
             [
              0.4444444444444444,
              "#bd3786"
             ],
             [
              0.5555555555555556,
              "#d8576b"
             ],
             [
              0.6666666666666666,
              "#ed7953"
             ],
             [
              0.7777777777777778,
              "#fb9f3a"
             ],
             [
              0.8888888888888888,
              "#fdca26"
             ],
             [
              1,
              "#f0f921"
             ]
            ],
            "type": "surface"
           }
          ],
          "table": [
           {
            "cells": {
             "fill": {
              "color": "#EBF0F8"
             },
             "line": {
              "color": "white"
             }
            },
            "header": {
             "fill": {
              "color": "#C8D4E3"
             },
             "line": {
              "color": "white"
             }
            },
            "type": "table"
           }
          ]
         },
         "layout": {
          "annotationdefaults": {
           "arrowcolor": "#2a3f5f",
           "arrowhead": 0,
           "arrowwidth": 1
          },
          "autotypenumbers": "strict",
          "coloraxis": {
           "colorbar": {
            "outlinewidth": 0,
            "ticks": ""
           }
          },
          "colorscale": {
           "diverging": [
            [
             0,
             "#8e0152"
            ],
            [
             0.1,
             "#c51b7d"
            ],
            [
             0.2,
             "#de77ae"
            ],
            [
             0.3,
             "#f1b6da"
            ],
            [
             0.4,
             "#fde0ef"
            ],
            [
             0.5,
             "#f7f7f7"
            ],
            [
             0.6,
             "#e6f5d0"
            ],
            [
             0.7,
             "#b8e186"
            ],
            [
             0.8,
             "#7fbc41"
            ],
            [
             0.9,
             "#4d9221"
            ],
            [
             1,
             "#276419"
            ]
           ],
           "sequential": [
            [
             0,
             "#0d0887"
            ],
            [
             0.1111111111111111,
             "#46039f"
            ],
            [
             0.2222222222222222,
             "#7201a8"
            ],
            [
             0.3333333333333333,
             "#9c179e"
            ],
            [
             0.4444444444444444,
             "#bd3786"
            ],
            [
             0.5555555555555556,
             "#d8576b"
            ],
            [
             0.6666666666666666,
             "#ed7953"
            ],
            [
             0.7777777777777778,
             "#fb9f3a"
            ],
            [
             0.8888888888888888,
             "#fdca26"
            ],
            [
             1,
             "#f0f921"
            ]
           ],
           "sequentialminus": [
            [
             0,
             "#0d0887"
            ],
            [
             0.1111111111111111,
             "#46039f"
            ],
            [
             0.2222222222222222,
             "#7201a8"
            ],
            [
             0.3333333333333333,
             "#9c179e"
            ],
            [
             0.4444444444444444,
             "#bd3786"
            ],
            [
             0.5555555555555556,
             "#d8576b"
            ],
            [
             0.6666666666666666,
             "#ed7953"
            ],
            [
             0.7777777777777778,
             "#fb9f3a"
            ],
            [
             0.8888888888888888,
             "#fdca26"
            ],
            [
             1,
             "#f0f921"
            ]
           ]
          },
          "colorway": [
           "#636efa",
           "#EF553B",
           "#00cc96",
           "#ab63fa",
           "#FFA15A",
           "#19d3f3",
           "#FF6692",
           "#B6E880",
           "#FF97FF",
           "#FECB52"
          ],
          "font": {
           "color": "#2a3f5f"
          },
          "geo": {
           "bgcolor": "white",
           "lakecolor": "white",
           "landcolor": "#E5ECF6",
           "showlakes": true,
           "showland": true,
           "subunitcolor": "white"
          },
          "hoverlabel": {
           "align": "left"
          },
          "hovermode": "closest",
          "mapbox": {
           "style": "light"
          },
          "paper_bgcolor": "white",
          "plot_bgcolor": "#E5ECF6",
          "polar": {
           "angularaxis": {
            "gridcolor": "white",
            "linecolor": "white",
            "ticks": ""
           },
           "bgcolor": "#E5ECF6",
           "radialaxis": {
            "gridcolor": "white",
            "linecolor": "white",
            "ticks": ""
           }
          },
          "scene": {
           "xaxis": {
            "backgroundcolor": "#E5ECF6",
            "gridcolor": "white",
            "gridwidth": 2,
            "linecolor": "white",
            "showbackground": true,
            "ticks": "",
            "zerolinecolor": "white"
           },
           "yaxis": {
            "backgroundcolor": "#E5ECF6",
            "gridcolor": "white",
            "gridwidth": 2,
            "linecolor": "white",
            "showbackground": true,
            "ticks": "",
            "zerolinecolor": "white"
           },
           "zaxis": {
            "backgroundcolor": "#E5ECF6",
            "gridcolor": "white",
            "gridwidth": 2,
            "linecolor": "white",
            "showbackground": true,
            "ticks": "",
            "zerolinecolor": "white"
           }
          },
          "shapedefaults": {
           "line": {
            "color": "#2a3f5f"
           }
          },
          "ternary": {
           "aaxis": {
            "gridcolor": "white",
            "linecolor": "white",
            "ticks": ""
           },
           "baxis": {
            "gridcolor": "white",
            "linecolor": "white",
            "ticks": ""
           },
           "bgcolor": "#E5ECF6",
           "caxis": {
            "gridcolor": "white",
            "linecolor": "white",
            "ticks": ""
           }
          },
          "title": {
           "x": 0.05
          },
          "xaxis": {
           "automargin": true,
           "gridcolor": "white",
           "linecolor": "white",
           "ticks": "",
           "title": {
            "standoff": 15
           },
           "zerolinecolor": "white",
           "zerolinewidth": 2
          },
          "yaxis": {
           "automargin": true,
           "gridcolor": "white",
           "linecolor": "white",
           "ticks": "",
           "title": {
            "standoff": 15
           },
           "zerolinecolor": "white",
           "zerolinewidth": 2
          }
         }
        }
       }
      },
      "image/png": "[encoded data removed]",
      "text/html": [
       "<div>                            <div id=\"11381e77-5955-40c9-8169-9b60ab1830e6\" class=\"plotly-graph-div\" style=\"height:525px; width:100%;\"></div>            <script type=\"text/javascript\">                require([\"plotly\"], function(Plotly) {                    window.PLOTLYENV=window.PLOTLYENV || {};                                    if (document.getElementById(\"11381e77-5955-40c9-8169-9b60ab1830e6\")) {                    Plotly.newPlot(                        \"11381e77-5955-40c9-8169-9b60ab1830e6\",                        [{\"hovertemplate\":\"cell_type=conventional dendritic cell\\u003cbr\\u003eprep_method_broad=illumina_truseq\\u003cbr\\u003eV0=%{x}\\u003cbr\\u003eV1=%{y}\\u003cbr\\u003eV2=%{z}\\u003cextra\\u003e\\u003c\\u002fextra\\u003e\",\"legendgroup\":\"conventional dendritic cell, illumina_truseq\",\"marker\":{\"color\":\"#636efa\",\"symbol\":\"circle\",\"size\":4},\"mode\":\"markers\",\"name\":\"conventional dendritic cell, illumina_truseq\",\"scene\":\"scene\",\"showlegend\":true,\"x\":[-4.541587,-4.529855,-4.489219,-4.2549086,-4.358716,-4.416074,-5.073221,-5.6385283,-5.4563527,-5.0390043,-5.7313776,-5.511319,-1.7994804,-1.8651357,-1.7926382,-1.1710972,-4.1122503,-4.081278],\"y\":[3.5076349,3.3607557,3.5057857,3.0152254,3.3265662,3.2409763,4.0753927,4.6492043,4.51471,3.968061,4.6685705,4.5392585,-0.77828753,-0.88210434,-0.8693345,11.576629,3.2103636,3.137331],\"z\":[6.2127185,6.7022862,6.058342,6.799283,5.740089,6.399227,9.065607,9.709855,9.269984,9.002336,10.061225,9.493608,7.454585,8.189039,8.300507,15.846764,4.792075,5.0243287],\"type\":\"scatter3d\"},{\"hovertemplate\":\"cell_type=conventional dendritic cell\\u003cbr\\u003eprep_method_broad=smartseq_unknown\\u003cbr\\u003eV0=%{x}\\u003cbr\\u003eV1=%{y}\\u003cbr\\u003eV2=%{z}\\u003cextra\\u003e\\u003c\\u002fextra\\u003e\",\"legendgroup\":\"conventional dendritic cell, smartseq_unknown\",\"marker\":{\"color\":\"#636efa\",\"symbol\":\"diamond\",\"size\":4},\"mode\":\"markers\",\"name\":\"conventional dendritic cell, smartseq_unknown\",\"scene\":\"scene\",\"showlegend\":true,\"x\":[-3.27829,-3.6643796,-3.2774887,-3.4683862,-4.314849,-1.9806191],\"y\":[1.4756186,1.9319174,1.595741,1.7817564,3.0575354,-1.4173067],\"z\":[7.160015,7.276862,6.4465327,6.8032312,7.284047,15.545118],\"type\":\"scatter3d\"},{\"hovertemplate\":\"cell_type=conventional dendritic cell\\u003cbr\\u003eprep_method_broad=nugen\\u003cbr\\u003eV0=%{x}\\u003cbr\\u003eV1=%{y}\\u003cbr\\u003eV2=%{z}\\u003cextra\\u003e\\u003c\\u002fextra\\u003e\",\"legendgroup\":\"conventional dendritic cell, nugen\",\"marker\":{\"color\":\"#636efa\",\"symbol\":\"square\",\"size\":4},\"mode\":\"markers\",\"name\":\"conventional dendritic cell, nugen\",\"scene\":\"scene\",\"showlegend\":true,\"x\":[-5.4799986,-6.195396,-5.588421,-5.768171,-3.7877018,-3.4951773,-3.1294134,1.5911596,1.8184445,1.4297144,0.4961661,0.40916085,0.7116139],\"y\":[4.136057,4.963479,4.382859,4.4380093,2.560611,2.1868556,1.166168,1.1939229,1.2379936,1.3512684,1.2410479,0.9455769,1.0468967],\"z\":[9.973201,11.679644,9.869422,10.655991,4.2411737,3.320631,2.5377178,4.3610067,5.140529,4.8777304,3.4185271,3.1959481,3.6771278],\"type\":\"scatter3d\"},{\"hovertemplate\":\"cell_type=plasmacytoid dendritic cell\\u003cbr\\u003eprep_method_broad=illumina_truseq\\u003cbr\\u003eV0=%{x}\\u003cbr\\u003eV1=%{y}\\u003cbr\\u003eV2=%{z}\\u003cextra\\u003e\\u003c\\u002fextra\\u003e\",\"legendgroup\":\"plasmacytoid dendritic cell, illumina_truseq\",\"marker\":{\"color\":\"#EF553B\",\"symbol\":\"circle\",\"size\":4},\"mode\":\"markers\",\"name\":\"plasmacytoid dendritic cell, illumina_truseq\",\"scene\":\"scene\",\"showlegend\":true,\"x\":[-3.005116,-3.741321,-2.9755044,-3.0669634,-2.908843,-2.8101828,-2.8600614,-3.4194305,-3.4333315],\"y\":[0.50493485,2.1741571,0.31391078,0.48587647,0.16595751,-0.044141926,6.3074584,1.2661523,1.0965621],\"z\":[2.6837096,3.9662595,2.3490863,2.3189976,2.128698,2.2573433,8.807292,3.3238697,3.4995012],\"type\":\"scatter3d\"},{\"hovertemplate\":\"cell_type=plasmacytoid dendritic cell\\u003cbr\\u003eprep_method_broad=nugen\\u003cbr\\u003eV0=%{x}\\u003cbr\\u003eV1=%{y}\\u003cbr\\u003eV2=%{z}\\u003cextra\\u003e\\u003c\\u002fextra\\u003e\",\"legendgroup\":\"plasmacytoid dendritic cell, nugen\",\"marker\":{\"color\":\"#EF553B\",\"symbol\":\"square\",\"size\":4},\"mode\":\"markers\",\"name\":\"plasmacytoid dendritic cell, nugen\",\"scene\":\"scene\",\"showlegend\":true,\"x\":[0.30013335,0.38339627,-0.591405,-0.7479459,-0.33101654],\"y\":[-0.12237082,0.59719545,-0.4475722,-0.68334633,-0.3748209],\"z\":[5.5329776,4.2949724,5.467502,5.703264,4.6820498],\"type\":\"scatter3d\"},{\"hovertemplate\":\"cell_type=plasmacytoid dendritic cell\\u003cbr\\u003eprep_method_broad=illumina_nextera\\u003cbr\\u003eV0=%{x}\\u003cbr\\u003eV1=%{y}\\u003cbr\\u003eV2=%{z}\\u003cextra\\u003e\\u003c\\u002fextra\\u003e\",\"legendgroup\":\"plasmacytoid dendritic cell, illumina_nextera\",\"marker\":{\"color\":\"#EF553B\",\"symbol\":\"diamond\",\"size\":4},\"mode\":\"markers\",\"name\":\"plasmacytoid dendritic cell, illumina_nextera\",\"scene\":\"scene\",\"showlegend\":true,\"x\":[-2.2120261,-2.3778582,-2.3339624,-2.3918557],\"y\":[-0.54981023,0.13519335,-0.34235957,-0.2517112],\"z\":[3.231657,3.3775406,2.6411707,2.437806],\"type\":\"scatter3d\"},{\"hovertemplate\":\"cell_type=dendritic cell\\u003cbr\\u003eprep_method_broad=illumina_truseq\\u003cbr\\u003eV0=%{x}\\u003cbr\\u003eV1=%{y}\\u003cbr\\u003eV2=%{z}\\u003cextra\\u003e\\u003c\\u002fextra\\u003e\",\"legendgroup\":\"dendritic cell, illumina_truseq\",\"marker\":{\"color\":\"#00cc96\",\"symbol\":\"circle\",\"size\":4},\"mode\":\"markers\",\"name\":\"dendritic cell, illumina_truseq\",\"scene\":\"scene\",\"showlegend\":true,\"x\":[-1.28346,-1.3737895,-1.1785603,-1.2436464,-1.0667707,-1.4727793,0.8382287,1.6678343,1.3981574,1.4702759,1.4479756],\"y\":[2.6800387,2.6141438,2.716339,2.6802351,2.9368627,2.505106,5.0057926,6.0166893,4.98128,5.2595363,5.8590465],\"z\":[-0.2245121,-0.30985785,0.017171025,-0.010858536,0.085849404,-0.32008737,4.4107456,5.230795,3.743029,3.9645653,4.9585395],\"type\":\"scatter3d\"},{\"hovertemplate\":\"cell_type=dendritic cell\\u003cbr\\u003eprep_method_broad=illumina_nextera\\u003cbr\\u003eV0=%{x}\\u003cbr\\u003eV1=%{y}\\u003cbr\\u003eV2=%{z}\\u003cextra\\u003e\\u003c\\u002fextra\\u003e\",\"legendgroup\":\"dendritic cell, illumina_nextera\",\"marker\":{\"color\":\"#00cc96\",\"symbol\":\"diamond\",\"size\":4},\"mode\":\"markers\",\"name\":\"dendritic cell, illumina_nextera\",\"scene\":\"scene\",\"showlegend\":true,\"x\":[-3.865788,-4.100816,-3.7587574,-3.5663915],\"y\":[3.23229,3.2334356,2.898359,2.8797045],\"z\":[5.329611,5.722838,4.4605107,3.860331],\"type\":\"scatter3d\"},{\"hovertemplate\":\"cell_type=monocyte\\u003cbr\\u003eprep_method_broad=illumina_truseq\\u003cbr\\u003eV0=%{x}\\u003cbr\\u003eV1=%{y}\\u003cbr\\u003eV2=%{z}\\u003cextra\\u003e\\u003c\\u002fextra\\u003e\",\"legendgroup\":\"monocyte, illumina_truseq\",\"marker\":{\"color\":\"#ab63fa\",\"symbol\":\"circle\",\"size\":4},\"mode\":\"markers\",\"name\":\"monocyte, illumina_truseq\",\"scene\":\"scene\",\"showlegend\":true,\"x\":[-1.9523835,-0.38577795,-1.5612993,-1.5758039,-1.8027307,-1.4177175,-1.8942912,-1.8677974,-2.018692,-1.929882,-0.5536114,-1.0950941,-5.618256,-5.8122354,-5.201297,-5.874758,-5.6654315,-5.614935,-5.7311287,-5.6046386,-5.6962423,-0.5455126,-0.7770909,-0.47431946,-0.19356358],\"y\":[10.476305,14.265942,9.165301,9.013774,8.598395,10.272018,8.496574,8.704406,8.229117,8.486583,11.009688,10.265004,6.668681,7.015917,5.925636,7.091248,6.809958,6.681422,6.9238343,6.8536634,6.9007735,4.176717,3.8160214,4.2503576,4.3163857],\"z\":[3.4622512,5.658421,3.6214547,3.252325,3.2148852,4.073127,3.0899434,3.3812723,2.9502182,3.0756493,4.393511,3.9832683,2.2585084,2.2297328,1.7385709,2.2952924,2.5901265,1.8859844,1.8827245,2.022911,2.0192869,4.1767945,4.0442467,4.4142623,4.201701],\"type\":\"scatter3d\"},{\"hovertemplate\":\"cell_type=monocyte\\u003cbr\\u003eprep_method_broad=nugen\\u003cbr\\u003eV0=%{x}\\u003cbr\\u003eV1=%{y}\\u003cbr\\u003eV2=%{z}\\u003cextra\\u003e\\u003c\\u002fextra\\u003e\",\"legendgroup\":\"monocyte, nugen\",\"marker\":{\"color\":\"#ab63fa\",\"symbol\":\"square\",\"size\":4},\"mode\":\"markers\",\"name\":\"monocyte, nugen\",\"scene\":\"scene\",\"showlegend\":true,\"x\":[-1.9461813,-1.4165729,-1.6932393,0.544575,-3.8348985,-3.9845605,-3.7645433,-3.8461192],\"y\":[5.763424,7.461605,6.168039,10.56368,3.8767765,4.122943,3.7701464,4.032657],\"z\":[1.5971494,3.0072846,2.0290492,11.268326,0.7950542,1.1522679,0.90436697,1.0122418],\"type\":\"scatter3d\"},{\"hovertemplate\":\"cell_type=monocyte\\u003cbr\\u003eprep_method_broad=illumina_nextera\\u003cbr\\u003eV0=%{x}\\u003cbr\\u003eV1=%{y}\\u003cbr\\u003eV2=%{z}\\u003cextra\\u003e\\u003c\\u002fextra\\u003e\",\"legendgroup\":\"monocyte, illumina_nextera\",\"marker\":{\"color\":\"#ab63fa\",\"symbol\":\"diamond\",\"size\":4},\"mode\":\"markers\",\"name\":\"monocyte, illumina_nextera\",\"scene\":\"scene\",\"showlegend\":true,\"x\":[-2.0240278,-1.885798,-1.8628161,-2.3599815,-3.0045943,-3.2859335,-2.9395106,-2.496917,-2.419548,-2.69931,-3.1343632,-2.5799925],\"y\":[6.78408,6.953371,6.5473003,5.5744724,6.2676854,5.1323814,5.0093617,4.963416,4.972054,5.099013,4.872286,5.337621],\"z\":[6.2754235,4.894506,4.081722,3.0187526,2.9041576,2.4362652,2.0643942,1.9572325,1.6742203,2.003152,1.5311785,1.8148642],\"type\":\"scatter3d\"},{\"hovertemplate\":\"cell_type=neural progenitor cell\\u003cbr\\u003eprep_method_broad=illumina_truseq\\u003cbr\\u003eV0=%{x}\\u003cbr\\u003eV1=%{y}\\u003cbr\\u003eV2=%{z}\\u003cextra\\u003e\\u003c\\u002fextra\\u003e\",\"legendgroup\":\"neural progenitor cell, illumina_truseq\",\"marker\":{\"color\":\"#FFA15A\",\"symbol\":\"circle\",\"size\":4},\"mode\":\"markers\",\"name\":\"neural progenitor cell, illumina_truseq\",\"scene\":\"scene\",\"showlegend\":true,\"x\":[5.258825,5.2688637,5.5645785,5.2976756,5.098226,5.2513556,5.8588734,5.628957,6.424556],\"y\":[-12.487169,-12.53183,-12.723213,-12.202754,-12.084037,-12.059449,-5.7417784,-5.2596235,-5.400635],\"z\":[1.4586511,1.4667203,1.3790433,1.4003925,1.4161828,1.3247368,5.626725,5.078233,5.5546923],\"type\":\"scatter3d\"},{\"hovertemplate\":\"cell_type=neural progenitor cell\\u003cbr\\u003eprep_method_broad=smartseq_unknown\\u003cbr\\u003eV0=%{x}\\u003cbr\\u003eV1=%{y}\\u003cbr\\u003eV2=%{z}\\u003cextra\\u003e\\u003c\\u002fextra\\u003e\",\"legendgroup\":\"neural progenitor cell, smartseq_unknown\",\"marker\":{\"color\":\"#FFA15A\",\"symbol\":\"diamond\",\"size\":4},\"mode\":\"markers\",\"name\":\"neural progenitor cell, smartseq_unknown\",\"scene\":\"scene\",\"showlegend\":true,\"x\":[0.878144,-0.5578749,-0.7241902,-0.3054744,-0.67956054,-0.056566834,-0.17980039,-0.117648005,0.062061906,-0.42216247,1.0053308,-0.4348113,0.7012063,-0.12916505,1.5276337,0.0699594,-0.09272671,-0.69576216,0.5340024,0.9870863,1.68625,-0.29037875,0.19112682,-0.28859514,0.14175212,0.6128962,1.1873262,10.640959,11.576408,10.3829365,12.823252],\"y\":[-6.7631207,-6.9642487,-6.650283,-5.512913,-4.786328,-7.9234123,-7.3764663,-5.82824,-4.0875897,-6.942275,-6.6730137,-3.98806,-3.2190464,-5.765311,-5.5583334,-7.264378,-6.20842,-3.4191947,-3.1442146,-3.9446626,-5.8448515,-6.267686,-5.451308,-6.6091,-5.3686814,-6.998699,-4.350606,-1.3182131,-1.825648,-3.8367758,-2.1145966],\"z\":[-0.75157154,-5.6683435,-5.2941475,-3.0137265,-4.1524696,-2.6900349,-1.9536091,-0.74950695,-1.7118689,-4.857625,-1.797713,-2.3988304,-2.0159929,-2.6636758,-1.3113973,-1.3108224,-0.64875656,-3.26512,-1.9938936,-1.6782948,-1.4851557,-2.3872066,-1.2582166,-1.9389486,-1.4141694,-1.858268,-0.8098489,-1.3524833,-0.9128449,-1.9820796,-0.9042884],\"type\":\"scatter3d\"},{\"hovertemplate\":\"cell_type=embryonic stem cell\\u003cbr\\u003eprep_method_broad=illumina_truseq\\u003cbr\\u003eV0=%{x}\\u003cbr\\u003eV1=%{y}\\u003cbr\\u003eV2=%{z}\\u003cextra\\u003e\\u003c\\u002fextra\\u003e\",\"legendgroup\":\"embryonic stem cell, illumina_truseq\",\"marker\":{\"color\":\"#19d3f3\",\"symbol\":\"circle\",\"size\":4},\"mode\":\"markers\",\"name\":\"embryonic stem cell, illumina_truseq\",\"scene\":\"scene\",\"showlegend\":true,\"x\":[8.399374,8.21265,6.3378215,6.3079123,-0.19700444,-0.1868962,-0.19896948,-0.14092493,0.07940233,0.3029852,0.22494316,0.15601003,0.24237168,0.13860977,0.10498476,0.2640468,3.7260036,5.460801,2.7891145,4.8407784,3.485251,4.3090644,5.1919913,1.5491889,2.691688,2.0060046,4.2499056,4.2943206,4.4552846,3.8176455],\"y\":[-12.078804,-11.844397,-10.66424,-10.7542305,-7.8443666,-7.9026537,-7.8574934,-7.9108076,-8.200421,-8.658714,-8.353877,-5.670651,-5.725624,-5.5391226,-8.235256,-8.411241,-2.3303046,-2.3462756,-1.7979739,-3.3364053,-3.3500564,-2.6293104,-2.4546604,-6.433629,-6.588218,-5.100406,-1.9187078,-1.8376927,-2.1180062,-2.0676975],\"z\":[-6.1221704,-6.1927023,-5.9577184,-5.848488,-7.2192736,-7.2202363,-7.265942,-7.110419,-7.554152,-7.9015393,-7.6151123,-5.997054,-5.9862666,-5.8402805,-6.6409926,-6.5981145,-4.6257277,-5.6284266,-4.712962,-3.7548962,-4.1887755,-4.1789513,-5.853078,-5.995935,-6.2709026,-4.413085,-5.2236323,-5.206438,-5.2292,-5.3865676],\"type\":\"scatter3d\"},{\"hovertemplate\":\"cell_type=embryonic stem cell\\u003cbr\\u003eprep_method_broad=nextflex96\\u003cbr\\u003eV0=%{x}\\u003cbr\\u003eV1=%{y}\\u003cbr\\u003eV2=%{z}\\u003cextra\\u003e\\u003c\\u002fextra\\u003e\",\"legendgroup\":\"embryonic stem cell, nextflex96\",\"marker\":{\"color\":\"#19d3f3\",\"symbol\":\"x\",\"size\":4},\"mode\":\"markers\",\"name\":\"embryonic stem cell, nextflex96\",\"scene\":\"scene\",\"showlegend\":true,\"x\":[2.8946233,2.6495028,1.8379483,1.1194692,-0.29742414,-0.21090674,-0.31922686],\"y\":[-4.887203,-4.9709606,-4.363653,-4.1981044,-2.2070615,-2.2100248,-1.9961066],\"z\":[-0.39254862,0.05035305,-2.5360343,-2.6419394,-3.2893639,-3.2132494,-3.2146087],\"type\":\"scatter3d\"},{\"hovertemplate\":\"cell_type=embryonic stem cell\\u003cbr\\u003eprep_method_broad=nebnext\\u003cbr\\u003eV0=%{x}\\u003cbr\\u003eV1=%{y}\\u003cbr\\u003eV2=%{z}\\u003cextra\\u003e\\u003c\\u002fextra\\u003e\",\"legendgroup\":\"embryonic stem cell, nebnext\",\"marker\":{\"color\":\"#19d3f3\",\"symbol\":\"cross\",\"size\":4},\"mode\":\"markers\",\"name\":\"embryonic stem cell, nebnext\",\"scene\":\"scene\",\"showlegend\":true,\"x\":[2.694056,2.2841709,1.7374344,1.4168165,1.0010548,2.0290475,1.5655286,0.36365795,1.0642691,1.2151666,0.42983913,-0.16343951,1.186502,1.2105541,2.0961974,1.3880224,0.5203414,1.4447393,3.3093076,3.2140164,3.462232,-0.56544644,-0.49536395,-0.6840107],\"y\":[-7.3423924,-5.456161,-7.148064,-3.2390764,-2.4162657,-2.458379,-3.3363016,-1.911317,-2.6696765,-2.8721545,-2.3781593,-1.91785,-1.6721295,-1.2933683,-1.5222197,-1.4620664,-2.1398406,-0.8988162,-1.0759566,-1.0733485,-1.0301635,-6.7477374,-6.7117662,-5.889073],\"z\":[-2.926015,-3.0571537,-2.4083824,-2.8023467,-2.9055526,-3.0874023,-3.5561483,-3.5278103,-3.5827096,-3.258362,-3.0906978,-3.041522,-4.0461397,-4.1919146,-4.349668,-4.251794,-3.7801833,-4.347023,-4.9950905,-4.887788,-4.9596,-3.439898,-3.5204322,-4.0739193],\"type\":\"scatter3d\"},{\"hovertemplate\":\"cell_type=induced pluripotent stem cell\\u003cbr\\u003eprep_method_broad=illumina_truseq\\u003cbr\\u003eV0=%{x}\\u003cbr\\u003eV1=%{y}\\u003cbr\\u003eV2=%{z}\\u003cextra\\u003e\\u003c\\u002fextra\\u003e\",\"legendgroup\":\"induced pluripotent stem cell, illumina_truseq\",\"marker\":{\"color\":\"#FF6692\",\"symbol\":\"circle\",\"size\":4},\"mode\":\"markers\",\"name\":\"induced pluripotent stem cell, illumina_truseq\",\"scene\":\"scene\",\"showlegend\":true,\"x\":[-0.018313289,0.010316253,0.18001235,0.90794945,1.9964557,0.92905617,1.488595,2.172848,1.6730633,-1.4945922,-1.4313738,-1.5421228,-1.4269416,-1.3175323,-0.88065183,-1.0517812,-1.0672724,-1.2544056,-1.1852262,-1.1772964,-0.8992251,-1.3047228,-1.5482693,-0.8949956,-1.2823519,-1.2871987,-0.44972676,-1.3111842,-1.140653,-1.2917777,-1.0392232,-0.64145833,-0.9550876,-0.6719145,-0.97829723,-0.28390402,0.39654136,-0.22240508,-0.53534406,-0.24440163,-0.55692834,-0.9743004,-1.1395713,-1.2166301,-1.2635478,-1.291138,-1.4539963,-1.5867562,-1.6648139,-1.667697,-0.13617718,0.14998889,-0.31202984,-0.3516267,-0.536906,-0.968364,-0.94579947,-0.78978586,-0.009331703,-0.46742922,-0.8837961,-1.2656186,-1.4515378,-1.3298626,-1.4627426,-1.4553494,-1.0895953,0.61358714,1.6530559,0.53620636,0.7765815,0.734974,1.4432163,0.9409449,-0.9871986,-1.1127821,-0.6623678,-1.5142927,-1.3905616,-1.1292583,-1.3235784,-1.4932953,-1.3509843,-0.9238601,-0.94711685,-0.5869676,-0.82718265,-0.8431108,0.39382052,0.2083925,0.4981742,-1.1655529,-1.2823355,-1.2008998,-1.2951502,-0.9902982,-1.3211747,-0.8758753,-0.83998907,-0.86887324,-0.45686567,0.12721932,-0.24743384,-0.9667195,-0.9099077,-0.6567113,-1.1151617,-1.1982105,-1.2744285,-1.2465607,-1.776134,0.43693447,0.56954193,0.4362291,-0.09730101,-1.1080909,-0.20214832,-0.47501647,-0.7903574,0.6135757,-1.0281272,-1.0112358,-1.0303782,-1.3014842,-1.1353364,-1.5122738,0.49064922,0.30860782,0.8111565,-0.8442347,-0.5509765,-0.7904706,0.38869834,0.19481707,0.91396236,-0.80516136,-1.4359728,-1.3330308,-0.47751552,0.7625184,-0.21635616,-0.4744135,-0.43718553,-0.49225754,-1.4732139,-1.6079892,-1.5366893,-0.5861981,-0.4251517,-0.5872032,1.7783186,1.8316298,1.874011,1.0722423,-0.56475556,-0.6705119,-1.4657313,-1.553891,-1.2330893,-1.4495767,-1.5049777,-1.1588039,-0.96931636,-1.0841038,-0.9171915,-1.2968483,-1.4631422,-1.3263196,0.67874527,0.72348976,0.5397662,0.46125257,-1.0014429,0.23086846,0.82697034,1.1520169,0.96890736],\"y\":[-8.3101225,-8.661312,-8.916568,-4.4316373,-5.2410817,-4.3820987,-5.141301,-5.414399,-5.403119,-4.687578,-5.0893383,-4.61371,-4.213334,-3.7570083,-7.040753,-4.728845,-6.7471004,-5.9737124,-6.4120526,-6.427777,-3.3422406,-3.7218587,-3.8095365,-5.1508217,-5.930939,-5.3597918,-6.885334,-3.8969307,-3.6732128,-4.1561728,-4.0769954,-4.5398846,-4.5376873,-6.6790757,-6.3235903,-5.9456515,-6.9669576,-6.3911433,-6.3386507,-5.5345707,-6.2641587,-6.5849404,-6.3157787,-5.709861,-5.634998,-5.5362754,-5.4706182,-4.118823,-4.107547,-4.011965,-5.1636558,-5.878976,-5.5244026,-5.1821175,-4.4074354,-4.6095395,-4.99219,-5.363846,-5.836095,-5.401195,-5.7904005,-4.969629,-4.2072477,-3.9740157,-4.2931957,-4.4542027,-4.3851185,-5.668398,-5.211618,-5.6501756,-5.7552466,-5.5948434,-5.594063,-5.690027,-4.986859,-3.6304765,-5.0901628,-3.950398,-4.3422685,-4.912177,-5.7618475,-5.6345067,-6.106865,-3.832096,-4.1623516,-4.032653,-4.5752463,-4.3855557,-4.7541094,-4.588321,-4.5351624,-4.009324,-4.2684317,-4.0184274,-5.1525073,-5.960229,-5.445772,-7.0053453,-7.246783,-7.2281685,-6.141208,-6.983244,-6.0793853,-6.505868,-7.036131,-7.5387034,-5.6767664,-5.8545923,-4.0892944,-4.3843293,-2.9651203,-4.6281004,-4.6999354,-4.896943,-5.4586725,-4.240611,-5.207388,-5.291115,-5.624335,-5.4090977,-4.9312987,-5.8701196,-5.2875676,-4.963254,-5.1354594,-3.6135397,-4.182535,-4.555747,-3.8508072,-4.678584,-5.641671,-5.237825,-6.66236,-6.2670355,-6.1280127,-3.9275086,-4.137091,-4.0829597,-5.1379576,-6.4524813,-6.5680213,-6.2884107,-5.978173,-6.0681767,-5.4251723,-5.5031667,-5.380179,-5.2739487,-5.874245,-5.115769,-5.2617908,-5.155216,-5.394338,-3.8360794,-5.3361025,-5.4079785,-4.9644375,-5.0320725,-5.887034,-4.6417274,-5.184856,-6.1494756,-6.077305,-5.806303,-6.221305,-4.7455583,-4.1941514,-5.1568246,-0.20479849,-0.08456033,-0.2658623,-0.31241655,-5.9929667,-0.34723708,-0.42198128,-0.7900349,-0.52449274],\"z\":[-1.2244874,-0.71502167,0.16457403,-4.7518826,-5.135208,-4.601307,-4.9675407,-4.956172,-4.934985,-3.5309901,-3.8461409,-3.5956883,-4.265753,-3.9896238,-3.5809615,-5.4940653,-3.4515243,-4.6125603,-4.0478325,-4.2621555,-3.6675904,-3.978014,-3.523966,-3.1824012,-3.4670005,-3.434443,-3.7412803,-3.625727,-3.660149,-3.8365152,-3.426882,-2.6459832,-2.9308438,-4.1385164,-3.9417636,-2.9344916,-3.858678,-2.708057,-3.4920318,-2.182572,-2.733559,-4.9859467,-4.63317,-4.2345057,-4.730603,-4.7170634,-4.61617,-3.7961888,-3.7084327,-3.5699134,-3.9588997,-4.1928635,-3.4872992,-4.172147,-4.323185,-4.493964,-4.646326,-4.5786138,-3.3116393,-2.5180268,-2.8172722,-4.0959797,-4.738391,-4.8021126,-3.5659063,-3.624954,-3.8950691,-3.6255941,-3.0517259,-3.4995472,-3.574929,-3.7377489,-3.3776305,-3.6642008,-2.4206944,-3.4333923,-2.5165303,-5.7726336,-5.4506826,-4.531639,-3.9871538,-3.8802657,-3.512621,-3.1397538,-2.9933703,-2.7380428,-2.765306,-3.1306047,-2.8401847,-2.9583788,-2.7044961,-3.9168668,-4.0300217,-4.0180893,-3.8697982,-3.8764827,-3.5076747,-3.287553,-3.4627645,-3.44064,-3.3913147,-3.4999413,-3.5470867,-4.390066,-4.0966463,-3.8848126,-4.8486147,-4.7092485,-4.013571,-3.471531,-5.559146,-3.0468583,-3.0543642,-3.2045453,-3.7806773,-5.998122,-3.307158,-3.5289776,-3.6499937,-3.4259565,-4.6405783,-5.257211,-4.9184613,-3.6203856,-3.2252507,-4.762503,-3.1850238,-2.864158,-3.3962827,-2.4303546,-2.7066033,-2.3779998,-3.2917426,-3.2205148,-2.885498,-4.071433,-3.6614559,-3.7745395,-2.8861022,-3.6822946,-3.3836257,-2.820567,-2.6624293,-2.6557407,-4.4300117,-4.6325974,-4.6773443,-2.9903789,-2.4326148,-3.0086684,-2.549523,-2.5120287,-2.2626495,-2.2394426,-2.8610563,-2.6304817,-3.7243662,-4.032902,-4.764705,-4.3323402,-4.603584,-5.2725754,-4.800708,-4.351391,-4.2776957,-4.155503,-4.242016,-3.8387213,-4.845729,-4.5765934,-4.6287956,-4.639178,-5.2385025,-3.9689023,-4.7604856,-4.696412,-4.9741426],\"type\":\"scatter3d\"},{\"hovertemplate\":\"cell_type=induced pluripotent stem cell\\u003cbr\\u003eprep_method_broad=nugen\\u003cbr\\u003eV0=%{x}\\u003cbr\\u003eV1=%{y}\\u003cbr\\u003eV2=%{z}\\u003cextra\\u003e\\u003c\\u002fextra\\u003e\",\"legendgroup\":\"induced pluripotent stem cell, nugen\",\"marker\":{\"color\":\"#FF6692\",\"symbol\":\"square\",\"size\":4},\"mode\":\"markers\",\"name\":\"induced pluripotent stem cell, nugen\",\"scene\":\"scene\",\"showlegend\":true,\"x\":[1.6257377,1.3444417,1.4996905,1.2411346,1.4943337],\"y\":[-9.106841,-9.613768,-9.360624,-9.490815,-9.595735],\"z\":[-2.7936802,-2.4782739,-2.2529244,-2.3184114,-2.2635736],\"type\":\"scatter3d\"},{\"hovertemplate\":\"cell_type=induced pluripotent stem cell\\u003cbr\\u003eprep_method_broad=illumina_unknown\\u003cbr\\u003eV0=%{x}\\u003cbr\\u003eV1=%{y}\\u003cbr\\u003eV2=%{z}\\u003cextra\\u003e\\u003c\\u002fextra\\u003e\",\"legendgroup\":\"induced pluripotent stem cell, illumina_unknown\",\"marker\":{\"color\":\"#FF6692\",\"symbol\":\"circle\",\"size\":4},\"mode\":\"markers\",\"name\":\"induced pluripotent stem cell, illumina_unknown\",\"scene\":\"scene\",\"showlegend\":true,\"x\":[-0.88636655,-0.8910334,-0.9093316],\"y\":[-5.3345466,-5.482458,-5.3604326],\"z\":[-2.785887,-2.564663,-2.6611102],\"type\":\"scatter3d\"},{\"hovertemplate\":\"cell_type=fibroblast\\u003cbr\\u003eprep_method_broad=illumina_truseq\\u003cbr\\u003eV0=%{x}\\u003cbr\\u003eV1=%{y}\\u003cbr\\u003eV2=%{z}\\u003cextra\\u003e\\u003c\\u002fextra\\u003e\",\"legendgroup\":\"fibroblast, illumina_truseq\",\"marker\":{\"color\":\"#B6E880\",\"symbol\":\"circle\",\"size\":4},\"mode\":\"markers\",\"name\":\"fibroblast, illumina_truseq\",\"scene\":\"scene\",\"showlegend\":true,\"x\":[12.120127,12.133074,11.556534,11.244823,11.464371,13.207895],\"y\":[-0.62167084,-0.7028195,-0.9074071,0.38039118,-0.47208795,-0.14655247],\"z\":[-0.63683957,-0.57281554,-0.611941,0.4834578,-0.45512515,-0.69712824],\"type\":\"scatter3d\"},{\"hovertemplate\":\"cell_type=microglial cell\\u003cbr\\u003eprep_method_broad=illumina_truseq\\u003cbr\\u003eV0=%{x}\\u003cbr\\u003eV1=%{y}\\u003cbr\\u003eV2=%{z}\\u003cextra\\u003e\\u003c\\u002fextra\\u003e\",\"legendgroup\":\"microglial cell, illumina_truseq\",\"marker\":{\"color\":\"#FF97FF\",\"symbol\":\"circle\",\"size\":4},\"mode\":\"markers\",\"name\":\"microglial cell, illumina_truseq\",\"scene\":\"scene\",\"showlegend\":true,\"x\":[-0.722186,-0.6355345,-0.6427197,-0.6737519,-0.60703146,-0.638937,2.4202003,2.7733378,2.9174194,2.62939,2.8564444,3.7861266,1.1763258,1.2546802,1.2405744,2.7546728,0.8929484,0.7150732],\"y\":[2.0963848,1.6962159,2.1483545,2.0761194,2.1663241,1.9876226,6.024574,6.507282,6.7282977,6.414941,6.583118,7.4383636,1.342239,1.437225,1.2604115,0.65487736,1.3630391,1.1953278],\"z\":[-2.1635466,-2.242406,-2.1310866,-2.1098142,-2.2612782,-2.0968914,-1.4726825,-1.318877,-1.459304,-1.2822199,-1.3308969,-1.3238027,1.9089994,1.8137305,1.5891027,3.122878,3.2498488,3.7341642],\"type\":\"scatter3d\"},{\"hovertemplate\":\"cell_type=microglial cell\\u003cbr\\u003eprep_method_broad=smartseq_unknown\\u003cbr\\u003eV0=%{x}\\u003cbr\\u003eV1=%{y}\\u003cbr\\u003eV2=%{z}\\u003cextra\\u003e\\u003c\\u002fextra\\u003e\",\"legendgroup\":\"microglial cell, smartseq_unknown\",\"marker\":{\"color\":\"#FF97FF\",\"symbol\":\"diamond\",\"size\":4},\"mode\":\"markers\",\"name\":\"microglial cell, smartseq_unknown\",\"scene\":\"scene\",\"showlegend\":true,\"x\":[3.30412,2.7743497,3.351593,2.528145,4.5818048,4.4875336,4.15771,4.4667554],\"y\":[6.458908,5.8860025,2.6034448,2.1893213,3.2521439,2.9758449,5.669214,3.8855305],\"z\":[-1.5497043,-1.683575,-2.4166994,-2.4295926,-2.4559152,-2.5937073,-1.7430775,-2.190243],\"type\":\"scatter3d\"},{\"hovertemplate\":\"cell_type=microglial cell\\u003cbr\\u003eprep_method_broad=illumina_unknown\\u003cbr\\u003eV0=%{x}\\u003cbr\\u003eV1=%{y}\\u003cbr\\u003eV2=%{z}\\u003cextra\\u003e\\u003c\\u002fextra\\u003e\",\"legendgroup\":\"microglial cell, illumina_unknown\",\"marker\":{\"color\":\"#FF97FF\",\"symbol\":\"circle\",\"size\":4},\"mode\":\"markers\",\"name\":\"microglial cell, illumina_unknown\",\"scene\":\"scene\",\"showlegend\":true,\"x\":[1.067837,0.94160914,8.40177,8.418289,-2.589098,-2.5171988,-0.7825407,-1.1835225,-3.44004,-3.7769318,-3.6411417,-3.8022454,-0.11084044,-0.13186598],\"y\":[1.8850807,1.8459843,-0.5460292,-0.6812606,5.818588,6.765039,7.66497,7.2386193,5.089882,5.584244,4.783944,4.6534505,3.6714826,3.3330073],\"z\":[-2.3598664,-2.3071516,-1.2460792,-1.4595923,0.9652302,2.5964105,1.7751634,1.8147187,0.882684,2.3542986,0.795872,0.95522976,-0.9800823,-1.4391227],\"type\":\"scatter3d\"},{\"hovertemplate\":\"cell_type=macrophage\\u003cbr\\u003eprep_method_broad=illumina_truseq\\u003cbr\\u003eV0=%{x}\\u003cbr\\u003eV1=%{y}\\u003cbr\\u003eV2=%{z}\\u003cextra\\u003e\\u003c\\u002fextra\\u003e\",\"legendgroup\":\"macrophage, illumina_truseq\",\"marker\":{\"color\":\"#FECB52\",\"symbol\":\"circle\",\"size\":4},\"mode\":\"markers\",\"name\":\"macrophage, illumina_truseq\",\"scene\":\"scene\",\"showlegend\":true,\"x\":[2.436073,2.020447,4.2149196,5.7430987,5.6818113,4.5251584,3.2411537,1.8276763,2.0632873,0.99311376,0.83944225,1.0182295,0.9271314,-0.05643046,8.492846,5.822435,8.949507,7.501392,7.6977725,-0.6027519,-0.81815296,-1.8071008,-0.19218898,-0.37330276,-0.87768817,-0.90370417],\"y\":[6.657073,6.129991,3.1518536,3.9834824,3.7760177,3.1866045,7.3660183,2.1256003,3.1891558,1.0394037,1.1282654,1.4348385,1.658387,0.06865258,3.7602448,3.180982,3.0910933,3.8089108,4.053982,8.923179,7.981791,6.861413,10.128102,8.871246,0.36192194,0.29685038],\"z\":[-1.3080764,-1.5254734,-2.2274823,-2.3011875,-2.312981,-2.260695,-1.368762,-2.1458898,-2.217842,3.402748,2.736503,3.052762,2.6777897,3.7468486,13.559228,9.190287,12.08347,12.290676,12.81252,11.240426,9.42784,9.062148,12.545663,10.359241,0.81026626,0.76240635],\"type\":\"scatter3d\"},{\"hovertemplate\":\"cell_type=macrophage\\u003cbr\\u003eprep_method_broad=illumina_unknown\\u003cbr\\u003eV0=%{x}\\u003cbr\\u003eV1=%{y}\\u003cbr\\u003eV2=%{z}\\u003cextra\\u003e\\u003c\\u002fextra\\u003e\",\"legendgroup\":\"macrophage, illumina_unknown\",\"marker\":{\"color\":\"#FECB52\",\"symbol\":\"circle\",\"size\":4},\"mode\":\"markers\",\"name\":\"macrophage, illumina_unknown\",\"scene\":\"scene\",\"showlegend\":true,\"x\":[0.517787,0.12034595,0.28193545,0.37448072,-0.5115339,0.6093441,1.3575585,-0.38149077,-0.57403255,2.5513935,-0.021240115,2.175369],\"y\":[3.029386,2.638131,3.2662485,3.3770142,0.5754832,1.1417049,2.257415,0.5354162,0.5966017,2.7664223,0.7781096,2.8813674],\"z\":[-2.0232422,-2.1169078,-1.6967514,-1.6636853,2.0316038,3.2206998,6.6434526,2.2163265,1.8829105,7.851054,2.377101,7.438858],\"type\":\"scatter3d\"},{\"hovertemplate\":\"cell_type=macrophage\\u003cbr\\u003eprep_method_broad=hudson\\u003cbr\\u003eV0=%{x}\\u003cbr\\u003eV1=%{y}\\u003cbr\\u003eV2=%{z}\\u003cextra\\u003e\\u003c\\u002fextra\\u003e\",\"legendgroup\":\"macrophage, hudson\",\"marker\":{\"color\":\"#FECB52\",\"symbol\":\"square\",\"size\":4},\"mode\":\"markers\",\"name\":\"macrophage, hudson\",\"scene\":\"scene\",\"showlegend\":true,\"x\":[1.8672028,1.4804478,1.4341073,0.98621035,1.4943671,0.8928356,0.4456743,0.8830304,-1.5490458,-1.5838823,-1.605192,1.8145628,2.2913663,3.4093843,3.091053,1.3518646,1.6279762,2.3668113,1.835985,0.8057046,1.6421373,2.6928675,2.63305,2.359684,2.2886736,2.102047,2.270611,2.4822643],\"y\":[3.5411596,1.8771777,1.6378162,1.5394111,3.7725294,1.413202,1.401006,1.5229942,-0.95036465,-0.829926,-0.68489534,-0.10365195,0.39945024,1.4867997,1.1992851,1.079885,1.4179844,2.6722698,2.2493594,1.2080095,2.1147175,3.3464255,5.5460777,3.678094,3.7901611,3.0354798,3.4292755,3.6706345],\"z\":[6.4208684,4.601305,4.849448,3.8653097,4.926578,4.179031,4.086477,3.6511698,2.862207,3.028994,2.8493867,4.2716403,4.886922,4.88459,3.8859062,4.3148904,5.157389,5.950782,4.014178,3.2789273,4.586365,5.275994,2.0666313,-0.7828152,-0.8455312,-0.99508876,-0.4229681,-0.96456087],\"type\":\"scatter3d\"},{\"hovertemplate\":\"cell_type=macrophage\\u003cbr\\u003eprep_method_broad=roche_kapa\\u003cbr\\u003eV0=%{x}\\u003cbr\\u003eV1=%{y}\\u003cbr\\u003eV2=%{z}\\u003cextra\\u003e\\u003c\\u002fextra\\u003e\",\"legendgroup\":\"macrophage, roche_kapa\",\"marker\":{\"color\":\"#FECB52\",\"symbol\":\"x\",\"size\":4},\"mode\":\"markers\",\"name\":\"macrophage, roche_kapa\",\"scene\":\"scene\",\"showlegend\":true,\"x\":[-0.88261867,-1.5504396,-0.0786221,-0.051405072,-0.25428516,-1.3923316,-0.9400136,-0.52772075,1.3196781,0.40618575,-1.062465,-1.6785214,-0.9331501,-1.0556394,-0.56200886,-1.3418313,-1.3718969,-0.92419845,-0.6067302,-0.27343577,-1.3064001,-0.44740945,0.10091257,0.4252969],\"y\":[2.0445487,3.5347602,5.0353584,4.8574595,4.461792,2.288424,3.4890325,5.7002172,8.164303,7.1451035,2.2711573,3.4918344,4.1265197,4.6492333,4.742209,2.3086948,3.6470091,4.418061,4.8284426,5.3704805,2.5174384,4.8459516,6.150926,5.8908234],\"z\":[-0.9350039,1.158531,1.6230462,1.7048326,2.2218535,-0.51174194,0.7628982,3.6029167,8.723102,4.1306434,-0.91502726,1.3801174,1.2598836,1.1058235,1.2826312,-0.57919353,0.51909924,0.93493533,1.2436721,1.3874218,-0.47109556,1.2966213,3.5832038,3.0404558],\"type\":\"scatter3d\"},{\"hovertemplate\":\"cell_type=hematopoietic precursor cell\\u003cbr\\u003eprep_method_broad=illumina_truseq\\u003cbr\\u003eV0=%{x}\\u003cbr\\u003eV1=%{y}\\u003cbr\\u003eV2=%{z}\\u003cextra\\u003e\\u003c\\u002fextra\\u003e\",\"legendgroup\":\"hematopoietic precursor cell, illumina_truseq\",\"marker\":{\"color\":\"#636efa\",\"symbol\":\"circle\",\"size\":4},\"mode\":\"markers\",\"name\":\"hematopoietic precursor cell, illumina_truseq\",\"scene\":\"scene\",\"showlegend\":true,\"x\":[1.4411201,1.0197332,1.3716617],\"y\":[-0.15560919,0.10939293,-0.9696141],\"z\":[-1.382466,-1.1225148,-1.6777025],\"type\":\"scatter3d\"},{\"hovertemplate\":\"cell_type=hematopoietic precursor cell\\u003cbr\\u003eprep_method_broad=nugen\\u003cbr\\u003eV0=%{x}\\u003cbr\\u003eV1=%{y}\\u003cbr\\u003eV2=%{z}\\u003cextra\\u003e\\u003c\\u002fextra\\u003e\",\"legendgroup\":\"hematopoietic precursor cell, nugen\",\"marker\":{\"color\":\"#636efa\",\"symbol\":\"square\",\"size\":4},\"mode\":\"markers\",\"name\":\"hematopoietic precursor cell, nugen\",\"scene\":\"scene\",\"showlegend\":true,\"x\":[-0.06463432,-0.32832706],\"y\":[-2.833393,-2.7729695],\"z\":[2.7990117,0.6154175],\"type\":\"scatter3d\"},{\"hovertemplate\":\"cell_type=hematopoietic precursor cell\\u003cbr\\u003eprep_method_broad=illumina_unknown\\u003cbr\\u003eV0=%{x}\\u003cbr\\u003eV1=%{y}\\u003cbr\\u003eV2=%{z}\\u003cextra\\u003e\\u003c\\u002fextra\\u003e\",\"legendgroup\":\"hematopoietic precursor cell, illumina_unknown\",\"marker\":{\"color\":\"#636efa\",\"symbol\":\"circle\",\"size\":4},\"mode\":\"markers\",\"name\":\"hematopoietic precursor cell, illumina_unknown\",\"scene\":\"scene\",\"showlegend\":true,\"x\":[-3.1797853,-2.8858614,-2.5880635,-2.2777858,-1.9833617,-2.043458],\"y\":[1.3529055,1.00223,0.5191447,-0.11656275,-0.7031747,-0.56990135],\"z\":[3.7779875,5.2546005,5.134488,3.0918217,2.9554272,3.1717935],\"type\":\"scatter3d\"},{\"hovertemplate\":\"cell_type=hematopoietic precursor cell\\u003cbr\\u003eprep_method_broad=illumina_nextera\\u003cbr\\u003eV0=%{x}\\u003cbr\\u003eV1=%{y}\\u003cbr\\u003eV2=%{z}\\u003cextra\\u003e\\u003c\\u002fextra\\u003e\",\"legendgroup\":\"hematopoietic precursor cell, illumina_nextera\",\"marker\":{\"color\":\"#636efa\",\"symbol\":\"diamond\",\"size\":4},\"mode\":\"markers\",\"name\":\"hematopoietic precursor cell, illumina_nextera\",\"scene\":\"scene\",\"showlegend\":true,\"x\":[2.6007442,4.681458,-0.12962139,-0.5031746,-0.41021067,-0.4659676],\"y\":[-3.5146892,-3.9421482,-1.3506836,-1.7503593,-1.6938244,-1.2400038],\"z\":[2.6737309,3.8747683,-0.07738328,-0.2555645,-0.25513357,-0.57144684],\"type\":\"scatter3d\"}],                        {\"template\":{\"data\":{\"histogram2dcontour\":[{\"type\":\"histogram2dcontour\",\"colorbar\":{\"outlinewidth\":0,\"ticks\":\"\"},\"colorscale\":[[0.0,\"#0d0887\"],[0.1111111111111111,\"#46039f\"],[0.2222222222222222,\"#7201a8\"],[0.3333333333333333,\"#9c179e\"],[0.4444444444444444,\"#bd3786\"],[0.5555555555555556,\"#d8576b\"],[0.6666666666666666,\"#ed7953\"],[0.7777777777777778,\"#fb9f3a\"],[0.8888888888888888,\"#fdca26\"],[1.0,\"#f0f921\"]]}],\"choropleth\":[{\"type\":\"choropleth\",\"colorbar\":{\"outlinewidth\":0,\"ticks\":\"\"}}],\"histogram2d\":[{\"type\":\"histogram2d\",\"colorbar\":{\"outlinewidth\":0,\"ticks\":\"\"},\"colorscale\":[[0.0,\"#0d0887\"],[0.1111111111111111,\"#46039f\"],[0.2222222222222222,\"#7201a8\"],[0.3333333333333333,\"#9c179e\"],[0.4444444444444444,\"#bd3786\"],[0.5555555555555556,\"#d8576b\"],[0.6666666666666666,\"#ed7953\"],[0.7777777777777778,\"#fb9f3a\"],[0.8888888888888888,\"#fdca26\"],[1.0,\"#f0f921\"]]}],\"heatmap\":[{\"type\":\"heatmap\",\"colorbar\":{\"outlinewidth\":0,\"ticks\":\"\"},\"colorscale\":[[0.0,\"#0d0887\"],[0.1111111111111111,\"#46039f\"],[0.2222222222222222,\"#7201a8\"],[0.3333333333333333,\"#9c179e\"],[0.4444444444444444,\"#bd3786\"],[0.5555555555555556,\"#d8576b\"],[0.6666666666666666,\"#ed7953\"],[0.7777777777777778,\"#fb9f3a\"],[0.8888888888888888,\"#fdca26\"],[1.0,\"#f0f921\"]]}],\"heatmapgl\":[{\"type\":\"heatmapgl\",\"colorbar\":{\"outlinewidth\":0,\"ticks\":\"\"},\"colorscale\":[[0.0,\"#0d0887\"],[0.1111111111111111,\"#46039f\"],[0.2222222222222222,\"#7201a8\"],[0.3333333333333333,\"#9c179e\"],[0.4444444444444444,\"#bd3786\"],[0.5555555555555556,\"#d8576b\"],[0.6666666666666666,\"#ed7953\"],[0.7777777777777778,\"#fb9f3a\"],[0.8888888888888888,\"#fdca26\"],[1.0,\"#f0f921\"]]}],\"contourcarpet\":[{\"type\":\"contourcarpet\",\"colorbar\":{\"outlinewidth\":0,\"ticks\":\"\"}}],\"contour\":[{\"type\":\"contour\",\"colorbar\":{\"outlinewidth\":0,\"ticks\":\"\"},\"colorscale\":[[0.0,\"#0d0887\"],[0.1111111111111111,\"#46039f\"],[0.2222222222222222,\"#7201a8\"],[0.3333333333333333,\"#9c179e\"],[0.4444444444444444,\"#bd3786\"],[0.5555555555555556,\"#d8576b\"],[0.6666666666666666,\"#ed7953\"],[0.7777777777777778,\"#fb9f3a\"],[0.8888888888888888,\"#fdca26\"],[1.0,\"#f0f921\"]]}],\"surface\":[{\"type\":\"surface\",\"colorbar\":{\"outlinewidth\":0,\"ticks\":\"\"},\"colorscale\":[[0.0,\"#0d0887\"],[0.1111111111111111,\"#46039f\"],[0.2222222222222222,\"#7201a8\"],[0.3333333333333333,\"#9c179e\"],[0.4444444444444444,\"#bd3786\"],[0.5555555555555556,\"#d8576b\"],[0.6666666666666666,\"#ed7953\"],[0.7777777777777778,\"#fb9f3a\"],[0.8888888888888888,\"#fdca26\"],[1.0,\"#f0f921\"]]}],\"mesh3d\":[{\"type\":\"mesh3d\",\"colorbar\":{\"outlinewidth\":0,\"ticks\":\"\"}}],\"scatter\":[{\"fillpattern\":{\"fillmode\":\"overlay\",\"size\":10,\"solidity\":0.2},\"type\":\"scatter\"}],\"parcoords\":[{\"type\":\"parcoords\",\"line\":{\"colorbar\":{\"outlinewidth\":0,\"ticks\":\"\"}}}],\"scatterpolargl\":[{\"type\":\"scatterpolargl\",\"marker\":{\"colorbar\":{\"outlinewidth\":0,\"ticks\":\"\"}}}],\"bar\":[{\"error_x\":{\"color\":\"#2a3f5f\"},\"error_y\":{\"color\":\"#2a3f5f\"},\"marker\":{\"line\":{\"color\":\"#E5ECF6\",\"width\":0.5},\"pattern\":{\"fillmode\":\"overlay\",\"size\":10,\"solidity\":0.2}},\"type\":\"bar\"}],\"scattergeo\":[{\"type\":\"scattergeo\",\"marker\":{\"colorbar\":{\"outlinewidth\":0,\"ticks\":\"\"}}}],\"scatterpolar\":[{\"type\":\"scatterpolar\",\"marker\":{\"colorbar\":{\"outlinewidth\":0,\"ticks\":\"\"}}}],\"histogram\":[{\"marker\":{\"pattern\":{\"fillmode\":\"overlay\",\"size\":10,\"solidity\":0.2}},\"type\":\"histogram\"}],\"scattergl\":[{\"type\":\"scattergl\",\"marker\":{\"colorbar\":{\"outlinewidth\":0,\"ticks\":\"\"}}}],\"scatter3d\":[{\"type\":\"scatter3d\",\"line\":{\"colorbar\":{\"outlinewidth\":0,\"ticks\":\"\"}},\"marker\":{\"colorbar\":{\"outlinewidth\":0,\"ticks\":\"\"}}}],\"scattermapbox\":[{\"type\":\"scattermapbox\",\"marker\":{\"colorbar\":{\"outlinewidth\":0,\"ticks\":\"\"}}}],\"scatterternary\":[{\"type\":\"scatterternary\",\"marker\":{\"colorbar\":{\"outlinewidth\":0,\"ticks\":\"\"}}}],\"scattercarpet\":[{\"type\":\"scattercarpet\",\"marker\":{\"colorbar\":{\"outlinewidth\":0,\"ticks\":\"\"}}}],\"carpet\":[{\"aaxis\":{\"endlinecolor\":\"#2a3f5f\",\"gridcolor\":\"white\",\"linecolor\":\"white\",\"minorgridcolor\":\"white\",\"startlinecolor\":\"#2a3f5f\"},\"baxis\":{\"endlinecolor\":\"#2a3f5f\",\"gridcolor\":\"white\",\"linecolor\":\"white\",\"minorgridcolor\":\"white\",\"startlinecolor\":\"#2a3f5f\"},\"type\":\"carpet\"}],\"table\":[{\"cells\":{\"fill\":{\"color\":\"#EBF0F8\"},\"line\":{\"color\":\"white\"}},\"header\":{\"fill\":{\"color\":\"#C8D4E3\"},\"line\":{\"color\":\"white\"}},\"type\":\"table\"}],\"barpolar\":[{\"marker\":{\"line\":{\"color\":\"#E5ECF6\",\"width\":0.5},\"pattern\":{\"fillmode\":\"overlay\",\"size\":10,\"solidity\":0.2}},\"type\":\"barpolar\"}],\"pie\":[{\"automargin\":true,\"type\":\"pie\"}]},\"layout\":{\"autotypenumbers\":\"strict\",\"colorway\":[\"#636efa\",\"#EF553B\",\"#00cc96\",\"#ab63fa\",\"#FFA15A\",\"#19d3f3\",\"#FF6692\",\"#B6E880\",\"#FF97FF\",\"#FECB52\"],\"font\":{\"color\":\"#2a3f5f\"},\"hovermode\":\"closest\",\"hoverlabel\":{\"align\":\"left\"},\"paper_bgcolor\":\"white\",\"plot_bgcolor\":\"#E5ECF6\",\"polar\":{\"bgcolor\":\"#E5ECF6\",\"angularaxis\":{\"gridcolor\":\"white\",\"linecolor\":\"white\",\"ticks\":\"\"},\"radialaxis\":{\"gridcolor\":\"white\",\"linecolor\":\"white\",\"ticks\":\"\"}},\"ternary\":{\"bgcolor\":\"#E5ECF6\",\"aaxis\":{\"gridcolor\":\"white\",\"linecolor\":\"white\",\"ticks\":\"\"},\"baxis\":{\"gridcolor\":\"white\",\"linecolor\":\"white\",\"ticks\":\"\"},\"caxis\":{\"gridcolor\":\"white\",\"linecolor\":\"white\",\"ticks\":\"\"}},\"coloraxis\":{\"colorbar\":{\"outlinewidth\":0,\"ticks\":\"\"}},\"colorscale\":{\"sequential\":[[0.0,\"#0d0887\"],[0.1111111111111111,\"#46039f\"],[0.2222222222222222,\"#7201a8\"],[0.3333333333333333,\"#9c179e\"],[0.4444444444444444,\"#bd3786\"],[0.5555555555555556,\"#d8576b\"],[0.6666666666666666,\"#ed7953\"],[0.7777777777777778,\"#fb9f3a\"],[0.8888888888888888,\"#fdca26\"],[1.0,\"#f0f921\"]],\"sequentialminus\":[[0.0,\"#0d0887\"],[0.1111111111111111,\"#46039f\"],[0.2222222222222222,\"#7201a8\"],[0.3333333333333333,\"#9c179e\"],[0.4444444444444444,\"#bd3786\"],[0.5555555555555556,\"#d8576b\"],[0.6666666666666666,\"#ed7953\"],[0.7777777777777778,\"#fb9f3a\"],[0.8888888888888888,\"#fdca26\"],[1.0,\"#f0f921\"]],\"diverging\":[[0,\"#8e0152\"],[0.1,\"#c51b7d\"],[0.2,\"#de77ae\"],[0.3,\"#f1b6da\"],[0.4,\"#fde0ef\"],[0.5,\"#f7f7f7\"],[0.6,\"#e6f5d0\"],[0.7,\"#b8e186\"],[0.8,\"#7fbc41\"],[0.9,\"#4d9221\"],[1,\"#276419\"]]},\"xaxis\":{\"gridcolor\":\"white\",\"linecolor\":\"white\",\"ticks\":\"\",\"title\":{\"standoff\":15},\"zerolinecolor\":\"white\",\"automargin\":true,\"zerolinewidth\":2},\"yaxis\":{\"gridcolor\":\"white\",\"linecolor\":\"white\",\"ticks\":\"\",\"title\":{\"standoff\":15},\"zerolinecolor\":\"white\",\"automargin\":true,\"zerolinewidth\":2},\"scene\":{\"xaxis\":{\"backgroundcolor\":\"#E5ECF6\",\"gridcolor\":\"white\",\"linecolor\":\"white\",\"showbackground\":true,\"ticks\":\"\",\"zerolinecolor\":\"white\",\"gridwidth\":2},\"yaxis\":{\"backgroundcolor\":\"#E5ECF6\",\"gridcolor\":\"white\",\"linecolor\":\"white\",\"showbackground\":true,\"ticks\":\"\",\"zerolinecolor\":\"white\",\"gridwidth\":2},\"zaxis\":{\"backgroundcolor\":\"#E5ECF6\",\"gridcolor\":\"white\",\"linecolor\":\"white\",\"showbackground\":true,\"ticks\":\"\",\"zerolinecolor\":\"white\",\"gridwidth\":2}},\"shapedefaults\":{\"line\":{\"color\":\"#2a3f5f\"}},\"annotationdefaults\":{\"arrowcolor\":\"#2a3f5f\",\"arrowhead\":0,\"arrowwidth\":1},\"geo\":{\"bgcolor\":\"white\",\"landcolor\":\"#E5ECF6\",\"subunitcolor\":\"white\",\"showland\":true,\"showlakes\":true,\"lakecolor\":\"white\"},\"title\":{\"x\":0.05},\"mapbox\":{\"style\":\"light\"}}},\"scene\":{\"domain\":{\"x\":[0.0,1.0],\"y\":[0.0,1.0]},\"xaxis\":{\"title\":{\"text\":\"V0\"}},\"yaxis\":{\"title\":{\"text\":\"V1\"}},\"zaxis\":{\"title\":{\"text\":\"V2\"}}},\"legend\":{\"title\":{\"text\":\"cell_type, prep_method_broad\"},\"tracegroupgap\":0},\"margin\":{\"t\":60}},                        {\"responsive\": true}                    ).then(function(){\n",
       "                            \n",
       "var gd = document.getElementById('11381e77-5955-40c9-8169-9b60ab1830e6');\n",
       "var x = new MutationObserver(function (mutations, observer) {{\n",
       "        var display = window.getComputedStyle(gd).display;\n",
       "        if (!display || display === 'none') {{\n",
       "            console.log([gd, 'removed!']);\n",
       "            Plotly.purge(gd);\n",
       "            observer.disconnect();\n",
       "        }}\n",
       "}});\n",
       "\n",
       "// Listen for the removal of the full notebook cells\n",
       "var notebookContainer = gd.closest('#notebook-container');\n",
       "if (notebookContainer) {{\n",
       "    x.observe(notebookContainer, {childList: true});\n",
       "}}\n",
       "\n",
       "// Listen for the clearing of the current output cell\n",
       "var outputEl = gd.closest('.output');\n",
       "if (outputEl) {{\n",
       "    x.observe(outputEl, {childList: true});\n",
       "}}\n",
       "\n",
       "                        })                };                });            </script>        </div>"
      ]
     },
     "metadata": {},
     "output_type": "display_data"
    }
   ],
   "source": [
    "import plotly.express as px\n",
    "\n",
    "# Plotting\n",
    "fig = px.scatter_3d(\n",
    "    scvi_representation_coordinates_merged,\n",
    "    x='V0',\n",
    "    y='V1',\n",
    "    z='V2',\n",
    "    color= bio_tag,\n",
    "    symbol = batch_tag\n",
    ")\n",
    "\n",
    "# Adjusting marker size\n",
    "fig.update_traces(marker=dict(size=4))\n",
    "\n",
    "# Show the plot\n",
    "fig.show()"
   ]
  },
  {
   "cell_type": "code",
   "execution_count": null,
   "id": "4990ecf6-0232-44fa-98a3-67c5bed33b8c",
   "metadata": {},
   "outputs": [],
   "source": []
  }
 ],
 "metadata": {
  "kernelspec": {
   "display_name": "Python 3 (ipykernel)",
   "language": "python",
   "name": "python3"
  },
  "language_info": {
   "codemirror_mode": {
    "name": "ipython",
    "version": 3
   },
   "file_extension": ".py",
   "mimetype": "text/x-python",
   "name": "python",
   "nbconvert_exporter": "python",
   "pygments_lexer": "ipython3",
   "version": "3.10.4"
  }
 },
 "nbformat": 4,
 "nbformat_minor": 5
}
