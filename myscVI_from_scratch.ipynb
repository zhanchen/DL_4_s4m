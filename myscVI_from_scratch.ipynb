{
 "cells": [
  {
   "cell_type": "code",
   "execution_count": 10,
   "id": "526e1e46-30cf-42a2-b74c-894c3727c9bd",
   "metadata": {},
   "outputs": [],
   "source": [
    "import pandas as pd\n",
    "\n",
    "df = pd.read_csv('raw_training_df.csv')\n",
    "df.set_index('genes', inplace=True)\n",
    "df = df.T\n",
    "\n",
    "metadata = pd.read_csv('metadata.csv')\n",
    "metadata = metadata.set_index('sample_id')\n",
    "\n",
    "import scanpy as sc\n",
    "\n",
    "adata = sc.AnnData(df)\n",
    "adata.obs = adata.obs.merge(metadata, left_index=True, right_index=True, how='left')"
   ]
  },
  {
   "cell_type": "code",
   "execution_count": 30,
   "id": "73630ed8-33ea-4fad-ae7f-d99855cb2568",
   "metadata": {},
   "outputs": [],
   "source": [
    "from torch.utils.data import DataLoader, Dataset\n",
    "import numpy as np\n",
    "\n",
    "# Custom Dataset for AnnData\n",
    "class AnnDataset(Dataset):\n",
    "    def __init__(self, adata):\n",
    "        self.data = adata.X\n",
    "\n",
    "    def __len__(self):\n",
    "        return self.data.shape[0]\n",
    "\n",
    "    def __getitem__(self, idx):\n",
    "        return torch.tensor(self.data[idx, :], dtype=torch.float32)  # Assuming sparse matrix"
   ]
  },
  {
   "cell_type": "code",
   "execution_count": 65,
   "id": "3b84492d-0be0-4419-8a16-8957f8e29fda",
   "metadata": {},
   "outputs": [],
   "source": [
    "# Convert adata to a PyTorch DataLoader\n",
    "batch_size = 32\n",
    "dataset = AnnDataset(adata)\n",
    "dataloader = DataLoader(dataset, batch_size=batch_size, shuffle=True)"
   ]
  },
  {
   "cell_type": "code",
   "execution_count": 1,
   "id": "81192c6d-a02a-4eb9-9c20-ef414b3b50c3",
   "metadata": {},
   "outputs": [],
   "source": [
    "import torch\n",
    "from typing import Literal\n",
    "\n",
    "class MyNeuralNet(torch.nn.Module):\n",
    "    def __init__(\n",
    "        self,\n",
    "        n_input: int = 10,\n",
    "        n_output: int = 10,\n",
    "        n_layer: int = 3,\n",
    "        n_hidden: int = 128,\n",
    "        act_fn: Literal[\"relu\", \"tanh\", \"sigmoid\"] = \"relu\",\n",
    "        final_transf: Literal[\"exp\", \"none\", \"softmax\"] = \"none\",\n",
    "    ):\n",
    "        \"\"\"\n",
    "        Encodes data of ``n_input`` dimensions into a space of ``n_output`` dimensions.\n",
    "\n",
    "        Uses a fully-connected neural network with specified number of hidden layers and nodes.\n",
    "\n",
    "        Parameters\n",
    "        ----------\n",
    "        n_input\n",
    "            The dimensionality of the input (default: 10)\n",
    "        n_output\n",
    "            The dimensionality of the output (default: 2)\n",
    "        n_layer\n",
    "            The number of hidden layers (default: 3)\n",
    "        n_hidden\n",
    "            The number of nodes in each hidden layer (default: 128)\n",
    "        act_fn\n",
    "            The activation function for the hidden layers (default: \"relu\")\n",
    "        final_transf\n",
    "            The final non-linearity applied to the output layer (default: \"none\")\n",
    "        \"\"\"\n",
    "        super().__init__()\n",
    "\n",
    "        # Determine the activation function for hidden layers\n",
    "        if act_fn == \"relu\":\n",
    "            activation = torch.nn.ReLU()\n",
    "        elif act_fn == \"tanh\":\n",
    "            activation = torch.nn.Tanh()\n",
    "        elif act_fn == \"sigmoid\":\n",
    "            activation = torch.nn.Sigmoid()\n",
    "        else:\n",
    "            raise ValueError(\"Unsupported activation function: choose from 'relu', 'tanh', 'sigmoid'\")\n",
    "\n",
    "        layers = []\n",
    "        input_dim = n_input\n",
    "\n",
    "        # Create hidden layers with specified activation function and number of nodes\n",
    "        for _ in range(n_layer):\n",
    "            layers.append(torch.nn.Linear(input_dim, n_hidden))\n",
    "            layers.append(activation)\n",
    "            input_dim = n_hidden\n",
    "        \n",
    "        # Output layer\n",
    "        layers.append(torch.nn.Linear(input_dim, n_output))\n",
    "        \n",
    "        # Create the neural network\n",
    "        self.neural_net = torch.nn.Sequential(*layers)\n",
    "\n",
    "        # Final transformation\n",
    "        self.transformation = None\n",
    "        if final_transf == \"softmax\":\n",
    "            self.transformation = torch.nn.Softmax(dim=-1)\n",
    "        elif final_transf == \"exp\":\n",
    "            self.transformation = torch.exp\n",
    "\n",
    "    def forward(self, x: torch.Tensor):\n",
    "        output = self.neural_net(x)\n",
    "        if self.transformation:\n",
    "            output = self.transformation(output)\n",
    "        return output"
   ]
  },
  {
   "cell_type": "code",
   "execution_count": 78,
   "id": "cdcb8bf9-9a15-41bf-ab15-155ce2e29b93",
   "metadata": {},
   "outputs": [],
   "source": [
    "from torch.distributions import NegativeBinomial, Normal\n",
    "from torch.distributions import kl_divergence \n",
    "\n",
    "class MyVAE(torch.nn.Module):\n",
    "    def __init__(self, n_input: int, n_latent: int = 10, n_layer: int = 3, n_hidden: int = 128):\n",
    "        super().__init__()\n",
    "        # self.n_latent = n_latent\n",
    "\n",
    "        # Encoder: q(z|x)\n",
    "        self.mean_encoder = MyNeuralNet(n_input, n_latent, n_layer, n_hidden)\n",
    "        self.var_encoder = MyNeuralNet(n_input, n_latent, n_layer, n_hidden, final_transf = \"exp\")\n",
    "\n",
    "        # Decoder: p(x|z)\n",
    "        self.decoder = MyNeuralNet(n_latent, n_input, n_layer, n_hidden, final_transf = \"softmax\")\n",
    "\n",
    "        # Dispersion parameter for Negative Binomial\n",
    "        self.log_theta = torch.nn.Parameter(torch.randn(n_input))\n",
    "\n",
    "    def inference(self, tensors):\n",
    "        x = tensors['X']\n",
    "        # Log-transform the input for numerical stability\n",
    "        x = torch.log1p(x)\n",
    "        # get mu and var\n",
    "        qz_m = self.mean_encoder(x)\n",
    "        qz_v = self.var_encoder(x)\n",
    "        \n",
    "        # logvar = self.var_encoder(x)  # Outputs log-variance\n",
    "        # qz_v = torch.exp(logvar)  # Exponentiate to ensure positive variance\n",
    "        \n",
    "        z = Normal(qz_m, torch.sqrt(qz_v)).rsample()\n",
    "        return {\"qz_m\": qz_m, \"qz_v\": qz_v, \"z\": z}\n",
    "\n",
    "    def generative(self, inference_outputs):\n",
    "        z = inference_outputs['z']\n",
    "        px_scale = self.decoder(z)\n",
    "        px_rate = 1 * px_scale\n",
    "        theta = torch.exp(self.log_theta)\n",
    "        return {\"px_scale\": px_scale, \"px_rate\": px_rate, \"theta\": theta}\n",
    "\n",
    "    def loss(self, tensors, inference_outputs, generative_outputs):\n",
    "        x = tensors['X']\n",
    "        px_rate = generative_outputs[\"px_rate\"]\n",
    "        theta = generative_outputs[\"theta\"]\n",
    "        qz_m = inference_outputs[\"qz_m\"]\n",
    "        qz_v = inference_outputs[\"qz_v\"]\n",
    "\n",
    "        # Compute the log likelihood term\n",
    "        nb_logits = (px_rate + 1e-4).log() - (theta + 1e-4).log()\n",
    "        log_lik = NegativeBinomial(total_count=theta, logits=nb_logits).log_prob(x).sum(dim=-1)\n",
    "\n",
    "        # Compute the KL divergence term\n",
    "        prior_dist = Normal(torch.zeros_like(qz_m), torch.ones_like(qz_v))\n",
    "        var_post_dist = Normal(qz_m, torch.sqrt(qz_v))\n",
    "        kl_divergence_term = kl_divergence(var_post_dist, prior_dist).sum(dim=1)\n",
    "\n",
    "        # Compute the ELBO\n",
    "        elbo = log_lik - kl_divergence_term\n",
    "        loss = torch.mean(-elbo)\n",
    "        return {\"loss\": loss, \"reconstruction_loss\": -log_lik, \"kl_divergence_loss\": kl_divergence_term}"
   ]
  },
  {
   "cell_type": "code",
   "execution_count": 79,
   "id": "bcb5ca66-ab57-4bb3-bd82-8902885707ce",
   "metadata": {},
   "outputs": [],
   "source": [
    "from tqdm import tqdm\n",
    "\n",
    "# Training function\n",
    "def train(model, dataloader, optimizer, num_epochs=10):\n",
    "    model.train()  # Set the model to training mode\n",
    "    for epoch in range(num_epochs):\n",
    "        epoch_loss = 0\n",
    "        for batch in tqdm(dataloader, desc=f\"Epoch {epoch+1}/{num_epochs}\"):\n",
    "            tensors = {'X': batch}\n",
    "            \n",
    "            # Perform inference to get latent variables\n",
    "            inference_outputs = model.inference(tensors)\n",
    "            \n",
    "            # Prepare inputs for the generative model\n",
    "            z = inference_outputs[\"z\"]\n",
    "            library = torch.sum(tensors['X'], dim=1, keepdim=True)\n",
    "            \n",
    "            # Perform the generative step\n",
    "            generative_outputs = model.generative(inference_outputs)\n",
    "            \n",
    "            # Compute the loss\n",
    "            loss = model.loss(tensors, inference_outputs, generative_outputs)[\"loss\"]\n",
    "            \n",
    "            # Backpropagation and optimization step\n",
    "            optimizer.zero_grad()\n",
    "            loss.backward()\n",
    "            optimizer.step()\n",
    "            \n",
    "            epoch_loss += loss.item()\n",
    "        \n",
    "        avg_loss = epoch_loss / len(dataloader)\n",
    "        print(f\"Epoch {epoch+1}, Loss: {avg_loss:.4f}\")\n"
   ]
  },
  {
   "cell_type": "code",
   "execution_count": 91,
   "id": "7598f1f4-1f05-4768-820c-9ff2bc4668cd",
   "metadata": {},
   "outputs": [
    {
     "name": "stderr",
     "output_type": "stream",
     "text": [
      "Epoch 1/30: 100%|██████████| 18/18 [00:00<00:00, 62.79it/s]\n"
     ]
    },
    {
     "name": "stdout",
     "output_type": "stream",
     "text": [
      "Epoch 1, Loss: 224752240.0000\n"
     ]
    },
    {
     "name": "stderr",
     "output_type": "stream",
     "text": [
      "Epoch 2/30: 100%|██████████| 18/18 [00:00<00:00, 63.85it/s]\n"
     ]
    },
    {
     "name": "stdout",
     "output_type": "stream",
     "text": [
      "Epoch 2, Loss: 211028778.6667\n"
     ]
    },
    {
     "name": "stderr",
     "output_type": "stream",
     "text": [
      "Epoch 3/30: 100%|██████████| 18/18 [00:00<00:00, 63.24it/s]\n"
     ]
    },
    {
     "name": "stdout",
     "output_type": "stream",
     "text": [
      "Epoch 3, Loss: 211880644.4444\n"
     ]
    },
    {
     "name": "stderr",
     "output_type": "stream",
     "text": [
      "Epoch 4/30: 100%|██████████| 18/18 [00:00<00:00, 62.40it/s]\n"
     ]
    },
    {
     "name": "stdout",
     "output_type": "stream",
     "text": [
      "Epoch 4, Loss: 210073183.1111\n"
     ]
    },
    {
     "name": "stderr",
     "output_type": "stream",
     "text": [
      "Epoch 5/30: 100%|██████████| 18/18 [00:00<00:00, 54.38it/s]\n"
     ]
    },
    {
     "name": "stdout",
     "output_type": "stream",
     "text": [
      "Epoch 5, Loss: 207767319.1111\n"
     ]
    },
    {
     "name": "stderr",
     "output_type": "stream",
     "text": [
      "Epoch 6/30: 100%|██████████| 18/18 [00:00<00:00, 66.17it/s]\n"
     ]
    },
    {
     "name": "stdout",
     "output_type": "stream",
     "text": [
      "Epoch 6, Loss: 206614093.3333\n"
     ]
    },
    {
     "name": "stderr",
     "output_type": "stream",
     "text": [
      "Epoch 7/30: 100%|██████████| 18/18 [00:00<00:00, 63.07it/s]\n"
     ]
    },
    {
     "name": "stdout",
     "output_type": "stream",
     "text": [
      "Epoch 7, Loss: 204821875.5556\n"
     ]
    },
    {
     "name": "stderr",
     "output_type": "stream",
     "text": [
      "Epoch 8/30: 100%|██████████| 18/18 [00:00<00:00, 63.60it/s]\n"
     ]
    },
    {
     "name": "stdout",
     "output_type": "stream",
     "text": [
      "Epoch 8, Loss: 203111361.7778\n"
     ]
    },
    {
     "name": "stderr",
     "output_type": "stream",
     "text": [
      "Epoch 9/30: 100%|██████████| 18/18 [00:00<00:00, 64.27it/s]\n"
     ]
    },
    {
     "name": "stdout",
     "output_type": "stream",
     "text": [
      "Epoch 9, Loss: 202505453.3333\n"
     ]
    },
    {
     "name": "stderr",
     "output_type": "stream",
     "text": [
      "Epoch 10/30: 100%|██████████| 18/18 [00:00<00:00, 68.28it/s]\n"
     ]
    },
    {
     "name": "stdout",
     "output_type": "stream",
     "text": [
      "Epoch 10, Loss: 201308811.5556\n"
     ]
    },
    {
     "name": "stderr",
     "output_type": "stream",
     "text": [
      "Epoch 11/30: 100%|██████████| 18/18 [00:00<00:00, 62.10it/s]\n"
     ]
    },
    {
     "name": "stdout",
     "output_type": "stream",
     "text": [
      "Epoch 11, Loss: 200338810.6667\n"
     ]
    },
    {
     "name": "stderr",
     "output_type": "stream",
     "text": [
      "Epoch 12/30: 100%|██████████| 18/18 [00:00<00:00, 61.91it/s]\n"
     ]
    },
    {
     "name": "stdout",
     "output_type": "stream",
     "text": [
      "Epoch 12, Loss: 199220084.4444\n"
     ]
    },
    {
     "name": "stderr",
     "output_type": "stream",
     "text": [
      "Epoch 13/30: 100%|██████████| 18/18 [00:00<00:00, 64.07it/s]\n"
     ]
    },
    {
     "name": "stdout",
     "output_type": "stream",
     "text": [
      "Epoch 13, Loss: 199460485.3333\n"
     ]
    },
    {
     "name": "stderr",
     "output_type": "stream",
     "text": [
      "Epoch 14/30: 100%|██████████| 18/18 [00:00<00:00, 65.02it/s]\n"
     ]
    },
    {
     "name": "stdout",
     "output_type": "stream",
     "text": [
      "Epoch 14, Loss: 200657973.3333\n"
     ]
    },
    {
     "name": "stderr",
     "output_type": "stream",
     "text": [
      "Epoch 15/30: 100%|██████████| 18/18 [00:00<00:00, 65.52it/s]\n"
     ]
    },
    {
     "name": "stdout",
     "output_type": "stream",
     "text": [
      "Epoch 15, Loss: 197612209.7778\n"
     ]
    },
    {
     "name": "stderr",
     "output_type": "stream",
     "text": [
      "Epoch 16/30: 100%|██████████| 18/18 [00:00<00:00, 67.32it/s]\n"
     ]
    },
    {
     "name": "stdout",
     "output_type": "stream",
     "text": [
      "Epoch 16, Loss: 198695210.6667\n"
     ]
    },
    {
     "name": "stderr",
     "output_type": "stream",
     "text": [
      "Epoch 17/30: 100%|██████████| 18/18 [00:00<00:00, 64.80it/s]\n"
     ]
    },
    {
     "name": "stdout",
     "output_type": "stream",
     "text": [
      "Epoch 17, Loss: 199107430.2222\n"
     ]
    },
    {
     "name": "stderr",
     "output_type": "stream",
     "text": [
      "Epoch 18/30: 100%|██████████| 18/18 [00:00<00:00, 65.00it/s]\n"
     ]
    },
    {
     "name": "stdout",
     "output_type": "stream",
     "text": [
      "Epoch 18, Loss: 196987549.3333\n"
     ]
    },
    {
     "name": "stderr",
     "output_type": "stream",
     "text": [
      "Epoch 19/30: 100%|██████████| 18/18 [00:00<00:00, 64.74it/s]\n"
     ]
    },
    {
     "name": "stdout",
     "output_type": "stream",
     "text": [
      "Epoch 19, Loss: 197315493.3333\n"
     ]
    },
    {
     "name": "stderr",
     "output_type": "stream",
     "text": [
      "Epoch 20/30: 100%|██████████| 18/18 [00:00<00:00, 67.13it/s]\n"
     ]
    },
    {
     "name": "stdout",
     "output_type": "stream",
     "text": [
      "Epoch 20, Loss: 196719504.0000\n"
     ]
    },
    {
     "name": "stderr",
     "output_type": "stream",
     "text": [
      "Epoch 21/30: 100%|██████████| 18/18 [00:00<00:00, 66.16it/s]\n"
     ]
    },
    {
     "name": "stdout",
     "output_type": "stream",
     "text": [
      "Epoch 21, Loss: 196000829.3333\n"
     ]
    },
    {
     "name": "stderr",
     "output_type": "stream",
     "text": [
      "Epoch 22/30: 100%|██████████| 18/18 [00:00<00:00, 66.77it/s]\n"
     ]
    },
    {
     "name": "stdout",
     "output_type": "stream",
     "text": [
      "Epoch 22, Loss: 195136483.5556\n"
     ]
    },
    {
     "name": "stderr",
     "output_type": "stream",
     "text": [
      "Epoch 23/30: 100%|██████████| 18/18 [00:00<00:00, 64.71it/s]\n"
     ]
    },
    {
     "name": "stdout",
     "output_type": "stream",
     "text": [
      "Epoch 23, Loss: 194204413.3333\n"
     ]
    },
    {
     "name": "stderr",
     "output_type": "stream",
     "text": [
      "Epoch 24/30: 100%|██████████| 18/18 [00:00<00:00, 67.42it/s]\n"
     ]
    },
    {
     "name": "stdout",
     "output_type": "stream",
     "text": [
      "Epoch 24, Loss: 194562527.1111\n"
     ]
    },
    {
     "name": "stderr",
     "output_type": "stream",
     "text": [
      "Epoch 25/30: 100%|██████████| 18/18 [00:00<00:00, 65.93it/s]\n"
     ]
    },
    {
     "name": "stdout",
     "output_type": "stream",
     "text": [
      "Epoch 25, Loss: 193676080.8889\n"
     ]
    },
    {
     "name": "stderr",
     "output_type": "stream",
     "text": [
      "Epoch 26/30: 100%|██████████| 18/18 [00:00<00:00, 62.69it/s]\n"
     ]
    },
    {
     "name": "stdout",
     "output_type": "stream",
     "text": [
      "Epoch 26, Loss: 194751963.5556\n"
     ]
    },
    {
     "name": "stderr",
     "output_type": "stream",
     "text": [
      "Epoch 27/30: 100%|██████████| 18/18 [00:00<00:00, 63.62it/s]\n"
     ]
    },
    {
     "name": "stdout",
     "output_type": "stream",
     "text": [
      "Epoch 27, Loss: 193952996.4444\n"
     ]
    },
    {
     "name": "stderr",
     "output_type": "stream",
     "text": [
      "Epoch 28/30: 100%|██████████| 18/18 [00:00<00:00, 65.91it/s]\n"
     ]
    },
    {
     "name": "stdout",
     "output_type": "stream",
     "text": [
      "Epoch 28, Loss: 191680486.2222\n"
     ]
    },
    {
     "name": "stderr",
     "output_type": "stream",
     "text": [
      "Epoch 29/30: 100%|██████████| 18/18 [00:00<00:00, 65.80it/s]\n"
     ]
    },
    {
     "name": "stdout",
     "output_type": "stream",
     "text": [
      "Epoch 29, Loss: 192700992.0000\n"
     ]
    },
    {
     "name": "stderr",
     "output_type": "stream",
     "text": [
      "Epoch 30/30: 100%|██████████| 18/18 [00:00<00:00, 67.33it/s]"
     ]
    },
    {
     "name": "stdout",
     "output_type": "stream",
     "text": [
      "Epoch 30, Loss: 191650379.5556\n"
     ]
    },
    {
     "name": "stderr",
     "output_type": "stream",
     "text": [
      "\n"
     ]
    }
   ],
   "source": [
    "# Example usage\n",
    "n_input = dataset.data.shape[1]  # Number of input genes\n",
    "n_latent = 3  # Dimensionality of the latent space\n",
    "n_layer = 3\n",
    "n_hidden = 128\n",
    "\n",
    "# Create the VAE model\n",
    "vae_model = MyVAE(n_input, n_latent, n_layer, n_hidden)\n",
    "\n",
    "import torch.optim as optim\n",
    "\n",
    "# Example optimizer\n",
    "optimizer = optim.Adam(vae_model.parameters(), lr=1e-3)\n",
    "\n",
    "# Train the model\n",
    "train(vae_model, dataloader, optimizer, num_epochs=30)"
   ]
  },
  {
   "cell_type": "code",
   "execution_count": 94,
   "id": "ee33ed73-8b79-41a8-a979-4c84e14fece9",
   "metadata": {},
   "outputs": [],
   "source": [
    "def extract_latent_representations(model, dataloader):\n",
    "    model.eval()  # Set the model to evaluation mode\n",
    "    all_latent_representations = []\n",
    "\n",
    "    with torch.no_grad():\n",
    "        for batch in dataloader:\n",
    "            tensors = {'X': batch}\n",
    "            inference_outputs = model.inference(tensors)\n",
    "            z = inference_outputs[\"z\"]\n",
    "            all_latent_representations.append(z.cpu().numpy())\n",
    "    \n",
    "    # Concatenate all the latent representations into a single array\n",
    "    all_latent_representations = np.concatenate(all_latent_representations, axis=0)\n",
    "    return all_latent_representations"
   ]
  },
  {
   "cell_type": "code",
   "execution_count": 93,
   "id": "55ece6b3-5ab0-4aef-a764-972f9c1b5661",
   "metadata": {},
   "outputs": [],
   "source": [
    "dataloader_for_extraction = DataLoader(dataset, batch_size=batch_size, shuffle=False)"
   ]
  },
  {
   "cell_type": "code",
   "execution_count": 95,
   "id": "5a9d2032-ced9-4138-ab86-58ca14819c30",
   "metadata": {},
   "outputs": [],
   "source": [
    "# Extract latent representations\n",
    "latent_representations = extract_latent_representations(vae_model, dataloader)"
   ]
  },
  {
   "cell_type": "code",
   "execution_count": 97,
   "id": "6a063a61-7ccd-4fda-826c-089645af58ee",
   "metadata": {},
   "outputs": [
    {
     "data": {
      "text/plain": [
       "(554, 3)"
      ]
     },
     "execution_count": 97,
     "metadata": {},
     "output_type": "execute_result"
    }
   ],
   "source": [
    "latent_representations.shape"
   ]
  },
  {
   "cell_type": "code",
   "execution_count": 98,
   "id": "fa868e95-75a7-45e3-a6fa-1cec3cf5a5a9",
   "metadata": {},
   "outputs": [],
   "source": [
    "scvi_matrix = pd.DataFrame(latent_representations)\n",
    "scvi_matrix['sample_id'] = df.index\n",
    "scvi_matrix = scvi_matrix.set_index('sample_id', drop = True)\n",
    "\n",
    "scvi_matrix.columns = scvi_matrix.columns = ['V' + str(col) for col in scvi_matrix.columns]"
   ]
  },
  {
   "cell_type": "code",
   "execution_count": 99,
   "id": "a144c9c9-8c5d-4b70-8ddf-e8ef57116374",
   "metadata": {},
   "outputs": [],
   "source": [
    "# Merge DataFrames by 'sample_id'\n",
    "scvi_representation_coordinates_merged = pd.merge(scvi_matrix, metadata, on='sample_id')\n",
    "\n",
    "# Replace NaN with 'NA'\n",
    "scvi_representation_coordinates_merged.fillna('NA', inplace=True)"
   ]
  },
  {
   "cell_type": "code",
   "execution_count": 101,
   "id": "ebfc2687-1f48-4165-810e-d3708aba0357",
   "metadata": {},
   "outputs": [
    {
     "data": {
      "text/html": [
       "<div>\n",
       "<style scoped>\n",
       "    .dataframe tbody tr th:only-of-type {\n",
       "        vertical-align: middle;\n",
       "    }\n",
       "\n",
       "    .dataframe tbody tr th {\n",
       "        vertical-align: top;\n",
       "    }\n",
       "\n",
       "    .dataframe thead th {\n",
       "        text-align: right;\n",
       "    }\n",
       "</style>\n",
       "<table border=\"1\" class=\"dataframe\">\n",
       "  <thead>\n",
       "    <tr style=\"text-align: right;\">\n",
       "      <th></th>\n",
       "      <th>V0</th>\n",
       "      <th>V1</th>\n",
       "      <th>V2</th>\n",
       "      <th>dataset_id</th>\n",
       "      <th>cell_type</th>\n",
       "      <th>parental_cell_type</th>\n",
       "      <th>final_cell_type</th>\n",
       "      <th>disease_state</th>\n",
       "      <th>organism</th>\n",
       "      <th>sample_type</th>\n",
       "      <th>...</th>\n",
       "      <th>prep_method_broad</th>\n",
       "      <th>preparation_method</th>\n",
       "      <th>capture</th>\n",
       "      <th>fragmentation</th>\n",
       "      <th>stranded</th>\n",
       "      <th>sequencing_layout</th>\n",
       "      <th>average_read_length</th>\n",
       "      <th>sequencer</th>\n",
       "      <th>training_atlas</th>\n",
       "      <th>sample_id_without_datasetid</th>\n",
       "    </tr>\n",
       "    <tr>\n",
       "      <th>sample_id</th>\n",
       "      <th></th>\n",
       "      <th></th>\n",
       "      <th></th>\n",
       "      <th></th>\n",
       "      <th></th>\n",
       "      <th></th>\n",
       "      <th></th>\n",
       "      <th></th>\n",
       "      <th></th>\n",
       "      <th></th>\n",
       "      <th></th>\n",
       "      <th></th>\n",
       "      <th></th>\n",
       "      <th></th>\n",
       "      <th></th>\n",
       "      <th></th>\n",
       "      <th></th>\n",
       "      <th></th>\n",
       "      <th></th>\n",
       "      <th></th>\n",
       "      <th></th>\n",
       "    </tr>\n",
       "  </thead>\n",
       "  <tbody>\n",
       "    <tr>\n",
       "      <th>1611_GSM2027310</th>\n",
       "      <td>5.454224</td>\n",
       "      <td>35.045856</td>\n",
       "      <td>13.282932</td>\n",
       "      <td>1611</td>\n",
       "      <td>conventional dendritic cell</td>\n",
       "      <td>NA</td>\n",
       "      <td>NA</td>\n",
       "      <td>normal</td>\n",
       "      <td>homo sapiens</td>\n",
       "      <td>cDC2</td>\n",
       "      <td>...</td>\n",
       "      <td>illumina_truseq</td>\n",
       "      <td>Illumina Truseq RNA Sample Prep v2</td>\n",
       "      <td>oligo-dT beads</td>\n",
       "      <td>RNA heat and buffer</td>\n",
       "      <td>non stranded</td>\n",
       "      <td>paired</td>\n",
       "      <td>51</td>\n",
       "      <td>Illumina HiSeq 2000</td>\n",
       "      <td>include</td>\n",
       "      <td>GSM2027310</td>\n",
       "    </tr>\n",
       "    <tr>\n",
       "      <th>1611_GSM2027311</th>\n",
       "      <td>-0.480092</td>\n",
       "      <td>37.389317</td>\n",
       "      <td>0.182844</td>\n",
       "      <td>1611</td>\n",
       "      <td>conventional dendritic cell</td>\n",
       "      <td>NA</td>\n",
       "      <td>NA</td>\n",
       "      <td>normal</td>\n",
       "      <td>homo sapiens</td>\n",
       "      <td>cDC1</td>\n",
       "      <td>...</td>\n",
       "      <td>illumina_truseq</td>\n",
       "      <td>Illumina Truseq RNA Sample Prep v2</td>\n",
       "      <td>oligo-dT beads</td>\n",
       "      <td>RNA heat and buffer</td>\n",
       "      <td>non stranded</td>\n",
       "      <td>paired</td>\n",
       "      <td>51</td>\n",
       "      <td>Illumina HiSeq 2000</td>\n",
       "      <td>include</td>\n",
       "      <td>GSM2027311</td>\n",
       "    </tr>\n",
       "    <tr>\n",
       "      <th>1611_GSM2027312</th>\n",
       "      <td>-11.506524</td>\n",
       "      <td>-6.668914</td>\n",
       "      <td>40.431561</td>\n",
       "      <td>1611</td>\n",
       "      <td>plasmacytoid dendritic cell</td>\n",
       "      <td>NA</td>\n",
       "      <td>NA</td>\n",
       "      <td>normal</td>\n",
       "      <td>homo sapiens</td>\n",
       "      <td>pDC</td>\n",
       "      <td>...</td>\n",
       "      <td>illumina_truseq</td>\n",
       "      <td>Illumina Truseq RNA Sample Prep v2</td>\n",
       "      <td>oligo-dT beads</td>\n",
       "      <td>RNA heat and buffer</td>\n",
       "      <td>non stranded</td>\n",
       "      <td>paired</td>\n",
       "      <td>51</td>\n",
       "      <td>Illumina HiSeq 2000</td>\n",
       "      <td>include</td>\n",
       "      <td>GSM2027312</td>\n",
       "    </tr>\n",
       "    <tr>\n",
       "      <th>1611_GSM2027313</th>\n",
       "      <td>13.114721</td>\n",
       "      <td>12.891708</td>\n",
       "      <td>25.692595</td>\n",
       "      <td>1611</td>\n",
       "      <td>plasmacytoid dendritic cell</td>\n",
       "      <td>NA</td>\n",
       "      <td>NA</td>\n",
       "      <td>normal</td>\n",
       "      <td>homo sapiens</td>\n",
       "      <td>pDC</td>\n",
       "      <td>...</td>\n",
       "      <td>illumina_truseq</td>\n",
       "      <td>Illumina Truseq RNA Sample Prep v2</td>\n",
       "      <td>oligo-dT beads</td>\n",
       "      <td>RNA heat and buffer</td>\n",
       "      <td>non stranded</td>\n",
       "      <td>paired</td>\n",
       "      <td>50</td>\n",
       "      <td>Illumina HiSeq 2000</td>\n",
       "      <td>include</td>\n",
       "      <td>GSM2027313</td>\n",
       "    </tr>\n",
       "    <tr>\n",
       "      <th>1611_GSM2027314</th>\n",
       "      <td>-1.283666</td>\n",
       "      <td>37.711197</td>\n",
       "      <td>0.767383</td>\n",
       "      <td>1611</td>\n",
       "      <td>conventional dendritic cell</td>\n",
       "      <td>NA</td>\n",
       "      <td>NA</td>\n",
       "      <td>normal</td>\n",
       "      <td>homo sapiens</td>\n",
       "      <td>cDC2</td>\n",
       "      <td>...</td>\n",
       "      <td>illumina_truseq</td>\n",
       "      <td>Illumina Truseq RNA Sample Prep v2</td>\n",
       "      <td>oligo-dT beads</td>\n",
       "      <td>RNA heat and buffer</td>\n",
       "      <td>non stranded</td>\n",
       "      <td>paired</td>\n",
       "      <td>51</td>\n",
       "      <td>Illumina HiSeq 2000</td>\n",
       "      <td>include</td>\n",
       "      <td>GSM2027314</td>\n",
       "    </tr>\n",
       "    <tr>\n",
       "      <th>...</th>\n",
       "      <td>...</td>\n",
       "      <td>...</td>\n",
       "      <td>...</td>\n",
       "      <td>...</td>\n",
       "      <td>...</td>\n",
       "      <td>...</td>\n",
       "      <td>...</td>\n",
       "      <td>...</td>\n",
       "      <td>...</td>\n",
       "      <td>...</td>\n",
       "      <td>...</td>\n",
       "      <td>...</td>\n",
       "      <td>...</td>\n",
       "      <td>...</td>\n",
       "      <td>...</td>\n",
       "      <td>...</td>\n",
       "      <td>...</td>\n",
       "      <td>...</td>\n",
       "      <td>...</td>\n",
       "      <td>...</td>\n",
       "      <td>...</td>\n",
       "    </tr>\n",
       "    <tr>\n",
       "      <th>9798_Kolf2_iMacs_UT_16h_2_01</th>\n",
       "      <td>-34.506855</td>\n",
       "      <td>22.917440</td>\n",
       "      <td>29.765755</td>\n",
       "      <td>9798</td>\n",
       "      <td>macrophage</td>\n",
       "      <td>induced pluripotent stem cell</td>\n",
       "      <td>macrophage</td>\n",
       "      <td>normal</td>\n",
       "      <td>homo sapiens</td>\n",
       "      <td>UT_16h</td>\n",
       "      <td>...</td>\n",
       "      <td>hudson</td>\n",
       "      <td>Hudson</td>\n",
       "      <td>unknown</td>\n",
       "      <td>unknown</td>\n",
       "      <td>unknown</td>\n",
       "      <td>unknown</td>\n",
       "      <td>unknown</td>\n",
       "      <td>unknown</td>\n",
       "      <td>include</td>\n",
       "      <td>Kolf2</td>\n",
       "    </tr>\n",
       "    <tr>\n",
       "      <th>9798_Kolf2_iMacs_UT_16h_3_01</th>\n",
       "      <td>2.279631</td>\n",
       "      <td>34.087559</td>\n",
       "      <td>4.961627</td>\n",
       "      <td>9798</td>\n",
       "      <td>macrophage</td>\n",
       "      <td>induced pluripotent stem cell</td>\n",
       "      <td>macrophage</td>\n",
       "      <td>normal</td>\n",
       "      <td>homo sapiens</td>\n",
       "      <td>UT_16h</td>\n",
       "      <td>...</td>\n",
       "      <td>hudson</td>\n",
       "      <td>Hudson</td>\n",
       "      <td>unknown</td>\n",
       "      <td>unknown</td>\n",
       "      <td>unknown</td>\n",
       "      <td>unknown</td>\n",
       "      <td>unknown</td>\n",
       "      <td>unknown</td>\n",
       "      <td>include</td>\n",
       "      <td>Kolf2</td>\n",
       "    </tr>\n",
       "    <tr>\n",
       "      <th>9798_Kolf2_iMacs_UT_6h_1_01</th>\n",
       "      <td>-6.345797</td>\n",
       "      <td>31.082340</td>\n",
       "      <td>11.728903</td>\n",
       "      <td>9798</td>\n",
       "      <td>macrophage</td>\n",
       "      <td>induced pluripotent stem cell</td>\n",
       "      <td>macrophage</td>\n",
       "      <td>normal</td>\n",
       "      <td>homo sapiens</td>\n",
       "      <td>UT_6h</td>\n",
       "      <td>...</td>\n",
       "      <td>hudson</td>\n",
       "      <td>Hudson</td>\n",
       "      <td>unknown</td>\n",
       "      <td>unknown</td>\n",
       "      <td>unknown</td>\n",
       "      <td>unknown</td>\n",
       "      <td>unknown</td>\n",
       "      <td>unknown</td>\n",
       "      <td>include</td>\n",
       "      <td>Kolf2</td>\n",
       "    </tr>\n",
       "    <tr>\n",
       "      <th>9798_Kolf2_iMacs_UT_6h_2_01</th>\n",
       "      <td>-0.969579</td>\n",
       "      <td>37.551945</td>\n",
       "      <td>-0.149009</td>\n",
       "      <td>9798</td>\n",
       "      <td>macrophage</td>\n",
       "      <td>induced pluripotent stem cell</td>\n",
       "      <td>macrophage</td>\n",
       "      <td>normal</td>\n",
       "      <td>homo sapiens</td>\n",
       "      <td>UT_6h</td>\n",
       "      <td>...</td>\n",
       "      <td>hudson</td>\n",
       "      <td>Hudson</td>\n",
       "      <td>unknown</td>\n",
       "      <td>unknown</td>\n",
       "      <td>unknown</td>\n",
       "      <td>unknown</td>\n",
       "      <td>unknown</td>\n",
       "      <td>unknown</td>\n",
       "      <td>include</td>\n",
       "      <td>Kolf2</td>\n",
       "    </tr>\n",
       "    <tr>\n",
       "      <th>9798_Kolf2_iMacs_UT_6h_3_01</th>\n",
       "      <td>-2.199481</td>\n",
       "      <td>37.318478</td>\n",
       "      <td>-0.179282</td>\n",
       "      <td>9798</td>\n",
       "      <td>macrophage</td>\n",
       "      <td>induced pluripotent stem cell</td>\n",
       "      <td>macrophage</td>\n",
       "      <td>normal</td>\n",
       "      <td>homo sapiens</td>\n",
       "      <td>UT_6h</td>\n",
       "      <td>...</td>\n",
       "      <td>hudson</td>\n",
       "      <td>Hudson</td>\n",
       "      <td>unknown</td>\n",
       "      <td>unknown</td>\n",
       "      <td>unknown</td>\n",
       "      <td>unknown</td>\n",
       "      <td>unknown</td>\n",
       "      <td>unknown</td>\n",
       "      <td>include</td>\n",
       "      <td>Kolf2</td>\n",
       "    </tr>\n",
       "  </tbody>\n",
       "</table>\n",
       "<p>554 rows × 38 columns</p>\n",
       "</div>"
      ],
      "text/plain": [
       "                                     V0         V1         V2  dataset_id  \\\n",
       "sample_id                                                                   \n",
       "1611_GSM2027310                5.454224  35.045856  13.282932        1611   \n",
       "1611_GSM2027311               -0.480092  37.389317   0.182844        1611   \n",
       "1611_GSM2027312              -11.506524  -6.668914  40.431561        1611   \n",
       "1611_GSM2027313               13.114721  12.891708  25.692595        1611   \n",
       "1611_GSM2027314               -1.283666  37.711197   0.767383        1611   \n",
       "...                                 ...        ...        ...         ...   \n",
       "9798_Kolf2_iMacs_UT_16h_2_01 -34.506855  22.917440  29.765755        9798   \n",
       "9798_Kolf2_iMacs_UT_16h_3_01   2.279631  34.087559   4.961627        9798   \n",
       "9798_Kolf2_iMacs_UT_6h_1_01   -6.345797  31.082340  11.728903        9798   \n",
       "9798_Kolf2_iMacs_UT_6h_2_01   -0.969579  37.551945  -0.149009        9798   \n",
       "9798_Kolf2_iMacs_UT_6h_3_01   -2.199481  37.318478  -0.179282        9798   \n",
       "\n",
       "                                                cell_type  \\\n",
       "sample_id                                                   \n",
       "1611_GSM2027310               conventional dendritic cell   \n",
       "1611_GSM2027311               conventional dendritic cell   \n",
       "1611_GSM2027312               plasmacytoid dendritic cell   \n",
       "1611_GSM2027313               plasmacytoid dendritic cell   \n",
       "1611_GSM2027314               conventional dendritic cell   \n",
       "...                                                   ...   \n",
       "9798_Kolf2_iMacs_UT_16h_2_01                   macrophage   \n",
       "9798_Kolf2_iMacs_UT_16h_3_01                   macrophage   \n",
       "9798_Kolf2_iMacs_UT_6h_1_01                    macrophage   \n",
       "9798_Kolf2_iMacs_UT_6h_2_01                    macrophage   \n",
       "9798_Kolf2_iMacs_UT_6h_3_01                    macrophage   \n",
       "\n",
       "                                         parental_cell_type final_cell_type  \\\n",
       "sample_id                                                                     \n",
       "1611_GSM2027310                                          NA              NA   \n",
       "1611_GSM2027311                                          NA              NA   \n",
       "1611_GSM2027312                                          NA              NA   \n",
       "1611_GSM2027313                                          NA              NA   \n",
       "1611_GSM2027314                                          NA              NA   \n",
       "...                                                     ...             ...   \n",
       "9798_Kolf2_iMacs_UT_16h_2_01  induced pluripotent stem cell      macrophage   \n",
       "9798_Kolf2_iMacs_UT_16h_3_01  induced pluripotent stem cell      macrophage   \n",
       "9798_Kolf2_iMacs_UT_6h_1_01   induced pluripotent stem cell      macrophage   \n",
       "9798_Kolf2_iMacs_UT_6h_2_01   induced pluripotent stem cell      macrophage   \n",
       "9798_Kolf2_iMacs_UT_6h_3_01   induced pluripotent stem cell      macrophage   \n",
       "\n",
       "                             disease_state      organism sample_type  ...  \\\n",
       "sample_id                                                             ...   \n",
       "1611_GSM2027310                     normal  homo sapiens        cDC2  ...   \n",
       "1611_GSM2027311                     normal  homo sapiens        cDC1  ...   \n",
       "1611_GSM2027312                     normal  homo sapiens         pDC  ...   \n",
       "1611_GSM2027313                     normal  homo sapiens         pDC  ...   \n",
       "1611_GSM2027314                     normal  homo sapiens        cDC2  ...   \n",
       "...                                    ...           ...         ...  ...   \n",
       "9798_Kolf2_iMacs_UT_16h_2_01        normal  homo sapiens      UT_16h  ...   \n",
       "9798_Kolf2_iMacs_UT_16h_3_01        normal  homo sapiens      UT_16h  ...   \n",
       "9798_Kolf2_iMacs_UT_6h_1_01         normal  homo sapiens       UT_6h  ...   \n",
       "9798_Kolf2_iMacs_UT_6h_2_01         normal  homo sapiens       UT_6h  ...   \n",
       "9798_Kolf2_iMacs_UT_6h_3_01         normal  homo sapiens       UT_6h  ...   \n",
       "\n",
       "                             prep_method_broad  \\\n",
       "sample_id                                        \n",
       "1611_GSM2027310                illumina_truseq   \n",
       "1611_GSM2027311                illumina_truseq   \n",
       "1611_GSM2027312                illumina_truseq   \n",
       "1611_GSM2027313                illumina_truseq   \n",
       "1611_GSM2027314                illumina_truseq   \n",
       "...                                        ...   \n",
       "9798_Kolf2_iMacs_UT_16h_2_01            hudson   \n",
       "9798_Kolf2_iMacs_UT_16h_3_01            hudson   \n",
       "9798_Kolf2_iMacs_UT_6h_1_01             hudson   \n",
       "9798_Kolf2_iMacs_UT_6h_2_01             hudson   \n",
       "9798_Kolf2_iMacs_UT_6h_3_01             hudson   \n",
       "\n",
       "                                              preparation_method  \\\n",
       "sample_id                                                          \n",
       "1611_GSM2027310               Illumina Truseq RNA Sample Prep v2   \n",
       "1611_GSM2027311               Illumina Truseq RNA Sample Prep v2   \n",
       "1611_GSM2027312               Illumina Truseq RNA Sample Prep v2   \n",
       "1611_GSM2027313               Illumina Truseq RNA Sample Prep v2   \n",
       "1611_GSM2027314               Illumina Truseq RNA Sample Prep v2   \n",
       "...                                                          ...   \n",
       "9798_Kolf2_iMacs_UT_16h_2_01                              Hudson   \n",
       "9798_Kolf2_iMacs_UT_16h_3_01                              Hudson   \n",
       "9798_Kolf2_iMacs_UT_6h_1_01                               Hudson   \n",
       "9798_Kolf2_iMacs_UT_6h_2_01                               Hudson   \n",
       "9798_Kolf2_iMacs_UT_6h_3_01                               Hudson   \n",
       "\n",
       "                                     capture        fragmentation  \\\n",
       "sample_id                                                           \n",
       "1611_GSM2027310               oligo-dT beads  RNA heat and buffer   \n",
       "1611_GSM2027311               oligo-dT beads  RNA heat and buffer   \n",
       "1611_GSM2027312               oligo-dT beads  RNA heat and buffer   \n",
       "1611_GSM2027313               oligo-dT beads  RNA heat and buffer   \n",
       "1611_GSM2027314               oligo-dT beads  RNA heat and buffer   \n",
       "...                                      ...                  ...   \n",
       "9798_Kolf2_iMacs_UT_16h_2_01         unknown              unknown   \n",
       "9798_Kolf2_iMacs_UT_16h_3_01         unknown              unknown   \n",
       "9798_Kolf2_iMacs_UT_6h_1_01          unknown              unknown   \n",
       "9798_Kolf2_iMacs_UT_6h_2_01          unknown              unknown   \n",
       "9798_Kolf2_iMacs_UT_6h_3_01          unknown              unknown   \n",
       "\n",
       "                                  stranded sequencing_layout  \\\n",
       "sample_id                                                      \n",
       "1611_GSM2027310               non stranded            paired   \n",
       "1611_GSM2027311               non stranded            paired   \n",
       "1611_GSM2027312               non stranded            paired   \n",
       "1611_GSM2027313               non stranded            paired   \n",
       "1611_GSM2027314               non stranded            paired   \n",
       "...                                    ...               ...   \n",
       "9798_Kolf2_iMacs_UT_16h_2_01       unknown           unknown   \n",
       "9798_Kolf2_iMacs_UT_16h_3_01       unknown           unknown   \n",
       "9798_Kolf2_iMacs_UT_6h_1_01        unknown           unknown   \n",
       "9798_Kolf2_iMacs_UT_6h_2_01        unknown           unknown   \n",
       "9798_Kolf2_iMacs_UT_6h_3_01        unknown           unknown   \n",
       "\n",
       "                             average_read_length            sequencer  \\\n",
       "sample_id                                                               \n",
       "1611_GSM2027310                               51  Illumina HiSeq 2000   \n",
       "1611_GSM2027311                               51  Illumina HiSeq 2000   \n",
       "1611_GSM2027312                               51  Illumina HiSeq 2000   \n",
       "1611_GSM2027313                               50  Illumina HiSeq 2000   \n",
       "1611_GSM2027314                               51  Illumina HiSeq 2000   \n",
       "...                                          ...                  ...   \n",
       "9798_Kolf2_iMacs_UT_16h_2_01             unknown              unknown   \n",
       "9798_Kolf2_iMacs_UT_16h_3_01             unknown              unknown   \n",
       "9798_Kolf2_iMacs_UT_6h_1_01              unknown              unknown   \n",
       "9798_Kolf2_iMacs_UT_6h_2_01              unknown              unknown   \n",
       "9798_Kolf2_iMacs_UT_6h_3_01              unknown              unknown   \n",
       "\n",
       "                             training_atlas sample_id_without_datasetid  \n",
       "sample_id                                                                \n",
       "1611_GSM2027310                     include                  GSM2027310  \n",
       "1611_GSM2027311                     include                  GSM2027311  \n",
       "1611_GSM2027312                     include                  GSM2027312  \n",
       "1611_GSM2027313                     include                  GSM2027313  \n",
       "1611_GSM2027314                     include                  GSM2027314  \n",
       "...                                     ...                         ...  \n",
       "9798_Kolf2_iMacs_UT_16h_2_01        include                       Kolf2  \n",
       "9798_Kolf2_iMacs_UT_16h_3_01        include                       Kolf2  \n",
       "9798_Kolf2_iMacs_UT_6h_1_01         include                       Kolf2  \n",
       "9798_Kolf2_iMacs_UT_6h_2_01         include                       Kolf2  \n",
       "9798_Kolf2_iMacs_UT_6h_3_01         include                       Kolf2  \n",
       "\n",
       "[554 rows x 38 columns]"
      ]
     },
     "execution_count": 101,
     "metadata": {},
     "output_type": "execute_result"
    }
   ],
   "source": [
    "scvi_representation_coordinates_merged"
   ]
  },
  {
   "cell_type": "code",
   "execution_count": 104,
   "id": "1a68d5ed-5e84-4011-aaa7-2a1ce043e0c0",
   "metadata": {},
   "outputs": [
    {
     "data": {
      "application/vnd.plotly.v1+json": {
       "config": {
        "plotlyServerURL": "https://plot.ly"
       },
       "data": [
        {
         "hovertemplate": "prep_method_broad=illumina_truseq<br>V0=%{x}<br>V1=%{y}<br>V2=%{z}<extra></extra>",
         "legendgroup": "illumina_truseq",
         "marker": {
          "color": "#636efa",
          "size": 4,
          "symbol": "circle"
         },
         "mode": "markers",
         "name": "illumina_truseq",
         "scene": "scene",
         "showlegend": true,
         "type": "scatter3d",
         "x": [
          5.4542236,
          -0.48009232,
          -11.506524,
          13.114721,
          -1.2836665,
          -8.033931,
          4.677901,
          -1.2493007,
          -0.09063396,
          12.745373,
          9.491859,
          0.92322963,
          -2.3875966,
          -4.0348687,
          2.8208206,
          -6.9969797,
          -5.1287107,
          -3.4662342,
          -0.35679328,
          -2.0610769,
          0.2441771,
          -5.768348,
          -16.906038,
          5.0613413,
          -5.148345,
          -2.2204378,
          46.1813,
          -1.5173748,
          -2.0332534,
          0.06479363,
          0.9301656,
          -32.091328,
          -7.4078712,
          -1.2330755,
          11.792647,
          -0.84224015,
          -5.6542234,
          -12.80799,
          -0.36060467,
          23.759228,
          0.37057528,
          38.60581,
          -0.23051684,
          -11.984201,
          17.721376,
          -14.003266,
          -22.309574,
          -11.166295,
          43.548622,
          -6.6150823,
          22.864561,
          10.46658,
          1.2822269,
          21.170494,
          -4.461904,
          -0.80660164,
          -1.7887086,
          -0.41212404,
          -2.153304,
          30.321207,
          -0.8110079,
          4.434213,
          2.1044145,
          12.119211,
          -1.0590414,
          -5.047949,
          2.2712452,
          -8.168152,
          1.7703239,
          11.691598,
          0.44334638,
          -1.121477,
          5.3071313,
          -13.079333,
          10.33954,
          -0.55315334,
          8.397842,
          13.278693,
          -19.91228,
          0.39086533,
          -21.166124,
          -1.3436241,
          16.30981,
          5.6687584,
          39.34176,
          -15.067996,
          -0.7282184,
          11.888444,
          0.9681069,
          -21.642746,
          3.5079513,
          1.7418065,
          9.202713,
          28.082115,
          -0.5763114,
          -14.414922,
          0.06781574,
          6.7479906,
          -0.5137515,
          -6.4770494,
          -5.925298,
          12.8711605,
          12.979589,
          4.202242,
          1.2893493,
          -13.874664,
          0.61569667,
          9.779492,
          0.5663917,
          -17.093601,
          -2.8702857,
          0.40759864,
          -0.032059588,
          -2.4525082,
          5.2010665,
          -18.181427,
          -4.965195,
          0.25428313,
          -3.2646666,
          -13.623019,
          0.12203208,
          4.530944,
          -6.9858804,
          -0.6623511,
          -18.780804,
          -6.4245205,
          12.320052,
          -0.5878536,
          -13.919812,
          12.774216,
          9.326103,
          -2.4305346,
          1.5187478,
          -18.172136,
          0.15666942,
          33.353596,
          18.294228,
          0.4052831,
          -1.4030144,
          -1.317618,
          14.636402,
          -4.621857,
          1.749817,
          8.9802265,
          4.6884418,
          -18.877102,
          1.3909947,
          0.02770629,
          -21.733917,
          -6.3296447,
          -0.8735504,
          -3.3330417,
          15.983102,
          12.95673,
          2.7745574,
          1.2403752,
          -0.7600721,
          31.448065,
          -19.988516,
          -17.48156,
          -0.1037443,
          -0.5664455,
          -19.389797,
          -2.3354144,
          -0.828747,
          -6.0431542,
          -1.7435032,
          13.920476,
          0.9892889,
          -3.5425825,
          11.254151,
          -17.27713,
          -0.27764338,
          -0.476876,
          -17.362972,
          1.3467867,
          6.0001407,
          -6.9063544,
          11.953922,
          -0.14330368,
          -0.2795418,
          -2.6122947,
          -1.4912632,
          10.319641,
          10.458878,
          0.42250544,
          1.0481538,
          25.292158,
          -14.84218,
          -20.609076,
          -17.783766,
          -13.527358,
          -2.3225844,
          7.047004,
          -5.9158816,
          -1.9408628,
          11.438538,
          5.631344,
          -3.8891194,
          3.2707095,
          13.559598,
          37.533966,
          -2.4237783,
          1.8725549,
          12.503063,
          0.015094143,
          -0.23844878,
          3.844483,
          9.711575,
          0.9178157,
          0.40670827,
          -5.0672183,
          -5.1021295,
          6.0712285,
          15.824877,
          -18.80354,
          -2.1087492,
          -19.094845,
          -0.13387726,
          -1.9017358,
          1.7468144,
          15.158698,
          22.661572,
          -26.486567,
          -38.06709,
          1.8183389,
          -17.987669,
          -1.179989,
          1.8693761,
          4.594107,
          -0.8982542,
          -4.3506265,
          -0.1141866,
          -2.2687755,
          -18.027033,
          24.667555,
          29.87069,
          -1.5859463,
          0.6054629,
          -4.401264,
          -0.47418788,
          -0.74650884,
          -1.690514,
          -13.70924,
          -1.0591052,
          -0.8650955,
          -13.632275,
          4.121592,
          -0.37331942,
          -17.033966,
          -0.3745503,
          22.132982,
          23.3219,
          2.871783,
          11.297293,
          15.784821,
          -13.1746,
          -0.08560038,
          -2.6100645,
          20.857365,
          -41.411907,
          -0.14483088,
          -8.8927965,
          0.2319515,
          0.37346792,
          13.831954,
          13.487284,
          -25.69704,
          15.916997,
          0.4993963,
          8.665249,
          0.4603626,
          6.198298,
          3.4289188,
          -5.617375,
          -2.5116956,
          -11.793295,
          37.9867,
          -1.4996666,
          -9.750111,
          -0.051132035,
          10.141315,
          -0.22311516,
          13.374546,
          0.22287813,
          10.020364,
          0.7070298,
          -34.893135,
          33.575012,
          33.510494,
          -0.9301931,
          -22.35117,
          -18.892738,
          13.553212,
          43.183018,
          -2.4143598,
          0.77071255,
          -18.57888,
          -22.082653,
          12.216103,
          -14.31408,
          0.7109957,
          -3.222926,
          9.702613,
          3.0561135,
          28.77542,
          -19.439651,
          2.3748515,
          45.34441,
          -24.720135,
          11.681577,
          19.108656,
          3.9061935,
          10.694814,
          8.213833,
          -0.0891919,
          5.144213,
          5.8021555,
          -1.1701498,
          11.487618,
          0.4265428,
          -19.57768,
          28.821184,
          21.824339,
          13.072356,
          4.7234807,
          -7.4765973,
          -1.2945861,
          -0.38167945,
          2.2864404,
          10.526456,
          -18.5602
         ],
         "y": [
          35.045856,
          37.389317,
          -6.6689143,
          12.891708,
          37.711197,
          28.246922,
          -0.90404826,
          39.39031,
          38.83735,
          5.0735145,
          15.9363985,
          0.6333895,
          39.54142,
          32.436623,
          -1.5621704,
          34.690872,
          10.027426,
          41.162735,
          38.078106,
          14.604203,
          -10.819238,
          36.778824,
          20.672224,
          17.243017,
          30.930279,
          29.503014,
          9.874655,
          38.313408,
          36.818523,
          38.218765,
          35.345284,
          25.53942,
          13.380819,
          37.385563,
          24.5656,
          37.20714,
          27.102146,
          -5.903838,
          39.32267,
          36.48005,
          37.605713,
          37.543484,
          0.9008117,
          -6.863709,
          10.278922,
          -0.09952438,
          1.1937832,
          -3.5192182,
          -2.0169911,
          34.25537,
          33.729023,
          36.007397,
          37.706398,
          35.434113,
          32.41813,
          37.108257,
          38.41333,
          37.08294,
          29.629486,
          8.472628,
          29.743921,
          33.507744,
          36.34499,
          18.097563,
          -0.16987191,
          36.88293,
          37.235928,
          28.212055,
          37.967163,
          6.736428,
          38.05129,
          38.51176,
          33.66806,
          -4.7693925,
          15.605872,
          31.243187,
          36.32803,
          -10.1889105,
          19.509914,
          37.6837,
          6.8037887,
          39.40988,
          36.31635,
          17.903975,
          26.845114,
          17.192476,
          37.300755,
          6.854786,
          37.095303,
          1.6249814,
          -4.1509285,
          38.224014,
          7.5694313,
          10.756527,
          39.052708,
          16.709314,
          37.579002,
          -6.796426,
          37.239017,
          11.027302,
          32.531166,
          -13.976404,
          9.319449,
          -6.013021,
          33.540028,
          -1.3122356,
          37.767727,
          11.292305,
          35.546288,
          17.105478,
          36.38956,
          38.45459,
          36.456257,
          12.795147,
          14.756894,
          17.555656,
          28.230774,
          36.63915,
          15.295937,
          13.893485,
          35.104805,
          15.5447035,
          26.97133,
          37.718983,
          13.205428,
          27.910639,
          22.337671,
          37.089752,
          21.78318,
          13.56963,
          35.588074,
          35.622208,
          38.288586,
          30.005936,
          33.298096,
          37.443523,
          8.838304,
          38.408016,
          37.05295,
          39.227993,
          21.862783,
          27.988558,
          37.774952,
          15.64947,
          30.462711,
          22.038727,
          37.99415,
          37.411793,
          1.7692147,
          36.163303,
          37.678867,
          36.578762,
          36.861073,
          5.277522,
          34.35535,
          27.74011,
          37.622013,
          38.301598,
          16.432503,
          22.030521,
          39.48664,
          37.65086,
          19.951258,
          37.218025,
          39.650444,
          28.46451,
          34.333347,
          -14.853558,
          37.905125,
          15.438785,
          23.447392,
          17.924404,
          37.639698,
          37.27514,
          21.338108,
          35.264885,
          34.015877,
          11.659617,
          3.7851522,
          38.25612,
          36.60782,
          -13.167172,
          37.33145,
          15.529611,
          15.919954,
          37.84113,
          38.228367,
          35.946873,
          -2.8644147,
          6.543958,
          29.037134,
          18.848751,
          -11.730764,
          16.254452,
          28.933784,
          37.767475,
          12.022549,
          -7.1209955,
          36.48365,
          33.67873,
          4.871246,
          36.165863,
          29.153412,
          36.696594,
          10.628551,
          37.74259,
          37.9001,
          14.541026,
          5.9500136,
          37.69871,
          38.03226,
          26.111076,
          26.962456,
          32.14589,
          29.259338,
          18.481577,
          37.47887,
          11.007952,
          38.093384,
          11.546448,
          36.6543,
          15.465494,
          9.608794,
          8.360089,
          13.693718,
          26.539444,
          16.339045,
          38.10162,
          35.923897,
          33.597874,
          3.5310094,
          26.263083,
          37.26598,
          39.90641,
          28.977543,
          34.150803,
          35.136864,
          37.259136,
          39.10588,
          32.43309,
          37.16173,
          37.7929,
          37.11209,
          -1.2802587,
          37.390705,
          38.171093,
          -3.5998313,
          33.554295,
          37.966923,
          9.911794,
          38.130302,
          34.50789,
          35.588837,
          -3.2999704,
          8.718069,
          36.585697,
          20.88516,
          37.623524,
          11.85421,
          9.27905,
          12.743998,
          38.461784,
          12.118944,
          33.369164,
          29.697788,
          13.258883,
          -12.740981,
          5.414966,
          9.304797,
          38.36173,
          7.845784,
          38.17079,
          34.849182,
          -4.9524035,
          31.661911,
          39.276352,
          21.084614,
          12.015122,
          36.56026,
          -8.966265,
          37.465385,
          17.725868,
          39.280262,
          9.900024,
          37.304222,
          5.3832994,
          38.47368,
          17.961483,
          38.943928,
          15.364636,
          37.134747,
          6.615179,
          1.8863311,
          -10.124003,
          1.1773223,
          38.75784,
          36.87704,
          18.501772,
          7.5827746,
          18.40197,
          -3.4386704,
          35.054466,
          -10.066424,
          17.256313,
          33.65497,
          12.161783,
          19.324926,
          -1.3682263,
          8.7495575,
          27.60954,
          14.172202,
          20.200687,
          -5.736083,
          7.0676017,
          7.8142557,
          36.311962,
          34.041653,
          33.371674,
          37.609695,
          12.483022,
          34.05291,
          1.1060537,
          7.6729183,
          11.018283,
          10.145683,
          -3.6559932,
          28.829123,
          37.776363,
          38.691597,
          37.969227,
          5.519434,
          28.932888
         ],
         "z": [
          13.282932,
          0.18284377,
          40.43156,
          25.692595,
          0.7673832,
          18.5502,
          37.25627,
          0.4705315,
          0.6411238,
          38.248344,
          27.097446,
          37.4767,
          -0.34531504,
          11.651274,
          37.718838,
          9.863931,
          25.26126,
          -0.61010444,
          1.1354699,
          29.224375,
          39.84848,
          6.269511,
          23.136183,
          30.420753,
          11.605995,
          34.227715,
          45.402752,
          5.175675,
          6.397279,
          2.928852,
          11.667241,
          28.751392,
          27.144138,
          6.9978027,
          36.907524,
          7.6835165,
          17.974966,
          40.804893,
          1.0759962,
          12.986069,
          0.5293792,
          27.405174,
          32.473114,
          41.446293,
          32.47724,
          39.960003,
          37.357075,
          40.62206,
          41.688118,
          10.126233,
          13.7059355,
          28.922346,
          2.4944224,
          12.600725,
          11.550282,
          0.8999995,
          0.3363791,
          0.33795837,
          15.3867445,
          34.60447,
          10.369194,
          11.368348,
          1.2622958,
          22.846918,
          32.557674,
          4.215286,
          2.4060535,
          18.415604,
          1.912049,
          35.584824,
          2.4393833,
          0.014492377,
          12.413464,
          40.368538,
          23.803095,
          17.093534,
          31.907763,
          34.955315,
          29.737797,
          0.56551796,
          32.236153,
          0.13946472,
          9.186976,
          26.58529,
          33.467384,
          25.315395,
          0.8867882,
          35.60147,
          2.9035857,
          35.476357,
          36.75871,
          2.8473263,
          33.30237,
          33.41029,
          0.40162453,
          26.06988,
          0.22346349,
          32.846725,
          6.8147287,
          26.32724,
          10.889078,
          38.031696,
          30.577858,
          36.14227,
          11.385454,
          40.833084,
          1.0691687,
          32.604057,
          1.67493,
          30.107706,
          3.0439177,
          2.588202,
          0.40384096,
          33.8618,
          28.910933,
          29.688961,
          21.291595,
          0.6643545,
          28.97128,
          30.756954,
          1.5546815,
          30.880104,
          17.342678,
          0.35158348,
          48.734703,
          18.064074,
          39.541767,
          0.8416896,
          27.10782,
          22.345606,
          30.760002,
          5.3848476,
          2.372582,
          19.625395,
          1.5347273,
          27.17871,
          33.424015,
          0.8842183,
          6.12538,
          0.40012842,
          25.264378,
          15.765113,
          1.9878544,
          27.774786,
          13.677675,
          27.044878,
          1.4199495,
          3.5917675,
          35.388927,
          11.041138,
          1.9585526,
          5.0353966,
          9.350655,
          38.36628,
          11.392742,
          37.966606,
          0.50277823,
          17.94254,
          29.41455,
          28.81658,
          0.40098143,
          0.41707242,
          29.891106,
          -0.42515215,
          0.10785579,
          17.275984,
          13.938693,
          37.94843,
          2.5478375,
          29.312052,
          35.240597,
          27.31197,
          1.1911681,
          0.049327586,
          25.76606,
          2.10188,
          12.131214,
          28.691893,
          37.631924,
          2.8326433,
          0.6726383,
          41.760033,
          -0.011670925,
          25.66322,
          26.052599,
          0.38599798,
          2.0948083,
          13.447117,
          32.658424,
          32.429634,
          20.482548,
          29.877562,
          41.616005,
          27.931282,
          20.81742,
          -0.49846372,
          28.952557,
          39.486504,
          4.4377127,
          13.320623,
          36.804672,
          26.1483,
          12.725888,
          2.4218125,
          36.113052,
          0.40671593,
          0.015735054,
          30.826698,
          33.896236,
          2.1494968,
          2.5227997,
          17.291529,
          15.861517,
          11.809585,
          37.077957,
          28.543505,
          0.42605412,
          49.448513,
          2.3820696,
          32.065823,
          0.77606374,
          25.919724,
          31.822538,
          36.741913,
          37.813366,
          37.658115,
          29.224243,
          3.624477,
          2.0099032,
          10.870256,
          30.041145,
          14.977086,
          0.36850852,
          -0.48283407,
          20.752804,
          24.315382,
          25.129375,
          -0.3319761,
          3.4248147,
          11.519623,
          5.6659594,
          0.7438465,
          1.1567297,
          39.776756,
          6.1638403,
          4.387551,
          39.58024,
          12.668598,
          0.6662133,
          36.375206,
          2.4070482,
          26.48519,
          13.291423,
          37.985294,
          34.440445,
          8.74427,
          30.885714,
          2.896818,
          32.51923,
          30.131002,
          38.859768,
          0.6173852,
          26.524923,
          1.6318791,
          9.847793,
          23.73106,
          37.01501,
          37.345295,
          32.188297,
          0.44333524,
          32.71906,
          3.84074,
          11.751573,
          37.581738,
          11.1722975,
          1.9124293,
          30.756123,
          32.605606,
          2.1707017,
          41.66885,
          0.14266135,
          22.86043,
          0.41512516,
          31.13008,
          0.33965686,
          35.20103,
          0.7359316,
          37.091602,
          18.047253,
          32.9236,
          6.686475,
          35.81502,
          31.96502,
          38.208317,
          41.256992,
          0.32200748,
          3.028367,
          44.547577,
          36.393642,
          22.38714,
          41.13599,
          5.2372074,
          42.06478,
          24.265232,
          13.398145,
          33.215008,
          29.706736,
          37.71987,
          43.585335,
          15.712791,
          22.155756,
          21.800783,
          38.675404,
          35.823532,
          32.52964,
          7.5410223,
          12.232506,
          13.7797785,
          -0.2043274,
          29.010395,
          11.529338,
          33.67688,
          31.854513,
          28.083197,
          30.89452,
          37.60553,
          20.281153,
          -0.20816772,
          6.1773777,
          1.6870764,
          36.058926,
          20.539888
         ]
        },
        {
         "hovertemplate": "prep_method_broad=smartseq_unknown<br>V0=%{x}<br>V1=%{y}<br>V2=%{z}<extra></extra>",
         "legendgroup": "smartseq_unknown",
         "marker": {
          "color": "#EF553B",
          "size": 4,
          "symbol": "circle"
         },
         "mode": "markers",
         "name": "smartseq_unknown",
         "scene": "scene",
         "showlegend": true,
         "type": "scatter3d",
         "x": [
          -17.306751,
          -1.804618,
          -1.5920376,
          3.32304,
          -1.8787522,
          -10.165738,
          13.696302,
          10.118281,
          -1.0715958,
          0.44869092,
          34.32235,
          -24.19451,
          12.165827,
          -5.812922,
          0.48113126,
          -41.71169,
          -6.1985264,
          0.06561107,
          0.61764085,
          11.746375,
          -14.465492,
          11.671677,
          -0.50876176,
          16.423285,
          -23.231194,
          2.5489526,
          45.231953,
          3.9835222,
          0.9879484,
          -17.215508,
          -4.7074084,
          44.025642,
          3.9806368,
          34.78778,
          -23.49589,
          0.09401318,
          -0.69909555,
          -3.569821,
          -19.778841,
          -0.36036804,
          -19.865555,
          0.56931925,
          -0.012565972,
          -12.179131,
          -14.597804
         ],
         "y": [
          -1.8021419,
          37.616657,
          37.501675,
          31.723967,
          -13.443001,
          -7.3745966,
          -14.627021,
          15.390738,
          37.422287,
          38.517525,
          16.133532,
          28.224266,
          3.963724,
          26.250517,
          37.72901,
          13.815576,
          29.992697,
          37.358498,
          37.605003,
          17.240574,
          20.625546,
          8.749404,
          10.482351,
          10.296238,
          12.011917,
          34.731007,
          27.96385,
          33.22308,
          38.153667,
          20.524443,
          27.484982,
          7.8835874,
          14.620273,
          17.407745,
          28.646326,
          37.140553,
          37.134552,
          15.178434,
          0.9083602,
          37.367058,
          0.89258665,
          37.537926,
          37.950268,
          -4.596228,
          10.330936
         ],
         "z": [
          35.79245,
          6.1730876,
          -0.20475128,
          13.513934,
          41.47067,
          41.605072,
          38.685825,
          25.416132,
          6.362218,
          0.47473326,
          33.4589,
          14.583429,
          36.411777,
          16.975689,
          1.9855782,
          39.207165,
          10.886226,
          6.6573186,
          1.9795936,
          23.435884,
          22.573807,
          35.713444,
          32.45284,
          31.533194,
          34.849987,
          11.593018,
          41.671577,
          12.79681,
          2.2183406,
          23.428473,
          15.654795,
          43.57266,
          31.74877,
          37.01022,
          14.324164,
          3.172549,
          7.251527,
          29.318552,
          35.53873,
          0.019990494,
          35.44614,
          2.0346088,
          0.38920024,
          40.356102,
          35.573353
         ]
        },
        {
         "hovertemplate": "prep_method_broad=nugen<br>V0=%{x}<br>V1=%{y}<br>V2=%{z}<extra></extra>",
         "legendgroup": "nugen",
         "marker": {
          "color": "#00cc96",
          "size": 4,
          "symbol": "circle"
         },
         "mode": "markers",
         "name": "nugen",
         "scene": "scene",
         "showlegend": true,
         "type": "scatter3d",
         "x": [
          -1.9349873,
          12.044887,
          -36.456818,
          2.085988,
          1.7081316,
          -7.0481415,
          -20.817705,
          15.747237,
          -5.412166,
          -12.641745,
          -19.21851,
          -0.039349563,
          4.1210938,
          45.325634,
          1.6194102,
          -1.0116458,
          3.2748003,
          -1.8087965,
          -0.37411714,
          2.7182252,
          2.9578755,
          8.328252,
          -5.5704923,
          10.84991,
          45.399326,
          -19.93409,
          4.115985,
          13.362356,
          -4.5479383,
          -7.978737,
          -12.789206,
          11.542311,
          0.10551551
         ],
         "y": [
          16.337307,
          14.092064,
          18.961647,
          13.825483,
          38.23599,
          28.32226,
          19.154419,
          14.085195,
          12.222081,
          -5.5747104,
          19.730524,
          33.126392,
          -1.9514048,
          -11.763438,
          38.178146,
          37.170788,
          32.09022,
          36.98658,
          36.90498,
          -5.1026287,
          34.061775,
          7.7366347,
          27.303398,
          20.309225,
          28.455513,
          7.010335,
          17.624039,
          14.191788,
          26.996264,
          33.269577,
          -1.0725262,
          6.7501597,
          33.450844
         ],
         "z": [
          28.240427,
          24.52261,
          32.963604,
          31.232525,
          1.358219,
          20.690897,
          29.422434,
          32.83367,
          33.722446,
          40.358097,
          30.041924,
          12.184591,
          35.425705,
          45.109333,
          2.030087,
          -0.10210979,
          14.708646,
          -0.008069818,
          4.299701,
          40.166363,
          11.456494,
          32.862843,
          15.572461,
          20.16669,
          34.72998,
          32.314487,
          31.27169,
          23.218136,
          13.847253,
          11.051741,
          40.245564,
          36.200363,
          1.4977254
         ]
        },
        {
         "hovertemplate": "prep_method_broad=nextflex96<br>V0=%{x}<br>V1=%{y}<br>V2=%{z}<extra></extra>",
         "legendgroup": "nextflex96",
         "marker": {
          "color": "#ab63fa",
          "size": 4,
          "symbol": "circle"
         },
         "mode": "markers",
         "name": "nextflex96",
         "scene": "scene",
         "showlegend": true,
         "type": "scatter3d",
         "x": [
          -1.8711159,
          0.5792434,
          0.57793885,
          -0.3633433,
          -10.898563,
          0.5065554,
          5.530804
         ],
         "y": [
          38.33448,
          33.484875,
          38.164726,
          29.95063,
          20.94064,
          35.451,
          33.52878
         ],
         "z": [
          5.97845,
          1.9031764,
          0.51410526,
          16.339909,
          30.248404,
          10.9307375,
          11.094069
         ]
        },
        {
         "hovertemplate": "prep_method_broad=nebnext<br>V0=%{x}<br>V1=%{y}<br>V2=%{z}<extra></extra>",
         "legendgroup": "nebnext",
         "marker": {
          "color": "#FFA15A",
          "size": 4,
          "symbol": "circle"
         },
         "mode": "markers",
         "name": "nebnext",
         "scene": "scene",
         "showlegend": true,
         "type": "scatter3d",
         "x": [
          10.241923,
          -2.3875654,
          -1.8001047,
          -5.725947,
          0.2865909,
          -16.767202,
          -34.69033,
          0.7170886,
          -1.0795249,
          32.504715,
          -21.66159,
          -1.2543594,
          13.901128,
          0.76744,
          -0.50011265,
          -3.13363,
          -1.8744941,
          -0.35598677,
          -20.673304,
          -18.761585,
          3.7869394,
          -0.26608053,
          -1.9727304,
          3.5120084
         ],
         "y": [
          16.83607,
          30.57248,
          38.420906,
          36.933113,
          36.98993,
          29.044836,
          16.889986,
          37.019787,
          37.996243,
          39.552097,
          18.260813,
          36.70501,
          9.0894165,
          37.431465,
          37.649372,
          10.708086,
          36.74337,
          36.605305,
          2.023426,
          17.15311,
          34.46385,
          38.82597,
          37.895615,
          34.49967
         ],
         "z": [
          31.121107,
          14.586186,
          8.299203,
          6.6525335,
          0.7182042,
          21.497871,
          33.659283,
          6.641961,
          1.3863988,
          17.921785,
          30.50508,
          6.0391407,
          32.82994,
          1.8746693,
          5.900239,
          33.581364,
          6.9959893,
          1.5730991,
          33.556305,
          31.08267,
          11.607685,
          0.8588752,
          0.22311479,
          12.066442
         ]
        },
        {
         "hovertemplate": "prep_method_broad=illumina_unknown<br>V0=%{x}<br>V1=%{y}<br>V2=%{z}<extra></extra>",
         "legendgroup": "illumina_unknown",
         "marker": {
          "color": "#19d3f3",
          "size": 4,
          "symbol": "circle"
         },
         "mode": "markers",
         "name": "illumina_unknown",
         "scene": "scene",
         "showlegend": true,
         "type": "scatter3d",
         "x": [
          10.368309,
          1.7270471,
          3.718165,
          1.2689751,
          -4.1612673,
          -21.363806,
          -18.806978,
          -1.4992744,
          0.6373927,
          -3.80651,
          1.7189459,
          -20.236649,
          44.82775,
          -25.58638,
          -22.736645,
          -13.500961,
          4.716274,
          -12.463447,
          18.10318,
          -0.630064,
          -0.014566121,
          -0.6638607,
          -22.28743,
          10.48681,
          2.6127048,
          13.288026,
          0.7376261,
          13.119222,
          0.43513975,
          -12.605513,
          4.8582144,
          11.947751,
          0.026607225,
          -4.4110966,
          -2.010042
         ],
         "y": [
          10.559906,
          37.701874,
          33.784508,
          38.161587,
          36.266422,
          2.7531796,
          16.468025,
          33.06509,
          37.990696,
          28.705101,
          37.59454,
          17.190716,
          0.4861695,
          6.43347,
          17.44271,
          -5.061556,
          -2.0982463,
          17.640276,
          17.642397,
          37.959705,
          37.69963,
          37.074944,
          18.756964,
          10.873088,
          34.41552,
          2.513545,
          38.535454,
          4.651038,
          37.283176,
          -4.2591763,
          -3.2797263,
          9.281818,
          38.49792,
          26.487492,
          37.577003
         ],
         "z": [
          34.574905,
          2.5184267,
          13.533514,
          7.0984383,
          9.864475,
          35.826984,
          31.495216,
          12.80448,
          3.8832736,
          17.086649,
          2.206502,
          30.36426,
          40.960682,
          37.83262,
          31.007475,
          40.193474,
          38.027477,
          30.809772,
          32.950325,
          0.46939242,
          3.071349,
          0.20361361,
          30.004435,
          33.819683,
          10.839102,
          40.125637,
          2.2952843,
          39.096806,
          0.91761774,
          40.37153,
          37.963413,
          31.433836,
          0.3583662,
          15.496124,
          -0.27461523
         ]
        },
        {
         "hovertemplate": "prep_method_broad=illumina_nextera<br>V0=%{x}<br>V1=%{y}<br>V2=%{z}<extra></extra>",
         "legendgroup": "illumina_nextera",
         "marker": {
          "color": "#FF6692",
          "size": 4,
          "symbol": "circle"
         },
         "mode": "markers",
         "name": "illumina_nextera",
         "scene": "scene",
         "showlegend": true,
         "type": "scatter3d",
         "x": [
          -25.54688,
          0.09484961,
          -2.802648,
          12.091047,
          -13.1770735,
          -19.451002,
          -7.9882526,
          1.4059222,
          -3.8118424,
          18.120234,
          -0.51965904,
          10.601521,
          10.562717,
          2.7669587,
          -0.42402548,
          -2.5791535,
          -14.733117,
          12.376069,
          -2.2786756,
          -17.992788,
          -0.0005038373,
          5.3686814,
          -13.325702,
          -3.4574704,
          1.421833,
          -2.1975164
         ],
         "y": [
          28.881302,
          36.05156,
          35.831,
          5.1322107,
          -5.4327846,
          7.3388696,
          8.657477,
          36.98262,
          15.489294,
          20.154974,
          36.904877,
          24.60372,
          5.6804338,
          28.465458,
          38.666473,
          30.183847,
          -4.0106835,
          20.607384,
          39.38292,
          11.802929,
          37.4575,
          33.01138,
          -5.581738,
          9.060305,
          36.21509,
          35.74616
         ],
         "z": [
          16.210638,
          10.257036,
          5.3407893,
          35.850536,
          41.344177,
          32.909157,
          28.476068,
          1.9799472,
          29.045252,
          22.080206,
          0.0050087245,
          40.161434,
          34.680405,
          38.858654,
          6.159621,
          12.078914,
          40.521515,
          25.67813,
          -0.76543456,
          49.372837,
          2.3735614,
          12.247852,
          40.378895,
          24.564522,
          2.4231875,
          8.385682
         ]
        },
        {
         "hovertemplate": "prep_method_broad=hudson<br>V0=%{x}<br>V1=%{y}<br>V2=%{z}<extra></extra>",
         "legendgroup": "hudson",
         "marker": {
          "color": "#B6E880",
          "size": 4,
          "symbol": "circle"
         },
         "mode": "markers",
         "name": "hudson",
         "scene": "scene",
         "showlegend": true,
         "type": "scatter3d",
         "x": [
          -20.332022,
          0.5429955,
          -6.9192986,
          18.128695,
          -18.568636,
          -5.2656116,
          -1.4305559,
          -2.8070066,
          4.6797533,
          -5.4787946,
          40.076553,
          6.1359363,
          -13.782734,
          -0.4358722,
          3.3032467,
          0.40950716,
          0.13620965,
          -0.95906436,
          15.111623,
          -0.4337814,
          17.530775,
          -3.2831738,
          0.23154113,
          -34.506855,
          2.2796314,
          -6.3457966,
          -0.9695792,
          -2.1994808
         ],
         "y": [
          23.25864,
          38.33412,
          28.447126,
          26.918432,
          16.72637,
          30.776264,
          38.09368,
          39.083916,
          32.79328,
          27.375582,
          37.727196,
          15.691946,
          0.35024625,
          38.510895,
          29.305725,
          37.797966,
          37.065918,
          36.222084,
          18.265825,
          35.607746,
          28.971788,
          35.00953,
          38.194546,
          22.91744,
          34.08756,
          31.08234,
          37.551945,
          37.318478
         ],
         "z": [
          43.4513,
          4.127384,
          17.14063,
          31.792868,
          27.473763,
          11.699493,
          -0.11225241,
          0.72269934,
          12.4946785,
          18.298513,
          27.318993,
          27.475468,
          39.560745,
          0.017514268,
          14.094942,
          0.67889726,
          0.4119723,
          0.684368,
          24.087881,
          1.5875041,
          38.20481,
          11.695439,
          0.28167677,
          29.765755,
          4.9616265,
          11.728903,
          -0.14900863,
          -0.17928247
         ]
        },
        {
         "hovertemplate": "prep_method_broad=roche_kapa<br>V0=%{x}<br>V1=%{y}<br>V2=%{z}<extra></extra>",
         "legendgroup": "roche_kapa",
         "marker": {
          "color": "#FF97FF",
          "size": 4,
          "symbol": "circle"
         },
         "mode": "markers",
         "name": "roche_kapa",
         "scene": "scene",
         "showlegend": true,
         "type": "scatter3d",
         "x": [
          3.5400856,
          34.204697,
          12.916748,
          0.11511699,
          -1.1136831,
          43.352173,
          -11.3256035,
          -14.926076,
          -0.8931871,
          -23.940691,
          0.63712186,
          14.5084505,
          -2.0812116,
          -19.268238,
          3.6058528,
          0.08548105,
          0.6790441,
          14.712078,
          -13.678962,
          -16.972647,
          -0.11622411,
          0.15134998,
          -19.448189,
          -15.583017
         ],
         "y": [
          -7.367876,
          19.130358,
          13.802722,
          36.925728,
          37.525024,
          8.395247,
          -2.0274372,
          20.593975,
          -13.648564,
          6.823207,
          37.77458,
          10.128132,
          33.932938,
          20.082941,
          34.036682,
          38.794136,
          38.708202,
          17.62719,
          -6.683386,
          30.07918,
          38.38897,
          36.326466,
          1.3834841,
          24.19832
         ],
         "z": [
          39.33782,
          37.72241,
          22.174412,
          0.36659732,
          0.32768512,
          44.493256,
          37.288685,
          24.050373,
          40.95432,
          35.93386,
          2.5259924,
          33.036926,
          12.906729,
          30.879837,
          12.163426,
          0.6021076,
          2.3215442,
          30.952835,
          39.872242,
          20.896572,
          1.7224538,
          0.72567797,
          32.80111,
          25.025846
         ]
        }
       ],
       "layout": {
        "autosize": true,
        "legend": {
         "title": {
          "text": "prep_method_broad"
         },
         "tracegroupgap": 0
        },
        "margin": {
         "t": 60
        },
        "scene": {
         "aspectmode": "auto",
         "aspectratio": {
          "x": 1.4004144477682166,
          "y": 0.8925174354361778,
          "z": 0.8000676463788475
         },
         "camera": {
          "center": {
           "x": 0,
           "y": 0,
           "z": 0
          },
          "eye": {
           "x": 0.44169179695471394,
           "y": 1.1372378751988266,
           "z": 0.30682176999989075
          },
          "projection": {
           "type": "perspective"
          },
          "up": {
           "x": 0,
           "y": 0,
           "z": 1
          }
         },
         "domain": {
          "x": [
           0,
           1
          ],
          "y": [
           0,
           1
          ]
         },
         "xaxis": {
          "title": {
           "text": "V0"
          },
          "type": "linear"
         },
         "yaxis": {
          "title": {
           "text": "V1"
          },
          "type": "linear"
         },
         "zaxis": {
          "title": {
           "text": "V2"
          },
          "type": "linear"
         }
        },
        "template": {
         "data": {
          "bar": [
           {
            "error_x": {
             "color": "#2a3f5f"
            },
            "error_y": {
             "color": "#2a3f5f"
            },
            "marker": {
             "line": {
              "color": "#E5ECF6",
              "width": 0.5
             },
             "pattern": {
              "fillmode": "overlay",
              "size": 10,
              "solidity": 0.2
             }
            },
            "type": "bar"
           }
          ],
          "barpolar": [
           {
            "marker": {
             "line": {
              "color": "#E5ECF6",
              "width": 0.5
             },
             "pattern": {
              "fillmode": "overlay",
              "size": 10,
              "solidity": 0.2
             }
            },
            "type": "barpolar"
           }
          ],
          "carpet": [
           {
            "aaxis": {
             "endlinecolor": "#2a3f5f",
             "gridcolor": "white",
             "linecolor": "white",
             "minorgridcolor": "white",
             "startlinecolor": "#2a3f5f"
            },
            "baxis": {
             "endlinecolor": "#2a3f5f",
             "gridcolor": "white",
             "linecolor": "white",
             "minorgridcolor": "white",
             "startlinecolor": "#2a3f5f"
            },
            "type": "carpet"
           }
          ],
          "choropleth": [
           {
            "colorbar": {
             "outlinewidth": 0,
             "ticks": ""
            },
            "type": "choropleth"
           }
          ],
          "contour": [
           {
            "colorbar": {
             "outlinewidth": 0,
             "ticks": ""
            },
            "colorscale": [
             [
              0,
              "#0d0887"
             ],
             [
              0.1111111111111111,
              "#46039f"
             ],
             [
              0.2222222222222222,
              "#7201a8"
             ],
             [
              0.3333333333333333,
              "#9c179e"
             ],
             [
              0.4444444444444444,
              "#bd3786"
             ],
             [
              0.5555555555555556,
              "#d8576b"
             ],
             [
              0.6666666666666666,
              "#ed7953"
             ],
             [
              0.7777777777777778,
              "#fb9f3a"
             ],
             [
              0.8888888888888888,
              "#fdca26"
             ],
             [
              1,
              "#f0f921"
             ]
            ],
            "type": "contour"
           }
          ],
          "contourcarpet": [
           {
            "colorbar": {
             "outlinewidth": 0,
             "ticks": ""
            },
            "type": "contourcarpet"
           }
          ],
          "heatmap": [
           {
            "colorbar": {
             "outlinewidth": 0,
             "ticks": ""
            },
            "colorscale": [
             [
              0,
              "#0d0887"
             ],
             [
              0.1111111111111111,
              "#46039f"
             ],
             [
              0.2222222222222222,
              "#7201a8"
             ],
             [
              0.3333333333333333,
              "#9c179e"
             ],
             [
              0.4444444444444444,
              "#bd3786"
             ],
             [
              0.5555555555555556,
              "#d8576b"
             ],
             [
              0.6666666666666666,
              "#ed7953"
             ],
             [
              0.7777777777777778,
              "#fb9f3a"
             ],
             [
              0.8888888888888888,
              "#fdca26"
             ],
             [
              1,
              "#f0f921"
             ]
            ],
            "type": "heatmap"
           }
          ],
          "heatmapgl": [
           {
            "colorbar": {
             "outlinewidth": 0,
             "ticks": ""
            },
            "colorscale": [
             [
              0,
              "#0d0887"
             ],
             [
              0.1111111111111111,
              "#46039f"
             ],
             [
              0.2222222222222222,
              "#7201a8"
             ],
             [
              0.3333333333333333,
              "#9c179e"
             ],
             [
              0.4444444444444444,
              "#bd3786"
             ],
             [
              0.5555555555555556,
              "#d8576b"
             ],
             [
              0.6666666666666666,
              "#ed7953"
             ],
             [
              0.7777777777777778,
              "#fb9f3a"
             ],
             [
              0.8888888888888888,
              "#fdca26"
             ],
             [
              1,
              "#f0f921"
             ]
            ],
            "type": "heatmapgl"
           }
          ],
          "histogram": [
           {
            "marker": {
             "pattern": {
              "fillmode": "overlay",
              "size": 10,
              "solidity": 0.2
             }
            },
            "type": "histogram"
           }
          ],
          "histogram2d": [
           {
            "colorbar": {
             "outlinewidth": 0,
             "ticks": ""
            },
            "colorscale": [
             [
              0,
              "#0d0887"
             ],
             [
              0.1111111111111111,
              "#46039f"
             ],
             [
              0.2222222222222222,
              "#7201a8"
             ],
             [
              0.3333333333333333,
              "#9c179e"
             ],
             [
              0.4444444444444444,
              "#bd3786"
             ],
             [
              0.5555555555555556,
              "#d8576b"
             ],
             [
              0.6666666666666666,
              "#ed7953"
             ],
             [
              0.7777777777777778,
              "#fb9f3a"
             ],
             [
              0.8888888888888888,
              "#fdca26"
             ],
             [
              1,
              "#f0f921"
             ]
            ],
            "type": "histogram2d"
           }
          ],
          "histogram2dcontour": [
           {
            "colorbar": {
             "outlinewidth": 0,
             "ticks": ""
            },
            "colorscale": [
             [
              0,
              "#0d0887"
             ],
             [
              0.1111111111111111,
              "#46039f"
             ],
             [
              0.2222222222222222,
              "#7201a8"
             ],
             [
              0.3333333333333333,
              "#9c179e"
             ],
             [
              0.4444444444444444,
              "#bd3786"
             ],
             [
              0.5555555555555556,
              "#d8576b"
             ],
             [
              0.6666666666666666,
              "#ed7953"
             ],
             [
              0.7777777777777778,
              "#fb9f3a"
             ],
             [
              0.8888888888888888,
              "#fdca26"
             ],
             [
              1,
              "#f0f921"
             ]
            ],
            "type": "histogram2dcontour"
           }
          ],
          "mesh3d": [
           {
            "colorbar": {
             "outlinewidth": 0,
             "ticks": ""
            },
            "type": "mesh3d"
           }
          ],
          "parcoords": [
           {
            "line": {
             "colorbar": {
              "outlinewidth": 0,
              "ticks": ""
             }
            },
            "type": "parcoords"
           }
          ],
          "pie": [
           {
            "automargin": true,
            "type": "pie"
           }
          ],
          "scatter": [
           {
            "fillpattern": {
             "fillmode": "overlay",
             "size": 10,
             "solidity": 0.2
            },
            "type": "scatter"
           }
          ],
          "scatter3d": [
           {
            "line": {
             "colorbar": {
              "outlinewidth": 0,
              "ticks": ""
             }
            },
            "marker": {
             "colorbar": {
              "outlinewidth": 0,
              "ticks": ""
             }
            },
            "type": "scatter3d"
           }
          ],
          "scattercarpet": [
           {
            "marker": {
             "colorbar": {
              "outlinewidth": 0,
              "ticks": ""
             }
            },
            "type": "scattercarpet"
           }
          ],
          "scattergeo": [
           {
            "marker": {
             "colorbar": {
              "outlinewidth": 0,
              "ticks": ""
             }
            },
            "type": "scattergeo"
           }
          ],
          "scattergl": [
           {
            "marker": {
             "colorbar": {
              "outlinewidth": 0,
              "ticks": ""
             }
            },
            "type": "scattergl"
           }
          ],
          "scattermapbox": [
           {
            "marker": {
             "colorbar": {
              "outlinewidth": 0,
              "ticks": ""
             }
            },
            "type": "scattermapbox"
           }
          ],
          "scatterpolar": [
           {
            "marker": {
             "colorbar": {
              "outlinewidth": 0,
              "ticks": ""
             }
            },
            "type": "scatterpolar"
           }
          ],
          "scatterpolargl": [
           {
            "marker": {
             "colorbar": {
              "outlinewidth": 0,
              "ticks": ""
             }
            },
            "type": "scatterpolargl"
           }
          ],
          "scatterternary": [
           {
            "marker": {
             "colorbar": {
              "outlinewidth": 0,
              "ticks": ""
             }
            },
            "type": "scatterternary"
           }
          ],
          "surface": [
           {
            "colorbar": {
             "outlinewidth": 0,
             "ticks": ""
            },
            "colorscale": [
             [
              0,
              "#0d0887"
             ],
             [
              0.1111111111111111,
              "#46039f"
             ],
             [
              0.2222222222222222,
              "#7201a8"
             ],
             [
              0.3333333333333333,
              "#9c179e"
             ],
             [
              0.4444444444444444,
              "#bd3786"
             ],
             [
              0.5555555555555556,
              "#d8576b"
             ],
             [
              0.6666666666666666,
              "#ed7953"
             ],
             [
              0.7777777777777778,
              "#fb9f3a"
             ],
             [
              0.8888888888888888,
              "#fdca26"
             ],
             [
              1,
              "#f0f921"
             ]
            ],
            "type": "surface"
           }
          ],
          "table": [
           {
            "cells": {
             "fill": {
              "color": "#EBF0F8"
             },
             "line": {
              "color": "white"
             }
            },
            "header": {
             "fill": {
              "color": "#C8D4E3"
             },
             "line": {
              "color": "white"
             }
            },
            "type": "table"
           }
          ]
         },
         "layout": {
          "annotationdefaults": {
           "arrowcolor": "#2a3f5f",
           "arrowhead": 0,
           "arrowwidth": 1
          },
          "autotypenumbers": "strict",
          "coloraxis": {
           "colorbar": {
            "outlinewidth": 0,
            "ticks": ""
           }
          },
          "colorscale": {
           "diverging": [
            [
             0,
             "#8e0152"
            ],
            [
             0.1,
             "#c51b7d"
            ],
            [
             0.2,
             "#de77ae"
            ],
            [
             0.3,
             "#f1b6da"
            ],
            [
             0.4,
             "#fde0ef"
            ],
            [
             0.5,
             "#f7f7f7"
            ],
            [
             0.6,
             "#e6f5d0"
            ],
            [
             0.7,
             "#b8e186"
            ],
            [
             0.8,
             "#7fbc41"
            ],
            [
             0.9,
             "#4d9221"
            ],
            [
             1,
             "#276419"
            ]
           ],
           "sequential": [
            [
             0,
             "#0d0887"
            ],
            [
             0.1111111111111111,
             "#46039f"
            ],
            [
             0.2222222222222222,
             "#7201a8"
            ],
            [
             0.3333333333333333,
             "#9c179e"
            ],
            [
             0.4444444444444444,
             "#bd3786"
            ],
            [
             0.5555555555555556,
             "#d8576b"
            ],
            [
             0.6666666666666666,
             "#ed7953"
            ],
            [
             0.7777777777777778,
             "#fb9f3a"
            ],
            [
             0.8888888888888888,
             "#fdca26"
            ],
            [
             1,
             "#f0f921"
            ]
           ],
           "sequentialminus": [
            [
             0,
             "#0d0887"
            ],
            [
             0.1111111111111111,
             "#46039f"
            ],
            [
             0.2222222222222222,
             "#7201a8"
            ],
            [
             0.3333333333333333,
             "#9c179e"
            ],
            [
             0.4444444444444444,
             "#bd3786"
            ],
            [
             0.5555555555555556,
             "#d8576b"
            ],
            [
             0.6666666666666666,
             "#ed7953"
            ],
            [
             0.7777777777777778,
             "#fb9f3a"
            ],
            [
             0.8888888888888888,
             "#fdca26"
            ],
            [
             1,
             "#f0f921"
            ]
           ]
          },
          "colorway": [
           "#636efa",
           "#EF553B",
           "#00cc96",
           "#ab63fa",
           "#FFA15A",
           "#19d3f3",
           "#FF6692",
           "#B6E880",
           "#FF97FF",
           "#FECB52"
          ],
          "font": {
           "color": "#2a3f5f"
          },
          "geo": {
           "bgcolor": "white",
           "lakecolor": "white",
           "landcolor": "#E5ECF6",
           "showlakes": true,
           "showland": true,
           "subunitcolor": "white"
          },
          "hoverlabel": {
           "align": "left"
          },
          "hovermode": "closest",
          "mapbox": {
           "style": "light"
          },
          "paper_bgcolor": "white",
          "plot_bgcolor": "#E5ECF6",
          "polar": {
           "angularaxis": {
            "gridcolor": "white",
            "linecolor": "white",
            "ticks": ""
           },
           "bgcolor": "#E5ECF6",
           "radialaxis": {
            "gridcolor": "white",
            "linecolor": "white",
            "ticks": ""
           }
          },
          "scene": {
           "xaxis": {
            "backgroundcolor": "#E5ECF6",
            "gridcolor": "white",
            "gridwidth": 2,
            "linecolor": "white",
            "showbackground": true,
            "ticks": "",
            "zerolinecolor": "white"
           },
           "yaxis": {
            "backgroundcolor": "#E5ECF6",
            "gridcolor": "white",
            "gridwidth": 2,
            "linecolor": "white",
            "showbackground": true,
            "ticks": "",
            "zerolinecolor": "white"
           },
           "zaxis": {
            "backgroundcolor": "#E5ECF6",
            "gridcolor": "white",
            "gridwidth": 2,
            "linecolor": "white",
            "showbackground": true,
            "ticks": "",
            "zerolinecolor": "white"
           }
          },
          "shapedefaults": {
           "line": {
            "color": "#2a3f5f"
           }
          },
          "ternary": {
           "aaxis": {
            "gridcolor": "white",
            "linecolor": "white",
            "ticks": ""
           },
           "baxis": {
            "gridcolor": "white",
            "linecolor": "white",
            "ticks": ""
           },
           "bgcolor": "#E5ECF6",
           "caxis": {
            "gridcolor": "white",
            "linecolor": "white",
            "ticks": ""
           }
          },
          "title": {
           "x": 0.05
          },
          "xaxis": {
           "automargin": true,
           "gridcolor": "white",
           "linecolor": "white",
           "ticks": "",
           "title": {
            "standoff": 15
           },
           "zerolinecolor": "white",
           "zerolinewidth": 2
          },
          "yaxis": {
           "automargin": true,
           "gridcolor": "white",
           "linecolor": "white",
           "ticks": "",
           "title": {
            "standoff": 15
           },
           "zerolinecolor": "white",
           "zerolinewidth": 2
          }
         }
        }
       }
      },
      "image/png": "[encoded data removed]",
      "text/html": [
       "<div>                            <div id=\"70c61ca9-32e5-4ed3-b649-2bcbe3bf05bd\" class=\"plotly-graph-div\" style=\"height:525px; width:100%;\"></div>            <script type=\"text/javascript\">                require([\"plotly\"], function(Plotly) {                    window.PLOTLYENV=window.PLOTLYENV || {};                                    if (document.getElementById(\"70c61ca9-32e5-4ed3-b649-2bcbe3bf05bd\")) {                    Plotly.newPlot(                        \"70c61ca9-32e5-4ed3-b649-2bcbe3bf05bd\",                        [{\"hovertemplate\":\"prep_method_broad=illumina_truseq\\u003cbr\\u003eV0=%{x}\\u003cbr\\u003eV1=%{y}\\u003cbr\\u003eV2=%{z}\\u003cextra\\u003e\\u003c\\u002fextra\\u003e\",\"legendgroup\":\"illumina_truseq\",\"marker\":{\"color\":\"#636efa\",\"symbol\":\"circle\",\"size\":4},\"mode\":\"markers\",\"name\":\"illumina_truseq\",\"scene\":\"scene\",\"showlegend\":true,\"x\":[5.4542236,-0.48009232,-11.506524,13.114721,-1.2836665,-8.033931,4.677901,-1.2493007,-0.09063396,12.745373,9.491859,0.92322963,-2.3875966,-4.0348687,2.8208206,-6.9969797,-5.1287107,-3.4662342,-0.35679328,-2.0610769,0.2441771,-5.768348,-16.906038,5.0613413,-5.148345,-2.2204378,46.1813,-1.5173748,-2.0332534,0.06479363,0.9301656,-32.091328,-7.4078712,-1.2330755,11.792647,-0.84224015,-5.6542234,-12.80799,-0.36060467,23.759228,0.37057528,38.60581,-0.23051684,-11.984201,17.721376,-14.003266,-22.309574,-11.166295,43.548622,-6.6150823,22.864561,10.46658,1.2822269,21.170494,-4.461904,-0.80660164,-1.7887086,-0.41212404,-2.153304,30.321207,-0.8110079,4.434213,2.1044145,12.119211,-1.0590414,-5.047949,2.2712452,-8.168152,1.7703239,11.691598,0.44334638,-1.121477,5.3071313,-13.079333,10.33954,-0.55315334,8.397842,13.278693,-19.91228,0.39086533,-21.166124,-1.3436241,16.30981,5.6687584,39.34176,-15.067996,-0.7282184,11.888444,0.9681069,-21.642746,3.5079513,1.7418065,9.202713,28.082115,-0.5763114,-14.414922,0.06781574,6.7479906,-0.5137515,-6.4770494,-5.925298,12.8711605,12.979589,4.202242,1.2893493,-13.874664,0.61569667,9.779492,0.5663917,-17.093601,-2.8702857,0.40759864,-0.032059588,-2.4525082,5.2010665,-18.181427,-4.965195,0.25428313,-3.2646666,-13.623019,0.12203208,4.530944,-6.9858804,-0.6623511,-18.780804,-6.4245205,12.320052,-0.5878536,-13.919812,12.774216,9.326103,-2.4305346,1.5187478,-18.172136,0.15666942,33.353596,18.294228,0.4052831,-1.4030144,-1.317618,14.636402,-4.621857,1.749817,8.9802265,4.6884418,-18.877102,1.3909947,0.02770629,-21.733917,-6.3296447,-0.8735504,-3.3330417,15.983102,12.95673,2.7745574,1.2403752,-0.7600721,31.448065,-19.988516,-17.48156,-0.1037443,-0.5664455,-19.389797,-2.3354144,-0.828747,-6.0431542,-1.7435032,13.920476,0.9892889,-3.5425825,11.254151,-17.27713,-0.27764338,-0.476876,-17.362972,1.3467867,6.0001407,-6.9063544,11.953922,-0.14330368,-0.2795418,-2.6122947,-1.4912632,10.319641,10.458878,0.42250544,1.0481538,25.292158,-14.84218,-20.609076,-17.783766,-13.527358,-2.3225844,7.047004,-5.9158816,-1.9408628,11.438538,5.631344,-3.8891194,3.2707095,13.559598,37.533966,-2.4237783,1.8725549,12.503063,0.015094143,-0.23844878,3.844483,9.711575,0.9178157,0.40670827,-5.0672183,-5.1021295,6.0712285,15.824877,-18.80354,-2.1087492,-19.094845,-0.13387726,-1.9017358,1.7468144,15.158698,22.661572,-26.486567,-38.06709,1.8183389,-17.987669,-1.179989,1.8693761,4.594107,-0.8982542,-4.3506265,-0.1141866,-2.2687755,-18.027033,24.667555,29.87069,-1.5859463,0.6054629,-4.401264,-0.47418788,-0.74650884,-1.690514,-13.70924,-1.0591052,-0.8650955,-13.632275,4.121592,-0.37331942,-17.033966,-0.3745503,22.132982,23.3219,2.871783,11.297293,15.784821,-13.1746,-0.08560038,-2.6100645,20.857365,-41.411907,-0.14483088,-8.8927965,0.2319515,0.37346792,13.831954,13.487284,-25.69704,15.916997,0.4993963,8.665249,0.4603626,6.198298,3.4289188,-5.617375,-2.5116956,-11.793295,37.9867,-1.4996666,-9.750111,-0.051132035,10.141315,-0.22311516,13.374546,0.22287813,10.020364,0.7070298,-34.893135,33.575012,33.510494,-0.9301931,-22.35117,-18.892738,13.553212,43.183018,-2.4143598,0.77071255,-18.57888,-22.082653,12.216103,-14.31408,0.7109957,-3.222926,9.702613,3.0561135,28.77542,-19.439651,2.3748515,45.34441,-24.720135,11.681577,19.108656,3.9061935,10.694814,8.213833,-0.0891919,5.144213,5.8021555,-1.1701498,11.487618,0.4265428,-19.57768,28.821184,21.824339,13.072356,4.7234807,-7.4765973,-1.2945861,-0.38167945,2.2864404,10.526456,-18.5602],\"y\":[35.045856,37.389317,-6.6689143,12.891708,37.711197,28.246922,-0.90404826,39.39031,38.83735,5.0735145,15.9363985,0.6333895,39.54142,32.436623,-1.5621704,34.690872,10.027426,41.162735,38.078106,14.604203,-10.819238,36.778824,20.672224,17.243017,30.930279,29.503014,9.874655,38.313408,36.818523,38.218765,35.345284,25.53942,13.380819,37.385563,24.5656,37.20714,27.102146,-5.903838,39.32267,36.48005,37.605713,37.543484,0.9008117,-6.863709,10.278922,-0.09952438,1.1937832,-3.5192182,-2.0169911,34.25537,33.729023,36.007397,37.706398,35.434113,32.41813,37.108257,38.41333,37.08294,29.629486,8.472628,29.743921,33.507744,36.34499,18.097563,-0.16987191,36.88293,37.235928,28.212055,37.967163,6.736428,38.05129,38.51176,33.66806,-4.7693925,15.605872,31.243187,36.32803,-10.1889105,19.509914,37.6837,6.8037887,39.40988,36.31635,17.903975,26.845114,17.192476,37.300755,6.854786,37.095303,1.6249814,-4.1509285,38.224014,7.5694313,10.756527,39.052708,16.709314,37.579002,-6.796426,37.239017,11.027302,32.531166,-13.976404,9.319449,-6.013021,33.540028,-1.3122356,37.767727,11.292305,35.546288,17.105478,36.38956,38.45459,36.456257,12.795147,14.756894,17.555656,28.230774,36.63915,15.295937,13.893485,35.104805,15.5447035,26.97133,37.718983,13.205428,27.910639,22.337671,37.089752,21.78318,13.56963,35.588074,35.622208,38.288586,30.005936,33.298096,37.443523,8.838304,38.408016,37.05295,39.227993,21.862783,27.988558,37.774952,15.64947,30.462711,22.038727,37.99415,37.411793,1.7692147,36.163303,37.678867,36.578762,36.861073,5.277522,34.35535,27.74011,37.622013,38.301598,16.432503,22.030521,39.48664,37.65086,19.951258,37.218025,39.650444,28.46451,34.333347,-14.853558,37.905125,15.438785,23.447392,17.924404,37.639698,37.27514,21.338108,35.264885,34.015877,11.659617,3.7851522,38.25612,36.60782,-13.167172,37.33145,15.529611,15.919954,37.84113,38.228367,35.946873,-2.8644147,6.543958,29.037134,18.848751,-11.730764,16.254452,28.933784,37.767475,12.022549,-7.1209955,36.48365,33.67873,4.871246,36.165863,29.153412,36.696594,10.628551,37.74259,37.9001,14.541026,5.9500136,37.69871,38.03226,26.111076,26.962456,32.14589,29.259338,18.481577,37.47887,11.007952,38.093384,11.546448,36.6543,15.465494,9.608794,8.360089,13.693718,26.539444,16.339045,38.10162,35.923897,33.597874,3.5310094,26.263083,37.26598,39.90641,28.977543,34.150803,35.136864,37.259136,39.10588,32.43309,37.16173,37.7929,37.11209,-1.2802587,37.390705,38.171093,-3.5998313,33.554295,37.966923,9.911794,38.130302,34.50789,35.588837,-3.2999704,8.718069,36.585697,20.88516,37.623524,11.85421,9.27905,12.743998,38.461784,12.118944,33.369164,29.697788,13.258883,-12.740981,5.414966,9.304797,38.36173,7.845784,38.17079,34.849182,-4.9524035,31.661911,39.276352,21.084614,12.015122,36.56026,-8.966265,37.465385,17.725868,39.280262,9.900024,37.304222,5.3832994,38.47368,17.961483,38.943928,15.364636,37.134747,6.615179,1.8863311,-10.124003,1.1773223,38.75784,36.87704,18.501772,7.5827746,18.40197,-3.4386704,35.054466,-10.066424,17.256313,33.65497,12.161783,19.324926,-1.3682263,8.7495575,27.60954,14.172202,20.200687,-5.736083,7.0676017,7.8142557,36.311962,34.041653,33.371674,37.609695,12.483022,34.05291,1.1060537,7.6729183,11.018283,10.145683,-3.6559932,28.829123,37.776363,38.691597,37.969227,5.519434,28.932888],\"z\":[13.282932,0.18284377,40.43156,25.692595,0.7673832,18.5502,37.25627,0.4705315,0.6411238,38.248344,27.097446,37.4767,-0.34531504,11.651274,37.718838,9.863931,25.26126,-0.61010444,1.1354699,29.224375,39.84848,6.269511,23.136183,30.420753,11.605995,34.227715,45.402752,5.175675,6.397279,2.928852,11.667241,28.751392,27.144138,6.9978027,36.907524,7.6835165,17.974966,40.804893,1.0759962,12.986069,0.5293792,27.405174,32.473114,41.446293,32.47724,39.960003,37.357075,40.62206,41.688118,10.126233,13.7059355,28.922346,2.4944224,12.600725,11.550282,0.8999995,0.3363791,0.33795837,15.3867445,34.60447,10.369194,11.368348,1.2622958,22.846918,32.557674,4.215286,2.4060535,18.415604,1.912049,35.584824,2.4393833,0.014492377,12.413464,40.368538,23.803095,17.093534,31.907763,34.955315,29.737797,0.56551796,32.236153,0.13946472,9.186976,26.58529,33.467384,25.315395,0.8867882,35.60147,2.9035857,35.476357,36.75871,2.8473263,33.30237,33.41029,0.40162453,26.06988,0.22346349,32.846725,6.8147287,26.32724,10.889078,38.031696,30.577858,36.14227,11.385454,40.833084,1.0691687,32.604057,1.67493,30.107706,3.0439177,2.588202,0.40384096,33.8618,28.910933,29.688961,21.291595,0.6643545,28.97128,30.756954,1.5546815,30.880104,17.342678,0.35158348,48.734703,18.064074,39.541767,0.8416896,27.10782,22.345606,30.760002,5.3848476,2.372582,19.625395,1.5347273,27.17871,33.424015,0.8842183,6.12538,0.40012842,25.264378,15.765113,1.9878544,27.774786,13.677675,27.044878,1.4199495,3.5917675,35.388927,11.041138,1.9585526,5.0353966,9.350655,38.36628,11.392742,37.966606,0.50277823,17.94254,29.41455,28.81658,0.40098143,0.41707242,29.891106,-0.42515215,0.10785579,17.275984,13.938693,37.94843,2.5478375,29.312052,35.240597,27.31197,1.1911681,0.049327586,25.76606,2.10188,12.131214,28.691893,37.631924,2.8326433,0.6726383,41.760033,-0.011670925,25.66322,26.052599,0.38599798,2.0948083,13.447117,32.658424,32.429634,20.482548,29.877562,41.616005,27.931282,20.81742,-0.49846372,28.952557,39.486504,4.4377127,13.320623,36.804672,26.1483,12.725888,2.4218125,36.113052,0.40671593,0.015735054,30.826698,33.896236,2.1494968,2.5227997,17.291529,15.861517,11.809585,37.077957,28.543505,0.42605412,49.448513,2.3820696,32.065823,0.77606374,25.919724,31.822538,36.741913,37.813366,37.658115,29.224243,3.624477,2.0099032,10.870256,30.041145,14.977086,0.36850852,-0.48283407,20.752804,24.315382,25.129375,-0.3319761,3.4248147,11.519623,5.6659594,0.7438465,1.1567297,39.776756,6.1638403,4.387551,39.58024,12.668598,0.6662133,36.375206,2.4070482,26.48519,13.291423,37.985294,34.440445,8.74427,30.885714,2.896818,32.51923,30.131002,38.859768,0.6173852,26.524923,1.6318791,9.847793,23.73106,37.01501,37.345295,32.188297,0.44333524,32.71906,3.84074,11.751573,37.581738,11.1722975,1.9124293,30.756123,32.605606,2.1707017,41.66885,0.14266135,22.86043,0.41512516,31.13008,0.33965686,35.20103,0.7359316,37.091602,18.047253,32.9236,6.686475,35.81502,31.96502,38.208317,41.256992,0.32200748,3.028367,44.547577,36.393642,22.38714,41.13599,5.2372074,42.06478,24.265232,13.398145,33.215008,29.706736,37.71987,43.585335,15.712791,22.155756,21.800783,38.675404,35.823532,32.52964,7.5410223,12.232506,13.7797785,-0.2043274,29.010395,11.529338,33.67688,31.854513,28.083197,30.89452,37.60553,20.281153,-0.20816772,6.1773777,1.6870764,36.058926,20.539888],\"type\":\"scatter3d\"},{\"hovertemplate\":\"prep_method_broad=smartseq_unknown\\u003cbr\\u003eV0=%{x}\\u003cbr\\u003eV1=%{y}\\u003cbr\\u003eV2=%{z}\\u003cextra\\u003e\\u003c\\u002fextra\\u003e\",\"legendgroup\":\"smartseq_unknown\",\"marker\":{\"color\":\"#EF553B\",\"symbol\":\"circle\",\"size\":4},\"mode\":\"markers\",\"name\":\"smartseq_unknown\",\"scene\":\"scene\",\"showlegend\":true,\"x\":[-17.306751,-1.804618,-1.5920376,3.32304,-1.8787522,-10.165738,13.696302,10.118281,-1.0715958,0.44869092,34.32235,-24.19451,12.165827,-5.812922,0.48113126,-41.71169,-6.1985264,0.06561107,0.61764085,11.746375,-14.465492,11.671677,-0.50876176,16.423285,-23.231194,2.5489526,45.231953,3.9835222,0.9879484,-17.215508,-4.7074084,44.025642,3.9806368,34.78778,-23.49589,0.09401318,-0.69909555,-3.569821,-19.778841,-0.36036804,-19.865555,0.56931925,-0.012565972,-12.179131,-14.597804],\"y\":[-1.8021419,37.616657,37.501675,31.723967,-13.443001,-7.3745966,-14.627021,15.390738,37.422287,38.517525,16.133532,28.224266,3.963724,26.250517,37.72901,13.815576,29.992697,37.358498,37.605003,17.240574,20.625546,8.749404,10.482351,10.296238,12.011917,34.731007,27.96385,33.22308,38.153667,20.524443,27.484982,7.8835874,14.620273,17.407745,28.646326,37.140553,37.134552,15.178434,0.9083602,37.367058,0.89258665,37.537926,37.950268,-4.596228,10.330936],\"z\":[35.79245,6.1730876,-0.20475128,13.513934,41.47067,41.605072,38.685825,25.416132,6.362218,0.47473326,33.4589,14.583429,36.411777,16.975689,1.9855782,39.207165,10.886226,6.6573186,1.9795936,23.435884,22.573807,35.713444,32.45284,31.533194,34.849987,11.593018,41.671577,12.79681,2.2183406,23.428473,15.654795,43.57266,31.74877,37.01022,14.324164,3.172549,7.251527,29.318552,35.53873,0.019990494,35.44614,2.0346088,0.38920024,40.356102,35.573353],\"type\":\"scatter3d\"},{\"hovertemplate\":\"prep_method_broad=nugen\\u003cbr\\u003eV0=%{x}\\u003cbr\\u003eV1=%{y}\\u003cbr\\u003eV2=%{z}\\u003cextra\\u003e\\u003c\\u002fextra\\u003e\",\"legendgroup\":\"nugen\",\"marker\":{\"color\":\"#00cc96\",\"symbol\":\"circle\",\"size\":4},\"mode\":\"markers\",\"name\":\"nugen\",\"scene\":\"scene\",\"showlegend\":true,\"x\":[-1.9349873,12.044887,-36.456818,2.085988,1.7081316,-7.0481415,-20.817705,15.747237,-5.412166,-12.641745,-19.21851,-0.039349563,4.1210938,45.325634,1.6194102,-1.0116458,3.2748003,-1.8087965,-0.37411714,2.7182252,2.9578755,8.328252,-5.5704923,10.84991,45.399326,-19.93409,4.115985,13.362356,-4.5479383,-7.978737,-12.789206,11.542311,0.10551551],\"y\":[16.337307,14.092064,18.961647,13.825483,38.23599,28.32226,19.154419,14.085195,12.222081,-5.5747104,19.730524,33.126392,-1.9514048,-11.763438,38.178146,37.170788,32.09022,36.98658,36.90498,-5.1026287,34.061775,7.7366347,27.303398,20.309225,28.455513,7.010335,17.624039,14.191788,26.996264,33.269577,-1.0725262,6.7501597,33.450844],\"z\":[28.240427,24.52261,32.963604,31.232525,1.358219,20.690897,29.422434,32.83367,33.722446,40.358097,30.041924,12.184591,35.425705,45.109333,2.030087,-0.10210979,14.708646,-0.008069818,4.299701,40.166363,11.456494,32.862843,15.572461,20.16669,34.72998,32.314487,31.27169,23.218136,13.847253,11.051741,40.245564,36.200363,1.4977254],\"type\":\"scatter3d\"},{\"hovertemplate\":\"prep_method_broad=nextflex96\\u003cbr\\u003eV0=%{x}\\u003cbr\\u003eV1=%{y}\\u003cbr\\u003eV2=%{z}\\u003cextra\\u003e\\u003c\\u002fextra\\u003e\",\"legendgroup\":\"nextflex96\",\"marker\":{\"color\":\"#ab63fa\",\"symbol\":\"circle\",\"size\":4},\"mode\":\"markers\",\"name\":\"nextflex96\",\"scene\":\"scene\",\"showlegend\":true,\"x\":[-1.8711159,0.5792434,0.57793885,-0.3633433,-10.898563,0.5065554,5.530804],\"y\":[38.33448,33.484875,38.164726,29.95063,20.94064,35.451,33.52878],\"z\":[5.97845,1.9031764,0.51410526,16.339909,30.248404,10.9307375,11.094069],\"type\":\"scatter3d\"},{\"hovertemplate\":\"prep_method_broad=nebnext\\u003cbr\\u003eV0=%{x}\\u003cbr\\u003eV1=%{y}\\u003cbr\\u003eV2=%{z}\\u003cextra\\u003e\\u003c\\u002fextra\\u003e\",\"legendgroup\":\"nebnext\",\"marker\":{\"color\":\"#FFA15A\",\"symbol\":\"circle\",\"size\":4},\"mode\":\"markers\",\"name\":\"nebnext\",\"scene\":\"scene\",\"showlegend\":true,\"x\":[10.241923,-2.3875654,-1.8001047,-5.725947,0.2865909,-16.767202,-34.69033,0.7170886,-1.0795249,32.504715,-21.66159,-1.2543594,13.901128,0.76744,-0.50011265,-3.13363,-1.8744941,-0.35598677,-20.673304,-18.761585,3.7869394,-0.26608053,-1.9727304,3.5120084],\"y\":[16.83607,30.57248,38.420906,36.933113,36.98993,29.044836,16.889986,37.019787,37.996243,39.552097,18.260813,36.70501,9.0894165,37.431465,37.649372,10.708086,36.74337,36.605305,2.023426,17.15311,34.46385,38.82597,37.895615,34.49967],\"z\":[31.121107,14.586186,8.299203,6.6525335,0.7182042,21.497871,33.659283,6.641961,1.3863988,17.921785,30.50508,6.0391407,32.82994,1.8746693,5.900239,33.581364,6.9959893,1.5730991,33.556305,31.08267,11.607685,0.8588752,0.22311479,12.066442],\"type\":\"scatter3d\"},{\"hovertemplate\":\"prep_method_broad=illumina_unknown\\u003cbr\\u003eV0=%{x}\\u003cbr\\u003eV1=%{y}\\u003cbr\\u003eV2=%{z}\\u003cextra\\u003e\\u003c\\u002fextra\\u003e\",\"legendgroup\":\"illumina_unknown\",\"marker\":{\"color\":\"#19d3f3\",\"symbol\":\"circle\",\"size\":4},\"mode\":\"markers\",\"name\":\"illumina_unknown\",\"scene\":\"scene\",\"showlegend\":true,\"x\":[10.368309,1.7270471,3.718165,1.2689751,-4.1612673,-21.363806,-18.806978,-1.4992744,0.6373927,-3.80651,1.7189459,-20.236649,44.82775,-25.58638,-22.736645,-13.500961,4.716274,-12.463447,18.10318,-0.630064,-0.014566121,-0.6638607,-22.28743,10.48681,2.6127048,13.288026,0.7376261,13.119222,0.43513975,-12.605513,4.8582144,11.947751,0.026607225,-4.4110966,-2.010042],\"y\":[10.559906,37.701874,33.784508,38.161587,36.266422,2.7531796,16.468025,33.06509,37.990696,28.705101,37.59454,17.190716,0.4861695,6.43347,17.44271,-5.061556,-2.0982463,17.640276,17.642397,37.959705,37.69963,37.074944,18.756964,10.873088,34.41552,2.513545,38.535454,4.651038,37.283176,-4.2591763,-3.2797263,9.281818,38.49792,26.487492,37.577003],\"z\":[34.574905,2.5184267,13.533514,7.0984383,9.864475,35.826984,31.495216,12.80448,3.8832736,17.086649,2.206502,30.36426,40.960682,37.83262,31.007475,40.193474,38.027477,30.809772,32.950325,0.46939242,3.071349,0.20361361,30.004435,33.819683,10.839102,40.125637,2.2952843,39.096806,0.91761774,40.37153,37.963413,31.433836,0.3583662,15.496124,-0.27461523],\"type\":\"scatter3d\"},{\"hovertemplate\":\"prep_method_broad=illumina_nextera\\u003cbr\\u003eV0=%{x}\\u003cbr\\u003eV1=%{y}\\u003cbr\\u003eV2=%{z}\\u003cextra\\u003e\\u003c\\u002fextra\\u003e\",\"legendgroup\":\"illumina_nextera\",\"marker\":{\"color\":\"#FF6692\",\"symbol\":\"circle\",\"size\":4},\"mode\":\"markers\",\"name\":\"illumina_nextera\",\"scene\":\"scene\",\"showlegend\":true,\"x\":[-25.54688,0.09484961,-2.802648,12.091047,-13.1770735,-19.451002,-7.9882526,1.4059222,-3.8118424,18.120234,-0.51965904,10.601521,10.562717,2.7669587,-0.42402548,-2.5791535,-14.733117,12.376069,-2.2786756,-17.992788,-0.0005038373,5.3686814,-13.325702,-3.4574704,1.421833,-2.1975164],\"y\":[28.881302,36.05156,35.831,5.1322107,-5.4327846,7.3388696,8.657477,36.98262,15.489294,20.154974,36.904877,24.60372,5.6804338,28.465458,38.666473,30.183847,-4.0106835,20.607384,39.38292,11.802929,37.4575,33.01138,-5.581738,9.060305,36.21509,35.74616],\"z\":[16.210638,10.257036,5.3407893,35.850536,41.344177,32.909157,28.476068,1.9799472,29.045252,22.080206,0.0050087245,40.161434,34.680405,38.858654,6.159621,12.078914,40.521515,25.67813,-0.76543456,49.372837,2.3735614,12.247852,40.378895,24.564522,2.4231875,8.385682],\"type\":\"scatter3d\"},{\"hovertemplate\":\"prep_method_broad=hudson\\u003cbr\\u003eV0=%{x}\\u003cbr\\u003eV1=%{y}\\u003cbr\\u003eV2=%{z}\\u003cextra\\u003e\\u003c\\u002fextra\\u003e\",\"legendgroup\":\"hudson\",\"marker\":{\"color\":\"#B6E880\",\"symbol\":\"circle\",\"size\":4},\"mode\":\"markers\",\"name\":\"hudson\",\"scene\":\"scene\",\"showlegend\":true,\"x\":[-20.332022,0.5429955,-6.9192986,18.128695,-18.568636,-5.2656116,-1.4305559,-2.8070066,4.6797533,-5.4787946,40.076553,6.1359363,-13.782734,-0.4358722,3.3032467,0.40950716,0.13620965,-0.95906436,15.111623,-0.4337814,17.530775,-3.2831738,0.23154113,-34.506855,2.2796314,-6.3457966,-0.9695792,-2.1994808],\"y\":[23.25864,38.33412,28.447126,26.918432,16.72637,30.776264,38.09368,39.083916,32.79328,27.375582,37.727196,15.691946,0.35024625,38.510895,29.305725,37.797966,37.065918,36.222084,18.265825,35.607746,28.971788,35.00953,38.194546,22.91744,34.08756,31.08234,37.551945,37.318478],\"z\":[43.4513,4.127384,17.14063,31.792868,27.473763,11.699493,-0.11225241,0.72269934,12.4946785,18.298513,27.318993,27.475468,39.560745,0.017514268,14.094942,0.67889726,0.4119723,0.684368,24.087881,1.5875041,38.20481,11.695439,0.28167677,29.765755,4.9616265,11.728903,-0.14900863,-0.17928247],\"type\":\"scatter3d\"},{\"hovertemplate\":\"prep_method_broad=roche_kapa\\u003cbr\\u003eV0=%{x}\\u003cbr\\u003eV1=%{y}\\u003cbr\\u003eV2=%{z}\\u003cextra\\u003e\\u003c\\u002fextra\\u003e\",\"legendgroup\":\"roche_kapa\",\"marker\":{\"color\":\"#FF97FF\",\"symbol\":\"circle\",\"size\":4},\"mode\":\"markers\",\"name\":\"roche_kapa\",\"scene\":\"scene\",\"showlegend\":true,\"x\":[3.5400856,34.204697,12.916748,0.11511699,-1.1136831,43.352173,-11.3256035,-14.926076,-0.8931871,-23.940691,0.63712186,14.5084505,-2.0812116,-19.268238,3.6058528,0.08548105,0.6790441,14.712078,-13.678962,-16.972647,-0.11622411,0.15134998,-19.448189,-15.583017],\"y\":[-7.367876,19.130358,13.802722,36.925728,37.525024,8.395247,-2.0274372,20.593975,-13.648564,6.823207,37.77458,10.128132,33.932938,20.082941,34.036682,38.794136,38.708202,17.62719,-6.683386,30.07918,38.38897,36.326466,1.3834841,24.19832],\"z\":[39.33782,37.72241,22.174412,0.36659732,0.32768512,44.493256,37.288685,24.050373,40.95432,35.93386,2.5259924,33.036926,12.906729,30.879837,12.163426,0.6021076,2.3215442,30.952835,39.872242,20.896572,1.7224538,0.72567797,32.80111,25.025846],\"type\":\"scatter3d\"}],                        {\"template\":{\"data\":{\"histogram2dcontour\":[{\"type\":\"histogram2dcontour\",\"colorbar\":{\"outlinewidth\":0,\"ticks\":\"\"},\"colorscale\":[[0.0,\"#0d0887\"],[0.1111111111111111,\"#46039f\"],[0.2222222222222222,\"#7201a8\"],[0.3333333333333333,\"#9c179e\"],[0.4444444444444444,\"#bd3786\"],[0.5555555555555556,\"#d8576b\"],[0.6666666666666666,\"#ed7953\"],[0.7777777777777778,\"#fb9f3a\"],[0.8888888888888888,\"#fdca26\"],[1.0,\"#f0f921\"]]}],\"choropleth\":[{\"type\":\"choropleth\",\"colorbar\":{\"outlinewidth\":0,\"ticks\":\"\"}}],\"histogram2d\":[{\"type\":\"histogram2d\",\"colorbar\":{\"outlinewidth\":0,\"ticks\":\"\"},\"colorscale\":[[0.0,\"#0d0887\"],[0.1111111111111111,\"#46039f\"],[0.2222222222222222,\"#7201a8\"],[0.3333333333333333,\"#9c179e\"],[0.4444444444444444,\"#bd3786\"],[0.5555555555555556,\"#d8576b\"],[0.6666666666666666,\"#ed7953\"],[0.7777777777777778,\"#fb9f3a\"],[0.8888888888888888,\"#fdca26\"],[1.0,\"#f0f921\"]]}],\"heatmap\":[{\"type\":\"heatmap\",\"colorbar\":{\"outlinewidth\":0,\"ticks\":\"\"},\"colorscale\":[[0.0,\"#0d0887\"],[0.1111111111111111,\"#46039f\"],[0.2222222222222222,\"#7201a8\"],[0.3333333333333333,\"#9c179e\"],[0.4444444444444444,\"#bd3786\"],[0.5555555555555556,\"#d8576b\"],[0.6666666666666666,\"#ed7953\"],[0.7777777777777778,\"#fb9f3a\"],[0.8888888888888888,\"#fdca26\"],[1.0,\"#f0f921\"]]}],\"heatmapgl\":[{\"type\":\"heatmapgl\",\"colorbar\":{\"outlinewidth\":0,\"ticks\":\"\"},\"colorscale\":[[0.0,\"#0d0887\"],[0.1111111111111111,\"#46039f\"],[0.2222222222222222,\"#7201a8\"],[0.3333333333333333,\"#9c179e\"],[0.4444444444444444,\"#bd3786\"],[0.5555555555555556,\"#d8576b\"],[0.6666666666666666,\"#ed7953\"],[0.7777777777777778,\"#fb9f3a\"],[0.8888888888888888,\"#fdca26\"],[1.0,\"#f0f921\"]]}],\"contourcarpet\":[{\"type\":\"contourcarpet\",\"colorbar\":{\"outlinewidth\":0,\"ticks\":\"\"}}],\"contour\":[{\"type\":\"contour\",\"colorbar\":{\"outlinewidth\":0,\"ticks\":\"\"},\"colorscale\":[[0.0,\"#0d0887\"],[0.1111111111111111,\"#46039f\"],[0.2222222222222222,\"#7201a8\"],[0.3333333333333333,\"#9c179e\"],[0.4444444444444444,\"#bd3786\"],[0.5555555555555556,\"#d8576b\"],[0.6666666666666666,\"#ed7953\"],[0.7777777777777778,\"#fb9f3a\"],[0.8888888888888888,\"#fdca26\"],[1.0,\"#f0f921\"]]}],\"surface\":[{\"type\":\"surface\",\"colorbar\":{\"outlinewidth\":0,\"ticks\":\"\"},\"colorscale\":[[0.0,\"#0d0887\"],[0.1111111111111111,\"#46039f\"],[0.2222222222222222,\"#7201a8\"],[0.3333333333333333,\"#9c179e\"],[0.4444444444444444,\"#bd3786\"],[0.5555555555555556,\"#d8576b\"],[0.6666666666666666,\"#ed7953\"],[0.7777777777777778,\"#fb9f3a\"],[0.8888888888888888,\"#fdca26\"],[1.0,\"#f0f921\"]]}],\"mesh3d\":[{\"type\":\"mesh3d\",\"colorbar\":{\"outlinewidth\":0,\"ticks\":\"\"}}],\"scatter\":[{\"fillpattern\":{\"fillmode\":\"overlay\",\"size\":10,\"solidity\":0.2},\"type\":\"scatter\"}],\"parcoords\":[{\"type\":\"parcoords\",\"line\":{\"colorbar\":{\"outlinewidth\":0,\"ticks\":\"\"}}}],\"scatterpolargl\":[{\"type\":\"scatterpolargl\",\"marker\":{\"colorbar\":{\"outlinewidth\":0,\"ticks\":\"\"}}}],\"bar\":[{\"error_x\":{\"color\":\"#2a3f5f\"},\"error_y\":{\"color\":\"#2a3f5f\"},\"marker\":{\"line\":{\"color\":\"#E5ECF6\",\"width\":0.5},\"pattern\":{\"fillmode\":\"overlay\",\"size\":10,\"solidity\":0.2}},\"type\":\"bar\"}],\"scattergeo\":[{\"type\":\"scattergeo\",\"marker\":{\"colorbar\":{\"outlinewidth\":0,\"ticks\":\"\"}}}],\"scatterpolar\":[{\"type\":\"scatterpolar\",\"marker\":{\"colorbar\":{\"outlinewidth\":0,\"ticks\":\"\"}}}],\"histogram\":[{\"marker\":{\"pattern\":{\"fillmode\":\"overlay\",\"size\":10,\"solidity\":0.2}},\"type\":\"histogram\"}],\"scattergl\":[{\"type\":\"scattergl\",\"marker\":{\"colorbar\":{\"outlinewidth\":0,\"ticks\":\"\"}}}],\"scatter3d\":[{\"type\":\"scatter3d\",\"line\":{\"colorbar\":{\"outlinewidth\":0,\"ticks\":\"\"}},\"marker\":{\"colorbar\":{\"outlinewidth\":0,\"ticks\":\"\"}}}],\"scattermapbox\":[{\"type\":\"scattermapbox\",\"marker\":{\"colorbar\":{\"outlinewidth\":0,\"ticks\":\"\"}}}],\"scatterternary\":[{\"type\":\"scatterternary\",\"marker\":{\"colorbar\":{\"outlinewidth\":0,\"ticks\":\"\"}}}],\"scattercarpet\":[{\"type\":\"scattercarpet\",\"marker\":{\"colorbar\":{\"outlinewidth\":0,\"ticks\":\"\"}}}],\"carpet\":[{\"aaxis\":{\"endlinecolor\":\"#2a3f5f\",\"gridcolor\":\"white\",\"linecolor\":\"white\",\"minorgridcolor\":\"white\",\"startlinecolor\":\"#2a3f5f\"},\"baxis\":{\"endlinecolor\":\"#2a3f5f\",\"gridcolor\":\"white\",\"linecolor\":\"white\",\"minorgridcolor\":\"white\",\"startlinecolor\":\"#2a3f5f\"},\"type\":\"carpet\"}],\"table\":[{\"cells\":{\"fill\":{\"color\":\"#EBF0F8\"},\"line\":{\"color\":\"white\"}},\"header\":{\"fill\":{\"color\":\"#C8D4E3\"},\"line\":{\"color\":\"white\"}},\"type\":\"table\"}],\"barpolar\":[{\"marker\":{\"line\":{\"color\":\"#E5ECF6\",\"width\":0.5},\"pattern\":{\"fillmode\":\"overlay\",\"size\":10,\"solidity\":0.2}},\"type\":\"barpolar\"}],\"pie\":[{\"automargin\":true,\"type\":\"pie\"}]},\"layout\":{\"autotypenumbers\":\"strict\",\"colorway\":[\"#636efa\",\"#EF553B\",\"#00cc96\",\"#ab63fa\",\"#FFA15A\",\"#19d3f3\",\"#FF6692\",\"#B6E880\",\"#FF97FF\",\"#FECB52\"],\"font\":{\"color\":\"#2a3f5f\"},\"hovermode\":\"closest\",\"hoverlabel\":{\"align\":\"left\"},\"paper_bgcolor\":\"white\",\"plot_bgcolor\":\"#E5ECF6\",\"polar\":{\"bgcolor\":\"#E5ECF6\",\"angularaxis\":{\"gridcolor\":\"white\",\"linecolor\":\"white\",\"ticks\":\"\"},\"radialaxis\":{\"gridcolor\":\"white\",\"linecolor\":\"white\",\"ticks\":\"\"}},\"ternary\":{\"bgcolor\":\"#E5ECF6\",\"aaxis\":{\"gridcolor\":\"white\",\"linecolor\":\"white\",\"ticks\":\"\"},\"baxis\":{\"gridcolor\":\"white\",\"linecolor\":\"white\",\"ticks\":\"\"},\"caxis\":{\"gridcolor\":\"white\",\"linecolor\":\"white\",\"ticks\":\"\"}},\"coloraxis\":{\"colorbar\":{\"outlinewidth\":0,\"ticks\":\"\"}},\"colorscale\":{\"sequential\":[[0.0,\"#0d0887\"],[0.1111111111111111,\"#46039f\"],[0.2222222222222222,\"#7201a8\"],[0.3333333333333333,\"#9c179e\"],[0.4444444444444444,\"#bd3786\"],[0.5555555555555556,\"#d8576b\"],[0.6666666666666666,\"#ed7953\"],[0.7777777777777778,\"#fb9f3a\"],[0.8888888888888888,\"#fdca26\"],[1.0,\"#f0f921\"]],\"sequentialminus\":[[0.0,\"#0d0887\"],[0.1111111111111111,\"#46039f\"],[0.2222222222222222,\"#7201a8\"],[0.3333333333333333,\"#9c179e\"],[0.4444444444444444,\"#bd3786\"],[0.5555555555555556,\"#d8576b\"],[0.6666666666666666,\"#ed7953\"],[0.7777777777777778,\"#fb9f3a\"],[0.8888888888888888,\"#fdca26\"],[1.0,\"#f0f921\"]],\"diverging\":[[0,\"#8e0152\"],[0.1,\"#c51b7d\"],[0.2,\"#de77ae\"],[0.3,\"#f1b6da\"],[0.4,\"#fde0ef\"],[0.5,\"#f7f7f7\"],[0.6,\"#e6f5d0\"],[0.7,\"#b8e186\"],[0.8,\"#7fbc41\"],[0.9,\"#4d9221\"],[1,\"#276419\"]]},\"xaxis\":{\"gridcolor\":\"white\",\"linecolor\":\"white\",\"ticks\":\"\",\"title\":{\"standoff\":15},\"zerolinecolor\":\"white\",\"automargin\":true,\"zerolinewidth\":2},\"yaxis\":{\"gridcolor\":\"white\",\"linecolor\":\"white\",\"ticks\":\"\",\"title\":{\"standoff\":15},\"zerolinecolor\":\"white\",\"automargin\":true,\"zerolinewidth\":2},\"scene\":{\"xaxis\":{\"backgroundcolor\":\"#E5ECF6\",\"gridcolor\":\"white\",\"linecolor\":\"white\",\"showbackground\":true,\"ticks\":\"\",\"zerolinecolor\":\"white\",\"gridwidth\":2},\"yaxis\":{\"backgroundcolor\":\"#E5ECF6\",\"gridcolor\":\"white\",\"linecolor\":\"white\",\"showbackground\":true,\"ticks\":\"\",\"zerolinecolor\":\"white\",\"gridwidth\":2},\"zaxis\":{\"backgroundcolor\":\"#E5ECF6\",\"gridcolor\":\"white\",\"linecolor\":\"white\",\"showbackground\":true,\"ticks\":\"\",\"zerolinecolor\":\"white\",\"gridwidth\":2}},\"shapedefaults\":{\"line\":{\"color\":\"#2a3f5f\"}},\"annotationdefaults\":{\"arrowcolor\":\"#2a3f5f\",\"arrowhead\":0,\"arrowwidth\":1},\"geo\":{\"bgcolor\":\"white\",\"landcolor\":\"#E5ECF6\",\"subunitcolor\":\"white\",\"showland\":true,\"showlakes\":true,\"lakecolor\":\"white\"},\"title\":{\"x\":0.05},\"mapbox\":{\"style\":\"light\"}}},\"scene\":{\"domain\":{\"x\":[0.0,1.0],\"y\":[0.0,1.0]},\"xaxis\":{\"title\":{\"text\":\"V0\"}},\"yaxis\":{\"title\":{\"text\":\"V1\"}},\"zaxis\":{\"title\":{\"text\":\"V2\"}}},\"legend\":{\"title\":{\"text\":\"prep_method_broad\"},\"tracegroupgap\":0},\"margin\":{\"t\":60}},                        {\"responsive\": true}                    ).then(function(){\n",
       "                            \n",
       "var gd = document.getElementById('70c61ca9-32e5-4ed3-b649-2bcbe3bf05bd');\n",
       "var x = new MutationObserver(function (mutations, observer) {{\n",
       "        var display = window.getComputedStyle(gd).display;\n",
       "        if (!display || display === 'none') {{\n",
       "            console.log([gd, 'removed!']);\n",
       "            Plotly.purge(gd);\n",
       "            observer.disconnect();\n",
       "        }}\n",
       "}});\n",
       "\n",
       "// Listen for the removal of the full notebook cells\n",
       "var notebookContainer = gd.closest('#notebook-container');\n",
       "if (notebookContainer) {{\n",
       "    x.observe(notebookContainer, {childList: true});\n",
       "}}\n",
       "\n",
       "// Listen for the clearing of the current output cell\n",
       "var outputEl = gd.closest('.output');\n",
       "if (outputEl) {{\n",
       "    x.observe(outputEl, {childList: true});\n",
       "}}\n",
       "\n",
       "                        })                };                });            </script>        </div>"
      ]
     },
     "metadata": {},
     "output_type": "display_data"
    }
   ],
   "source": [
    "import plotly.express as px\n",
    "\n",
    "# Plotting\n",
    "fig = px.scatter_3d(\n",
    "    scvi_representation_coordinates_merged,\n",
    "    x='V0',\n",
    "    y='V1',\n",
    "    z='V2',\n",
    "    color= 'prep_method_broad'\n",
    "    # symbol = 'prep_method_broad'\n",
    ")\n",
    "\n",
    "# Adjusting marker size\n",
    "fig.update_traces(marker=dict(size=4))\n",
    "\n",
    "# Show the plot\n",
    "fig.show()"
   ]
  }
 ],
 "metadata": {
  "kernelspec": {
   "display_name": "Python 3 (ipykernel)",
   "language": "python",
   "name": "python3"
  },
  "language_info": {
   "codemirror_mode": {
    "name": "ipython",
    "version": 3
   },
   "file_extension": ".py",
   "mimetype": "text/x-python",
   "name": "python",
   "nbconvert_exporter": "python",
   "pygments_lexer": "ipython3",
   "version": "3.10.4"
  }
 },
 "nbformat": 4,
 "nbformat_minor": 5
}
